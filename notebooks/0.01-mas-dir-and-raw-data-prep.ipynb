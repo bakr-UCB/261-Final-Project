{
 "cells": [
  {
   "cell_type": "code",
   "execution_count": 0,
   "metadata": {
    "application/vnd.databricks.v1+cell": {
     "cellMetadata": {
      "byteLimit": 2048000,
      "rowLimit": 10000
     },
     "inputWidgets": {},
     "nuid": "495457e1-c855-4d95-8323-e91e90e4fe47",
     "showTitle": false,
     "tableResultSettingsMap": {},
     "title": ""
    }
   },
   "outputs": [],
   "source": [
    "import sys\n",
    "\n",
    "sys.path.append('/Workspace/Users/m.bakr@berkeley.edu/261-Final-Project/flightdelays/')\n",
    "from utils import lst_files_r\n",
    "from dataset import testfunc\n"
   ]
  },
  {
   "cell_type": "code",
   "execution_count": 0,
   "metadata": {
    "application/vnd.databricks.v1+cell": {
     "cellMetadata": {
      "byteLimit": 2048000,
      "rowLimit": 10000
     },
     "inputWidgets": {},
     "nuid": "8964a91f-1900-4d78-b431-3cbd72a3eee5",
     "showTitle": false,
     "tableResultSettingsMap": {},
     "title": ""
    }
   },
   "outputs": [],
   "source": [
    "import os\n",
    "print(os.listdir('/Workspace/Users/m.bakr@berkeley.edu/261-Final-Project/flightdelays'))"
   ]
  },
  {
   "cell_type": "code",
   "execution_count": 0,
   "metadata": {
    "application/vnd.databricks.v1+cell": {
     "cellMetadata": {
      "byteLimit": 2048000,
      "rowLimit": 10000
     },
     "inputWidgets": {},
     "nuid": "59af87ea-8b99-4e13-afa2-8b6afb285c45",
     "showTitle": false,
     "tableResultSettingsMap": {},
     "title": ""
    }
   },
   "outputs": [],
   "source": [
    "data_BASE_DIR = \"dbfs:/mnt/mids-w261/\"\n",
    "display(dbutils.fs.ls(f\"{data_BASE_DIR}/datasets_final_project_2022/\"))"
   ]
  },
  {
   "cell_type": "code",
   "execution_count": 0,
   "metadata": {
    "application/vnd.databricks.v1+cell": {
     "cellMetadata": {
      "byteLimit": 2048000,
      "rowLimit": 10000
     },
     "inputWidgets": {},
     "nuid": "86c5c9fb-dac0-48dd-ae44-f3ff78efccdb",
     "showTitle": false,
     "tableResultSettingsMap": {},
     "title": ""
    }
   },
   "outputs": [],
   "source": [
    "team_BASE_DIR = f\"dbfs:/student-groups/Group_4_1\"\n",
    "display(dbutils.fs.ls(f\"{team_BASE_DIR}\"))"
   ]
  },
  {
   "cell_type": "code",
   "execution_count": 0,
   "metadata": {
    "application/vnd.databricks.v1+cell": {
     "cellMetadata": {
      "byteLimit": 2048000,
      "rowLimit": 10000
     },
     "inputWidgets": {},
     "nuid": "f7313cca-a3b5-4ccb-84a6-bf9e10e09863",
     "showTitle": false,
     "tableResultSettingsMap": {},
     "title": ""
    }
   },
   "outputs": [],
   "source": [
    "# creating folders as per the checkpointing strategy (No need to rerun again)\n",
    "dbutils.fs.mkdirs(f\"{team_BASE_DIR}/raw\")\n",
    "dbutils.fs.mkdirs(f\"{team_BASE_DIR}/interim\")\n",
    "dbutils.fs.mkdirs(f\"{team_BASE_DIR}/processed\")\n",
    "dbutils.fs.mkdirs(f\"{team_BASE_DIR}/external\") # for external data not in the original data folder"
   ]
  },
  {
   "cell_type": "code",
   "execution_count": 0,
   "metadata": {
    "application/vnd.databricks.v1+cell": {
     "cellMetadata": {
      "byteLimit": 2048000,
      "rowLimit": 10000
     },
     "inputWidgets": {},
     "nuid": "1e278d94-1990-4b6c-ac32-ca5761dd07f4",
     "showTitle": false,
     "tableResultSettingsMap": {},
     "title": ""
    }
   },
   "outputs": [],
   "source": [
    "# Refresh raw data to the raw folders reading from the source (don't rerun unless there is an updated raw datasets)\n",
    "\n",
    "# flight data\n",
    "dbutils.fs.cp(f\"{data_BASE_DIR}/datasets_final_project_2022/parquet_airlines_data_3m/\", f\"{team_BASE_DIR}/raw/flightdelays/parquet_airlines_data_3m\", recurse=True)\n",
    "\n",
    "# Weather data\n",
    "dbutils.fs.cp(f\"{data_BASE_DIR}/datasets_final_project_2022/parquet_weather_data_3m/\", f\"{team_BASE_DIR}/raw/weather/parquet_weather_data_3m\", recurse=True)\n",
    "\n",
    "# Airport data (stations)\n",
    "dbutils.fs.cp(f\"{data_BASE_DIR}/datasets_final_project_2022/stations_data/\", f\"{team_BASE_DIR}/raw/stations\", recurse=True)\n",
    "\n",
    "# OTPW data\n",
    "qdf_otpw = spark.read.format(\"csv\").option(\"header\",\"true\").load(f\"dbfs:/mnt/mids-w261/OTPW_3M_2015.csv\")\n",
    "qdf_otpw.write.mode(\"overwrite\").parquet(f\"{team_BASE_DIR}/raw/OTPW/OTPW_3M_2015.parquet\")"
   ]
  },
  {
   "cell_type": "code",
   "execution_count": 0,
   "metadata": {
    "application/vnd.databricks.v1+cell": {
     "cellMetadata": {
      "byteLimit": 2048000,
      "rowLimit": 10000
     },
     "inputWidgets": {},
     "nuid": "fe81fec4-be25-4198-832a-bb67a543d541",
     "showTitle": false,
     "tableResultSettingsMap": {},
     "title": ""
    }
   },
   "outputs": [],
   "source": [
    "# Airport codes Table (no need to rerun unless there is an updated raw datasets)\n",
    "url = \"https://raw.githubusercontent.com/datasets/airport-codes/refs/heads/main/data/airport-codes.csv\"\n",
    "import pandas as pd\n",
    "airport_codes = pd.read_csv(url)\n",
    "\n",
    "# saving as parquet file for future use\n",
    "spark.createDataFrame(airport_codes).write.mode(\"overwrite\").parquet(f\"{team_BASE_DIR}/external/airport_codes.parquet/\")"
   ]
  },
  {
   "cell_type": "code",
   "execution_count": 0,
   "metadata": {
    "application/vnd.databricks.v1+cell": {
     "cellMetadata": {},
     "inputWidgets": {},
     "nuid": "3de40b81-349e-4fb0-abca-1ed7dbf4b75c",
     "showTitle": false,
     "tableResultSettingsMap": {},
     "title": ""
    }
   },
   "outputs": [],
   "source": []
  }
 ],
 "metadata": {
  "application/vnd.databricks.v1+notebook": {
   "computePreferences": null,
   "dashboards": [],
   "environmentMetadata": {
    "base_environment": "",
    "environment_version": "2"
   },
   "inputWidgetPreferences": null,
   "language": "python",
   "notebookMetadata": {
    "pythonIndentUnit": 4
   },
   "notebookName": "0.01-mas-dir-and-raw-data-prep",
   "widgets": {}
  },
  "language_info": {
   "name": "python"
  }
 },
 "nbformat": 4,
 "nbformat_minor": 0
}
