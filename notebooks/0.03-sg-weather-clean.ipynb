{
 "cells": [
  {
   "cell_type": "markdown",
   "metadata": {
    "application/vnd.databricks.v1+cell": {
     "cellMetadata": {
      "byteLimit": 2048000,
      "rowLimit": 10000
     },
     "inputWidgets": {},
     "nuid": "cf9ce0b3-0b99-4afa-90fe-c254d24f1cad",
     "showTitle": false,
     "tableResultSettingsMap": {},
     "title": ""
    }
   },
   "source": [
    "# Setup"
   ]
  },
  {
   "cell_type": "code",
   "execution_count": 0,
   "metadata": {
    "application/vnd.databricks.v1+cell": {
     "cellMetadata": {
      "byteLimit": 2048000,
      "rowLimit": 10000
     },
     "inputWidgets": {},
     "nuid": "793e6fb6-9710-4a9d-a4e3-d87254a5252f",
     "showTitle": false,
     "tableResultSettingsMap": {},
     "title": ""
    }
   },
   "outputs": [],
   "source": [
    "!pip install timezonefinder"
   ]
  },
  {
   "cell_type": "code",
   "execution_count": 0,
   "metadata": {
    "application/vnd.databricks.v1+cell": {
     "cellMetadata": {
      "byteLimit": 2048000,
      "rowLimit": 10000
     },
     "inputWidgets": {},
     "nuid": "a5385ee4-3fa9-401b-b6b3-bb507a99129e",
     "showTitle": false,
     "tableResultSettingsMap": {},
     "title": ""
    }
   },
   "outputs": [],
   "source": [
    "import pyspark.sql.functions as F\n",
    "from pyspark.sql.functions import col,isnan, when, count, concat_ws, countDistinct, collect_set, rank, window, avg, hour, udf\n",
    "import matplotlib.pyplot as plt\n",
    "import pandas as pd\n",
    "import re\n",
    "import numpy as np\n",
    "from pyspark.sql import types\n",
    "from pyspark.sql.types import *\n",
    "from pyspark.sql import Window\n",
    "from itertools import combinations\n",
    "from timezonefinder import TimezoneFinder\n",
    "import pytz\n",
    "from datetime import datetime\n",
    "\n",
    "\n",
    "data_BASE_DIR = \"dbfs:/mnt/mids-w261/\"\n",
    "display(dbutils.fs.ls(f\"{data_BASE_DIR}\")) #note the other possible samples we can use like 1 day"
   ]
  },
  {
   "cell_type": "code",
   "execution_count": 0,
   "metadata": {
    "application/vnd.databricks.v1+cell": {
     "cellMetadata": {
      "byteLimit": 2048000,
      "rowLimit": 10000
     },
     "inputWidgets": {},
     "nuid": "8b9251a5-1f6c-4ba9-93a4-c2ddf0b66730",
     "showTitle": false,
     "tableResultSettingsMap": {},
     "title": ""
    }
   },
   "outputs": [],
   "source": [
    "\n",
    "ydf = spark.read.parquet(f\"dbfs:/mnt/mids-w261/datasets_final_project_2022/parquet_weather_data_1y/\")\n",
    "\n",
    "mshr = pd.read_csv('mshr_standard.txt',sep='\\t') #via https://www.ncei.noaa.gov/access/homr/reports"
   ]
  },
  {
   "cell_type": "code",
   "execution_count": 0,
   "metadata": {
    "application/vnd.databricks.v1+cell": {
     "cellMetadata": {
      "byteLimit": 2048000,
      "rowLimit": 10000
     },
     "inputWidgets": {},
     "nuid": "d40cc7f6-c1e3-4d3e-bc18-dc13bef95bcb",
     "showTitle": false,
     "tableResultSettingsMap": {},
     "title": ""
    }
   },
   "outputs": [],
   "source": [
    "stations = spark.read.parquet(f\"dbfs:/mnt/mids-w261/datasets_final_project_2022/stations_data/*\")\n"
   ]
  },
  {
   "cell_type": "code",
   "execution_count": 0,
   "metadata": {
    "application/vnd.databricks.v1+cell": {
     "cellMetadata": {
      "byteLimit": 2048000,
      "rowLimit": 10000
     },
     "inputWidgets": {},
     "nuid": "c599d5fd-2778-48fd-958e-f1ec868a5de4",
     "showTitle": false,
     "tableResultSettingsMap": {},
     "title": ""
    }
   },
   "outputs": [],
   "source": [
    "qdf = spark.read.parquet(f\"dbfs:/mnt/mids-w261/datasets_final_project_2022/parquet_weather_data_3m/\")\n",
    "mshr = pd.read_csv('mshr_standard.txt',sep='\\t') #via https://www.ncei.noaa.gov/access/homr/reports\n"
   ]
  },
  {
   "cell_type": "markdown",
   "metadata": {
    "application/vnd.databricks.v1+cell": {
     "cellMetadata": {
      "byteLimit": 2048000,
      "rowLimit": 10000
     },
     "inputWidgets": {},
     "nuid": "23fdfa4a-fb04-4b32-a27a-c63b7c44acd6",
     "showTitle": false,
     "tableResultSettingsMap": {},
     "title": ""
    }
   },
   "source": [
    "## Clean MSHR"
   ]
  },
  {
   "cell_type": "code",
   "execution_count": 0,
   "metadata": {
    "application/vnd.databricks.v1+cell": {
     "cellMetadata": {
      "byteLimit": 2048000,
      "rowLimit": 10000
     },
     "inputWidgets": {},
     "nuid": "41f233c7-b044-40da-af85-42a12736278f",
     "showTitle": false,
     "tableResultSettingsMap": {},
     "title": ""
    }
   },
   "outputs": [],
   "source": [
    "def parse_fixed_width(row):\n",
    "    return {\n",
    "        \"station_id\": row[:8].strip(),\n",
    "        \"record_type\": row[9:11].strip(),\n",
    "        \"coop_station_id\": row[12:18].strip(),\n",
    "        \"climate_division\": row[19:21].strip(),\n",
    "        \"WBAN_ID\": row[22:27].strip(),\n",
    "        \"WMO_ID\": row[28:33].strip(),\n",
    "        \"FAA_ID\": row[34:39].strip(),\n",
    "        \"NWS_ID\": row[40:44].strip(),\n",
    "        \"ICAO_ID\": row[45:49].strip(),\n",
    "        \"country\": row[50:70].strip(),\n",
    "        \"state_FIPS\": row[71:73].strip(),\n",
    "        \"county\": row[74:104].strip(),\n",
    "        \"time_zone\": row[105:110].strip(),\n",
    "        \"coop_station_name\": row[111:141].strip(),\n",
    "        \"principal_station_name\": row[142:172].strip(),\n",
    "        \"begin_date\": row[173:181].strip(),\n",
    "        \"end_date\": row[182:191].strip(),\n",
    "        \"lat_deg\": row[192:194].strip(),\n",
    "        \"lat_min\": row[195:197].strip(),\n",
    "        \"lat_sec\": row[198:200].strip(),\n",
    "        \"lon_deg\": row[201:205].strip(),\n",
    "        \"lon_min\": row[206:208].strip(),\n",
    "        \"lon_sec\": row[209:211].strip(),\n",
    "        \"latlon_precision\": row[212:219].strip(),\n",
    "        \"ground_elevation\": row[219:225].strip(),\n",
    "        \"elevation_other\": row[226:229].strip(),\n",
    "        \"elevation_other_type\": row[230:231].strip(),\n",
    "        \"station_relocation\": row[232:243].strip(),\n",
    "        \"station_types\": row[244:].strip(),\n",
    "    }\n",
    "\n",
    "\n",
    "parsed_rows = [parse_fixed_width(mshr.iloc[i, 0]) for i in range(len(mshr))]\n",
    "\n",
    "max_cols = max(len(row) for row in parsed_rows)\n",
    "\n",
    "mshr_parse = pd.DataFrame(parsed_rows)"
   ]
  },
  {
   "cell_type": "code",
   "execution_count": 0,
   "metadata": {
    "application/vnd.databricks.v1+cell": {
     "cellMetadata": {
      "byteLimit": 2048000,
      "rowLimit": 10000
     },
     "inputWidgets": {},
     "nuid": "a328dd20-1cce-46c4-a8df-f3237feead8a",
     "showTitle": false,
     "tableResultSettingsMap": {},
     "title": ""
    }
   },
   "outputs": [],
   "source": [
    "territory_FIPS = ['AS','GU','MP','PR','UM','VI']  #via https://www.census.gov/library/reference/code-lists/ansi.html#states\n",
    "\n",
    "mshr_parse['end_date'] = mshr_parse['end_date'].apply(\n",
    "    lambda x: pd.to_datetime('2025' + x[4:]) if x.startswith('9999') else pd.to_datetime(x)\n",
    ")\n",
    "\n",
    "mshr_parse['begin_date']=pd.to_datetime(mshr_parse['begin_date'], errors='coerce')\n",
    "\n",
    "mshr_parse['latlon_precision']=mshr_parse['latlon_precision'].apply(lambda x: x[:3].strip(' '))\n",
    "\n",
    "mshr_parse['lat_deg']=pd.to_numeric(mshr_parse['lat_deg'])\n",
    "mshr_parse['lat_min']=pd.to_numeric(mshr_parse['lat_min'],errors='raise')\n",
    "mshr_parse['lat_sec']=pd.to_numeric(mshr_parse['lat_sec'],errors='raise')\n",
    "\n",
    "mshr_parse['lon_deg']=pd.to_numeric(mshr_parse['lon_deg'],errors='raise')\n",
    "mshr_parse['lon_min']=pd.to_numeric(mshr_parse['lon_min'],errors='raise')\n",
    "mshr_parse['lon_sec']=pd.to_numeric(mshr_parse['lon_sec'],errors='raise')\n",
    "\n",
    "mshr_parse['lat_dd']= mshr_parse.apply(\n",
    "    lambda row: (row['lat_deg'] + row['lat_min']/60 + row['lat_sec']/3600), \n",
    "                axis=1)\n",
    "\n",
    "mshr_parse['lon_dd']= mshr_parse.apply(\n",
    "    lambda row: (row['lon_deg'] + row['lon_min']/60 + row['lon_sec']/3600), \n",
    "                axis=1)\n",
    "\n",
    "\n",
    "mshr_us= mshr_parse[(mshr_parse['state_FIPS'].isin(territory_FIPS)) | (mshr_parse['country'] == 'UNITED STATES')]\n",
    "\n",
    "mshr_us = mshr_us[mshr_us['end_date'] >= pd.to_datetime('20150101')] #only stations that were functioning at the time of flights dataset\n",
    "\n",
    "mshr_df = spark.createDataFrame(mshr_us)\n",
    "\n",
    "#rename MSHR columns to match YDF where relevant\n",
    "mshr_df=mshr_df.withColumnsRenamed({'lat_dd':'LATITUDE', \n",
    "                                    'lon_dd':'LONGITUDE', \n",
    "                                    'principal_station_name':'NAME',\n",
    "                                    'country':'COUNTRY'})\n",
    "\n",
    "\n",
    "\n"
   ]
  },
  {
   "cell_type": "code",
   "execution_count": 0,
   "metadata": {
    "application/vnd.databricks.v1+cell": {
     "cellMetadata": {
      "byteLimit": 2048000,
      "rowLimit": 10000
     },
     "inputWidgets": {},
     "nuid": "4d2fd5fc-6ec0-4810-9c9b-f607a1426911",
     "showTitle": false,
     "tableResultSettingsMap": {},
     "title": ""
    }
   },
   "outputs": [],
   "source": [
    "mshr_df.columns"
   ]
  },
  {
   "cell_type": "markdown",
   "metadata": {
    "application/vnd.databricks.v1+cell": {
     "cellMetadata": {},
     "inputWidgets": {},
     "nuid": "785c04eb-61f6-41e1-a3b0-c7ef486e6b2e",
     "showTitle": false,
     "tableResultSettingsMap": {},
     "title": ""
    }
   },
   "source": []
  },
  {
   "cell_type": "markdown",
   "metadata": {
    "application/vnd.databricks.v1+cell": {
     "cellMetadata": {
      "byteLimit": 2048000,
      "rowLimit": 10000
     },
     "inputWidgets": {},
     "nuid": "70217b5c-cd8c-48c7-9b88-da1ecce78759",
     "showTitle": false,
     "tableResultSettingsMap": {},
     "title": ""
    }
   },
   "source": [
    "# Location Nulls"
   ]
  },
  {
   "cell_type": "code",
   "execution_count": 0,
   "metadata": {
    "application/vnd.databricks.v1+cell": {
     "cellMetadata": {
      "byteLimit": 2048000,
      "rowLimit": 10000
     },
     "inputWidgets": {},
     "nuid": "a45a2512-5668-4d9f-89fe-bd8a17511d69",
     "showTitle": false,
     "tableResultSettingsMap": {},
     "title": ""
    }
   },
   "outputs": [],
   "source": [
    "ydf=ydf.withColumn(\"WBAN\",F.col('STATION').substr(-5, 5))\n",
    "ydf_country=ydf.withColumn(\"COUNTRY\",F.col('NAME').substr(-2, 2))"
   ]
  },
  {
   "cell_type": "code",
   "execution_count": 0,
   "metadata": {
    "application/vnd.databricks.v1+cell": {
     "cellMetadata": {
      "byteLimit": 2048000,
      "rowLimit": 10000
     },
     "inputWidgets": {},
     "nuid": "cc2277b9-8d2f-4b7b-829c-c31adec5dac9",
     "showTitle": false,
     "tableResultSettingsMap": {},
     "title": ""
    }
   },
   "outputs": [],
   "source": [
    "\n",
    "#make ICAO lookup table for when we can't match the WBAN to MSHR df to find the geoloc\n",
    "ICAO_lookup = ydf_country.filter(F.col('REM').isNotNull()) \\\n",
    "                        .filter(\n",
    "                            (F.col('REM').contains('METAR')) |\n",
    "                            (F.col('REM').contains('SPECI'))\n",
    "                         ) \\\n",
    "                        .withColumn(\"row_num\", \n",
    "                                    F.row_number().over(\n",
    "                                        Window.partitionBy('STATION')\n",
    "                                        .orderBy(F.col(\"STATION\").desc())\n",
    "                                    )) \\\n",
    "                        .filter(F.col('row_num') == 1) \\\n",
    "                        .drop(F.col('row_num')) \\\n",
    "                        .withColumn(\"ICAO_ID\", \n",
    "                                    F.regexp_extract(F.col(\"REM\"), \n",
    "                                                     r\"(?:METAR|SPECI)\\s(\\S+)\", 1))\n",
    "\n",
    "\n",
    "display(ICAO_lookup)"
   ]
  },
  {
   "cell_type": "code",
   "execution_count": 0,
   "metadata": {
    "application/vnd.databricks.v1+cell": {
     "cellMetadata": {
      "byteLimit": 2048000,
      "rowLimit": 10000
     },
     "inputWidgets": {},
     "nuid": "9a97eae9-8d4e-449b-b63e-25db6f55d401",
     "showTitle": false,
     "tableResultSettingsMap": {},
     "title": ""
    }
   },
   "outputs": [],
   "source": [
    "display(ICAO_lookup)"
   ]
  },
  {
   "cell_type": "code",
   "execution_count": 0,
   "metadata": {
    "application/vnd.databricks.v1+cell": {
     "cellMetadata": {
      "byteLimit": 2048000,
      "rowLimit": 10000
     },
     "inputWidgets": {},
     "nuid": "96ac82f6-e30d-467e-9d3c-7e6023d37310",
     "showTitle": false,
     "tableResultSettingsMap": {},
     "title": ""
    }
   },
   "outputs": [],
   "source": [
    "ydf_country=ydf_country.join(ICAO_lookup.select('STATION','ICAO_ID'), on='STATION', how='left_outer')\n",
    "display(ydf_country)"
   ]
  },
  {
   "cell_type": "code",
   "execution_count": 0,
   "metadata": {
    "application/vnd.databricks.v1+cell": {
     "cellMetadata": {
      "byteLimit": 2048000,
      "rowLimit": 10000
     },
     "inputWidgets": {},
     "nuid": "796552ac-be47-4f6f-a9e4-d71d65e453df",
     "showTitle": false,
     "tableResultSettingsMap": {},
     "title": ""
    }
   },
   "outputs": [],
   "source": [
    "missing_loc = ydf_country \\\n",
    "        .filter(F.col(\"LATITUDE\").isNull()) \\\n",
    "        .select(F.expr(\"* EXCEPT(LATITUDE, LONGITUDE, NAME)\")) #will replace those cols w MSHR fill ins\n",
    "\n",
    "\n",
    "join_condition = (\n",
    "    ((missing_loc[\"WBAN\"] == mshr_df[\"WBAN_ID\"]) |\n",
    "     (missing_loc[\"ICAO_ID\"] == mshr_df[\"ICAO_ID\"])\n",
    "    ) &\n",
    "    (missing_loc[\"DATE\"] <= mshr_df[\"end_date\"])\n",
    ")\n",
    "\n",
    "window_spec = Window \\\n",
    "                    .partitionBy(missing_loc[\"WBAN\"], missing_loc[\"DATE\"]) \\\n",
    "                    .orderBy(F.col(\"begin_date\").desc() #most recent begin date\n",
    ")\n",
    "                    \n",
    "#deduplicated missing loc rows: based on EDA showing all dups in these null rows are SOD with nulls\n",
    "\n",
    "dedup = (missing_loc.groupBy(\"WBAN\", \"DATE\").count().filter(F.col(\"count\") > 1)) \\\n",
    "            .join(missing_loc, on=[\"WBAN\", \"DATE\"], how=\"inner\") \\\n",
    "            .filter(~F.col(\"REPORT_TYPE\").contains(\"SOD\"))\n",
    "\n",
    "nondup = missing_loc.join(dedup, on=[\"WBAN\", \"DATE\"], how=\"left_anti\")\n",
    "\n",
    "missing_loc_clean = dedup.select(F.expr(\"* EXCEPT(COUNT)\")).union(nondup)\n",
    "\n",
    "\n",
    "missing_loc_result = missing_loc_clean \\\n",
    "    .join(mshr_df, join_condition, \"left_outer\") \\\n",
    "    .withColumn(\"row_num\", F.row_number().over(window_spec)) \\\n",
    "    .filter(F.col(\"row_num\") == 1) \\\n",
    "    .drop(\"row_num\")\n",
    "\n",
    "\n",
    "display(missing_loc_result)"
   ]
  },
  {
   "cell_type": "code",
   "execution_count": 0,
   "metadata": {
    "application/vnd.databricks.v1+cell": {
     "cellMetadata": {
      "byteLimit": 2048000,
      "rowLimit": 10000
     },
     "inputWidgets": {},
     "nuid": "6b022359-de2a-46c0-a2b3-1abb3aee0fe6",
     "showTitle": false,
     "tableResultSettingsMap": {},
     "title": ""
    }
   },
   "outputs": [],
   "source": [
    "missing_loc_result.count()"
   ]
  },
  {
   "cell_type": "code",
   "execution_count": 0,
   "metadata": {
    "application/vnd.databricks.v1+cell": {
     "cellMetadata": {
      "byteLimit": 2048000,
      "rowLimit": 10000
     },
     "inputWidgets": {},
     "nuid": "33c847b9-331e-4d45-a14b-116b8026db2a",
     "showTitle": false,
     "tableResultSettingsMap": {},
     "title": ""
    }
   },
   "outputs": [],
   "source": [
    "no_mshr = missing_loc_result.filter(F.col('NAME').isNull())\n",
    "no_mshr.count()\n",
    "no_mshr.select('WBAN').distinct().show()"
   ]
  },
  {
   "cell_type": "code",
   "execution_count": 0,
   "metadata": {
    "application/vnd.databricks.v1+cell": {
     "cellMetadata": {
      "byteLimit": 2048000,
      "rowLimit": 10000
     },
     "collapsed": true,
     "inputWidgets": {},
     "nuid": "39a2434d-4871-4c66-8eac-9237aee3b102",
     "showTitle": false,
     "tableResultSettingsMap": {},
     "title": ""
    }
   },
   "outputs": [],
   "source": [
    "numeric_cols = ['HourlyAltimeterSetting',\n",
    " 'HourlyDewPointTemperature',\n",
    " 'HourlyDryBulbTemperature',\n",
    " 'HourlyPrecipitation',\n",
    " 'HourlyPresentWeatherType',\n",
    " 'HourlyPressureChange',\n",
    " 'HourlyPressureTendency',\n",
    " 'HourlyRelativeHumidity',\n",
    " 'HourlySkyConditions',\n",
    " 'HourlySeaLevelPressure',\n",
    " 'HourlyStationPressure',\n",
    " 'HourlyVisibility',\n",
    " 'HourlyWetBulbTemperature',\n",
    " 'HourlyWindDirection',\n",
    " 'HourlyWindGustSpeed',\n",
    " 'HourlyWindSpeed',\n",
    " 'DailyAverageDewPointTemperature',\n",
    " 'DailyAverageDryBulbTemperature',\n",
    " 'DailyAverageRelativeHumidity',\n",
    " 'DailyAverageSeaLevelPressure',\n",
    " 'DailyAverageStationPressure',\n",
    " 'DailyAverageWetBulbTemperature',\n",
    " 'DailyAverageWindSpeed',\n",
    " 'DailyCoolingDegreeDays',\n",
    " 'DailyDepartureFromNormalAverageTemperature',\n",
    " 'DailyHeatingDegreeDays',\n",
    " 'DailyMaximumDryBulbTemperature',\n",
    " 'DailyMinimumDryBulbTemperature',\n",
    " 'DailyPeakWindDirection',\n",
    " 'DailyPeakWindSpeed',\n",
    " 'DailyPrecipitation',\n",
    " 'DailySnowDepth',\n",
    " 'DailySnowfall',\n",
    " 'DailySustainedWindDirection',\n",
    " 'DailySustainedWindSpeed',\n",
    " 'DailyWeather',\n",
    " 'MonthlyAverageRH',\n",
    " 'MonthlyDaysWithGT001Precip',\n",
    " 'MonthlyDaysWithGT010Precip',\n",
    " 'MonthlyDaysWithGT32Temp',\n",
    " 'MonthlyDaysWithGT90Temp',\n",
    " 'MonthlyDaysWithLT0Temp',\n",
    " 'MonthlyDaysWithLT32Temp',\n",
    " 'MonthlyDepartureFromNormalAverageTemperature',\n",
    " 'MonthlyDepartureFromNormalCoolingDegreeDays',\n",
    " 'MonthlyDepartureFromNormalHeatingDegreeDays',\n",
    " 'MonthlyDepartureFromNormalMaximumTemperature',\n",
    " 'MonthlyDepartureFromNormalMinimumTemperature',\n",
    " 'MonthlyDepartureFromNormalPrecipitation',\n",
    " 'MonthlyDewpointTemperature',\n",
    " 'MonthlyGreatestPrecip',\n",
    " 'MonthlyGreatestPrecipDate',\n",
    " 'MonthlyGreatestSnowDepth',\n",
    " 'MonthlyGreatestSnowDepthDate',\n",
    " 'MonthlyGreatestSnowfall',\n",
    " 'MonthlyGreatestSnowfallDate',\n",
    " 'MonthlyMaxSeaLevelPressureValue',\n",
    " 'MonthlyMaxSeaLevelPressureValueDate',\n",
    " 'MonthlyMaxSeaLevelPressureValueTime',\n",
    " 'MonthlyMaximumTemperature',\n",
    " 'MonthlyMeanTemperature',\n",
    " 'MonthlyMinSeaLevelPressureValue',\n",
    " 'MonthlyMinSeaLevelPressureValueDate',\n",
    " 'MonthlyMinSeaLevelPressureValueTime',\n",
    " 'MonthlyMinimumTemperature',\n",
    " 'MonthlySeaLevelPressure',\n",
    " 'MonthlyStationPressure',\n",
    " 'MonthlyTotalLiquidPrecipitation',\n",
    " 'MonthlyTotalSnowfall',\n",
    " 'MonthlyWetBulb',\n",
    "  'ShortDurationEndDate005',\n",
    " 'ShortDurationEndDate010',\n",
    " 'ShortDurationEndDate015',\n",
    " 'ShortDurationEndDate020',\n",
    " 'ShortDurationEndDate030',\n",
    " 'ShortDurationEndDate045',\n",
    " 'ShortDurationEndDate060',\n",
    " 'ShortDurationEndDate080',\n",
    " 'ShortDurationEndDate100',\n",
    " 'ShortDurationEndDate120',\n",
    " 'ShortDurationEndDate150',\n",
    " 'ShortDurationEndDate180',\n",
    " 'ShortDurationPrecipitationValue005',\n",
    " 'ShortDurationPrecipitationValue010',\n",
    " 'ShortDurationPrecipitationValue015',\n",
    " 'ShortDurationPrecipitationValue020',\n",
    " 'ShortDurationPrecipitationValue030',\n",
    " 'ShortDurationPrecipitationValue045',\n",
    " 'ShortDurationPrecipitationValue060',\n",
    " 'ShortDurationPrecipitationValue080',\n",
    " 'ShortDurationPrecipitationValue100',\n",
    " 'ShortDurationPrecipitationValue120',\n",
    " 'ShortDurationPrecipitationValue150',\n",
    " 'ShortDurationPrecipitationValue180']"
   ]
  },
  {
   "cell_type": "code",
   "execution_count": 0,
   "metadata": {
    "application/vnd.databricks.v1+cell": {
     "cellMetadata": {
      "byteLimit": 2048000,
      "rowLimit": 10000
     },
     "inputWidgets": {},
     "nuid": "4ab3e655-f0bc-4c52-80ce-21bc444f6ff8",
     "showTitle": false,
     "tableResultSettingsMap": {},
     "title": ""
    }
   },
   "outputs": [],
   "source": [
    "overlap=missing_loc_result.join(loc_result,on='STATION', how='inner')\n",
    "display(overlap) #double checking there's no information we can copy over"
   ]
  },
  {
   "cell_type": "code",
   "execution_count": 0,
   "metadata": {
    "application/vnd.databricks.v1+cell": {
     "cellMetadata": {
      "byteLimit": 2048000,
      "rowLimit": 10000
     },
     "inputWidgets": {},
     "nuid": "5f9914c9-3d93-4638-9ebe-8d1aca539cad",
     "showTitle": false,
     "tableResultSettingsMap": {},
     "title": ""
    }
   },
   "outputs": [],
   "source": [
    "from functools import reduce\n",
    "from operator import add\n",
    "\n",
    "\n",
    "\n",
    "sum_expression = reduce(add, [F.when(F.col(c).isNull(), 1).otherwise(0) for c in numeric_cols])\n",
    "\n",
    "_loc = ydf_country \\\n",
    "    .filter(F.col(\"LATITUDE\").isNotNull()) \\\n",
    "    .filter(F.col('COUNTRY') == 'US') \\\n",
    "    .withColumn(\n",
    "        \"null_count\", \n",
    "        sum_expression\n",
    "    )\n",
    "\n",
    "loc_result = _loc \\\n",
    "    .withColumn(\"row_num\", \n",
    "                F.row_number().over(\n",
    "                    Window \\\n",
    "                        .partitionBy(\"STATION\", \"DATE\") \\\n",
    "                        .orderBy(F.col(\"null_count\").asc())\n",
    "                    )\n",
    "                ) \\\n",
    "    .filter(F.col(\"row_num\") == 1) \\\n",
    "    .drop(F.col('row_num')) \\\n",
    "    .drop(F.col('loc_result'))\n",
    "\n",
    "display(loc_result)"
   ]
  },
  {
   "cell_type": "code",
   "execution_count": 0,
   "metadata": {
    "application/vnd.databricks.v1+cell": {
     "cellMetadata": {
      "byteLimit": 2048000,
      "rowLimit": 10000
     },
     "inputWidgets": {},
     "nuid": "320c384f-3d97-4122-a336-b0ec7eb0adeb",
     "showTitle": false,
     "tableResultSettingsMap": {},
     "title": ""
    }
   },
   "outputs": [],
   "source": [
    "loc_result = loc_result.drop(F.col('null_count'))"
   ]
  },
  {
   "cell_type": "code",
   "execution_count": 0,
   "metadata": {
    "application/vnd.databricks.v1+cell": {
     "cellMetadata": {
      "byteLimit": 2048000,
      "rowLimit": 10000
     },
     "inputWidgets": {},
     "nuid": "43956284-3afe-429f-805f-da874be3ce45",
     "showTitle": false,
     "tableResultSettingsMap": {},
     "title": ""
    }
   },
   "outputs": [],
   "source": [
    "loc_result.count()"
   ]
  },
  {
   "cell_type": "code",
   "execution_count": 0,
   "metadata": {
    "application/vnd.databricks.v1+cell": {
     "cellMetadata": {
      "byteLimit": 2048000,
      "rowLimit": 10000
     },
     "collapsed": true,
     "inputWidgets": {},
     "nuid": "79ec1588-9416-4340-a70c-b687f57d8f08",
     "showTitle": false,
     "tableResultSettingsMap": {},
     "title": ""
    }
   },
   "outputs": [],
   "source": [
    "loc_result.count()"
   ]
  },
  {
   "cell_type": "code",
   "execution_count": 0,
   "metadata": {
    "application/vnd.databricks.v1+cell": {
     "cellMetadata": {
      "byteLimit": 2048000,
      "rowLimit": 10000
     },
     "inputWidgets": {},
     "nuid": "38ca1bfd-1093-4c83-b9f0-8b4353069309",
     "showTitle": false,
     "tableResultSettingsMap": {},
     "title": ""
    }
   },
   "outputs": [],
   "source": [
    "display(missing_loc_result)"
   ]
  },
  {
   "cell_type": "code",
   "execution_count": 0,
   "metadata": {
    "application/vnd.databricks.v1+cell": {
     "cellMetadata": {
      "byteLimit": 2048000,
      "rowLimit": 10000
     },
     "inputWidgets": {},
     "nuid": "2c146b35-3b2e-4c49-b1ff-f7f93e85e114",
     "showTitle": false,
     "tableResultSettingsMap": {},
     "title": ""
    }
   },
   "outputs": [],
   "source": [
    "loc_result.columns"
   ]
  },
  {
   "cell_type": "code",
   "execution_count": 0,
   "metadata": {
    "application/vnd.databricks.v1+cell": {
     "cellMetadata": {
      "byteLimit": 2048000,
      "rowLimit": 10000
     },
     "inputWidgets": {},
     "nuid": "c85eef94-7fd2-4d7e-8b58-583a550d7edd",
     "showTitle": false,
     "tableResultSettingsMap": {},
     "title": ""
    }
   },
   "outputs": [],
   "source": [
    "df_cols = missing_loc_result.columns\n",
    "\n",
    "# get index of the duplicate columns\n",
    "duplicate_col_index = list(set([df_cols.index(c) for c in df_cols if df_cols.count(c) == 2]))\n",
    "\n",
    "# rename by adding suffix '_duplicated'\n",
    "for i in duplicate_col_index:\n",
    "    df_cols[i] = df_cols[i] + '_duplicated'\n",
    "\n",
    "\n",
    "# remove flagged columns\n",
    "cols_to_remove = [c for c in df_cols if '_duplicated' in c]\n",
    "\n",
    "missing_loc_result = missing_loc_result.toDF(*df_cols)\n",
    "\n"
   ]
  },
  {
   "cell_type": "code",
   "execution_count": 0,
   "metadata": {
    "application/vnd.databricks.v1+cell": {
     "cellMetadata": {
      "byteLimit": 2048000,
      "rowLimit": 10000
     },
     "collapsed": true,
     "inputWidgets": {},
     "nuid": "72278b10-d9f4-45d7-9caf-d4835c0976bb",
     "showTitle": false,
     "tableResultSettingsMap": {},
     "title": ""
    }
   },
   "outputs": [],
   "source": [
    "display(missing_loc_result)"
   ]
  },
  {
   "cell_type": "code",
   "execution_count": 0,
   "metadata": {
    "application/vnd.databricks.v1+cell": {
     "cellMetadata": {
      "byteLimit": 2048000,
      "rowLimit": 10000
     },
     "inputWidgets": {},
     "nuid": "4b35acbf-2732-4536-9d50-f476aaefc4bc",
     "showTitle": false,
     "tableResultSettingsMap": {},
     "title": ""
    }
   },
   "outputs": [],
   "source": [
    "missing_loc_result=missing_loc_result.drop(*cols_to_remove)"
   ]
  },
  {
   "cell_type": "code",
   "execution_count": 0,
   "metadata": {
    "application/vnd.databricks.v1+cell": {
     "cellMetadata": {
      "byteLimit": 2048000,
      "rowLimit": 10000
     },
     "inputWidgets": {},
     "nuid": "12825879-1df5-45b6-8d85-36653da1cccc",
     "showTitle": false,
     "tableResultSettingsMap": {},
     "title": ""
    }
   },
   "outputs": [],
   "source": [
    "display(loc_result)"
   ]
  },
  {
   "cell_type": "code",
   "execution_count": 0,
   "metadata": {
    "application/vnd.databricks.v1+cell": {
     "cellMetadata": {
      "byteLimit": 2048000,
      "rowLimit": 10000
     },
     "inputWidgets": {},
     "nuid": "90475282-1a22-40d5-85ce-f9e43c8ac5e8",
     "showTitle": false,
     "tableResultSettingsMap": {},
     "title": ""
    }
   },
   "outputs": [],
   "source": [
    "full = missing_loc_result \\\n",
    "        .select(\n",
    "            *[F.col(col) for col in loc_result.columns]\n",
    "        ) \\\n",
    "        .union(loc_result)"
   ]
  },
  {
   "cell_type": "code",
   "execution_count": 0,
   "metadata": {
    "application/vnd.databricks.v1+cell": {
     "cellMetadata": {
      "byteLimit": 2048000,
      "rowLimit": 10000
     },
     "inputWidgets": {},
     "nuid": "928e45e4-20cc-407a-baeb-f0f6f6787b2d",
     "showTitle": false,
     "tableResultSettingsMap": {},
     "title": ""
    }
   },
   "outputs": [],
   "source": [
    "full.filter(F.col('LATITUDE').isNull()).count()"
   ]
  },
  {
   "cell_type": "code",
   "execution_count": 0,
   "metadata": {
    "application/vnd.databricks.v1+cell": {
     "cellMetadata": {
      "byteLimit": 2048000,
      "rowLimit": 10000
     },
     "inputWidgets": {},
     "nuid": "e2d7d468-9b7c-4bd0-8110-1b273f9a986e",
     "showTitle": false,
     "tableResultSettingsMap": {},
     "title": ""
    }
   },
   "outputs": [],
   "source": [
    "display(full)"
   ]
  },
  {
   "cell_type": "code",
   "execution_count": 0,
   "metadata": {
    "application/vnd.databricks.v1+cell": {
     "cellMetadata": {
      "byteLimit": 2048000,
      "rowLimit": 10000
     },
     "inputWidgets": {},
     "nuid": "b38746aa-6c1a-47a3-ba2f-49e2a516329b",
     "showTitle": false,
     "tableResultSettingsMap": {},
     "title": ""
    }
   },
   "outputs": [],
   "source": [
    "checkpoint_path = \"dbfs:/student-groups/Group_4_1/interim/weather_1y_checkpoint\"\n",
    "\n",
    "\n",
    "spark.sparkContext.setCheckpointDir(checkpoint_path)\n",
    "\n",
    "weather_ydf_checkpointed = full.checkpoint(eager=True)\n",
    "weather_ydf_checkpointed.write.mode('overwrite').parquet(checkpoint_path)\n"
   ]
  },
  {
   "cell_type": "markdown",
   "metadata": {
    "application/vnd.databricks.v1+cell": {
     "cellMetadata": {},
     "inputWidgets": {},
     "nuid": "b9447539-9b2a-48e6-91b6-cdfcafbf518b",
     "showTitle": false,
     "tableResultSettingsMap": {},
     "title": ""
    }
   },
   "source": [
    "# Interpolation "
   ]
  },
  {
   "cell_type": "markdown",
   "metadata": {
    "application/vnd.databricks.v1+cell": {
     "cellMetadata": {},
     "inputWidgets": {},
     "nuid": "af252745-9105-4a37-871b-3adda3d00484",
     "showTitle": false,
     "tableResultSettingsMap": {},
     "title": ""
    }
   },
   "source": [
    "## Time grid"
   ]
  },
  {
   "cell_type": "code",
   "execution_count": 0,
   "metadata": {
    "application/vnd.databricks.v1+cell": {
     "cellMetadata": {
      "byteLimit": 2048000,
      "rowLimit": 10000
     },
     "inputWidgets": {},
     "nuid": "15c81a6d-004a-4078-9436-40f5794303ed",
     "showTitle": false,
     "tableResultSettingsMap": {},
     "title": ""
    }
   },
   "outputs": [],
   "source": [
    "checkpoint_path = \"dbfs:/student-groups/Group_4_1/interim/weather_1y_checkpoint\"\n",
    "\n",
    "ydf_ = spark.read.parquet(checkpoint_path)\n",
    "display(ydf_)"
   ]
  },
  {
   "cell_type": "code",
   "execution_count": 0,
   "metadata": {
    "application/vnd.databricks.v1+cell": {
     "cellMetadata": {
      "byteLimit": 2048000,
      "rowLimit": 10000
     },
     "inputWidgets": {},
     "nuid": "96858c18-eaac-4ee8-9776-fd33939b76e8",
     "showTitle": false,
     "tableResultSettingsMap": {},
     "title": ""
    }
   },
   "outputs": [],
   "source": [
    "\n",
    "#prepare for time lookup, UTC conversion and time grid interpolation\n",
    "ydf_ = ydf_.withColumn('LATITUDE', ydf_.LATITUDE.cast(types.DoubleType()))\n",
    "ydf_ = ydf_.withColumn('LONGITUDE', ydf_.LONGITUDE.cast(types.DoubleType()))\n",
    "ydf_ = ydf_.withColumn('DATETIME', F.regexp_replace(F.col('DATE'), 'T', ' '))\n",
    "ydf_ = ydf_.withColumn('DATETIME', F.to_timestamp('DATETIME', 'yyyy-MM-dd HH:mm:ss'))\n",
    "\n",
    "display(ydf_)"
   ]
  },
  {
   "cell_type": "code",
   "execution_count": 0,
   "metadata": {
    "application/vnd.databricks.v1+cell": {
     "cellMetadata": {
      "byteLimit": 2048000,
      "rowLimit": 10000
     },
     "inputWidgets": {},
     "nuid": "a1e836bf-a720-49a4-b824-349bbf8aa3d6",
     "showTitle": false,
     "tableResultSettingsMap": {},
     "title": ""
    }
   },
   "outputs": [],
   "source": [
    "\n",
    "#get unique stations so we can use their lat/lon for a lookup table\n",
    "ydf_uniq = ydf_  \\\n",
    "            .withColumn(\"row_num\", \n",
    "                    F.row_number().over(\n",
    "                        Window.partitionBy('STATION')\n",
    "                        .orderBy(F.col(\"STATION\").desc())\n",
    "                    )) \\\n",
    "    .filter(F.col('row_num') == 1) \\\n",
    "    .drop(F.col('row_num'))"
   ]
  },
  {
   "cell_type": "code",
   "execution_count": 0,
   "metadata": {
    "application/vnd.databricks.v1+cell": {
     "cellMetadata": {
      "byteLimit": 2048000,
      "rowLimit": 10000
     },
     "inputWidgets": {},
     "nuid": "8c1ae245-849f-4a20-a885-822e602402a5",
     "showTitle": false,
     "tableResultSettingsMap": {},
     "title": ""
    }
   },
   "outputs": [],
   "source": [
    "#code was used to create a lookup table, but this was saved to parquet and should not be run again on the 1y dataset\n",
    "\n",
    "def find_timezone(lat, lng):\n",
    "    tf = TimezoneFinder()\n",
    "    timezone_str = tf.timezone_at(lat=lat, lng=lng)\n",
    "    return timezone_str if timezone_str else \"Unknown\"\n",
    "\n",
    "find_timezone_udf = udf(find_timezone, StringType())\n",
    "\n",
    "\n",
    "ydf_tz = ydf_uniq.withColumn(\"timezone\", find_timezone_udf(col(\"LATITUDE\"), col(\"LONGITUDE\")))\n",
    "folder_path = \"dbfs:/student-groups/Group_4_1\"\n",
    "ydf_tz.write.parquet(f\"{folder_path}/external/weather_tz_lookup.parquet\")"
   ]
  },
  {
   "cell_type": "code",
   "execution_count": 0,
   "metadata": {
    "application/vnd.databricks.v1+cell": {
     "cellMetadata": {
      "byteLimit": 2048000,
      "rowLimit": 10000
     },
     "inputWidgets": {},
     "nuid": "64ebb0ab-dc6b-425e-b31a-f0d5b77cc805",
     "showTitle": false,
     "tableResultSettingsMap": {},
     "title": ""
    }
   },
   "outputs": [],
   "source": [
    "ydf_tz.write.mode('overwrite').parquet(f\"{folder_path}/external/weather_tz_lookup.parquet\")"
   ]
  },
  {
   "cell_type": "code",
   "execution_count": 0,
   "metadata": {
    "application/vnd.databricks.v1+cell": {
     "cellMetadata": {
      "byteLimit": 2048000,
      "rowLimit": 10000
     },
     "inputWidgets": {},
     "nuid": "b98aa8c2-8197-4d67-bd8b-adfc9674ac27",
     "showTitle": false,
     "tableResultSettingsMap": {},
     "title": ""
    }
   },
   "outputs": [],
   "source": [
    "display(ydf_tz.limit(10))"
   ]
  },
  {
   "cell_type": "code",
   "execution_count": 0,
   "metadata": {
    "application/vnd.databricks.v1+cell": {
     "cellMetadata": {
      "byteLimit": 2048000,
      "rowLimit": 10000
     },
     "inputWidgets": {},
     "nuid": "a67a10b9-771b-4cd3-b447-7e9df2863b3d",
     "showTitle": false,
     "tableResultSettingsMap": {},
     "title": ""
    }
   },
   "outputs": [],
   "source": [
    "\n",
    "ydf_time = ydf_.join(ydf_tz.select('STATION','timezone'), ['STATION'], 'left_outer')"
   ]
  },
  {
   "cell_type": "code",
   "execution_count": 0,
   "metadata": {
    "application/vnd.databricks.v1+cell": {
     "cellMetadata": {
      "byteLimit": 2048000,
      "rowLimit": 10000
     },
     "inputWidgets": {},
     "nuid": "2f8e9452-ad53-45f4-8992-ddaae82a42e9",
     "showTitle": false,
     "tableResultSettingsMap": {},
     "title": ""
    }
   },
   "outputs": [],
   "source": [
    "\n",
    "\n",
    "def get_utc(datetime_str, timezone_str):\n",
    "    '''Using timezone information, get localized time of the datetime col then convert to UTC'''\n",
    "    t = pytz.timezone(timezone_str)\n",
    "    dt = datetime.strptime(datetime_str, '%Y-%m-%d %H:%M:%S')\n",
    "    local_dt = t.localize(dt)\n",
    "    utc_dt = local_dt.astimezone(pytz.utc)\n",
    "    return utc_dt\n",
    "\n",
    "get_utc_udf = udf(get_utc, TimestampType())\n",
    "\n",
    "ydf_time = ydf_time.withColumn('DATETIME', F.to_timestamp(F.col('DATETIME').cast('string')))\n",
    "ydf_time = ydf_time.withColumn('utc_datetime', get_utc_udf(F.col('DATETIME').cast('string'), F.col('timezone')))\n",
    "\n",
    "display(ydf_time)"
   ]
  },
  {
   "cell_type": "code",
   "execution_count": 0,
   "metadata": {
    "application/vnd.databricks.v1+cell": {
     "cellMetadata": {},
     "inputWidgets": {},
     "nuid": "f1777266-d17f-4cb1-a244-0a7566b41a3f",
     "showTitle": false,
     "tableResultSettingsMap": {},
     "title": ""
    }
   },
   "outputs": [],
   "source": []
  },
  {
   "cell_type": "code",
   "execution_count": 0,
   "metadata": {
    "application/vnd.databricks.v1+cell": {
     "cellMetadata": {
      "byteLimit": 2048000,
      "rowLimit": 10000
     },
     "inputWidgets": {},
     "nuid": "51e938f1-b983-4dd4-86ad-5076c036917d",
     "showTitle": false,
     "tableResultSettingsMap": {},
     "title": ""
    }
   },
   "outputs": [],
   "source": [
    "checkpoint_path = \"dbfs:/student-groups/Group_4_1/interim/weather_1y_checkpoint\"\n",
    "\n",
    "\n",
    "spark.sparkContext.setCheckpointDir(checkpoint_path)\n",
    "\n",
    "weather_ydf_checkpointed = ydf_time.checkpoint(eager=True)\n",
    "weather_ydf_checkpointed.write.mode('overwrite').parquet(checkpoint_path)\n"
   ]
  },
  {
   "cell_type": "markdown",
   "metadata": {
    "application/vnd.databricks.v1+cell": {
     "cellMetadata": {},
     "inputWidgets": {},
     "nuid": "47aaf3e0-38ca-4a9a-ad15-2eb84b05c946",
     "showTitle": false,
     "tableResultSettingsMap": {},
     "title": ""
    }
   },
   "source": [
    "## strategy 1: METAR\n",
    "\n",
    "https://www.weather.gov/media/wrh/mesowest/metar_decode_key.pdf"
   ]
  },
  {
   "cell_type": "code",
   "execution_count": 0,
   "metadata": {
    "application/vnd.databricks.v1+cell": {
     "cellMetadata": {
      "byteLimit": 2048000,
      "rowLimit": 10000
     },
     "inputWidgets": {},
     "nuid": "fff20814-5a3a-4490-8dd2-ceb5583e85ca",
     "showTitle": false,
     "tableResultSettingsMap": {},
     "title": ""
    }
   },
   "outputs": [],
   "source": [
    "checkpoint_path = \"dbfs:/student-groups/Group_4_1/interim/weather_1y_checkpoint\"\n",
    "\n",
    "ydf_time = spark.read.parquet(f\"{checkpoint_path}\")\n"
   ]
  },
  {
   "cell_type": "markdown",
   "metadata": {
    "application/vnd.databricks.v1+cell": {
     "cellMetadata": {},
     "inputWidgets": {},
     "nuid": "f73e0c95-6f57-4b13-a502-b373886b925f",
     "showTitle": false,
     "tableResultSettingsMap": {},
     "title": ""
    }
   },
   "source": [
    "### Precipitation\n",
    "\n",
    "**3- AND 6-HOUR PRECIPITATION AMOUNT:** \n",
    "- 6RRRR; precipitation amount in .01 inches \n",
    "  - for past 6 hours reported in 00, 06, 12, and 18 UTC observations\n",
    "  - for past 3 hours in 03, 09, 15, and 21 UTC observations;\n",
    "- a trace is 60000. \n",
    "\n",
    "**HOURLY PRECIPITATION AMOUNT:** \n",
    "- Prrrr; in .01 inches since last METAR; \n",
    "- a trace is P0000. \n",
    "\n",
    "**WEATHER PHENOMENA**\n",
    "- RA: liquid precipitation that does not freeze;\n",
    "- SN: frozen precipitation other than hail; UP: precipitation of unknown type; \n",
    "  - intensity prefixed to precipitation: light (-), moderate (no sign), heavy (+); FG: fog; FZFG: freezing fog (temperature below 0°C); \n",
    "- BR: mist; \n",
    "- HZ: haze; \n",
    "- SQ: squall\n",
    "\n",
    "maximum of three groups reported; augmented by observer: \n",
    "- FC (funnel cloud/tornado/waterspout);  - TS (thunderstorm); \n",
    "- GR (hail); \n",
    "- GS (small hail; < 1/4 inch); \n",
    "- FZRA (intensity; freezing rain); \n",
    "- VA (volcanic ash). \n",
    "\n",
    "\n",
    "**24-HOUR PRECIPITATION AMOUNT:**\n",
    "\n",
    "- 7R24R24R24R24; precipitation amount in .01 inches for past 24 hours reported in 12 UTC observation, e.g., 70015. "
   ]
  },
  {
   "cell_type": "code",
   "execution_count": 0,
   "metadata": {
    "application/vnd.databricks.v1+cell": {
     "cellMetadata": {
      "byteLimit": 2048000,
      "rowLimit": 10000
     },
     "inputWidgets": {},
     "nuid": "60a0c8ae-48d4-48ea-887a-e07686508c77",
     "showTitle": false,
     "tableResultSettingsMap": {},
     "title": ""
    }
   },
   "outputs": [],
   "source": [
    "ydf_time.groupBy(F.col('HourlyPrecipitation')).count().show()"
   ]
  },
  {
   "cell_type": "code",
   "execution_count": 0,
   "metadata": {
    "application/vnd.databricks.v1+cell": {
     "cellMetadata": {
      "byteLimit": 2048000,
      "rowLimit": 10000
     },
     "inputWidgets": {},
     "nuid": "b838e535-9af7-491a-9b2b-1440bbafebdb",
     "showTitle": false,
     "tableResultSettingsMap": {},
     "title": ""
    }
   },
   "outputs": [],
   "source": [
    "ydf_time.filter(F.col('HourlyPrecipitation').isNull()).count() #pre-REM interpolation"
   ]
  },
  {
   "cell_type": "code",
   "execution_count": 0,
   "metadata": {
    "application/vnd.databricks.v1+cell": {
     "cellMetadata": {
      "byteLimit": 2048000,
      "rowLimit": 10000
     },
     "inputWidgets": {},
     "nuid": "b1b64436-0160-41ff-a640-44e79dc07d0d",
     "showTitle": false,
     "tableResultSettingsMap": {},
     "title": ""
    }
   },
   "outputs": [],
   "source": [
    "#extract information from REM column\n",
    "\n",
    "ydf_metar = ydf_time \\\n",
    "    .withColumn(\n",
    "        'HourlyPrecipitation',\n",
    "        F.when(\n",
    "            (F.col(\"HourlyPrecipitation\").isNull()) | (F.col(\"HourlyPrecipitation\") == '*'),\n",
    "            (F.regexp_extract(F.col(\"REM\"), r\" P(\\d+)\", 1).cast(\"int\") * 0.01) # hundredths of inch kept in \"remarks\" section\n",
    "        ).otherwise(F.col(\"HourlyPrecipitation\"))\n",
    "    ) \\\n",
    "    .withColumn('HourlyPrecipitation', F.regexp_replace('HourlyPrecipitation', 'T', '0.01')) \\\n",
    "    .withColumn(\n",
    "        'HourlyPrecipitation',\n",
    "        F.regexp_extract('HourlyPrecipitation', r\"[0-9]+(\\.[0-9]+)?\", 0) # Match digits\n",
    "    ) \\\n",
    "    .withColumn('HourlyPrecipitation', F.col('HourlyPrecipitation').cast(DoubleType()))\n",
    "    \n"
   ]
  },
  {
   "cell_type": "code",
   "execution_count": 0,
   "metadata": {
    "application/vnd.databricks.v1+cell": {
     "cellMetadata": {
      "byteLimit": 2048000,
      "rowLimit": 10000
     },
     "inputWidgets": {},
     "nuid": "a8cea621-ba31-4e3a-beb6-d46f183f5314",
     "showTitle": false,
     "tableResultSettingsMap": {},
     "title": ""
    }
   },
   "outputs": [],
   "source": [
    "ydf_metar.filter(F.col('HourlyPrecipitation').isNull()).count()\n",
    "display(ydf_metar.filter(F.col('HourlyPrecipitation').isNull()))"
   ]
  },
  {
   "cell_type": "code",
   "execution_count": 0,
   "metadata": {
    "application/vnd.databricks.v1+cell": {
     "cellMetadata": {
      "byteLimit": 2048000,
      "rowLimit": 10000
     },
     "inputWidgets": {},
     "nuid": "253d4414-13b7-46d8-9524-3e959c836565",
     "showTitle": false,
     "tableResultSettingsMap": {},
     "title": ""
    }
   },
   "outputs": [],
   "source": [
    "ydf_metar.filter(F.col('HourlyPrecipitation').isNull()) \\\n",
    "    .filter(~F.col('REM').contains(' P')) \\\n",
    "    .filter(F.col('HourlyPresentWeatherType').isNull()).count()\n",
    "\n",
    "#basically of (categorical) precipitation nulls we will have to interpolate\n",
    "#use: categorical weighted by continuous?\n"
   ]
  },
  {
   "cell_type": "code",
   "execution_count": 0,
   "metadata": {
    "application/vnd.databricks.v1+cell": {
     "cellMetadata": {
      "byteLimit": 2048000,
      "rowLimit": 10000
     },
     "inputWidgets": {},
     "nuid": "9c377721-8a26-457d-bec9-dfb5a4140fd3",
     "showTitle": false,
     "tableResultSettingsMap": {},
     "title": ""
    }
   },
   "outputs": [],
   "source": [
    "ydf_metar.filter(F.col('HourlyPrecipitation').isNull()).count() #post-REM interpolation"
   ]
  },
  {
   "cell_type": "code",
   "execution_count": 0,
   "metadata": {
    "application/vnd.databricks.v1+cell": {
     "cellMetadata": {
      "byteLimit": 2048000,
      "rowLimit": 10000
     },
     "inputWidgets": {},
     "nuid": "e642f695-a0ef-4522-a4c1-ee1ef4c591f5",
     "showTitle": false,
     "tableResultSettingsMap": {},
     "title": ""
    }
   },
   "outputs": [],
   "source": [
    "ydf_metar = ydf_metar.withColumn('HourlyPrecipitation',\n",
    "                     ydf_metar.HourlyPrecipitation.cast(DoubleType()))"
   ]
  },
  {
   "cell_type": "code",
   "execution_count": 0,
   "metadata": {
    "application/vnd.databricks.v1+cell": {
     "cellMetadata": {
      "byteLimit": 2048000,
      "rowLimit": 10000
     },
     "inputWidgets": {},
     "nuid": "494aff38-ef4e-42b8-b5b0-414f8f8c63f3",
     "showTitle": false,
     "tableResultSettingsMap": {},
     "title": ""
    }
   },
   "outputs": [],
   "source": [
    "window_spec = Window.partitionBy('STATION').orderBy(\"utc_datetime\")\n",
    "\n",
    "ydf_interpolate = ydf_metar \\\n",
    "    .withColumn(\"prev_value\", F.lag(\"HourlyPrecipitation\").over(window_spec)) \\\n",
    "    .withColumn(\"next_value\", F.lead(\"HourlyPrecipitation\").over(window_spec)) \\\n",
    "    .withColumn(\"prev_time\", F.lag(\"utc_datetime\").over(window_spec)) \\\n",
    "    .withColumn(\"next_time\", F.lead(\"utc_datetime\").over(window_spec)) \\\n",
    "    .withColumn(\"HourlyPrecipitation\", \n",
    "        F.when(\n",
    "            (F.col(\"HourlyPrecipitation\").isNull()) &  #current record null\n",
    "            (F.col(\"prev_value\").isNotNull()) &  #t-1 not null\n",
    "            (F.col(\"next_value\").isNotNull()),  #t+1 not null\n",
    "            (F.col(\"prev_value\") + F.col(\"next_value\")) / 2  #linear interpolation (average)\n",
    "        ).otherwise(\n",
    "            F.col(\"HourlyPrecipitation\")\n",
    "            ) \\\n",
    "    )\n"
   ]
  },
  {
   "cell_type": "code",
   "execution_count": 0,
   "metadata": {
    "application/vnd.databricks.v1+cell": {
     "cellMetadata": {
      "byteLimit": 2048000,
      "rowLimit": 10000
     },
     "inputWidgets": {},
     "nuid": "40672e87-f571-4006-b3ef-7872000d67b1",
     "showTitle": false,
     "tableResultSettingsMap": {},
     "title": ""
    }
   },
   "outputs": [],
   "source": [
    "ydf_interpolate.filter(F.col('HourlyPrecipitation').isNull()).count()\n",
    "#count that will need to be geo-interpolated"
   ]
  },
  {
   "cell_type": "code",
   "execution_count": 0,
   "metadata": {
    "application/vnd.databricks.v1+cell": {
     "cellMetadata": {
      "byteLimit": 2048000,
      "rowLimit": 10000
     },
     "inputWidgets": {},
     "nuid": "a538487b-a38e-4925-9a77-8ef07887cd31",
     "showTitle": false,
     "tableResultSettingsMap": {},
     "title": ""
    }
   },
   "outputs": [],
   "source": [
    "ydf_interpolate=ydf_interpolate.drop('prev_value', 'next_value', 'prev_time', 'next_time')"
   ]
  },
  {
   "cell_type": "code",
   "execution_count": 0,
   "metadata": {
    "application/vnd.databricks.v1+cell": {
     "cellMetadata": {
      "byteLimit": 2048000,
      "rowLimit": 10000
     },
     "inputWidgets": {},
     "nuid": "b1437b92-62f5-4f7c-9591-144ca7c43388",
     "showTitle": false,
     "tableResultSettingsMap": {},
     "title": ""
    }
   },
   "outputs": [],
   "source": [
    "ydf_interpolate = ydf_interpolate.join(stations.select('station_id','neighbor_id'),\n",
    "                     on=(ydf_interpolate.STATION == stations.station_id),\n",
    "                     how='left_outer'\n",
    "                     )\n"
   ]
  },
  {
   "cell_type": "code",
   "execution_count": 0,
   "metadata": {
    "application/vnd.databricks.v1+cell": {
     "cellMetadata": {
      "byteLimit": 2048000,
      "rowLimit": 10000
     },
     "inputWidgets": {},
     "nuid": "55e110c3-cdcb-4aca-8d0c-98fe8cedc9fa",
     "showTitle": false,
     "tableResultSettingsMap": {},
     "title": ""
    }
   },
   "outputs": [],
   "source": [
    "display(stations.head(10))"
   ]
  },
  {
   "cell_type": "code",
   "execution_count": 0,
   "metadata": {
    "application/vnd.databricks.v1+cell": {
     "cellMetadata": {
      "byteLimit": 2048000,
      "rowLimit": 10000
     },
     "inputWidgets": {},
     "nuid": "fa828cf7-72be-4f17-867a-7c5a0be9b783",
     "showTitle": false,
     "tableResultSettingsMap": {},
     "title": ""
    }
   },
   "outputs": [],
   "source": [
    "missing = ydf_interpolate.filter(F.col(\"HourlyPrecipitation\").isNull()).select('STATION','utc_datetime','HourlyPrecipitation','neighbor_id')"
   ]
  },
  {
   "cell_type": "code",
   "execution_count": 0,
   "metadata": {
    "application/vnd.databricks.v1+cell": {
     "cellMetadata": {
      "byteLimit": 2048000,
      "rowLimit": 10000
     },
     "inputWidgets": {},
     "nuid": "63a99be1-907f-4b83-868c-11f4590ee024",
     "showTitle": false,
     "tableResultSettingsMap": {},
     "title": ""
    }
   },
   "outputs": [],
   "source": [
    "display(ydf_interpolate.limit(10))"
   ]
  },
  {
   "cell_type": "code",
   "execution_count": 0,
   "metadata": {
    "application/vnd.databricks.v1+cell": {
     "cellMetadata": {
      "byteLimit": 2048000,
      "rowLimit": 10000
     },
     "inputWidgets": {},
     "nuid": "b27d5a3d-c173-4d97-8c3c-c02276724ed2",
     "showTitle": false,
     "tableResultSettingsMap": {},
     "title": ""
    }
   },
   "outputs": [],
   "source": [
    "display(ydf_interpolate.limit(10))"
   ]
  },
  {
   "cell_type": "code",
   "execution_count": 0,
   "metadata": {
    "application/vnd.databricks.v1+cell": {
     "cellMetadata": {
      "byteLimit": 2048000,
      "rowLimit": 10000
     },
     "inputWidgets": {},
     "nuid": "2ff9fbb8-7238-450a-9094-153f87b0a7c0",
     "showTitle": false,
     "tableResultSettingsMap": {},
     "title": ""
    }
   },
   "outputs": [],
   "source": [
    "with_neighbor = missing.alias(\"m\").join(\n",
    "    stations.alias(\"s\"),\n",
    "    F.col(\"m.STATION\") == F.col(\"s.station_id\"),\n",
    "    \"left\"\n",
    ").select(\n",
    "    \"m.STATION\", \n",
    "    \"m.utc_datetime\",\n",
    "    \"m.neighbor_id\",\n",
    "    F.col(\"s.neighbor_id\").alias(\"target_neighbor\")\n",
    ")"
   ]
  },
  {
   "cell_type": "code",
   "execution_count": 0,
   "metadata": {
    "application/vnd.databricks.v1+cell": {
     "cellMetadata": {},
     "collapsed": true,
     "inputWidgets": {},
     "nuid": "f2d8a16e-e29d-4c13-8da7-08e32d5ab230",
     "showTitle": false,
     "tableResultSettingsMap": {},
     "title": ""
    }
   },
   "outputs": [],
   "source": [
    "# complete = ydf_interpolate.filter(F.col(\"HourlyPrecipitation\").isNotNull()).select('STATION','utc_datetime','HourlyPrecipitation','neighbor_id')\n"
   ]
  },
  {
   "cell_type": "code",
   "execution_count": 0,
   "metadata": {
    "application/vnd.databricks.v1+cell": {
     "cellMetadata": {
      "byteLimit": 2048000,
      "rowLimit": 10000
     },
     "inputWidgets": {},
     "nuid": "f8848a8f-017e-447d-ac65-5ff6a6b89f92",
     "showTitle": false,
     "tableResultSettingsMap": {},
     "title": ""
    }
   },
   "outputs": [],
   "source": [
    "\n",
    "imputed = (\n",
    "    missing.alias(\"orig\")\n",
    "    .join(\n",
    "        complete.alias(\"nn\"),\n",
    "        F.col(\"orig.neighbor_id\") == F.col(\"nn.STATION\"),\n",
    "        \"left\"\n",
    "    )\n",
    "    .withColumn(\"time_diff\", F.abs(F.col(\"orig.utc_datetime\").cast(\"long\") \n",
    "                                 - F.col(\"nn.utc_datetime\").cast(\"long\")))\n",
    "    .withColumn(\"rank\", F.row_number().over(\n",
    "        Window.partitionBy(\"orig.STATION\", \"orig.utc_datetime\")\n",
    "              .orderBy(F.asc(\"time_diff\"))\n",
    "    ))\n",
    "    .filter(F.col(\"rank\") == 1)\n",
    "    .select(  # Explicit column selection\n",
    "        [F.col(f\"orig.{c}\") for c in missing.columns if c != \"HourlyPrecipitation\"] +\n",
    "        [F.coalesce(\"orig.HourlyPrecipitation\", \"nn.HourlyPrecipitation\").alias(\"HourlyPrecipitation\")]\n",
    "    )\n",
    ")\n",
    "\n",
    "# Combine with original complete data\n",
    "final_df = imputed.unionByName(complete.select(imputed.columns))\n"
   ]
  },
  {
   "cell_type": "code",
   "execution_count": 0,
   "metadata": {
    "application/vnd.databricks.v1+cell": {
     "cellMetadata": {
      "byteLimit": 2048000,
      "rowLimit": 10000
     },
     "collapsed": true,
     "inputWidgets": {},
     "nuid": "eb2d8d5b-20f2-4b67-b9d1-fcadaec0e987",
     "showTitle": false,
     "tableResultSettingsMap": {},
     "title": ""
    }
   },
   "outputs": [],
   "source": [
    "# imputed = (ydf_interpolate\n",
    "#     .alias(\"orig\")\n",
    "#     .join(ydf_interpolate.alias(\"nn\"),\n",
    "#           F.col(\"orig.neighbor_id\") == F.col(\"nn.STATION\"),\n",
    "#           \"left\")\n",
    "#     .withColumn(\"time_diff\", F.abs(\n",
    "#         F.col(\"orig.utc_datetime\").cast(\"long\") - \n",
    "#         F.col(\"nn.utc_datetime\").cast(\"long\")))\n",
    "#     .withColumn(\"rank\", F.row_number().over(\n",
    "#         Window.partitionBy(\"orig.STATION\", \"orig.utc_datetime\")\n",
    "#               .orderBy(\"time_diff\")))\n",
    "#     .filter(F.col(\"rank\") == 1)\n",
    "#     .withColumn(\"HourlyPrecipitation\",\n",
    "#                 F.coalesce(\"orig.HourlyPrecipitation\", \n",
    "#                            \"nn.HourlyPrecipitation\"))\n",
    "# )\n",
    "\n",
    "\n",
    "# display(imputed)\n"
   ]
  },
  {
   "cell_type": "code",
   "execution_count": 0,
   "metadata": {
    "application/vnd.databricks.v1+cell": {
     "cellMetadata": {
      "byteLimit": 2048000,
      "rowLimit": 10000
     },
     "inputWidgets": {},
     "nuid": "303f54a0-7b4c-4f9b-9e2d-dcee61fda742",
     "showTitle": false,
     "tableResultSettingsMap": {},
     "title": ""
    }
   },
   "outputs": [],
   "source": [
    "stations.count()"
   ]
  },
  {
   "cell_type": "code",
   "execution_count": 0,
   "metadata": {
    "application/vnd.databricks.v1+cell": {
     "cellMetadata": {
      "byteLimit": 2048000,
      "rowLimit": 10000
     },
     "collapsed": true,
     "inputWidgets": {},
     "nuid": "1dfbb8aa-89ec-45c7-ba9d-03a9cf740949",
     "showTitle": false,
     "tableResultSettingsMap": {},
     "title": ""
    }
   },
   "outputs": [],
   "source": [
    "# 2. Get neighbor relationships from stations table\n",
    "with_neighbor = missing.alias(\"m\").join(\n",
    "    stations.alias(\"s\"),\n",
    "    F.col(\"m.STATION\") == F.col(\"s.station_id\"),\n",
    "    \"inner\"\n",
    ").select(\n",
    "    \"m.STATION\", \n",
    "    \"m.utc_datetime\",\n",
    "    \"m.neighbor_id\",  # Explicitly select needed columns\n",
    "    F.col(\"s.neighbor_id\").alias(\"target_neighbor\")\n",
    ")\n",
    "\n",
    "# 3. Find closest temporal match\n",
    "imputed = (\n",
    "    with_neighbor.alias(\"w\")\n",
    "    .join(\n",
    "        ydf_interpolate.alias(\"n\"),\n",
    "        (F.col(\"w.target_neighbor\") == F.col(\"n.STATION\")) & \n",
    "        (F.abs(F.col(\"w.utc_datetime\").cast(\"long\") - \n",
    "               F.col(\"n.utc_datetime\").cast(\"long\")) <= 86400),\n",
    "        \"inner\"\n",
    "    )\n",
    "    .withColumn(\"time_diff\", F.abs(F.col(\"w.utc_datetime\") - F.col(\"n.utc_datetime\")))\n",
    "    .withColumn(\"rnk\", F.row_number().over(\n",
    "        Window.partitionBy(\"w.STATION\", \"w.utc_datetime\")\n",
    "              .orderBy(F.asc(\"time_diff\"))\n",
    "    ))\n",
    "    .filter(F.col(\"rnk\") == 1)\n",
    "    .select(\n",
    "        \"w.STATION\",\n",
    "        \"w.utc_datetime\",\n",
    "        \"w.neighbor_id\",\n",
    "        F.coalesce(F.col(\"n.HourlyPrecipitation\")).alias(\"HourlyPrecipitation\")  # Directly use neighbor's value\n",
    "    )\n",
    ")\n",
    "\n",
    "# # 4. Schema-safe combination\n",
    "# final_columns = [\"STATION\", \"utc_datetime\", \"neighbor_id\", \"HourlyPrecipitation\"]\n",
    "\n",
    "# final_df = ydf_interpolate.filter(F.col(\"HourlyPrecipitation\").isNotNull()) \\\n",
    "#                          .select(final_columns) \\\n",
    "#                          .unionByName(imputed.select(final_columns))\n"
   ]
  },
  {
   "cell_type": "code",
   "execution_count": 0,
   "metadata": {
    "application/vnd.databricks.v1+cell": {
     "cellMetadata": {
      "byteLimit": 2048000,
      "rowLimit": 10000
     },
     "inputWidgets": {},
     "nuid": "2da73f52-935a-41ec-87bd-080fbd7914d6",
     "showTitle": false,
     "tableResultSettingsMap": {},
     "title": ""
    }
   },
   "outputs": [],
   "source": [
    "display(final_df.limit(10))"
   ]
  },
  {
   "cell_type": "markdown",
   "metadata": {
    "application/vnd.databricks.v1+cell": {
     "cellMetadata": {},
     "inputWidgets": {},
     "nuid": "5922739c-6752-40b2-9a5f-66114270623f",
     "showTitle": false,
     "tableResultSettingsMap": {},
     "title": ""
    }
   },
   "source": [
    "### Wind"
   ]
  },
  {
   "cell_type": "markdown",
   "metadata": {
    "application/vnd.databricks.v1+cell": {
     "cellMetadata": {},
     "inputWidgets": {},
     "nuid": "8649fa8f-fc8f-4f68-8e1a-199dcb5c5545",
     "showTitle": false,
     "tableResultSettingsMap": {},
     "title": ""
    }
   },
   "source": [
    "Direction in tens of degrees from true north (first three digits); next two digits: speed in whole knots; as needed Gusts (character) followed by maximum observed speed; always appended with KT to indicate knots; 00000KT for calm; if direction varies by 60° or more a Variable wind direction group is reported. \n",
    "\n",
    "\n",
    "PEAK WIND: PK WND dddff(f)/(hh)mm; direction in tens of degrees, speed in whole knots, and time. \n",
    "\n",
    "WIND SHIFT: WSHFT (hh)mm "
   ]
  },
  {
   "cell_type": "code",
   "execution_count": 0,
   "metadata": {
    "application/vnd.databricks.v1+cell": {
     "cellMetadata": {
      "byteLimit": 2048000,
      "rowLimit": 10000
     },
     "inputWidgets": {},
     "nuid": "5fcdaa93-f0c1-48e6-a9c1-2f1412e109db",
     "showTitle": false,
     "tableResultSettingsMap": {},
     "title": ""
    }
   },
   "outputs": [],
   "source": [
    "display(ydf_metar.filter(F.col('HourlyWindSpeed').isNull()).filter(F.col('REM').contains('WND')))"
   ]
  },
  {
   "cell_type": "code",
   "execution_count": 0,
   "metadata": {
    "application/vnd.databricks.v1+cell": {
     "cellMetadata": {
      "byteLimit": 2048000,
      "rowLimit": 10000
     },
     "inputWidgets": {},
     "nuid": "a87e7525-142e-461f-b035-b610e60ed5ae",
     "showTitle": false,
     "tableResultSettingsMap": {},
     "title": ""
    }
   },
   "outputs": [],
   "source": [
    "checkpoint_path = \"dbfs:/student-groups/Group_4_1/interim/weather_1y_interpolation_base\"\n",
    "\n",
    "\n",
    "spark.sparkContext.setCheckpointDir(checkpoint_path)\n",
    "\n",
    "weather_ydf_checkpointed = ydf_interpolate.checkpoint(eager=True)\n",
    "weather_ydf_checkpointed.write.mode('overwrite').parquet(checkpoint_path)\n"
   ]
  },
  {
   "cell_type": "code",
   "execution_count": 0,
   "metadata": {
    "application/vnd.databricks.v1+cell": {
     "cellMetadata": {},
     "inputWidgets": {},
     "nuid": "3e17375b-950e-4f35-ae31-42a099abbf65",
     "showTitle": false,
     "tableResultSettingsMap": {},
     "title": ""
    }
   },
   "outputs": [],
   "source": []
  },
  {
   "cell_type": "markdown",
   "metadata": {
    "application/vnd.databricks.v1+cell": {
     "cellMetadata": {},
     "inputWidgets": {},
     "nuid": "b31dd861-5f23-4900-a13d-2b93a2cbbb22",
     "showTitle": false,
     "tableResultSettingsMap": {},
     "title": ""
    }
   },
   "source": [
    "# QDF Prep"
   ]
  },
  {
   "cell_type": "code",
   "execution_count": 0,
   "metadata": {
    "application/vnd.databricks.v1+cell": {
     "cellMetadata": {
      "byteLimit": 2048000,
      "rowLimit": 10000
     },
     "inputWidgets": {},
     "nuid": "c256a70c-d268-42ee-8bb0-dad2b17dc140",
     "showTitle": false,
     "tableResultSettingsMap": {},
     "title": ""
    }
   },
   "outputs": [],
   "source": [
    "qdf=qdf.withColumn(\"WBAN\",F.col('STATION').substr(-5, 5))\n",
    "qdf_country=qdf.withColumn(\"COUNTRY\",F.col('NAME').substr(-2, 2))"
   ]
  },
  {
   "cell_type": "code",
   "execution_count": 0,
   "metadata": {
    "application/vnd.databricks.v1+cell": {
     "cellMetadata": {
      "byteLimit": 2048000,
      "rowLimit": 10000
     },
     "inputWidgets": {},
     "nuid": "e2474956-bc6e-489e-9bf4-c0c3c63da515",
     "showTitle": false,
     "tableResultSettingsMap": {},
     "title": ""
    }
   },
   "outputs": [],
   "source": [
    "\n",
    "#make ICAO lookup table for when we can't match the WBAN to MSHR df to find the geoloc\n",
    "ICAO_qlookup = qdf_country.filter(F.col('REM').isNotNull()) \\\n",
    "                        .filter(\n",
    "                            (F.col('REM').contains('METAR')) |\n",
    "                            (F.col('REM').contains('SPECI'))\n",
    "                         ) \\\n",
    "                        .withColumn(\"row_num\", \n",
    "                                    F.row_number().over(\n",
    "                                        Window.partitionBy('STATION')\n",
    "                                        .orderBy(F.col(\"STATION\").desc())\n",
    "                                    )) \\\n",
    "                        .filter(F.col('row_num') == 1) \\\n",
    "                        .drop(F.col('row_num')) \\\n",
    "                        .withColumn(\"ICAO_ID\", \n",
    "                                    F.regexp_extract(F.col(\"REM\"), \n",
    "                                                     r\"(?:METAR|SPECI)\\s(\\S+)\", 1))\n",
    "\n",
    "\n",
    "display(ICAO_qlookup)"
   ]
  },
  {
   "cell_type": "code",
   "execution_count": 0,
   "metadata": {
    "application/vnd.databricks.v1+cell": {
     "cellMetadata": {
      "byteLimit": 2048000,
      "rowLimit": 10000
     },
     "inputWidgets": {},
     "nuid": "6b671110-43de-4c75-9590-53f105044f8f",
     "showTitle": false,
     "tableResultSettingsMap": {},
     "title": ""
    }
   },
   "outputs": [],
   "source": [
    "qdf_country=qdf_country.join(ICAO_qlookup.select('STATION','ICAO_ID'), on='STATION', how='left_outer')\n",
    "display(qdf_country)"
   ]
  },
  {
   "cell_type": "code",
   "execution_count": 0,
   "metadata": {
    "application/vnd.databricks.v1+cell": {
     "cellMetadata": {
      "byteLimit": 2048000,
      "rowLimit": 10000
     },
     "inputWidgets": {},
     "nuid": "bae8095a-5483-495f-ab42-ec36d3766d79",
     "showTitle": false,
     "tableResultSettingsMap": {},
     "title": ""
    }
   },
   "outputs": [],
   "source": [
    "missing_loc = qdf_country \\\n",
    "        .filter(F.col(\"LATITUDE\").isNull()) \\\n",
    "        .select(F.expr(\"* EXCEPT(LATITUDE, LONGITUDE, NAME)\")) #will replace those cols w MSHR fill ins\n",
    "\n",
    "\n",
    "join_condition = (\n",
    "    ((missing_loc[\"WBAN\"] == mshr_df[\"WBAN_ID\"]) |\n",
    "     (missing_loc[\"ICAO_ID\"] == mshr_df[\"ICAO_ID\"])\n",
    "    ) &\n",
    "    (missing_loc[\"DATE\"] <= mshr_df[\"end_date\"])\n",
    ")\n",
    "\n",
    "window_spec = Window \\\n",
    "                    .partitionBy(missing_loc[\"WBAN\"], missing_loc[\"DATE\"]) \\\n",
    "                    .orderBy(F.col(\"begin_date\").desc() #most recent begin date\n",
    ")\n",
    "                    \n",
    "#deduplicated missing loc rows: based on EDA showing all dups in these null rows are SOD with nulls\n",
    "\n",
    "dedup = (missing_loc.groupBy(\"WBAN\", \"DATE\").count().filter(F.col(\"count\") > 1)) \\\n",
    "            .join(missing_loc, on=[\"WBAN\", \"DATE\"], how=\"inner\") \\\n",
    "            .filter(~F.col(\"REPORT_TYPE\").contains(\"SOD\"))\n",
    "\n",
    "nondup = missing_loc.join(dedup, on=[\"WBAN\", \"DATE\"], how=\"left_anti\")\n",
    "\n",
    "missing_loc_clean = dedup.select(F.expr(\"* EXCEPT(COUNT)\")).union(nondup)\n",
    "\n",
    "\n",
    "missing_loc_result = missing_loc_clean \\\n",
    "    .join(mshr_df, join_condition, \"left_outer\") \\\n",
    "    .withColumn(\"row_num\", F.row_number().over(window_spec)) \\\n",
    "    .filter(F.col(\"row_num\") == 1) \\\n",
    "    .drop(\"row_num\")\n",
    "\n",
    "\n",
    "display(missing_loc_result)"
   ]
  },
  {
   "cell_type": "code",
   "execution_count": 0,
   "metadata": {
    "application/vnd.databricks.v1+cell": {
     "cellMetadata": {
      "byteLimit": 2048000,
      "rowLimit": 10000
     },
     "inputWidgets": {},
     "nuid": "194951dc-2ffa-49aa-8f3c-f0d53416c47f",
     "showTitle": false,
     "tableResultSettingsMap": {},
     "title": ""
    }
   },
   "outputs": [],
   "source": [
    "missing_loc_result.count()"
   ]
  },
  {
   "cell_type": "code",
   "execution_count": 0,
   "metadata": {
    "application/vnd.databricks.v1+cell": {
     "cellMetadata": {
      "byteLimit": 2048000,
      "rowLimit": 10000
     },
     "inputWidgets": {},
     "nuid": "eacd7457-324e-49d8-bba5-642534fddd03",
     "showTitle": false,
     "tableResultSettingsMap": {},
     "title": ""
    }
   },
   "outputs": [],
   "source": [
    "no_mshr = missing_loc_result.filter(F.col('NAME').isNull())\n",
    "no_mshr.count()\n",
    "no_mshr.select('WBAN').distinct().show()"
   ]
  },
  {
   "cell_type": "code",
   "execution_count": 0,
   "metadata": {
    "application/vnd.databricks.v1+cell": {
     "cellMetadata": {
      "byteLimit": 2048000,
      "rowLimit": 10000
     },
     "inputWidgets": {},
     "nuid": "fbc6b6b1-b9df-42e2-b5cb-f3dee0ac9dca",
     "showTitle": false,
     "tableResultSettingsMap": {},
     "title": ""
    }
   },
   "outputs": [],
   "source": [
    "display(missing_loc_result.filter(F.col('WBAN')=='37201'))"
   ]
  },
  {
   "cell_type": "code",
   "execution_count": 0,
   "metadata": {
    "application/vnd.databricks.v1+cell": {
     "cellMetadata": {
      "byteLimit": 2048000,
      "rowLimit": 10000
     },
     "inputWidgets": {},
     "nuid": "04e2dac0-219a-4fcd-a6db-3a4cb910b51b",
     "showTitle": false,
     "tableResultSettingsMap": {},
     "title": ""
    }
   },
   "outputs": [],
   "source": [
    "from functools import reduce\n",
    "from operator import add\n"
   ]
  },
  {
   "cell_type": "code",
   "execution_count": 0,
   "metadata": {
    "application/vnd.databricks.v1+cell": {
     "cellMetadata": {
      "byteLimit": 2048000,
      "rowLimit": 10000
     },
     "collapsed": true,
     "inputWidgets": {},
     "nuid": "592e568f-51ed-4a27-bba6-b1ed1d6de6c8",
     "showTitle": false,
     "tableResultSettingsMap": {},
     "title": ""
    }
   },
   "outputs": [],
   "source": [
    "numeric_cols = ['HourlyAltimeterSetting',\n",
    " 'HourlyDewPointTemperature',\n",
    " 'HourlyDryBulbTemperature',\n",
    " 'HourlyPrecipitation',\n",
    " 'HourlyPresentWeatherType',\n",
    " 'HourlyPressureChange',\n",
    " 'HourlyPressureTendency',\n",
    " 'HourlyRelativeHumidity',\n",
    " 'HourlySkyConditions',\n",
    " 'HourlySeaLevelPressure',\n",
    " 'HourlyStationPressure',\n",
    " 'HourlyVisibility',\n",
    " 'HourlyWetBulbTemperature',\n",
    " 'HourlyWindDirection',\n",
    " 'HourlyWindGustSpeed',\n",
    " 'HourlyWindSpeed',\n",
    " 'DailyAverageDewPointTemperature',\n",
    " 'DailyAverageDryBulbTemperature',\n",
    " 'DailyAverageRelativeHumidity',\n",
    " 'DailyAverageSeaLevelPressure',\n",
    " 'DailyAverageStationPressure',\n",
    " 'DailyAverageWetBulbTemperature',\n",
    " 'DailyAverageWindSpeed',\n",
    " 'DailyCoolingDegreeDays',\n",
    " 'DailyDepartureFromNormalAverageTemperature',\n",
    " 'DailyHeatingDegreeDays',\n",
    " 'DailyMaximumDryBulbTemperature',\n",
    " 'DailyMinimumDryBulbTemperature',\n",
    " 'DailyPeakWindDirection',\n",
    " 'DailyPeakWindSpeed',\n",
    " 'DailyPrecipitation',\n",
    " 'DailySnowDepth',\n",
    " 'DailySnowfall',\n",
    " 'DailySustainedWindDirection',\n",
    " 'DailySustainedWindSpeed',\n",
    " 'DailyWeather',\n",
    " 'MonthlyAverageRH',\n",
    " 'MonthlyDaysWithGT001Precip',\n",
    " 'MonthlyDaysWithGT010Precip',\n",
    " 'MonthlyDaysWithGT32Temp',\n",
    " 'MonthlyDaysWithGT90Temp',\n",
    " 'MonthlyDaysWithLT0Temp',\n",
    " 'MonthlyDaysWithLT32Temp',\n",
    " 'MonthlyDepartureFromNormalAverageTemperature',\n",
    " 'MonthlyDepartureFromNormalCoolingDegreeDays',\n",
    " 'MonthlyDepartureFromNormalHeatingDegreeDays',\n",
    " 'MonthlyDepartureFromNormalMaximumTemperature',\n",
    " 'MonthlyDepartureFromNormalMinimumTemperature',\n",
    " 'MonthlyDepartureFromNormalPrecipitation',\n",
    " 'MonthlyDewpointTemperature',\n",
    " 'MonthlyGreatestPrecip',\n",
    " 'MonthlyGreatestPrecipDate',\n",
    " 'MonthlyGreatestSnowDepth',\n",
    " 'MonthlyGreatestSnowDepthDate',\n",
    " 'MonthlyGreatestSnowfall',\n",
    " 'MonthlyGreatestSnowfallDate',\n",
    " 'MonthlyMaxSeaLevelPressureValue',\n",
    " 'MonthlyMaxSeaLevelPressureValueDate',\n",
    " 'MonthlyMaxSeaLevelPressureValueTime',\n",
    " 'MonthlyMaximumTemperature',\n",
    " 'MonthlyMeanTemperature',\n",
    " 'MonthlyMinSeaLevelPressureValue',\n",
    " 'MonthlyMinSeaLevelPressureValueDate',\n",
    " 'MonthlyMinSeaLevelPressureValueTime',\n",
    " 'MonthlyMinimumTemperature',\n",
    " 'MonthlySeaLevelPressure',\n",
    " 'MonthlyStationPressure',\n",
    " 'MonthlyTotalLiquidPrecipitation',\n",
    " 'MonthlyTotalSnowfall',\n",
    " 'MonthlyWetBulb',\n",
    "  'ShortDurationEndDate005',\n",
    " 'ShortDurationEndDate010',\n",
    " 'ShortDurationEndDate015',\n",
    " 'ShortDurationEndDate020',\n",
    " 'ShortDurationEndDate030',\n",
    " 'ShortDurationEndDate045',\n",
    " 'ShortDurationEndDate060',\n",
    " 'ShortDurationEndDate080',\n",
    " 'ShortDurationEndDate100',\n",
    " 'ShortDurationEndDate120',\n",
    " 'ShortDurationEndDate150',\n",
    " 'ShortDurationEndDate180',\n",
    " 'ShortDurationPrecipitationValue005',\n",
    " 'ShortDurationPrecipitationValue010',\n",
    " 'ShortDurationPrecipitationValue015',\n",
    " 'ShortDurationPrecipitationValue020',\n",
    " 'ShortDurationPrecipitationValue030',\n",
    " 'ShortDurationPrecipitationValue045',\n",
    " 'ShortDurationPrecipitationValue060',\n",
    " 'ShortDurationPrecipitationValue080',\n",
    " 'ShortDurationPrecipitationValue100',\n",
    " 'ShortDurationPrecipitationValue120',\n",
    " 'ShortDurationPrecipitationValue150',\n",
    " 'ShortDurationPrecipitationValue180']"
   ]
  },
  {
   "cell_type": "code",
   "execution_count": 0,
   "metadata": {
    "application/vnd.databricks.v1+cell": {
     "cellMetadata": {
      "byteLimit": 2048000,
      "rowLimit": 10000
     },
     "inputWidgets": {},
     "nuid": "17f170fd-32b8-4eb5-94d2-e5a8eee22be7",
     "showTitle": false,
     "tableResultSettingsMap": {},
     "title": ""
    }
   },
   "outputs": [],
   "source": [
    "\n",
    "\n",
    "\n",
    "sum_expression = reduce(add, [F.when(F.col(c).isNull(), 1).otherwise(0) for c in numeric_cols])\n",
    "\n",
    "_loc = qdf_country \\\n",
    "    .filter(F.col(\"LATITUDE\").isNotNull()) \\\n",
    "    .filter(F.col('COUNTRY') == 'US') \\\n",
    "    .withColumn(\n",
    "        \"null_count\", \n",
    "        sum_expression\n",
    "    )\n",
    "\n",
    "loc_result = _loc \\\n",
    "    .withColumn(\"row_num\", \n",
    "                F.row_number().over(\n",
    "                    Window \\\n",
    "                        .partitionBy(\"STATION\", \"DATE\") \\\n",
    "                        .orderBy(F.col(\"null_count\").asc())\n",
    "                    )\n",
    "                ) \\\n",
    "    .filter(F.col(\"row_num\") == 1) \\\n",
    "    .drop(F.col('row_num')) \\\n",
    "    .drop(F.col('loc_result'))\n",
    "\n",
    "display(loc_result)"
   ]
  },
  {
   "cell_type": "code",
   "execution_count": 0,
   "metadata": {
    "application/vnd.databricks.v1+cell": {
     "cellMetadata": {
      "byteLimit": 2048000,
      "rowLimit": 10000
     },
     "inputWidgets": {},
     "nuid": "50cfd825-681b-414f-bdb7-146bf0f98d86",
     "showTitle": false,
     "tableResultSettingsMap": {},
     "title": ""
    }
   },
   "outputs": [],
   "source": [
    "loc_result = loc_result.drop(F.col('null_count'))"
   ]
  },
  {
   "cell_type": "code",
   "execution_count": 0,
   "metadata": {
    "application/vnd.databricks.v1+cell": {
     "cellMetadata": {
      "byteLimit": 2048000,
      "rowLimit": 10000
     },
     "inputWidgets": {},
     "nuid": "9dbb2969-3095-4af0-bb19-b51426ce2b39",
     "showTitle": false,
     "tableResultSettingsMap": {},
     "title": ""
    }
   },
   "outputs": [],
   "source": [
    "loc_result.count()"
   ]
  },
  {
   "cell_type": "code",
   "execution_count": 0,
   "metadata": {
    "application/vnd.databricks.v1+cell": {
     "cellMetadata": {
      "byteLimit": 2048000,
      "rowLimit": 10000
     },
     "inputWidgets": {},
     "nuid": "ae2d92e2-25e1-44af-8f95-ca1df5fc373f",
     "showTitle": false,
     "tableResultSettingsMap": {},
     "title": ""
    }
   },
   "outputs": [],
   "source": [
    "df_cols = missing_loc_result.columns\n",
    "\n",
    "# get index of the duplicate columns\n",
    "duplicate_col_index = list(set([df_cols.index(c) for c in df_cols if df_cols.count(c) == 2]))\n",
    "\n",
    "# rename by adding suffix '_duplicated'\n",
    "for i in duplicate_col_index:\n",
    "    df_cols[i] = df_cols[i] + '_duplicated'\n",
    "\n",
    "\n",
    "# remove flagged columns\n",
    "cols_to_remove = [c for c in df_cols if '_duplicated' in c]\n",
    "\n",
    "missing_loc_result = missing_loc_result.toDF(*df_cols)\n",
    "\n",
    "missing_loc_result=missing_loc_result.drop(*cols_to_remove)"
   ]
  },
  {
   "cell_type": "code",
   "execution_count": 0,
   "metadata": {
    "application/vnd.databricks.v1+cell": {
     "cellMetadata": {
      "byteLimit": 2048000,
      "rowLimit": 10000
     },
     "inputWidgets": {},
     "nuid": "ec75b5c0-a3b8-4186-a924-1e20a3a278d9",
     "showTitle": false,
     "tableResultSettingsMap": {},
     "title": ""
    }
   },
   "outputs": [],
   "source": [
    "full = missing_loc_result \\\n",
    "        .select(\n",
    "            *[F.col(col) for col in loc_result.columns]\n",
    "        ) \\\n",
    "        .union(loc_result)"
   ]
  },
  {
   "cell_type": "code",
   "execution_count": 0,
   "metadata": {
    "application/vnd.databricks.v1+cell": {
     "cellMetadata": {
      "byteLimit": 2048000,
      "rowLimit": 10000
     },
     "inputWidgets": {},
     "nuid": "ae788cb1-0337-46d3-bca0-e77a86e4d4d7",
     "showTitle": false,
     "tableResultSettingsMap": {},
     "title": ""
    }
   },
   "outputs": [],
   "source": [
    "full.filter(F.col('LATITUDE').isNull()).count()"
   ]
  },
  {
   "cell_type": "code",
   "execution_count": 0,
   "metadata": {
    "application/vnd.databricks.v1+cell": {
     "cellMetadata": {},
     "inputWidgets": {},
     "nuid": "ac03ed65-e0d4-4cd0-a6df-5058fbdb4c0c",
     "showTitle": false,
     "tableResultSettingsMap": {},
     "title": ""
    }
   },
   "outputs": [],
   "source": []
  },
  {
   "cell_type": "code",
   "execution_count": 0,
   "metadata": {
    "application/vnd.databricks.v1+cell": {
     "cellMetadata": {
      "byteLimit": 2048000,
      "rowLimit": 10000
     },
     "inputWidgets": {},
     "nuid": "934742e7-d011-49c3-a8d9-90464915f160",
     "showTitle": false,
     "tableResultSettingsMap": {},
     "title": ""
    }
   },
   "outputs": [],
   "source": [
    "display(qdf_uniq)"
   ]
  },
  {
   "cell_type": "code",
   "execution_count": 0,
   "metadata": {
    "application/vnd.databricks.v1+cell": {
     "cellMetadata": {
      "byteLimit": 2048000,
      "rowLimit": 10000
     },
     "inputWidgets": {},
     "nuid": "f5aac5c1-6e1e-4c63-8b07-2d9481376bca",
     "showTitle": false,
     "tableResultSettingsMap": {},
     "title": ""
    }
   },
   "outputs": [],
   "source": [
    "qdf_.filter(F.col('LATITUDE').isNull()).groupBy('STATION').count().show()"
   ]
  },
  {
   "cell_type": "code",
   "execution_count": 0,
   "metadata": {
    "application/vnd.databricks.v1+cell": {
     "cellMetadata": {
      "byteLimit": 2048000,
      "rowLimit": 10000
     },
     "inputWidgets": {},
     "nuid": "6035c3bc-2d81-4934-8976-79b16070df44",
     "showTitle": false,
     "tableResultSettingsMap": {},
     "title": ""
    }
   },
   "outputs": [],
   "source": [
    "\n",
    "#prepare for time lookup, UTC conversion and time grid interpolation\n",
    "qdf_ = full.withColumn('LATITUDE', full.LATITUDE.cast(types.DoubleType()))\n",
    "qdf_ = qdf_.withColumn('LONGITUDE', qdf_.LONGITUDE.cast(types.DoubleType()))\n",
    "qdf_ = qdf_.withColumn('DATETIME', F.regexp_replace(F.col('DATE'), 'T', ' '))\n",
    "qdf_ = qdf_.withColumn('DATETIME', F.to_timestamp('DATETIME', 'yyyy-MM-dd HH:mm:ss'))\n",
    "\n"
   ]
  },
  {
   "cell_type": "code",
   "execution_count": 0,
   "metadata": {
    "application/vnd.databricks.v1+cell": {
     "cellMetadata": {
      "byteLimit": 2048000,
      "rowLimit": 10000
     },
     "inputWidgets": {},
     "nuid": "310f35bf-912a-4dbd-8a31-e64092ba2878",
     "showTitle": false,
     "tableResultSettingsMap": {},
     "title": ""
    }
   },
   "outputs": [],
   "source": [
    "qdf_=qdf_.filter(F.col('STATION') != '99999937201')"
   ]
  },
  {
   "cell_type": "code",
   "execution_count": 0,
   "metadata": {
    "application/vnd.databricks.v1+cell": {
     "cellMetadata": {
      "byteLimit": 2048000,
      "rowLimit": 10000
     },
     "inputWidgets": {},
     "nuid": "34025b81-a3c3-4fca-bec6-bbed149153f5",
     "showTitle": false,
     "tableResultSettingsMap": {},
     "title": ""
    }
   },
   "outputs": [],
   "source": [
    "#get unique stations so we can use their lat/lon for a lookup table\n",
    "qdf_uniq = qdf_  \\\n",
    "            .withColumn(\"row_num\", \n",
    "                    F.row_number().over(\n",
    "                        Window.partitionBy('STATION')\n",
    "                        .orderBy(F.col(\"STATION\").desc())\n",
    "                    )) \\\n",
    "    .filter(F.col('row_num') == 1) \\\n",
    "    .drop(F.col('row_num'))\n"
   ]
  },
  {
   "cell_type": "code",
   "execution_count": 0,
   "metadata": {
    "application/vnd.databricks.v1+cell": {
     "cellMetadata": {
      "byteLimit": 2048000,
      "rowLimit": 10000
     },
     "inputWidgets": {},
     "nuid": "9b30b6ba-985f-41b1-84db-bb9bc56d6a99",
     "showTitle": false,
     "tableResultSettingsMap": {},
     "title": ""
    }
   },
   "outputs": [],
   "source": [
    "\n",
    "\n",
    "def find_timezone(lat, lng):\n",
    "    tf = TimezoneFinder()\n",
    "    timezone_str = tf.timezone_at(lat=lat, lng=lng)\n",
    "    return timezone_str if timezone_str else \"Unknown\"\n",
    "\n",
    "find_timezone_udf = udf(find_timezone, StringType())\n"
   ]
  },
  {
   "cell_type": "code",
   "execution_count": 0,
   "metadata": {
    "application/vnd.databricks.v1+cell": {
     "cellMetadata": {
      "byteLimit": 2048000,
      "rowLimit": 10000
     },
     "inputWidgets": {},
     "nuid": "e05c6f3f-788c-4597-9a58-07cedf878a23",
     "showTitle": false,
     "tableResultSettingsMap": {},
     "title": ""
    }
   },
   "outputs": [],
   "source": [
    "\n",
    "qdf_tz = qdf_uniq.withColumn(\"timezone\", \n",
    "                             find_timezone_udf(col(\"LATITUDE\"), col(\"LONGITUDE\")))\n",
    "\n",
    "qdf_time = qdf_.join(qdf_tz.select('STATION','timezone'), ['STATION'], 'left_outer')\n"
   ]
  },
  {
   "cell_type": "code",
   "execution_count": 0,
   "metadata": {
    "application/vnd.databricks.v1+cell": {
     "cellMetadata": {
      "byteLimit": 2048000,
      "rowLimit": 10000
     },
     "inputWidgets": {},
     "nuid": "6a56d45a-b644-4731-ac0b-d617589bbfd0",
     "showTitle": false,
     "tableResultSettingsMap": {},
     "title": ""
    }
   },
   "outputs": [],
   "source": [
    "display(qdf_tz.limit(10))"
   ]
  },
  {
   "cell_type": "code",
   "execution_count": 0,
   "metadata": {
    "application/vnd.databricks.v1+cell": {
     "cellMetadata": {
      "byteLimit": 2048000,
      "rowLimit": 10000
     },
     "inputWidgets": {},
     "nuid": "187297a7-7776-47c5-99de-8706058703cd",
     "showTitle": false,
     "tableResultSettingsMap": {},
     "title": ""
    }
   },
   "outputs": [],
   "source": [
    "qdf_.cache()"
   ]
  },
  {
   "cell_type": "code",
   "execution_count": 0,
   "metadata": {
    "application/vnd.databricks.v1+cell": {
     "cellMetadata": {
      "byteLimit": 2048000,
      "rowLimit": 10000
     },
     "inputWidgets": {},
     "nuid": "c3146d40-fc01-44a5-a4e1-1e9f195f4d8b",
     "showTitle": false,
     "tableResultSettingsMap": {},
     "title": ""
    }
   },
   "outputs": [],
   "source": [
    "display(qdf_)"
   ]
  },
  {
   "cell_type": "code",
   "execution_count": 0,
   "metadata": {
    "application/vnd.databricks.v1+cell": {
     "cellMetadata": {
      "byteLimit": 2048000,
      "rowLimit": 10000
     },
     "inputWidgets": {},
     "nuid": "9454580b-1c5f-4d75-a13d-927ecfe58565",
     "showTitle": false,
     "tableResultSettingsMap": {},
     "title": ""
    }
   },
   "outputs": [],
   "source": []
  },
  {
   "cell_type": "code",
   "execution_count": 0,
   "metadata": {
    "application/vnd.databricks.v1+cell": {
     "cellMetadata": {
      "byteLimit": 2048000,
      "rowLimit": 10000
     },
     "inputWidgets": {},
     "nuid": "2150ff52-a1bb-4676-96e7-a5992d661a08",
     "showTitle": false,
     "tableResultSettingsMap": {},
     "title": ""
    }
   },
   "outputs": [],
   "source": [
    "display(qdf_tz.limit(10))"
   ]
  },
  {
   "cell_type": "code",
   "execution_count": 0,
   "metadata": {
    "application/vnd.databricks.v1+cell": {
     "cellMetadata": {
      "byteLimit": 2048000,
      "rowLimit": 10000
     },
     "inputWidgets": {},
     "nuid": "f68bf6b4-6151-4938-ada1-7c10585c6da3",
     "showTitle": false,
     "tableResultSettingsMap": {},
     "title": ""
    }
   },
   "outputs": [],
   "source": [
    "qdf_tz.cache()"
   ]
  },
  {
   "cell_type": "code",
   "execution_count": 0,
   "metadata": {
    "application/vnd.databricks.v1+cell": {
     "cellMetadata": {
      "byteLimit": 2048000,
      "rowLimit": 10000
     },
     "inputWidgets": {},
     "nuid": "55971050-0b26-41d3-b3d0-65227a9a8cb8",
     "showTitle": false,
     "tableResultSettingsMap": {},
     "title": ""
    }
   },
   "outputs": [],
   "source": [
    "folder_path = \"dbfs:/student-groups/Group_4_1\"\n",
    "\n",
    "qdf_tz.write.mode('overwrite').parquet(f\"{folder_path}/external/3m_weather_tz_lookup.parquet\")"
   ]
  },
  {
   "cell_type": "code",
   "execution_count": 0,
   "metadata": {
    "application/vnd.databricks.v1+cell": {
     "cellMetadata": {
      "byteLimit": 2048000,
      "rowLimit": 10000
     },
     "inputWidgets": {},
     "nuid": "7259d95f-84d4-4816-8d21-89d285c71d60",
     "showTitle": false,
     "tableResultSettingsMap": {},
     "title": ""
    }
   },
   "outputs": [],
   "source": [
    "\n",
    "\n",
    "def get_utc(datetime_str, timezone_str):\n",
    "    '''Using timezone information, get localized time of the datetime col then convert to UTC'''\n",
    "    t = pytz.timezone(timezone_str)\n",
    "    dt = datetime.strptime(datetime_str, '%Y-%m-%d %H:%M:%S')\n",
    "    local_dt = t.localize(dt)\n",
    "    utc_dt = local_dt.astimezone(pytz.utc)\n",
    "    return utc_dt\n",
    "\n",
    "get_utc_udf = udf(get_utc, TimestampType())\n",
    "\n"
   ]
  },
  {
   "cell_type": "code",
   "execution_count": 0,
   "metadata": {
    "application/vnd.databricks.v1+cell": {
     "cellMetadata": {
      "byteLimit": 2048000,
      "rowLimit": 10000
     },
     "inputWidgets": {},
     "nuid": "50492d9f-bfac-4fbc-9896-588d1857d0b8",
     "showTitle": false,
     "tableResultSettingsMap": {},
     "title": ""
    }
   },
   "outputs": [],
   "source": [
    "qdf_time = qdf_time.withColumn('DATETIME', \n",
    "                               F.to_timestamp(F.col('DATETIME').cast('string')))\n",
    "qdf_time = qdf_time.withColumn('utc_datetime', \n",
    "                               get_utc_udf(F.col('DATETIME').cast('string'), F.col('timezone')))\n",
    "\n"
   ]
  },
  {
   "cell_type": "code",
   "execution_count": 0,
   "metadata": {
    "application/vnd.databricks.v1+cell": {
     "cellMetadata": {},
     "inputWidgets": {},
     "nuid": "cec0293d-946b-46d0-9410-bb818731e53b",
     "showTitle": false,
     "tableResultSettingsMap": {},
     "title": ""
    }
   },
   "outputs": [],
   "source": [
    "display(qdf_time)"
   ]
  },
  {
   "cell_type": "code",
   "execution_count": 0,
   "metadata": {
    "application/vnd.databricks.v1+cell": {
     "cellMetadata": {
      "byteLimit": 2048000,
      "rowLimit": 10000
     },
     "inputWidgets": {},
     "nuid": "6416ee58-48e3-4a80-b007-2b64c877cbab",
     "showTitle": false,
     "tableResultSettingsMap": {},
     "title": ""
    }
   },
   "outputs": [],
   "source": [
    "checkpoint_path = \"dbfs:/student-groups/Group_4_1/interim/weather_3m_checkpoint\"\n",
    "\n",
    "\n",
    "spark.sparkContext.setCheckpointDir(checkpoint_path)\n",
    "\n",
    "weather_qdf_checkpointed = qdf_time.checkpoint(eager=True)\n",
    "weather_qdf_checkpointed.write.mode('overwrite').parquet(checkpoint_path)\n"
   ]
  },
  {
   "cell_type": "markdown",
   "metadata": {
    "application/vnd.databricks.v1+cell": {
     "cellMetadata": {},
     "inputWidgets": {},
     "nuid": "28ffbe7d-b2e2-4a3b-8746-ffe3dfcfb544",
     "showTitle": false,
     "tableResultSettingsMap": {},
     "title": ""
    }
   },
   "source": [
    "# Sanity Check Sandbox"
   ]
  },
  {
   "cell_type": "code",
   "execution_count": 0,
   "metadata": {
    "application/vnd.databricks.v1+cell": {
     "cellMetadata": {},
     "inputWidgets": {},
     "nuid": "1e5f2086-4d57-4dbf-803d-f5b3c4bcec40",
     "showTitle": false,
     "tableResultSettingsMap": {},
     "title": ""
    }
   },
   "outputs": [],
   "source": [
    "\n",
    "display(ydf_interpolate.filter(F.col('STATION')=='70219599999'))\n",
    "display(ydf_time.filter(F.col('STATION')=='70219599999'))"
   ]
  },
  {
   "cell_type": "code",
   "execution_count": 0,
   "metadata": {
    "application/vnd.databricks.v1+cell": {
     "cellMetadata": {},
     "inputWidgets": {},
     "nuid": "5515b97f-dd5f-4277-9cf7-d4bc2adb2b79",
     "showTitle": false,
     "tableResultSettingsMap": {},
     "title": ""
    }
   },
   "outputs": [],
   "source": [
    "display(ydf_metar.filter(F.col('HourlyPrecipitation').isNull() &\n",
    "                 (F.col('REM').contains(' P000')))\n",
    "                .select('REM')\n",
    "                )"
   ]
  },
  {
   "cell_type": "code",
   "execution_count": 0,
   "metadata": {
    "application/vnd.databricks.v1+cell": {
     "cellMetadata": {},
     "inputWidgets": {},
     "nuid": "1556773f-4d8a-47ff-97a3-dd934f57b9e8",
     "showTitle": false,
     "tableResultSettingsMap": {},
     "title": ""
    }
   },
   "outputs": [],
   "source": [
    "#try to find a rule for selecting duplicates\n",
    "\n",
    "#duplicate NAME-DATE pairs\n",
    "duplicates = (\n",
    "    ydf_country\n",
    "    .filter(F.col('REPORT_TYPE') == 'FM-15')\n",
    "    .filter(F.col('COUNTRY') == 'US')\n",
    "    .groupBy('NAME', 'DATE')\n",
    "    .count()\n",
    "    .filter(F.col(\"count\") > 1)\n",
    "    .select(\"NAME\", \"DATE\")\n",
    ")\n",
    "\n",
    "#sources for each duplicate NAME-DATE as an array\n",
    "source_combinations = (\n",
    "    ydf_country\n",
    "    .join(duplicates, on=[\"NAME\", \"DATE\"], how=\"inner\")\n",
    "    .groupBy(\"NAME\", \"DATE\")\n",
    "    .agg(F.collect_set(\"SOURCE\").alias(\"source_list\"))\n",
    ")\n",
    "\n",
    "#get unique (SOURCE1, SOURCE2) pairs\n",
    "\n",
    "def generate_pairs(source_list):\n",
    "    return [tuple(sorted(pair)) for pair in combinations(source_list, 2)] if len(source_list) > 1 else []\n",
    "\n",
    "generate_pairs_udf = F.udf(generate_pairs, \"array<struct<source1:string, source2:string>>\")\n",
    "\n",
    "source_pairs = source_combinations.withColumn(\"source_pairs\", generate_pairs_udf(F.col(\"source_list\")))\n",
    "\n",
    "#explode the pairs & count occurrences per NAME\n",
    "pair_counts = (\n",
    "    source_pairs\n",
    "    .select(\"NAME\", F.explode(\"source_pairs\").alias(\"pair\"))\n",
    "    .groupBy(\"NAME\", \"pair\")\n",
    "    .count()\n",
    ")\n",
    "\n",
    "#collapse to show only name & pair tally\n",
    "final_result = (\n",
    "    pair_counts\n",
    "    .groupBy(\"NAME\")\n",
    "    .agg(F.collect_list(F.struct(\"pair\", \"count\")).alias(\"source_tally\"))\n",
    ")\n",
    "\n",
    "display(final_result)\n"
   ]
  }
 ],
 "metadata": {
  "application/vnd.databricks.v1+notebook": {
   "computePreferences": null,
   "dashboards": [],
   "environmentMetadata": {
    "base_environment": "",
    "environment_version": "2"
   },
   "inputWidgetPreferences": null,
   "language": "python",
   "notebookMetadata": {
    "pythonIndentUnit": 4
   },
   "notebookName": "0.03-sg-weather-clean",
   "widgets": {}
  },
  "language_info": {
   "name": "python"
  }
 },
 "nbformat": 4,
 "nbformat_minor": 0
}
