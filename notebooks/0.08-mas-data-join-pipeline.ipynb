{
 "cells": [
  {
   "cell_type": "code",
   "execution_count": 0,
   "metadata": {
    "application/vnd.databricks.v1+cell": {
     "cellMetadata": {
      "byteLimit": 2048000,
      "rowLimit": 10000
     },
     "inputWidgets": {},
     "nuid": "f1ecfca9-86db-4f08-a258-66066d8465fc",
     "showTitle": false,
     "tableResultSettingsMap": {},
     "title": ""
    }
   },
   "outputs": [],
   "source": [
    "!pip install timezonefinder"
   ]
  },
  {
   "cell_type": "code",
   "execution_count": 0,
   "metadata": {
    "application/vnd.databricks.v1+cell": {
     "cellMetadata": {
      "byteLimit": 2048000,
      "rowLimit": 10000
     },
     "inputWidgets": {},
     "nuid": "47fc5d26-6c17-4d01-a700-91887c05ee7d",
     "showTitle": false,
     "tableResultSettingsMap": {},
     "title": ""
    }
   },
   "outputs": [],
   "source": [
    "from pyspark.sql import functions as F\n",
    "from pyspark.sql.window import Window\n",
    "from pyspark.sql.types import StringType\n",
    "from datetime import datetime, timedelta\n",
    "from timezonefinder import TimezoneFinder\n",
    "import pytz\n",
    "# from timezonefinder import TimezoneFinder"
   ]
  },
  {
   "cell_type": "markdown",
   "metadata": {
    "application/vnd.databricks.v1+cell": {
     "cellMetadata": {
      "byteLimit": 2048000,
      "rowLimit": 10000
     },
     "inputWidgets": {},
     "nuid": "ef3f6520-3642-4c60-9aeb-0de483e2ee9b",
     "showTitle": false,
     "tableResultSettingsMap": {},
     "title": ""
    }
   },
   "source": [
    "## Variables and Directories"
   ]
  },
  {
   "cell_type": "code",
   "execution_count": 0,
   "metadata": {
    "application/vnd.databricks.v1+cell": {
     "cellMetadata": {
      "byteLimit": 2048000,
      "rowLimit": 10000
     },
     "inputWidgets": {},
     "nuid": "1bb51440-a7d8-4056-b08d-8aabf59638a0",
     "showTitle": false,
     "tableResultSettingsMap": {},
     "title": ""
    }
   },
   "outputs": [],
   "source": [
    "# Variables and directories\n",
    "team_BASE_DIR = f\"dbfs:/student-groups/Group_4_1\"\n",
    "spark.sparkContext.setCheckpointDir(f\"{team_BASE_DIR}/checkpoints\")\n",
    "period = \"3m\" # on of the following values (\"\", \"3m\", \"6m\", \"1y\")\n",
    "\n",
    "# Datasets\n",
    "flights = spark.read.parquet(f\"{team_BASE_DIR}/raw/flightdelays/parquet_airlines_data_{period}\")\n",
    "airport_codes = spark.read.parquet(f\"{team_BASE_DIR}/external/airport_codes.parquet/\")\n",
    "stations = spark.read.parquet(f\"{team_BASE_DIR}/raw/stations/stations_with_neighbors.parquet/\")\n",
    "timezones = spark.read.parquet(f\"{team_BASE_DIR}/external/tz_lookup.parquet\")"
   ]
  },
  {
   "cell_type": "code",
   "execution_count": 0,
   "metadata": {
    "application/vnd.databricks.v1+cell": {
     "cellMetadata": {
      "byteLimit": 2048000,
      "rowLimit": 10000
     },
     "inputWidgets": {},
     "nuid": "a777bdd1-64ac-4858-a4d1-63ebf07ac035",
     "showTitle": false,
     "tableResultSettingsMap": {},
     "title": ""
    }
   },
   "outputs": [],
   "source": [
    "display(dbutils.fs.ls(f\"{team_BASE_DIR}/checkpoints\"))"
   ]
  },
  {
   "cell_type": "markdown",
   "metadata": {
    "application/vnd.databricks.v1+cell": {
     "cellMetadata": {
      "byteLimit": 2048000,
      "rowLimit": 10000
     },
     "inputWidgets": {},
     "nuid": "91498e9c-4057-4ad4-ae6e-24744b62db7d",
     "showTitle": false,
     "tableResultSettingsMap": {},
     "title": ""
    }
   },
   "source": [
    "## Step 1: Cleaning and Feature selection"
   ]
  },
  {
   "cell_type": "code",
   "execution_count": 0,
   "metadata": {
    "application/vnd.databricks.v1+cell": {
     "cellMetadata": {
      "byteLimit": 2048000,
      "rowLimit": 10000
     },
     "collapsed": true,
     "inputWidgets": {},
     "nuid": "eb66c8ad-622c-46a6-9dea-6d936e1885a1",
     "showTitle": false,
     "tableResultSettingsMap": {},
     "title": ""
    }
   },
   "outputs": [],
   "source": [
    "# Flights Selected Features\n",
    "feat = ['FL_DATE',\n",
    " 'OP_UNIQUE_CARRIER',\n",
    " 'TAIL_NUM',\n",
    " 'OP_CARRIER_FL_NUM',\n",
    " 'ORIGIN',\n",
    " 'DEST',\n",
    " 'CRS_DEP_TIME',\n",
    " 'DEP_DELAY',\n",
    " 'CRS_ARR_TIME',\n",
    " 'ARR_DELAY',\n",
    " 'CANCELLED',\n",
    " 'DIVERTED',\n",
    " 'CRS_ELAPSED_TIME',\n",
    " 'AIR_TIME',\n",
    " 'DISTANCE',\n",
    " 'ORIGIN_AIRPORT_SEQ_ID',\n",
    " 'DEST_AIRPORT_SEQ_ID',\n",
    " 'TAXI_OUT',\n",
    " 'TAXI_IN',\n",
    " 'QUARTER',\n",
    " 'MONTH',\n",
    " 'DAY_OF_MONTH',\n",
    " 'DAY_OF_WEEK',\n",
    " 'DEP_TIME_BLK',\n",
    " 'ARR_TIME_BLK',\n",
    " 'YEAR',\n",
    " 'ORIGIN_CITY_NAME',\n",
    " 'DEST_CITY_NAME',\n",
    " 'ORIGIN_STATE_FIPS',\n",
    " 'DEST_STATE_FIPS',\n",
    " 'CARRIER_DELAY',\n",
    " 'WEATHER_DELAY',\n",
    " 'NAS_DELAY',\n",
    " 'SECURITY_DELAY',\n",
    " 'LATE_AIRCRAFT_DELAY',\n",
    " 'DIV_ARR_DELAY',\n",
    " 'CANCELLATION_CODE',\n",
    " 'FIRST_DEP_TIME',\n",
    " 'LONGEST_ADD_GTIME',\n",
    " 'TOTAL_ADD_GTIME']"
   ]
  },
  {
   "cell_type": "code",
   "execution_count": 0,
   "metadata": {
    "application/vnd.databricks.v1+cell": {
     "cellMetadata": {
      "byteLimit": 2048000,
      "rowLimit": 10000
     },
     "inputWidgets": {},
     "nuid": "6f580eed-1a4a-492b-a56f-17f40db66572",
     "showTitle": false,
     "tableResultSettingsMap": {},
     "title": ""
    }
   },
   "outputs": [],
   "source": [
    "# Read Airline Data (flights) selected features and removing duplicates (if any)\n",
    "flights_clean = flights.select(feat).dropDuplicates()\n",
    "flights_clean.cache()\n",
    "flights_clean = flights_clean.checkpoint() # Checkpoint after cleaning (prevents recomputation) TODO: save to DBFS  iterim folder)"
   ]
  },
  {
   "cell_type": "markdown",
   "metadata": {
    "application/vnd.databricks.v1+cell": {
     "cellMetadata": {
      "byteLimit": 2048000,
      "rowLimit": 10000
     },
     "inputWidgets": {},
     "nuid": "52fc9e3c-a92c-4440-a697-8c47138c64e2",
     "showTitle": false,
     "tableResultSettingsMap": {},
     "title": ""
    }
   },
   "source": [
    "## Step 2: Joining Flight with Airports to retrieve ICAO"
   ]
  },
  {
   "cell_type": "markdown",
   "metadata": {
    "application/vnd.databricks.v1+cell": {
     "cellMetadata": {
      "byteLimit": 2048000,
      "rowLimit": 10000
     },
     "inputWidgets": {},
     "nuid": "50024eef-44ac-4c9b-aec8-1221f51c7447",
     "showTitle": false,
     "tableResultSettingsMap": {},
     "title": ""
    }
   },
   "source": [
    "### 1. Checking missing IATA codes in Airpot codes table and fix or adding the missing"
   ]
  },
  {
   "cell_type": "code",
   "execution_count": 0,
   "metadata": {
    "application/vnd.databricks.v1+cell": {
     "cellMetadata": {
      "byteLimit": 2048000,
      "rowLimit": 10000
     },
     "inputWidgets": {},
     "nuid": "66f4dd61-bddf-471c-b9a2-a3bbe7e88366",
     "showTitle": false,
     "tableResultSettingsMap": {},
     "title": ""
    }
   },
   "outputs": [],
   "source": [
    "# Extract distinct ORIGIN and DEST codes\n",
    "flight_iata = flights_clean.select(\"ORIGIN\").union(flights_clean.select(\"DEST\")).distinct()\n",
    "\n",
    "# Extract distinct IATA codes from airport_codes\n",
    "airport_iata = airport_codes.select(\"iata_code\").distinct()\n",
    "\n",
    "# Find missing IATA codes in flights but not in airport data\n",
    "missing_iata = flight_iata.join(airport_iata, flight_iata[\"ORIGIN\"] == airport_iata[\"iata_code\"], \"left_anti\") \\\n",
    "                          .select(F.col(\"ORIGIN\").alias(\"missing_code\"))\n",
    "\n",
    "display(missing_iata)"
   ]
  },
  {
   "cell_type": "code",
   "execution_count": 0,
   "metadata": {
    "application/vnd.databricks.v1+cell": {
     "cellMetadata": {
      "byteLimit": 2048000,
      "rowLimit": 10000
     },
     "inputWidgets": {},
     "nuid": "b3ef9d65-fcb4-4faf-9609-a4afd7faa0a4",
     "showTitle": false,
     "tableResultSettingsMap": {},
     "title": ""
    }
   },
   "outputs": [],
   "source": [
    "# Fixing missing iata code: (Replacing the ISN to XWA)\n",
    "flights_clean = flights_clean.na.replace(['ISN'], ['XWA'], 'ORIGIN').na.replace(['ISN'], ['XWA'], 'DEST')"
   ]
  },
  {
   "cell_type": "markdown",
   "metadata": {
    "application/vnd.databricks.v1+cell": {
     "cellMetadata": {
      "byteLimit": 2048000,
      "rowLimit": 10000
     },
     "inputWidgets": {},
     "nuid": "840266a4-2a25-4a8a-93cb-961d90631181",
     "showTitle": false,
     "tableResultSettingsMap": {},
     "title": ""
    }
   },
   "source": [
    "### 2. Performing the join to get ICAO codes"
   ]
  },
  {
   "cell_type": "code",
   "execution_count": 0,
   "metadata": {
    "application/vnd.databricks.v1+cell": {
     "cellMetadata": {
      "byteLimit": 2048000,
      "rowLimit": 10000
     },
     "inputWidgets": {},
     "nuid": "e217f2b4-ecd3-4083-8e9b-817013461693",
     "showTitle": false,
     "tableResultSettingsMap": {},
     "title": ""
    }
   },
   "outputs": [],
   "source": [
    "from pyspark.sql.functions import broadcast\n",
    "\n",
    "# Register as temporary views for SQL use\n",
    "flights_clean.createOrReplaceTempView(\"flights_clean\")\n",
    "airport_codes.createOrReplaceTempView(\"airport_codes\")\n",
    "\n",
    "# Apply Broadcast Join for small airport_codes table\n",
    "airport_codes_broadcast = broadcast(airport_codes)\n",
    "\n",
    "flights_w_icao = flights_clean \\\n",
    "    .join(airport_codes_broadcast.alias(\"a1\"), flights_clean.ORIGIN == F.col(\"a1.iata_code\"), \"left\") \\\n",
    "    .join(airport_codes_broadcast.alias(\"a2\"), flights_clean.DEST == F.col(\"a2.iata_code\"), \"left\") \\\n",
    "    .select(\n",
    "        flights_clean[\"*\"],\n",
    "        F.col(\"a1.icao_code\").alias(\"ORIGIN_ICAO\"),\n",
    "        F.col(\"a1.type\").alias(\"origin_type\"),\n",
    "        F.col(\"a1.iso_region\").alias(\"origin_region\"),\n",
    "        F.col(\"a2.icao_code\").alias(\"DEST_ICAO\"),\n",
    "        F.col(\"a2.type\").alias(\"dest_type\"),\n",
    "        F.col(\"a2.iso_region\").alias(\"dest_region\")\n",
    "    )\n",
    "\n",
    "# Cache & checkpoint post join (TODO: save to DBFS iterim folder)\n",
    "flights_w_icao.cache()\n",
    "flights_w_icao = flights_w_icao.checkpoint()"
   ]
  },
  {
   "cell_type": "markdown",
   "metadata": {
    "application/vnd.databricks.v1+cell": {
     "cellMetadata": {
      "byteLimit": 2048000,
      "rowLimit": 10000
     },
     "inputWidgets": {},
     "nuid": "ff142bb6-c843-4310-be3d-3f1acf5242be",
     "showTitle": false,
     "tableResultSettingsMap": {},
     "title": ""
    }
   },
   "source": [
    "### 3. Checking if flights still have any missing ICAO code after the join"
   ]
  },
  {
   "cell_type": "code",
   "execution_count": 0,
   "metadata": {
    "application/vnd.databricks.v1+cell": {
     "cellMetadata": {
      "byteLimit": 2048000,
      "rowLimit": 10000
     },
     "inputWidgets": {},
     "nuid": "3a85bb44-ad98-4d33-aa0c-3208d67b0814",
     "showTitle": false,
     "tableResultSettingsMap": {},
     "title": ""
    }
   },
   "outputs": [],
   "source": [
    "# check for null ORIGIN_ICAO and DEST_ICAO after the join (must be null)\n",
    "display(\n",
    "  flights_w_icao\n",
    "  .filter(F.col(\"ORIGIN_ICAO\").isNull())\n",
    "  .select(F.col(\"ORIGIN\").alias(\"missing_icao\"))\n",
    "  .union(\n",
    "    flights_w_icao\n",
    "    .filter(F.col(\"DEST_ICAO\").isNull())\n",
    "    .select(F.col(\"DEST\").alias(\"missing_icao\"))\n",
    "  )\n",
    "  .distinct()\n",
    "\n",
    "  )"
   ]
  },
  {
   "cell_type": "markdown",
   "metadata": {
    "application/vnd.databricks.v1+cell": {
     "cellMetadata": {
      "byteLimit": 2048000,
      "rowLimit": 10000
     },
     "inputWidgets": {},
     "nuid": "ccac9e9d-412e-42df-9838-d1b29bea2ecc",
     "showTitle": false,
     "tableResultSettingsMap": {},
     "title": ""
    }
   },
   "source": [
    "## Step 3: Joining Flight with Stations to get the closest station ID and coordinates"
   ]
  },
  {
   "cell_type": "markdown",
   "metadata": {
    "application/vnd.databricks.v1+cell": {
     "cellMetadata": {
      "byteLimit": 2048000,
      "rowLimit": 10000
     },
     "inputWidgets": {},
     "nuid": "7815db08-a18f-49fc-9b48-eb2b5624639b",
     "showTitle": false,
     "tableResultSettingsMap": {},
     "title": ""
    }
   },
   "source": [
    "### 1. Validate Missing ICAO Codes in Stations Data before the join"
   ]
  },
  {
   "cell_type": "code",
   "execution_count": 0,
   "metadata": {
    "application/vnd.databricks.v1+cell": {
     "cellMetadata": {
      "byteLimit": 2048000,
      "rowLimit": 10000
     },
     "inputWidgets": {},
     "nuid": "9939210e-d6f9-4c2f-86b6-51646151d2b3",
     "showTitle": false,
     "tableResultSettingsMap": {},
     "title": ""
    }
   },
   "outputs": [],
   "source": [
    "# Extract unique ICAO codes from flights\n",
    "flight_icao = flights_w_icao.select(\"ORIGIN_ICAO\").union(flights_w_icao.select(\"DEST_ICAO\")).distinct()\n",
    "\n",
    "# Extract unique station ICAO codes\n",
    "stations_icao = stations.select(\"neighbor_call\").distinct()\n",
    "\n",
    "# Find missing ICAO codes\n",
    "missing_icao_lst = (\n",
    "    flight_icao.join(stations_icao, flight_icao[\"ORIGIN_ICAO\"] == stations_icao[\"neighbor_call\"], \"left_anti\")\n",
    "    .select(F.col(\"ORIGIN_ICAO\").alias(\"missing_code\"))\n",
    "    .rdd.flatMap(lambda x: x).collect()\n",
    ")"
   ]
  },
  {
   "cell_type": "markdown",
   "metadata": {
    "application/vnd.databricks.v1+cell": {
     "cellMetadata": {
      "byteLimit": 2048000,
      "rowLimit": 10000
     },
     "inputWidgets": {},
     "nuid": "8b2de5e7-b46c-4316-8489-54d4bdcc6950",
     "showTitle": false,
     "tableResultSettingsMap": {},
     "title": ""
    }
   },
   "source": [
    "### 2. Construct Missing ICAO Data Using Airport Codes"
   ]
  },
  {
   "cell_type": "code",
   "execution_count": 0,
   "metadata": {
    "application/vnd.databricks.v1+cell": {
     "cellMetadata": {
      "byteLimit": 2048000,
      "rowLimit": 10000
     },
     "inputWidgets": {},
     "nuid": "036e38e0-56a3-4011-a6a0-d6e144a5fcc6",
     "showTitle": false,
     "tableResultSettingsMap": {},
     "title": ""
    }
   },
   "outputs": [],
   "source": [
    "missing_icao = (\n",
    "    airport_codes.filter(F.col(\"icao_code\").isin(missing_icao_lst))\n",
    "    .withColumn(\"neighbor_id\", F.col(\"ident\"))\n",
    "    .withColumn(\"neighbor_name\", F.col(\"name\"))\n",
    "    .withColumn(\"neighbor_state\", F.split(F.col(\"iso_region\"), \"-\")[1].cast(\"string\"))\n",
    "    .withColumn(\"neighbor_call\", F.col(\"icao_code\"))\n",
    "    .withColumn(\"neighbor_lat\", F.split(F.col(\"coordinates\"), \",\")[0].cast(\"double\"))\n",
    "    .withColumn(\"neighbor_lon\", F.split(F.col(\"coordinates\"), \",\")[1].cast(\"double\"))\n",
    "    .select(\"neighbor_id\", \"neighbor_name\", \"neighbor_state\", \"neighbor_call\", \"neighbor_lat\", \"neighbor_lon\")\n",
    ")"
   ]
  },
  {
   "cell_type": "markdown",
   "metadata": {
    "application/vnd.databricks.v1+cell": {
     "cellMetadata": {
      "byteLimit": 2048000,
      "rowLimit": 10000
     },
     "inputWidgets": {},
     "nuid": "5b56d24b-da35-4fb0-b2ce-3d897a86af73",
     "showTitle": false,
     "tableResultSettingsMap": {},
     "title": ""
    }
   },
   "source": [
    "### 3. Augment Stations with the missing airports and Find Nearest Weather Stations (Optimized with Haversine)"
   ]
  },
  {
   "cell_type": "code",
   "execution_count": 0,
   "metadata": {
    "application/vnd.databricks.v1+cell": {
     "cellMetadata": {
      "byteLimit": 2048000,
      "rowLimit": 10000
     },
     "inputWidgets": {},
     "nuid": "a501dc66-42da-49a4-8fb6-224f5b9728f4",
     "showTitle": false,
     "tableResultSettingsMap": {},
     "title": ""
    }
   },
   "outputs": [],
   "source": [
    "# Define Haversine formula for distance calculation\n",
    "def haversine(lat1, lon1, lat2, lon2):\n",
    "    R = 6371  # Radius of Earth in km\n",
    "    d_lat = F.radians(lat2 - lat1)\n",
    "    d_lon = F.radians(lon2 - lon1)\n",
    "    a = (F.sin(d_lat / 2) ** 2) + F.cos(F.radians(lat1)) * F.cos(F.radians(lat2)) * (F.sin(d_lon / 2) ** 2)\n",
    "    c = 2 * F.atan2(F.sqrt(a), F.sqrt(1 - a))\n",
    "    return R * c\n",
    "\n",
    "# Calculate distances between missing ICAO and weather stations\n",
    "dist_stations = stations.select(\"usaf\", \"wban\", \"station_id\", \"lat\", \"lon\").distinct()\n",
    "missing_distances = (\n",
    "    dist_stations.crossJoin(missing_icao)\n",
    "    .withColumn(\"distance_to_neighbor\", haversine(F.col(\"lat\"), F.col(\"lon\"), F.col(\"neighbor_lat\"), F.col(\"neighbor_lon\")))\n",
    ")\n",
    "\n",
    "aug_stations = stations.union(missing_distances)\n",
    "\n",
    "# Find closest station\n",
    "aug_stations = (\n",
    "    aug_stations.withColumn(\"rn\", F.row_number().over(Window.partitionBy(\"neighbor_call\").orderBy(\"distance_to_neighbor\")))\n",
    "    .filter(F.col(\"rn\") == 1)\n",
    ")\n",
    "\n",
    "\n",
    "# Cache & checkpoint augmented stations (TODO: save to DBFS iterim folder)\n",
    "aug_stations.cache()\n",
    "aug_stations = aug_stations.checkpoint()"
   ]
  },
  {
   "cell_type": "markdown",
   "metadata": {
    "application/vnd.databricks.v1+cell": {
     "cellMetadata": {
      "byteLimit": 2048000,
      "rowLimit": 10000
     },
     "inputWidgets": {},
     "nuid": "890b568f-3111-4ec5-a025-86bcdcc11e7b",
     "showTitle": false,
     "tableResultSettingsMap": {},
     "title": ""
    }
   },
   "source": [
    "### 4. Performing the join to get the nearest station's data"
   ]
  },
  {
   "cell_type": "code",
   "execution_count": 0,
   "metadata": {
    "application/vnd.databricks.v1+cell": {
     "cellMetadata": {
      "byteLimit": 2048000,
      "rowLimit": 10000
     },
     "inputWidgets": {},
     "nuid": "a70701de-0ccf-4eb9-94ac-bb978c9309c1",
     "showTitle": false,
     "tableResultSettingsMap": {},
     "title": ""
    }
   },
   "outputs": [],
   "source": [
    "# Register as temporary views for SQL use\n",
    "flights_w_icao.createOrReplaceTempView(\"flights_w_icao\")\n",
    "aug_stations.createOrReplaceTempView(\"aug_stations\")\n",
    "\n",
    "# Apply Broadcast Join for small aug_stations table\n",
    "aug_stations_broadcast = broadcast(aug_stations)\n",
    "\n",
    "flights_stations = flights_w_icao \\\n",
    "    .join(aug_stations_broadcast.alias(\"a1\"), flights_w_icao.ORIGIN_ICAO == F.col(\"a1.neighbor_call\"), \"left\") \\\n",
    "    .join(aug_stations_broadcast.alias(\"a2\"), flights_w_icao.DEST_ICAO == F.col(\"a2.neighbor_call\"), \"left\") \\\n",
    "    .select(\n",
    "        flights_w_icao[\"*\"],\n",
    "        # Origin Station\n",
    "        F.col(\"a1.neighbor_name\").alias(\"origin_airport_name\"),\n",
    "        F.col(\"a1.station_id\").alias(\"origin_station_id\"),\n",
    "        F.col(\"a1.lat\").alias(\"origin_station_lat\"),\n",
    "        F.col(\"a1.lon\").alias(\"origin_station_lon\"),\n",
    "        F.col(\"a1.neighbor_lat\").alias(\"origin_airport_lat\"),\n",
    "        F.col(\"a1.neighbor_lon\").alias(\"origin_airport_lon\"),\n",
    "        F.col(\"a1.distance_to_neighbor\").alias(\"origin_station_dis\"),\n",
    "\n",
    "        # Destination Station\n",
    "        F.col(\"a2.neighbor_name\").alias(\"dest_airport_name\"),\n",
    "        F.col(\"a2.station_id\").alias(\"dest_station_id\"),\n",
    "        F.col(\"a2.lat\").alias(\"dest_station_lat\"),\n",
    "        F.col(\"a2.lon\").alias(\"dest_station_lon\"),\n",
    "        F.col(\"a2.neighbor_lat\").alias(\"dest_airport_lat\"),\n",
    "        F.col(\"a2.neighbor_lon\").alias(\"dest_airport_lon\"),\n",
    "        F.col(\"a2.distance_to_neighbor\").alias(\"dest_station_dis\")\n",
    "    )\n",
    "\n",
    "# Cache & checkpoint post join (TODO: save to DBFS iterim folder)\n",
    "flights_stations.cache()\n",
    "flights_stations = flights_stations.checkpoint()"
   ]
  },
  {
   "cell_type": "markdown",
   "metadata": {
    "application/vnd.databricks.v1+cell": {
     "cellMetadata": {
      "byteLimit": 2048000,
      "rowLimit": 10000
     },
     "inputWidgets": {},
     "nuid": "ad79a83f-92d2-4363-9498-e0dde3f7c04f",
     "showTitle": false,
     "tableResultSettingsMap": {},
     "title": ""
    }
   },
   "source": [
    "### 5. Checking if we have any missing stations after the join"
   ]
  },
  {
   "cell_type": "code",
   "execution_count": 0,
   "metadata": {
    "application/vnd.databricks.v1+cell": {
     "cellMetadata": {
      "byteLimit": 2048000,
      "rowLimit": 10000
     },
     "inputWidgets": {},
     "nuid": "550accde-b8b2-43c0-a87e-cecf9d51527c",
     "showTitle": false,
     "tableResultSettingsMap": {},
     "title": ""
    }
   },
   "outputs": [],
   "source": [
    "# check for null origin_airport_name and dest_airport_name after the join (must be null)\n",
    "display(\n",
    "  flights_stations\n",
    "  .filter(F.col(\"origin_airport_lat\").isNull())\n",
    "  .select(F.col(\"ORIGIN_ICAO\").alias(\"missing_station\"))\n",
    "  .union(\n",
    "    flights_stations\n",
    "    .filter(F.col(\"dest_airport_lat\").isNull())\n",
    "    .select(F.col(\"DEST_ICAO\").alias(\"missing_station\"))\n",
    "  )\n",
    "  .distinct()\n",
    "\n",
    "  )"
   ]
  },
  {
   "cell_type": "markdown",
   "metadata": {
    "application/vnd.databricks.v1+cell": {
     "cellMetadata": {
      "byteLimit": 2048000,
      "rowLimit": 10000
     },
     "inputWidgets": {},
     "nuid": "69e0e14a-0c48-4960-b72f-a15556ba717c",
     "showTitle": false,
     "tableResultSettingsMap": {},
     "title": ""
    }
   },
   "source": [
    "## Step 4: Handling time"
   ]
  },
  {
   "cell_type": "markdown",
   "metadata": {
    "application/vnd.databricks.v1+cell": {
     "cellMetadata": {
      "byteLimit": 2048000,
      "rowLimit": 10000
     },
     "inputWidgets": {},
     "nuid": "b310a271-41a8-4fd3-8f96-877724bb1103",
     "showTitle": false,
     "tableResultSettingsMap": {},
     "title": ""
    }
   },
   "source": [
    "### 1. Validate Missing ICAO in Timezones Data before the join"
   ]
  },
  {
   "cell_type": "code",
   "execution_count": 0,
   "metadata": {
    "application/vnd.databricks.v1+cell": {
     "cellMetadata": {
      "byteLimit": 2048000,
      "rowLimit": 10000
     },
     "inputWidgets": {},
     "nuid": "4fec2517-3bd6-483f-8245-af3da19a03ae",
     "showTitle": false,
     "tableResultSettingsMap": {},
     "title": ""
    }
   },
   "outputs": [],
   "source": [
    "# Extract unique station ICAO codes\n",
    "tz_icao = timezones.select(\"neighbor_call\").distinct()\n",
    "\n",
    "# Find missing ICAO codes in timezones table\n",
    "missing_tz_lst = (\n",
    "    flight_icao.join(tz_icao, flight_icao[\"ORIGIN_ICAO\"] == tz_icao[\"neighbor_call\"], \"left_anti\")\n",
    "    .select(F.col(\"ORIGIN_ICAO\").alias(\"missing_code\"))\n",
    "    .rdd.flatMap(lambda x: x).collect()\n",
    ")"
   ]
  },
  {
   "cell_type": "markdown",
   "metadata": {
    "application/vnd.databricks.v1+cell": {
     "cellMetadata": {
      "byteLimit": 2048000,
      "rowLimit": 10000
     },
     "inputWidgets": {},
     "nuid": "b6437ed0-7ba7-463d-9983-e2f61b8d8927",
     "showTitle": false,
     "tableResultSettingsMap": {},
     "title": ""
    }
   },
   "source": [
    "### 2. Finding missing timezones using coordinates\n"
   ]
  },
  {
   "cell_type": "code",
   "execution_count": 0,
   "metadata": {
    "application/vnd.databricks.v1+cell": {
     "cellMetadata": {
      "byteLimit": 2048000,
      "rowLimit": 10000
     },
     "inputWidgets": {},
     "nuid": "edbc5293-9462-4c33-bc1d-1372e972d988",
     "showTitle": false,
     "tableResultSettingsMap": {},
     "title": ""
    }
   },
   "outputs": [],
   "source": [
    "# ============================\n",
    "# UDF: Timezones Lookup\n",
    "# ============================\n",
    "def find_timezone(lat, lng):\n",
    "    tf = TimezoneFinder()\n",
    "    timezone_str = tf.timezone_at(lat=lat, lng=lng)\n",
    "    return timezone_str if timezone_str else \"Unknown\"\n",
    "\n",
    "\n",
    "if len(missing_tz_lst) > 0:\n",
    "    missing_tz = (\n",
    "            flights_stations.filter(F.col(\"ORIGIN_ICAO\").isin(missing_tz_lst))\n",
    "            .select(F.col(\"ORIGIN_ICAO\").alias(\"neighbor_call\"),\n",
    "                    F.col(\"origin_airport_lat\").alias(\"neighbor_lat\"),\n",
    "                    F.col(\"origin_airport_lon\").alias(\"neighbor_lon\"))\n",
    "            .union(flights_stations.filter(F.col(\"DEST_ICAO\").isin(missing_tz_lst))\n",
    "                   .select(F.col(\"DEST_ICAO\").alias(\"neighbor_call\"),\n",
    "                           F.col(\"dest_airport_lat\").alias(\"neighbor_lat\"),\n",
    "                           F.col(\"dest_airport_lon\").alias(\"neighbor_lon\"))).distinct())\n",
    "\n",
    "    # define udf for time zone lookup\n",
    "    find_timezone_udf = udf(find_timezone, StringType())\n",
    "\n",
    "    # add time zone column\n",
    "    missing_tz = missing_tz.withColumn(\"timezone\", find_timezone_udf(F.col(\"neighbor_lat\"), F.col(\"neighbor_lon\")))\n",
    "    \n",
    "    # Augmenting Timezones data with the missing airport data\n",
    "    timezones = timezones.union(missing_tz)\n",
    "    # re-save timezones data as a parquet file (TODO: uncomment later once verified)\n",
    "    # timezones.write.mode(\"overwrite\").parquet(f\"{team_BASE_DIR}/external/tz_lookup.parquet\")"
   ]
  },
  {
   "cell_type": "markdown",
   "metadata": {
    "application/vnd.databricks.v1+cell": {
     "cellMetadata": {
      "byteLimit": 2048000,
      "rowLimit": 10000
     },
     "inputWidgets": {},
     "nuid": "34c4f2a2-5403-44eb-9d4f-6a343517c4db",
     "showTitle": false,
     "tableResultSettingsMap": {},
     "title": ""
    }
   },
   "source": [
    "### 3. Finding Timezone using Erica's table"
   ]
  },
  {
   "cell_type": "code",
   "execution_count": 0,
   "metadata": {
    "application/vnd.databricks.v1+cell": {
     "cellMetadata": {
      "byteLimit": 2048000,
      "rowLimit": 10000
     },
     "inputWidgets": {},
     "nuid": "7fc7ac5d-8bf5-46ab-8543-dd0ee2c612c4",
     "showTitle": false,
     "tableResultSettingsMap": {},
     "title": ""
    }
   },
   "outputs": [],
   "source": [
    "# Register as temporary views for SQL use\n",
    "flights_stations.createOrReplaceTempView(\"flights_stations\")\n",
    "timezones.createOrReplaceTempView(\"timezones\")\n",
    "\n",
    "# Apply Broadcast Join for small timezones table\n",
    "tz_broadcast = broadcast(timezones)\n",
    "\n",
    "flights_tz = flights_stations \\\n",
    "    .join(tz_broadcast.alias(\"a1\"), flights_stations.ORIGIN_ICAO == F.col(\"a1.neighbor_call\"), \"left\") \\\n",
    "    .join(tz_broadcast.alias(\"a2\"), flights_stations.DEST_ICAO == F.col(\"a2.neighbor_call\"), \"left\") \\\n",
    "    .select(\n",
    "        flights_stations[\"*\"],\n",
    "        # Origin Station\n",
    "        F.col(\"a1.timezone\").alias(\"origin_timezone\"),\n",
    "\n",
    "        # Destination Station\n",
    "        F.col(\"a2.timezone\").alias(\"dest_timezone\"),\n",
    "    )\n",
    "\n",
    "# Cache the data to avoid recomputing the time zones (TODO: save to DBFS iterim folder)\n",
    "flights_tz.cache()\n",
    "flights_tz = flights_tz.checkpoint()"
   ]
  },
  {
   "cell_type": "markdown",
   "metadata": {
    "application/vnd.databricks.v1+cell": {
     "cellMetadata": {
      "byteLimit": 2048000,
      "rowLimit": 10000
     },
     "inputWidgets": {},
     "nuid": "7513c033-3ea0-485d-9b73-e55ac5ff752e",
     "showTitle": false,
     "tableResultSettingsMap": {},
     "title": ""
    }
   },
   "source": [
    "### 4. Checking if we have any missing stations after the join"
   ]
  },
  {
   "cell_type": "code",
   "execution_count": 0,
   "metadata": {
    "application/vnd.databricks.v1+cell": {
     "cellMetadata": {
      "byteLimit": 2048000,
      "rowLimit": 10000
     },
     "inputWidgets": {},
     "nuid": "56dca9d5-4481-47f3-9726-73fa52627bf0",
     "showTitle": false,
     "tableResultSettingsMap": {},
     "title": ""
    }
   },
   "outputs": [],
   "source": [
    "# check for null origin_timezone and dest_timezone after the join (must be null)\n",
    "display(\n",
    "  flights_tz\n",
    "  .filter(F.col(\"origin_timezone\").isNull())\n",
    "  .select(F.col(\"ORIGIN_ICAO\").alias(\"missing_timezone\"))\n",
    "  .union(\n",
    "    flights_tz\n",
    "    .filter(F.col(\"dest_timezone\").isNull())\n",
    "    .select(F.col(\"DEST_ICAO\").alias(\"missing_timezone\"))\n",
    "  )\n",
    "  .distinct()\n",
    "\n",
    "  )"
   ]
  },
  {
   "cell_type": "markdown",
   "metadata": {
    "application/vnd.databricks.v1+cell": {
     "cellMetadata": {},
     "inputWidgets": {},
     "nuid": "993e4980-06a1-4819-a35d-da21068dae71",
     "showTitle": false,
     "tableResultSettingsMap": {},
     "title": ""
    }
   },
   "source": [
    "### 5. Joining Data and time fields"
   ]
  },
  {
   "cell_type": "code",
   "execution_count": 0,
   "metadata": {
    "application/vnd.databricks.v1+cell": {
     "cellMetadata": {
      "byteLimit": 2048000,
      "rowLimit": 10000
     },
     "inputWidgets": {},
     "nuid": "62e80411-422f-4c0d-be5f-bc4fb9862d85",
     "showTitle": false,
     "tableResultSettingsMap": {},
     "title": ""
    }
   },
   "outputs": [],
   "source": [
    "# Joining Derparture Date and Departure time to datetime\n",
    "flights_tz = flights_tz.withColumn(\n",
    "    \"sched_depart_date_time\",\n",
    "    F.concat_ws(\n",
    "        \"T\",\n",
    "        F.col(\"FL_DATE\"),\n",
    "        F.date_format(F.to_timestamp(F.concat(F.lpad(\"CRS_DEP_TIME\", 4, \"0\"), F.lit(\"00\")), \"HHmmss\"), \"HH:mm:ss\")\n",
    "    )\n",
    ")"
   ]
  },
  {
   "cell_type": "markdown",
   "metadata": {
    "application/vnd.databricks.v1+cell": {
     "cellMetadata": {
      "byteLimit": 2048000,
      "rowLimit": 10000
     },
     "inputWidgets": {},
     "nuid": "f827ca7e-01fb-4782-a08c-20c38e440047",
     "showTitle": false,
     "tableResultSettingsMap": {},
     "title": ""
    }
   },
   "source": [
    "### 6. Converting to UTC and adding UTC-2 and UTC-4"
   ]
  },
  {
   "cell_type": "code",
   "execution_count": 0,
   "metadata": {
    "application/vnd.databricks.v1+cell": {
     "cellMetadata": {
      "byteLimit": 2048000,
      "rowLimit": 10000
     },
     "inputWidgets": {},
     "nuid": "6b86d408-b65c-49b2-8045-7eb61618662e",
     "showTitle": false,
     "tableResultSettingsMap": {},
     "title": ""
    }
   },
   "outputs": [],
   "source": [
    "# ============================\n",
    "# UDF: Convert Deprature Time to UTC\n",
    "# ============================\n",
    "\n",
    "def to_utc(dt: str, tz: str) -> str:\n",
    "    if dt is None:\n",
    "        return None\n",
    "    dt_format = \"%Y-%m-%dT%H:%M:%S\"\n",
    "    local_dt = datetime.strptime(dt, dt_format)\n",
    "    if tz:\n",
    "        timezone = pytz.timezone(tz)\n",
    "        local_dt = timezone.localize(local_dt)\n",
    "        \n",
    "        # Convert to UTC\n",
    "        utc_dt = local_dt.astimezone(pytz.utc)\n",
    "        return utc_dt.strftime(dt_format)\n",
    "    return None\n",
    "\n",
    "utc_udf = F.udf(to_utc)\n",
    "\n",
    "flights_utc = flights_tz.withColumn(\"sched_depart_utc\", utc_udf(F.col(\"sched_depart_date_time\"), F.col(\"origin_timezone\").cast(F.StringType())))\n",
    "\n",
    "# Cache the data to avoid recomputing the UTC (TODO: save to DBFS iterim folder)\n",
    "flights_utc.cache()\n",
    "flights_utc = flights_utc.checkpoint()"
   ]
  },
  {
   "cell_type": "code",
   "execution_count": 0,
   "metadata": {
    "application/vnd.databricks.v1+cell": {
     "cellMetadata": {
      "byteLimit": 2048000,
      "rowLimit": 10000
     },
     "inputWidgets": {},
     "nuid": "16f2902d-4be8-46b5-98ff-372140a4703e",
     "showTitle": false,
     "tableResultSettingsMap": {},
     "title": ""
    }
   },
   "outputs": [],
   "source": [
    "# ============================\n",
    "# UDF: Calculate Prior Times\n",
    "# ============================\n",
    "def calculate_prior_times(utc_datetime_str, hours_prior):\n",
    "    if utc_datetime_str is None:\n",
    "        return None\n",
    "    try:\n",
    "        # Parse UTC datetime string\n",
    "        utc_format = \"%Y-%m-%dT%H:%M:%S\"\n",
    "        utc_dt = datetime.strptime(utc_datetime_str, utc_format)\n",
    "        \n",
    "        # Subtract hours to get prior times\n",
    "        prior_dt = utc_dt - timedelta(hours=hours_prior)\n",
    "        return prior_dt.strftime(\"%Y-%m-%dT%H:%M:%S\")\n",
    "    \n",
    "    except Exception as e:\n",
    "        return None\n",
    "\n",
    "# Register UDFs\n",
    "calculate_prior_times_udf = F.udf(calculate_prior_times, StringType())\n",
    "\n",
    "flights_utc = flights_utc.withColumn(\"two_hours_prior_depart_UTC\", calculate_prior_times_udf(F.col(\"sched_depart_utc\"), F.lit(2)))\n",
    "flights_utc_2_4 = flights_utc.withColumn(\"four_hours_prior_depart_UTC\", calculate_prior_times_udf(F.col(\"sched_depart_utc\"), F.lit(4)))\n",
    "\n",
    "# Cache the data to avoid recomputing the UTC-2 and UTC-4 (TODO: save to DBFS iterim folder)\n",
    "flights_utc_2_4.cache()\n",
    "flights_utc_2_4 = flights_utc_2_4.checkpoint()\n",
    "\n",
    "display(flights_utc_2_4)"
   ]
  },
  {
   "cell_type": "code",
   "execution_count": 0,
   "metadata": {
    "application/vnd.databricks.v1+cell": {
     "cellMetadata": {
      "byteLimit": 2048000,
      "rowLimit": 10000
     },
     "inputWidgets": {},
     "nuid": "bb238329-7f72-4810-8ff0-3f16ef9602b6",
     "showTitle": false,
     "tableResultSettingsMap": {},
     "title": ""
    }
   },
   "outputs": [],
   "source": [
    "display(flights_utc)"
   ]
  },
  {
   "cell_type": "markdown",
   "metadata": {
    "application/vnd.databricks.v1+cell": {
     "cellMetadata": {
      "byteLimit": 2048000,
      "rowLimit": 10000
     },
     "inputWidgets": {},
     "nuid": "b87cdece-4420-4a41-aaa6-703ccb9515c4",
     "showTitle": false,
     "tableResultSettingsMap": {},
     "title": ""
    }
   },
   "source": [
    "## Step 5: Joining Weather Data"
   ]
  },
  {
   "cell_type": "code",
   "execution_count": 0,
   "metadata": {
    "application/vnd.databricks.v1+cell": {
     "cellMetadata": {
      "byteLimit": 2048000,
      "rowLimit": 10000
     },
     "inputWidgets": {},
     "nuid": "511d6ed3-d57e-4260-8cc7-6396df33b6bc",
     "showTitle": false,
     "tableResultSettingsMap": {},
     "title": ""
    }
   },
   "outputs": [],
   "source": [
    "weather = spark.read.parquet( \"dbfs:/student-groups/Group_4_1/interim/weather_3m_checkpoint\")"
   ]
  },
  {
   "cell_type": "code",
   "execution_count": 0,
   "metadata": {
    "application/vnd.databricks.v1+cell": {
     "cellMetadata": {
      "byteLimit": 2048000,
      "rowLimit": 10000
     },
     "inputWidgets": {},
     "nuid": "0c1ab999-cd37-420a-8b88-b06eeefa2089",
     "showTitle": false,
     "tableResultSettingsMap": {},
     "title": ""
    }
   },
   "outputs": [],
   "source": [
    "display(weather)"
   ]
  },
  {
   "cell_type": "code",
   "execution_count": 0,
   "metadata": {
    "application/vnd.databricks.v1+cell": {
     "cellMetadata": {
      "byteLimit": 2048000,
      "rowLimit": 10000
     },
     "inputWidgets": {},
     "nuid": "7bf94905-af51-4a08-964e-215de4f2c953",
     "showTitle": false,
     "tableResultSettingsMap": {},
     "title": ""
    }
   },
   "outputs": [],
   "source": [
    "display(flights_utc_2_4)"
   ]
  },
  {
   "cell_type": "markdown",
   "metadata": {
    "application/vnd.databricks.v1+cell": {
     "cellMetadata": {
      "byteLimit": 2048000,
      "rowLimit": 10000
     },
     "inputWidgets": {},
     "nuid": "6bdfff36-db1f-4328-bc7d-ff329f156622",
     "showTitle": false,
     "tableResultSettingsMap": {},
     "title": ""
    }
   },
   "source": [
    "### 1. Unique stations from the flights table"
   ]
  },
  {
   "cell_type": "markdown",
   "metadata": {
    "application/vnd.databricks.v1+cell": {
     "cellMetadata": {},
     "inputWidgets": {},
     "nuid": "97dee582-1083-4145-97c9-e176ac94996b",
     "showTitle": false,
     "tableResultSettingsMap": {},
     "title": ""
    }
   },
   "source": [
    "# joinng ideas (delete later)\n",
    "1. get unique station's ID's from flights table \n",
    "2. filter weather data to unique stations ID's\n",
    "3. construct 2 df with distinct station's id's and time (could be utc-2 or utc-4) and cross join with weather data and get the time delta and select the smallest difference. \n",
    "4. use the result as join bases between flights and weather. (similar logic to the stations and neigbour distance)"
   ]
  },
  {
   "cell_type": "code",
   "execution_count": 0,
   "metadata": {
    "application/vnd.databricks.v1+cell": {
     "cellMetadata": {},
     "inputWidgets": {},
     "nuid": "8745fdbf-bda3-43d8-9717-cd4020b0702d",
     "showTitle": false,
     "tableResultSettingsMap": {},
     "title": ""
    }
   },
   "outputs": [],
   "source": []
  },
  {
   "cell_type": "code",
   "execution_count": 0,
   "metadata": {
    "application/vnd.databricks.v1+cell": {
     "cellMetadata": {
      "byteLimit": 2048000,
      "rowLimit": 10000
     },
     "inputWidgets": {},
     "nuid": "84afbb20-7311-407c-86ca-7cea0ae8e1ad",
     "showTitle": false,
     "tableResultSettingsMap": {},
     "title": ""
    }
   },
   "outputs": [],
   "source": [
    "flights_tz.select(\n",
    "  F.col(\"origin_station_id\").alias(\"flights_station\")\n",
    ").union(\n",
    "  flights_tz.select(\n",
    "    F.col(\"dest_station_id\").alias(\"flights_station\")\n",
    "    )\n",
    "  ).distinct().write.mode('overwrite').parquet(f\"{team_BASE_DIR}/interim/stations/flights_stations_{period}.parquet\")"
   ]
  }
 ],
 "metadata": {
  "application/vnd.databricks.v1+notebook": {
   "computePreferences": null,
   "dashboards": [],
   "environmentMetadata": {
    "base_environment": "",
    "environment_version": "2"
   },
   "inputWidgetPreferences": null,
   "language": "python",
   "notebookMetadata": {
    "pythonIndentUnit": 4
   },
   "notebookName": "0.08-mas-data-join-pipeline",
   "widgets": {}
  },
  "language_info": {
   "name": "python"
  }
 },
 "nbformat": 4,
 "nbformat_minor": 0
}
