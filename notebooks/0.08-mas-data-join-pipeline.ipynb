{
 "cells": [
  {
   "cell_type": "code",
   "execution_count": 0,
   "metadata": {
    "application/vnd.databricks.v1+cell": {
     "cellMetadata": {
      "byteLimit": 2048000,
      "rowLimit": 10000
     },
     "inputWidgets": {},
     "nuid": "f1ecfca9-86db-4f08-a258-66066d8465fc",
     "showTitle": false,
     "tableResultSettingsMap": {},
     "title": ""
    }
   },
   "outputs": [],
   "source": [
    "!pip install timezonefinder"
   ]
  },
  {
   "cell_type": "code",
   "execution_count": 0,
   "metadata": {
    "application/vnd.databricks.v1+cell": {
     "cellMetadata": {
      "byteLimit": 2048000,
      "rowLimit": 10000
     },
     "inputWidgets": {},
     "nuid": "47fc5d26-6c17-4d01-a700-91887c05ee7d",
     "showTitle": false,
     "tableResultSettingsMap": {},
     "title": ""
    }
   },
   "outputs": [],
   "source": [
    "from pyspark.sql import functions as F\n",
    "from pyspark.sql.window import Window\n",
    "from pyspark.sql.types import StringType\n",
    "from datetime import datetime, timedelta\n",
    "from timezonefinder import TimezoneFinder\n",
    "import pytz\n",
    "# from timezonefinder import TimezoneFinder"
   ]
  },
  {
   "cell_type": "markdown",
   "metadata": {
    "application/vnd.databricks.v1+cell": {
     "cellMetadata": {
      "byteLimit": 2048000,
      "rowLimit": 10000
     },
     "inputWidgets": {},
     "nuid": "ef3f6520-3642-4c60-9aeb-0de483e2ee9b",
     "showTitle": false,
     "tableResultSettingsMap": {},
     "title": ""
    }
   },
   "source": [
    "## Variables and Directories"
   ]
  },
  {
   "cell_type": "code",
   "execution_count": 0,
   "metadata": {
    "application/vnd.databricks.v1+cell": {
     "cellMetadata": {
      "byteLimit": 2048000,
      "rowLimit": 10000
     },
     "inputWidgets": {},
     "nuid": "1bb51440-a7d8-4056-b08d-8aabf59638a0",
     "showTitle": false,
     "tableResultSettingsMap": {},
     "title": ""
    }
   },
   "outputs": [],
   "source": [
    "# Variables and directories\n",
    "team_BASE_DIR = f\"dbfs:/student-groups/Group_4_1\"\n",
    "spark.sparkContext.setCheckpointDir(f\"{team_BASE_DIR}/checkpoints\")\n",
    "period = \"1y\" # on of the following values (\"\", \"3m\", \"6m\", \"1y\")\n",
    "\n",
    "# Datasets\n",
    "flights = spark.read.parquet(f\"{team_BASE_DIR}/raw/flightdelays/parquet_airlines_data_{period}\")\n",
    "weather = spark.read.parquet(f\"{team_BASE_DIR}/interim/weather_{period}_checkpoint\")\n",
    "airport_codes = spark.read.parquet(f\"{team_BASE_DIR}/external/airport_codes.parquet/\")\n",
    "stations = spark.read.parquet(f\"{team_BASE_DIR}/raw/stations/stations_with_neighbors.parquet/\")\n",
    "timezones = spark.read.parquet(f\"{team_BASE_DIR}/external/tz_lookup_v2.parquet\")"
   ]
  },
  {
   "cell_type": "code",
   "execution_count": 0,
   "metadata": {
    "application/vnd.databricks.v1+cell": {
     "cellMetadata": {
      "byteLimit": 2048000,
      "rowLimit": 10000
     },
     "inputWidgets": {},
     "nuid": "a777bdd1-64ac-4858-a4d1-63ebf07ac035",
     "showTitle": false,
     "tableResultSettingsMap": {},
     "title": ""
    }
   },
   "outputs": [],
   "source": [
    "# inspecting folders\n",
    "display(dbutils.fs.ls(f\"{team_BASE_DIR}/interim\"))"
   ]
  },
  {
   "cell_type": "markdown",
   "metadata": {
    "application/vnd.databricks.v1+cell": {
     "cellMetadata": {
      "byteLimit": 2048000,
      "rowLimit": 10000
     },
     "inputWidgets": {},
     "nuid": "91498e9c-4057-4ad4-ae6e-24744b62db7d",
     "showTitle": false,
     "tableResultSettingsMap": {},
     "title": ""
    }
   },
   "source": [
    "## Step 1: Cleaning and Feature selection"
   ]
  },
  {
   "cell_type": "code",
   "execution_count": 0,
   "metadata": {
    "application/vnd.databricks.v1+cell": {
     "cellMetadata": {
      "byteLimit": 2048000,
      "rowLimit": 10000
     },
     "collapsed": true,
     "inputWidgets": {},
     "nuid": "eb66c8ad-622c-46a6-9dea-6d936e1885a1",
     "showTitle": false,
     "tableResultSettingsMap": {},
     "title": ""
    }
   },
   "outputs": [],
   "source": [
    "# Flights Selected Features\n",
    "f_feat = [\n",
    "    'FL_DATE',\n",
    "    'OP_UNIQUE_CARRIER',\n",
    "    'TAIL_NUM',\n",
    "    'OP_CARRIER_FL_NUM',\n",
    "    'ORIGIN',\n",
    "    'DEST',\n",
    "    'CRS_DEP_TIME',\n",
    "    'DEP_DELAY',\n",
    "    'CRS_ARR_TIME',\n",
    "    'ARR_DELAY',\n",
    "    'CANCELLED',\n",
    "    'DIVERTED',\n",
    "    'CRS_ELAPSED_TIME',\n",
    "    'AIR_TIME',\n",
    "    'DISTANCE',\n",
    "    'ORIGIN_AIRPORT_SEQ_ID',\n",
    "    'DEST_AIRPORT_SEQ_ID',\n",
    "    'TAXI_OUT',\n",
    "    'TAXI_IN',\n",
    "    'QUARTER',\n",
    "    'MONTH',\n",
    "    'DAY_OF_MONTH',\n",
    "    'DAY_OF_WEEK',\n",
    "    'DEP_TIME_BLK',\n",
    "    'ARR_TIME_BLK',\n",
    "    'YEAR',\n",
    "    'ORIGIN_CITY_NAME',\n",
    "    'DEST_CITY_NAME',\n",
    "    'ORIGIN_STATE_FIPS',\n",
    "    'DEST_STATE_FIPS',\n",
    "    'CARRIER_DELAY',\n",
    "    'WEATHER_DELAY',\n",
    "    'NAS_DELAY',\n",
    "    'SECURITY_DELAY',\n",
    "    'LATE_AIRCRAFT_DELAY',\n",
    "    'DIV_ARR_DELAY',\n",
    "    'CANCELLATION_CODE',\n",
    "    'FIRST_DEP_TIME',\n",
    "    'LONGEST_ADD_GTIME',\n",
    "    'TOTAL_ADD_GTIME']"
   ]
  },
  {
   "cell_type": "code",
   "execution_count": 0,
   "metadata": {
    "application/vnd.databricks.v1+cell": {
     "cellMetadata": {
      "byteLimit": 2048000,
      "rowLimit": 10000
     },
     "collapsed": true,
     "inputWidgets": {},
     "nuid": "4f08986e-77a7-41f4-9742-46b568ea23ee",
     "showTitle": false,
     "tableResultSettingsMap": {},
     "title": ""
    }
   },
   "outputs": [],
   "source": [
    "# Weather Selected Features\n",
    "w_feat = [\n",
    "    \"DATE\",\n",
    "    \"STATION\",\n",
    "    \"LATITUDE\", \n",
    "    \"LONGITUDE\",\n",
    "    \"ELEVATION\",\n",
    "    'NAME',\n",
    "    \"HourlyDewPointTemperature\",\n",
    "    \"HourlyDryBulbTemperature\",\n",
    "    \"HourlyPrecipitation\",\n",
    "    \"HourlyPresentWeatherType\",\n",
    "    \"HourlyPressureChange\", #?? alot of nulls\n",
    "    \"HourlyRelativeHumidity\",\n",
    "    \"HourlySkyConditions\", \n",
    "    \"HourlyVisibility\",\n",
    "    \"HourlyWetBulbTemperature\",\n",
    "    \"HourlyWindDirection\",\n",
    "    \"HourlyWindGustSpeed\", #?? alot of nulls\n",
    "    \"HourlyWindSpeed\",\n",
    "    \"Sunrise\",  #?? alot of nulls\n",
    "    \"Sunset\",  #?? alot of nulls\n",
    "    \"DailySnowDepth\", #?? alot of nulls\n",
    "    \"DailySnowfall\", #?? alot of nulls\n",
    "    \"REM\",\n",
    "    \"utc_datetime\"]"
   ]
  },
  {
   "cell_type": "code",
   "execution_count": 0,
   "metadata": {
    "application/vnd.databricks.v1+cell": {
     "cellMetadata": {
      "byteLimit": 2048000,
      "rowLimit": 10000
     },
     "inputWidgets": {},
     "nuid": "6f580eed-1a4a-492b-a56f-17f40db66572",
     "showTitle": false,
     "tableResultSettingsMap": {},
     "title": ""
    }
   },
   "outputs": [],
   "source": [
    "# Read Airline Data (flights) selected features and removing duplicates (if any)\n",
    "flights_clean = flights.select(f_feat).dropDuplicates()\n",
    "flights_clean.cache()\n",
    "flights_clean = flights_clean.checkpoint() # Checkpoint after cleaning (prevents recomputation) TODO: save to DBFS  iterim folder)"
   ]
  },
  {
   "cell_type": "markdown",
   "metadata": {
    "application/vnd.databricks.v1+cell": {
     "cellMetadata": {
      "byteLimit": 2048000,
      "rowLimit": 10000
     },
     "inputWidgets": {},
     "nuid": "52fc9e3c-a92c-4440-a697-8c47138c64e2",
     "showTitle": false,
     "tableResultSettingsMap": {},
     "title": ""
    }
   },
   "source": [
    "## Step 2: Joining Flight with Airports to retrieve ICAO"
   ]
  },
  {
   "cell_type": "markdown",
   "metadata": {
    "application/vnd.databricks.v1+cell": {
     "cellMetadata": {
      "byteLimit": 2048000,
      "rowLimit": 10000
     },
     "inputWidgets": {},
     "nuid": "50024eef-44ac-4c9b-aec8-1221f51c7447",
     "showTitle": false,
     "tableResultSettingsMap": {},
     "title": ""
    }
   },
   "source": [
    "### 1. Checking missing IATA codes in Airpot codes table and fix or adding the missing"
   ]
  },
  {
   "cell_type": "code",
   "execution_count": 0,
   "metadata": {
    "application/vnd.databricks.v1+cell": {
     "cellMetadata": {
      "byteLimit": 2048000,
      "rowLimit": 10000
     },
     "inputWidgets": {},
     "nuid": "66f4dd61-bddf-471c-b9a2-a3bbe7e88366",
     "showTitle": false,
     "tableResultSettingsMap": {},
     "title": ""
    }
   },
   "outputs": [],
   "source": [
    "# Extract distinct ORIGIN and DEST codes\n",
    "flight_iata = flights_clean.select(\"ORIGIN\").union(flights_clean.select(\"DEST\")).distinct()\n",
    "\n",
    "# Extract distinct IATA codes from airport_codes\n",
    "airport_iata = airport_codes.select(\"iata_code\").distinct()\n",
    "\n",
    "# Find missing IATA codes in flights but not in airport data\n",
    "missing_iata = flight_iata.join(airport_iata, flight_iata[\"ORIGIN\"] == airport_iata[\"iata_code\"], \"left_anti\") \\\n",
    "                          .select(F.col(\"ORIGIN\").alias(\"missing_code\"))\n",
    "\n",
    "display(missing_iata)"
   ]
  },
  {
   "cell_type": "code",
   "execution_count": 0,
   "metadata": {
    "application/vnd.databricks.v1+cell": {
     "cellMetadata": {
      "byteLimit": 2048000,
      "rowLimit": 10000
     },
     "inputWidgets": {},
     "nuid": "b3ef9d65-fcb4-4faf-9609-a4afd7faa0a4",
     "showTitle": false,
     "tableResultSettingsMap": {},
     "title": ""
    }
   },
   "outputs": [],
   "source": [
    "# Fixing missing iata code: (Replacing the ISN to XWA)\n",
    "flights_clean = flights_clean.na.replace(['ISN'], ['XWA'], 'ORIGIN').na.replace(['ISN'], ['XWA'], 'DEST')"
   ]
  },
  {
   "cell_type": "markdown",
   "metadata": {
    "application/vnd.databricks.v1+cell": {
     "cellMetadata": {
      "byteLimit": 2048000,
      "rowLimit": 10000
     },
     "inputWidgets": {},
     "nuid": "840266a4-2a25-4a8a-93cb-961d90631181",
     "showTitle": false,
     "tableResultSettingsMap": {},
     "title": ""
    }
   },
   "source": [
    "### 2. Performing the join to get ICAO codes"
   ]
  },
  {
   "cell_type": "code",
   "execution_count": 0,
   "metadata": {
    "application/vnd.databricks.v1+cell": {
     "cellMetadata": {
      "byteLimit": 2048000,
      "rowLimit": 10000
     },
     "inputWidgets": {},
     "nuid": "e217f2b4-ecd3-4083-8e9b-817013461693",
     "showTitle": false,
     "tableResultSettingsMap": {},
     "title": ""
    }
   },
   "outputs": [],
   "source": [
    "from pyspark.sql.functions import broadcast\n",
    "\n",
    "# Register as temporary views for SQL use\n",
    "flights_clean.createOrReplaceTempView(\"flights_clean\")\n",
    "airport_codes.createOrReplaceTempView(\"airport_codes\")\n",
    "\n",
    "# Apply Broadcast Join for small airport_codes table\n",
    "airport_codes_broadcast = broadcast(airport_codes)\n",
    "\n",
    "flights_w_icao = flights_clean \\\n",
    "    .join(airport_codes_broadcast.alias(\"a1\"), flights_clean.ORIGIN == F.col(\"a1.iata_code\"), \"left\") \\\n",
    "    .join(airport_codes_broadcast.alias(\"a2\"), flights_clean.DEST == F.col(\"a2.iata_code\"), \"left\") \\\n",
    "    .select(\n",
    "        flights_clean[\"*\"],\n",
    "        F.col(\"a1.icao_code\").alias(\"ORIGIN_ICAO\"),\n",
    "        F.col(\"a1.type\").alias(\"origin_type\"),\n",
    "        F.col(\"a1.iso_region\").alias(\"origin_region\"),\n",
    "        F.col(\"a2.icao_code\").alias(\"DEST_ICAO\"),\n",
    "        F.col(\"a2.type\").alias(\"dest_type\"),\n",
    "        F.col(\"a2.iso_region\").alias(\"dest_region\")\n",
    "    )\n",
    "\n",
    "# Cache & checkpoint post join (TODO: save to DBFS iterim folder)\n",
    "flights_w_icao.cache()\n",
    "flights_w_icao = flights_w_icao.checkpoint()"
   ]
  },
  {
   "cell_type": "markdown",
   "metadata": {
    "application/vnd.databricks.v1+cell": {
     "cellMetadata": {
      "byteLimit": 2048000,
      "rowLimit": 10000
     },
     "inputWidgets": {},
     "nuid": "ff142bb6-c843-4310-be3d-3f1acf5242be",
     "showTitle": false,
     "tableResultSettingsMap": {},
     "title": ""
    }
   },
   "source": [
    "### 3. Checking if flights still have any missing ICAO code after the join"
   ]
  },
  {
   "cell_type": "code",
   "execution_count": 0,
   "metadata": {
    "application/vnd.databricks.v1+cell": {
     "cellMetadata": {
      "byteLimit": 2048000,
      "rowLimit": 10000
     },
     "inputWidgets": {},
     "nuid": "3a85bb44-ad98-4d33-aa0c-3208d67b0814",
     "showTitle": false,
     "tableResultSettingsMap": {},
     "title": ""
    }
   },
   "outputs": [],
   "source": [
    "# Get statistics for validation: check for null ORIGIN_ICAO and DEST_ICAO after the join (must be null)\n",
    "\n",
    "origin_iata_match_count = flights_w_icao.filter(F.col(\"ORIGIN_ICAO\").isNotNull()).count()\n",
    "dest_iata_match_count = flights_w_icao.filter(F.col(\"DEST_ICAO\").isNotNull()).count()\n",
    "total_flights_w_icao = flights_w_icao.count()\n",
    "\n",
    "print(f\"Origin IATA match rate: {origin_iata_match_count/total_flights_w_icao:.2%} - {total_flights_w_icao - origin_iata_match_count} IATA codes unmatched\")\n",
    "print(f\"Destination IATA match rate: {dest_iata_match_count/total_flights_w_icao:.2%} - {total_flights_w_icao - dest_iata_match_count} IATA codes unmatched\")"
   ]
  },
  {
   "cell_type": "markdown",
   "metadata": {
    "application/vnd.databricks.v1+cell": {
     "cellMetadata": {
      "byteLimit": 2048000,
      "rowLimit": 10000
     },
     "inputWidgets": {},
     "nuid": "ccac9e9d-412e-42df-9838-d1b29bea2ecc",
     "showTitle": false,
     "tableResultSettingsMap": {},
     "title": ""
    }
   },
   "source": [
    "## Step 3: Joining Flight with Stations to get the closest station ID and coordinates"
   ]
  },
  {
   "cell_type": "markdown",
   "metadata": {
    "application/vnd.databricks.v1+cell": {
     "cellMetadata": {
      "byteLimit": 2048000,
      "rowLimit": 10000
     },
     "inputWidgets": {},
     "nuid": "7815db08-a18f-49fc-9b48-eb2b5624639b",
     "showTitle": false,
     "tableResultSettingsMap": {},
     "title": ""
    }
   },
   "source": [
    "### 1. Validate Missing ICAO Codes in Stations Data before the join"
   ]
  },
  {
   "cell_type": "code",
   "execution_count": 0,
   "metadata": {
    "application/vnd.databricks.v1+cell": {
     "cellMetadata": {
      "byteLimit": 2048000,
      "rowLimit": 10000
     },
     "inputWidgets": {},
     "nuid": "9939210e-d6f9-4c2f-86b6-51646151d2b3",
     "showTitle": false,
     "tableResultSettingsMap": {},
     "title": ""
    }
   },
   "outputs": [],
   "source": [
    "# Extract unique ICAO codes from flights\n",
    "flight_icao = flights_w_icao.select(\"ORIGIN_ICAO\").union(flights_w_icao.select(\"DEST_ICAO\")).distinct()\n",
    "\n",
    "# Extract unique station ICAO codes\n",
    "stations_icao = stations.select(\"neighbor_call\").distinct()\n",
    "\n",
    "# Find missing ICAO codes\n",
    "missing_icao_lst = (\n",
    "    flight_icao.join(stations_icao, flight_icao[\"ORIGIN_ICAO\"] == stations_icao[\"neighbor_call\"], \"left_anti\")\n",
    "    .select(F.col(\"ORIGIN_ICAO\").alias(\"missing_code\"))\n",
    "    .rdd.flatMap(lambda x: x).collect()\n",
    ")"
   ]
  },
  {
   "cell_type": "markdown",
   "metadata": {
    "application/vnd.databricks.v1+cell": {
     "cellMetadata": {
      "byteLimit": 2048000,
      "rowLimit": 10000
     },
     "inputWidgets": {},
     "nuid": "8b2de5e7-b46c-4316-8489-54d4bdcc6950",
     "showTitle": false,
     "tableResultSettingsMap": {},
     "title": ""
    }
   },
   "source": [
    "### 2. Construct Missing ICAO Data Using Airport Codes"
   ]
  },
  {
   "cell_type": "code",
   "execution_count": 0,
   "metadata": {
    "application/vnd.databricks.v1+cell": {
     "cellMetadata": {
      "byteLimit": 2048000,
      "rowLimit": 10000
     },
     "inputWidgets": {},
     "nuid": "036e38e0-56a3-4011-a6a0-d6e144a5fcc6",
     "showTitle": false,
     "tableResultSettingsMap": {},
     "title": ""
    }
   },
   "outputs": [],
   "source": [
    " if len(missing_icao_lst) > 0:   \n",
    "    missing_icao = (\n",
    "        airport_codes.filter(F.col(\"icao_code\").isin(missing_icao_lst))\n",
    "        .withColumn(\"neighbor_id\", F.col(\"ident\"))\n",
    "        .withColumn(\"neighbor_name\", F.col(\"name\"))\n",
    "        .withColumn(\"neighbor_state\", F.split(F.col(\"iso_region\"), \"-\")[1].cast(\"string\"))\n",
    "        .withColumn(\"neighbor_call\", F.col(\"icao_code\"))\n",
    "        .withColumn(\"neighbor_lat\", F.split(F.col(\"coordinates\"), \",\")[0].cast(\"double\"))\n",
    "        .withColumn(\"neighbor_lon\", F.split(F.col(\"coordinates\"), \",\")[1].cast(\"double\"))\n",
    "        .select(\"neighbor_id\", \"neighbor_name\", \"neighbor_state\", \"neighbor_call\", \"neighbor_lat\", \"neighbor_lon\")\n",
    "    )"
   ]
  },
  {
   "cell_type": "markdown",
   "metadata": {
    "application/vnd.databricks.v1+cell": {
     "cellMetadata": {
      "byteLimit": 2048000,
      "rowLimit": 10000
     },
     "inputWidgets": {},
     "nuid": "5b56d24b-da35-4fb0-b2ce-3d897a86af73",
     "showTitle": false,
     "tableResultSettingsMap": {},
     "title": ""
    }
   },
   "source": [
    "### 3. Augment Stations with the missing airports and Find Nearest Weather Stations (Optimized with Haversine)"
   ]
  },
  {
   "cell_type": "code",
   "execution_count": 0,
   "metadata": {
    "application/vnd.databricks.v1+cell": {
     "cellMetadata": {
      "byteLimit": 2048000,
      "rowLimit": 10000
     },
     "inputWidgets": {},
     "nuid": "a501dc66-42da-49a4-8fb6-224f5b9728f4",
     "showTitle": false,
     "tableResultSettingsMap": {},
     "title": ""
    }
   },
   "outputs": [],
   "source": [
    "# Define Haversine formula for distance calculation\n",
    "def haversine(lat1, lon1, lat2, lon2):\n",
    "    R = 6371  # Radius of Earth in km\n",
    "    d_lat = F.radians(lat2 - lat1)\n",
    "    d_lon = F.radians(lon2 - lon1)\n",
    "    a = (F.sin(d_lat / 2) ** 2) + F.cos(F.radians(lat1)) * F.cos(F.radians(lat2)) * (F.sin(d_lon / 2) ** 2)\n",
    "    c = 2 * F.atan2(F.sqrt(a), F.sqrt(1 - a))\n",
    "    return R * c\n",
    "\n",
    "if len(missing_icao_lst) > 0:\n",
    "    # Calculate distances between missing ICAO and weather stations\n",
    "    dist_stations = stations.select(\"usaf\", \"wban\", \"station_id\", \"lat\", \"lon\").distinct()\n",
    "    missing_distances = (\n",
    "        dist_stations.crossJoin(missing_icao)\n",
    "        .withColumn(\"distance_to_neighbor\", haversine(F.col(\"lat\"), F.col(\"lon\"), F.col(\"neighbor_lat\"), F.col(\"neighbor_lon\")))\n",
    "    )\n",
    "\n",
    "    aug_stations = stations.union(missing_distances)\n",
    "\n",
    "    # Find closest station\n",
    "    aug_stations = (\n",
    "        aug_stations.withColumn(\"rn\", F.row_number().over(Window.partitionBy(\"neighbor_call\").orderBy(\"distance_to_neighbor\")))\n",
    "        .filter(F.col(\"rn\") == 1)\n",
    "    )\n",
    "\n",
    "\n",
    "    # Cache & checkpoint augmented stations (TODO: save to DBFS iterim folder)\n",
    "    aug_stations.cache()\n",
    "    aug_stations = aug_stations.checkpoint()\n",
    "else:\n",
    "    aug_stations = stations"
   ]
  },
  {
   "cell_type": "markdown",
   "metadata": {
    "application/vnd.databricks.v1+cell": {
     "cellMetadata": {
      "byteLimit": 2048000,
      "rowLimit": 10000
     },
     "inputWidgets": {},
     "nuid": "890b568f-3111-4ec5-a025-86bcdcc11e7b",
     "showTitle": false,
     "tableResultSettingsMap": {},
     "title": ""
    }
   },
   "source": [
    "### 4. Performing the join to get the nearest station's data"
   ]
  },
  {
   "cell_type": "code",
   "execution_count": 0,
   "metadata": {
    "application/vnd.databricks.v1+cell": {
     "cellMetadata": {
      "byteLimit": 2048000,
      "rowLimit": 10000
     },
     "inputWidgets": {},
     "nuid": "a70701de-0ccf-4eb9-94ac-bb978c9309c1",
     "showTitle": false,
     "tableResultSettingsMap": {},
     "title": ""
    }
   },
   "outputs": [],
   "source": [
    "# Register as temporary views for SQL use\n",
    "flights_w_icao.createOrReplaceTempView(\"flights_w_icao\")\n",
    "aug_stations.createOrReplaceTempView(\"aug_stations\")\n",
    "\n",
    "# Apply Broadcast Join for small aug_stations table\n",
    "aug_stations_broadcast = broadcast(aug_stations)\n",
    "\n",
    "flights_stations = flights_w_icao \\\n",
    "    .join(aug_stations_broadcast.alias(\"a1\"), flights_w_icao.ORIGIN_ICAO == F.col(\"a1.neighbor_call\"), \"left\") \\\n",
    "    .join(aug_stations_broadcast.alias(\"a2\"), flights_w_icao.DEST_ICAO == F.col(\"a2.neighbor_call\"), \"left\") \\\n",
    "    .select(\n",
    "        flights_w_icao[\"*\"],\n",
    "        # Origin Station\n",
    "        F.col(\"a1.neighbor_name\").alias(\"origin_airport_name\"),\n",
    "        F.col(\"a1.station_id\").alias(\"origin_station_id\"),\n",
    "        F.col(\"a1.lat\").alias(\"origin_station_lat\"),\n",
    "        F.col(\"a1.lon\").alias(\"origin_station_lon\"),\n",
    "        F.col(\"a1.neighbor_lat\").alias(\"origin_airport_lat\"),\n",
    "        F.col(\"a1.neighbor_lon\").alias(\"origin_airport_lon\"),\n",
    "        F.col(\"a1.distance_to_neighbor\").alias(\"origin_station_dis\"),\n",
    "\n",
    "        # Destination Station\n",
    "        F.col(\"a2.neighbor_name\").alias(\"dest_airport_name\"),\n",
    "        F.col(\"a2.station_id\").alias(\"dest_station_id\"),\n",
    "        F.col(\"a2.lat\").alias(\"dest_station_lat\"),\n",
    "        F.col(\"a2.lon\").alias(\"dest_station_lon\"),\n",
    "        F.col(\"a2.neighbor_lat\").alias(\"dest_airport_lat\"),\n",
    "        F.col(\"a2.neighbor_lon\").alias(\"dest_airport_lon\"),\n",
    "        F.col(\"a2.distance_to_neighbor\").alias(\"dest_station_dis\")\n",
    "    )\n",
    "\n",
    "# Cache & checkpoint post join (TODO: save to DBFS iterim folder)\n",
    "flights_stations.cache()\n",
    "flights_stations = flights_stations.checkpoint()"
   ]
  },
  {
   "cell_type": "markdown",
   "metadata": {
    "application/vnd.databricks.v1+cell": {
     "cellMetadata": {
      "byteLimit": 2048000,
      "rowLimit": 10000
     },
     "inputWidgets": {},
     "nuid": "ad79a83f-92d2-4363-9498-e0dde3f7c04f",
     "showTitle": false,
     "tableResultSettingsMap": {},
     "title": ""
    }
   },
   "source": [
    "### 5. Checking if we have any missing stations after the join"
   ]
  },
  {
   "cell_type": "code",
   "execution_count": 0,
   "metadata": {
    "application/vnd.databricks.v1+cell": {
     "cellMetadata": {
      "byteLimit": 2048000,
      "rowLimit": 10000
     },
     "inputWidgets": {},
     "nuid": "550accde-b8b2-43c0-a87e-cecf9d51527c",
     "showTitle": false,
     "tableResultSettingsMap": {},
     "title": ""
    }
   },
   "outputs": [],
   "source": [
    "# Get statistics for validation: check for null origin_airport_name and dest_airport_name after the join (must be null)\n",
    "\n",
    "origin_icao_match_count = flights_stations.filter(F.col(\"origin_airport_lat\").isNotNull()).count()\n",
    "dest_icao_match_count = flights_stations.filter(F.col(\"dest_airport_lat\").isNotNull()).count()\n",
    "total_stations = flights_stations.count()\n",
    "\n",
    "print(f\"Origin ICAO match rate: {origin_icao_match_count/total_stations:.2%} - {total_stations - origin_icao_match_count} ICAO codes unmatched\")\n",
    "print(f\"Destination ICAO match rate: {dest_icao_match_count/total_stations:.2%} - {total_stations - dest_icao_match_count} ICAO codes unmatched\")"
   ]
  },
  {
   "cell_type": "markdown",
   "metadata": {
    "application/vnd.databricks.v1+cell": {
     "cellMetadata": {
      "byteLimit": 2048000,
      "rowLimit": 10000
     },
     "inputWidgets": {},
     "nuid": "69e0e14a-0c48-4960-b72f-a15556ba717c",
     "showTitle": false,
     "tableResultSettingsMap": {},
     "title": ""
    }
   },
   "source": [
    "## Step 4: Handling time"
   ]
  },
  {
   "cell_type": "markdown",
   "metadata": {
    "application/vnd.databricks.v1+cell": {
     "cellMetadata": {
      "byteLimit": 2048000,
      "rowLimit": 10000
     },
     "inputWidgets": {},
     "nuid": "b310a271-41a8-4fd3-8f96-877724bb1103",
     "showTitle": false,
     "tableResultSettingsMap": {},
     "title": ""
    }
   },
   "source": [
    "### 1. Validate Missing ICAO in Timezones Data before the join"
   ]
  },
  {
   "cell_type": "code",
   "execution_count": 0,
   "metadata": {
    "application/vnd.databricks.v1+cell": {
     "cellMetadata": {
      "byteLimit": 2048000,
      "rowLimit": 10000
     },
     "inputWidgets": {},
     "nuid": "4fec2517-3bd6-483f-8245-af3da19a03ae",
     "showTitle": false,
     "tableResultSettingsMap": {},
     "title": ""
    }
   },
   "outputs": [],
   "source": [
    "# Extract unique station ICAO codes\n",
    "tz_icao = timezones.select(\"neighbor_call\").distinct()\n",
    "\n",
    "# Find missing ICAO codes in timezones table\n",
    "missing_tz_lst = (\n",
    "    flight_icao.join(tz_icao, flight_icao[\"ORIGIN_ICAO\"] == tz_icao[\"neighbor_call\"], \"left_anti\")\n",
    "    .select(F.col(\"ORIGIN_ICAO\").alias(\"missing_code\"))\n",
    "    .rdd.flatMap(lambda x: x).collect()\n",
    ")"
   ]
  },
  {
   "cell_type": "markdown",
   "metadata": {
    "application/vnd.databricks.v1+cell": {
     "cellMetadata": {
      "byteLimit": 2048000,
      "rowLimit": 10000
     },
     "inputWidgets": {},
     "nuid": "b6437ed0-7ba7-463d-9983-e2f61b8d8927",
     "showTitle": false,
     "tableResultSettingsMap": {},
     "title": ""
    }
   },
   "source": [
    "### 2. Finding missing timezones using coordinates\n"
   ]
  },
  {
   "cell_type": "code",
   "execution_count": 0,
   "metadata": {
    "application/vnd.databricks.v1+cell": {
     "cellMetadata": {
      "byteLimit": 2048000,
      "rowLimit": 10000
     },
     "inputWidgets": {},
     "nuid": "edbc5293-9462-4c33-bc1d-1372e972d988",
     "showTitle": false,
     "tableResultSettingsMap": {},
     "title": ""
    }
   },
   "outputs": [],
   "source": [
    "# ============================\n",
    "# UDF: Timezones Lookup\n",
    "# ============================\n",
    "def find_timezone(lat, lng):\n",
    "    tf = TimezoneFinder()\n",
    "    timezone_str = tf.timezone_at(lat=lat, lng=lng)\n",
    "    return timezone_str if timezone_str else \"Unknown\"\n",
    "\n",
    "\n",
    "if len(missing_tz_lst) > 0:\n",
    "    missing_tz = (\n",
    "            flights_stations.filter(F.col(\"ORIGIN_ICAO\").isin(missing_tz_lst))\n",
    "            .select(F.col(\"ORIGIN_ICAO\").alias(\"neighbor_call\"),\n",
    "                    F.col(\"origin_airport_lat\").alias(\"neighbor_lat\"),\n",
    "                    F.col(\"origin_airport_lon\").alias(\"neighbor_lon\"))\n",
    "            .union(flights_stations.filter(F.col(\"DEST_ICAO\").isin(missing_tz_lst))\n",
    "                   .select(F.col(\"DEST_ICAO\").alias(\"neighbor_call\"),\n",
    "                           F.col(\"dest_airport_lat\").alias(\"neighbor_lat\"),\n",
    "                           F.col(\"dest_airport_lon\").alias(\"neighbor_lon\"))).distinct())\n",
    "\n",
    "    # define udf for time zone lookup\n",
    "    find_timezone_udf = udf(find_timezone, StringType())\n",
    "\n",
    "    # add time zone column\n",
    "    missing_tz = missing_tz.withColumn(\"timezone\", find_timezone_udf(F.col(\"neighbor_lat\"), F.col(\"neighbor_lon\")))\n",
    "    \n",
    "    # Augmenting Timezones data with the missing airport data\n",
    "    timezones = timezones.union(missing_tz)\n",
    "    # re-save timezones data as a parquet file (TODO: uncomment later once verified)\n",
    "    timezones.write.mode(\"overwrite\").parquet(f\"{team_BASE_DIR}/external/tz_lookup_v2.parquet\")"
   ]
  },
  {
   "cell_type": "markdown",
   "metadata": {
    "application/vnd.databricks.v1+cell": {
     "cellMetadata": {
      "byteLimit": 2048000,
      "rowLimit": 10000
     },
     "inputWidgets": {},
     "nuid": "34c4f2a2-5403-44eb-9d4f-6a343517c4db",
     "showTitle": false,
     "tableResultSettingsMap": {},
     "title": ""
    }
   },
   "source": [
    "### 3. Finding Timezone using Erica's table"
   ]
  },
  {
   "cell_type": "code",
   "execution_count": 0,
   "metadata": {
    "application/vnd.databricks.v1+cell": {
     "cellMetadata": {
      "byteLimit": 2048000,
      "rowLimit": 10000
     },
     "inputWidgets": {},
     "nuid": "7fc7ac5d-8bf5-46ab-8543-dd0ee2c612c4",
     "showTitle": false,
     "tableResultSettingsMap": {},
     "title": ""
    }
   },
   "outputs": [],
   "source": [
    "# Register as temporary views for SQL use\n",
    "flights_stations.createOrReplaceTempView(\"flights_stations\")\n",
    "timezones.createOrReplaceTempView(\"timezones\")\n",
    "\n",
    "# Apply Broadcast Join for small timezones table\n",
    "tz_broadcast = broadcast(timezones)\n",
    "\n",
    "flights_tz = flights_stations \\\n",
    "    .join(tz_broadcast.alias(\"a1\"), flights_stations.ORIGIN_ICAO == F.col(\"a1.neighbor_call\"), \"left\") \\\n",
    "    .join(tz_broadcast.alias(\"a2\"), flights_stations.DEST_ICAO == F.col(\"a2.neighbor_call\"), \"left\") \\\n",
    "    .select(\n",
    "        flights_stations[\"*\"],\n",
    "        # Origin Station\n",
    "        F.col(\"a1.timezone\").alias(\"origin_timezone\"),\n",
    "\n",
    "        # Destination Station\n",
    "        F.col(\"a2.timezone\").alias(\"dest_timezone\"),\n",
    "    )\n",
    "\n",
    "# Cache the data to avoid recomputing the time zones (TODO: save to DBFS iterim folder)\n",
    "flights_tz.cache()\n",
    "flights_tz = flights_tz.checkpoint()"
   ]
  },
  {
   "cell_type": "markdown",
   "metadata": {
    "application/vnd.databricks.v1+cell": {
     "cellMetadata": {
      "byteLimit": 2048000,
      "rowLimit": 10000
     },
     "inputWidgets": {},
     "nuid": "7513c033-3ea0-485d-9b73-e55ac5ff752e",
     "showTitle": false,
     "tableResultSettingsMap": {},
     "title": ""
    }
   },
   "source": [
    "### 4. Checking if we have any missing stations after the join"
   ]
  },
  {
   "cell_type": "code",
   "execution_count": 0,
   "metadata": {
    "application/vnd.databricks.v1+cell": {
     "cellMetadata": {
      "byteLimit": 2048000,
      "rowLimit": 10000
     },
     "inputWidgets": {},
     "nuid": "56dca9d5-4481-47f3-9726-73fa52627bf0",
     "showTitle": false,
     "tableResultSettingsMap": {},
     "title": ""
    }
   },
   "outputs": [],
   "source": [
    "# Get statistics for validation: check for null origin_timezone and dest_timezone after the join (must be null)\n",
    "\n",
    "origin_tz_match_count = flights_tz.filter(F.col(\"origin_timezone\").isNotNull()).count()\n",
    "dest_tz_match_count = flights_tz.filter(F.col(\"dest_timezone\").isNotNull()).count()\n",
    "total_flights_tz = flights_tz.count()\n",
    "\n",
    "print(f\"Origin timeszones match rate: {origin_tz_match_count/total_flights_tz:.2%} - {total_flights_tz - origin_tz_match_count} timeszones unmatched\")\n",
    "print(f\"Destination timeszones match rate: {dest_tz_match_count/total_flights_tz:.2%} - {total_flights_tz - dest_tz_match_count} timeszones unmatched\")"
   ]
  },
  {
   "cell_type": "markdown",
   "metadata": {
    "application/vnd.databricks.v1+cell": {
     "cellMetadata": {
      "byteLimit": 2048000,
      "rowLimit": 10000
     },
     "inputWidgets": {},
     "nuid": "993e4980-06a1-4819-a35d-da21068dae71",
     "showTitle": false,
     "tableResultSettingsMap": {},
     "title": ""
    }
   },
   "source": [
    "### 5. Joining Date and time fields"
   ]
  },
  {
   "cell_type": "code",
   "execution_count": 0,
   "metadata": {
    "application/vnd.databricks.v1+cell": {
     "cellMetadata": {
      "byteLimit": 2048000,
      "rowLimit": 10000
     },
     "inputWidgets": {},
     "nuid": "62e80411-422f-4c0d-be5f-bc4fb9862d85",
     "showTitle": false,
     "tableResultSettingsMap": {},
     "title": ""
    }
   },
   "outputs": [],
   "source": [
    "# Joining Derparture Date and Departure time to datetime\n",
    "flights_tz = flights_tz.withColumn(\n",
    "    \"sched_depart_date_time\",\n",
    "    F.concat_ws(\n",
    "        \"T\",\n",
    "        F.col(\"FL_DATE\"),\n",
    "        F.date_format(F.to_timestamp(F.concat(F.lpad(\"CRS_DEP_TIME\", 4, \"0\"), F.lit(\"00\")), \"HHmmss\"), \"HH:mm:ss\")\n",
    "    )\n",
    ")"
   ]
  },
  {
   "cell_type": "markdown",
   "metadata": {
    "application/vnd.databricks.v1+cell": {
     "cellMetadata": {
      "byteLimit": 2048000,
      "rowLimit": 10000
     },
     "inputWidgets": {},
     "nuid": "f827ca7e-01fb-4782-a08c-20c38e440047",
     "showTitle": false,
     "tableResultSettingsMap": {},
     "title": ""
    }
   },
   "source": [
    "### 6. Converting to UTC and adding UTC-2 and UTC-4"
   ]
  },
  {
   "cell_type": "code",
   "execution_count": 0,
   "metadata": {
    "application/vnd.databricks.v1+cell": {
     "cellMetadata": {
      "byteLimit": 2048000,
      "rowLimit": 10000
     },
     "inputWidgets": {},
     "nuid": "6b86d408-b65c-49b2-8045-7eb61618662e",
     "showTitle": false,
     "tableResultSettingsMap": {},
     "title": ""
    }
   },
   "outputs": [],
   "source": [
    "# ============================\n",
    "# UDF: Convert Deprature Time to UTC\n",
    "# ============================\n",
    "\n",
    "def to_utc(dt: str, tz: str) -> str:\n",
    "    if dt is None:\n",
    "        return None\n",
    "    dt_format = \"%Y-%m-%dT%H:%M:%S\"\n",
    "    local_dt = datetime.strptime(dt, dt_format)\n",
    "    if tz:\n",
    "        timezone = pytz.timezone(tz)\n",
    "        local_dt = timezone.localize(local_dt)\n",
    "        \n",
    "        # Convert to UTC\n",
    "        utc_dt = local_dt.astimezone(pytz.utc)\n",
    "        return utc_dt.strftime(dt_format)\n",
    "    return None\n",
    "\n",
    "utc_udf = F.udf(to_utc)\n",
    "\n",
    "flights_utc = flights_tz.withColumn(\"sched_depart_utc\", utc_udf(F.col(\"sched_depart_date_time\"), F.col(\"origin_timezone\").cast(F.StringType())))\n",
    "\n",
    "# Cache the data to avoid recomputing the UTC (TODO: save to DBFS iterim folder)\n",
    "flights_utc.cache()\n",
    "flights_utc = flights_utc.checkpoint()"
   ]
  },
  {
   "cell_type": "code",
   "execution_count": 0,
   "metadata": {
    "application/vnd.databricks.v1+cell": {
     "cellMetadata": {
      "byteLimit": 2048000,
      "rowLimit": 10000
     },
     "inputWidgets": {},
     "nuid": "16f2902d-4be8-46b5-98ff-372140a4703e",
     "showTitle": false,
     "tableResultSettingsMap": {},
     "title": ""
    }
   },
   "outputs": [],
   "source": [
    "# ============================\n",
    "# UDF: Calculate Prior Times\n",
    "# ============================\n",
    "def calculate_prior_times(utc_datetime_str, hours_prior):\n",
    "    if utc_datetime_str is None:\n",
    "        return None\n",
    "    try:\n",
    "        # Parse UTC datetime string\n",
    "        utc_format = \"%Y-%m-%dT%H:%M:%S\"\n",
    "        utc_dt = datetime.strptime(utc_datetime_str, utc_format)\n",
    "        \n",
    "        # Subtract hours to get prior times\n",
    "        prior_dt = utc_dt - timedelta(hours=hours_prior)\n",
    "        return prior_dt.strftime(\"%Y-%m-%dT%H:%M:%S\")\n",
    "    \n",
    "    except Exception as e:\n",
    "        return None\n",
    "\n",
    "# Register UDFs\n",
    "calculate_prior_times_udf = F.udf(calculate_prior_times, StringType())\n",
    "\n",
    "flights_utc_2_4 = flights_utc.withColumn(\"two_hours_prior_depart_UTC\", calculate_prior_times_udf(F.col(\"sched_depart_utc\"), F.lit(2)))\n",
    "flights_utc_2_4 = flights_utc_2_4.withColumn(\"four_hours_prior_depart_UTC\", calculate_prior_times_udf(F.col(\"sched_depart_utc\"), F.lit(4)))\n",
    "\n",
    "# Cache the data to avoid recomputing the UTC-2 and UTC-4 (TODO: save to DBFS iterim folder)\n",
    "flights_utc_2_4.cache()\n",
    "flights_utc_2_4 = flights_utc_2_4.checkpoint()"
   ]
  },
  {
   "cell_type": "markdown",
   "metadata": {
    "application/vnd.databricks.v1+cell": {
     "cellMetadata": {
      "byteLimit": 2048000,
      "rowLimit": 10000
     },
     "inputWidgets": {},
     "nuid": "b87cdece-4420-4a41-aaa6-703ccb9515c4",
     "showTitle": false,
     "tableResultSettingsMap": {},
     "title": ""
    }
   },
   "source": [
    "## Step 5: Joining Weather Data"
   ]
  },
  {
   "cell_type": "markdown",
   "metadata": {
    "application/vnd.databricks.v1+cell": {
     "cellMetadata": {},
     "inputWidgets": {},
     "nuid": "8b043645-37f6-40ac-b948-39d8d25e9665",
     "showTitle": false,
     "tableResultSettingsMap": {},
     "title": ""
    }
   },
   "source": [
    "### 1. OPTIMIZE FLIGHTS DATA"
   ]
  },
  {
   "cell_type": "code",
   "execution_count": 0,
   "metadata": {
    "application/vnd.databricks.v1+cell": {
     "cellMetadata": {
      "byteLimit": 2048000,
      "rowLimit": 10000
     },
     "inputWidgets": {},
     "nuid": "511d6ed3-d57e-4260-8cc7-6396df33b6bc",
     "showTitle": false,
     "tableResultSettingsMap": {},
     "title": ""
    }
   },
   "outputs": [],
   "source": [
    "# Add date columns for partitioning\n",
    "flights_prep = (flights_utc_2_4\n",
    "    # Convert timestamps and extract date parts\n",
    "    .withColumn(\"sched_depart_utc\", F.col(\"sched_depart_utc\").cast(\"timestamp\"))\n",
    "    .withColumn(\"two_hours_prior_depart_UTC\", F.col(\"two_hours_prior_depart_UTC\").cast(\"timestamp\"))\n",
    "    .withColumn(\"four_hours_prior_depart_UTC\", F.col(\"four_hours_prior_depart_UTC\").cast(\"timestamp\"))\n",
    "    # Add date columns for efficient partitioning\n",
    "    .withColumn(\"origin_join_date\", F.to_date(\"four_hours_prior_depart_UTC\"))\n",
    "    # Repartition to optimize joins (Helps with shuffle efficiency)\n",
    "    .repartition(\"origin_station_id\", \"sched_depart_utc\")\n",
    "    # Persist for multiple joins\n",
    "    .persist()\n",
    ")"
   ]
  },
  {
   "cell_type": "markdown",
   "metadata": {
    "application/vnd.databricks.v1+cell": {
     "cellMetadata": {},
     "inputWidgets": {},
     "nuid": "e3951b5d-ef54-431b-bc0b-0b4392692405",
     "showTitle": false,
     "tableResultSettingsMap": {},
     "title": ""
    }
   },
   "source": [
    "### 2. OPTIMIZE WEATHER DATA"
   ]
  },
  {
   "cell_type": "code",
   "execution_count": 0,
   "metadata": {
    "application/vnd.databricks.v1+cell": {
     "cellMetadata": {
      "byteLimit": 2048000,
      "rowLimit": 10000
     },
     "inputWidgets": {},
     "nuid": "f893ec2a-1b9b-4a7b-bff0-7dda109fb1f2",
     "showTitle": false,
     "tableResultSettingsMap": {},
     "title": ""
    }
   },
   "outputs": [],
   "source": [
    "# Add date column and filter only to needed fields to reduce shuffle size\n",
    "weather_prep = (weather\n",
    "                # Select only columns we need for the join and prediction\n",
    "                .select(w_feat)\n",
    "                .withColumn(\"weather_date\", F.to_date(\"utc_datetime\"))\n",
    "                # Cluster by date for optimization\n",
    "                .repartition(2000, \"weather_date\", \"STATION\")\n",
    "                .persist()\n",
    "            )"
   ]
  },
  {
   "cell_type": "code",
   "execution_count": 0,
   "metadata": {
    "application/vnd.databricks.v1+cell": {
     "cellMetadata": {
      "byteLimit": 2048000,
      "rowLimit": 10000
     },
     "inputWidgets": {},
     "nuid": "1c332141-9b53-4a00-b1d7-ed751fb44800",
     "showTitle": false,
     "tableResultSettingsMap": {},
     "title": ""
    }
   },
   "outputs": [],
   "source": [
    "# Create a broadcast lookup of dates AND stations to filter weather data\n",
    "flight_date_stations = (flights_prep\n",
    "    .select(\n",
    "        F.col(\"origin_join_date\").alias(\"date\"),\n",
    "        F.col(\"origin_station_id\").alias(\"station\")\n",
    "    )\n",
    "    .distinct()\n",
    "    .persist()\n",
    ")\n",
    "\n",
    "# Filter weather data to only include dates AND stations in our flight dataset\n",
    "weather_filtered = (weather_prep\n",
    "                    .join(\n",
    "                        F.broadcast(flight_date_stations),\n",
    "                        (weather_prep.weather_date == flight_date_stations.date) & \n",
    "                        (weather_prep.STATION == flight_date_stations.station),\n",
    "                        \"inner\"\n",
    "                    )\n",
    "                    .select(weather_prep[\"*\"])\n",
    "                    .persist()\n",
    "                )"
   ]
  },
  {
   "cell_type": "markdown",
   "metadata": {
    "application/vnd.databricks.v1+cell": {
     "cellMetadata": {},
     "inputWidgets": {},
     "nuid": "b5206982-d007-4e5f-acc6-db30ec427841",
     "showTitle": false,
     "tableResultSettingsMap": {},
     "title": ""
    }
   },
   "source": [
    "### 3. ORIGIN WEATHER JOIN"
   ]
  },
  {
   "cell_type": "code",
   "execution_count": 0,
   "metadata": {
    "application/vnd.databricks.v1+cell": {
     "cellMetadata": {
      "byteLimit": 2048000,
      "rowLimit": 10000
     },
     "inputWidgets": {},
     "nuid": "e07668ec-217e-4f5c-9f28-b3c511fa1e2f",
     "showTitle": false,
     "tableResultSettingsMap": {},
     "title": ""
    }
   },
   "outputs": [],
   "source": [
    "# Merge flight and weather data for origin airports\n",
    "origin_weather = (\n",
    "    flights_prep.alias(\"f\")\n",
    "    .join(\n",
    "        weather_filtered.alias(\"w\"),\n",
    "        (F.col(\"f.origin_station_id\") == F.col(\"w.STATION\")) &\n",
    "        (F.col(\"w.utc_datetime\") >= F.col(\"f.four_hours_prior_depart_UTC\")) &\n",
    "        (F.col(\"w.utc_datetime\") <= F.col(\"f.two_hours_prior_depart_UTC\")),\n",
    "        \"left\"\n",
    "    )\n",
    ")"
   ]
  },
  {
   "cell_type": "code",
   "execution_count": 0,
   "metadata": {
    "application/vnd.databricks.v1+cell": {
     "cellMetadata": {
      "byteLimit": 2048000,
      "rowLimit": 10000
     },
     "inputWidgets": {},
     "nuid": "f15fb1d1-c649-4a7e-a220-06511687c1b6",
     "showTitle": false,
     "tableResultSettingsMap": {},
     "title": ""
    }
   },
   "outputs": [],
   "source": [
    "origin_prefix = \"origin_\"\n",
    "origin_weather_col = [F.col(f\"w.{c}\").alias(f\"{origin_prefix}{c}\") for c in weather_filtered.columns]\n",
    "# Select closest weather reading to 2 hours prior to departure for origin\n",
    "origin_weather_closest = (\n",
    "    origin_weather\n",
    "    .withColumn(\n",
    "        \"time_diff\", \n",
    "        F.abs(F.col(\"w.utc_datetime\") - F.col(\"f.two_hours_prior_depart_UTC\"))\n",
    "    )\n",
    "    .withColumn(\n",
    "        \"rn\", \n",
    "        F.row_number().over(\n",
    "            Window\n",
    "            .partitionBy(\"OP_CARRIER_FL_NUM\", \"ORIGIN\", \"DEST\", \"TAIL_NUM\", \"sched_depart_utc\")\n",
    "            .orderBy(\"time_diff\")\n",
    "        )\n",
    "    )\n",
    "    .filter(F.col(\"rn\") == 1)\n",
    "    .drop(\"rn\", \"time_diff\")\n",
    "    # Rename columns to indicate origin weather\n",
    "    .select(\n",
    "        \"f.*\",\n",
    "        *origin_weather_col\n",
    "    )\n",
    "    .persist()\n",
    ")"
   ]
  },
  {
   "cell_type": "markdown",
   "metadata": {
    "application/vnd.databricks.v1+cell": {
     "cellMetadata": {},
     "inputWidgets": {},
     "nuid": "b2ecc202-15cb-4c07-a406-4ce3d1497b22",
     "showTitle": false,
     "tableResultSettingsMap": {},
     "title": ""
    }
   },
   "source": [
    "### 4. DESTINATION WEATHER JOIN\n"
   ]
  },
  {
   "cell_type": "code",
   "execution_count": 0,
   "metadata": {
    "application/vnd.databricks.v1+cell": {
     "cellMetadata": {
      "byteLimit": 2048000,
      "rowLimit": 10000
     },
     "inputWidgets": {},
     "nuid": "29d7fd61-bf41-4cbd-88ea-9bc74808f5d0",
     "showTitle": false,
     "tableResultSettingsMap": {},
     "title": ""
    }
   },
   "outputs": [],
   "source": [
    "# Merge flight and weather data for destination airports\n",
    "dest_weather = (\n",
    "    origin_weather_closest.alias(\"f\")\n",
    "    .join(\n",
    "        weather_filtered.alias(\"w\"),\n",
    "        (F.col(\"f.dest_station_id\") == F.col(\"w.STATION\")) &\n",
    "        (F.col(\"w.utc_datetime\") >= F.col(\"f.four_hours_prior_depart_UTC\")) &\n",
    "        (F.col(\"w.utc_datetime\") <= F.col(\"f.two_hours_prior_depart_UTC\")),\n",
    "        \"left\"\n",
    "    )\n",
    ")"
   ]
  },
  {
   "cell_type": "code",
   "execution_count": 0,
   "metadata": {
    "application/vnd.databricks.v1+cell": {
     "cellMetadata": {
      "byteLimit": 2048000,
      "rowLimit": 10000
     },
     "inputWidgets": {},
     "nuid": "d9a811f6-a5f6-409e-becd-23ed996cc916",
     "showTitle": false,
     "tableResultSettingsMap": {},
     "title": ""
    }
   },
   "outputs": [],
   "source": [
    "dest_prefix = \"dest_\"\n",
    "dest_weather_col = [F.col(f\"w.{c}\").alias(f\"{dest_prefix}{c}\") for c in weather_filtered.columns]\n",
    "# Select closest weather reading to 2 hours prior to departure for origin\n",
    "dest_weather_closest = (\n",
    "    dest_weather\n",
    "    .withColumn(\n",
    "        \"time_diff\", \n",
    "        F.abs(F.col(\"w.utc_datetime\") - F.col(\"f.two_hours_prior_depart_UTC\"))\n",
    "    )\n",
    "    .withColumn(\n",
    "        \"rn\", \n",
    "        F.row_number().over(\n",
    "            Window\n",
    "            .partitionBy(\"OP_CARRIER_FL_NUM\", \"ORIGIN\", \"DEST\", \"TAIL_NUM\", \"sched_depart_utc\")\n",
    "            .orderBy(\"time_diff\")\n",
    "        )\n",
    "    )\n",
    "    .filter(F.col(\"rn\") == 1)\n",
    "    .drop(\"rn\", \"time_diff\")\n",
    "    # Rename columns to indicate origin weather\n",
    "    .select(\n",
    "        \"f.*\",\n",
    "        *dest_weather_col\n",
    "    )\n",
    "    .persist()\n",
    ")\n",
    "\n",
    "dest_weather_closest.cache()\n",
    "dest_weather_closest = dest_weather_closest.checkpoint()"
   ]
  },
  {
   "cell_type": "markdown",
   "metadata": {
    "application/vnd.databricks.v1+cell": {
     "cellMetadata": {},
     "inputWidgets": {},
     "nuid": "aa5ad0c4-74a5-418f-b41f-4e39f0d30c0d",
     "showTitle": false,
     "tableResultSettingsMap": {},
     "title": ""
    }
   },
   "source": [
    "### 5. COLLECT JOIN METRICS"
   ]
  },
  {
   "cell_type": "code",
   "execution_count": 0,
   "metadata": {
    "application/vnd.databricks.v1+cell": {
     "cellMetadata": {
      "byteLimit": 2048000,
      "rowLimit": 10000
     },
     "inputWidgets": {},
     "nuid": "d29f6354-2439-4579-8423-61c3277ff5b8",
     "showTitle": false,
     "tableResultSettingsMap": {},
     "title": ""
    }
   },
   "outputs": [],
   "source": [
    "# Get statistics for validation\n",
    "origin_match_count = origin_weather_closest.filter(F.col(\"origin_STATION\").isNotNull()).count()\n",
    "dest_match_count = dest_weather_closest.filter(F.col(\"dest_STATION\").isNotNull()).count()\n",
    "total_flights = flights_prep.count()\n",
    "\n",
    "print(f\"Origin weather match rate: {origin_match_count/total_flights:.2%}- {total_flights - origin_match_count} flights unmatched\")\n",
    "print(f\"Destination weather match rate: {dest_match_count/total_flights:.2%} - {total_flights - dest_match_count} flights unmatched\")"
   ]
  },
  {
   "cell_type": "code",
   "execution_count": 0,
   "metadata": {
    "application/vnd.databricks.v1+cell": {
     "cellMetadata": {
      "byteLimit": 2048000,
      "rowLimit": 10000
     },
     "inputWidgets": {},
     "nuid": "459054e4-6ee4-490a-9974-769048bbc009",
     "showTitle": false,
     "tableResultSettingsMap": {},
     "title": ""
    }
   },
   "outputs": [],
   "source": [
    "dest_weather_closest.write.mode(\"overwrite\").parquet(f\"{team_BASE_DIR}/interim/join_checkpoints/joined_flights_weather_{period}_v1.parquet\")"
   ]
  },
  {
   "cell_type": "code",
   "execution_count": 0,
   "metadata": {
    "application/vnd.databricks.v1+cell": {
     "cellMetadata": {
      "byteLimit": 2048000,
      "rowLimit": 10000
     },
     "inputWidgets": {},
     "nuid": "f990e326-9e5c-4cbd-90eb-0543aec428c5",
     "showTitle": false,
     "tableResultSettingsMap": {},
     "title": ""
    }
   },
   "outputs": [],
   "source": [
    "print(weather.count(),\"\\n\",flights_utc_2_4.count())"
   ]
  },
  {
   "cell_type": "markdown",
   "metadata": {
    "application/vnd.databricks.v1+cell": {
     "cellMetadata": {},
     "inputWidgets": {},
     "nuid": "71366ae1-4a35-47e7-8c35-4403f0978bf6",
     "showTitle": false,
     "tableResultSettingsMap": {},
     "title": ""
    }
   },
   "source": [
    "# Alternative Flights and Weather JOIN"
   ]
  },
  {
   "cell_type": "code",
   "execution_count": 0,
   "metadata": {
    "application/vnd.databricks.v1+cell": {
     "cellMetadata": {
      "byteLimit": 2048000,
      "rowLimit": 10000
     },
     "inputWidgets": {},
     "nuid": "732c9860-40b9-4f67-9366-b79778a1e1be",
     "showTitle": false,
     "tableResultSettingsMap": {},
     "title": ""
    }
   },
   "outputs": [],
   "source": [
    "# Repartition to optimize joins (Helps with shuffle efficiency)\n",
    "flights_prep = flights_prep.repartition(\"origin_station_id\", \"sched_depart_utc\")"
   ]
  },
  {
   "cell_type": "code",
   "execution_count": 0,
   "metadata": {
    "application/vnd.databricks.v1+cell": {
     "cellMetadata": {
      "byteLimit": 2048000,
      "rowLimit": 10000
     },
     "inputWidgets": {},
     "nuid": "9df0c04d-8774-4fd1-be1c-947ce98babd8",
     "showTitle": false,
     "tableResultSettingsMap": {},
     "title": ""
    }
   },
   "outputs": [],
   "source": [
    "# Merge flight and weather data for origin airports\n",
    "flights_weather = (\n",
    "    flights_prep.alias(\"f\")\n",
    "    .join(\n",
    "        weather_prep.alias(\"w\"),\n",
    "        (F.col(\"f.origin_station_id\") == F.col(\"w.STATION\")) &\n",
    "        (F.col(\"w.utc_datetime\") >= F.col(\"f.four_hours_prior_depart_UTC\")) &\n",
    "        (F.col(\"w.utc_datetime\") <= F.col(\"f.two_hours_prior_depart_UTC\")),\n",
    "        \"left\"\n",
    "    )\n",
    ")"
   ]
  },
  {
   "cell_type": "code",
   "execution_count": 0,
   "metadata": {
    "application/vnd.databricks.v1+cell": {
     "cellMetadata": {
      "byteLimit": 2048000,
      "rowLimit": 10000
     },
     "inputWidgets": {},
     "nuid": "635818c4-79a2-4dc6-9d76-96fdfc793a3c",
     "showTitle": false,
     "tableResultSettingsMap": {},
     "title": ""
    }
   },
   "outputs": [],
   "source": [
    "# Find closest origin station\n",
    "flights_weather = (\n",
    "    flights_weather\n",
    "    .withColumn(\n",
    "        \"time_diff\",\n",
    "        F.abs(F.col(\"w.utc_datetime\") - F.col(\"f.two_hours_prior_depart_UTC\"))\n",
    "    )\n",
    "    .withColumn(\n",
    "        \"rn\", \n",
    "        F.row_number().over(\n",
    "            Window\n",
    "            .partitionBy(\"OP_CARRIER_FL_NUM\",\"ORIGIN\", \"DEST\", \"TAIL_NUM\", \"sched_depart_utc\")\n",
    "            .orderBy(\"time_diff\")\n",
    "        )\n",
    "    )\n",
    "    .filter(F.col(\"rn\") == 1)\n",
    "    .drop(\"rn\", \"time_diff\")\n",
    "    # Rename columns to indicate origin weather\n",
    "    .select(\n",
    "        \"f.*\",\n",
    "        *origin_weather_col\n",
    "    )\n",
    "    .persist()\n",
    ")"
   ]
  },
  {
   "cell_type": "code",
   "execution_count": 0,
   "metadata": {
    "application/vnd.databricks.v1+cell": {
     "cellMetadata": {
      "byteLimit": 2048000,
      "rowLimit": 10000
     },
     "inputWidgets": {},
     "nuid": "17e912c3-cddf-46e7-8f48-12f592bd4a21",
     "showTitle": false,
     "tableResultSettingsMap": {},
     "title": ""
    }
   },
   "outputs": [],
   "source": [
    "# Merge flight and weather data for destination airports\n",
    "flights_weather = (\n",
    "    flights_weather.alias(\"f\")\n",
    "    .join(\n",
    "        weather_prep.alias(\"w\"),\n",
    "        (F.col(\"f.dest_station_id\") == F.col(\"w.STATION\")) &\n",
    "        (F.col(\"w.utc_datetime\") >= F.col(\"f.four_hours_prior_depart_UTC\")) &\n",
    "        (F.col(\"w.utc_datetime\") <= F.col(\"f.two_hours_prior_depart_UTC\")),\n",
    "        \"left\"\n",
    "    )\n",
    ")"
   ]
  },
  {
   "cell_type": "code",
   "execution_count": 0,
   "metadata": {
    "application/vnd.databricks.v1+cell": {
     "cellMetadata": {
      "byteLimit": 2048000,
      "rowLimit": 10000
     },
     "inputWidgets": {},
     "nuid": "133b8783-5806-420b-b9d3-104d475518eb",
     "showTitle": false,
     "tableResultSettingsMap": {},
     "title": ""
    }
   },
   "outputs": [],
   "source": [
    "# Find closest destination station\n",
    "flights_weather = (\n",
    "    flights_weather\n",
    "    .withColumn(\n",
    "        \"time_diff\",\n",
    "        F.abs(F.col(\"w.utc_datetime\") - F.col(\"f.two_hours_prior_depart_UTC\"))\n",
    "    )\n",
    "    .withColumn(\n",
    "        \"rn\", \n",
    "        F.row_number().over(\n",
    "            Window\n",
    "            .partitionBy(\"OP_CARRIER_FL_NUM\",\"ORIGIN\", \"DEST\", \"TAIL_NUM\", \"sched_depart_utc\")\n",
    "            .orderBy(\"time_diff\")\n",
    "        )\n",
    "    )\n",
    "    .filter(F.col(\"rn\") == 1)\n",
    "    .drop(\"rn\", \"time_diff\")\n",
    "    # Rename columns to indicate origin weather\n",
    "    .select(\n",
    "        \"f.*\",\n",
    "        *dest_weather_col\n",
    "    )\n",
    "    .persist()\n",
    ")\n",
    "\n",
    "flights_weather.cache()\n",
    "flights_weather = flights_weather.checkpoint()"
   ]
  },
  {
   "cell_type": "code",
   "execution_count": 0,
   "metadata": {
    "application/vnd.databricks.v1+cell": {
     "cellMetadata": {
      "byteLimit": 2048000,
      "rowLimit": 10000
     },
     "inputWidgets": {},
     "nuid": "65549b47-2839-4226-8046-68a758f3c852",
     "showTitle": false,
     "tableResultSettingsMap": {},
     "title": ""
    }
   },
   "outputs": [],
   "source": [
    "# Get statistics for validation\n",
    "origin_match_count_2 = flights_weather.filter(F.col(\"origin_STATION\").isNotNull()).count()\n",
    "dest_match_count_2 = flights_weather.filter(F.col(\"dest_STATION\").isNotNull()).count()\n",
    "\n",
    "print(f\"Origin weather match rate: {origin_match_count_2/total_flights:.2%} - {total_flights - origin_match_count_2} flights unmatched\")\n",
    "print(f\"Destination weather match rate: {dest_match_count_2/total_flights:.2%} - {total_flights - dest_match_count_2} flights unmatched\")"
   ]
  },
  {
   "cell_type": "code",
   "execution_count": 0,
   "metadata": {
    "application/vnd.databricks.v1+cell": {
     "cellMetadata": {
      "byteLimit": 2048000,
      "rowLimit": 10000
     },
     "inputWidgets": {},
     "nuid": "2c2131df-3d32-4630-aca7-4361ef5eaa5c",
     "showTitle": false,
     "tableResultSettingsMap": {},
     "title": ""
    }
   },
   "outputs": [],
   "source": [
    "flights_weather.write.mode(\"overwrite\").parquet(f\"{team_BASE_DIR}/interim/join_checkpoints/joined_flights_weather_{period}.parquet\")"
   ]
  },
  {
   "cell_type": "code",
   "execution_count": 0,
   "metadata": {
    "application/vnd.databricks.v1+cell": {
     "cellMetadata": {
      "byteLimit": 2048000,
      "rowLimit": 10000
     },
     "inputWidgets": {},
     "nuid": "589c696b-0138-4794-9e5b-abae378bc121",
     "showTitle": false,
     "tableResultSettingsMap": {},
     "title": ""
    }
   },
   "outputs": [],
   "source": [
    "# Clear unused cached DataFrames\n",
    "flights_prep.unpersist()\n",
    "weather_prep.unpersist()\n",
    "flight_date_stations.unpersist()\n",
    "flights_weather.unpersist()"
   ]
  },
  {
   "cell_type": "code",
   "execution_count": 0,
   "metadata": {
    "application/vnd.databricks.v1+cell": {
     "cellMetadata": {
      "byteLimit": 2048000,
      "rowLimit": 10000
     },
     "inputWidgets": {},
     "nuid": "b1806927-048d-44dd-a9bf-c50481fe5bcc",
     "showTitle": false,
     "tableResultSettingsMap": {},
     "title": ""
    }
   },
   "outputs": [],
   "source": []
  },
  {
   "cell_type": "markdown",
   "metadata": {
    "application/vnd.databricks.v1+cell": {
     "cellMetadata": {
      "byteLimit": 2048000,
      "rowLimit": 10000
     },
     "inputWidgets": {},
     "nuid": "6bdfff36-db1f-4328-bc7d-ff329f156622",
     "showTitle": false,
     "tableResultSettingsMap": {},
     "title": ""
    }
   },
   "source": [
    "### 1. Unique stations from the flights table"
   ]
  },
  {
   "cell_type": "markdown",
   "metadata": {
    "application/vnd.databricks.v1+cell": {
     "cellMetadata": {
      "byteLimit": 2048000,
      "rowLimit": 10000
     },
     "inputWidgets": {},
     "nuid": "97dee582-1083-4145-97c9-e176ac94996b",
     "showTitle": false,
     "tableResultSettingsMap": {},
     "title": ""
    }
   },
   "source": [
    "# joinng ideas (delete later)\n",
    "1. get unique station's ID's from flights table \n",
    "2. filter weather data to unique stations ID's\n",
    "3. construct a df with distinct station's id's and time (between utc-2 and utc-4) and cross join with weather data and get the time delta and select the smallest difference. \n",
    "4. use the result as join bases between flights and weather. (similar logic to the stations and neigbour distance)"
   ]
  },
  {
   "cell_type": "code",
   "execution_count": 0,
   "metadata": {
    "application/vnd.databricks.v1+cell": {
     "cellMetadata": {
      "byteLimit": 2048000,
      "rowLimit": 10000
     },
     "inputWidgets": {},
     "nuid": "8745fdbf-bda3-43d8-9717-cd4020b0702d",
     "showTitle": false,
     "tableResultSettingsMap": {},
     "title": ""
    }
   },
   "outputs": [],
   "source": [
    "flights_weather.count()"
   ]
  }
 ],
 "metadata": {
  "application/vnd.databricks.v1+notebook": {
   "computePreferences": null,
   "dashboards": [],
   "environmentMetadata": {
    "base_environment": "",
    "environment_version": "2"
   },
   "inputWidgetPreferences": null,
   "language": "python",
   "notebookMetadata": {
    "pythonIndentUnit": 4
   },
   "notebookName": "0.08-mas-data-join-pipeline",
   "widgets": {}
  },
  "language_info": {
   "name": "python"
  }
 },
 "nbformat": 4,
 "nbformat_minor": 0
}
