{
 "cells": [
  {
   "cell_type": "code",
   "execution_count": 0,
   "metadata": {
    "application/vnd.databricks.v1+cell": {
     "cellMetadata": {
      "byteLimit": 2048000,
      "rowLimit": 10000
     },
     "inputWidgets": {},
     "nuid": "a6548a44-4b32-4cba-aa16-a2e4024f71c1",
     "showTitle": false,
     "tableResultSettingsMap": {},
     "title": ""
    }
   },
   "outputs": [],
   "source": [
    "# imports\n",
    "import pandas as pd\n",
    "import numpy as np\n",
    "import pytz\n",
    "from datetime import datetime, timedelta, time\n",
    "from prophet import Prophet\n",
    "from prophet.make_holidays import make_holidays_df\n",
    "import matplotlib.pyplot as plt\n",
    "import seaborn as sns\n",
    "import plotly.express as px\n",
    "import plotly.graph_objects as go\n",
    "from pyspark.sql.functions import to_timestamp\n",
    "from prophet.plot import plot_forecast_component\n",
    "from pyspark.sql.types import StructType, StructField, StringType, IntegerType, StructType, DoubleType, LongType\n",
    "from pyspark.ml.feature import VectorAssembler, StandardScaler, StringIndexer, OneHotEncoder, MinMaxScaler\n",
    "from pyspark.ml.classification import LogisticRegression\n",
    "from pyspark.mllib.evaluation import MulticlassMetrics,BinaryClassificationMetrics\n",
    "from pyspark.ml.evaluation import RegressionEvaluator\n",
    "from pyspark.sql import functions as F\n",
    "from pyspark.sql.window import Window\n",
    "from pyspark.sql.functions import col, when, to_timestamp, lit, udf\n",
    "from pyspark.ml import Pipeline"
   ]
  },
  {
   "cell_type": "code",
   "execution_count": 0,
   "metadata": {
    "application/vnd.databricks.v1+cell": {
     "cellMetadata": {
      "byteLimit": 2048000,
      "rowLimit": 10000
     },
     "inputWidgets": {},
     "nuid": "9f2cdbe1-a1ca-4a92-9a45-965de7342f91",
     "showTitle": false,
     "tableResultSettingsMap": {},
     "title": ""
    }
   },
   "outputs": [],
   "source": [
    "team_BASE_DIR = f\"dbfs:/student-groups/Group_4_1\"\n"
   ]
  },
  {
   "cell_type": "code",
   "execution_count": 0,
   "metadata": {
    "application/vnd.databricks.v1+cell": {
     "cellMetadata": {
      "byteLimit": 2048000,
      "rowLimit": 10000
     },
     "inputWidgets": {},
     "nuid": "08fab44b-6e34-4ef5-a27a-b80e5fe7edf7",
     "showTitle": false,
     "tableResultSettingsMap": {},
     "title": ""
    }
   },
   "outputs": [],
   "source": [
    "spark.sparkContext.setCheckpointDir(f\"{team_BASE_DIR}/modeling_checkpoints\")\n",
    "df_full=spark.read.parquet(f\"{team_BASE_DIR}/interim/join_checkpoints/joined_1y_cleaned_engineered.parquet\")\n"
   ]
  },
  {
   "cell_type": "code",
   "execution_count": 0,
   "metadata": {
    "application/vnd.databricks.v1+cell": {
     "cellMetadata": {
      "byteLimit": 2048000,
      "rowLimit": 10000
     },
     "inputWidgets": {},
     "nuid": "23bb90fd-093b-46d9-9d5e-b3fe2d3a6e43",
     "showTitle": false,
     "tableResultSettingsMap": {},
     "title": ""
    }
   },
   "outputs": [],
   "source": [
    "# data time period\n",
    "period = \"1y\" # on of the following values (\"\", \"3m\", \"6m\", \"1y\")\n",
    "\n",
    "# number of cross-validation folds\n",
    "k = 5\n",
    "overlap = 0.2\n",
    "\n",
    "\n",
    "# compute seasonality?\n",
    "# (False if you've already saved out seasonality models for a given CV split setup) #using false since erica already computed\n",
    "compute_seasonality = False\n",
    "\n",
    "# define train/test split date\n",
    "min_test_dt = \"2019-10-01\"\n",
    "\n",
    "# define what departure time variable is called\n",
    "dep_utc_varname = \"sched_depart_utc\""
   ]
  },
  {
   "cell_type": "code",
   "execution_count": 0,
   "metadata": {
    "application/vnd.databricks.v1+cell": {
     "cellMetadata": {
      "byteLimit": 2048000,
      "rowLimit": 10000
     },
     "inputWidgets": {},
     "nuid": "f5372527-7aee-4295-9168-f38ae6d079cd",
     "showTitle": false,
     "tableResultSettingsMap": {},
     "title": ""
    }
   },
   "outputs": [],
   "source": [
    "df_full = df_full.withColumns(\n",
    "    {\n",
    "        \"dep_hour_utc\": \n",
    "            F.hour(col(dep_utc_varname)),\n",
    "        \"outcome\":  \n",
    "            (F.when((col(\"DEP_DELAY\") >= 15) | (col(\"CANCELLED\") == 1), 1).otherwise(0)).cast(\"double\")\n",
    "            }\n",
    ")"
   ]
  },
  {
   "cell_type": "code",
   "execution_count": 0,
   "metadata": {
    "application/vnd.databricks.v1+cell": {
     "cellMetadata": {
      "byteLimit": 2048000,
      "rowLimit": 10000
     },
     "inputWidgets": {},
     "nuid": "6f568068-9399-49c9-ae5a-40fc8e878a12",
     "showTitle": false,
     "tableResultSettingsMap": {},
     "title": ""
    }
   },
   "outputs": [],
   "source": [
    "# split into train and test\n",
    "\n",
    "df_train = df_full.filter(F.col(dep_utc_varname) < min_test_dt)\n",
    "df_train.cache()\n",
    "df_test = df_full.filter(F.col(dep_utc_varname) >= min_test_dt)\n",
    "df_test.cache()"
   ]
  },
  {
   "cell_type": "code",
   "execution_count": 0,
   "metadata": {
    "application/vnd.databricks.v1+cell": {
     "cellMetadata": {
      "byteLimit": 2048000,
      "rowLimit": 10000
     },
     "inputWidgets": {},
     "nuid": "ebc9a2b2-eeab-49dc-98a6-ca6e6bfe4be2",
     "showTitle": false,
     "tableResultSettingsMap": {},
     "title": ""
    }
   },
   "outputs": [],
   "source": [
    "def get_seasonality_data(df, fold, k):\n",
    "  \"\"\"\n",
    "  Look up seasonlaity features from saved seasonality model.\n",
    "  \"\"\"\n",
    "  if fold == 'full':\n",
    "      fn_model = f\"seasonality_model_{period}_train.parquet\"\n",
    "  else:\n",
    "      fn_model = f\"seasonality_model_{period}_cv{fold}of{k}_overlap{overlap}.parquet\"\n",
    "  model = spark.read.parquet(f\"{team_BASE_DIR}/interim/{fn_model}\")\n",
    "\n",
    "  joined_df = df.join(model, \n",
    "                    (df[\"ORIGIN\"] == model[\"ORIGIN\"]) & \n",
    "                    (df[\"DAY_OF_WEEK\"] == model[\"dow\"]) & \n",
    "                    (df[\"dep_hour_utc\"] == model[\"hour\"]),\n",
    "                    how=\"left\").drop(model[\"ORIGIN\"])\n",
    "  \n",
    "  return joined_df\n",
    "\n",
    "\n",
    "# CODE BELOW DERIVED FROM DEMO 11 NOTEBOOK\n",
    "import pyspark.sql.functions as f\n",
    "\n",
    "\n",
    "def upsample(train_df,verbose=False):\n",
    "  '''Upsamples train_df to balance classes'''\n",
    "  #balance classes in train\n",
    "  delay_count = train_df.filter(f.col(\"outcome\") == 1).count()\n",
    "  non_delay_count = train_df.filter(f.col(\"outcome\") == 0).count()\n",
    "\n",
    "  total = delay_count + non_delay_count\n",
    "  keep_percent = non_delay_count / delay_count\n",
    "\n",
    "  train_delay = train_df.filter(f.col('outcome') == 0)\n",
    "  train_non_delay = train_df.filter(f.col('outcome') == 1).sample(withReplacement=True, fraction=keep_percent,seed=42)\n",
    "  train_upsampled = train_delay.union(train_non_delay)\n",
    "  return train_upsampled\n",
    "\n",
    "\n",
    "def downsample(train_df,verbose=False):\n",
    "  '''Downsamples train_df to balance classes'''\n",
    "  #balance classes in train\n",
    "  delay_count = train_df.filter(f.col(\"outcome\") == 1).count()\n",
    "  non_delay_count = train_df.filter(f.col(\"outcome\") == 0).count()\n",
    "\n",
    "  total = delay_count + non_delay_count\n",
    "  keep_percent = delay_count / non_delay_count\n",
    "  \n",
    "  train_delay = train_df.filter(f.col('outcome') == 1)\n",
    "  train_non_delay = train_df.filter(f.col('outcome') == 0).sample(withReplacement=False,fraction=keep_percent,seed=42)\n",
    "  train_downsampled = train_delay.union(train_non_delay)\n",
    "  return train_downsampled\n",
    "\n",
    "def cv_eval(preds):\n",
    "  \"\"\"\n",
    "  Input: transformed df with prediction and label\n",
    "  Output: desired score \n",
    "  \"\"\"\n",
    "  rdd_preds_m = preds.select(['prediction', 'outcome']).rdd\n",
    "  rdd_preds_b = preds.select('outcome','probability').rdd.map(lambda row: (float(row['probability'][1]), float(row['outcome'])))\n",
    "  metrics_m = MulticlassMetrics(rdd_preds_m)\n",
    "  metrics_b = BinaryClassificationMetrics(rdd_preds_b)\n",
    "  F2 = np.round(metrics_m.fMeasure(label=1.0, beta=2.0), 4)\n",
    "  pr = metrics_b.areaUnderPR\n",
    "  return F2, pr\n",
    "\n",
    "def timeSeriesSplitCV(df, pipeline, cv_info, sampling=None, metric='f2', verbose=True, dep_utc_varname=dep_utc_varname):\n",
    "  '''\n",
    "  Perform time series split k-fold cross validation \n",
    "  '''\n",
    "\n",
    "  k = len(cv_info)\n",
    "  \n",
    "  # Track score\n",
    "  scores=[]\n",
    "  \n",
    "  # Start k-fold\n",
    "  for i in range(k):\n",
    "    \n",
    "    # Create train set\n",
    "    train_df = df.filter((df[dep_utc_varname] >= cv_info[\"train_min\"][i]) & \\\n",
    "      (df[dep_utc_varname] < cv_info[\"train_max\"][i])).cache()\n",
    "      \n",
    "    # Create dev set\n",
    "    dev_df = df.filter((df[dep_utc_varname] >= cv_info[\"test_min\"][i]) & \\\n",
    "      (df[dep_utc_varname] < cv_info[\"test_max\"][i])).cache() \n",
    "\n",
    "    # Apply sampling on train if selected\n",
    "    if sampling=='down':\n",
    "      train_df = downsample(train_df)\n",
    "      train_df = train_df.cache()\n",
    "    elif sampling=='up':\n",
    "      train_df = upsample(train_df)\n",
    "      train_df = train_df.cache()\n",
    "    # elif sampling=='weights':\n",
    "    #   train_df = add_class_weights(train_df).cache()\n",
    "      \n",
    "    #print info on train and dev set for this fold\n",
    "    if verbose:\n",
    "      print('    TRAIN set for fold {} goes from {} to {}, count is {:,} flights ({})'.format((i+1), \n",
    "                                                                                      train_df.agg({dep_utc_varname:'min'}).collect()[0][0],\n",
    "                                                                                      train_df.agg({dep_utc_varname:'max'}).collect()[0][0],\n",
    "                                                                                      train_df.count(),\n",
    "                                                                                      sampling + '-sampled' if sampling else 'no sampling'))\n",
    "      print('    DEV set for fold {} goes from {} to {}, count is {:,} flights'.format((i+1), \n",
    "                                                                                      dev_df.agg({dep_utc_varname:'min'}).collect()[0][0],\n",
    "                                                                                      dev_df.agg({dep_utc_varname:'max'}).collect()[0][0],\n",
    "                                                                                      dev_df.count()))\n",
    "      \n",
    "    # TODO: remove once feat engineering applied outside\n",
    "    train_df = get_seasonality_data(train_df, i, k)\n",
    "    train_df = train_df.fillna({col:0 for col in ['daily','weekly']})\n",
    "    dev_df = get_seasonality_data(dev_df, i, k)\n",
    "    dev_df = dev_df.fillna({col:0 for col in ['daily','weekly']})\n",
    "\n",
    "    # print(train_df.dtypes)\n",
    "    # print(dev_df.dtypes)\n",
    "        \n",
    "    # Fit params on the model\n",
    "    model = pipeline.fit(train_df)\n",
    "    dev_pred = model.transform(dev_df)\n",
    "    if metric=='f2':\n",
    "      score = cv_eval(dev_pred)[0]\n",
    "    elif metric=='pr':\n",
    "      score = cv_eval(dev_pred)[1]\n",
    "    scores.append(score)\n",
    "    print(f'    Number of training datapoints for fold number {i+1} is {train_df.count():,} with a {metric} score of {score:.2f}') \n",
    "    print('------------------------------------------------------------')\n",
    "  \n",
    "  # Take average of all scores\n",
    "  avg_score = np.average(scores)    \n",
    "  print(f'Average {metric} score across all folds is {avg_score:.2f}')\n",
    "  print(\"************************************************************\")\n",
    "\n",
    "  # # Train on full df\n",
    "  # print('Training on full train dataset, and validating on dev dataset with best parameters from CV:')\n",
    "  # print(best_parameters)\n",
    "    \n",
    "  # if verbose:\n",
    "  #   print('    TRAIN set for best parameter fitted model goes from {} to {}, count is {:,} flights ({})'.format(train_df.agg({dep_utc_varname:'min'}).collect()[0][0],\n",
    "  #                                                                                                    train_df.agg({dep_utc_varname:'max'}).collect()[0][0],\n",
    "  #                                                                                                    train_df.count(),\n",
    "  #                                                                                                    sampling + '-sampled' if sampling else 'no sampling'))\n",
    "  return avg_score"
   ]
  },
  {
   "cell_type": "code",
   "execution_count": 0,
   "metadata": {
    "application/vnd.databricks.v1+cell": {
     "cellMetadata": {
      "byteLimit": 2048000,
      "rowLimit": 10000
     },
     "inputWidgets": {},
     "nuid": "96163318-e317-474f-a44d-ab6f53f5bc55",
     "showTitle": false,
     "tableResultSettingsMap": {},
     "title": ""
    }
   },
   "outputs": [],
   "source": [
    "\n",
    "df_train_downsampled = downsample(df_train).cache()\n",
    "df_train_seasonal = get_seasonality_data(df_train_downsampled, 'full', k).cache()\n",
    "df_test_seasonal = get_seasonality_data(df_test, 'full', k).cache()\n"
   ]
  },
  {
   "cell_type": "code",
   "execution_count": 0,
   "metadata": {
    "application/vnd.databricks.v1+cell": {
     "cellMetadata": {
      "byteLimit": 2048000,
      "rowLimit": 10000
     },
     "inputWidgets": {},
     "nuid": "99ec79d0-5da9-4af6-84e4-ee9aec24a774",
     "showTitle": false,
     "tableResultSettingsMap": {},
     "title": ""
    }
   },
   "outputs": [],
   "source": [
    "import mlflow\n"
   ]
  },
  {
   "cell_type": "markdown",
   "metadata": {
    "application/vnd.databricks.v1+cell": {
     "cellMetadata": {
      "byteLimit": 2048000,
      "rowLimit": 10000
     },
     "inputWidgets": {},
     "nuid": "41786f3a-76d4-4abe-afcd-44fea3884bf4",
     "showTitle": false,
     "tableResultSettingsMap": {},
     "title": ""
    }
   },
   "source": [
    "# Baseline evaluation"
   ]
  },
  {
   "cell_type": "code",
   "execution_count": 0,
   "metadata": {
    "application/vnd.databricks.v1+cell": {
     "cellMetadata": {
      "byteLimit": 2048000,
      "rowLimit": 10000
     },
     "inputWidgets": {},
     "nuid": "a3743372-4bd9-4cd0-820a-8189de81903a",
     "showTitle": false,
     "tableResultSettingsMap": {},
     "title": ""
    }
   },
   "outputs": [],
   "source": [
    "\n",
    "base_run = 'runs:/5b1caaedee434f1fa84c4b0723099f5e/model'\n",
    "base_model = mlflow.spark.load_model(base_run)\n",
    "base_pred = base_model.transform(df_test_seasonal)\n",
    "# get f2 score\n",
    "base_score = cv_eval(base_pred)[0]\n",
    "print(base_score) #sanity check"
   ]
  },
  {
   "cell_type": "code",
   "execution_count": 0,
   "metadata": {
    "application/vnd.databricks.v1+cell": {
     "cellMetadata": {
      "byteLimit": 2048000,
      "rowLimit": 10000
     },
     "inputWidgets": {},
     "nuid": "a7253678-4d67-463e-b588-1a169268664c",
     "showTitle": false,
     "tableResultSettingsMap": {},
     "title": ""
    }
   },
   "outputs": [],
   "source": [
    "display(base_pred)"
   ]
  },
  {
   "cell_type": "markdown",
   "metadata": {
    "application/vnd.databricks.v1+cell": {
     "cellMetadata": {},
     "inputWidgets": {},
     "nuid": "243bdfb3-0db0-49ab-8247-bb53263b14b4",
     "showTitle": false,
     "tableResultSettingsMap": {},
     "title": ""
    }
   },
   "source": [
    "## False negs"
   ]
  },
  {
   "cell_type": "code",
   "execution_count": 0,
   "metadata": {
    "application/vnd.databricks.v1+cell": {
     "cellMetadata": {
      "byteLimit": 2048000,
      "rowLimit": 10000
     },
     "inputWidgets": {},
     "nuid": "c9317e07-3162-4bc4-8e26-28ac927663df",
     "showTitle": false,
     "tableResultSettingsMap": {},
     "title": ""
    }
   },
   "outputs": [],
   "source": [
    "#false negs\n",
    "base_pred.filter((F.col('outcome')==1) &(F.col('prediction')==0)).groupBy('CANCELLED').count().show()"
   ]
  },
  {
   "cell_type": "code",
   "execution_count": 0,
   "metadata": {
    "application/vnd.databricks.v1+cell": {
     "cellMetadata": {
      "byteLimit": 2048000,
      "rowLimit": 10000
     },
     "inputWidgets": {},
     "nuid": "1bccc0e1-85c8-4047-9bca-7d6d12d09c6b",
     "showTitle": false,
     "tableResultSettingsMap": {},
     "title": ""
    }
   },
   "outputs": [],
   "source": [
    "\n",
    "base_pred.filter((F.col('outcome')==1) &(F.col('prediction')==0)).groupBy('priorflight_cancelled_true').count().show()"
   ]
  },
  {
   "cell_type": "code",
   "execution_count": 0,
   "metadata": {
    "application/vnd.databricks.v1+cell": {
     "cellMetadata": {
      "byteLimit": 2048000,
      "rowLimit": 10000
     },
     "inputWidgets": {},
     "nuid": "85f6ccc9-f946-45a7-9ac2-b12cdc1ec7bb",
     "showTitle": false,
     "tableResultSettingsMap": {},
     "title": ""
    }
   },
   "outputs": [],
   "source": [
    "import geohash\n",
    "from geohash import bbox\n",
    "import geopandas as gpd"
   ]
  },
  {
   "cell_type": "code",
   "execution_count": 0,
   "metadata": {
    "application/vnd.databricks.v1+cell": {
     "cellMetadata": {
      "byteLimit": 2048000,
      "rowLimit": 10000
     },
     "inputWidgets": {},
     "nuid": "abbd84ad-3342-46e6-a9a8-473f0f3db1c1",
     "showTitle": false,
     "tableResultSettingsMap": {},
     "title": ""
    }
   },
   "outputs": [],
   "source": [
    "import seaborn as sns"
   ]
  },
  {
   "cell_type": "code",
   "execution_count": 0,
   "metadata": {
    "application/vnd.databricks.v1+cell": {
     "cellMetadata": {
      "byteLimit": 2048000,
      "rowLimit": 10000
     },
     "inputWidgets": {},
     "nuid": "963b791b-6de6-4222-8fa2-c90e372d0bfc",
     "showTitle": false,
     "tableResultSettingsMap": {},
     "title": ""
    }
   },
   "outputs": [],
   "source": [
    "\n",
    "\n",
    "confusion_df = base_pred.groupBy('outcome', 'prediction').count().orderBy('outcome', 'prediction')\n",
    "confusion_df = confusion_df.withColumn('label', \n",
    "                                       F.when((F.col('outcome') == 1) & (F.col('prediction') == 0), 'False Negative')\n",
    "                                        .when((F.col('outcome') == 0) & (F.col('prediction') == 1), 'False Positive')\n",
    "                                        .otherwise('Other'))\n",
    "confusion_pd = confusion_df.toPandas()\n",
    "\n",
    "confusion_matrix = confusion_pd.pivot(index='outcome', columns='prediction', values='count').fillna(0)\n",
    "sns.heatmap(confusion_matrix, annot=True, fmt='g')\n",
    "plt.xlabel('Prediction')\n",
    "plt.ylabel('Outcome')\n",
    "plt.title('Confusion Matrix')\n",
    "plt.show()"
   ]
  },
  {
   "cell_type": "code",
   "execution_count": 0,
   "metadata": {
    "application/vnd.databricks.v1+cell": {
     "cellMetadata": {
      "byteLimit": 2048000,
      "rowLimit": 10000
     },
     "inputWidgets": {},
     "nuid": "65e0e9f8-7ca4-4a1a-8cc4-8025ca08495e",
     "showTitle": false,
     "tableResultSettingsMap": {},
     "title": ""
    }
   },
   "outputs": [],
   "source": [
    "confusion_df = base_pred.groupBy('outcome', 'prediction').count().orderBy('outcome', 'prediction').toPandas()\n",
    "confusion_df\n"
   ]
  },
  {
   "cell_type": "markdown",
   "metadata": {
    "application/vnd.databricks.v1+cell": {
     "cellMetadata": {},
     "inputWidgets": {},
     "nuid": "960efd1f-7330-47dd-acd4-f305b37ae381",
     "showTitle": false,
     "tableResultSettingsMap": {},
     "title": ""
    }
   },
   "source": [
    "## By loc"
   ]
  },
  {
   "cell_type": "code",
   "execution_count": 0,
   "metadata": {
    "application/vnd.databricks.v1+cell": {
     "cellMetadata": {
      "byteLimit": 2048000,
      "rowLimit": 10000
     },
     "inputWidgets": {},
     "nuid": "8be3de41-b646-4023-a1d1-b9f74eb2d89f",
     "showTitle": false,
     "tableResultSettingsMap": {},
     "title": ""
    }
   },
   "outputs": [],
   "source": [
    "import plotly.express as px\n",
    "import plotly.graph_objects as go\n",
    "import geohash\n",
    "import geopandas as gpd\n",
    "from shapely.geometry import Polygon\n",
    "import json"
   ]
  },
  {
   "cell_type": "code",
   "execution_count": 0,
   "metadata": {
    "application/vnd.databricks.v1+cell": {
     "cellMetadata": {
      "byteLimit": 2048000,
      "rowLimit": 10000
     },
     "inputWidgets": {},
     "nuid": "22338008-0ecd-4559-b2ca-b67aa7337195",
     "showTitle": false,
     "tableResultSettingsMap": {},
     "title": ""
    }
   },
   "outputs": [],
   "source": [
    "\n",
    "base_pred = base_pred.withColumn(\n",
    "    \"classification\",\n",
    "    F.when((F.col(\"outcome\") == 1) & (F.col(\"prediction\") == 1), \"true_positive\")\n",
    "     .when((F.col(\"outcome\") == 0) & (F.col(\"prediction\") == 0), \"true_negative\")\n",
    "     .when((F.col(\"outcome\") == 0) & (F.col(\"prediction\") == 1), \"false_positive\")\n",
    "     .when((F.col(\"outcome\") == 1) & (F.col(\"prediction\") == 0), \"false_negative\")\n",
    ")"
   ]
  },
  {
   "cell_type": "code",
   "execution_count": 0,
   "metadata": {
    "application/vnd.databricks.v1+cell": {
     "cellMetadata": {
      "byteLimit": 2048000,
      "rowLimit": 10000
     },
     "inputWidgets": {},
     "nuid": "fb12ff8f-8141-4bb5-97fe-334a4b2dc161",
     "showTitle": false,
     "tableResultSettingsMap": {},
     "title": ""
    }
   },
   "outputs": [],
   "source": [
    "base_pred.groupBy('classification').count().show()"
   ]
  },
  {
   "cell_type": "code",
   "execution_count": 0,
   "metadata": {
    "application/vnd.databricks.v1+cell": {
     "cellMetadata": {
      "byteLimit": 2048000,
      "rowLimit": 10000
     },
     "inputWidgets": {},
     "nuid": "75a8c7a2-d87b-4ed8-a725-c0ef580ab525",
     "showTitle": false,
     "tableResultSettingsMap": {},
     "title": ""
    }
   },
   "outputs": [],
   "source": [
    "base_pred.groupBy('CANCELLED', 'classification').count().show()"
   ]
  },
  {
   "cell_type": "code",
   "execution_count": 0,
   "metadata": {
    "application/vnd.databricks.v1+cell": {
     "cellMetadata": {
      "byteLimit": 2048000,
      "rowLimit": 10000
     },
     "inputWidgets": {},
     "nuid": "f3d47ead-ea0b-4cab-bf59-46a0a78a769e",
     "showTitle": false,
     "tableResultSettingsMap": {},
     "title": ""
    }
   },
   "outputs": [],
   "source": [
    "confusion_metrics_by_cancellation = base_pred.groupBy('CANCELLED', 'classification').count()\n",
    "\n",
    "pivot_confusion_metrics = confusion_metrics_by_cancellation.groupBy('CANCELLED').pivot('classification').sum('count')\n",
    "\n",
    "highest_confusion_metrics_by_cancellaton = pivot_confusion_metrics.orderBy(\n",
    "    F.col('false_positive').desc(),\n",
    "    F.col('false_negative').desc(),\n",
    "    F.col('true_positive').desc(),\n",
    "    F.col('true_negative').desc()\n",
    ")\n",
    "\n",
    "display(highest_confusion_metrics_by_cancellaton)"
   ]
  },
  {
   "cell_type": "code",
   "execution_count": 0,
   "metadata": {
    "application/vnd.databricks.v1+cell": {
     "cellMetadata": {
      "byteLimit": 2048000,
      "rowLimit": 10000
     },
     "inputWidgets": {},
     "nuid": "17998999-eb9d-4023-be17-e7da4248e074",
     "showTitle": false,
     "tableResultSettingsMap": {},
     "title": ""
    }
   },
   "outputs": [],
   "source": [
    "confusion_metrics_by_origin = base_pred.groupBy('ORIGIN', 'classification').count()\n",
    "\n",
    "pivot_confusion_metrics = confusion_metrics_by_origin.groupBy('ORIGIN').pivot('classification').sum('count')\n",
    "\n",
    "highest_confusion_metrics_by_origin = pivot_confusion_metrics.orderBy(\n",
    "    F.col('false_positive').desc(),\n",
    "    F.col('false_negative').desc(),\n",
    "    F.col('true_positive').desc(),\n",
    "    F.col('true_negative').desc()\n",
    ")\n",
    "\n",
    "display(highest_confusion_metrics_by_origin)"
   ]
  },
  {
   "cell_type": "code",
   "execution_count": 0,
   "metadata": {
    "application/vnd.databricks.v1+cell": {
     "cellMetadata": {
      "byteLimit": 2048000,
      "rowLimit": 10000
     },
     "inputWidgets": {},
     "nuid": "f3c5d6e7-ebc9-4b91-b15b-77584070597e",
     "showTitle": false,
     "tableResultSettingsMap": {},
     "title": ""
    }
   },
   "outputs": [],
   "source": [
    "ghdf=base_pred.filter((F.col('outcome')==1) &(F.col('prediction')==0)).groupBy('geohash').count().orderBy(F.col('count').desc()).toPandas()\n",
    "ghdf.dropna(subset=['geohash'], inplace=True)"
   ]
  },
  {
   "cell_type": "code",
   "execution_count": 0,
   "metadata": {
    "application/vnd.databricks.v1+cell": {
     "cellMetadata": {
      "byteLimit": 2048000,
      "rowLimit": 10000
     },
     "collapsed": true,
     "inputWidgets": {},
     "nuid": "abd004e4-8fb9-4c6c-bcfc-15fe1ebc0e69",
     "showTitle": false,
     "tableResultSettingsMap": {},
     "title": ""
    }
   },
   "outputs": [],
   "source": [
    "def geohash_to_polygon(gh):\n",
    "    bbox = geohash.bbox(gh)  # Get bounding box for the geohash\n",
    "    return Polygon([\n",
    "        (bbox['w'], bbox['s']),  # Southwest corner\n",
    "        (bbox['e'], bbox['s']),  # Southeast corner\n",
    "        (bbox['e'], bbox['n']),  # Northeast corner\n",
    "        (bbox['w'], bbox['n']),  # Northwest corner\n",
    "        (bbox['w'], bbox['s'])   # Close the polygon\n",
    "    ])\n",
    "\n",
    "# Convert your DataFrame into a GeoDataFrame with polygons\n",
    "ghdf[\"geometry\"] = ghdf[\"geohash\"].apply(geohash_to_polygon)\n",
    "gdf = gpd.GeoDataFrame(ghdf, geometry=\"geometry\")\n",
    "gdf.set_crs(epsg=4326, inplace=True)"
   ]
  },
  {
   "cell_type": "code",
   "execution_count": 0,
   "metadata": {
    "application/vnd.databricks.v1+cell": {
     "cellMetadata": {
      "byteLimit": 2048000,
      "rowLimit": 10000
     },
     "inputWidgets": {},
     "nuid": "c714a09f-9587-49ca-bb9e-829824313958",
     "showTitle": false,
     "tableResultSettingsMap": {},
     "title": ""
    }
   },
   "outputs": [],
   "source": [
    "geojson = json.loads(gdf.set_index('geohash').to_json())  # Set geohash as index first"
   ]
  },
  {
   "cell_type": "code",
   "execution_count": 0,
   "metadata": {
    "application/vnd.databricks.v1+cell": {
     "cellMetadata": {
      "byteLimit": 2048000,
      "rowLimit": 10000
     },
     "inputWidgets": {},
     "nuid": "397df384-ea4c-442f-8467-5451c162978e",
     "showTitle": false,
     "tableResultSettingsMap": {},
     "title": ""
    }
   },
   "outputs": [],
   "source": [
    "fig = px.choropleth_mapbox(\n",
    "    ghdf,\n",
    "    geojson=geojson,\n",
    "    locations='geohash',  # Matches GeoJSON feature IDs\n",
    "    color='count',\n",
    "    color_continuous_scale=\"YlOrRd\",\n",
    "    range_color=(gdf['count'].min(), gdf['count'].max()),\n",
    "    mapbox_style=\"open-street-map\",\n",
    "    zoom=3,\n",
    "    center={\"lat\": 37.6, \"lon\": -95.6},  # Center on US\n",
    "    opacity=0.3,\n",
    "    labels={'count': '# False Negatives'}\n",
    ")\n",
    "\n",
    "fig.update_traces(marker_line_width=0)\n",
    "\n",
    "# Customize layout\n",
    "fig.update_layout(\n",
    "    margin={\"r\":20,\"t\":40,\"l\":20,\"b\":20},\n",
    "    coloraxis_colorbar={\n",
    "        'title': 'Count of FN',\n",
    "        'thickness': 20,\n",
    "        'len': 0.5\n",
    "    }\n",
    ")\n",
    "\n",
    "fig.show()"
   ]
  },
  {
   "cell_type": "code",
   "execution_count": 0,
   "metadata": {
    "application/vnd.databricks.v1+cell": {
     "cellMetadata": {},
     "inputWidgets": {},
     "nuid": "e7673f69-397e-4fec-8e42-add67e5ed32c",
     "showTitle": false,
     "tableResultSettingsMap": {},
     "title": ""
    }
   },
   "outputs": [],
   "source": []
  },
  {
   "cell_type": "code",
   "execution_count": 0,
   "metadata": {
    "application/vnd.databricks.v1+cell": {
     "cellMetadata": {
      "byteLimit": 2048000,
      "rowLimit": 10000
     },
     "inputWidgets": {},
     "nuid": "e3540806-c981-4b37-9e72-ee9282fbfdb4",
     "showTitle": false,
     "tableResultSettingsMap": {},
     "title": ""
    }
   },
   "outputs": [],
   "source": [
    "confusion_pd"
   ]
  },
  {
   "cell_type": "markdown",
   "metadata": {
    "application/vnd.databricks.v1+cell": {
     "cellMetadata": {
      "byteLimit": 2048000,
      "rowLimit": 10000
     },
     "inputWidgets": {},
     "nuid": "d6664839-8b42-408e-89c7-3b6311445b71",
     "showTitle": false,
     "tableResultSettingsMap": {},
     "title": ""
    }
   },
   "source": [
    "# Added features evaluation"
   ]
  },
  {
   "cell_type": "code",
   "execution_count": 0,
   "metadata": {
    "application/vnd.databricks.v1+cell": {
     "cellMetadata": {
      "byteLimit": 2048000,
      "rowLimit": 10000
     },
     "inputWidgets": {},
     "nuid": "4d8e708a-c0ae-4fe6-8519-c7076c7d7124",
     "showTitle": false,
     "tableResultSettingsMap": {},
     "title": ""
    }
   },
   "outputs": [],
   "source": [
    "feats_run = 'runs:/b734b75c14d44c05a96782540f3a4868/model'\n",
    "\n",
    "feats_model = mlflow.spark.load_model(feats_run)\n",
    "feats_pred = feats_model.transform(df_test_seasonal) #df for analysis\n",
    "# get f2 score\n",
    "feats_score = cv_eval(feats_pred)[0]\n",
    "print(feats_score) #sanity check"
   ]
  },
  {
   "cell_type": "code",
   "execution_count": 0,
   "metadata": {
    "application/vnd.databricks.v1+cell": {
     "cellMetadata": {
      "byteLimit": 2048000,
      "rowLimit": 10000
     },
     "inputWidgets": {},
     "nuid": "0f4466a9-7c51-4710-936d-3b61adb4db02",
     "showTitle": false,
     "tableResultSettingsMap": {},
     "title": ""
    }
   },
   "outputs": [],
   "source": [
    "\n",
    "feats_pred = feats_pred.withColumn(\n",
    "    \"classification\",\n",
    "    F.when((F.col(\"outcome\") == 1) & (F.col(\"prediction\") == 1), \"true_positive\")\n",
    "     .when((F.col(\"outcome\") == 0) & (F.col(\"prediction\") == 0), \"true_negative\")\n",
    "     .when((F.col(\"outcome\") == 0) & (F.col(\"prediction\") == 1), \"false_positive\")\n",
    "     .when((F.col(\"outcome\") == 1) & (F.col(\"prediction\") == 0), \"false_negative\")\n",
    ")"
   ]
  },
  {
   "cell_type": "code",
   "execution_count": 0,
   "metadata": {
    "application/vnd.databricks.v1+cell": {
     "cellMetadata": {
      "byteLimit": 2048000,
      "rowLimit": 10000
     },
     "inputWidgets": {},
     "nuid": "58810483-68a8-4617-92aa-2da1b80f8c87",
     "showTitle": false,
     "tableResultSettingsMap": {},
     "title": ""
    }
   },
   "outputs": [],
   "source": [
    "feats_pred_renamed = feats_pred.withColumnRenamed('prediction', 'AF_prediction') \\\n",
    "                               .withColumnRenamed('classification', 'AF_classification')\n",
    "\n",
    "base_pred_renamed = base_pred.withColumnRenamed('prediction', 'BL_prediction') \\\n",
    "                             .withColumnRenamed('classification', 'BL_classification')\n",
    "\n",
    "result = feats_pred_renamed.join(base_pred_renamed, ['TAIL_NUM', 'sched_depart_utc'])\n",
    "\n",
    "display(result)"
   ]
  },
  {
   "cell_type": "code",
   "execution_count": 0,
   "metadata": {
    "application/vnd.databricks.v1+cell": {
     "cellMetadata": {
      "byteLimit": 2048000,
      "rowLimit": 10000
     },
     "inputWidgets": {},
     "nuid": "d035063f-62ad-43a4-9635-85b81e388ccc",
     "showTitle": false,
     "tableResultSettingsMap": {},
     "title": ""
    }
   },
   "outputs": [],
   "source": [
    "comparison = result.groupBy(\"BL_classification\", \"AF_classification\").count()\n",
    "display(comparison)"
   ]
  },
  {
   "cell_type": "code",
   "execution_count": 0,
   "metadata": {
    "application/vnd.databricks.v1+cell": {
     "cellMetadata": {},
     "inputWidgets": {},
     "nuid": "203de7c1-16ce-4b75-a0f7-4e113a51fe03",
     "showTitle": false,
     "tableResultSettingsMap": {},
     "title": ""
    }
   },
   "outputs": [],
   "source": []
  },
  {
   "cell_type": "code",
   "execution_count": 0,
   "metadata": {
    "application/vnd.databricks.v1+cell": {
     "cellMetadata": {
      "byteLimit": 2048000,
      "rowLimit": 10000
     },
     "inputWidgets": {},
     "nuid": "73d1b7f7-4b9e-44da-9664-533621f2fc88",
     "showTitle": false,
     "tableResultSettingsMap": {},
     "title": ""
    }
   },
   "outputs": [],
   "source": [
    "feats_pred.groupBy('classification').count().show()"
   ]
  },
  {
   "cell_type": "code",
   "execution_count": 0,
   "metadata": {
    "application/vnd.databricks.v1+cell": {
     "cellMetadata": {
      "byteLimit": 2048000,
      "rowLimit": 10000
     },
     "inputWidgets": {},
     "nuid": "c40d18ba-b4c6-42db-95d6-ca9e1d8d4d9a",
     "showTitle": false,
     "tableResultSettingsMap": {},
     "title": ""
    }
   },
   "outputs": [],
   "source": [
    "confusion_metrics_by_origin = feats_pred.groupBy('ORIGIN', 'classification').count()\n",
    "\n",
    "pivot_confusion_metrics = confusion_metrics_by_origin.groupBy('ORIGIN').pivot('classification').sum('count')\n",
    "\n",
    "highest_confusion_metrics_by_origin = pivot_confusion_metrics.orderBy(\n",
    "    F.col('false_positive').desc(),\n",
    "    F.col('false_negative').desc(),\n",
    "    F.col('true_positive').desc(),\n",
    "    F.col('true_negative').desc()\n",
    ")\n",
    "\n",
    "display(highest_confusion_metrics_by_origin)"
   ]
  },
  {
   "cell_type": "markdown",
   "metadata": {
    "application/vnd.databricks.v1+cell": {
     "cellMetadata": {},
     "inputWidgets": {},
     "nuid": "3ebf2cfd-d5ea-4529-891e-c7ef5ee04118",
     "showTitle": false,
     "tableResultSettingsMap": {},
     "title": ""
    }
   },
   "source": []
  },
  {
   "cell_type": "markdown",
   "metadata": {
    "application/vnd.databricks.v1+cell": {
     "cellMetadata": {
      "byteLimit": 2048000,
      "rowLimit": 10000
     },
     "inputWidgets": {},
     "nuid": "b8038a3c-d1d5-4906-b02f-40e233306468",
     "showTitle": false,
     "tableResultSettingsMap": {},
     "title": ""
    }
   },
   "source": [
    "# Added interactions evaluation"
   ]
  },
  {
   "cell_type": "code",
   "execution_count": 0,
   "metadata": {
    "application/vnd.databricks.v1+cell": {
     "cellMetadata": {
      "byteLimit": 2048000,
      "rowLimit": 10000
     },
     "inputWidgets": {},
     "nuid": "6b7a8789-5967-43b4-92fe-27856d04732e",
     "showTitle": false,
     "tableResultSettingsMap": {},
     "title": ""
    }
   },
   "outputs": [],
   "source": [
    "interacts_run = 'runs:/7da4c9d4d4cd4c418c56268729962bda/model'\n",
    "\n",
    "# Load model\n",
    "interacts_model = mlflow.spark.load_model(interacts_run)\n",
    "\n",
    "# Perform inference via model.transform()\n",
    "interacts_pred = interacts_model.transform(df_test_seasonal)\n",
    "\n",
    "interacts_score = cv_eval(interacts_pred)[0]\n",
    "print(interacts_score) #sanity check"
   ]
  },
  {
   "cell_type": "code",
   "execution_count": 0,
   "metadata": {
    "application/vnd.databricks.v1+cell": {
     "cellMetadata": {
      "byteLimit": 2048000,
      "rowLimit": 10000
     },
     "inputWidgets": {},
     "nuid": "c0450014-4925-4453-a069-b2aae0da432a",
     "showTitle": false,
     "tableResultSettingsMap": {},
     "title": ""
    }
   },
   "outputs": [],
   "source": [
    "\n",
    "interacts_pred = interacts_pred.withColumn(\n",
    "    \"classification\",\n",
    "    F.when((F.col(\"outcome\") == 1) & (F.col(\"prediction\") == 1), \"true_positive\")\n",
    "     .when((F.col(\"outcome\") == 0) & (F.col(\"prediction\") == 0), \"true_negative\")\n",
    "     .when((F.col(\"outcome\") == 0) & (F.col(\"prediction\") == 1), \"false_positive\")\n",
    "     .when((F.col(\"outcome\") == 1) & (F.col(\"prediction\") == 0), \"false_negative\")\n",
    ")"
   ]
  },
  {
   "cell_type": "code",
   "execution_count": 0,
   "metadata": {
    "application/vnd.databricks.v1+cell": {
     "cellMetadata": {
      "byteLimit": 2048000,
      "rowLimit": 10000
     },
     "inputWidgets": {},
     "nuid": "d3234f5c-49fe-4a24-b61b-23d91475be4a",
     "showTitle": false,
     "tableResultSettingsMap": {},
     "title": ""
    }
   },
   "outputs": [],
   "source": [
    "interacts_pred.groupBy('classification').count().show()"
   ]
  },
  {
   "cell_type": "code",
   "execution_count": 0,
   "metadata": {
    "application/vnd.databricks.v1+cell": {
     "cellMetadata": {
      "byteLimit": 2048000,
      "rowLimit": 10000
     },
     "inputWidgets": {},
     "nuid": "e75f6084-9b01-4f50-bdd6-2a17529b0337",
     "showTitle": false,
     "tableResultSettingsMap": {},
     "title": ""
    }
   },
   "outputs": [],
   "source": [
    "interacts_pred_renamed = interacts_pred.withColumnRenamed('prediction', 'INT_prediction') \\\n",
    "                               .withColumnRenamed('classification', 'INT_classification')\n",
    "\n",
    "\n",
    "result = result.join(interacts_pred_renamed, ['TAIL_NUM', 'sched_depart_utc'])\n",
    "\n",
    "display(result)"
   ]
  },
  {
   "cell_type": "code",
   "execution_count": 0,
   "metadata": {
    "application/vnd.databricks.v1+cell": {
     "cellMetadata": {
      "byteLimit": 2048000,
      "rowLimit": 10000
     },
     "inputWidgets": {},
     "nuid": "a71b96b7-5231-46d7-9002-ee633ac2d93e",
     "showTitle": false,
     "tableResultSettingsMap": {},
     "title": ""
    }
   },
   "outputs": [],
   "source": [
    "comparison = result.groupBy(\"AF_classification\", \"INT_classification\").count()\n",
    "display(comparison)"
   ]
  },
  {
   "cell_type": "markdown",
   "metadata": {
    "application/vnd.databricks.v1+cell": {
     "cellMetadata": {},
     "inputWidgets": {},
     "nuid": "2b48371e-720a-48af-9bdb-16922618c655",
     "showTitle": false,
     "tableResultSettingsMap": {},
     "title": ""
    }
   },
   "source": []
  },
  {
   "cell_type": "markdown",
   "metadata": {
    "application/vnd.databricks.v1+cell": {
     "cellMetadata": {
      "byteLimit": 2048000,
      "rowLimit": 10000
     },
     "inputWidgets": {},
     "nuid": "351f1c5c-b316-4d3b-8ae7-6993372ac4c2",
     "showTitle": false,
     "tableResultSettingsMap": {},
     "title": ""
    }
   },
   "source": [
    "# Added regularization evaluation"
   ]
  },
  {
   "cell_type": "code",
   "execution_count": 0,
   "metadata": {
    "application/vnd.databricks.v1+cell": {
     "cellMetadata": {
      "byteLimit": 2048000,
      "rowLimit": 10000
     },
     "inputWidgets": {},
     "nuid": "e677602e-6a45-4ea1-9f6b-6c52bf0a9402",
     "showTitle": false,
     "tableResultSettingsMap": {},
     "title": ""
    }
   },
   "outputs": [],
   "source": [
    "\n",
    "reg_run= 'runs:/d6c4162bb8fd4818bbb714c2c711d628/model'\n",
    "\n",
    "# Load model\n",
    "reg_model = mlflow.spark.load_model(reg_run)\n",
    "\n",
    "# Perform inference via model.transform()\n",
    "reg_preds=reg_model.transform(df_test_seasonal)\n",
    "reg_score = cv_eval(reg_preds)[0]\n",
    "print(reg_score)"
   ]
  },
  {
   "cell_type": "code",
   "execution_count": 0,
   "metadata": {
    "application/vnd.databricks.v1+cell": {
     "cellMetadata": {
      "byteLimit": 2048000,
      "rowLimit": 10000
     },
     "inputWidgets": {},
     "nuid": "bb67833a-42df-4ae3-a789-bd57c1cb7308",
     "showTitle": false,
     "tableResultSettingsMap": {},
     "title": ""
    }
   },
   "outputs": [],
   "source": [
    "\n",
    "reg_preds = reg_preds.withColumn(\n",
    "    \"classification\",\n",
    "    F.when((F.col(\"outcome\") == 1) & (F.col(\"prediction\") == 1), \"true_positive\")\n",
    "     .when((F.col(\"outcome\") == 0) & (F.col(\"prediction\") == 0), \"true_negative\")\n",
    "     .when((F.col(\"outcome\") == 0) & (F.col(\"prediction\") == 1), \"false_positive\")\n",
    "     .when((F.col(\"outcome\") == 1) & (F.col(\"prediction\") == 0), \"false_negative\")\n",
    ")"
   ]
  },
  {
   "cell_type": "code",
   "execution_count": 0,
   "metadata": {
    "application/vnd.databricks.v1+cell": {
     "cellMetadata": {
      "byteLimit": 2048000,
      "rowLimit": 10000
     },
     "inputWidgets": {},
     "nuid": "315d536d-92f0-468c-939c-cbcd63d80450",
     "showTitle": false,
     "tableResultSettingsMap": {},
     "title": ""
    }
   },
   "outputs": [],
   "source": [
    "reg_preds.groupBy('classification').count().show()"
   ]
  },
  {
   "cell_type": "code",
   "execution_count": 0,
   "metadata": {
    "application/vnd.databricks.v1+cell": {
     "cellMetadata": {
      "byteLimit": 2048000,
      "rowLimit": 10000
     },
     "inputWidgets": {},
     "nuid": "dbe7786d-d164-4311-9a7a-a9d78ab3abd8",
     "showTitle": false,
     "tableResultSettingsMap": {},
     "title": ""
    }
   },
   "outputs": [],
   "source": [
    "reg_pred_renamed = reg_preds.withColumnRenamed('prediction', 'REG_prediction') \\\n",
    "                               .withColumnRenamed('classification', 'REG_classification')\n",
    "\n",
    "\n",
    "result = result.join(reg_pred_renamed, ['TAIL_NUM', 'sched_depart_utc'])\n",
    "\n",
    "display(result)"
   ]
  },
  {
   "cell_type": "code",
   "execution_count": 0,
   "metadata": {
    "application/vnd.databricks.v1+cell": {
     "cellMetadata": {
      "byteLimit": 2048000,
      "rowLimit": 10000
     },
     "inputWidgets": {},
     "nuid": "b0278a7b-7065-4ba1-93f4-f56e4912811b",
     "showTitle": false,
     "tableResultSettingsMap": {},
     "title": ""
    }
   },
   "outputs": [],
   "source": [
    "comparison = result.groupBy(\"INT_classification\", \"REG_classification\").count()\n",
    "display(comparison)"
   ]
  },
  {
   "cell_type": "code",
   "execution_count": 0,
   "metadata": {
    "application/vnd.databricks.v1+cell": {
     "cellMetadata": {
      "byteLimit": 2048000,
      "rowLimit": 10000
     },
     "inputWidgets": {},
     "nuid": "53dc28f5-635d-481e-8730-80f9e5dbc0dc",
     "showTitle": false,
     "tableResultSettingsMap": {},
     "title": ""
    }
   },
   "outputs": [],
   "source": []
  },
  {
   "cell_type": "code",
   "execution_count": 0,
   "metadata": {
    "application/vnd.databricks.v1+cell": {
     "cellMetadata": {
      "byteLimit": 2048000,
      "rowLimit": 10000
     },
     "inputWidgets": {},
     "nuid": "3d3b4271-18ec-41c6-9a5b-51566c7c0d9a",
     "showTitle": false,
     "tableResultSettingsMap": {},
     "title": ""
    }
   },
   "outputs": [],
   "source": [
    "result=result.join(df_test_seasonal, ['TAIL_NUM', 'sched_depart_utc'])"
   ]
  },
  {
   "cell_type": "code",
   "execution_count": 0,
   "metadata": {
    "application/vnd.databricks.v1+cell": {
     "cellMetadata": {
      "byteLimit": 2048000,
      "rowLimit": 10000
     },
     "inputWidgets": {},
     "nuid": "acf3aac8-1c55-4762-a2ff-92859f67186f",
     "showTitle": false,
     "tableResultSettingsMap": {},
     "title": ""
    }
   },
   "outputs": [],
   "source": [
    "\n",
    "\n",
    "output_path = \"dbfs:/student-groups/Group_4_1/interim/modeling_checkpoints/model_comparisons_1y.parquet\"\n",
    "(\n",
    "    result.write\n",
    "    .mode(\"overwrite\")\n",
    "    .parquet(output_path)\n",
    ")\n",
    "\n",
    "\n"
   ]
  },
  {
   "cell_type": "code",
   "execution_count": 0,
   "metadata": {
    "application/vnd.databricks.v1+cell": {
     "cellMetadata": {
      "byteLimit": 2048000,
      "rowLimit": 10000
     },
     "inputWidgets": {},
     "nuid": "252827b5-15e9-454d-a637-c33d83062d0b",
     "showTitle": false,
     "tableResultSettingsMap": {},
     "title": ""
    }
   },
   "outputs": [],
   "source": [
    "summary = result.filter(F.col('priorflight_dest') != F.col('ORIGIN')) \\\n",
    "    .groupBy('BL_classification', 'AF_classification', 'INT_classification', 'REG_classification') \\\n",
    "    .count()\n",
    "\n",
    "display(summary)"
   ]
  },
  {
   "cell_type": "code",
   "execution_count": 0,
   "metadata": {
    "application/vnd.databricks.v1+cell": {
     "cellMetadata": {
      "byteLimit": 2048000,
      "rowLimit": 10000
     },
     "inputWidgets": {},
     "nuid": "1e6c3990-c24a-432e-baad-2f5fc920952e",
     "showTitle": false,
     "tableResultSettingsMap": {},
     "title": ""
    }
   },
   "outputs": [],
   "source": [
    "missing_rte = df_train.filter(F.col('priorflight_dest') != F.col('ORIGIN'))\n",
    "missing_rte.count()"
   ]
  },
  {
   "cell_type": "code",
   "execution_count": 0,
   "metadata": {
    "application/vnd.databricks.v1+cell": {
     "cellMetadata": {
      "byteLimit": 2048000,
      "rowLimit": 10000
     },
     "inputWidgets": {},
     "nuid": "a21d8455-b94d-4b6c-881f-f05e978158d3",
     "showTitle": false,
     "tableResultSettingsMap": {},
     "title": ""
    }
   },
   "outputs": [],
   "source": [
    "df_train.count()"
   ]
  },
  {
   "cell_type": "code",
   "execution_count": 0,
   "metadata": {
    "application/vnd.databricks.v1+cell": {
     "cellMetadata": {},
     "inputWidgets": {},
     "nuid": "a9065e32-e00b-40e3-93ac-0505db3b0dcb",
     "showTitle": false,
     "tableResultSettingsMap": {},
     "title": ""
    }
   },
   "outputs": [],
   "source": []
  },
  {
   "cell_type": "code",
   "execution_count": 0,
   "metadata": {
    "application/vnd.databricks.v1+cell": {
     "cellMetadata": {
      "byteLimit": 2048000,
      "rowLimit": 10000
     },
     "inputWidgets": {},
     "nuid": "1aee0eff-f665-4853-915d-5ffb20c50a05",
     "showTitle": false,
     "tableResultSettingsMap": {},
     "title": ""
    }
   },
   "outputs": [],
   "source": [
    "display(missing_rte.groupBy('outcome').count())"
   ]
  },
  {
   "cell_type": "code",
   "execution_count": 0,
   "metadata": {
    "application/vnd.databricks.v1+cell": {
     "cellMetadata": {
      "byteLimit": 2048000,
      "rowLimit": 10000
     },
     "inputWidgets": {},
     "nuid": "42d9aca4-17b8-443e-ae57-8d495ddb0f32",
     "showTitle": false,
     "tableResultSettingsMap": {},
     "title": ""
    }
   },
   "outputs": [],
   "source": [
    "103889/(72752+103889)"
   ]
  },
  {
   "cell_type": "code",
   "execution_count": 0,
   "metadata": {
    "application/vnd.databricks.v1+cell": {
     "cellMetadata": {
      "byteLimit": 2048000,
      "rowLimit": 10000
     },
     "inputWidgets": {},
     "nuid": "a2a31a42-3394-4df3-a622-a068a7a77fbf",
     "showTitle": false,
     "tableResultSettingsMap": {},
     "title": ""
    }
   },
   "outputs": [],
   "source": [
    "display(df_train.groupBy('outcome').count())"
   ]
  },
  {
   "cell_type": "code",
   "execution_count": 0,
   "metadata": {
    "application/vnd.databricks.v1+cell": {
     "cellMetadata": {
      "byteLimit": 2048000,
      "rowLimit": 10000
     },
     "inputWidgets": {},
     "nuid": "a230b214-4baf-4fe9-9802-14a44891b7c6",
     "showTitle": false,
     "tableResultSettingsMap": {},
     "title": ""
    }
   },
   "outputs": [],
   "source": [
    "1165275/(4388943+1165275)"
   ]
  },
  {
   "cell_type": "code",
   "execution_count": 0,
   "metadata": {
    "application/vnd.databricks.v1+cell": {
     "cellMetadata": {
      "byteLimit": 2048000,
      "rowLimit": 10000
     },
     "inputWidgets": {},
     "nuid": "952c5bf2-8dba-4084-a2b0-ed504cd0dd79",
     "showTitle": false,
     "tableResultSettingsMap": {},
     "title": ""
    }
   },
   "outputs": [],
   "source": [
    "result.checkpoint()"
   ]
  },
  {
   "cell_type": "code",
   "execution_count": 0,
   "metadata": {
    "application/vnd.databricks.v1+cell": {
     "cellMetadata": {
      "byteLimit": 2048000,
      "rowLimit": 10000
     },
     "inputWidgets": {},
     "nuid": "3e41a1c1-3066-4aac-a787-b5c30e78ea4a",
     "showTitle": false,
     "tableResultSettingsMap": {},
     "title": ""
    }
   },
   "outputs": [],
   "source": [
    "summary = result.filter(F.col('CANCELLED') == 1) \\\n",
    "    .groupBy('BL_classification', 'AF_classification', 'INT_classification', 'REG_classification') \\\n",
    "    .count()\n"
   ]
  },
  {
   "cell_type": "code",
   "execution_count": 0,
   "metadata": {
    "application/vnd.databricks.v1+cell": {
     "cellMetadata": {
      "byteLimit": 2048000,
      "rowLimit": 10000
     },
     "inputWidgets": {},
     "nuid": "1165591d-6d1e-4e33-8caa-38b9af955871",
     "showTitle": false,
     "tableResultSettingsMap": {},
     "title": ""
    }
   },
   "outputs": [],
   "source": [
    "display(summary)"
   ]
  },
  {
   "cell_type": "code",
   "execution_count": 0,
   "metadata": {
    "application/vnd.databricks.v1+cell": {
     "cellMetadata": {
      "byteLimit": 2048000,
      "rowLimit": 10000
     },
     "inputWidgets": {},
     "nuid": "f65fc3cc-92a9-4bfe-b671-f6e5b57074ed",
     "showTitle": false,
     "tableResultSettingsMap": {},
     "title": ""
    }
   },
   "outputs": [],
   "source": [
    "output_path = \"dbfs:/student-groups/Group_4_1/interim/modeling_checkpoints/model_comparisons_1y.parquet\"\n",
    "\n",
    "df=spark.read.parquet(output_path)"
   ]
  },
  {
   "cell_type": "code",
   "execution_count": 0,
   "metadata": {
    "application/vnd.databricks.v1+cell": {
     "cellMetadata": {
      "byteLimit": 2048000,
      "rowLimit": 10000
     },
     "inputWidgets": {},
     "nuid": "6ece4047-9e10-4d96-8255-74b36b0a998e",
     "showTitle": false,
     "tableResultSettingsMap": {},
     "title": ""
    }
   },
   "outputs": [],
   "source": [
    "display(df)"
   ]
  },
  {
   "cell_type": "code",
   "execution_count": 0,
   "metadata": {
    "application/vnd.databricks.v1+cell": {
     "cellMetadata": {
      "byteLimit": 2048000,
      "rowLimit": 10000
     },
     "inputWidgets": {},
     "nuid": "67a506ed-17a9-42b4-b213-cc8243f36c2c",
     "showTitle": false,
     "tableResultSettingsMap": {},
     "title": ""
    }
   },
   "outputs": [],
   "source": [
    "import mlflow\n",
    "\n"
   ]
  },
  {
   "cell_type": "code",
   "execution_count": 0,
   "metadata": {
    "application/vnd.databricks.v1+cell": {
     "cellMetadata": {
      "byteLimit": 2048000,
      "rowLimit": 10000
     },
     "inputWidgets": {},
     "nuid": "196a589b-2861-4b6a-bcc8-64416325f5ce",
     "showTitle": false,
     "tableResultSettingsMap": {},
     "title": ""
    }
   },
   "outputs": [],
   "source": [
    "reg_run= 'runs:/d6c4162bb8fd4818bbb714c2c711d628/model'\n",
    "reg_model = mlflow.spark.load_model(reg_run)\n",
    "reg_pred_train = reg_model.transform(df_train_seasonal)\n",
    "# get f2 score\n",
    "reg_train_score = cv_eval(reg_pred_train)[0]\n",
    "print(reg_train_score) #sanity check"
   ]
  },
  {
   "cell_type": "code",
   "execution_count": 0,
   "metadata": {
    "application/vnd.databricks.v1+cell": {
     "cellMetadata": {
      "byteLimit": 2048000,
      "rowLimit": 10000
     },
     "inputWidgets": {},
     "nuid": "99aed56d-1325-438e-9a9e-4103e1a00ed7",
     "showTitle": false,
     "tableResultSettingsMap": {},
     "title": ""
    }
   },
   "outputs": [],
   "source": [
    "reg_pred_train"
   ]
  },
  {
   "cell_type": "code",
   "execution_count": 0,
   "metadata": {
    "application/vnd.databricks.v1+cell": {
     "cellMetadata": {
      "byteLimit": 2048000,
      "rowLimit": 10000
     },
     "inputWidgets": {},
     "nuid": "ad6d2b2e-ed6b-4701-9ca7-434960b15d03",
     "showTitle": false,
     "tableResultSettingsMap": {},
     "title": ""
    }
   },
   "outputs": [],
   "source": [
    "reg_pred_test = reg_model.transform(df_test_seasonal)\n",
    "# get f2 score\n",
    "reg_test_score = cv_eval(reg_pred_test)[0]\n",
    "print(reg_test_score) #sanity check"
   ]
  },
  {
   "cell_type": "code",
   "execution_count": 0,
   "metadata": {
    "application/vnd.databricks.v1+cell": {
     "cellMetadata": {
      "byteLimit": 2048000,
      "rowLimit": 10000
     },
     "inputWidgets": {},
     "nuid": "3f3d9ff8-fd98-4a17-80c3-c5b5243b4987",
     "showTitle": false,
     "tableResultSettingsMap": {},
     "title": ""
    }
   },
   "outputs": [],
   "source": [
    "from pyspark.sql.functions import udf\n",
    "from pyspark.sql.types import DoubleType\n",
    "\n",
    "# Define a UDF to extract the second value (probability of class 1)\n",
    "def extract_positive_class_probability(vector):\n",
    "    return vector[1]  # The second element corresponds to class '1'\n",
    "\n",
    "# Register the UDF\n",
    "extract_prob_udf = udf(extract_positive_class_probability, DoubleType())\n",
    "\n",
    "# Apply the UDF to extract probabilities and create a new column\n",
    "reg_pred_train = reg_pred_train.withColumn(\"positive_class_prob\", extract_prob_udf(reg_pred_train[\"probability\"]))\n",
    "reg_pred_test = reg_pred_test.withColumn(\"positive_class_prob\", extract_prob_udf(reg_pred_test[\"probability\"]))\n",
    "\n",
    "\n"
   ]
  },
  {
   "cell_type": "code",
   "execution_count": 0,
   "metadata": {
    "application/vnd.databricks.v1+cell": {
     "cellMetadata": {
      "byteLimit": 2048000,
      "rowLimit": 10000
     },
     "inputWidgets": {},
     "nuid": "1a2711e4-1af9-4c15-9d5f-8363b78ba0ee",
     "showTitle": false,
     "tableResultSettingsMap": {},
     "title": ""
    }
   },
   "outputs": [],
   "source": [
    "from pyspark.sql.functions import udf\n",
    "from pyspark.sql.types import DoubleType\n",
    "\n",
    "# Define a UDF to extract the second value (probability of class 1)\n",
    "def extract_positive_class_probability(vector):\n",
    "    # Assuming 'vector' is a DenseVector or SparseVector, the index 1 corresponds to class 1's probability\n",
    "    return float(vector[1])  # Ensure the value is returned as a float\n",
    "\n",
    "# Register the UDF\n",
    "extract_prob_udf = udf(extract_positive_class_probability, DoubleType())\n",
    "\n",
    "# Apply the UDF to extract probabilities and create a new column\n",
    "reg_pred_train = reg_pred_train.withColumn(\"positive_class_prob\", extract_prob_udf(reg_pred_train[\"probability\"]))\n",
    "reg_pred_test = reg_pred_test.withColumn(\"positive_class_prob\", extract_prob_udf(reg_pred_test[\"probability\"]))\n",
    "\n",
    "display(reg_pred_test.select('positive_class_prob'))"
   ]
  },
  {
   "cell_type": "code",
   "execution_count": 0,
   "metadata": {
    "application/vnd.databricks.v1+cell": {
     "cellMetadata": {
      "byteLimit": 2048000,
      "rowLimit": 10000
     },
     "inputWidgets": {},
     "nuid": "f2ed6d2a-04a9-4e3d-af06-d18bbc9597de",
     "showTitle": false,
     "tableResultSettingsMap": {},
     "title": ""
    }
   },
   "outputs": [],
   "source": [
    "display(reg_pred_test.select('prediction','probability','positive_class_prob'))"
   ]
  },
  {
   "cell_type": "code",
   "execution_count": 0,
   "metadata": {
    "application/vnd.databricks.v1+cell": {
     "cellMetadata": {
      "byteLimit": 2048000,
      "rowLimit": 10000
     },
     "inputWidgets": {},
     "nuid": "8a0102d0-91af-4a48-8a29-b1c2633acba9",
     "showTitle": false,
     "tableResultSettingsMap": {},
     "title": ""
    }
   },
   "outputs": [],
   "source": [
    "reg_pred_train_pandas = reg_pred_train.toPandas()\n",
    "display(reg_pred_train_pandas)"
   ]
  },
  {
   "cell_type": "code",
   "execution_count": 0,
   "metadata": {
    "application/vnd.databricks.v1+cell": {
     "cellMetadata": {
      "byteLimit": 2048000,
      "rowLimit": 10000
     },
     "inputWidgets": {},
     "nuid": "b6c1b84c-e03e-41d1-b572-5929184716a7",
     "showTitle": false,
     "tableResultSettingsMap": {},
     "title": ""
    }
   },
   "outputs": [],
   "source": [
    "train_preds=reg_pred_train.select('prediction','outcome','positive_class_prob').toPandas()\n",
    "test_preds=reg_pred_test.select('prediction','outcome','positive_class_prob').toPandas()\n"
   ]
  },
  {
   "cell_type": "code",
   "execution_count": 0,
   "metadata": {
    "application/vnd.databricks.v1+cell": {
     "cellMetadata": {
      "byteLimit": 2048000,
      "rowLimit": 10000
     },
     "inputWidgets": {},
     "nuid": "5185109c-2029-416c-9d66-ad69c4161485",
     "showTitle": false,
     "tableResultSettingsMap": {},
     "title": ""
    }
   },
   "outputs": [],
   "source": [
    "def plot_residuals_binary(y_true, y_pred_prob, title=\"Residuals\"):\n",
    "    residuals = y_true - y_pred_prob  # True - predicted probability\n",
    "    plt.figure(figsize=(6, 4))\n",
    "    sns.histplot(residuals, kde=True, bins=30, color=\"blue\")\n",
    "    plt.axvline(0, color='red', linestyle='--')\n",
    "    plt.title(title)\n",
    "    plt.xlabel(\"Residuals (True - Predicted Probability)\")\n",
    "    plt.ylabel(\"Frequency\")\n",
    "    plt.show()\n",
    "\n",
    "# Plot residuals using the predicted probabilities (after extracting them)\n",
    "plot_residuals_binary(train_preds['outcome'], train_preds['positive_class_prob'], title=\"Train Set Residuals\")\n",
    "plot_residuals_binary(test_preds['outcome'], test_preds['positive_class_prob'], title=\"Test Set Residuals\")\n"
   ]
  },
  {
   "cell_type": "code",
   "execution_count": 0,
   "metadata": {
    "application/vnd.databricks.v1+cell": {
     "cellMetadata": {
      "byteLimit": 2048000,
      "rowLimit": 10000
     },
     "inputWidgets": {},
     "nuid": "46f3050a-a833-49b5-8d27-3ae6302f54a4",
     "showTitle": false,
     "tableResultSettingsMap": {},
     "title": ""
    }
   },
   "outputs": [],
   "source": [
    "def plot_residuals(y_true, y_pred, title=\"Residuals\"):\n",
    "    residuals = y_true - y_pred\n",
    "    plt.figure(figsize=(6, 4))\n",
    "    sns.histplot(residuals, kde=True, bins=30, color=\"blue\")\n",
    "    plt.axvline(0, color='red', linestyle='--')\n",
    "    plt.title(title)\n",
    "    plt.xlabel(\"Residuals (True - Predicted)\")\n",
    "    plt.ylabel(\"Frequency\")\n",
    "    plt.show()\n",
    "\n",
    "plot_residuals(train_preds['outcome'], train_preds['prediction'], title=\"Train Set Residuals\")\n",
    "plot_residuals(test_preds['outcome'], test_preds['prediction'], title=\"Test Set Residuals\")\n",
    "\n",
    "# Distribution of features on train vs. test sets\n",
    "def plot_feature_distribution(train_data, test_data, feature_name):\n",
    "    plt.figure(figsize=(6, 4))\n",
    "    sns.histplot(train_data[feature_name], kde=True, color='blue', label='Train', stat=\"density\")\n",
    "    sns.histplot(test_data[feature_name], kde=True, color='red', label='Test', stat=\"density\")\n",
    "    plt.title(f\"Feature Distribution: {feature_name}\")\n",
    "    plt.xlabel(f\"{feature_name}\")\n",
    "    plt.ylabel(\"Density\")\n",
    "    plt.legend()\n",
    "    plt.show()"
   ]
  },
  {
   "cell_type": "code",
   "execution_count": 0,
   "metadata": {
    "application/vnd.databricks.v1+cell": {
     "cellMetadata": {},
     "inputWidgets": {},
     "nuid": "a496ae17-3b39-485a-a817-b97af9d2b80f",
     "showTitle": false,
     "tableResultSettingsMap": {},
     "title": ""
    }
   },
   "outputs": [],
   "source": []
  }
 ],
 "metadata": {
  "application/vnd.databricks.v1+notebook": {
   "computePreferences": null,
   "dashboards": [],
   "environmentMetadata": {
    "base_environment": "",
    "environment_version": "2"
   },
   "inputWidgetPreferences": null,
   "language": "python",
   "notebookMetadata": {
    "pythonIndentUnit": 4
   },
   "notebookName": "3.13-5y-modeling-analysis",
   "widgets": {}
  },
  "language_info": {
   "name": "python"
  }
 },
 "nbformat": 4,
 "nbformat_minor": 0
}
