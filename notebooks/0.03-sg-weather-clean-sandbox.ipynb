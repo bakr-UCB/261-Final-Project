{
 "cells": [
  {
   "cell_type": "markdown",
   "metadata": {
    "application/vnd.databricks.v1+cell": {
     "cellMetadata": {},
     "inputWidgets": {},
     "nuid": "bff538f8-72cd-496d-8534-2990753f2a29",
     "showTitle": false,
     "tableResultSettingsMap": {},
     "title": ""
    }
   },
   "source": [
    "# Setup"
   ]
  },
  {
   "cell_type": "code",
   "execution_count": 0,
   "metadata": {
    "application/vnd.databricks.v1+cell": {
     "cellMetadata": {
      "byteLimit": 2048000,
      "rowLimit": 10000
     },
     "inputWidgets": {},
     "nuid": "730e2a57-b785-4c02-b9dd-9a99a4a0d4a8",
     "showTitle": false,
     "tableResultSettingsMap": {},
     "title": ""
    }
   },
   "outputs": [],
   "source": [
    "!pip install timezonefinder"
   ]
  },
  {
   "cell_type": "code",
   "execution_count": 0,
   "metadata": {
    "application/vnd.databricks.v1+cell": {
     "cellMetadata": {
      "byteLimit": 2048000,
      "rowLimit": 10000
     },
     "inputWidgets": {},
     "nuid": "fd29848b-e154-4005-a066-2d39f9548097",
     "showTitle": false,
     "tableResultSettingsMap": {},
     "title": ""
    }
   },
   "outputs": [],
   "source": [
    "import pyspark.sql.functions as F\n",
    "from pyspark.sql.functions import col,isnan, when, count, concat_ws, countDistinct, collect_set, rank, window, avg, hour, udf\n",
    "import matplotlib.pyplot as plt\n",
    "import pandas as pd\n",
    "import re\n",
    "import numpy as np\n",
    "from pyspark.sql import types\n",
    "from pyspark.sql.types import *\n",
    "from pyspark.sql import Window\n",
    "from itertools import combinations\n",
    "from timezonefinder import TimezoneFinder\n",
    "import pytz\n",
    "from datetime import datetime\n",
    "\n",
    "\n",
    "data_BASE_DIR = \"dbfs:/mnt/mids-w261/\"\n",
    "display(dbutils.fs.ls(f\"{data_BASE_DIR}\")) #note the other possible samples we can use like 1 day"
   ]
  },
  {
   "cell_type": "code",
   "execution_count": 0,
   "metadata": {
    "application/vnd.databricks.v1+cell": {
     "cellMetadata": {
      "byteLimit": 2048000,
      "rowLimit": 10000
     },
     "inputWidgets": {},
     "nuid": "063fb309-6809-4085-b3b0-4fcad2458e52",
     "showTitle": false,
     "tableResultSettingsMap": {},
     "title": ""
    }
   },
   "outputs": [],
   "source": [
    "display(dbutils.fs.ls(f\"{data_BASE_DIR}/datasets_final_project_2022/stations_data\"))"
   ]
  },
  {
   "cell_type": "code",
   "execution_count": 0,
   "metadata": {
    "application/vnd.databricks.v1+cell": {
     "cellMetadata": {
      "byteLimit": 2048000,
      "rowLimit": 10000
     },
     "inputWidgets": {},
     "nuid": "5a2f1f3c-8180-442b-8026-5cbbc38aedf0",
     "showTitle": false,
     "tableResultSettingsMap": {},
     "title": ""
    }
   },
   "outputs": [],
   "source": [
    "\n",
    "qdf = spark.read.parquet(f\"dbfs:/mnt/mids-w261/datasets_final_project_2022/parquet_weather_data_3m/\")\n",
    "ydf = spark.read.parquet(f\"dbfs:/mnt/mids-w261/datasets_final_project_2022/parquet_weather_data_1y/\")\n"
   ]
  },
  {
   "cell_type": "code",
   "execution_count": 0,
   "metadata": {
    "application/vnd.databricks.v1+cell": {
     "cellMetadata": {
      "byteLimit": 2048000,
      "rowLimit": 10000
     },
     "inputWidgets": {},
     "nuid": "1e1581b8-5b14-4c12-8142-3ebaebd1b9bd",
     "showTitle": false,
     "tableResultSettingsMap": {},
     "title": ""
    }
   },
   "outputs": [],
   "source": [
    "stations = spark.read.parquet(f\"dbfs:/mnt/mids-w261/datasets_final_project_2022/stations_data/*\")"
   ]
  },
  {
   "cell_type": "markdown",
   "metadata": {
    "application/vnd.databricks.v1+cell": {
     "cellMetadata": {},
     "inputWidgets": {},
     "nuid": "85a3f871-1053-4b7f-8f38-e99704adba53",
     "showTitle": false,
     "tableResultSettingsMap": {},
     "title": ""
    }
   },
   "source": [
    "# Initial exploration"
   ]
  },
  {
   "cell_type": "markdown",
   "metadata": {
    "application/vnd.databricks.v1+cell": {
     "cellMetadata": {
      "byteLimit": 2048000,
      "rowLimit": 10000
     },
     "inputWidgets": {},
     "nuid": "f27a5e39-4c22-47f1-9704-e8750608c0d1",
     "showTitle": false,
     "tableResultSettingsMap": {},
     "title": ""
    }
   },
   "source": [
    "## stations"
   ]
  },
  {
   "cell_type": "code",
   "execution_count": 0,
   "metadata": {
    "application/vnd.databricks.v1+cell": {
     "cellMetadata": {
      "byteLimit": 2048000,
      "rowLimit": 10000
     },
     "inputWidgets": {},
     "nuid": "13a127df-f6a3-48bc-84d1-fb228dc55e09",
     "showTitle": false,
     "tableResultSettingsMap": {},
     "title": ""
    }
   },
   "outputs": [],
   "source": [
    "stations.columns"
   ]
  },
  {
   "cell_type": "code",
   "execution_count": 0,
   "metadata": {
    "application/vnd.databricks.v1+cell": {
     "cellMetadata": {
      "byteLimit": 2048000,
      "rowLimit": 10000
     },
     "inputWidgets": {},
     "nuid": "dc7d89e6-c7e1-4df2-b1fa-f5ab235910d6",
     "showTitle": false,
     "tableResultSettingsMap": {},
     "title": ""
    }
   },
   "outputs": [],
   "source": [
    "display(stations)"
   ]
  },
  {
   "cell_type": "code",
   "execution_count": 0,
   "metadata": {
    "application/vnd.databricks.v1+cell": {
     "cellMetadata": {
      "byteLimit": 2048000,
      "rowLimit": 10000
     },
     "inputWidgets": {},
     "nuid": "1b568402-aa44-422b-831e-c652b6bbc2f5",
     "showTitle": false,
     "tableResultSettingsMap": {},
     "title": ""
    }
   },
   "outputs": [],
   "source": [
    "display(stations.select('station_id').distinct().count())\n",
    "ydf.select('STATION').distinct().count()"
   ]
  },
  {
   "cell_type": "code",
   "execution_count": 0,
   "metadata": {
    "application/vnd.databricks.v1+cell": {
     "cellMetadata": {
      "byteLimit": 2048000,
      "rowLimit": 10000
     },
     "inputWidgets": {},
     "nuid": "efaded15-2ad1-4da0-95c0-cf51cf237698",
     "showTitle": false,
     "tableResultSettingsMap": {},
     "title": ""
    }
   },
   "outputs": [],
   "source": [
    "display(stations.select('wban').distinct().count())\n"
   ]
  },
  {
   "cell_type": "markdown",
   "metadata": {
    "application/vnd.databricks.v1+cell": {
     "cellMetadata": {
      "byteLimit": 2048000,
      "rowLimit": 10000
     },
     "inputWidgets": {},
     "nuid": "d33dc9c6-ba23-4b4c-9b36-a310d525379b",
     "showTitle": false,
     "tableResultSettingsMap": {},
     "title": ""
    }
   },
   "source": [
    "## MSHR"
   ]
  },
  {
   "cell_type": "markdown",
   "metadata": {
    "application/vnd.databricks.v1+cell": {
     "cellMetadata": {
      "byteLimit": 2048000,
      "rowLimit": 10000
     },
     "inputWidgets": {},
     "nuid": "acfc0648-f77e-463b-a641-0f76df00d94a",
     "showTitle": false,
     "tableResultSettingsMap": {},
     "title": ""
    }
   },
   "source": [
    "Weirdly, stations doesn't seem to have complete data either, so use MSHR dataset?"
   ]
  },
  {
   "cell_type": "code",
   "execution_count": 0,
   "metadata": {
    "application/vnd.databricks.v1+cell": {
     "cellMetadata": {
      "byteLimit": 2048000,
      "rowLimit": 10000
     },
     "inputWidgets": {},
     "nuid": "5312764b-18f2-4b79-aff9-9a60ffef9802",
     "showTitle": false,
     "tableResultSettingsMap": {},
     "title": ""
    }
   },
   "outputs": [],
   "source": [
    "\n",
    "mshr = pd.read_csv('mshr_standard.txt',sep='\\t') #via https://www.ncei.noaa.gov/access/homr/reports"
   ]
  },
  {
   "cell_type": "code",
   "execution_count": 0,
   "metadata": {
    "application/vnd.databricks.v1+cell": {
     "cellMetadata": {
      "byteLimit": 2048000,
      "rowLimit": 10000
     },
     "inputWidgets": {},
     "nuid": "3f8a4eb3-3a9c-424d-8bac-27363d134b1d",
     "showTitle": false,
     "tableResultSettingsMap": {},
     "title": ""
    }
   },
   "outputs": [],
   "source": [
    "def parse_fixed_width(row):\n",
    "    return {\n",
    "        \"station_id\": row[:8].strip(),\n",
    "        \"record_type\": row[9:11].strip(),\n",
    "        \"coop_station_id\": row[12:18].strip(),\n",
    "        \"climate_division\": row[19:21].strip(),\n",
    "        \"WBAN_ID\": row[22:27].strip(),\n",
    "        \"WMO_ID\": row[28:33].strip(),\n",
    "        \"FAA_ID\": row[34:39].strip(),\n",
    "        \"NWS_ID\": row[40:44].strip(),\n",
    "        \"ICAO_ID\": row[45:49].strip(),\n",
    "        \"country\": row[50:70].strip(),\n",
    "        \"state_FIPS\": row[71:73].strip(),\n",
    "        \"county\": row[74:104].strip(),\n",
    "        \"time_zone\": row[105:110].strip(),\n",
    "        \"coop_station_name\": row[111:141].strip(),\n",
    "        \"principal_station_name\": row[142:172].strip(),\n",
    "        \"begin_date\": row[173:181].strip(),\n",
    "        \"end_date\": row[182:191].strip(),\n",
    "        \"lat_deg\": row[192:194].strip(),\n",
    "        \"lat_min\": row[195:197].strip(),\n",
    "        \"lat_sec\": row[198:200].strip(),\n",
    "        \"lon_deg\": row[201:205].strip(),\n",
    "        \"lon_min\": row[206:208].strip(),\n",
    "        \"lon_sec\": row[209:211].strip(),\n",
    "        \"latlon_precision\": row[212:219].strip(),\n",
    "        \"ground_elevation\": row[219:225].strip(),\n",
    "        \"elevation_other\": row[226:229].strip(),\n",
    "        \"elevation_other_type\": row[230:231].strip(),\n",
    "        \"station_relocation\": row[232:243].strip(),\n",
    "        \"station_types\": row[244:].strip(),\n",
    "    }\n",
    "\n",
    "\n",
    "parsed_rows = [parse_fixed_width(mshr.iloc[i, 0]) for i in range(len(mshr))]\n",
    "\n",
    "max_cols = max(len(row) for row in parsed_rows)\n",
    "\n",
    "mshr_parse = pd.DataFrame(parsed_rows)"
   ]
  },
  {
   "cell_type": "code",
   "execution_count": 0,
   "metadata": {
    "application/vnd.databricks.v1+cell": {
     "cellMetadata": {
      "byteLimit": 2048000,
      "rowLimit": 10000
     },
     "inputWidgets": {},
     "nuid": "d78b8dfc-5fdd-4a63-b022-475e33f362b0",
     "showTitle": false,
     "tableResultSettingsMap": {},
     "title": ""
    }
   },
   "outputs": [],
   "source": [
    "territory_FIPS = ['AS','GU','MP','PR','UM','VI']  #via https://www.census.gov/library/reference/code-lists/ansi.html#states\n",
    "\n",
    "mshr_parse['end_date'] = mshr_parse['end_date'].apply(\n",
    "    lambda x: pd.to_datetime('2025' + x[4:]) if x.startswith('9999') else pd.to_datetime(x)\n",
    ")\n",
    "\n",
    "mshr_parse['begin_date']=pd.to_datetime(mshr_parse['begin_date'], errors='coerce')\n",
    "\n",
    "mshr_parse['latlon_precision']=mshr_parse['latlon_precision'].apply(lambda x: x[:3].strip(' '))\n",
    "\n",
    "mshr_parse['lat_deg']=pd.to_numeric(mshr_parse['lat_deg'])\n",
    "mshr_parse['lat_min']=pd.to_numeric(mshr_parse['lat_min'],errors='raise')\n",
    "mshr_parse['lat_sec']=pd.to_numeric(mshr_parse['lat_sec'],errors='raise')\n",
    "\n",
    "mshr_parse['lon_deg']=pd.to_numeric(mshr_parse['lon_deg'],errors='raise')\n",
    "mshr_parse['lon_min']=pd.to_numeric(mshr_parse['lon_min'],errors='raise')\n",
    "mshr_parse['lon_sec']=pd.to_numeric(mshr_parse['lon_sec'],errors='raise')\n",
    "\n",
    "mshr_parse['lat_dd']= mshr_parse.apply(\n",
    "    lambda row: (row['lat_deg'] + row['lat_min']/60 + row['lat_sec']/3600), \n",
    "                axis=1)\n",
    "\n",
    "mshr_parse['lon_dd']= mshr_parse.apply(\n",
    "    lambda row: (row['lon_deg'] + row['lon_min']/60 + row['lon_sec']/3600), \n",
    "                axis=1)\n",
    "\n",
    "\n",
    "mshr_us= mshr_parse[(mshr_parse['state_FIPS'].isin(territory_FIPS)) | (mshr_parse['country'] == 'UNITED STATES')]\n",
    "\n",
    "mshr_us = mshr_us[mshr_us['end_date'] >= pd.to_datetime('20150101')] #only stations that were functioning at the time of flights dataset\n",
    "\n",
    "mshr_df = spark.createDataFrame(mshr_us)\n",
    "\n",
    "#rename MSHR columns to match YDF where relevant\n",
    "mshr_df=mshr_df.withColumnsRenamed({'lat_dd':'LATITUDE', 'lon_dd':'LONGITUDE', 'principal_station_name':'NAME'})\n",
    "\n",
    "\n",
    "\n"
   ]
  },
  {
   "cell_type": "code",
   "execution_count": 0,
   "metadata": {
    "application/vnd.databricks.v1+cell": {
     "cellMetadata": {
      "byteLimit": 2048000,
      "rowLimit": 10000
     },
     "inputWidgets": {},
     "nuid": "a3f897ef-c350-4ee0-9f79-e12a93157a94",
     "showTitle": false,
     "tableResultSettingsMap": {},
     "title": ""
    }
   },
   "outputs": [],
   "source": [
    "mshr_df.columns"
   ]
  },
  {
   "cell_type": "markdown",
   "metadata": {
    "application/vnd.databricks.v1+cell": {
     "cellMetadata": {
      "byteLimit": 2048000,
      "rowLimit": 10000
     },
     "inputWidgets": {},
     "nuid": "4b8d22cf-971a-40e7-8bbf-207e0e79d3ea",
     "showTitle": false,
     "tableResultSettingsMap": {},
     "title": ""
    }
   },
   "source": [
    "## weather"
   ]
  },
  {
   "cell_type": "markdown",
   "metadata": {
    "application/vnd.databricks.v1+cell": {
     "cellMetadata": {},
     "inputWidgets": {},
     "nuid": "e8a3aee5-0807-4e80-8ab3-8177878ce5a9",
     "showTitle": false,
     "tableResultSettingsMap": {},
     "title": ""
    }
   },
   "source": [
    "%md\n",
    "| Code  | Description                                                                 |\n",
    "|-------|-----------------------------------------------------------------------------|\n",
    "| CRB   | Climate Reference Book data from CDMP                                       |\n",
    "| CRN05 | Climate Reference Network report, with 5-minute reporting interval          |\n",
    "| CRN15 | Climate Reference Network report, with 15-minute reporting interval         |\n",
    "| FM-12 | SYNOP Report of surface observation from a fixed land station               |\n",
    "| FM-13 | SHIP Report of surface observation from a sea station                       |\n",
    "| FM-14 | SYNOP MOBIL Report of surface observation from a mobile land station        |\n",
    "| FM-15 | METAR Aviation routine weather report                                       |\n",
    "| FM-16 | SPECI Aviation selected special weather report                              |\n",
    "| FM-18 | BUOY Report of a buoy observation                                           |"
   ]
  },
  {
   "cell_type": "code",
   "execution_count": 0,
   "metadata": {
    "application/vnd.databricks.v1+cell": {
     "cellMetadata": {
      "byteLimit": 2048000,
      "rowLimit": 10000
     },
     "inputWidgets": {},
     "nuid": "02faaf5b-ebdf-422b-9c1d-deba6352f39b",
     "showTitle": false,
     "tableResultSettingsMap": {},
     "title": ""
    }
   },
   "outputs": [],
   "source": [
    "qdf.select('SOURCE').distinct().show()"
   ]
  },
  {
   "cell_type": "code",
   "execution_count": 0,
   "metadata": {
    "application/vnd.databricks.v1+cell": {
     "cellMetadata": {
      "byteLimit": 2048000,
      "rowLimit": 10000
     },
     "inputWidgets": {},
     "nuid": "65caf130-8a60-446b-9944-45dbd5cab152",
     "showTitle": false,
     "tableResultSettingsMap": {},
     "title": ""
    }
   },
   "outputs": [],
   "source": [
    "qdf.select('NAME').distinct().show()"
   ]
  },
  {
   "cell_type": "code",
   "execution_count": 0,
   "metadata": {
    "application/vnd.databricks.v1+cell": {
     "cellMetadata": {
      "byteLimit": 2048000,
      "rowLimit": 10000
     },
     "inputWidgets": {},
     "nuid": "01256a9e-5148-4ff4-aa82-ec61e3cc58a0",
     "showTitle": false,
     "tableResultSettingsMap": {},
     "title": ""
    }
   },
   "outputs": [],
   "source": [
    "qdf.select('STATION').distinct().show()"
   ]
  },
  {
   "cell_type": "markdown",
   "metadata": {
    "application/vnd.databricks.v1+cell": {
     "cellMetadata": {
      "byteLimit": 2048000,
      "rowLimit": 10000
     },
     "inputWidgets": {},
     "nuid": "1208f644-b6f4-4d65-89f9-c5fb0d6d5dba",
     "showTitle": false,
     "tableResultSettingsMap": {},
     "title": ""
    }
   },
   "source": [
    "# Nulls & Duplicates"
   ]
  },
  {
   "cell_type": "markdown",
   "metadata": {
    "application/vnd.databricks.v1+cell": {
     "cellMetadata": {
      "byteLimit": 2048000,
      "rowLimit": 10000
     },
     "inputWidgets": {},
     "nuid": "7db6afe7-0a47-45ad-9232-d12279520c29",
     "showTitle": false,
     "tableResultSettingsMap": {},
     "title": ""
    }
   },
   "source": [
    "## Weather df"
   ]
  },
  {
   "cell_type": "code",
   "execution_count": 0,
   "metadata": {
    "application/vnd.databricks.v1+cell": {
     "cellMetadata": {
      "byteLimit": 2048000,
      "rowLimit": 10000
     },
     "inputWidgets": {},
     "nuid": "c8355143-284e-422b-8bd0-91ee340750ea",
     "showTitle": false,
     "tableResultSettingsMap": {},
     "title": ""
    }
   },
   "outputs": [],
   "source": [
    "null_counts = qdf.select([count(when(isnan(c) | col(c).isNull(), c)).alias(c) for c in qdf.columns])\n",
    "display(null_counts)\n"
   ]
  },
  {
   "cell_type": "code",
   "execution_count": 0,
   "metadata": {
    "application/vnd.databricks.v1+cell": {
     "cellMetadata": {
      "byteLimit": 2048000,
      "rowLimit": 10000
     },
     "inputWidgets": {},
     "nuid": "bdb7ebe3-cd02-41c4-91be-bb6dc9e18f55",
     "showTitle": false,
     "tableResultSettingsMap": {},
     "title": ""
    }
   },
   "outputs": [],
   "source": [
    "ydf.groupBy('STATION').agg(\n",
    "        F.count(F.when(F.col('LATITUDE').isNull(), 1)).alias('Latitude_Null'),\n",
    "        F.count(F.when(F.col('LONGITUDE').isNotNull(), 1)).alias('Latitude_Non_Null'),\n",
    "        F.count(F.when(F.col('NAME').isNull(), 1)).alias('Name_Null'),\n",
    "        F.count(F.when(F.col('NAME').isNotNull(), 1)).alias('Name_Not_Null'),\n",
    "        F.count(F.when(F.col('REM').isNull(), 1)).alias('REM_Null'),\n",
    "        F.count(F.when(F.col('REM').isNotNull(), 1)).alias('REM_Not_Null')\n",
    "\n",
    "\n",
    "        ) \\\n",
    "        .orderBy('REM_Not_Null','Name_Not_Null').show()\n",
    "\n",
    "\n",
    "\n",
    "#for the first 5 stations don't have a way to extract location; no name and no REM\n"
   ]
  },
  {
   "cell_type": "markdown",
   "metadata": {
    "application/vnd.databricks.v1+cell": {
     "cellMetadata": {
      "byteLimit": 2048000,
      "rowLimit": 10000
     },
     "inputWidgets": {},
     "nuid": "1fa85e41-3514-4d36-8555-f08b4e2f0d6f",
     "showTitle": false,
     "tableResultSettingsMap": {},
     "title": ""
    }
   },
   "source": [
    "via https://www1.ncdc.noaa.gov/pub/data/ghcn/daily/readme.txt:  ID is the station identification code (WBAN station ID after cross ref).  Note that the first two\n",
    "           characters denote the FIPS  country code, the third character \n",
    "           is a network code that identifies the station numbering system \n",
    "           used, and the remaining eight characters contain the actual \n",
    "           station ID. \n",
    "\n",
    "\n",
    "but doesn't seem to match example format like \"US1AZMR0156\"\n",
    "\n",
    "\n",
    "https://www.ncei.noaa.gov/pub/data/noaa/isd-history.txt can match some\n",
    "\n",
    "https://www.ncei.noaa.gov/access/homr/reports mshr_standard.txt can match some (ie 94045 is Ft Peck Surfrad) via WBAN station Id \n"
   ]
  },
  {
   "cell_type": "code",
   "execution_count": 0,
   "metadata": {
    "application/vnd.databricks.v1+cell": {
     "cellMetadata": {
      "byteLimit": 2048000,
      "rowLimit": 10000
     },
     "inputWidgets": {},
     "nuid": "936a78d9-8db7-4575-839d-fb0bc90a628e",
     "showTitle": false,
     "tableResultSettingsMap": {},
     "title": ""
    }
   },
   "outputs": [],
   "source": [
    "display(ydf.filter(F.col('STATION')==99999953182).select([count(when(isnan(c) | col(c).isNull(), c)).alias(c) for c in qdf.columns]))"
   ]
  },
  {
   "cell_type": "code",
   "execution_count": 0,
   "metadata": {
    "application/vnd.databricks.v1+cell": {
     "cellMetadata": {
      "byteLimit": 2048000,
      "rowLimit": 10000
     },
     "inputWidgets": {},
     "nuid": "de5790fe-bbbf-4c74-931e-8c54d4097345",
     "showTitle": false,
     "tableResultSettingsMap": {},
     "title": ""
    }
   },
   "outputs": [],
   "source": [
    "display(ydf.filter((F.col('LATITUDE').isNotNull()) & F.col('STATION').startswith(str(999999))))"
   ]
  },
  {
   "cell_type": "code",
   "execution_count": 0,
   "metadata": {
    "application/vnd.databricks.v1+cell": {
     "cellMetadata": {
      "byteLimit": 2048000,
      "rowLimit": 10000
     },
     "inputWidgets": {},
     "nuid": "292d4224-fdf7-4b54-91b4-e3d142d6130e",
     "showTitle": false,
     "tableResultSettingsMap": {},
     "title": ""
    }
   },
   "outputs": [],
   "source": [
    "ydf.filter(F.col('STATION').startswith(str(999999))).count() "
   ]
  },
  {
   "cell_type": "code",
   "execution_count": 0,
   "metadata": {
    "application/vnd.databricks.v1+cell": {
     "cellMetadata": {
      "byteLimit": 2048000,
      "rowLimit": 10000
     },
     "inputWidgets": {},
     "nuid": "f4a00488-3cb0-4456-8a0c-3fd0a1370b13",
     "showTitle": false,
     "tableResultSettingsMap": {},
     "title": ""
    }
   },
   "outputs": [],
   "source": [
    "ydf.filter(~F.col('STATION').startswith('999999')).count()"
   ]
  },
  {
   "cell_type": "code",
   "execution_count": 0,
   "metadata": {
    "application/vnd.databricks.v1+cell": {
     "cellMetadata": {
      "byteLimit": 2048000,
      "rowLimit": 10000
     },
     "inputWidgets": {},
     "nuid": "b7f2c8e5-67e1-4101-8a95-66ae8beaeb52",
     "showTitle": false,
     "tableResultSettingsMap": {},
     "title": ""
    }
   },
   "outputs": [],
   "source": [
    "display(ydf.filter(F.col('LATITUDE').isNull() & (F.col('REM').isNull()) & (F.col('NAME').isNull())) \\\n",
    "            .groupBy('STATION','REPORT_TYPE') \\\n",
    "            .agg(F.count('*').alias('count')) \\\n",
    "            .orderBy(F.desc('count'))\n",
    "    )"
   ]
  },
  {
   "cell_type": "code",
   "execution_count": 0,
   "metadata": {
    "application/vnd.databricks.v1+cell": {
     "cellMetadata": {
      "byteLimit": 2048000,
      "rowLimit": 10000
     },
     "inputWidgets": {},
     "nuid": "2833515c-b1a1-4aa6-8578-0c22edf9822e",
     "showTitle": false,
     "tableResultSettingsMap": {},
     "title": ""
    }
   },
   "outputs": [],
   "source": []
  },
  {
   "cell_type": "code",
   "execution_count": 0,
   "metadata": {
    "application/vnd.databricks.v1+cell": {
     "cellMetadata": {
      "byteLimit": 2048000,
      "rowLimit": 10000
     },
     "inputWidgets": {},
     "nuid": "9e92a912-6bd7-494e-ad4f-8f564828a384",
     "showTitle": false,
     "tableResultSettingsMap": {},
     "title": ""
    }
   },
   "outputs": [],
   "source": [
    "\n",
    "\n",
    "display(\n",
    "    ydf.filter(F.col('STATION').contains('94044'))\n",
    "       .select(\"STATION\")\n",
    "       .distinct()\n",
    ")\n",
    "\n",
    "display(\n",
    "    ydf.filter(F.col('STATION').contains('94045'))\n",
    "       .select(\"STATION\")\n",
    "       .distinct()\n",
    ")\n",
    "\n",
    "display(\n",
    "    ydf.filter(F.col('STATION').contains('53182'))\n",
    "       .select(\"STATION\")\n",
    "       .distinct()\n",
    ")\n",
    "\n",
    "display(\n",
    "    ydf.filter(F.col('STATION').contains('54918'))\n",
    "       .select(\"STATION\")\n",
    "       .distinct()\n",
    ")\n",
    "\n",
    "display(\n",
    "    ydf.filter(F.col('STATION').contains('04835'))\n",
    "       .select(\"STATION\")\n",
    "       .distinct()\n",
    ")\n",
    "\n",
    "display(\n",
    "    ydf.filter(F.col('STATION').contains('53830'))\n",
    "       .select(\"STATION\")\n",
    "       .distinct()\n",
    ")\n",
    "\n",
    "#99404599999=appalachicola FL\n"
   ]
  },
  {
   "cell_type": "code",
   "execution_count": 0,
   "metadata": {
    "application/vnd.databricks.v1+cell": {
     "cellMetadata": {
      "byteLimit": 2048000,
      "rowLimit": 10000
     },
     "inputWidgets": {},
     "nuid": "14d361bb-c0b2-4604-b84d-2d8a1d6c19b4",
     "showTitle": false,
     "tableResultSettingsMap": {},
     "title": ""
    }
   },
   "outputs": [],
   "source": [
    "display(\n",
    "    ydf.filter(F.col('STATION').contains('94045'))\n",
    "       .select(\"STATION\")\n",
    "       .distinct()\n",
    ")"
   ]
  },
  {
   "cell_type": "code",
   "execution_count": 0,
   "metadata": {
    "application/vnd.databricks.v1+cell": {
     "cellMetadata": {
      "byteLimit": 2048000,
      "rowLimit": 10000
     },
     "inputWidgets": {},
     "nuid": "aac50fe4-41ef-4fd1-86c7-a33494715994",
     "showTitle": false,
     "tableResultSettingsMap": {},
     "title": ""
    }
   },
   "outputs": [],
   "source": [
    "display(ydf.filter(F.col('STATION') == '99999923583'))"
   ]
  },
  {
   "cell_type": "markdown",
   "metadata": {
    "application/vnd.databricks.v1+cell": {
     "cellMetadata": {
      "byteLimit": 2048000,
      "rowLimit": 10000
     },
     "inputWidgets": {},
     "nuid": "fedccf71-e0a6-4a8e-909f-83eb19dc3c34",
     "showTitle": false,
     "tableResultSettingsMap": {},
     "title": ""
    }
   },
   "source": [
    "## clean MSHR"
   ]
  },
  {
   "cell_type": "code",
   "execution_count": 0,
   "metadata": {
    "application/vnd.databricks.v1+cell": {
     "cellMetadata": {
      "byteLimit": 2048000,
      "rowLimit": 10000
     },
     "inputWidgets": {},
     "nuid": "7630aad0-6af4-400f-a91a-c28b81fb8a47",
     "showTitle": false,
     "tableResultSettingsMap": {},
     "title": ""
    }
   },
   "outputs": [],
   "source": [
    "qdf=qdf.withColumn(\"WBAN\",F.col('STATION').substr(-5, 5))"
   ]
  },
  {
   "cell_type": "code",
   "execution_count": 0,
   "metadata": {
    "application/vnd.databricks.v1+cell": {
     "cellMetadata": {
      "byteLimit": 2048000,
      "rowLimit": 10000
     },
     "inputWidgets": {},
     "nuid": "329f5181-c9e7-46d2-a4cc-b5b2135f968b",
     "showTitle": false,
     "tableResultSettingsMap": {},
     "title": ""
    }
   },
   "outputs": [],
   "source": [
    "ydf=ydf.withColumn(\"WBAN\",F.col('STATION').substr(-5, 5))"
   ]
  },
  {
   "cell_type": "code",
   "execution_count": 0,
   "metadata": {
    "application/vnd.databricks.v1+cell": {
     "cellMetadata": {
      "byteLimit": 2048000,
      "rowLimit": 10000
     },
     "inputWidgets": {},
     "nuid": "655540ce-93ef-45e4-8a82-707dcb54038b",
     "showTitle": false,
     "tableResultSettingsMap": {},
     "title": ""
    }
   },
   "outputs": [],
   "source": [
    "mshr_parse['begin_date']"
   ]
  },
  {
   "cell_type": "code",
   "execution_count": 0,
   "metadata": {
    "application/vnd.databricks.v1+cell": {
     "cellMetadata": {
      "byteLimit": 2048000,
      "rowLimit": 10000
     },
     "inputWidgets": {},
     "nuid": "79a22340-99e3-4ca4-a945-5b067a79e342",
     "showTitle": false,
     "tableResultSettingsMap": {},
     "title": ""
    }
   },
   "outputs": [],
   "source": []
  },
  {
   "cell_type": "code",
   "execution_count": 0,
   "metadata": {
    "application/vnd.databricks.v1+cell": {
     "cellMetadata": {
      "byteLimit": 2048000,
      "rowLimit": 10000
     },
     "inputWidgets": {},
     "nuid": "e7f2371e-5ef0-4bad-8b00-20d6578a5551",
     "showTitle": false,
     "tableResultSettingsMap": {},
     "title": ""
    }
   },
   "outputs": [],
   "source": [
    "display(ydf.filter(F.col('WBAN')=='63868'))"
   ]
  },
  {
   "cell_type": "code",
   "execution_count": 0,
   "metadata": {
    "application/vnd.databricks.v1+cell": {
     "cellMetadata": {
      "byteLimit": 2048000,
      "rowLimit": 10000
     },
     "inputWidgets": {},
     "nuid": "36d6ce73-13ad-43d9-9705-d0d933f7ede7",
     "showTitle": false,
     "tableResultSettingsMap": {},
     "title": ""
    }
   },
   "outputs": [],
   "source": [
    "mshr_parse[mshr_parse['WBAN_ID']=='63868']"
   ]
  },
  {
   "cell_type": "code",
   "execution_count": 0,
   "metadata": {
    "application/vnd.databricks.v1+cell": {
     "cellMetadata": {
      "byteLimit": 2048000,
      "rowLimit": 10000
     },
     "inputWidgets": {},
     "nuid": "598e4711-ffd4-4191-a754-ba2d6dec8f29",
     "showTitle": false,
     "tableResultSettingsMap": {},
     "title": ""
    }
   },
   "outputs": [],
   "source": []
  },
  {
   "cell_type": "code",
   "execution_count": 0,
   "metadata": {
    "application/vnd.databricks.v1+cell": {
     "cellMetadata": {
      "byteLimit": 2048000,
      "rowLimit": 10000
     },
     "inputWidgets": {},
     "nuid": "fb1e84ac-e4d4-435e-b14e-ebb1a3b06e12",
     "showTitle": false,
     "tableResultSettingsMap": {},
     "title": ""
    }
   },
   "outputs": [],
   "source": []
  },
  {
   "cell_type": "markdown",
   "metadata": {
    "application/vnd.databricks.v1+cell": {
     "cellMetadata": {
      "byteLimit": 2048000,
      "rowLimit": 10000
     },
     "inputWidgets": {},
     "nuid": "6db0b8e4-fa59-4f96-8b1a-4f5b733b834e",
     "showTitle": false,
     "tableResultSettingsMap": {},
     "title": ""
    }
   },
   "source": [
    "| Abbreviation | Description |\n",
    "|--------------|-------------|\n",
    "| ASOS         | Automated Surface Observing System |\n",
    "| AWOS         | Airway Weather Observation |\n",
    "| AMOS         | Automated Observing Station |\n",
    "| COOP         | COOPerative Station |\n",
    "| USHCN        | U.S. Historical Climatology Network |\n",
    "| MILITARY     | Military |\n",
    "| SYNOPTIC     | (Undocumented) |\n",
    "| USCRN        | U.S. Climate Reference Network |\n",
    "| USRCRN       | U.S. Regional Climate Reference Network |\n",
    "| AL USRCRN    | Alabama U.S. Regional Climate Reference Network |\n",
    "| WXSVC        | Weather Service |\n",
    "| NEXRAD       | NEXt generation RADar |\n",
    "| RADAR        | (Undocumented) |\n",
    "| UPPERAIR     | Upper Air |"
   ]
  },
  {
   "cell_type": "code",
   "execution_count": 0,
   "metadata": {
    "application/vnd.databricks.v1+cell": {
     "cellMetadata": {
      "byteLimit": 2048000,
      "rowLimit": 10000
     },
     "inputWidgets": {},
     "nuid": "ed90db4a-93ba-4945-a8c3-0a81e765f5bc",
     "showTitle": false,
     "tableResultSettingsMap": {},
     "title": ""
    }
   },
   "outputs": [],
   "source": [
    "mshr_us['station_types'].value_counts().head(20)\n",
    "\n",
    "\n"
   ]
  },
  {
   "cell_type": "code",
   "execution_count": 0,
   "metadata": {
    "application/vnd.databricks.v1+cell": {
     "cellMetadata": {
      "byteLimit": 2048000,
      "rowLimit": 10000
     },
     "inputWidgets": {},
     "nuid": "5a0f7b6c-48f9-41ee-b34e-9b7ec751122a",
     "showTitle": false,
     "tableResultSettingsMap": {},
     "title": ""
    }
   },
   "outputs": [],
   "source": [
    "mshr_us"
   ]
  },
  {
   "cell_type": "markdown",
   "metadata": {
    "application/vnd.databricks.v1+cell": {
     "cellMetadata": {},
     "inputWidgets": {},
     "nuid": "f83da004-dff3-4a8a-b641-57485829560b",
     "showTitle": false,
     "tableResultSettingsMap": {},
     "title": ""
    }
   },
   "source": [
    "## duplicates exploration"
   ]
  },
  {
   "cell_type": "code",
   "execution_count": 0,
   "metadata": {
    "application/vnd.databricks.v1+cell": {
     "cellMetadata": {},
     "inputWidgets": {},
     "nuid": "e0e1246e-1fc6-4786-85c4-7661e6c47cbf",
     "showTitle": false,
     "tableResultSettingsMap": {},
     "title": ""
    }
   },
   "outputs": [],
   "source": [
    "ydf_country=ydf.withColumn(\"COUNTRY\",F.col('NAME').substr(-2, 2))"
   ]
  },
  {
   "cell_type": "code",
   "execution_count": 0,
   "metadata": {
    "application/vnd.databricks.v1+cell": {
     "cellMetadata": {
      "byteLimit": 2048000,
      "rowLimit": 10000
     },
     "inputWidgets": {},
     "nuid": "6302ce06-d592-43b6-a036-20a814b1c3a5",
     "showTitle": false,
     "tableResultSettingsMap": {},
     "title": ""
    }
   },
   "outputs": [],
   "source": [
    "ydf_country = ydf_country.withColumn(\"DATE\", F.col(\"DATE\").cast(\"timestamp\"))\n"
   ]
  },
  {
   "cell_type": "code",
   "execution_count": 0,
   "metadata": {
    "application/vnd.databricks.v1+cell": {
     "cellMetadata": {},
     "inputWidgets": {},
     "nuid": "480df534-2423-4ac8-a079-32a6a5df1e76",
     "showTitle": false,
     "tableResultSettingsMap": {},
     "title": ""
    }
   },
   "outputs": [],
   "source": [
    "display(ydf_country.filter(F.col('COUNTRY').isin(territory_FIPS))\n",
    "        .withColumn(\"row_num\", \n",
    "                    F.row_number().over(\n",
    "                        Window.partitionBy('COUNTRY')\n",
    "                        .orderBy(F.col(\"COUNTRY\").desc())\n",
    "                    ))\n",
    "    .filter(F.col(\"row_num\") == 1)\n",
    "    .drop(\"row_num\"))\n",
    "\n",
    "\n",
    "#confirmed, all of these are non- US territories:\n",
    "#AS=Australia, FM=Micronesia, MH=Marshall Islands, MP=Mauritius (not mariana islands), and the VIs are British VI (?)"
   ]
  },
  {
   "cell_type": "code",
   "execution_count": 0,
   "metadata": {
    "application/vnd.databricks.v1+cell": {
     "cellMetadata": {
      "byteLimit": 2048000,
      "rowLimit": 10000
     },
     "inputWidgets": {},
     "nuid": "55a300d3-083a-449c-b936-c457c8e5681b",
     "showTitle": false,
     "tableResultSettingsMap": {},
     "title": ""
    }
   },
   "outputs": [],
   "source": [
    "ydf_uniq = ydf_country  \\\n",
    "            .withColumn(\"hour\", hour(F.col(\"DATE\"))) \\\n",
    "            .filter(F.col('COUNTRY')=='US') \\\n",
    "            .withColumn(\"row_num\", \n",
    "                    F.row_number().over(\n",
    "                        Window.partitionBy('WBAN','DATE')\n",
    "                        .orderBy(F.col(\"WBAN\").desc())\n",
    "                    )) \\\n",
    "    .filter(F.col(\"row_num\") == 1)"
   ]
  },
  {
   "cell_type": "code",
   "execution_count": 0,
   "metadata": {
    "application/vnd.databricks.v1+cell": {
     "cellMetadata": {
      "byteLimit": 2048000,
      "rowLimit": 10000
     },
     "inputWidgets": {},
     "nuid": "b16c9e3b-8257-4165-b60c-bbbc8f6e903c",
     "showTitle": false,
     "tableResultSettingsMap": {},
     "title": ""
    }
   },
   "outputs": [],
   "source": [
    "display(ydf_uniq)"
   ]
  },
  {
   "cell_type": "code",
   "execution_count": 0,
   "metadata": {
    "application/vnd.databricks.v1+cell": {
     "cellMetadata": {
      "byteLimit": 2048000,
      "rowLimit": 10000
     },
     "inputWidgets": {},
     "nuid": "af31d886-c770-48b3-bd5a-3922a7f1db39",
     "showTitle": false,
     "tableResultSettingsMap": {},
     "title": ""
    }
   },
   "outputs": [],
   "source": [
    "display(ydf_uniq.count())\n",
    "\n",
    "#52876330 should be the number of YDF USA unique records after dedup"
   ]
  },
  {
   "cell_type": "code",
   "execution_count": 0,
   "metadata": {
    "application/vnd.databricks.v1+cell": {
     "cellMetadata": {
      "byteLimit": 2048000,
      "rowLimit": 10000
     },
     "inputWidgets": {},
     "nuid": "c695b19d-8fcf-4c62-ac34-61cfd00c2d05",
     "showTitle": false,
     "tableResultSettingsMap": {},
     "title": ""
    }
   },
   "outputs": [],
   "source": [
    "#no duplicate name/date/source combos for report_type = FM15, seems like an ok rule (?)\n",
    "display(ydf_country.withColumn(\"hour\", hour(F.col(\"DATE\")))\n",
    "    .filter(F.col('REPORT_TYPE') == 'FM-15')\n",
    "    .filter(F.col('COUNTRY') == 'US')\n",
    "    .groupBy('NAME','DATE','SOURCE')\n",
    "    .count()\n",
    "    .filter(F.col('count') > 1)\n",
    "    )"
   ]
  },
  {
   "cell_type": "code",
   "execution_count": 0,
   "metadata": {
    "application/vnd.databricks.v1+cell": {
     "cellMetadata": {
      "byteLimit": 2048000,
      "rowLimit": 10000
     },
     "inputWidgets": {},
     "nuid": "26052534-7851-463b-8bf9-97fbe518b716",
     "showTitle": false,
     "tableResultSettingsMap": {},
     "title": ""
    }
   },
   "outputs": [],
   "source": [
    "#no duplicate name/date/source combos for report_type = FM15, seems like an ok rule (?)\n",
    "display(ydf_country.withColumn(\"hour\", hour(F.col(\"DATE\")))\n",
    "    .filter(F.col('REPORT_TYPE') == 'FM-15')\n",
    "    .filter(F.col('COUNTRY') == 'US')\n",
    "    .groupBy('NAME','DATE','SOURCE')\n",
    "    .count()\n",
    "    .filter(F.col('count') > 1)\n",
    "    )"
   ]
  },
  {
   "cell_type": "markdown",
   "metadata": {
    "application/vnd.databricks.v1+cell": {
     "cellMetadata": {},
     "inputWidgets": {},
     "nuid": "2a77e76d-3fe2-4023-8174-8c02b7daee91",
     "showTitle": false,
     "tableResultSettingsMap": {},
     "title": ""
    }
   },
   "source": [
    "4 = USAF SURFACE HOURLY observation \n",
    "\n",
    "6 = ASOS/AWOS observation from NCEI              \n",
    "\n",
    "7 = ASOS/AWOS observation merged with USAF SURFACE HOURLY observation \n",
    "\n",
    "O = Summary observation created by NCEI using hourly observations that may not share the same data source flag. "
   ]
  },
  {
   "cell_type": "code",
   "execution_count": 0,
   "metadata": {
    "application/vnd.databricks.v1+cell": {
     "cellMetadata": {
      "byteLimit": 2048000,
      "rowLimit": 10000
     },
     "inputWidgets": {},
     "nuid": "3a42058b-2a04-41f9-bbe0-316ad51dae60",
     "showTitle": false,
     "tableResultSettingsMap": {},
     "title": ""
    }
   },
   "outputs": [],
   "source": [
    "\n",
    "\n",
    "#duplicate NAME-DATE pairs\n",
    "duplicates = (\n",
    "    ydf_country\n",
    "    .filter(F.col('REPORT_TYPE') == 'FM-15')\n",
    "    .filter(F.col('COUNTRY') == 'US')\n",
    "    .groupBy('NAME', 'DATE')\n",
    "    .count()\n",
    "    .filter(F.col(\"count\") > 1)\n",
    "    .select(\"NAME\", \"DATE\")\n",
    ")\n",
    "\n",
    "#sources for each duplicate NAME-DATE as an array\n",
    "source_combinations = (\n",
    "    ydf_country\n",
    "    .join(duplicates, on=[\"NAME\", \"DATE\"], how=\"inner\")\n",
    "    .groupBy(\"NAME\", \"DATE\")\n",
    "    .agg(F.collect_set(\"SOURCE\").alias(\"source_list\"))\n",
    ")\n",
    "\n",
    "#get unique (SOURCE1, SOURCE2) pairs\n",
    "\n",
    "def generate_pairs(source_list):\n",
    "    return [tuple(sorted(pair)) for pair in combinations(source_list, 2)] if len(source_list) > 1 else []\n",
    "\n",
    "generate_pairs_udf = F.udf(generate_pairs, \"array<struct<source1:string, source2:string>>\")\n",
    "\n",
    "source_pairs = source_combinations.withColumn(\"source_pairs\", generate_pairs_udf(F.col(\"source_list\")))\n",
    "\n",
    "#explode the pairs & count occurrences per NAME\n",
    "pair_counts = (\n",
    "    source_pairs\n",
    "    .select(\"NAME\", F.explode(\"source_pairs\").alias(\"pair\"))\n",
    "    .groupBy(\"NAME\", \"pair\")\n",
    "    .count()\n",
    ")\n",
    "\n",
    "#collapse to show only name & pair tally\n",
    "final_result = (\n",
    "    pair_counts\n",
    "    .groupBy(\"NAME\")\n",
    "    .agg(F.collect_list(F.struct(\"pair\", \"count\")).alias(\"source_tally\"))\n",
    ")\n",
    "\n",
    "display(final_result)\n"
   ]
  },
  {
   "cell_type": "code",
   "execution_count": 0,
   "metadata": {
    "application/vnd.databricks.v1+cell": {
     "cellMetadata": {
      "byteLimit": 2048000,
      "rowLimit": 10000
     },
     "collapsed": true,
     "inputWidgets": {},
     "nuid": "1815b802-1b40-4466-a264-0243c3166089",
     "showTitle": false,
     "tableResultSettingsMap": {},
     "title": ""
    }
   },
   "outputs": [],
   "source": [
    "\n",
    "hourly_columns = [col for col in ydf.columns if col.startswith('Hourly')]\n",
    "# result = (\n",
    "#     ydf_country\n",
    "#     .filter(F.col('COUNTRY') == 'US')\n",
    "#     .filter(F.col('REPORT_TYPE') == 'FM-15')\n",
    "#     .groupBy(\"WBAN\", \"DATE\", \"SOURCE\") \n",
    "#     .agg(\n",
    "#         *[F.sum(F.when(F.col(c).isNull(), 1).otherwise(0)).alias(c) for c in hourly_columns]  # Count nulls per column\n",
    "#     )\n",
    "#     .withColumn(\"row_num\", F.row_number().over(\n",
    "#         Window.partitionBy(\"WBAN\", \"DATE\").orderBy(F.col(\"WBAN\").desc())\n",
    "#     ))\n",
    "#     .filter(F.col(\"row_num\") == 1)\n",
    "#     .drop(\"row_num\")\n",
    "# )\n",
    "\n",
    "# # Display the result\n",
    "# display(result)\n"
   ]
  },
  {
   "cell_type": "code",
   "execution_count": 0,
   "metadata": {
    "application/vnd.databricks.v1+cell": {
     "cellMetadata": {
      "byteLimit": 2048000,
      "rowLimit": 10000
     },
     "inputWidgets": {},
     "nuid": "b82c8f90-0d94-4f2a-a873-86e43f4bd2a3",
     "showTitle": false,
     "tableResultSettingsMap": {},
     "title": ""
    }
   },
   "outputs": [],
   "source": [
    "agg_result =  (ydf_country\n",
    "    .filter(F.col('COUNTRY') == 'US')\n",
    "    .filter(F.col('REPORT_TYPE') == 'FM-15')\n",
    "    .groupBy(\"WBAN\", \"DATE\", \"SOURCE\") \n",
    "    .agg(\n",
    "        *[F.sum(F.when(F.col(c).isNull(), 1).otherwise(0)).alias(c) for c in hourly_columns])  # Count nulls per column\n",
    "    )\n",
    "\n",
    "tally_result = (\n",
    "    agg_result\n",
    "    .withColumn(\"null_column_count\", \n",
    "        sum(F.when(F.col(c).isNull(), 1).otherwise(0) for c in hourly_columns))\n",
    "    .groupBy(\"WBAN\", \"SOURCE\")  # Group by WBAN and SOURCE\n",
    "    .agg(\n",
    "        F.sum(\"null_column_count\").alias(\"total_nulls\")  # Tally null counts across WBAN and SOURCE\n",
    "    )\n",
    ")\n",
    "\n",
    "# Display the result\n",
    "display(tally_result.orderBy(F.col('total_nulls')))"
   ]
  },
  {
   "cell_type": "code",
   "execution_count": 0,
   "metadata": {
    "application/vnd.databricks.v1+cell": {
     "cellMetadata": {},
     "inputWidgets": {},
     "nuid": "87ae1397-1678-4e46-a266-e1875b36c8b6",
     "showTitle": false,
     "tableResultSettingsMap": {},
     "title": ""
    }
   },
   "outputs": [],
   "source": []
  },
  {
   "cell_type": "markdown",
   "metadata": {
    "application/vnd.databricks.v1+cell": {
     "cellMetadata": {},
     "inputWidgets": {},
     "nuid": "a05d55bb-fb33-42f5-8759-ea66bea4ebb6",
     "showTitle": false,
     "tableResultSettingsMap": {},
     "title": ""
    }
   },
   "source": [
    "Dup rule:\n",
    "\n",
    "- Report type = FM-15\n",
    "- average across duplicate sources if exists"
   ]
  },
  {
   "cell_type": "code",
   "execution_count": 0,
   "metadata": {
    "application/vnd.databricks.v1+cell": {
     "cellMetadata": {},
     "inputWidgets": {},
     "nuid": "9310a45a-9507-4083-b7ce-c0c528a57267",
     "showTitle": false,
     "tableResultSettingsMap": {},
     "title": ""
    }
   },
   "outputs": [],
   "source": []
  },
  {
   "cell_type": "code",
   "execution_count": 0,
   "metadata": {
    "application/vnd.databricks.v1+cell": {
     "cellMetadata": {
      "byteLimit": 2048000,
      "rowLimit": 10000
     },
     "inputWidgets": {},
     "nuid": "979cda2e-a334-4aea-86a3-50dd29a1e366",
     "showTitle": false,
     "tableResultSettingsMap": {},
     "title": ""
    }
   },
   "outputs": [],
   "source": [
    "# rest = ydf \\\n",
    "#         .filter(F.col(\"LATITUDE\").isNotNull())\n",
    "\n",
    "\n",
    "# join_condition = (\n",
    "#     (rest[\"WBAN\"] == mshr_df[\"WBAN_ID\"]) &\n",
    "#     (rest[\"DATE\"] >= mshr_df[\"begin_date\"]) &\n",
    "#     (rest[\"DATE\"] <= mshr_df[\"end_date\"])\n",
    "# )\n",
    "\n",
    "# window_spec = Window \\\n",
    "#                     .partitionBy(missing_loc[\"WBAN\"], missing_loc[\"DATE\"]) \\\n",
    "#                     .orderBy(F.col(\"begin_date\").desc() #most recent begin date\n",
    "# )\n",
    "                    \n",
    "# #deduplicated \n",
    "# dedup = (rest.groupBy(\"WBAN\", \"DATE\").count().filter(F.col(\"count\") > 1)) \\\n",
    "#             .join(mshr_df.select(F.expr(\"* EXCEPT(LATITUDE, LONGITUDE, NAME)\")), \n",
    "#                   on=[\"WBAN\", \"DATE\"], \n",
    "#                   how=\"inner\") \\\n",
    "#             .filter(~F.col(\"REPORT_TYPE\").contains(\"SOD\"))\n",
    "\n",
    "# nondup = missing_loc.join(dedup, on=[\"WBAN\", \"DATE\"], how=\"left_anti\")\n",
    "\n",
    "# missing_loc_clean = dedup.select(F.expr(\"* EXCEPT(COUNT)\")).union(nondup)\n",
    "\n",
    "\n",
    "# result = missing_loc_clean \\\n",
    "#     .join(mshr_df, join_condition, \"left_outer\") \\\n",
    "#     .withColumn(\"row_num\", F.row_number().over(window_spec)) \\\n",
    "#     .filter(F.col(\"row_num\") == 1) \\\n",
    "#     .drop(\"row_num\")\n",
    "\n",
    "\n",
    "# display(result)"
   ]
  },
  {
   "cell_type": "markdown",
   "metadata": {
    "application/vnd.databricks.v1+cell": {
     "cellMetadata": {
      "byteLimit": 2048000,
      "rowLimit": 10000
     },
     "inputWidgets": {},
     "nuid": "e0de78ec-6dd0-468d-8dcd-2c6187d7a482",
     "showTitle": false,
     "tableResultSettingsMap": {},
     "title": ""
    }
   },
   "source": [
    "## clean location nulls"
   ]
  },
  {
   "cell_type": "markdown",
   "metadata": {
    "application/vnd.databricks.v1+cell": {
     "cellMetadata": {},
     "inputWidgets": {},
     "nuid": "8fef6cc2-99c0-4e9e-94a8-b7466c34dad0",
     "showTitle": false,
     "tableResultSettingsMap": {},
     "title": ""
    }
   },
   "source": [
    "mostly just dedup"
   ]
  },
  {
   "cell_type": "code",
   "execution_count": 0,
   "metadata": {
    "application/vnd.databricks.v1+cell": {
     "cellMetadata": {
      "byteLimit": 2048000,
      "rowLimit": 10000
     },
     "inputWidgets": {},
     "nuid": "bbe9c002-7066-4817-9aae-73669bce88cf",
     "showTitle": false,
     "tableResultSettingsMap": {},
     "title": ""
    }
   },
   "outputs": [],
   "source": [
    "missing_loc = ydf \\\n",
    "        .filter(F.col(\"LATITUDE\").isNull()) \\\n",
    "        .select(F.expr(\"* EXCEPT(LATITUDE, LONGITUDE, NAME)\")) #will replace those cols w MSHR fill ins\n",
    "\n",
    "\n",
    "join_condition = (\n",
    "    (missing_loc[\"WBAN\"] == mshr_df[\"WBAN_ID\"]) &\n",
    "    (missing_loc[\"DATE\"] >= mshr_df[\"begin_date\"]) &\n",
    "    (missing_loc[\"DATE\"] <= mshr_df[\"end_date\"])\n",
    ")\n",
    "\n",
    "window_spec = Window \\\n",
    "                    .partitionBy(missing_loc[\"WBAN\"], missing_loc[\"DATE\"]) \\\n",
    "                    .orderBy(F.col(\"begin_date\").desc() #most recent begin date\n",
    ")\n",
    "                    \n",
    "#deduplicated missing loc rows: based on EDA showing all dups in these null rows are SOD with nulls\n",
    "\n",
    "dedup = (missing_loc.groupBy(\"WBAN\", \"DATE\").count().filter(F.col(\"count\") > 1)) \\\n",
    "            .join(missing_loc, on=[\"WBAN\", \"DATE\"], how=\"inner\") \\\n",
    "            .filter(~F.col(\"REPORT_TYPE\").contains(\"SOD\"))\n",
    "\n",
    "nondup = missing_loc.join(dedup, on=[\"WBAN\", \"DATE\"], how=\"left_anti\")\n",
    "\n",
    "missing_loc_clean = dedup.select(F.expr(\"* EXCEPT(COUNT)\")).union(nondup)\n",
    "\n",
    "\n",
    "missing_loc_result = missing_loc_clean \\\n",
    "    .join(mshr_df, join_condition, \"left_outer\") \\\n",
    "    .withColumn(\"row_num\", F.row_number().over(window_spec)) \\\n",
    "    .filter(F.col(\"row_num\") == 1) \\\n",
    "    .drop(\"row_num\")\n",
    "\n",
    "\n",
    "display(missing_loc_result)"
   ]
  },
  {
   "cell_type": "code",
   "execution_count": 0,
   "metadata": {
    "application/vnd.databricks.v1+cell": {
     "cellMetadata": {
      "byteLimit": 2048000,
      "rowLimit": 10000
     },
     "inputWidgets": {},
     "nuid": "0ff528dd-4c13-4dcc-92f1-a3c5f65e67ae",
     "showTitle": false,
     "tableResultSettingsMap": {},
     "title": ""
    }
   },
   "outputs": [],
   "source": [
    "loc_result = missing_loc_result.filter(F.col('country') == 'UNITED STATES')"
   ]
  },
  {
   "cell_type": "code",
   "execution_count": 0,
   "metadata": {
    "application/vnd.databricks.v1+cell": {
     "cellMetadata": {
      "byteLimit": 2048000,
      "rowLimit": 10000
     },
     "inputWidgets": {},
     "nuid": "30e604a7-502f-4839-9593-39744c6a40aa",
     "showTitle": false,
     "tableResultSettingsMap": {},
     "title": ""
    }
   },
   "outputs": [],
   "source": [
    "display(loc_result.filter(F.col('WBAN') == '99999').groupBy('coop_station_name').count())"
   ]
  },
  {
   "cell_type": "code",
   "execution_count": 0,
   "metadata": {
    "application/vnd.databricks.v1+cell": {
     "cellMetadata": {
      "byteLimit": 2048000,
      "rowLimit": 10000
     },
     "inputWidgets": {},
     "nuid": "e712ffaa-2bfe-4677-8596-c3cc3e472ef5",
     "showTitle": false,
     "tableResultSettingsMap": {},
     "title": ""
    }
   },
   "outputs": [],
   "source": [
    "display(loc_result.groupBy('WBAN', 'DATE').count().filter(F.col('count') > 1)) \n",
    "#deduped!"
   ]
  },
  {
   "cell_type": "markdown",
   "metadata": {
    "application/vnd.databricks.v1+cell": {
     "cellMetadata": {
      "byteLimit": 2048000,
      "rowLimit": 10000
     },
     "inputWidgets": {},
     "nuid": "8b6b6518-0425-4ccd-90c6-8aa491f69e7d",
     "showTitle": false,
     "tableResultSettingsMap": {},
     "title": ""
    }
   },
   "source": [
    "## clean location non nulls"
   ]
  },
  {
   "cell_type": "code",
   "execution_count": 0,
   "metadata": {
    "application/vnd.databricks.v1+cell": {
     "cellMetadata": {
      "byteLimit": 2048000,
      "rowLimit": 10000
     },
     "collapsed": true,
     "inputWidgets": {},
     "nuid": "6e0ba77a-5d7e-48a5-8bd9-db4d846e4b10",
     "showTitle": false,
     "tableResultSettingsMap": {},
     "title": ""
    }
   },
   "outputs": [],
   "source": [
    "numeric_cols = ['HourlyAltimeterSetting',\n",
    " 'HourlyDewPointTemperature',\n",
    " 'HourlyDryBulbTemperature',\n",
    " 'HourlyPrecipitation',\n",
    " 'HourlyPresentWeatherType',\n",
    " 'HourlyPressureChange',\n",
    " 'HourlyPressureTendency',\n",
    " 'HourlyRelativeHumidity',\n",
    " 'HourlySkyConditions',\n",
    " 'HourlySeaLevelPressure',\n",
    " 'HourlyStationPressure',\n",
    " 'HourlyVisibility',\n",
    " 'HourlyWetBulbTemperature',\n",
    " 'HourlyWindDirection',\n",
    " 'HourlyWindGustSpeed',\n",
    " 'HourlyWindSpeed',\n",
    " 'DailyAverageDewPointTemperature',\n",
    " 'DailyAverageDryBulbTemperature',\n",
    " 'DailyAverageRelativeHumidity',\n",
    " 'DailyAverageSeaLevelPressure',\n",
    " 'DailyAverageStationPressure',\n",
    " 'DailyAverageWetBulbTemperature',\n",
    " 'DailyAverageWindSpeed',\n",
    " 'DailyCoolingDegreeDays',\n",
    " 'DailyDepartureFromNormalAverageTemperature',\n",
    " 'DailyHeatingDegreeDays',\n",
    " 'DailyMaximumDryBulbTemperature',\n",
    " 'DailyMinimumDryBulbTemperature',\n",
    " 'DailyPeakWindDirection',\n",
    " 'DailyPeakWindSpeed',\n",
    " 'DailyPrecipitation',\n",
    " 'DailySnowDepth',\n",
    " 'DailySnowfall',\n",
    " 'DailySustainedWindDirection',\n",
    " 'DailySustainedWindSpeed',\n",
    " 'DailyWeather',\n",
    " 'MonthlyAverageRH',\n",
    " 'MonthlyDaysWithGT001Precip',\n",
    " 'MonthlyDaysWithGT010Precip',\n",
    " 'MonthlyDaysWithGT32Temp',\n",
    " 'MonthlyDaysWithGT90Temp',\n",
    " 'MonthlyDaysWithLT0Temp',\n",
    " 'MonthlyDaysWithLT32Temp',\n",
    " 'MonthlyDepartureFromNormalAverageTemperature',\n",
    " 'MonthlyDepartureFromNormalCoolingDegreeDays',\n",
    " 'MonthlyDepartureFromNormalHeatingDegreeDays',\n",
    " 'MonthlyDepartureFromNormalMaximumTemperature',\n",
    " 'MonthlyDepartureFromNormalMinimumTemperature',\n",
    " 'MonthlyDepartureFromNormalPrecipitation',\n",
    " 'MonthlyDewpointTemperature',\n",
    " 'MonthlyGreatestPrecip',\n",
    " 'MonthlyGreatestPrecipDate',\n",
    " 'MonthlyGreatestSnowDepth',\n",
    " 'MonthlyGreatestSnowDepthDate',\n",
    " 'MonthlyGreatestSnowfall',\n",
    " 'MonthlyGreatestSnowfallDate',\n",
    " 'MonthlyMaxSeaLevelPressureValue',\n",
    " 'MonthlyMaxSeaLevelPressureValueDate',\n",
    " 'MonthlyMaxSeaLevelPressureValueTime',\n",
    " 'MonthlyMaximumTemperature',\n",
    " 'MonthlyMeanTemperature',\n",
    " 'MonthlyMinSeaLevelPressureValue',\n",
    " 'MonthlyMinSeaLevelPressureValueDate',\n",
    " 'MonthlyMinSeaLevelPressureValueTime',\n",
    " 'MonthlyMinimumTemperature',\n",
    " 'MonthlySeaLevelPressure',\n",
    " 'MonthlyStationPressure',\n",
    " 'MonthlyTotalLiquidPrecipitation',\n",
    " 'MonthlyTotalSnowfall',\n",
    " 'MonthlyWetBulb',\n",
    "  'ShortDurationEndDate005',\n",
    " 'ShortDurationEndDate010',\n",
    " 'ShortDurationEndDate015',\n",
    " 'ShortDurationEndDate020',\n",
    " 'ShortDurationEndDate030',\n",
    " 'ShortDurationEndDate045',\n",
    " 'ShortDurationEndDate060',\n",
    " 'ShortDurationEndDate080',\n",
    " 'ShortDurationEndDate100',\n",
    " 'ShortDurationEndDate120',\n",
    " 'ShortDurationEndDate150',\n",
    " 'ShortDurationEndDate180',\n",
    " 'ShortDurationPrecipitationValue005',\n",
    " 'ShortDurationPrecipitationValue010',\n",
    " 'ShortDurationPrecipitationValue015',\n",
    " 'ShortDurationPrecipitationValue020',\n",
    " 'ShortDurationPrecipitationValue030',\n",
    " 'ShortDurationPrecipitationValue045',\n",
    " 'ShortDurationPrecipitationValue060',\n",
    " 'ShortDurationPrecipitationValue080',\n",
    " 'ShortDurationPrecipitationValue100',\n",
    " 'ShortDurationPrecipitationValue120',\n",
    " 'ShortDurationPrecipitationValue150',\n",
    " 'ShortDurationPrecipitationValue180']"
   ]
  },
  {
   "cell_type": "code",
   "execution_count": 0,
   "metadata": {
    "application/vnd.databricks.v1+cell": {
     "cellMetadata": {
      "byteLimit": 2048000,
      "rowLimit": 10000
     },
     "inputWidgets": {},
     "nuid": "b9feb026-00b0-462b-ac20-f8e7240b41b7",
     "showTitle": false,
     "tableResultSettingsMap": {},
     "title": ""
    }
   },
   "outputs": [],
   "source": [
    "display(ydf_country \\\n",
    "        .filter(F.col(\"LATITUDE\").isNotNull()) \\\n",
    "        .filter(F.col('COUNTRY') == 'US') \\\n",
    "        .filter(F.col('REPORT_TYPE') == 'FM-15') \\\n",
    "        .filter(F.col('SOURCE') == 4) \\\n",
    "        .groupBy('WBAN', 'DATE') \\\n",
    "        .count() \\\n",
    "        .filter(F.col('count') > 1)\n",
    ")"
   ]
  },
  {
   "cell_type": "code",
   "execution_count": 0,
   "metadata": {
    "application/vnd.databricks.v1+cell": {
     "cellMetadata": {
      "byteLimit": 2048000,
      "rowLimit": 10000
     },
     "inputWidgets": {},
     "nuid": "8442afd4-adcd-462a-aa5e-c1b056389c36",
     "showTitle": false,
     "tableResultSettingsMap": {},
     "title": ""
    }
   },
   "outputs": [],
   "source": [
    "display(ydf_country \\\n",
    "        .filter(F.col(\"LATITUDE\").isNotNull()) \\\n",
    "        .filter(F.col('COUNTRY') == 'US') \\\n",
    "        .filter(F.col('REPORT_TYPE') == 'FM-15') \\\n",
    "        .filter(F.col('WBAN') == '99999') \\\n",
    "        .groupBy('NAME').count()\n",
    ")"
   ]
  },
  {
   "cell_type": "code",
   "execution_count": 0,
   "metadata": {
    "application/vnd.databricks.v1+cell": {
     "cellMetadata": {
      "byteLimit": 2048000,
      "rowLimit": 10000
     },
     "inputWidgets": {},
     "nuid": "dabc56ff-70cb-4f5e-b27e-20c41a1e0bb2",
     "showTitle": false,
     "tableResultSettingsMap": {},
     "title": ""
    }
   },
   "outputs": [],
   "source": [
    "display(stations.filter(stations.station_id.contains(720425)))"
   ]
  },
  {
   "cell_type": "code",
   "execution_count": 0,
   "metadata": {
    "application/vnd.databricks.v1+cell": {
     "cellMetadata": {
      "byteLimit": 2048000,
      "rowLimit": 10000
     },
     "inputWidgets": {},
     "nuid": "25292e43-350d-4623-92d5-4c8e88658740",
     "showTitle": false,
     "tableResultSettingsMap": {},
     "title": ""
    }
   },
   "outputs": [],
   "source": [
    "display(rest.filter(F.col('NAME').contains('HUGOTON')))"
   ]
  },
  {
   "cell_type": "code",
   "execution_count": 0,
   "metadata": {
    "application/vnd.databricks.v1+cell": {
     "cellMetadata": {
      "byteLimit": 2048000,
      "rowLimit": 10000
     },
     "inputWidgets": {},
     "nuid": "38d5c471-acb7-40ab-906c-5f6aea6cd46d",
     "showTitle": false,
     "tableResultSettingsMap": {},
     "title": ""
    }
   },
   "outputs": [],
   "source": [
    "ydf_country.filter(F.col('NAME').isNull()).filter(F.col('LATITUDE').isNotNull()).count()"
   ]
  },
  {
   "cell_type": "code",
   "execution_count": 0,
   "metadata": {
    "application/vnd.databricks.v1+cell": {
     "cellMetadata": {
      "byteLimit": 2048000,
      "rowLimit": 10000
     },
     "inputWidgets": {},
     "nuid": "7c85a1b3-d61d-42e8-bf6c-f22b92894857",
     "showTitle": false,
     "tableResultSettingsMap": {},
     "title": ""
    }
   },
   "outputs": [],
   "source": [
    "display(mshr_df.filter(F.col('NAME').contains('MONROE')))"
   ]
  },
  {
   "cell_type": "code",
   "execution_count": 0,
   "metadata": {
    "application/vnd.databricks.v1+cell": {
     "cellMetadata": {
      "byteLimit": 2048000,
      "rowLimit": 10000
     },
     "inputWidgets": {},
     "nuid": "9555deff-0f8b-4238-8d1e-7fcf59fee0b4",
     "showTitle": false,
     "tableResultSettingsMap": {},
     "title": ""
    }
   },
   "outputs": [],
   "source": [
    "display(mshr_df.filter(F.col('NAME').contains('HUGOTON')))"
   ]
  },
  {
   "cell_type": "code",
   "execution_count": 0,
   "metadata": {
    "application/vnd.databricks.v1+cell": {
     "cellMetadata": {
      "byteLimit": 2048000,
      "rowLimit": 10000
     },
     "inputWidgets": {},
     "nuid": "ab784529-4166-461b-8a1a-fea413807c93",
     "showTitle": false,
     "tableResultSettingsMap": {},
     "title": ""
    }
   },
   "outputs": [],
   "source": [
    "display(ydf_country \\\n",
    "        .filter(F.col(\"LATITUDE\").isNotNull()) \\\n",
    "        .filter(F.col('COUNTRY') == 'US') \\\n",
    "        .filter(F.col('REPORT_TYPE') == 'FM-15') \\\n",
    "        .filter(F.col('SOURCE') == 4) \\\n",
    "        .groupBy('NAME', 'DATE') \\\n",
    "        .count() \\\n",
    "        .filter(F.col('count') > 1)\n",
    ")"
   ]
  },
  {
   "cell_type": "code",
   "execution_count": 0,
   "metadata": {
    "application/vnd.databricks.v1+cell": {
     "cellMetadata": {
      "byteLimit": 2048000,
      "rowLimit": 10000
     },
     "inputWidgets": {},
     "nuid": "c14f377d-4bd3-498e-9728-1aaa3f5cea53",
     "showTitle": false,
     "tableResultSettingsMap": {},
     "title": ""
    }
   },
   "outputs": [],
   "source": [
    "\n",
    "\n",
    "rest = ydf_country \\\n",
    "        .filter(F.col(\"LATITUDE\").isNotNull()) \\\n",
    "        .filter(F.col('COUNTRY') == 'US') \\\n",
    "        .filter(F.col('REPORT_TYPE') == 'FM-15') \\\n",
    "        .withColumn(\n",
    "            \"null_count\", \n",
    "            sum(\n",
    "                [F.when(F.col(c).isNull(), 1).otherwise(0) for c in numeric_cols]\n",
    "            )\n",
    "    )\n",
    "        "
   ]
  },
  {
   "cell_type": "code",
   "execution_count": 0,
   "metadata": {
    "application/vnd.databricks.v1+cell": {
     "cellMetadata": {
      "byteLimit": 2048000,
      "rowLimit": 10000
     },
     "inputWidgets": {},
     "nuid": "10e5df8c-28b1-4442-bac6-d0de1cf36375",
     "showTitle": false,
     "tableResultSettingsMap": {},
     "title": ""
    }
   },
   "outputs": [],
   "source": [
    "rest.filter(F.col('NAME').isNull()).count()"
   ]
  },
  {
   "cell_type": "code",
   "execution_count": 0,
   "metadata": {
    "application/vnd.databricks.v1+cell": {
     "cellMetadata": {
      "byteLimit": 2048000,
      "rowLimit": 10000
     },
     "inputWidgets": {},
     "nuid": "e3057663-c6df-418d-902a-8cdb98d5288d",
     "showTitle": false,
     "tableResultSettingsMap": {},
     "title": ""
    }
   },
   "outputs": [],
   "source": [
    "#can't join to MSHR because we don't have unique WBAN numbers , and don't need to pull location info from there anyway \n",
    "rest_result = rest \\\n",
    "    .withColumn(\"row_num\", F.row_number().over(\n",
    "        Window \\\n",
    "            .partitionBy(\"NAME\", \"DATE\") \\\n",
    "            .orderBy(F.col(\"null_count\").asc())\n",
    "        )\n",
    "                ) \\\n",
    "    .filter(F.col(\"row_num\") == 1)\n",
    "        \n",
    "display(rest_result)"
   ]
  },
  {
   "cell_type": "code",
   "execution_count": 0,
   "metadata": {
    "application/vnd.databricks.v1+cell": {
     "cellMetadata": {},
     "inputWidgets": {},
     "nuid": "48199afb-45c6-4858-a02c-e51535829eaf",
     "showTitle": false,
     "tableResultSettingsMap": {},
     "title": ""
    }
   },
   "outputs": [],
   "source": [
    "# rest_hourdupes = rest \\\n",
    "#             .groupBy(\"WBAN\", \"DATE\") \\\n",
    "#             .count() \\\n",
    "#             .filter(F.col(\"count\") > 1) \\\n",
    "#             .withColumn(\"row_num\", \n",
    "#                     F.row_number().over(\n",
    "#                         Window.partitionBy('WBAN')\n",
    "#                         .orderBy(F.col(\"count\").desc())\n",
    "#                     )) \\\n",
    "#     .filter(F.col(\"row_num\") == 1) \\\n",
    "#     .drop(\"row_num\")\n",
    "\n",
    "\n",
    "# rest_hourdupes = rest_hourdupes.join(\n",
    "#         ydf.withColumn(\"hour\", hour(F.col(\"DATE\"))), \n",
    "#         on=[\"WBAN\", 'DATE', 'HOUR'], \n",
    "#         how=\"left_outer\")"
   ]
  },
  {
   "cell_type": "code",
   "execution_count": 0,
   "metadata": {
    "application/vnd.databricks.v1+cell": {
     "cellMetadata": {
      "byteLimit": 2048000,
      "rowLimit": 10000
     },
     "inputWidgets": {},
     "nuid": "5069c8ea-930a-4f0a-855b-89ddfa2fbd8c",
     "showTitle": false,
     "tableResultSettingsMap": {},
     "title": ""
    }
   },
   "outputs": [],
   "source": [
    "display(rest_result.count())"
   ]
  },
  {
   "cell_type": "code",
   "execution_count": 0,
   "metadata": {
    "application/vnd.databricks.v1+cell": {
     "cellMetadata": {
      "byteLimit": 2048000,
      "rowLimit": 10000
     },
     "inputWidgets": {},
     "nuid": "ceb67532-091a-4eca-9bd0-866651680af6",
     "showTitle": false,
     "tableResultSettingsMap": {},
     "title": ""
    }
   },
   "outputs": [],
   "source": [
    "loc_result.count()"
   ]
  },
  {
   "cell_type": "code",
   "execution_count": 0,
   "metadata": {
    "application/vnd.databricks.v1+cell": {
     "cellMetadata": {},
     "inputWidgets": {},
     "nuid": "4a0a8fc2-1f0e-42c9-a581-a69d57ca15ab",
     "showTitle": false,
     "tableResultSettingsMap": {},
     "title": ""
    }
   },
   "outputs": [],
   "source": [
    "#scrapped - try to avg numeric cols - too complicated considering also non numeric cols\n",
    "# agg_result =  (rest\n",
    "#     .filter(F.col('COUNTRY') == 'US')\n",
    "#     .filter(F.col('REPORT_TYPE') == 'FM-15')\n",
    "#     .groupBy(\"WBAN\", \"DATE\", \"SOURCE\") \n",
    "#     .agg(\n",
    "#         *[F.sum(F.when(F.col(c).isNull(), 1).otherwise(0)).alias(c) for c in hourly_columns])  # Count nulls per column\n",
    "#     )\n",
    "\n",
    "# tally_result = (\n",
    "#     agg_result\n",
    "#     .withColumn(\"null_column_count\", \n",
    "#         sum(F.when(F.col(c).isNull(), 1).otherwise(0) for c in hourly_columns))\n",
    "#     .groupBy(\"WBAN\", \"SOURCE\")  # Group by WBAN and SOURCE\n",
    "#     .agg(\n",
    "#         F.sum(\"null_column_count\").alias(\"total_nulls\")  # Tally null counts across WBAN and SOURCE\n",
    "#     )\n",
    "# )\n",
    "\n",
    "# # Display the result\n",
    "# display(tally_result.orderBy(F.col('total_nulls')))"
   ]
  },
  {
   "cell_type": "markdown",
   "metadata": {
    "application/vnd.databricks.v1+cell": {
     "cellMetadata": {},
     "inputWidgets": {},
     "nuid": "c647ff84-58d4-416e-816d-9e558cfb0511",
     "showTitle": false,
     "tableResultSettingsMap": {},
     "title": ""
    }
   },
   "source": []
  },
  {
   "cell_type": "markdown",
   "metadata": {
    "application/vnd.databricks.v1+cell": {
     "cellMetadata": {},
     "inputWidgets": {},
     "nuid": "73ddfb50-f327-4ce1-a11a-2b25808cb644",
     "showTitle": false,
     "tableResultSettingsMap": {},
     "title": ""
    }
   },
   "source": [
    "## union"
   ]
  },
  {
   "cell_type": "code",
   "execution_count": 0,
   "metadata": {
    "application/vnd.databricks.v1+cell": {
     "cellMetadata": {
      "byteLimit": 2048000,
      "rowLimit": 10000
     },
     "inputWidgets": {},
     "nuid": "611c6fda-b651-44cf-82c1-2d0fd054ada9",
     "showTitle": false,
     "tableResultSettingsMap": {},
     "title": ""
    }
   },
   "outputs": [],
   "source": [
    "df_cols = rest_result.columns\n",
    "\n",
    "# get index of the duplicate columns\n",
    "duplicate_col_index = list(set([df_cols.index(c) for c in df_cols if df_cols.count(c) == 2]))\n",
    "\n",
    "# rename by adding suffix '_duplicated'\n",
    "for i in duplicate_col_index:\n",
    "    df_cols[i] = df_cols[i] + '_duplicated'\n",
    "\n",
    "# rename the column in DF\n",
    "rest_df = rest_result.toDF(*df_cols)\n",
    "\n",
    "# remove flagged columns\n",
    "cols_to_remove = [c for c in df_cols if '_duplicated' in c]\n"
   ]
  },
  {
   "cell_type": "code",
   "execution_count": 0,
   "metadata": {
    "application/vnd.databricks.v1+cell": {
     "cellMetadata": {
      "byteLimit": 2048000,
      "rowLimit": 10000
     },
     "inputWidgets": {},
     "nuid": "219a584e-1ba7-4d52-a5da-902b1f00aee6",
     "showTitle": false,
     "tableResultSettingsMap": {},
     "title": ""
    }
   },
   "outputs": [],
   "source": [
    "rest_df=rest_df.drop(*cols_to_remove)"
   ]
  },
  {
   "cell_type": "code",
   "execution_count": 0,
   "metadata": {
    "application/vnd.databricks.v1+cell": {
     "cellMetadata": {
      "byteLimit": 2048000,
      "rowLimit": 10000
     },
     "inputWidgets": {},
     "nuid": "68b8f7e7-7007-4ce7-8fb7-ac0b72444d47",
     "showTitle": false,
     "tableResultSettingsMap": {},
     "title": ""
    }
   },
   "outputs": [],
   "source": [
    "full = loc_result \\\n",
    "        .select(F.expr('* EXCEPT(NAME)')) \\\n",
    "        .withColumnRenamed('coop_station_name', 'NAME') \\\n",
    "        .withColumnRenamed('country','COUNTRY') \\\n",
    "        .select(\n",
    "            *[F.col(col) for col in rest_result.select(\n",
    "                F.expr('* EXCEPT( null_count, row_num)')\n",
    "                ).columns]\n",
    "        ) \\\n",
    "        .union(rest_df.select(F.expr('* EXCEPT(null_count, row_num)')))"
   ]
  },
  {
   "cell_type": "code",
   "execution_count": 0,
   "metadata": {
    "application/vnd.databricks.v1+cell": {
     "cellMetadata": {
      "byteLimit": 2048000,
      "rowLimit": 10000
     },
     "inputWidgets": {},
     "nuid": "c5f3881d-4846-4b1e-8f0b-fc3bb584d6a0",
     "showTitle": false,
     "tableResultSettingsMap": {},
     "title": ""
    }
   },
   "outputs": [],
   "source": [
    "#YAY DE DUPED\n",
    "display(full.groupBy('NAME','DATE').count().filter(F.col('count') > 1))"
   ]
  },
  {
   "cell_type": "markdown",
   "metadata": {
    "application/vnd.databricks.v1+cell": {
     "cellMetadata": {
      "byteLimit": 2048000,
      "rowLimit": 10000
     },
     "inputWidgets": {},
     "nuid": "3cb675ac-fc16-41cd-a4e2-46b1551e7a1e",
     "showTitle": false,
     "tableResultSettingsMap": {},
     "title": ""
    }
   },
   "source": [
    "## checking exceptions"
   ]
  },
  {
   "cell_type": "code",
   "execution_count": 0,
   "metadata": {
    "application/vnd.databricks.v1+cell": {
     "cellMetadata": {
      "byteLimit": 2048000,
      "rowLimit": 10000
     },
     "inputWidgets": {},
     "nuid": "a1f3f1b5-923c-4539-862b-0e9e64db8720",
     "showTitle": false,
     "tableResultSettingsMap": {},
     "title": ""
    }
   },
   "outputs": [],
   "source": [
    "#double checking whats going on when it starts with a letter \n",
    "\n",
    "window_spec = Window.partitionBy(\"STATION\").orderBy(F.col(\"DATE\").desc())\n",
    "display(\n",
    "    ydf.filter(F.col('STATION').startswith('A'))\n",
    "    .withColumn(\"row_num\", F.row_number().over(window_spec))\n",
    "    .filter(F.col(\"row_num\") == 1)\n",
    "    .drop(\"row_num\")\n",
    "    .join(mshr_df, ydf['WBAN'] == mshr_df['WBAN_ID'], \"left_outer\")\n",
    "    .select(ydf['STATION'], ydf['WBAN'], mshr_df['WBAN_ID'], ydf['NAME'].alias('YDF_NAME'),mshr_df['NAME'].alias('MSHR_NAME'), mshr_df['coop_station_name'])\n",
    ")"
   ]
  },
  {
   "cell_type": "code",
   "execution_count": 0,
   "metadata": {
    "application/vnd.databricks.v1+cell": {
     "cellMetadata": {
      "byteLimit": 2048000,
      "rowLimit": 10000
     },
     "inputWidgets": {},
     "nuid": "f53697da-c0a1-4a7c-bb83-42389cc1abed",
     "showTitle": false,
     "tableResultSettingsMap": {},
     "title": ""
    }
   },
   "outputs": [],
   "source": [
    "#double checking whats going on when it starts with a letter \n",
    "\n",
    "window_spec = Window.partitionBy(\"STATION\").orderBy(F.col(\"DATE\").desc())\n",
    "display(\n",
    "    ydf.filter(F.col(\"STATION\").rlike(\"^[A-Z]\"))\n",
    "    .withColumn(\"row_num\", F.row_number().over(window_spec))\n",
    "    .filter(F.col(\"row_num\") == 1)\n",
    "    .drop(\"row_num\")\n",
    "    .join(mshr_df, ydf['WBAN'] == mshr_df['WBAN_ID'], \"left_outer\")\n",
    "    .select(ydf['STATION'], ydf['WBAN'], mshr_df['WBAN_ID'], ydf['NAME'].alias('YDF_NAME'),mshr_df['NAME'].alias('MSHR_NAME'), mshr_df['coop_station_name'])\n",
    ")"
   ]
  },
  {
   "cell_type": "markdown",
   "metadata": {
    "application/vnd.databricks.v1+cell": {
     "cellMetadata": {},
     "inputWidgets": {},
     "nuid": "6898e7e3-7b65-4194-a4d6-379758a0b4dd",
     "showTitle": false,
     "tableResultSettingsMap": {},
     "title": ""
    }
   },
   "source": [
    "# Checkpoint"
   ]
  },
  {
   "cell_type": "code",
   "execution_count": 0,
   "metadata": {
    "application/vnd.databricks.v1+cell": {
     "cellMetadata": {
      "byteLimit": 2048000,
      "rowLimit": 10000
     },
     "inputWidgets": {},
     "nuid": "e7fc55eb-e68d-493e-af0b-e4ccdd6b9800",
     "showTitle": false,
     "tableResultSettingsMap": {},
     "title": ""
    }
   },
   "outputs": [],
   "source": [
    "checkpoint_path = \"dbfs:/student-groups/Group_4_1/interim/weather_1y_checkpoint\"\n",
    "\n",
    "# Set the checkpoint directory in the Spark context\n",
    "spark.sparkContext.setCheckpointDir(checkpoint_path)\n",
    "\n",
    "weather_ydf_checkpointed = full.checkpoint(eager=True)\n",
    "weather_ydf_checkpointed.write.mode('overwrite').parquet(checkpoint_path)\n"
   ]
  },
  {
   "cell_type": "markdown",
   "metadata": {
    "application/vnd.databricks.v1+cell": {
     "cellMetadata": {},
     "inputWidgets": {},
     "nuid": "2f486f54-3f9e-443e-a371-28a2c66b0821",
     "showTitle": false,
     "tableResultSettingsMap": {},
     "title": ""
    }
   },
   "source": [
    "# Timezone Cleaning"
   ]
  },
  {
   "cell_type": "code",
   "execution_count": 0,
   "metadata": {
    "application/vnd.databricks.v1+cell": {
     "cellMetadata": {
      "byteLimit": 2048000,
      "rowLimit": 10000
     },
     "inputWidgets": {},
     "nuid": "c628050d-7634-4692-b3dd-25c6dff4f877",
     "showTitle": false,
     "tableResultSettingsMap": {},
     "title": ""
    }
   },
   "outputs": [],
   "source": [
    "checkpoint_path = \"dbfs:/student-groups/Group_4_1/interim/weather_1y_checkpoint\"\n",
    "\n",
    "ydf_ = spark.read.parquet(checkpoint_path)\n",
    "display(ydf_)"
   ]
  },
  {
   "cell_type": "code",
   "execution_count": 0,
   "metadata": {
    "application/vnd.databricks.v1+cell": {
     "cellMetadata": {
      "byteLimit": 2048000,
      "rowLimit": 10000
     },
     "inputWidgets": {},
     "nuid": "f7c7c942-0328-47ee-ba25-30510e3a30ad",
     "showTitle": false,
     "tableResultSettingsMap": {},
     "title": ""
    }
   },
   "outputs": [],
   "source": [
    "\n",
    "#prepare for time lookup, UTC conversion and time grid interpolation\n",
    "ydf_ = ydf_.withColumn('LATITUDE', ydf_.LATITUDE.cast(types.DoubleType()))\n",
    "ydf_ = ydf_.withColumn('LONGITUDE', ydf_.LONGITUDE.cast(types.DoubleType()))\n",
    "ydf_ = ydf_.withColumn('DATETIME', F.regexp_replace(F.col('DATE'), 'T', ' '))\n",
    "ydf_ = ydf_.withColumn('DATETIME', F.to_timestamp('DATETIME', 'yyyy-MM-dd HH:mm:ss'))\n",
    "\n",
    "display(ydf_)"
   ]
  },
  {
   "cell_type": "code",
   "execution_count": 0,
   "metadata": {
    "application/vnd.databricks.v1+cell": {
     "cellMetadata": {
      "byteLimit": 2048000,
      "rowLimit": 10000
     },
     "inputWidgets": {},
     "nuid": "8e581f1b-65b1-4d90-a74f-83a614b792a9",
     "showTitle": false,
     "tableResultSettingsMap": {},
     "title": ""
    }
   },
   "outputs": [],
   "source": [
    "#get unique stations so we can use their lat/lon for a lookup table\n",
    "ydf_uniq = ydf_  \\\n",
    "            .withColumn(\"row_num\", \n",
    "                    F.row_number().over(\n",
    "                        Window.partitionBy('STATION')\n",
    "                        .orderBy(F.col(\"STATION\").desc())\n",
    "                    )) \\\n",
    "    .filter(F.col('row_num') == 1) \\\n",
    "    .drop(F.col('row_num'))"
   ]
  },
  {
   "cell_type": "code",
   "execution_count": 0,
   "metadata": {
    "application/vnd.databricks.v1+cell": {
     "cellMetadata": {
      "byteLimit": 2048000,
      "rowLimit": 10000
     },
     "inputWidgets": {},
     "nuid": "3d2b554f-d8aa-44d5-9cd7-858a7ad2bc4a",
     "showTitle": false,
     "tableResultSettingsMap": {},
     "title": ""
    }
   },
   "outputs": [],
   "source": [
    "ydf_uniq.count()"
   ]
  },
  {
   "cell_type": "code",
   "execution_count": 0,
   "metadata": {
    "application/vnd.databricks.v1+cell": {
     "cellMetadata": {
      "byteLimit": 2048000,
      "rowLimit": 10000
     },
     "inputWidgets": {},
     "nuid": "e590ff28-88a3-4ce3-9ab7-47d86d2c4ae0",
     "showTitle": false,
     "tableResultSettingsMap": {},
     "title": ""
    }
   },
   "outputs": [],
   "source": [
    "#code was used to create a lookup table, but this was saved to parquet and should not be run again on the 1y dataset\n",
    "\n",
    "# def find_timezone(lat, lng):\n",
    "#     tf = TimezoneFinder()\n",
    "#     timezone_str = tf.timezone_at(lat=lat, lng=lng)\n",
    "#     return timezone_str if timezone_str else \"Unknown\"\n",
    "\n",
    "# find_timezone_udf = udf(find_timezone, StringType())\n",
    "\n",
    "\n",
    "# ydf_tz = ydf_uniq.withColumn(\"timezone\", find_timezone_udf(col(\"LATITUDE\"), col(\"LONGITUDE\")))\n",
    "# folder_path = \"dbfs:/student-groups/Group_4_1\"\n",
    "# ydf_tz.write.parquet(f\"{folder_path}/external/weather_tz_lookup.parquet\")"
   ]
  },
  {
   "cell_type": "code",
   "execution_count": 0,
   "metadata": {
    "application/vnd.databricks.v1+cell": {
     "cellMetadata": {
      "byteLimit": 2048000,
      "rowLimit": 10000
     },
     "inputWidgets": {},
     "nuid": "81e701d7-f345-4dbf-b50b-96e43e2b4d8c",
     "showTitle": false,
     "tableResultSettingsMap": {},
     "title": ""
    }
   },
   "outputs": [],
   "source": [
    "tz_lookup = spark.read.parquet(\"dbfs:/student-groups/Group_4_1/external/weather_tz_lookup.parquet\")"
   ]
  },
  {
   "cell_type": "code",
   "execution_count": 0,
   "metadata": {
    "application/vnd.databricks.v1+cell": {
     "cellMetadata": {
      "byteLimit": 2048000,
      "rowLimit": 10000
     },
     "inputWidgets": {},
     "nuid": "98b2e191-2a64-459f-90e2-32d6087e2468",
     "showTitle": false,
     "tableResultSettingsMap": {},
     "title": ""
    }
   },
   "outputs": [],
   "source": [
    "display(tz_lookup)"
   ]
  },
  {
   "cell_type": "code",
   "execution_count": 0,
   "metadata": {
    "application/vnd.databricks.v1+cell": {
     "cellMetadata": {
      "byteLimit": 2048000,
      "rowLimit": 10000
     },
     "inputWidgets": {},
     "nuid": "77bf9962-f9f8-421d-b38d-7ff659fba4dd",
     "showTitle": false,
     "tableResultSettingsMap": {},
     "title": ""
    }
   },
   "outputs": [],
   "source": [
    "ydf_time = ydf_.join(tz_lookup.select('STATION','timezone'), ['STATION'], 'left_outer')"
   ]
  },
  {
   "cell_type": "code",
   "execution_count": 0,
   "metadata": {
    "application/vnd.databricks.v1+cell": {
     "cellMetadata": {
      "byteLimit": 2048000,
      "rowLimit": 10000
     },
     "inputWidgets": {},
     "nuid": "02f19161-f637-4868-a9e4-200c78455e01",
     "showTitle": false,
     "tableResultSettingsMap": {},
     "title": ""
    }
   },
   "outputs": [],
   "source": [
    "display(ydf_time)"
   ]
  },
  {
   "cell_type": "code",
   "execution_count": 0,
   "metadata": {
    "application/vnd.databricks.v1+cell": {
     "cellMetadata": {
      "byteLimit": 2048000,
      "rowLimit": 10000
     },
     "inputWidgets": {},
     "nuid": "dc9b6224-666a-408d-9f10-4d5f59495315",
     "showTitle": false,
     "tableResultSettingsMap": {},
     "title": ""
    }
   },
   "outputs": [],
   "source": [
    "\n",
    "\n",
    "def get_utc(datetime_str, timezone_str):\n",
    "    '''Using timezone information, get localized time of the datetime col then convert to UTC'''\n",
    "    t = pytz.timezone(timezone_str)\n",
    "    dt = datetime.strptime(datetime_str, '%Y-%m-%d %H:%M:%S')\n",
    "    local_dt = t.localize(dt)\n",
    "    utc_dt = local_dt.astimezone(pytz.utc)\n",
    "    return utc_dt\n",
    "\n",
    "get_utc_udf = udf(get_utc, TimestampType())\n",
    "\n",
    "ydf_time = ydf_time.withColumn('DATETIME', F.to_timestamp(F.col('DATETIME').cast('string')))\n",
    "ydf_time = ydf_time.withColumn('utc_datetime', get_utc_udf(F.col('DATETIME').cast('string'), F.col('timezone')))\n",
    "\n",
    "display(ydf_time)"
   ]
  },
  {
   "cell_type": "code",
   "execution_count": 0,
   "metadata": {
    "application/vnd.databricks.v1+cell": {
     "cellMetadata": {
      "byteLimit": 2048000,
      "rowLimit": 10000
     },
     "inputWidgets": {},
     "nuid": "999715a9-7253-45ba-9fd6-db23fa14ed70",
     "showTitle": false,
     "tableResultSettingsMap": {},
     "title": ""
    }
   },
   "outputs": [],
   "source": [
    "ydf_time = ydf_time.drop(F.col('DATE'))"
   ]
  },
  {
   "cell_type": "code",
   "execution_count": 0,
   "metadata": {
    "application/vnd.databricks.v1+cell": {
     "cellMetadata": {
      "byteLimit": 2048000,
      "rowLimit": 10000
     },
     "inputWidgets": {},
     "nuid": "a47bd6f4-c767-4230-b78e-1ec77f0f0877",
     "showTitle": false,
     "tableResultSettingsMap": {},
     "title": ""
    }
   },
   "outputs": [],
   "source": [
    "ydf_time = ydf_time.drop(F.col('COUNTRY'))"
   ]
  },
  {
   "cell_type": "code",
   "execution_count": 0,
   "metadata": {
    "application/vnd.databricks.v1+cell": {
     "cellMetadata": {},
     "inputWidgets": {},
     "nuid": "1b92449b-14b4-4d03-bca5-3b8437cfc897",
     "showTitle": false,
     "tableResultSettingsMap": {},
     "title": ""
    }
   },
   "outputs": [],
   "source": []
  },
  {
   "cell_type": "code",
   "execution_count": 0,
   "metadata": {
    "application/vnd.databricks.v1+cell": {
     "cellMetadata": {},
     "inputWidgets": {},
     "nuid": "5972d0e9-1551-464c-977b-e72deefb23ea",
     "showTitle": false,
     "tableResultSettingsMap": {},
     "title": ""
    }
   },
   "outputs": [],
   "source": [
    "ydf_.count()"
   ]
  },
  {
   "cell_type": "markdown",
   "metadata": {
    "application/vnd.databricks.v1+cell": {
     "cellMetadata": {},
     "inputWidgets": {},
     "nuid": "50868e42-f9b3-4c8d-a077-a6bc64240c3c",
     "showTitle": false,
     "tableResultSettingsMap": {},
     "title": ""
    }
   },
   "source": [
    "# Interpolation"
   ]
  },
  {
   "cell_type": "markdown",
   "metadata": {
    "application/vnd.databricks.v1+cell": {
     "cellMetadata": {},
     "inputWidgets": {},
     "nuid": "4ac8f2a4-439e-4090-9823-90af6c51d657",
     "showTitle": false,
     "tableResultSettingsMap": {},
     "title": ""
    }
   },
   "source": [
    "## Step 1: Create Time Grid [checkpointed]"
   ]
  },
  {
   "cell_type": "code",
   "execution_count": 0,
   "metadata": {
    "application/vnd.databricks.v1+cell": {
     "cellMetadata": {
      "byteLimit": 2048000,
      "rowLimit": 10000
     },
     "inputWidgets": {},
     "nuid": "66cc8ae7-bbf0-41df-aaef-3a4d4a866605",
     "showTitle": false,
     "tableResultSettingsMap": {},
     "title": ""
    }
   },
   "outputs": [],
   "source": [
    "null_counts = ydf_.select([count(when(isnan(c) | col(c).isNull(), c)).alias(c) for c in ydf_.columns])\n",
    "display(null_counts) #brief look at how much interpolation we need to do \n"
   ]
  },
  {
   "cell_type": "code",
   "execution_count": 0,
   "metadata": {
    "application/vnd.databricks.v1+cell": {
     "cellMetadata": {
      "byteLimit": 2048000,
      "rowLimit": 10000
     },
     "inputWidgets": {},
     "nuid": "e8f45db7-0d5d-4019-96cd-8a6c293b1307",
     "showTitle": false,
     "tableResultSettingsMap": {},
     "title": ""
    }
   },
   "outputs": [],
   "source": [
    "#get to the nearest hour in case measurements are not precisely on the minute\n",
    "\n",
    "ydf_time = ydf_time.withColumn(\n",
    "    \"DATETIME_HOURLY\",\n",
    "    F.date_trunc(\"hour\", F.col(\"utc_datetime\"))\n",
    ")"
   ]
  },
  {
   "cell_type": "code",
   "execution_count": 0,
   "metadata": {
    "application/vnd.databricks.v1+cell": {
     "cellMetadata": {},
     "inputWidgets": {},
     "nuid": "e8c3910e-1006-48e1-94d6-cb6b0c8d6289",
     "showTitle": false,
     "tableResultSettingsMap": {},
     "title": ""
    }
   },
   "outputs": [],
   "source": [
    "ydf_time.count()"
   ]
  },
  {
   "cell_type": "code",
   "execution_count": 0,
   "metadata": {
    "application/vnd.databricks.v1+cell": {
     "cellMetadata": {
      "byteLimit": 2048000,
      "rowLimit": 10000
     },
     "inputWidgets": {},
     "nuid": "8548eee1-0183-42e2-9d3c-d67569d1369d",
     "showTitle": false,
     "tableResultSettingsMap": {},
     "title": ""
    }
   },
   "outputs": [],
   "source": [
    "display(ydf_time.limit(10))"
   ]
  },
  {
   "cell_type": "code",
   "execution_count": 0,
   "metadata": {
    "application/vnd.databricks.v1+cell": {
     "cellMetadata": {
      "byteLimit": 2048000,
      "rowLimit": 10000
     },
     "inputWidgets": {},
     "nuid": "319ea665-4b6d-4bbe-bba9-35085762a49d",
     "showTitle": false,
     "tableResultSettingsMap": {},
     "title": ""
    }
   },
   "outputs": [],
   "source": [
    "\n",
    "def date_range(t1, t2, step=60*60): #hourly data\n",
    "    \"\"\"Return a list of equally spaced points between t1 and t2 with stepsize step.\"\"\"\n",
    "    return [t1 + step*x for x in range(int((t2-t1)/step)+1)]\n",
    "\n",
    "date_range_udf = F.udf(date_range, ArrayType(LongType()))\n",
    "\n",
    "\n",
    "grid = ydf_time.groupBy('STATION')\\\n",
    "            .agg(F.min('DATETIME_HOURLY').cast('integer').alias('datetime_min'), \n",
    "                 F.max('DATETIME_HOURLY').cast('integer').alias('datetime_max')) \\\n",
    "            .withColumn(\"DATETIME_HOURLY\",\n",
    "                        F.explode(\n",
    "                            date_range_udf(\"datetime_min\", \n",
    "                                           \"datetime_max\")\n",
    "                            )\n",
    "                        ) \\\n",
    "\n",
    "\n",
    "grid = grid.drop('datetime_min','datetime_max') \\\n",
    "    .withColumn(\"DATETIME_HOURLY\", F.col(\"DATETIME_HOURLY\").cast('timestamp'))"
   ]
  },
  {
   "cell_type": "code",
   "execution_count": 0,
   "metadata": {
    "application/vnd.databricks.v1+cell": {
     "cellMetadata": {
      "byteLimit": 2048000,
      "rowLimit": 10000
     },
     "inputWidgets": {},
     "nuid": "52cd5bb3-60b8-4ae1-851a-ab7af2ab909f",
     "showTitle": false,
     "tableResultSettingsMap": {},
     "title": ""
    }
   },
   "outputs": [],
   "source": []
  },
  {
   "cell_type": "code",
   "execution_count": 0,
   "metadata": {
    "application/vnd.databricks.v1+cell": {
     "cellMetadata": {
      "byteLimit": 2048000,
      "rowLimit": 10000
     },
     "inputWidgets": {},
     "nuid": "4c1290c4-a5f4-49d1-8faf-2eda07a02eb1",
     "showTitle": false,
     "tableResultSettingsMap": {},
     "title": ""
    }
   },
   "outputs": [],
   "source": [
    "display(grid.limit(10))"
   ]
  },
  {
   "cell_type": "code",
   "execution_count": 0,
   "metadata": {
    "application/vnd.databricks.v1+cell": {
     "cellMetadata": {},
     "inputWidgets": {},
     "nuid": "ee79d5dd-7ec1-4113-8266-8e1663c68896",
     "showTitle": false,
     "tableResultSettingsMap": {},
     "title": ""
    }
   },
   "outputs": [],
   "source": []
  },
  {
   "cell_type": "code",
   "execution_count": 0,
   "metadata": {
    "application/vnd.databricks.v1+cell": {
     "cellMetadata": {
      "byteLimit": 2048000,
      "rowLimit": 10000
     },
     "inputWidgets": {},
     "nuid": "58a061d6-d3f9-47d4-bd23-40f8cc4d6c2a",
     "showTitle": false,
     "tableResultSettingsMap": {},
     "title": ""
    }
   },
   "outputs": [],
   "source": [
    "display(ydf_time.withColumn(\n",
    "    \"formatted_datetime\",\n",
    "    F.date_format(F.col(\"DATETIME_HOURLY\"), \"yyyy-MM-dd'T'HH:mm:ss.SSSXXX\")\n",
    ").select('DATETIME','timezone','utc_datetime','DATETIME_HOURLY','formatted_datetime')\n",
    ")"
   ]
  },
  {
   "cell_type": "code",
   "execution_count": 0,
   "metadata": {
    "application/vnd.databricks.v1+cell": {
     "cellMetadata": {
      "byteLimit": 2048000,
      "rowLimit": 10000
     },
     "inputWidgets": {},
     "nuid": "2ca5f7f6-b00e-414f-97da-0ca21701002e",
     "showTitle": false,
     "tableResultSettingsMap": {},
     "title": ""
    }
   },
   "outputs": [],
   "source": [
    "ydf_grid = grid.join(ydf_time, [\"STATION\", \"DATETIME_HOURLY\"], \"left_outer\")\n"
   ]
  },
  {
   "cell_type": "code",
   "execution_count": 0,
   "metadata": {
    "application/vnd.databricks.v1+cell": {
     "cellMetadata": {
      "byteLimit": 2048000,
      "rowLimit": 10000
     },
     "inputWidgets": {},
     "nuid": "3a33b7ee-1460-48fa-a5c7-22bfe7899ba0",
     "showTitle": false,
     "tableResultSettingsMap": {},
     "title": ""
    }
   },
   "outputs": [],
   "source": [
    "display(ydf_grid.limit(10))"
   ]
  },
  {
   "cell_type": "code",
   "execution_count": 0,
   "metadata": {
    "application/vnd.databricks.v1+cell": {
     "cellMetadata": {
      "byteLimit": 2048000,
      "rowLimit": 10000
     },
     "inputWidgets": {},
     "nuid": "6ec412b0-2f65-49b6-b8b9-18268e96b94a",
     "showTitle": false,
     "tableResultSettingsMap": {},
     "title": ""
    }
   },
   "outputs": [],
   "source": [
    "\n",
    "### checkpoint\n",
    "\n",
    "checkpoint_path = \"dbfs:/student-groups/Group_4_1/interim/weather_1y_grid\"\n",
    "\n",
    "# Set the checkpoint directory in the Spark context\n",
    "spark.sparkContext.setCheckpointDir(checkpoint_path)\n",
    "\n",
    "ydf_grid_ = ydf_grid.checkpoint(eager=True)\n",
    "ydf_grid_.write.mode('overwrite').parquet(checkpoint_path)\n"
   ]
  },
  {
   "cell_type": "markdown",
   "metadata": {
    "application/vnd.databricks.v1+cell": {
     "cellMetadata": {},
     "inputWidgets": {},
     "nuid": "3c9c0f1e-9a87-463e-8bdf-6fdf0abaad9d",
     "showTitle": false,
     "tableResultSettingsMap": {},
     "title": ""
    }
   },
   "source": [
    "## Step 2: Nearest station data"
   ]
  },
  {
   "cell_type": "markdown",
   "metadata": {
    "application/vnd.databricks.v1+cell": {
     "cellMetadata": {},
     "inputWidgets": {},
     "nuid": "e71bbec7-4470-4043-8470-6ed41d6e666f",
     "showTitle": false,
     "tableResultSettingsMap": {},
     "title": ""
    }
   },
   "source": [
    "[FAA](https://www.faa.gov/air_traffic/publications/atpubs/aim_html/chap7_section_1.html) \n",
    "\n",
    "[AERMET user guide](https://gaftp.epa.gov/Air/aqmg/SCRAM/models/met/aermet/aermet_userguide.pdf):\n",
    "- If the dry-bulb or dew-point temperature is missing at some level, then an estimate for the missing temperature is made by linearly interpolating to the level in question. The data from the level immediately below and above the level in question are used. \n",
    "  - If the data that are required for the interpolation are also missing, then no interpolation is performed.\n",
    "\n",
    "- the AERMET program includes substitutions for missing cloud cover and temperature data based on linear interpolation across gaps of one or two hours. \n",
    "  - Linear interpolation across short gaps is a reasonable approach for these variables since ambient temperatures tend to follow a diurnal cycle and do not vary significantly from hour to hour. \n",
    "  -  AERMOD relatively insensitive to hourly fluctuations in cloud cover, especially during convective hours since the heat flux is integrated across the day.\n",
    "  - Gaps of 1-2 hrs for these params near  early morning transition to a convective boundary layer may result in all convective hours for that day being missing since key parameters needed for the convective height processing are not calculated. \n",
    "    - Substitution of temperature and cloud cover may allow for the needed parameters to be calculated and subsequently, the convective parameters to be calculated. \n",
    "\n",
    "- Substitutions are based on linear interpolation across gaps of 1-2 hrs. Interpolations are only made based on non-interpolated values on both sides of the data gap"
   ]
  },
  {
   "cell_type": "markdown",
   "metadata": {
    "application/vnd.databricks.v1+cell": {
     "cellMetadata": {},
     "inputWidgets": {},
     "nuid": "3cb5e1ca-8180-4d89-9f2a-2b701c3e6143",
     "showTitle": false,
     "tableResultSettingsMap": {},
     "title": ""
    }
   },
   "source": [
    "brainstorming:\n",
    "- for small gaps: temporal interpolation thru usual cubic spline (don't want to make interpolations off interpolations)\n",
    "- for large gaps: spatial interpolation ie cressman scheme, with/without modified idw for elevation affected vars\n"
   ]
  },
  {
   "cell_type": "markdown",
   "metadata": {
    "application/vnd.databricks.v1+cell": {
     "cellMetadata": {},
     "inputWidgets": {},
     "nuid": "a4d16683-831c-4b91-822a-45825a539ef3",
     "showTitle": false,
     "tableResultSettingsMap": {},
     "title": ""
    }
   },
   "source": []
  },
  {
   "cell_type": "code",
   "execution_count": 0,
   "metadata": {
    "application/vnd.databricks.v1+cell": {
     "cellMetadata": {
      "byteLimit": 2048000,
      "rowLimit": 10000
     },
     "inputWidgets": {},
     "nuid": "14eca080-d89e-4b0d-bd0c-cf3b9cf4dd99",
     "showTitle": false,
     "tableResultSettingsMap": {},
     "title": ""
    }
   },
   "outputs": [],
   "source": [
    "checkpoint_path = \"dbfs:/student-groups/Group_4_1/interim/weather_1y_grid\"\n",
    "\n",
    "ydf_grid = spark.read.parquet(checkpoint_path)\n",
    "display(ydf_grid)"
   ]
  },
  {
   "cell_type": "code",
   "execution_count": 0,
   "metadata": {
    "application/vnd.databricks.v1+cell": {
     "cellMetadata": {
      "byteLimit": 2048000,
      "rowLimit": 10000
     },
     "inputWidgets": {},
     "nuid": "2706093e-304a-47e7-912b-99836dd3696e",
     "showTitle": false,
     "tableResultSettingsMap": {},
     "title": ""
    }
   },
   "outputs": [],
   "source": [
    "display(ydf_grid.filter(F.col('DATETIME').isNull()))"
   ]
  },
  {
   "cell_type": "code",
   "execution_count": 0,
   "metadata": {
    "application/vnd.databricks.v1+cell": {
     "cellMetadata": {
      "byteLimit": 2048000,
      "rowLimit": 10000
     },
     "inputWidgets": {},
     "nuid": "6a89bbab-7e54-490a-ab91-188ff4c82357",
     "showTitle": false,
     "tableResultSettingsMap": {},
     "title": ""
    }
   },
   "outputs": [],
   "source": [
    "display(mshr_df.filter(F.col('WBAN_ID') == '27503'))"
   ]
  },
  {
   "cell_type": "code",
   "execution_count": 0,
   "metadata": {
    "application/vnd.databricks.v1+cell": {
     "cellMetadata": {
      "byteLimit": 2048000,
      "rowLimit": 10000
     },
     "inputWidgets": {},
     "nuid": "fdbc11c1-734e-40eb-8f3e-2f3596c7d00f",
     "showTitle": false,
     "tableResultSettingsMap": {},
     "title": ""
    }
   },
   "outputs": [],
   "source": [
    "null_counts = ydf_grid.select([\n",
    "    count(when(isnan(c) | col(c).isNull(), c)).alias(c)\n",
    "    if ydf_grid.schema[c].dataType in ['DoubleType', 'FloatType']\n",
    "    else count(when(col(c).isNull(), c)).alias(c)\n",
    "    for c in ydf_grid.columns\n",
    "])\n",
    "display(null_counts)\n",
    " #brief look at how much interpolation we need to do \n"
   ]
  },
  {
   "cell_type": "code",
   "execution_count": 0,
   "metadata": {
    "application/vnd.databricks.v1+cell": {
     "cellMetadata": {},
     "inputWidgets": {},
     "nuid": "023a838b-539e-41dc-8240-4ee0c4fa0c50",
     "showTitle": false,
     "tableResultSettingsMap": {},
     "title": ""
    }
   },
   "outputs": [],
   "source": []
  },
  {
   "cell_type": "code",
   "execution_count": 0,
   "metadata": {
    "application/vnd.databricks.v1+cell": {
     "cellMetadata": {},
     "inputWidgets": {},
     "nuid": "5946515c-d706-445c-930c-ca1690bbc3e2",
     "showTitle": false,
     "tableResultSettingsMap": {},
     "title": ""
    }
   },
   "outputs": [],
   "source": [
    "\n",
    "\n",
    "def get_utc(datetime_str, timezone_str):\n",
    "    '''Using timezone information, get localized time of the datetime col then convert to UTC'''\n",
    "    t = pytz.timezone(timezone_str)\n",
    "    dt = datetime.strptime(datetime_str, '%Y-%m-%d %H:%M:%S')\n",
    "    local_dt = t.localize(dt)\n",
    "    utc_dt = local_dt.astimezone(pytz.utc)\n",
    "    return utc_dt\n",
    "\n",
    "get_utc_udf = udf(get_utc, TimestampType())\n",
    "\n",
    "ydf_time = ydf_time.withColumn('DATETIME', F.to_timestamp(F.col('DATETIME').cast('string')))\n",
    "ydf_time = ydf_time.withColumn('utc_datetime', get_utc_udf(F.col('DATETIME').cast('string'), F.col('timezone')))\n"
   ]
  }
 ],
 "metadata": {
  "application/vnd.databricks.v1+notebook": {
   "computePreferences": null,
   "dashboards": [],
   "environmentMetadata": {
    "base_environment": "",
    "environment_version": "2"
   },
   "inputWidgetPreferences": null,
   "language": "python",
   "notebookMetadata": {
    "pythonIndentUnit": 4
   },
   "notebookName": "0.03-sg-weather-clean-sandbox",
   "widgets": {}
  },
  "language_info": {
   "name": "python"
  }
 },
 "nbformat": 4,
 "nbformat_minor": 0
}
