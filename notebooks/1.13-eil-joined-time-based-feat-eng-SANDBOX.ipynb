{
 "cells": [
  {
   "cell_type": "markdown",
   "metadata": {
    "application/vnd.databricks.v1+cell": {
     "cellMetadata": {
      "byteLimit": 2048000,
      "rowLimit": 10000
     },
     "inputWidgets": {},
     "nuid": "b64f242b-429c-43c7-b872-f4ebafec26ae",
     "showTitle": false,
     "tableResultSettingsMap": {},
     "title": ""
    }
   },
   "source": [
    "## Testing out recency features\n",
    "\n",
    "Idea: Get the average proportion of flights that were delayed and/or average delay amount at a flight's origin airport (stats taken over flights that occurred between UTC-4 and UTC-2)"
   ]
  },
  {
   "cell_type": "code",
   "execution_count": 0,
   "metadata": {
    "application/vnd.databricks.v1+cell": {
     "cellMetadata": {
      "byteLimit": 2048000,
      "rowLimit": 10000
     },
     "inputWidgets": {},
     "nuid": "33d06a03-5c3f-4f56-b00f-fef8ea6125f0",
     "showTitle": false,
     "tableResultSettingsMap": {},
     "title": ""
    }
   },
   "outputs": [],
   "source": [
    "from pyspark.sql.functions import col, lag\n",
    "from pyspark.sql.window import Window\n",
    "import pyspark.sql.functions as F\n",
    "import time\n",
    "from pyspark.sql.functions import col, when, to_timestamp, lit, udf, lag, pandas_udf, isnan, array, array_contains, explode, lit, countDistinct, first, last, unix_timestamp, to_date, to_timestamp, date_format, date_add"
   ]
  },
  {
   "cell_type": "code",
   "execution_count": 0,
   "metadata": {
    "application/vnd.databricks.v1+cell": {
     "cellMetadata": {
      "byteLimit": 2048000,
      "rowLimit": 10000
     },
     "inputWidgets": {},
     "nuid": "d7724144-1682-43ae-b542-446ee5137a54",
     "showTitle": false,
     "tableResultSettingsMap": {},
     "title": ""
    }
   },
   "outputs": [],
   "source": [
    "# data time period\n",
    "period = \"1y\" # on of the following values (\"\", \"3m\", \"6m\", \"1y\")\n",
    "\n",
    "# define what departure time variable is called\n",
    "dep_utc_varname = \"sched_depart_utc\""
   ]
  },
  {
   "cell_type": "code",
   "execution_count": 0,
   "metadata": {
    "application/vnd.databricks.v1+cell": {
     "cellMetadata": {
      "byteLimit": 2048000,
      "rowLimit": 10000
     },
     "inputWidgets": {},
     "nuid": "f51cabfa-6c82-4a83-9a0e-013e73f9a87b",
     "showTitle": false,
     "tableResultSettingsMap": {},
     "title": ""
    }
   },
   "outputs": [],
   "source": [
    "team_BASE_DIR = f\"dbfs:/student-groups/Group_4_1\"\n",
    "spark.sparkContext.setCheckpointDir(f\"{team_BASE_DIR}/modeling_checkpoints\")\n",
    "\n",
    "# read in joined, cleaned dataset\n",
    "df = spark.read.parquet(f\"{team_BASE_DIR}/interim/join_checkpoints/joined_{period}_weather_cleaned_combo.parquet\")\n",
    "# dbfs:/student-groups/Group_4_1/interim/join_checkpoints/joined_1y_cleaned_engineered.parquet\n",
    "\n",
    "df = df.withColumn(\"outcome\", (when((col(\"DEP_DELAY\") >= 15) | (col(\"CANCELLED\") == 1), 1).otherwise(0)).cast(\"double\"))\n",
    "\n",
    "df.cache()\n"
   ]
  },
  {
   "cell_type": "code",
   "execution_count": 0,
   "metadata": {
    "application/vnd.databricks.v1+cell": {
     "cellMetadata": {
      "byteLimit": 2048000,
      "rowLimit": 10000
     },
     "inputWidgets": {},
     "nuid": "7fd47a5e-0b45-4d0c-83cf-cefed65765af",
     "showTitle": false,
     "tableResultSettingsMap": {},
     "title": ""
    }
   },
   "outputs": [],
   "source": [
    "display(df)"
   ]
  },
  {
   "cell_type": "code",
   "execution_count": 0,
   "metadata": {
    "application/vnd.databricks.v1+cell": {
     "cellMetadata": {
      "byteLimit": 2048000,
      "rowLimit": 10000
     },
     "inputWidgets": {},
     "nuid": "342d8566-0e51-4405-80a8-0e0a97986f8e",
     "showTitle": false,
     "tableResultSettingsMap": {},
     "title": ""
    }
   },
   "outputs": [],
   "source": [
    "# for testing, just look at BOS and ATL\n",
    "dd = df.select(df.ORIGIN,\n",
    "               df.sched_depart_utc,\n",
    "               df.two_hours_prior_depart_UTC,\n",
    "               df.four_hours_prior_depart_UTC,\n",
    "               df.DEP_DELAY,\n",
    "               df.CANCELLED,\n",
    "               df.outcome) \\\n",
    "        .where((df.ORIGIN==\"BOS\") | (df.ORIGIN==\"ATL\")).orderBy(df.sched_depart_utc) \\\n",
    "        .limit(20000)\n",
    "# dd = dd.dropna(subset=[\"DEP_DELAY\"]) # !!! FIX NULL HANDLING\n",
    "dd.cache()\n",
    "display(dd)\n"
   ]
  },
  {
   "cell_type": "code",
   "execution_count": 0,
   "metadata": {
    "application/vnd.databricks.v1+cell": {
     "cellMetadata": {
      "byteLimit": 2048000,
      "rowLimit": 10000
     },
     "inputWidgets": {},
     "nuid": "87d51a7b-5e53-4979-931f-8f0036ebf5b0",
     "showTitle": false,
     "tableResultSettingsMap": {},
     "title": ""
    }
   },
   "outputs": [],
   "source": [
    "from datetime import datetime, timedelta, time\n",
    "from pyspark.sql.types import TimestampType"
   ]
  },
  {
   "cell_type": "code",
   "execution_count": 0,
   "metadata": {
    "application/vnd.databricks.v1+cell": {
     "cellMetadata": {
      "byteLimit": 2048000,
      "rowLimit": 10000
     },
     "inputWidgets": {},
     "nuid": "572e80c9-b0c9-4bf5-b7dd-de7975149cda",
     "showTitle": false,
     "tableResultSettingsMap": {},
     "title": ""
    }
   },
   "outputs": [],
   "source": [
    "def get_act_dep_time(sched_dep_time, DEP_DELAY):\n",
    "    if DEP_DELAY is None:\n",
    "        return sched_dep_time # !!! ???\n",
    "    return sched_dep_time + timedelta(minutes=DEP_DELAY)\n",
    "\n",
    "act_def_udf = F.udf(get_act_dep_time, TimestampType())\n",
    "\n",
    "dd = dd.withColumn(\"act_dep_datetime\", act_def_udf(col(\"sched_depart_utc\"), col(\"DEP_DELAY\")))\n",
    "dd.cache()\n",
    "display(dd)"
   ]
  },
  {
   "cell_type": "code",
   "execution_count": 0,
   "metadata": {
    "application/vnd.databricks.v1+cell": {
     "cellMetadata": {
      "byteLimit": 2048000,
      "rowLimit": 10000
     },
     "inputWidgets": {},
     "nuid": "7c9713be-49d6-4cbb-8922-416b6da6d723",
     "showTitle": false,
     "tableResultSettingsMap": {},
     "title": ""
    }
   },
   "outputs": [],
   "source": [
    "# Get the minimum DEP_DELAY value\n",
    "from pyspark.sql.functions import min\n",
    "min_dep_delay = dd.agg(min(col(\"DEP_DELAY\"))).collect()[0][0]\n",
    "\n",
    "\n",
    "print(f\"Minimum DEP_DELAY value: {min_dep_delay}\")\n",
    "dd = dd.fillna({'DEP_DELAY': -99999})\n",
    "dd.cache()"
   ]
  },
  {
   "cell_type": "code",
   "execution_count": 0,
   "metadata": {
    "application/vnd.databricks.v1+cell": {
     "cellMetadata": {
      "byteLimit": 2048000,
      "rowLimit": 10000
     },
     "inputWidgets": {},
     "nuid": "83ed37b6-df8e-48f4-b077-5c4c24d38ab4",
     "showTitle": false,
     "tableResultSettingsMap": {},
     "title": ""
    }
   },
   "outputs": [],
   "source": [
    "\n",
    "from pyspark.sql.window import Window\n",
    "from pyspark.sql.functions import col, mean, when, collect_list\n",
    "\n",
    "# CURRENT KLUGE: GRAB LAST 1000 ROWS\n",
    "# window specification sets window to times between 4 and 2 hours prior to scheduled departure\n",
    "window_spec = Window.partitionBy(\"ORIGIN\").orderBy(\"sched_depart_utc\").rowsBetween(-1000,0)\n",
    "\n",
    "# # mean\n",
    "# dd_with_mean_delay = dd.withColumn(\n",
    "#     \"mean_dep_delay\",\n",
    "#     mean(when(col(\"act_dep_datetime\") < col(\"two_hours_prior_depart_UTC\"), col(\"DEP_DELAY\")).otherwise(0)).over(window_spec)\n",
    "# )\n",
    "\n",
    "# mean\n",
    "dd_with_delays = dd.withColumn(\n",
    "    \"delays_within_window\",\n",
    "    collect_list(col(\"DEP_DELAY\")).over(window_spec)) \\\n",
    "    .withColumn(\n",
    "    \"act_dep_within_window\",\n",
    "    collect_list(col(\"act_dep_datetime\")).over(window_spec)) \\\n",
    "    .withColumn(\n",
    "    \"outcome_within_window\",\n",
    "    collect_list(col(\"outcome\")).over(window_spec))\n",
    "\n",
    "display(dd_with_delays)\n",
    "\n"
   ]
  },
  {
   "cell_type": "code",
   "execution_count": 0,
   "metadata": {
    "application/vnd.databricks.v1+cell": {
     "cellMetadata": {
      "byteLimit": 2048000,
      "rowLimit": 10000
     },
     "inputWidgets": {},
     "nuid": "043a0539-cd6a-48fc-b065-696a27a34476",
     "showTitle": false,
     "tableResultSettingsMap": {},
     "title": ""
    }
   },
   "outputs": [],
   "source": [
    "display(dd_with_delays.filter(dd_with_delays.sched_depart_utc > \"2019-01-03T12:33:00.000+00:00\"))"
   ]
  },
  {
   "cell_type": "code",
   "execution_count": 0,
   "metadata": {
    "application/vnd.databricks.v1+cell": {
     "cellMetadata": {
      "byteLimit": 2048000,
      "rowLimit": 10000
     },
     "inputWidgets": {},
     "nuid": "ee94dfce-9f20-4cda-81b0-9dda67744d46",
     "showTitle": false,
     "tableResultSettingsMap": {},
     "title": ""
    }
   },
   "outputs": [],
   "source": [
    "from pyspark.sql.types import FloatType\n",
    "import numpy as np\n",
    "\n",
    "def get_delay_mean(delays, act_dep, two_hours_prior, four_hours_prior):\n",
    "    delays = np.array(delays)\n",
    "    act_dep = np.array(act_dep)\n",
    "    d = delays[(act_dep < two_hours_prior) & (act_dep > four_hours_prior) & (delays != -99999)].astype(np.float)\n",
    "    return float(np.mean(d)) if len(d) > 0 else None\n",
    "\n",
    "delay_mean_udf = F.udf(get_delay_mean, FloatType())\n",
    "\n",
    "def get_delay_proportion(outcome, act_dep, two_hours_prior, four_hours_prior):\n",
    "    outcome = np.array(outcome)\n",
    "    act_dep = np.array(act_dep)\n",
    "    d = outcome[(act_dep < two_hours_prior) & (act_dep > four_hours_prior)].astype(np.float)\n",
    "    return float(np.mean(d)) if len(d) > 0 else None\n",
    "\n",
    "delay_prop_udf = F.udf(get_delay_proportion, FloatType())"
   ]
  },
  {
   "cell_type": "code",
   "execution_count": 0,
   "metadata": {
    "application/vnd.databricks.v1+cell": {
     "cellMetadata": {
      "byteLimit": 2048000,
      "rowLimit": 10000
     },
     "inputWidgets": {},
     "nuid": "365c5980-56bf-4f26-b9fd-d8d5c138ba0f",
     "showTitle": false,
     "tableResultSettingsMap": {},
     "title": ""
    }
   },
   "outputs": [],
   "source": [
    "dd_with_mean_delay = dd_with_delays.withColumn(\"mean_dep_delay\", delay_mean_udf(col(\"delays_within_window\"), col(\"act_dep_within_window\"), col(\"two_hours_prior_depart_UTC\"), col(\"four_hours_prior_depart_UTC\"))) \\\n",
    "    .withColumn(\"prop_delayed\", delay_prop_udf(col(\"outcome_within_window\"), col(\"act_dep_within_window\"), col(\"two_hours_prior_depart_UTC\"), col(\"four_hours_prior_depart_UTC\")))\n",
    "\n",
    "display(dd_with_mean_delay)"
   ]
  },
  {
   "cell_type": "code",
   "execution_count": 0,
   "metadata": {
    "application/vnd.databricks.v1+cell": {
     "cellMetadata": {
      "byteLimit": 2048000,
      "rowLimit": 10000
     },
     "inputWidgets": {},
     "nuid": "f41f0deb-f01b-4660-bd88-0a3d9e54633d",
     "showTitle": false,
     "tableResultSettingsMap": {},
     "title": ""
    }
   },
   "outputs": [],
   "source": [
    "display(dd_with_mean_delay.filter(dd_with_mean_delay.sched_depart_utc > \"2019-01-03T12:33:00.000+00:00\") \\\n",
    "    .filter(dd_with_mean_delay.ORIGIN == \"BOS\"))"
   ]
  },
  {
   "cell_type": "code",
   "execution_count": 0,
   "metadata": {
    "application/vnd.databricks.v1+cell": {
     "cellMetadata": {
      "byteLimit": 2048000,
      "rowLimit": 10000
     },
     "inputWidgets": {},
     "nuid": "12306469-0296-41bd-b982-681663ff19d3",
     "showTitle": false,
     "tableResultSettingsMap": {},
     "title": ""
    }
   },
   "outputs": [],
   "source": [
    "def get_delay_mean(delays, act_dep, two_hours_prior):\n",
    "    try:\n",
    "        delays = np.array(delays)\n",
    "        act_dep = np.array(act_dep)\n",
    "        d = delays[(act_dep < two_hours_prior) & ~np.isnan(delays)].astype(np.float)\n",
    "        return float(np.mean(d)) if len(d) > 0 else None\n",
    "    except:\n",
    "        return None"
   ]
  },
  {
   "cell_type": "markdown",
   "metadata": {
    "application/vnd.databricks.v1+cell": {
     "cellMetadata": {
      "byteLimit": 2048000,
      "rowLimit": 10000
     },
     "inputWidgets": {},
     "nuid": "eddb7817-d6eb-4997-93b8-d59b3a319009",
     "showTitle": false,
     "tableResultSettingsMap": {},
     "title": ""
    }
   },
   "source": [
    "## Plot results to sanity check"
   ]
  },
  {
   "cell_type": "code",
   "execution_count": 0,
   "metadata": {
    "application/vnd.databricks.v1+cell": {
     "cellMetadata": {
      "byteLimit": 2048000,
      "rowLimit": 10000
     },
     "inputWidgets": {},
     "nuid": "a192c3ca-6e31-40cc-bd89-c6ae17b449c8",
     "showTitle": false,
     "tableResultSettingsMap": {},
     "title": ""
    }
   },
   "outputs": [],
   "source": [
    "data = dd_with_mean_delay.select(\"ORIGIN\",\"sched_depart_utc\",\"DEP_DELAY\",\"mean_dep_delay\",\"prop_delayed\").orderBy(\"sched_depart_utc\").toPandas()\n",
    "display(data)"
   ]
  },
  {
   "cell_type": "code",
   "execution_count": 0,
   "metadata": {
    "application/vnd.databricks.v1+cell": {
     "cellMetadata": {
      "byteLimit": 2048000,
      "rowLimit": 10000
     },
     "inputWidgets": {},
     "nuid": "3bcf4df8-45c7-4c3c-92e0-4ce11491d7d3",
     "showTitle": false,
     "tableResultSettingsMap": {},
     "title": ""
    }
   },
   "outputs": [],
   "source": [
    "import matplotlib.pyplot as plt\n",
    "\n",
    "origins = [\"BOS\",\"ATL\"]\n",
    "for o in origins:\n",
    "    tmp = data.loc[data.ORIGIN == o]\n",
    "    plt.plot(tmp.sched_depart_utc, tmp.DEP_DELAY, label=\"DEP_DELAY\")\n",
    "    plt.plot(tmp.sched_depart_utc, tmp.mean_dep_delay, label=\"mean_dep_delay\")\n",
    "    plt.ylim([-10,20])\n",
    "    plt.show()\n",
    "\n",
    "# ZOOMED VIEW\n",
    "for o in origins:\n",
    "    tmp = data.loc[data.ORIGIN == o]\n",
    "    plt.plot(tmp.sched_depart_utc, tmp.DEP_DELAY, label=\"DEP_DELAY\")\n",
    "    plt.plot(tmp.sched_depart_utc, tmp.mean_dep_delay, label=\"mean_dep_delay\")\n",
    "    plt.ylim([-10,20])\n",
    "    plt.xlim([datetime.strptime(\"2019-01-02\", \"%Y-%m-%d\"), \n",
    "              datetime.strptime(\"2019-01-04\", \"%Y-%m-%d\")])\n",
    "    plt.show()"
   ]
  },
  {
   "cell_type": "code",
   "execution_count": 0,
   "metadata": {
    "application/vnd.databricks.v1+cell": {
     "cellMetadata": {
      "byteLimit": 2048000,
      "rowLimit": 10000
     },
     "inputWidgets": {},
     "nuid": "4035bbe7-c5f8-4f3a-9868-3f0fbfee27c1",
     "showTitle": false,
     "tableResultSettingsMap": {},
     "title": ""
    }
   },
   "outputs": [],
   "source": [
    "import matplotlib.pyplot as plt\n",
    "\n",
    "origins = [\"BOS\",\"ATL\"]\n",
    "for o in origins:\n",
    "    tmp = data.loc[data.ORIGIN == o]\n",
    "    plt.plot(tmp.sched_depart_utc, tmp.prop_delayed, label=\"prop_delayed\")\n",
    "    plt.show()"
   ]
  },
  {
   "cell_type": "markdown",
   "metadata": {
    "application/vnd.databricks.v1+cell": {
     "cellMetadata": {},
     "inputWidgets": {},
     "nuid": "089ff84f-362f-4757-9c64-5a6880801001",
     "showTitle": false,
     "tableResultSettingsMap": {},
     "title": ""
    }
   },
   "source": [
    "# 4/8"
   ]
  },
  {
   "cell_type": "code",
   "execution_count": 0,
   "metadata": {
    "application/vnd.databricks.v1+cell": {
     "cellMetadata": {
      "byteLimit": 2048000,
      "rowLimit": 10000
     },
     "inputWidgets": {},
     "nuid": "01c03700-dc5a-47a4-bf0a-aaf70f902dda",
     "showTitle": false,
     "tableResultSettingsMap": {},
     "title": ""
    }
   },
   "outputs": [],
   "source": [
    "from pyspark.sql.functions import col, lag\n",
    "from pyspark.sql.window import Window\n",
    "import pyspark.sql.functions as F\n",
    "import time\n",
    "from pyspark.sql.functions import col, when, to_timestamp, lit, udf, lag, pandas_udf, isnan, array, array_contains, explode, lit, countDistinct, first, last, unix_timestamp, to_date, to_timestamp, date_format, date_add\n",
    "from datetime import datetime, timedelta, time\n",
    "from pyspark.sql.types import TimestampType\n",
    "from pyspark.sql.types import FloatType\n",
    "import numpy as np\n",
    "from pyspark.sql.functions import min\n",
    "from pyspark.sql.window import Window\n",
    "from pyspark.sql.functions import col, mean, when, collect_list\n",
    "from pyspark.sql.functions import pandas_udf, PandasUDFType\n",
    "import pandas as pd\n",
    "from pyspark.sql.functions import pandas_udf, PandasUDFType\n",
    "import pandas as pd\n",
    "from pyspark.sql.window import Window\n",
    "from pyspark.sql.functions import col"
   ]
  },
  {
   "cell_type": "code",
   "execution_count": 0,
   "metadata": {
    "application/vnd.databricks.v1+cell": {
     "cellMetadata": {
      "byteLimit": 2048000,
      "rowLimit": 10000
     },
     "inputWidgets": {},
     "nuid": "048f8f60-a946-4ae3-9e19-54d5611ea1b0",
     "showTitle": false,
     "tableResultSettingsMap": {},
     "title": ""
    }
   },
   "outputs": [],
   "source": [
    "def get_act_dep_time(sched_dep_time, DEP_DELAY):\n",
    "    if DEP_DELAY is None:\n",
    "        sched_dep_time + timedelta(days=9999) # !!! ???\n",
    "    return sched_dep_time + timedelta(minutes=DEP_DELAY)\n",
    "\n",
    "act_dep_udf = F.udf(get_act_dep_time, TimestampType())\n",
    "\n",
    "def get_delay_mean(delays, act_dep, two_hours_prior, four_hours_prior):\n",
    "    delays = np.array(delays)\n",
    "    act_dep = np.array(act_dep)\n",
    "    d = delays[(act_dep < two_hours_prior) & (act_dep > four_hours_prior) & (delays != -99999)].astype(np.float)\n",
    "    return float(np.mean(d)) if len(d) > 0 else None\n",
    "\n",
    "delay_mean_udf = F.udf(get_delay_mean, FloatType())\n",
    "\n",
    "def get_delay_proportion(outcome, act_dep, two_hours_prior, four_hours_prior):\n",
    "    outcome = np.array(outcome)\n",
    "    act_dep = np.array(act_dep)\n",
    "    d = outcome[(act_dep < two_hours_prior) & (act_dep > four_hours_prior)].astype(np.float)\n",
    "    return float(np.mean(d)) if len(d) > 0 else None\n",
    "\n",
    "delay_prop_udf = F.udf(get_delay_proportion, FloatType())"
   ]
  },
  {
   "cell_type": "code",
   "execution_count": 0,
   "metadata": {
    "application/vnd.databricks.v1+cell": {
     "cellMetadata": {
      "byteLimit": 2048000,
      "rowLimit": 10000
     },
     "inputWidgets": {},
     "nuid": "d3880f64-52e8-47df-9758-b7f51a8f6fb2",
     "showTitle": false,
     "tableResultSettingsMap": {},
     "title": ""
    }
   },
   "outputs": [],
   "source": [
    "# data time period\n",
    "period = \"1y\" # on of the following values (\"\", \"3m\", \"6m\", \"1y\")\n",
    "\n",
    "# define what departure time variable is called\n",
    "dep_utc_varname = \"sched_depart_utc\""
   ]
  },
  {
   "cell_type": "code",
   "execution_count": 0,
   "metadata": {
    "application/vnd.databricks.v1+cell": {
     "cellMetadata": {
      "byteLimit": 2048000,
      "rowLimit": 10000
     },
     "inputWidgets": {},
     "nuid": "4ab9583f-8eee-4ca9-8f87-f3b0cf456ba9",
     "showTitle": false,
     "tableResultSettingsMap": {},
     "title": ""
    }
   },
   "outputs": [],
   "source": [
    "team_BASE_DIR = f\"dbfs:/student-groups/Group_4_1\"\n",
    "# spark.sparkContext.setCheckpointDir(f\"{team_BASE_DIR}/modeling_checkpoints\")\n",
    "\n",
    "# read in joined, cleaned dataset\n",
    "df = spark.read.parquet(f\"{team_BASE_DIR}/interim/join_checkpoints/joined_{period}_cleaned_engineered.parquet\")\n",
    "\n",
    "# add outcome variable\n",
    "df = df.withColumn(\"outcome\", (when((col(\"DEP_DELAY\") >= 15) | (col(\"CANCELLED\") == 1), 1).otherwise(0)).cast(\"double\"))\n",
    "df = df.withColumn(\"outcome0\", (when(col('DEP_DELAY').isNull(), None).otherwise(col(\"outcome\"))).cast(\"double\"))\n",
    "\n",
    "df.cache()"
   ]
  },
  {
   "cell_type": "code",
   "execution_count": 0,
   "metadata": {
    "application/vnd.databricks.v1+cell": {
     "cellMetadata": {
      "byteLimit": 2048000,
      "rowLimit": 10000
     },
     "inputWidgets": {},
     "nuid": "324248fd-8cc3-452f-8caa-551eb8a141c9",
     "showTitle": false,
     "tableResultSettingsMap": {},
     "title": ""
    }
   },
   "outputs": [],
   "source": [
    "# # Get the minimum DEP_DELAY value\n",
    "# min_dep_delay = df.agg(min(col(\"DEP_DELAY\"))).collect()[0][0]"
   ]
  },
  {
   "cell_type": "code",
   "execution_count": 0,
   "metadata": {
    "application/vnd.databricks.v1+cell": {
     "cellMetadata": {
      "byteLimit": 2048000,
      "rowLimit": 10000
     },
     "inputWidgets": {},
     "nuid": "a93606bb-b216-492c-bb65-f75356495027",
     "showTitle": false,
     "tableResultSettingsMap": {},
     "title": ""
    }
   },
   "outputs": [],
   "source": [
    "# # for testing, just look at BOS\n",
    "# dd = df.select(df.ORIGIN,\n",
    "#                df.sched_depart_utc,\n",
    "#                df.two_hours_prior_depart_UTC,\n",
    "#                df.four_hours_prior_depart_UTC,\n",
    "#                df.DEP_DELAY,\n",
    "#                df.FL_DATE,\n",
    "#                df.CANCELLED,\n",
    "#                df.outcome0) \\\n",
    "#         .where((df.ORIGIN==\"BOS\")).orderBy(df.sched_depart_utc) \\\n",
    "#         .filter(df.sched_depart_utc > \"2019-01-29T12:33:00.000+00:00\")\n",
    "# # dd = dd.dropna(subset=[\"DEP_DELAY\"]) # !!! FIX NULL HANDLING\n",
    "# # dd.cache()\n",
    "# display(dd)"
   ]
  },
  {
   "cell_type": "code",
   "execution_count": 0,
   "metadata": {
    "application/vnd.databricks.v1+cell": {
     "cellMetadata": {
      "byteLimit": 2048000,
      "rowLimit": 10000
     },
     "inputWidgets": {},
     "nuid": "7ff9491b-0e89-411f-8e64-9562f8a9d3d0",
     "showTitle": false,
     "tableResultSettingsMap": {},
     "title": ""
    }
   },
   "outputs": [],
   "source": [
    "dd = df.withColumn(\"DEP_DELAY0\", col(\"DEP_DELAY\")).fillna({'DEP_DELAY0': 0})\n",
    "dd.cache()"
   ]
  },
  {
   "cell_type": "code",
   "execution_count": 0,
   "metadata": {
    "application/vnd.databricks.v1+cell": {
     "cellMetadata": {
      "byteLimit": 2048000,
      "rowLimit": 10000
     },
     "inputWidgets": {},
     "nuid": "aeb51105-0d6a-487d-a2e2-e3317464c617",
     "showTitle": false,
     "tableResultSettingsMap": {},
     "title": ""
    }
   },
   "outputs": [],
   "source": [
    "dd = dd.withColumn(\"act_dep_datetime\", act_dep_udf(col(\"sched_depart_utc\"), col(\"DEP_DELAY0\")))"
   ]
  },
  {
   "cell_type": "code",
   "execution_count": 0,
   "metadata": {
    "application/vnd.databricks.v1+cell": {
     "cellMetadata": {
      "byteLimit": 2048000,
      "rowLimit": 10000
     },
     "inputWidgets": {},
     "nuid": "b29a2b17-e8a8-4c90-8162-f5c409f5d5c0",
     "showTitle": false,
     "tableResultSettingsMap": {},
     "title": ""
    }
   },
   "outputs": [],
   "source": [
    "hours = lambda i: i * 3600\n",
    "window_spec = Window.partitionBy(col(\"ORIGIN\"),col(\"FL_DATE\")) \\\n",
    "    .orderBy(col(\"sched_depart_utc\").cast(\"timestamp\").cast(\"long\")) \\\n",
    "        .rangeBetween(-hours(4),0)\n",
    "# we will eventually get just -4 to -2 hours, but using 0 in the window allows us to\n",
    "# grab the utc-2 for the 0 hour offset case\n",
    "\n",
    "dd = dd.repartition(\"ORIGIN\", \"FL_DATE\")\n",
    "\n",
    "# # sanity check window\n",
    "# dd_with_delays = dd.withColumn(\n",
    "#     \"act_dep_within_window\",\n",
    "#     collect_list(col(\"act_dep_datetime\")).over(window_spec))\n",
    "# display(dd_with_delays)\n",
    "\n"
   ]
  },
  {
   "cell_type": "markdown",
   "metadata": {
    "application/vnd.databricks.v1+cell": {
     "cellMetadata": {
      "byteLimit": 2048000,
      "rowLimit": 10000
     },
     "inputWidgets": {},
     "nuid": "5c144afe-a63d-4309-8a29-0cafccf67746",
     "showTitle": false,
     "tableResultSettingsMap": {},
     "title": ""
    }
   },
   "source": [
    "Time windowing strategy informed by: https://stackoverflow.com/questions/33207164/spark-window-functions-rangebetween-dates"
   ]
  },
  {
   "cell_type": "code",
   "execution_count": 0,
   "metadata": {
    "application/vnd.databricks.v1+cell": {
     "cellMetadata": {
      "byteLimit": 2048000,
      "rowLimit": 10000
     },
     "inputWidgets": {},
     "nuid": "998e094c-424c-4955-aa1c-caa8f532692f",
     "showTitle": false,
     "tableResultSettingsMap": {},
     "title": ""
    }
   },
   "outputs": [],
   "source": [
    "# Define a pandas UDF to calculate the mean of DEP_DELAY0 within the window\n",
    "@pandas_udf(\"double\", PandasUDFType.GROUPED_AGG)\n",
    "def mean_dep_delay_udf(dep_delays: pd.Series, act_dep_times: pd.Series, sched_dep_utc2: pd.Series) -> float:\n",
    "    d = dep_delays[(act_dep_times < np.max(sched_dep_utc2))].astype(np.float)\n",
    "    return np.nanmean(d)\n",
    "\n",
    "# Apply the UDF over the window\n",
    "dd_with_mean_delay = dd \\\n",
    "    .withColumn(\"mean_dep_delay\", \n",
    "        mean_dep_delay_udf(\n",
    "            col(\"DEP_DELAY\"),\n",
    "            col(\"act_dep_datetime\"),\n",
    "            col(\"two_hours_prior_depart_UTC\")).over(window_spec)) \\\n",
    "    .withColumn(\"prop_delayed\", \n",
    "        mean_dep_delay_udf(\n",
    "            col(\"outcome0\"),\n",
    "            col(\"act_dep_datetime\"),\n",
    "            col(\"two_hours_prior_depart_UTC\")).over(window_spec))\n",
    "\n",
    "dd_with_mean_delay.cache()\n",
    "display(dd_with_mean_delay)"
   ]
  },
  {
   "cell_type": "code",
   "execution_count": 0,
   "metadata": {
    "application/vnd.databricks.v1+cell": {
     "cellMetadata": {
      "byteLimit": 2048000,
      "rowLimit": 10000
     },
     "inputWidgets": {},
     "nuid": "76874e60-f961-4f04-8a02-0c4bb8210e00",
     "showTitle": false,
     "tableResultSettingsMap": {},
     "title": ""
    }
   },
   "outputs": [],
   "source": [
    "fn_out = f\"{team_BASE_DIR}/interim/join_checkpoints/joined_{period}_cleaned_engineered_timefeat.parquet\"\n",
    "dd_with_mean_delay.write.parquet(fn_out)\n"
   ]
  },
  {
   "cell_type": "code",
   "execution_count": 0,
   "metadata": {
    "application/vnd.databricks.v1+cell": {
     "cellMetadata": {
      "byteLimit": 2048000,
      "rowLimit": 10000
     },
     "inputWidgets": {},
     "nuid": "b9f13da7-9a4e-4220-8ea3-a61b76cf4903",
     "showTitle": false,
     "tableResultSettingsMap": {},
     "title": ""
    }
   },
   "outputs": [],
   "source": [
    "display(dbutils.fs.ls(f\"{team_BASE_DIR}/interim/join_checkpoints\"))"
   ]
  },
  {
   "cell_type": "markdown",
   "metadata": {
    "application/vnd.databricks.v1+cell": {
     "cellMetadata": {
      "byteLimit": 2048000,
      "rowLimit": 10000
     },
     "inputWidgets": {},
     "nuid": "a49c1bed-f20d-4bd7-b7ad-5b53c8d7874a",
     "showTitle": false,
     "tableResultSettingsMap": {},
     "title": ""
    }
   },
   "source": [
    "## Sanity Check"
   ]
  },
  {
   "cell_type": "code",
   "execution_count": 0,
   "metadata": {
    "application/vnd.databricks.v1+cell": {
     "cellMetadata": {
      "byteLimit": 2048000,
      "rowLimit": 10000
     },
     "inputWidgets": {},
     "nuid": "72631419-df36-4c76-9fa6-a4f6b30cc8cc",
     "showTitle": false,
     "tableResultSettingsMap": {},
     "title": ""
    }
   },
   "outputs": [],
   "source": [
    "data = dd_with_mean_delay.select(\"ORIGIN\",\"sched_depart_utc\",\"DEP_DELAY\",\"mean_dep_delay\",\"prop_delayed\").orderBy(\"sched_depart_utc\").toPandas()\n",
    "display(data)"
   ]
  },
  {
   "cell_type": "code",
   "execution_count": 0,
   "metadata": {
    "application/vnd.databricks.v1+cell": {
     "cellMetadata": {
      "byteLimit": 2048000,
      "rowLimit": 10000
     },
     "inputWidgets": {},
     "nuid": "515ef1ab-1181-45b8-869c-bd619e633d00",
     "showTitle": false,
     "tableResultSettingsMap": {},
     "title": ""
    }
   },
   "outputs": [],
   "source": [
    "import matplotlib.pyplot as plt\n",
    "\n",
    "origins = [\"BOS\"]\n",
    "for o in origins:\n",
    "    tmp = data.loc[data.ORIGIN == o]\n",
    "    plt.plot(tmp.sched_depart_utc, tmp.DEP_DELAY, label=\"DEP_DELAY\")\n",
    "    plt.plot(tmp.sched_depart_utc, tmp.mean_dep_delay, label=\"mean_dep_delay\")\n",
    "    plt.show()\n",
    "\n",
    "# ZOOMED VIEW\n",
    "for o in origins:\n",
    "    tmp = data.loc[data.ORIGIN == o]\n",
    "    plt.plot(tmp.sched_depart_utc, tmp.DEP_DELAY, label=\"DEP_DELAY\")\n",
    "    plt.plot(tmp.sched_depart_utc, tmp.mean_dep_delay, label=\"mean_dep_delay\")\n",
    "    plt.ylim([-10,20])\n",
    "    plt.xlim([datetime.strptime(\"2019-01-29\", \"%Y-%m-%d\"), \n",
    "              datetime.strptime(\"2019-01-30\", \"%Y-%m-%d\")])\n",
    "    plt.show()"
   ]
  },
  {
   "cell_type": "code",
   "execution_count": 0,
   "metadata": {
    "application/vnd.databricks.v1+cell": {
     "cellMetadata": {
      "byteLimit": 2048000,
      "rowLimit": 10000
     },
     "inputWidgets": {},
     "nuid": "b7c28e65-0e21-4437-9a99-21b1fcd62fc7",
     "showTitle": false,
     "tableResultSettingsMap": {},
     "title": ""
    }
   },
   "outputs": [],
   "source": [
    "import matplotlib.pyplot as plt\n",
    "\n",
    "origins = [\"BOS\"]\n",
    "for o in origins:\n",
    "    tmp = data.loc[data.ORIGIN == o]\n",
    "    plt.plot(tmp.sched_depart_utc, tmp.prop_delayed, label=\"prop_delayed\")\n",
    "    plt.show()"
   ]
  },
  {
   "cell_type": "code",
   "execution_count": 0,
   "metadata": {
    "application/vnd.databricks.v1+cell": {
     "cellMetadata": {
      "byteLimit": 2048000,
      "rowLimit": 10000
     },
     "inputWidgets": {},
     "nuid": "890f4c6d-0431-4b34-b1b7-cc498c36ac34",
     "showTitle": false,
     "tableResultSettingsMap": {},
     "title": ""
    }
   },
   "outputs": [],
   "source": [
    "display(dd_with_mean_delay.filter(dd_with_mean_delay.sched_depart_utc > \"2019-01-29T12:33:00.000+00:00\") \\\n",
    "    .withColumn(\n",
    "    \"act_dep_within_window\",\n",
    "    collect_list(col(\"act_dep_datetime\")).over(window_spec)))"
   ]
  },
  {
   "cell_type": "code",
   "execution_count": 0,
   "metadata": {
    "application/vnd.databricks.v1+cell": {
     "cellMetadata": {
      "byteLimit": 2048000,
      "rowLimit": 10000
     },
     "inputWidgets": {},
     "nuid": "f4e5ae17-9e0c-4216-a957-377e24a69970",
     "showTitle": false,
     "tableResultSettingsMap": {},
     "title": ""
    }
   },
   "outputs": [],
   "source": []
  }
 ],
 "metadata": {
  "application/vnd.databricks.v1+notebook": {
   "computePreferences": null,
   "dashboards": [],
   "environmentMetadata": {
    "base_environment": "",
    "environment_version": "2"
   },
   "inputWidgetPreferences": null,
   "language": "python",
   "notebookMetadata": {
    "pythonIndentUnit": 4
   },
   "notebookName": "1.13-eil-joined-time-based-feat-eng-SANDBOX",
   "widgets": {}
  },
  "language_info": {
   "name": "python"
  }
 },
 "nbformat": 4,
 "nbformat_minor": 0
}
