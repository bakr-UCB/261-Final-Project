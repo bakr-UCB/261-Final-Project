{
 "cells": [
  {
   "cell_type": "code",
   "execution_count": 0,
   "metadata": {
    "application/vnd.databricks.v1+cell": {
     "cellMetadata": {
      "byteLimit": 2048000,
      "rowLimit": 10000
     },
     "inputWidgets": {},
     "nuid": "26428bd4-1934-45ff-a4d5-f5ce050412f6",
     "showTitle": false,
     "tableResultSettingsMap": {},
     "title": ""
    }
   },
   "outputs": [],
   "source": [
    "# imports\n",
    "import pandas as pd\n",
    "import numpy as np\n",
    "import mlflow\n",
    "import mlflow.pyfunc\n"
   ]
  },
  {
   "cell_type": "code",
   "execution_count": 0,
   "metadata": {
    "application/vnd.databricks.v1+cell": {
     "cellMetadata": {
      "byteLimit": 2048000,
      "rowLimit": 10000
     },
     "inputWidgets": {},
     "nuid": "3a2e4604-efcc-493d-be56-375205660302",
     "showTitle": false,
     "tableResultSettingsMap": {},
     "title": ""
    }
   },
   "outputs": [],
   "source": [
    "# https://dbc-fae72cab-cf59.cloud.databricks.com/ml/experiments/de11694479cf4eb689ea73f21bc9a0d9/runs/a6ee34f59a564e028e08df1e2eb5fa27?o=4021782157704243\n",
    "\n",
    "# Random Forest\n",
    "# glamorous-whale-645\n",
    "# run id: a6ee34f59a564e028e08df1e2eb5fa27\n",
    "# .46256 / .4612\n",
    "\n",
    "run_id = \"a6ee34f59a564e028e08df1e2eb5fa27\"\n",
    "model_uri = f\"runs:/{run_id}/model\"\n",
    "loaded_rf_model = mlflow.pyfunc.load_model(model_uri)"
   ]
  },
  {
   "cell_type": "code",
   "execution_count": 0,
   "metadata": {
    "application/vnd.databricks.v1+cell": {
     "cellMetadata": {
      "byteLimit": 2048000,
      "rowLimit": 10000
     },
     "inputWidgets": {},
     "nuid": "c8b481b8-91be-4404-847a-49234f462fee",
     "showTitle": false,
     "tableResultSettingsMap": {},
     "title": ""
    }
   },
   "outputs": [],
   "source": [
    "loaded_rf_model"
   ]
  },
  {
   "cell_type": "code",
   "execution_count": 0,
   "metadata": {
    "application/vnd.databricks.v1+cell": {
     "cellMetadata": {
      "byteLimit": 2048000,
      "rowLimit": 10000
     },
     "inputWidgets": {},
     "nuid": "f40af506-739f-482b-9723-90ec06c360be",
     "showTitle": false,
     "tableResultSettingsMap": {},
     "title": ""
    }
   },
   "outputs": [],
   "source": [
    "loaded_rf_model.stages"
   ]
  },
  {
   "cell_type": "code",
   "execution_count": 0,
   "metadata": {
    "application/vnd.databricks.v1+cell": {
     "cellMetadata": {
      "byteLimit": 2048000,
      "rowLimit": 10000
     },
     "inputWidgets": {},
     "nuid": "10666d12-d660-4047-b902-4331bbe10f61",
     "showTitle": false,
     "tableResultSettingsMap": {},
     "title": ""
    }
   },
   "outputs": [],
   "source": []
  },
  {
   "cell_type": "code",
   "execution_count": 0,
   "metadata": {
    "application/vnd.databricks.v1+cell": {
     "cellMetadata": {
      "byteLimit": 2048000,
      "rowLimit": 10000
     },
     "inputWidgets": {},
     "nuid": "fe974dbd-a9e8-49ab-ab18-f8de2f1b5b61",
     "showTitle": false,
     "tableResultSettingsMap": {},
     "title": ""
    }
   },
   "outputs": [],
   "source": []
  },
  {
   "cell_type": "code",
   "execution_count": 0,
   "metadata": {
    "application/vnd.databricks.v1+cell": {
     "cellMetadata": {
      "byteLimit": 2048000,
      "rowLimit": 10000
     },
     "inputWidgets": {},
     "nuid": "babf3e5f-ad5c-4bbb-a29c-0ea68e7c213b",
     "showTitle": false,
     "tableResultSettingsMap": {},
     "title": ""
    }
   },
   "outputs": [],
   "source": [
    "# https://dbc-fae72cab-cf59.cloud.databricks.com/ml/experiments/de11694479cf4eb689ea73f21bc9a0d9/runs/377a4465f9f444c793e90a5c50a5d624?o=4021782157704243\n",
    "\n",
    "# XGB\n",
    "# charming-carp-844\n",
    "# run id: 377a4465f9f444c793e90a5c50a5d624\n",
    "# \n",
    "run_id = \"377a4465f9f444c793e90a5c50a5d624\"\n",
    "model_uri = f\"runs:/{run_id}/model\"\n",
    "loaded_xgb_model = mlflow.pyfunc.load_model(model_uri)\n",
    "loaded_xgb_model\n",
    "loaded_xgb_model.stages"
   ]
  },
  {
   "cell_type": "code",
   "execution_count": 0,
   "metadata": {
    "application/vnd.databricks.v1+cell": {
     "cellMetadata": {
      "byteLimit": 2048000,
      "rowLimit": 10000
     },
     "inputWidgets": {},
     "nuid": "92f977af-ace3-4cc1-be06-88387221f777",
     "showTitle": false,
     "tableResultSettingsMap": {},
     "title": ""
    }
   },
   "outputs": [],
   "source": [
    "# https://dbc-fae72cab-cf59.cloud.databricks.com/ml/experiments/de11694479cf4eb689ea73f21bc9a0d9/runs/182e305fc13048549e73bcc23fb6af78?o=4021782157704243\n",
    "\n",
    "# Logistic Regression \n",
    "# valuable-finch-194\n",
    "# run id: 182e305fc13048549e73bcc23fb6af78\n",
    "# .475 / .4779\n",
    "\n",
    "run_id = \"182e305fc13048549e73bcc23fb6af78\"\n",
    "model_uri = f\"runs:/{run_id}/model\"\n",
    "loaded_lr_model = mlflow.pyfunc.load_model(model_uri)\n",
    "loaded_lr_model\n",
    "loaded_lr_model.stages"
   ]
  },
  {
   "cell_type": "code",
   "execution_count": 0,
   "metadata": {
    "application/vnd.databricks.v1+cell": {
     "cellMetadata": {
      "byteLimit": 2048000,
      "rowLimit": 10000
     },
     "inputWidgets": {},
     "nuid": "0d45d1e2-8156-49ca-9fa3-ca223b558f68",
     "showTitle": false,
     "tableResultSettingsMap": {},
     "title": ""
    }
   },
   "outputs": [],
   "source": [
    "# https://dbc-fae72cab-cf59.cloud.databricks.com/ml/experiments/de11694479cf4eb689ea73f21bc9a0d9/runs/26b2d4a6055042eb89d9ceab3ed3b4e8?o=4021782157704243\n",
    "\n",
    "# MLP\n",
    "# entertaining-cow-905\n",
    "# run id: 26b2d4a6055042eb89d9ceab3ed3b4e8\n",
    "# .46742 / .4725\n",
    "\n",
    "\n",
    "run_id = \"26b2d4a6055042eb89d9ceab3ed3b4e8\"\n",
    "model_uri = f\"runs:/{run_id}/model\"\n",
    "loaded_mlp_model = mlflow.pyfunc.load_model(model_uri)\n",
    "loaded_mlp_model\n",
    "loaded_mlp_model.stages\n"
   ]
  },
  {
   "cell_type": "code",
   "execution_count": 0,
   "metadata": {
    "application/vnd.databricks.v1+cell": {
     "cellMetadata": {},
     "inputWidgets": {},
     "nuid": "00c7a06c-9140-430c-b036-f85a71d7e1ce",
     "showTitle": false,
     "tableResultSettingsMap": {},
     "title": ""
    }
   },
   "outputs": [],
   "source": []
  }
 ],
 "metadata": {
  "application/vnd.databricks.v1+notebook": {
   "computePreferences": null,
   "dashboards": [],
   "environmentMetadata": {
    "base_environment": "",
    "environment_version": "2"
   },
   "inputWidgetPreferences": null,
   "language": "python",
   "notebookMetadata": {
    "pythonIndentUnit": 4
   },
   "notebookName": "Untitled Notebook 2025-04-17 20:38:10",
   "widgets": {}
  },
  "language_info": {
   "name": "python"
  }
 },
 "nbformat": 4,
 "nbformat_minor": 0
}
