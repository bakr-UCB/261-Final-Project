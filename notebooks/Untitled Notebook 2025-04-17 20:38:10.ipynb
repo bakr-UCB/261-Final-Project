{
 "cells": [
  {
   "cell_type": "code",
   "execution_count": 0,
   "metadata": {
    "application/vnd.databricks.v1+cell": {
     "cellMetadata": {
      "byteLimit": 2048000,
      "rowLimit": 10000
     },
     "inputWidgets": {},
     "nuid": "26428bd4-1934-45ff-a4d5-f5ce050412f6",
     "showTitle": false,
     "tableResultSettingsMap": {},
     "title": ""
    }
   },
   "outputs": [],
   "source": [
    "# imports\n",
    "import pandas as pd\n",
    "import numpy as np\n",
    "import mlflow\n",
    "import mlflow.spark\n",
    "import mlflow.pyfunc\n"
   ]
  },
  {
   "cell_type": "code",
   "execution_count": 0,
   "metadata": {
    "application/vnd.databricks.v1+cell": {
     "cellMetadata": {
      "byteLimit": 2048000,
      "rowLimit": 10000
     },
     "inputWidgets": {},
     "nuid": "3a2e4604-efcc-493d-be56-375205660302",
     "showTitle": false,
     "tableResultSettingsMap": {},
     "title": ""
    }
   },
   "outputs": [],
   "source": [
    "\n",
    "# Logistic Regression \n",
    "# https://dbc-fae72cab-cf59.cloud.databricks.com/ml/experiments/de11694479cf4eb689ea73f21bc9a0d9/runs/182e305fc13048549e73bcc23fb6af78?o=4021782157704243\n",
    "# valuable-finch-194\n",
    "# run id: 182e305fc13048549e73bcc23fb6af78\n",
    "# .475 / .4779\n",
    "\n",
    "# Random Forest\n",
    "# https://dbc-fae72cab-cf59.cloud.databricks.com/ml/experiments/de11694479cf4eb689ea73f21bc9a0d9/runs/a6ee34f59a564e028e08df1e2eb5fa27?o=4021782157704243\n",
    "# glamorous-whale-645\n",
    "# run id: a6ee34f59a564e028e08df1e2eb5fa27\n",
    "# .46256 / .4612\n",
    "\n",
    "# XGB\n",
    "# https://dbc-fae72cab-cf59.cloud.databricks.com/ml/experiments/de11694479cf4eb689ea73f21bc9a0d9/runs/377a4465f9f444c793e90a5c50a5d624?o=4021782157704243\n",
    "# charming-carp-844\n",
    "# run id: 377a4465f9f444c793e90a5c50a5d624\n",
    "\n",
    "# MLP\n",
    "# https://dbc-fae72cab-cf59.cloud.databricks.com/ml/experiments/de11694479cf4eb689ea73f21bc9a0d9/runs/26b2d4a6055042eb89d9ceab3ed3b4e8?o=4021782157704243\n",
    "# entertaining-cow-905\n",
    "# run id: 26b2d4a6055042eb89d9ceab3ed3b4e8\n",
    "# .46742 / .4725\n"
   ]
  },
  {
   "cell_type": "code",
   "execution_count": 0,
   "metadata": {
    "application/vnd.databricks.v1+cell": {
     "cellMetadata": {
      "byteLimit": 2048000,
      "rowLimit": 10000
     },
     "inputWidgets": {},
     "nuid": "f40af506-739f-482b-9723-90ec06c360be",
     "showTitle": false,
     "tableResultSettingsMap": {},
     "title": ""
    }
   },
   "outputs": [],
   "source": [
    "loaded_rf_model.stages[-3]"
   ]
  },
  {
   "cell_type": "code",
   "execution_count": 0,
   "metadata": {
    "application/vnd.databricks.v1+cell": {
     "cellMetadata": {
      "byteLimit": 2048000,
      "rowLimit": 10000
     },
     "inputWidgets": {},
     "nuid": "fe974dbd-a9e8-49ab-ab18-f8de2f1b5b61",
     "showTitle": false,
     "tableResultSettingsMap": {},
     "title": ""
    }
   },
   "outputs": [],
   "source": []
  },
  {
   "cell_type": "code",
   "execution_count": 0,
   "metadata": {
    "application/vnd.databricks.v1+cell": {
     "cellMetadata": {
      "byteLimit": 2048000,
      "rowLimit": 10000
     },
     "inputWidgets": {},
     "nuid": "babf3e5f-ad5c-4bbb-a29c-0ea68e7c213b",
     "showTitle": false,
     "tableResultSettingsMap": {},
     "title": ""
    }
   },
   "outputs": [],
   "source": [
    "\n",
    "# XGB\n",
    "# https://dbc-fae72cab-cf59.cloud.databricks.com/ml/experiments/de11694479cf4eb689ea73f21bc9a0d9/runs/377a4465f9f444c793e90a5c50a5d624?o=4021782157704243\n",
    "# charming-carp-844\n",
    "# run id: 377a4465f9f444c793e90a5c50a5d624\n",
    "# \n",
    "run_id = \"377a4465f9f444c793e90a5c50a5d624\"\n",
    "model_uri = f\"runs:/{run_id}/model\"\n",
    "loaded_xgb_model = mlflow.spark.load_model(model_uri)\n",
    "\n",
    "loaded_xgb_model\n",
    "# loaded_xgb_model.stages"
   ]
  },
  {
   "cell_type": "code",
   "execution_count": 0,
   "metadata": {
    "application/vnd.databricks.v1+cell": {
     "cellMetadata": {
      "byteLimit": 2048000,
      "rowLimit": 10000
     },
     "inputWidgets": {},
     "nuid": "92f977af-ace3-4cc1-be06-88387221f777",
     "showTitle": false,
     "tableResultSettingsMap": {},
     "title": ""
    }
   },
   "outputs": [],
   "source": [
    "\n",
    "\n",
    "\n",
    "\n",
    "run_id = \"182e305fc13048549e73bcc23fb6af78\"\n",
    "model_uri = f\"runs:/{run_id}/model\"\n",
    "loaded_lr_model = mlflow.spark.load_model(model_uri)\n",
    "loaded_lr_model\n",
    "# loaded_lr_model.stages"
   ]
  },
  {
   "cell_type": "code",
   "execution_count": 0,
   "metadata": {
    "application/vnd.databricks.v1+cell": {
     "cellMetadata": {
      "byteLimit": 2048000,
      "rowLimit": 10000
     },
     "inputWidgets": {},
     "nuid": "3b5e50a4-6ac1-41da-9610-0778d424a875",
     "showTitle": false,
     "tableResultSettingsMap": {},
     "title": ""
    }
   },
   "outputs": [],
   "source": [
    "loaded_lr_model.stages"
   ]
  },
  {
   "cell_type": "code",
   "execution_count": 0,
   "metadata": {
    "application/vnd.databricks.v1+cell": {
     "cellMetadata": {
      "byteLimit": 2048000,
      "rowLimit": 10000
     },
     "inputWidgets": {},
     "nuid": "0d45d1e2-8156-49ca-9fa3-ca223b558f68",
     "showTitle": false,
     "tableResultSettingsMap": {},
     "title": ""
    }
   },
   "outputs": [],
   "source": [
    "\n",
    "\n",
    "\n",
    "\n",
    "run_id = \"26b2d4a6055042eb89d9ceab3ed3b4e8\"\n",
    "model_uri = f\"runs:/{run_id}/model\"\n",
    "loaded_mlp_model = mlflow.spark.load_model(model_uri)\n",
    "loaded_mlp_model\n",
    "# loaded_mlp_model.stages\n"
   ]
  },
  {
   "cell_type": "code",
   "execution_count": 0,
   "metadata": {
    "application/vnd.databricks.v1+cell": {
     "cellMetadata": {
      "byteLimit": 2048000,
      "rowLimit": 10000
     },
     "inputWidgets": {},
     "nuid": "00c7a06c-9140-430c-b036-f85a71d7e1ce",
     "showTitle": false,
     "tableResultSettingsMap": {},
     "title": ""
    }
   },
   "outputs": [],
   "source": [
    "modelz = [(\"mlp\",\"26b2d4a6055042eb89d9ceab3ed3b4e8\"),(\"lr\",\"182e305fc13048549e73bcc23fb6af78\"),(\"rf\",\"a6ee34f59a564e028e08df1e2eb5fa27\"),(\"xgb\",\"377a4465f9f444c793e90a5c50a5d624\")]"
   ]
  },
  {
   "cell_type": "code",
   "execution_count": 0,
   "metadata": {
    "application/vnd.databricks.v1+cell": {
     "cellMetadata": {
      "byteLimit": 2048000,
      "rowLimit": 10000
     },
     "inputWidgets": {},
     "nuid": "5de02f95-c328-4655-81d3-b9b890ca482c",
     "showTitle": false,
     "tableResultSettingsMap": {},
     "title": ""
    }
   },
   "outputs": [],
   "source": [
    "def loadmodel(runid):\n",
    "    \"\"\"\n",
    "    input: (mlname,runid)\n",
    "    load ML FLow model from run id \n",
    "    \"\"\"\n",
    "    model_uri = f\"runs:/{}/model\"\n",
    "    loaded_model = mlflow.spark.load_model(model_uri)\n",
    "    return loaded_model\n"
   ]
  },
  {
   "cell_type": "code",
   "execution_count": 0,
   "metadata": {
    "application/vnd.databricks.v1+cell": {
     "cellMetadata": {
      "byteLimit": 2048000,
      "rowLimit": 10000
     },
     "inputWidgets": {},
     "nuid": "cfb3ce58-5417-40cf-9b20-7f6a76c01a2b",
     "showTitle": false,
     "tableResultSettingsMap": {},
     "title": ""
    }
   },
   "outputs": [],
   "source": [
    "models_dict = {\"mlp\":\"26b2d4a6055042eb89d9ceab3ed3b4e8\", \n",
    "               \"lr\":\"182e305fc13048549e73bcc23fb6af78\", \n",
    "               \"rf\":\"a6ee34f59a564e028e08df1e2eb5fa27\",\n",
    "               \"xgb\":\"377a4465f9f444c793e90a5c50a5d624\"}\n"
   ]
  },
  {
   "cell_type": "code",
   "execution_count": 0,
   "metadata": {
    "application/vnd.databricks.v1+cell": {
     "cellMetadata": {},
     "inputWidgets": {},
     "nuid": "4947f1f3-fca8-4e5b-8d72-ad0981016b46",
     "showTitle": false,
     "tableResultSettingsMap": {},
     "title": ""
    }
   },
   "outputs": [],
   "source": [
    "loaded_model_mlp = loadmodel(\n"
   ]
  },
  {
   "cell_type": "code",
   "execution_count": 0,
   "metadata": {
    "application/vnd.databricks.v1+cell": {
     "cellMetadata": {},
     "inputWidgets": {},
     "nuid": "7560e622-7d35-48dc-994b-b6b432c3e2d2",
     "showTitle": false,
     "tableResultSettingsMap": {},
     "title": ""
    }
   },
   "outputs": [],
   "source": []
  }
 ],
 "metadata": {
  "application/vnd.databricks.v1+notebook": {
   "computePreferences": null,
   "dashboards": [],
   "environmentMetadata": {
    "base_environment": "",
    "environment_version": "2"
   },
   "inputWidgetPreferences": null,
   "language": "python",
   "notebookMetadata": {
    "pythonIndentUnit": 4
   },
   "notebookName": "Untitled Notebook 2025-04-17 20:38:10",
   "widgets": {}
  },
  "language_info": {
   "name": "python"
  }
 },
 "nbformat": 4,
 "nbformat_minor": 0
}
