{
 "cells": [
  {
   "cell_type": "code",
   "execution_count": 0,
   "metadata": {
    "application/vnd.databricks.v1+cell": {
     "cellMetadata": {
      "byteLimit": 2048000,
      "rowLimit": 10000
     },
     "inputWidgets": {},
     "nuid": "495457e1-c855-4d95-8323-e91e90e4fe47",
     "showTitle": false,
     "tableResultSettingsMap": {},
     "title": ""
    }
   },
   "outputs": [],
   "source": [
    "import sys\n",
    "\n",
    "sys.path.append('/Workspace/Users/m.bakr@berkeley.edu/261-Final-Project/flightdelays/')\n",
    "from utils import lst_files_r\n",
    "from dataset import testfunc\n"
   ]
  },
  {
   "cell_type": "code",
   "execution_count": 0,
   "metadata": {
    "application/vnd.databricks.v1+cell": {
     "cellMetadata": {
      "byteLimit": 2048000,
      "rowLimit": 10000
     },
     "inputWidgets": {},
     "nuid": "8964a91f-1900-4d78-b431-3cbd72a3eee5",
     "showTitle": false,
     "tableResultSettingsMap": {},
     "title": ""
    }
   },
   "outputs": [],
   "source": [
    "import os\n",
    "print(os.listdir('/Workspace/Users/m.bakr@berkeley.edu/261-Final-Project/flightdelays'))"
   ]
  },
  {
   "cell_type": "code",
   "execution_count": 0,
   "metadata": {
    "application/vnd.databricks.v1+cell": {
     "cellMetadata": {
      "byteLimit": 2048000,
      "rowLimit": 10000
     },
     "inputWidgets": {},
     "nuid": "fb374278-c874-43a3-b4b2-ffc9bf2e7d56",
     "showTitle": false,
     "tableResultSettingsMap": {},
     "title": ""
    }
   },
   "outputs": [],
   "source": [
    "!pip install timezonefinder\n"
   ]
  },
  {
   "cell_type": "code",
   "execution_count": 0,
   "metadata": {
    "application/vnd.databricks.v1+cell": {
     "cellMetadata": {
      "byteLimit": 2048000,
      "rowLimit": 10000
     },
     "inputWidgets": {},
     "nuid": "5dc8f110-8ca2-411b-9e90-1f7409c479e5",
     "showTitle": false,
     "tableResultSettingsMap": {},
     "title": ""
    }
   },
   "outputs": [],
   "source": [
    "import pyspark.sql.functions as F\n",
    "from pyspark.sql.types import StringType, TimestampType\n",
    "import pytz\n",
    "from datetime import datetime, timedelta\n",
    "from timezonefinder import TimezoneFinder"
   ]
  },
  {
   "cell_type": "code",
   "execution_count": 0,
   "metadata": {
    "application/vnd.databricks.v1+cell": {
     "cellMetadata": {
      "byteLimit": 2048000,
      "rowLimit": 10000
     },
     "inputWidgets": {},
     "nuid": "c56f03a8-ee87-4426-b4fa-18a6b634ad52",
     "showTitle": false,
     "tableResultSettingsMap": {},
     "title": ""
    }
   },
   "outputs": [],
   "source": [
    "%scala\n",
    "// inspecting cache status\n",
    "spark.conf.get(\"spark.databricks.io.cache.enabled\")"
   ]
  },
  {
   "cell_type": "code",
   "execution_count": 0,
   "metadata": {
    "application/vnd.databricks.v1+cell": {
     "cellMetadata": {
      "byteLimit": 2048000,
      "rowLimit": 10000
     },
     "inputWidgets": {},
     "nuid": "989212cf-e74d-48ed-ab3b-a82dc21517ae",
     "showTitle": false,
     "tableResultSettingsMap": {},
     "title": ""
    }
   },
   "outputs": [],
   "source": [
    "%scala\n",
    "// Enabeling caching\n",
    "spark.conf.set(\"spark.databricks.io.cache.enabled\", \"true\")"
   ]
  },
  {
   "cell_type": "code",
   "execution_count": 0,
   "metadata": {
    "application/vnd.databricks.v1+cell": {
     "cellMetadata": {
      "byteLimit": 2048000,
      "rowLimit": 10000
     },
     "inputWidgets": {},
     "nuid": "86c5c9fb-dac0-48dd-ae44-f3ff78efccdb",
     "showTitle": false,
     "tableResultSettingsMap": {},
     "title": ""
    }
   },
   "outputs": [],
   "source": [
    "# team_diectory contents:\n",
    "team_BASE_DIR = f\"dbfs:/student-groups/Group_4_1\"\n",
    "display(dbutils.fs.ls(f\"{team_BASE_DIR}\"))\n",
    "display(dbutils.fs.ls(f\"{team_BASE_DIR}/raw/\"))\n",
    "display(dbutils.fs.ls(f\"{team_BASE_DIR}/external/\"))\n",
    "display(dbutils.fs.ls(f\"{team_BASE_DIR}/iterim/\"))\n",
    "# display(dbutils.fs.ls(f\"{team_BASE_DIR}/processed/\")) # still empty"
   ]
  },
  {
   "cell_type": "code",
   "execution_count": 0,
   "metadata": {
    "application/vnd.databricks.v1+cell": {
     "cellMetadata": {
      "byteLimit": 2048000,
      "rowLimit": 10000
     },
     "inputWidgets": {},
     "nuid": "44304077-9067-42e4-b41f-d74385cd4e2b",
     "showTitle": false,
     "tableResultSettingsMap": {
      "0": {
       "filterBlob": "{\"filterGroups\":[{\"enabled\":true,\"op\":\"OR\",\"filterGroupId\":\"fg_962b43d1\",\"filters\":[{\"filterId\":\"f_b86ee08e\",\"columnId\":\"name\",\"enabled\":true,\"dataType\":\"string\",\"filterType\":\"oneof\",\"filterConfig\":{}}],\"local\":false,\"updatedAt\":1742765704165},{\"enabled\":true,\"filterGroupId\":\"fg_d53ba509\",\"op\":\"OR\",\"filters\":[{\"filterId\":\"f_68080d3b\",\"enabled\":true,\"columnId\":\"iata_code\",\"dataType\":\"string\",\"filterType\":\"oneof\"}],\"local\":false,\"updatedAt\":1742767124678}],\"syncTimestamp\":1742767124678}",
       "tableResultIndex": 0
      }
     },
     "title": ""
    }
   },
   "outputs": [],
   "source": [
    "# reading Airport Codes Table from parquet file in the external data folder\n",
    "airport_codes = spark.read.parquet(f\"{team_BASE_DIR}/external/airport_codes.parquet/\")\n",
    "display(airport_codes)\n",
    "print(\"Stations Row: \", airport_codes.count())\n",
    "print(\"Airport Codes Null count: \")\n",
    "display(\n",
    "        airport_codes\n",
    "        .agg(*[F.count(F.when(F.col(c).isNull(), c)).alias(c) for c in airport_codes.columns])\n",
    "        .toPandas()\n",
    "        .melt(var_name=\"col_name\", value_name=\"null_count\")\n",
    "        .query(\"null_count > 0\")\n",
    "        )\n",
    "display(airport_codes.filter(F.col(\"icao_code\").isNotNull()))"
   ]
  },
  {
   "cell_type": "code",
   "execution_count": 0,
   "metadata": {
    "application/vnd.databricks.v1+cell": {
     "cellMetadata": {
      "byteLimit": 2048000,
      "rowLimit": 10000
     },
     "inputWidgets": {},
     "nuid": "70be96b7-bd9e-4dd7-8ca6-f34c33f62120",
     "showTitle": false,
     "tableResultSettingsMap": {},
     "title": ""
    }
   },
   "outputs": [],
   "source": [
    "# combining ICAO and GPS codes to reduce null (didn't make much difference propably delete it)\n",
    "airport_codes = airport_codes.withColumn(\"icao_c\", F.coalesce(F.col(\"icao_code\"), F.col(\"gps_code\")))\n",
    "display(airport_codes)"
   ]
  },
  {
   "cell_type": "code",
   "execution_count": 0,
   "metadata": {
    "application/vnd.databricks.v1+cell": {
     "cellMetadata": {
      "byteLimit": 2048000,
      "rowLimit": 10000
     },
     "inputWidgets": {},
     "nuid": "f4722595-297a-4b95-87c2-9f5f72cf4793",
     "showTitle": false,
     "tableResultSettingsMap": {
      "0": {
       "filterBlob": "{\"filterGroups\":[],\"syncTimestamp\":1743051575307}",
       "tableResultIndex": 0
      }
     },
     "title": ""
    }
   },
   "outputs": [],
   "source": [
    "# Stations data\n",
    "stations = spark.read.parquet(f\"{team_BASE_DIR}/raw/stations/stations_with_neighbors.parquet/\")\n",
    "display(stations)\n",
    "print(\"Stations Row: \", stations.count())\n",
    "display(stations.select([F.count(F.when(F.col(c).isNotNull(), c)).alias(c) for c in stations.columns]))\n",
    "print(\"\\nStations Duplicates:\")\n",
    "display(stations.groupBy(*stations.columns).agg(F.count(\"*\").alias(\"count\")).filter(\"count > 1\"))"
   ]
  },
  {
   "cell_type": "code",
   "execution_count": 0,
   "metadata": {
    "application/vnd.databricks.v1+cell": {
     "cellMetadata": {
      "byteLimit": 2048000,
      "rowLimit": 10000
     },
     "inputWidgets": {},
     "nuid": "1053a867-a252-4c94-8806-922bb789ad13",
     "showTitle": false,
     "tableResultSettingsMap": {},
     "title": ""
    }
   },
   "outputs": [],
   "source": [
    "# Airline Data (flights) Q1.2015\n",
    "flights_3m = spark.read.parquet(f\"{team_BASE_DIR}/raw/flightdelays/parquet_airlines_data_3m\")\n",
    "display(flights_3m)\n",
    "print(\"Flights Row: \", flights_3m.count())\n",
    "print(\"Flights Null count: \")\n",
    "display(\n",
    "        flights_3m\n",
    "        .agg(*[F.count(F.when(F.col(c).isNull(), c)).alias(c) for c in flights_3m.columns])\n",
    "        .toPandas()\n",
    "        .melt(var_name=\"col_name\", value_name=\"null_count\")\n",
    "        .query(\"null_count > 0\")\n",
    "        )\n",
    "print(\"\\nFlights Duplicates:\")\n",
    "display(flights_3m.groupBy(*flights_3m.columns).agg(F.count(\"*\").alias(\"count\")).filter(\"count > 1\"))"
   ]
  },
  {
   "cell_type": "code",
   "execution_count": 0,
   "metadata": {
    "application/vnd.databricks.v1+cell": {
     "cellMetadata": {
      "byteLimit": 2048000,
      "rowLimit": 10000
     },
     "inputWidgets": {},
     "nuid": "2ea013d8-eb95-4359-bfe0-7daedac41ab2",
     "showTitle": false,
     "tableResultSettingsMap": {},
     "title": ""
    }
   },
   "outputs": [],
   "source": [
    "print(\"Distinct Origins count: \", flights_3m.select(\"ORIGIN\").distinct().count())\n",
    "print(\"Distinct Destinations count: \", flights_3m.select(\"DEST\").distinct().count())"
   ]
  },
  {
   "cell_type": "code",
   "execution_count": 0,
   "metadata": {
    "application/vnd.databricks.v1+cell": {
     "cellMetadata": {
      "byteLimit": 2048000,
      "rowLimit": 10000
     },
     "inputWidgets": {},
     "nuid": "f895f9f4-2b10-48bb-af62-de9d17e5db2a",
     "showTitle": false,
     "tableResultSettingsMap": {},
     "title": ""
    }
   },
   "outputs": [],
   "source": [
    "# Weather Data Q1.2015\n",
    "weather_3m = spark.read.parquet(f\"{team_BASE_DIR}/raw/weather/parquet_weather_data_3m\")\n",
    "display(weather_3m)\n",
    "print(\"Weather Rows: \", weather_3m.count())\n",
    "print(\"Weather Null count: \")\n",
    "display(\n",
    "        weather_3m\n",
    "        .agg(*[F.count(F.when(F.col(c).isNull(), c)).alias(c) for c in weather_3m.columns])\n",
    "        .toPandas()\n",
    "        .melt(var_name=\"col_name\", value_name=\"null_count\")\n",
    "        .query(\"null_count > 0\")\n",
    "        )\n",
    "print(\"Weather Duplicates:\")\n",
    "display(weather_3m.groupBy(*weather_3m.columns).agg(F.count(\"*\").alias(\"count\")).filter(\"count > 1\"))"
   ]
  },
  {
   "cell_type": "code",
   "execution_count": 0,
   "metadata": {
    "application/vnd.databricks.v1+cell": {
     "cellMetadata": {
      "byteLimit": 2048000,
      "rowLimit": 10000
     },
     "inputWidgets": {},
     "nuid": "c701056f-ac89-4071-9f23-c9853ca35e9d",
     "showTitle": false,
     "tableResultSettingsMap": {},
     "title": ""
    }
   },
   "outputs": [],
   "source": [
    "# inpecting one row when iata code isn't null\n",
    "display(airport_codes.filter(F.col(\"iata_code\") == \"DFW\"))"
   ]
  },
  {
   "cell_type": "code",
   "execution_count": 0,
   "metadata": {
    "application/vnd.databricks.v1+cell": {
     "cellMetadata": {
      "byteLimit": 2048000,
      "rowLimit": 10000
     },
     "inputWidgets": {},
     "nuid": "697671f9-166d-4ef2-a4fe-7073f283a437",
     "showTitle": false,
     "tableResultSettingsMap": {},
     "title": ""
    }
   },
   "outputs": [],
   "source": [
    "otpw_3m = spark.read.parquet(f\"{team_BASE_DIR}/raw/OTPW/OTPW_3M_2015.parquet\")\n",
    "display(otpw_3m)\n",
    "print(\"OTPW Rows: \", otpw_3m.count())\n",
    "print(\"OTPW Null count: \")\n",
    "display(\n",
    "        otpw_3m\n",
    "        .agg(*[F.count(F.when(F.col(c).isNull(), c)).alias(c) for c in otpw_3m.columns])\n",
    "        .toPandas()\n",
    "        .melt(var_name=\"col_name\", value_name=\"null_count\")\n",
    "        .query(\"null_count > 0\")\n",
    "        )\n",
    "print(\"OTPW Duplicates:\")\n",
    "display(otpw_3m.groupBy(*otpw_3m.columns).agg(F.count(\"*\").alias(\"count\")).filter(\"count > 1\"))"
   ]
  },
  {
   "cell_type": "code",
   "execution_count": 0,
   "metadata": {
    "application/vnd.databricks.v1+cell": {
     "cellMetadata": {
      "byteLimit": 2048000,
      "rowLimit": 10000
     },
     "inputWidgets": {},
     "nuid": "0d3ebd25-5861-49db-a78d-9232b74ed3d5",
     "showTitle": false,
     "tableResultSettingsMap": {},
     "title": ""
    }
   },
   "outputs": [],
   "source": [
    "# drop duplicate flight rows\n",
    "flights_3m_clean = flights_3m.distinct()\n",
    "flights_3m_clean.count()"
   ]
  },
  {
   "cell_type": "code",
   "execution_count": 0,
   "metadata": {
    "application/vnd.databricks.v1+cell": {
     "cellMetadata": {
      "byteLimit": 2048000,
      "rowLimit": 10000
     },
     "inputWidgets": {},
     "nuid": "d74d5f26-c92e-417b-931e-1c45c3aab368",
     "showTitle": false,
     "tableResultSettingsMap": {},
     "title": ""
    }
   },
   "outputs": [],
   "source": [
    "# checking missin iata codes in flights but not in airport data before joining\n",
    "origin_iata = flights_3m_clean.select(\"ORIGIN\").distinct()\n",
    "dest_iata = flights_3m_clean.select(\"DEST\").distinct()\n",
    "flight_iata = origin_iata.union(dest_iata).distinct()\n",
    "\n",
    "airport_iata = airport_codes.select(\"iata_code\").distinct()\n",
    "\n",
    "display(flight_iata.join(airport_iata, flight_iata[\"ORIGIN\"] == airport_iata[\"iata_code\"], \"left_anti\").select(F.col(\"ORIGIN\").alias(\"missing_code\")))"
   ]
  },
  {
   "cell_type": "markdown",
   "metadata": {
    "application/vnd.databricks.v1+cell": {
     "cellMetadata": {},
     "inputWidgets": {},
     "nuid": "c5de24b1-533d-4ea4-8b95-b947bc6456eb",
     "showTitle": false,
     "tableResultSettingsMap": {},
     "title": ""
    }
   },
   "source": [
    "[Sloulin Field International Airport IATA code change from ISN to XWA](https://en.wikipedia.org/wiki/Williston_Basin_International_Airport)\n",
    "\n",
    "September 2015. p. 2. Retrieved October 15, 2016. The current airport (Sloulin Field International Airport – ISN) and proposed replacement airport (Williston Basin International Airport – XWA) will be owned and operated by the City of Williston.\n",
    "FAA Airport Form 5010 for XWA PDF, effective July 13, 2023."
   ]
  },
  {
   "cell_type": "code",
   "execution_count": 0,
   "metadata": {
    "application/vnd.databricks.v1+cell": {
     "cellMetadata": {
      "byteLimit": 2048000,
      "rowLimit": 10000
     },
     "inputWidgets": {},
     "nuid": "7e0030b7-c6e0-464a-a8db-573b372c4924",
     "showTitle": false,
     "tableResultSettingsMap": {},
     "title": ""
    }
   },
   "outputs": [],
   "source": [
    "# Replacing the ISN to XWA\n",
    "flights_3m_clean = flights_3m_clean.na.replace(['ISN'], ['XWA'], 'ORIGIN').na.replace(['ISN'], ['XWA'], 'DEST')"
   ]
  },
  {
   "cell_type": "code",
   "execution_count": 0,
   "metadata": {
    "application/vnd.databricks.v1+cell": {
     "cellMetadata": {
      "byteLimit": 2048000,
      "rowLimit": 10000
     },
     "inputWidgets": {},
     "nuid": "b74ea12f-a01f-48b3-ae0e-44cda0f82b11",
     "showTitle": false,
     "tableResultSettingsMap": {},
     "title": ""
    }
   },
   "outputs": [],
   "source": [
    "# ============================\n",
    "# Register temporary views for Spark SQL\n",
    "# ============================\n",
    "flights_3m_clean.createOrReplaceTempView(\"flights_3m_clean\")\n",
    "airport_codes.createOrReplaceTempView(\"airport_codes\")\n",
    "\n",
    "# ============================\n",
    "# Apply Flights and Airport Join Query to get ICAO Codes\n",
    "# ============================\n",
    "query = \"\"\"\n",
    "SELECT \n",
    "    f.*,\n",
    "    \n",
    "    -- Origin Airport Lookup\n",
    "    a1.icao_code AS ORIGIN_ICAO,\n",
    "    a1.type AS origin_type,\n",
    "    a1.iso_region AS origin_region,\n",
    "    \n",
    "    -- Destination Airport Lookup\n",
    "    a2.icao_code AS DEST_ICAO,\n",
    "    a2.type AS dest_type,\n",
    "    a2.iso_region AS dest_region\n",
    "    \n",
    "FROM \n",
    "    flights_3m_clean f\n",
    "\n",
    "-- Origin Airport Join\n",
    "LEFT JOIN \n",
    "    airport_codes a1 ON f.ORIGIN = a1.iata_code\n",
    "\n",
    "-- Destination Airport Join\n",
    "LEFT JOIN \n",
    "    airport_codes a2 ON f.DEST = a2.iata_code\n",
    "\"\"\"\n",
    "\n",
    "# Execute the query\n",
    "flights_w_icao_3m = spark.sql(query)\n",
    "\n",
    "# Show the result (TODO: add a checkpoint here)\n",
    "display(flights_w_icao_3m)"
   ]
  },
  {
   "cell_type": "code",
   "execution_count": 0,
   "metadata": {
    "application/vnd.databricks.v1+cell": {
     "cellMetadata": {
      "byteLimit": 2048000,
      "rowLimit": 10000
     },
     "inputWidgets": {},
     "nuid": "f5660ce4-cf37-4427-b159-6cfbb799912b",
     "showTitle": false,
     "tableResultSettingsMap": {},
     "title": ""
    }
   },
   "outputs": [],
   "source": [
    "# check for null origin_airport_name and dest_airport_name after the join\n",
    "display(flights_w_icao_3m.filter(flights_w_icao_3m.ORIGIN_ICAO.isNull()).select(\"ORIGIN\").distinct())\n",
    "display(flights_w_icao_3m.filter(flights_w_icao_3m.DEST_ICAO.isNull()).select(\"DEST\").distinct())"
   ]
  },
  {
   "cell_type": "code",
   "execution_count": 0,
   "metadata": {
    "application/vnd.databricks.v1+cell": {
     "cellMetadata": {
      "byteLimit": 2048000,
      "rowLimit": 10000
     },
     "inputWidgets": {},
     "nuid": "9ea1576d-dc59-40e2-8de9-2b9c587431d1",
     "showTitle": false,
     "tableResultSettingsMap": {},
     "title": ""
    }
   },
   "outputs": [],
   "source": [
    "# checking missing ICAO codes in flights and airports but not in stations data before joining\n",
    "origin_icao = flights_w_icao_3m.select(\"ORIGIN_ICAO\").distinct()\n",
    "dest_icao = flights_w_icao_3m.select(\"DEST_ICAO\").distinct()\n",
    "flight_icao = origin_icao.union(dest_icao).distinct()\n",
    "\n",
    "stations_icao = stations.select(\"neighbor_call\").distinct()\n",
    "\n",
    "# filtering the missing ICAO that are in flights but not in stations table\n",
    "missing_icao_lst = flight_icao.join(stations_icao, flight_icao[\"ORIGIN_ICAO\"] == stations_icao[\"neighbor_call\"], \"left_anti\").select(F.col(\"ORIGIN_ICAO\").alias(\"missing_code\")).rdd.flatMap(lambda x: x).collect()\n",
    "missing_icao_lst"
   ]
  },
  {
   "cell_type": "code",
   "execution_count": 0,
   "metadata": {
    "application/vnd.databricks.v1+cell": {
     "cellMetadata": {
      "byteLimit": 2048000,
      "rowLimit": 10000
     },
     "inputWidgets": {},
     "nuid": "ec773710-dacc-41d8-afdb-fa662f28c15f",
     "showTitle": false,
     "tableResultSettingsMap": {},
     "title": ""
    }
   },
   "outputs": [],
   "source": [
    "# constructing the missing ICAO data using the airport_codes table\n",
    "missing_icao = (\n",
    "                airport_codes\n",
    "                .filter(F.col(\"icao_code\").isin(missing_icao_lst))\n",
    "                .withColumn(\"eighbor_id\", F.col(\"ident\"))\n",
    "                .withColumn(\"neighbor_name\", F.col(\"name\"))\n",
    "                .withColumn(\"neighbor_state\", F.split(F.col(\"iso_region\"), \"-\")[1].cast(\"string\"))\n",
    "                .withColumn(\"neighbor_call\", F.col(\"icao_code\"))\n",
    "                .withColumn(\"neighbor_lat\", F.split(F.col(\"coordinates\"), \",\")[0].cast(\"double\"))\n",
    "                .withColumn(\"neighbor_lon\", F.split(F.col(\"coordinates\"), \",\")[1].cast(\"double\"))\n",
    "                .select(\"eighbor_id\", \"neighbor_name\", \"neighbor_state\",\"neighbor_call\", \"neighbor_lat\", \"neighbor_lon\")\n",
    "                )\n",
    "\n",
    "\n",
    "display(missing_icao)"
   ]
  },
  {
   "cell_type": "code",
   "execution_count": 0,
   "metadata": {
    "application/vnd.databricks.v1+cell": {
     "cellMetadata": {
      "byteLimit": 2048000,
      "rowLimit": 10000
     },
     "inputWidgets": {},
     "nuid": "b71e1f19-d25c-416b-ad3f-26addad3d81f",
     "showTitle": false,
     "tableResultSettingsMap": {},
     "title": ""
    }
   },
   "outputs": [],
   "source": [
    "# cross joining withthe distinct stations and calculating the Euclidian distance for each compination based on the lat, lon of airports and stations\n",
    "dist_stations = stations.select(\"usaf\", \"wban\", \"station_id\", \"lat\", \"lon\").distinct()\n",
    "missing_distances = (dist_stations.crossJoin(missing_icao)\n",
    "                     .withColumn(\"distance_to_neighbor\", F.pow(F.pow(F.col(\"lat\") - F.col(\"neighbor_lat\"), 2) + F.pow(F.col(\"lon\") - F.col(\"neighbor_lon\"), 2), 0.5)))\n"
   ]
  },
  {
   "cell_type": "code",
   "execution_count": 0,
   "metadata": {
    "application/vnd.databricks.v1+cell": {
     "cellMetadata": {
      "byteLimit": 2048000,
      "rowLimit": 10000
     },
     "inputWidgets": {},
     "nuid": "e5075bbc-f363-4967-b336-db341354b6b9",
     "showTitle": false,
     "tableResultSettingsMap": {
      "0": {
       "filterBlob": "{\"filterGroups\":[{\"enabled\":true,\"filterGroupId\":\"fg_3b84f9ad\",\"op\":\"OR\",\"filters\":[{\"filterId\":\"f_bc090876\",\"enabled\":true,\"columnId\":\"neighbor_call\",\"dataType\":\"string\",\"filterType\":\"oneof\",\"filterValues\":[],\"filterConfig\":{\"caseSensitive\":true}}],\"local\":false,\"updatedAt\":1743052066545}],\"syncTimestamp\":1743052066545}",
       "tableResultIndex": 0
      }
     },
     "title": ""
    }
   },
   "outputs": [],
   "source": [
    "# Augmenting the stations dataframe with the missing distances (TODO: checkpoint here)\n",
    "aug_stations = stations.union(missing_distances)\n",
    "display(aug_stations)"
   ]
  },
  {
   "cell_type": "code",
   "execution_count": 0,
   "metadata": {
    "application/vnd.databricks.v1+cell": {
     "cellMetadata": {
      "byteLimit": 2048000,
      "rowLimit": 10000
     },
     "inputWidgets": {},
     "nuid": "e4dae3d1-25e0-4317-b099-e8fbccda9e8b",
     "showTitle": false,
     "tableResultSettingsMap": {},
     "title": ""
    }
   },
   "outputs": [],
   "source": [
    "# ============================\n",
    "# Register temporary views for Spark SQL\n",
    "# ============================\n",
    "flights_w_icao_3m.createOrReplaceTempView(\"flights_w_icao\")\n",
    "aug_stations.createOrReplaceTempView(\"stations\")\n",
    "\n",
    "# ============================\n",
    "# Apply updated Flight and stations Join Query to get Station IDs and distances\n",
    "# ============================\n",
    "query = \"\"\"\n",
    "SELECT \n",
    "    f.*,\n",
    "    \n",
    "    -- Origin Station Lookup\n",
    "    s1.neighbor_name AS origin_airport_name,\n",
    "    s1.station_id AS origin_station_id,\n",
    "    s1.lat AS origin_station_lat,\n",
    "    s1.lon AS origin_station_lon,\n",
    "    s1.neighbor_lat AS origin_airport_lat,\n",
    "    s1.neighbor_lon AS origin_airport_lon,\n",
    "    s1.distance_to_neighbor AS origin_station_dis,\n",
    "    \n",
    "    -- Destination Station Lookup\n",
    "    s2.neighbor_name AS dest_airport_name,\n",
    "    s2.station_id AS dest_station_id,\n",
    "    s2.lat AS dest_station_lat,\n",
    "    s2.lon AS dest_station_lon,\n",
    "    s2.neighbor_lat AS dest_airport_lat,\n",
    "    s2.neighbor_lon AS dest_airport_lon,\n",
    "    s2.distance_to_neighbor AS dest_station_dis\n",
    "\n",
    "FROM \n",
    "    flights_w_icao f\n",
    "\n",
    "-- Origin Station Lookup (with closest station)\n",
    "LEFT JOIN (\n",
    "    SELECT neighbor_call, \n",
    "           neighbor_name, \n",
    "           station_id, \n",
    "           lat, lon, \n",
    "           neighbor_lat, \n",
    "           neighbor_lon, \n",
    "           distance_to_neighbor,\n",
    "           ROW_NUMBER() OVER (PARTITION BY neighbor_call ORDER BY distance_to_neighbor) AS rn\n",
    "    FROM stations\n",
    ") s1 ON f.ORIGIN_ICAO = s1.neighbor_call AND s1.rn = 1\n",
    "\n",
    "-- Destination Station Lookup (with closest station)\n",
    "LEFT JOIN (\n",
    "    SELECT neighbor_call, \n",
    "           neighbor_name, \n",
    "           station_id, \n",
    "           lat, lon, \n",
    "           neighbor_lat, \n",
    "           neighbor_lon, \n",
    "           distance_to_neighbor,\n",
    "           ROW_NUMBER() OVER (PARTITION BY neighbor_call ORDER BY distance_to_neighbor) AS rn\n",
    "    FROM stations\n",
    ") s2 ON f.DEST_ICAO = s2.neighbor_call AND s2.rn = 1\n",
    "\"\"\"\n",
    "\n",
    "# Execute the query\n",
    "flights_stations_3m = spark.sql(query)\n",
    "\n",
    "# Show the result (TODO: add a checkpoint here)\n",
    "display(flights_stations_3m)"
   ]
  },
  {
   "cell_type": "code",
   "execution_count": 0,
   "metadata": {
    "application/vnd.databricks.v1+cell": {
     "cellMetadata": {
      "byteLimit": 2048000,
      "rowLimit": 10000
     },
     "inputWidgets": {},
     "nuid": "f3fdbd9c-03b6-4cb4-9d06-8a8541704c23",
     "showTitle": false,
     "tableResultSettingsMap": {},
     "title": ""
    }
   },
   "outputs": [],
   "source": [
    "# check for null origin_airport_name and dest_airport_name after the join\n",
    "display(flights_stations_3m.filter(flights_stations_3m.origin_airport_name.isNull()).select(\"ORIGIN_ICAO\").distinct())\n",
    "display(flights_stations_3m.filter(flights_stations_3m.dest_airport_name.isNull()).select(\"DEST_ICAO\").distinct())"
   ]
  },
  {
   "cell_type": "code",
   "execution_count": 0,
   "metadata": {
    "application/vnd.databricks.v1+cell": {
     "cellMetadata": {
      "byteLimit": 2048000,
      "rowLimit": 10000
     },
     "inputWidgets": {},
     "nuid": "3abae2e5-0a66-410b-9f1e-606aedc3c1ed",
     "showTitle": false,
     "tableResultSettingsMap": {},
     "title": ""
    }
   },
   "outputs": [],
   "source": [
    "# Convert string time to datetime\n",
    "flights_stations_3m = flights_stations_3m.withColumn(\n",
    "    \"sched_depart_date_time\",\n",
    "    F.concat_ws(\n",
    "        \"T\",\n",
    "        F.col(\"FL_DATE\"),\n",
    "        F.date_format(F.to_timestamp(F.concat(F.lpad(\"CRS_DEP_TIME\", 4, \"0\"), F.lit(\"00\")), \"HHmmss\"), \"HH:mm:ss\")\n",
    "    )\n",
    ")"
   ]
  },
  {
   "cell_type": "code",
   "execution_count": 0,
   "metadata": {
    "application/vnd.databricks.v1+cell": {
     "cellMetadata": {
      "byteLimit": 2048000,
      "rowLimit": 10000
     },
     "inputWidgets": {},
     "nuid": "5cfa952c-5131-451e-918f-7864a7385c40",
     "showTitle": false,
     "tableResultSettingsMap": {},
     "title": ""
    }
   },
   "outputs": [],
   "source": [
    "# ============================\n",
    "# UDF: Look up time zones for a given lat/long\n",
    "# ============================\n",
    "def find_timezone(lat, lng):\n",
    "    tf = TimezoneFinder()\n",
    "    timezone_str = tf.timezone_at(lat=lat, lng=lng)\n",
    "    return timezone_str if timezone_str else \"Unknown\"\n",
    "\n",
    "tz_udf = F.udf(find_timezone)\n",
    "\n",
    "# add time zone column\n",
    "flights_tz_3m = flights_stations_3m.withColumn(\"origin_tz\", tz_udf(F.col(\"origin_airport_lat\"), F.col(\"origin_airport_lon\")))\n",
    "flights_tz_3m = flights_tz_3m.withColumn(\"dest_tz\", tz_udf(F.col(\"dest_airport_lat\"), F.col(\"dest_airport_lon\")))"
   ]
  },
  {
   "cell_type": "code",
   "execution_count": 0,
   "metadata": {
    "application/vnd.databricks.v1+cell": {
     "cellMetadata": {
      "byteLimit": 2048000,
      "rowLimit": 10000
     },
     "inputWidgets": {},
     "nuid": "a46919ac-f055-47a0-beec-ec18c6e2cb5a",
     "showTitle": false,
     "tableResultSettingsMap": {},
     "title": ""
    }
   },
   "outputs": [],
   "source": [
    "display(flights_tz_3m)\n"
   ]
  },
  {
   "cell_type": "code",
   "execution_count": 0,
   "metadata": {
    "application/vnd.databricks.v1+cell": {
     "cellMetadata": {
      "byteLimit": 2048000,
      "rowLimit": 10000
     },
     "inputWidgets": {},
     "nuid": "63041343-0464-4dca-932c-913310f34bad",
     "showTitle": false,
     "tableResultSettingsMap": {},
     "title": ""
    }
   },
   "outputs": [],
   "source": [
    "# ============================\n",
    "# UDF: Convert Deprature Time to UTC\n",
    "# ============================\n",
    "\n",
    "def to_utc(dt: str, tz: str) -> str:\n",
    "    if dt is None:\n",
    "        return None\n",
    "    dt_format = \"%Y-%m-%dT%H:%M:%S\"\n",
    "    local_dt = datetime.strptime(dt, dt_format)\n",
    "    if tz:\n",
    "        timezone = pytz.timezone(tz)\n",
    "        local_dt = timezone.localize(local_dt)\n",
    "        \n",
    "        # Convert to UTC\n",
    "        utc_dt = local_dt.astimezone(pytz.utc)\n",
    "        return utc_dt.strftime(dt_format)\n",
    "    return None\n",
    "\n",
    "utc_udf = F.udf(to_utc)\n",
    "\n",
    "flights_origin_utc_3m = flights_3m_clean.withColumn(\"sched_depart_utc\", utc_udf(F.col(\"sched_depart_date_time\"), F.lpad(F.col(\"origin_tz\").cast(F.StringType()), 2, '0')))"
   ]
  },
  {
   "cell_type": "code",
   "execution_count": 0,
   "metadata": {
    "application/vnd.databricks.v1+cell": {
     "cellMetadata": {
      "byteLimit": 2048000,
      "rowLimit": 10000
     },
     "inputWidgets": {},
     "nuid": "016accc1-d0cf-400f-b9e7-f6463fc3184c",
     "showTitle": false,
     "tableResultSettingsMap": {},
     "title": ""
    }
   },
   "outputs": [],
   "source": [
    "import us\n",
    "us.states.lookup(\"atlanta\")"
   ]
  },
  {
   "cell_type": "code",
   "execution_count": 0,
   "metadata": {
    "application/vnd.databricks.v1+cell": {
     "cellMetadata": {
      "byteLimit": 2048000,
      "rowLimit": 10000
     },
     "inputWidgets": {},
     "nuid": "a56a6c25-9bed-4b88-927b-543462a82dd0",
     "showTitle": false,
     "tableResultSettingsMap": {},
     "title": ""
    }
   },
   "outputs": [],
   "source": [
    "# Testing to_utc UDF (75 is the fips code for GUAM, online it says 66)\n",
    "to_utc(\"2015-01-01T00:00:00\", \"75\")"
   ]
  },
  {
   "cell_type": "code",
   "execution_count": 0,
   "metadata": {
    "application/vnd.databricks.v1+cell": {
     "cellMetadata": {
      "byteLimit": 2048000,
      "rowLimit": 10000
     },
     "inputWidgets": {},
     "nuid": "ca109ee9-04ed-4c68-8696-6829ca589269",
     "showTitle": false,
     "tableResultSettingsMap": {},
     "title": ""
    }
   },
   "outputs": [],
   "source": [
    "# ============================\n",
    "# UDF: Calculate Prior Times\n",
    "# ============================\n",
    "def calculate_prior_times(utc_datetime_str, hours_prior):\n",
    "    if utc_datetime_str is None:\n",
    "        return None\n",
    "    try:\n",
    "        # Parse UTC datetime string\n",
    "        utc_format = \"%Y-%m-%dT%H:%M:%S\"\n",
    "        utc_dt = datetime.strptime(utc_datetime_str, utc_format)\n",
    "        \n",
    "        # Subtract hours to get prior times\n",
    "        prior_dt = utc_dt - timedelta(hours=hours_prior)\n",
    "        return prior_dt.strftime(\"%Y-%m-%dT%H:%M:%S\")\n",
    "    \n",
    "    except Exception as e:\n",
    "        return None\n",
    "\n",
    "# Register UDFs\n",
    "calculate_prior_times_udf = F.udf(calculate_prior_times)\n",
    "\n",
    "flights_3m_utc = flights_3m_utc.withColumn(\"two_hours_prior_depart_UTC\", calculate_prior_times_udf(F.col(\"sched_depart_utc\"), F.lit(2)))\n",
    "flights_utc_2_4_3m = flights_3m_utc.withColumn(\"four_hours_prior_depart_UTC\", calculate_prior_times_udf(F.col(\"sched_depart_utc\"), F.lit(4)))\n",
    "display(flights_utc_2_4_3m)"
   ]
  },
  {
   "cell_type": "code",
   "execution_count": 0,
   "metadata": {
    "application/vnd.databricks.v1+cell": {
     "cellMetadata": {
      "byteLimit": 2048000,
      "rowLimit": 10000
     },
     "inputWidgets": {},
     "nuid": "9ecfc2ac-c84e-46ea-a2e0-8709b570f495",
     "showTitle": false,
     "tableResultSettingsMap": {},
     "title": ""
    }
   },
   "outputs": [],
   "source": [
    "# check for null ORIGIN_ICAO and DEST_ICAO after the join\n",
    "display(flights_stations.filter(flights_stations.ORIGIN_ICAO.isNull()).select(\"ORIGIN\").distinct())\n",
    "display(flights_stations.filter(flights_stations.DEST_ICAO.isNull()).select(\"DEST\").distinct())"
   ]
  },
  {
   "cell_type": "code",
   "execution_count": 0,
   "metadata": {
    "application/vnd.databricks.v1+cell": {
     "cellMetadata": {
      "byteLimit": 2048000,
      "rowLimit": 10000
     },
     "inputWidgets": {},
     "nuid": "05e30fe7-50ff-4541-a7da-0c71cdab6f8c",
     "showTitle": false,
     "tableResultSettingsMap": {},
     "title": ""
    }
   },
   "outputs": [],
   "source": []
  },
  {
   "cell_type": "code",
   "execution_count": 0,
   "metadata": {
    "application/vnd.databricks.v1+cell": {
     "cellMetadata": {
      "byteLimit": 2048000,
      "rowLimit": 10000
     },
     "inputWidgets": {},
     "nuid": "c1da91e0-d884-4785-801e-b704ead92d7a",
     "showTitle": false,
     "tableResultSettingsMap": {},
     "title": ""
    }
   },
   "outputs": [],
   "source": [
    "print(flights_transformed.count())\n",
    "display(flights_transformed.filter(flights_transformed.sched_depart_date_time.isNull()))"
   ]
  },
  {
   "cell_type": "code",
   "execution_count": 0,
   "metadata": {
    "application/vnd.databricks.v1+cell": {
     "cellMetadata": {
      "byteLimit": 2048000,
      "rowLimit": 10000
     },
     "inputWidgets": {},
     "nuid": "0d1aee9d-5291-4299-9fdb-2c10c79a3752",
     "showTitle": false,
     "tableResultSettingsMap": {},
     "title": ""
    }
   },
   "outputs": [],
   "source": [
    "tz = spark.read.parquet(f\"{team_BASE_DIR}/external/tz_lookup.parquet\")\n",
    "display(tz)"
   ]
  },
  {
   "cell_type": "code",
   "execution_count": 0,
   "metadata": {
    "application/vnd.databricks.v1+cell": {
     "cellMetadata": {
      "byteLimit": 2048000,
      "rowLimit": 10000
     },
     "inputWidgets": {},
     "nuid": "33347365-f3b8-4dae-9133-6bf105c833a9",
     "showTitle": false,
     "tableResultSettingsMap": {},
     "title": ""
    }
   },
   "outputs": [],
   "source": [
    "tz.count()"
   ]
  },
  {
   "cell_type": "code",
   "execution_count": 0,
   "metadata": {
    "application/vnd.databricks.v1+cell": {
     "cellMetadata": {},
     "inputWidgets": {},
     "nuid": "3de40b81-349e-4fb0-abca-1ed7dbf4b75c",
     "showTitle": false,
     "tableResultSettingsMap": {},
     "title": ""
    }
   },
   "outputs": [],
   "source": []
  }
 ],
 "metadata": {
  "application/vnd.databricks.v1+notebook": {
   "computePreferences": null,
   "dashboards": [],
   "environmentMetadata": {
    "base_environment": "",
    "environment_version": "2"
   },
   "inputWidgetPreferences": null,
   "language": "python",
   "notebookMetadata": {
    "pythonIndentUnit": 4
   },
   "notebookName": "0.05-mas-3m-table-join-EDA",
   "widgets": {}
  },
  "language_info": {
   "name": "python"
  }
 },
 "nbformat": 4,
 "nbformat_minor": 0
}
