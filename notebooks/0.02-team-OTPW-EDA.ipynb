{
 "cells": [
  {
   "cell_type": "markdown",
   "metadata": {
    "application/vnd.databricks.v1+cell": {
     "cellMetadata": {},
     "inputWidgets": {},
     "nuid": "08949de6-e61a-45f9-b1a4-34a85f2b70d9",
     "showTitle": false,
     "tableResultSettingsMap": {},
     "title": ""
    }
   },
   "source": [
    "# Setup"
   ]
  },
  {
   "cell_type": "markdown",
   "metadata": {
    "application/vnd.databricks.v1+cell": {
     "cellMetadata": {},
     "inputWidgets": {},
     "nuid": "ace3cf1a-e52f-47e1-86bb-ed09ee1794d9",
     "showTitle": false,
     "tableResultSettingsMap": {},
     "title": ""
    }
   },
   "source": [
    "[Project Plan](https://docs.google.com/spreadsheets/d/1E4A3SaTAEjh9owH4SBUMv987bktwrW4Q6TXCZ5LJ6Xg/edit?gid=1115838130#gid=1115838130)\n",
    "\n",
    "[Very Useful Resources™](https://bcourses.berkeley.edu/courses/1540263/pages/additional-very-useful-resources?module_item_id=17267995)\n",
    "\n",
    "[FP Module](https://bcourses.berkeley.edu/courses/1540263/pages/mids-261-final-project-dataset-and-cluster?module_item_id=17267994)\n",
    "\n",
    "[FP Phase II Assignment](https://bcourses.berkeley.edu/courses/1540263/assignments/8834546)"
   ]
  },
  {
   "cell_type": "code",
   "execution_count": 0,
   "metadata": {
    "application/vnd.databricks.v1+cell": {
     "cellMetadata": {
      "byteLimit": 2048000,
      "rowLimit": 10000
     },
     "inputWidgets": {},
     "nuid": "9c988a06-7ed3-451d-adae-ae6470e2dbc0",
     "showTitle": false,
     "tableResultSettingsMap": {},
     "title": ""
    }
   },
   "outputs": [],
   "source": [
    "from pyspark.sql.functions import col\n",
    "import pyspark.sql.functions as F\n",
    "import matplotlib.pyplot as plt\n",
    "import pandas as pd\n",
    "import numpy as np\n",
    "from pyspark.sql.functions import col,isnan, when, count, concat_ws, countDistinct, collect_set\n",
    "\n",
    "print(\"Your very own PHASE 2 legend is about to unfold! A world of dreams and adventures with PHASE 2 awaits! \\nLet's go!\") "
   ]
  },
  {
   "cell_type": "code",
   "execution_count": 0,
   "metadata": {
    "application/vnd.databricks.v1+cell": {
     "cellMetadata": {
      "byteLimit": 2048000,
      "rowLimit": 10000
     },
     "inputWidgets": {},
     "nuid": "9cb27eeb-d2cd-4fa8-b57b-13b13b4bd92f",
     "showTitle": false,
     "tableResultSettingsMap": {},
     "title": ""
    }
   },
   "outputs": [],
   "source": [
    "data_BASE_DIR = \"dbfs:/mnt/mids-w261/\"\n",
    "display(dbutils.fs.ls(f\"{data_BASE_DIR}\")) #note the other possible samples we can use like 1 day"
   ]
  },
  {
   "cell_type": "code",
   "execution_count": 0,
   "metadata": {
    "application/vnd.databricks.v1+cell": {
     "cellMetadata": {
      "byteLimit": 2048000,
      "rowLimit": 10000
     },
     "inputWidgets": {},
     "nuid": "02a4ea0e-163f-4f1e-8e36-1c9aad1ded9b",
     "showTitle": false,
     "tableResultSettingsMap": {},
     "title": ""
    }
   },
   "outputs": [],
   "source": [
    "qdf_otpw = spark.read.format(\"csv\").option(\"header\",\"true\").load(f\"dbfs:/mnt/mids-w261/OTPW_3M_2015.csv\") #quarter 1 otpw df\n"
   ]
  },
  {
   "cell_type": "code",
   "execution_count": 0,
   "metadata": {
    "application/vnd.databricks.v1+cell": {
     "cellMetadata": {},
     "inputWidgets": {},
     "nuid": "35016413-abb7-47a7-9f41-61c8db7314fc",
     "showTitle": false,
     "tableResultSettingsMap": {},
     "title": ""
    }
   },
   "outputs": [],
   "source": []
  },
  {
   "cell_type": "code",
   "execution_count": 0,
   "metadata": {
    "application/vnd.databricks.v1+cell": {
     "cellMetadata": {},
     "inputWidgets": {},
     "nuid": "2b2cd004-7c4c-41e6-a82f-d5d83158ba44",
     "showTitle": false,
     "tableResultSettingsMap": {},
     "title": ""
    }
   },
   "outputs": [],
   "source": []
  },
  {
   "cell_type": "code",
   "execution_count": 0,
   "metadata": {
    "application/vnd.databricks.v1+cell": {
     "cellMetadata": {
      "byteLimit": 2048000,
      "rowLimit": 10000
     },
     "inputWidgets": {},
     "nuid": "6ad7438d-1afe-4ec4-bd0f-56d2342d1276",
     "showTitle": false,
     "tableResultSettingsMap": {},
     "title": ""
    }
   },
   "outputs": [],
   "source": [
    "ydf_otpw = spark.read.format(\"csv\").option(\"header\",\"true\").load(f\"dbfs:/mnt/mids-w261/OTPW_12M/OTPW_12M/\") #year 1 otpw df\n",
    "\n"
   ]
  },
  {
   "cell_type": "code",
   "execution_count": 0,
   "metadata": {
    "application/vnd.databricks.v1+cell": {
     "cellMetadata": {
      "byteLimit": 2048000,
      "rowLimit": 10000
     },
     "inputWidgets": {},
     "nuid": "0de99fed-9b67-4ed7-adb7-9613a7aa81ea",
     "showTitle": false,
     "tableResultSettingsMap": {},
     "title": ""
    }
   },
   "outputs": [],
   "source": [
    "ydf_otpw.count()"
   ]
  },
  {
   "cell_type": "code",
   "execution_count": 0,
   "metadata": {
    "application/vnd.databricks.v1+cell": {
     "cellMetadata": {
      "byteLimit": 2048000,
      "rowLimit": 10000
     },
     "inputWidgets": {},
     "nuid": "fdf081f9-d873-48d0-91f9-786680af3609",
     "showTitle": false,
     "tableResultSettingsMap": {},
     "title": ""
    }
   },
   "outputs": [],
   "source": [
    "qdf_otpw.filter(F.col('HourlyPrecipitation').isNull()).select(F.col('BackupName').isNull())"
   ]
  },
  {
   "cell_type": "code",
   "execution_count": 0,
   "metadata": {
    "application/vnd.databricks.v1+cell": {
     "cellMetadata": {
      "byteLimit": 2048000,
      "rowLimit": 10000
     },
     "inputWidgets": {},
     "nuid": "1debcfa3-f6bb-45c2-9dd0-22639ff7a504",
     "showTitle": false,
     "tableResultSettingsMap": {},
     "title": ""
    }
   },
   "outputs": [],
   "source": [
    "qdf_otpw.select('origin_type').distinct().show()"
   ]
  },
  {
   "cell_type": "code",
   "execution_count": 0,
   "metadata": {
    "application/vnd.databricks.v1+cell": {
     "cellMetadata": {
      "byteLimit": 2048000,
      "rowLimit": 10000
     },
     "inputWidgets": {},
     "nuid": "4dd0d01f-4e8e-458f-87be-19460c966f50",
     "showTitle": false,
     "tableResultSettingsMap": {},
     "title": ""
    }
   },
   "outputs": [],
   "source": [
    "display(qdf_otpw.select('origin_region').distinct())"
   ]
  },
  {
   "cell_type": "markdown",
   "metadata": {
    "application/vnd.databricks.v1+cell": {
     "cellMetadata": {},
     "inputWidgets": {},
     "nuid": "e2eac703-cf36-4af1-9300-c383d7524a45",
     "showTitle": false,
     "tableResultSettingsMap": {},
     "title": ""
    }
   },
   "source": [
    "# Basic EDA"
   ]
  },
  {
   "cell_type": "code",
   "execution_count": 0,
   "metadata": {
    "application/vnd.databricks.v1+cell": {
     "cellMetadata": {
      "byteLimit": 2048000,
      "rowLimit": 10000
     },
     "inputWidgets": {},
     "nuid": "8694603e-98dd-49b1-bd32-b8157854784a",
     "showTitle": false,
     "tableResultSettingsMap": {},
     "title": ""
    }
   },
   "outputs": [],
   "source": [
    "display(qdf_otpw.groupBy('OP_UNIQUE_CARRIER').agg(\n",
    "    F.avg('DEP_DELAY').alias('Avg_DEP_DELAY'),\n",
    "    F.avg('ARR_DELAY').alias('Avg_ARR_DELAY'),\n",
    "    F.avg('DISTANCE').alias('Avg_DISTANCE')\n",
    "))"
   ]
  },
  {
   "cell_type": "code",
   "execution_count": 0,
   "metadata": {
    "application/vnd.databricks.v1+cell": {
     "cellMetadata": {
      "byteLimit": 2048000,
      "rowLimit": 10000
     },
     "inputWidgets": {},
     "nuid": "f3d26ac2-26ca-4b6a-a267-dae5890680f9",
     "showTitle": false,
     "tableResultSettingsMap": {},
     "title": ""
    }
   },
   "outputs": [],
   "source": [
    "display(qdf_otpw.groupBy('FL_DATE').agg(\n",
    "    F.avg('DEP_DELAY').alias('Avg_DEP_DELAY'),\n",
    ").orderBy('FL_DATE'))"
   ]
  },
  {
   "cell_type": "code",
   "execution_count": 0,
   "metadata": {
    "application/vnd.databricks.v1+cell": {
     "cellMetadata": {
      "byteLimit": 2048000,
      "rowLimit": 10000
     },
     "inputWidgets": {},
     "nuid": "4a41bb29-6436-41c0-9ea7-d56dc9ba7704",
     "showTitle": false,
     "tableResultSettingsMap": {},
     "title": ""
    }
   },
   "outputs": [],
   "source": [
    "display(qdf_otpw.withColumn(\"DEP_HOUR\", (F.col(\"DEP_TIME\") / 100).cast(\"int\")).select('DEP_HOUR','DEP_TIME').limit(10))\n"
   ]
  },
  {
   "cell_type": "code",
   "execution_count": 0,
   "metadata": {
    "application/vnd.databricks.v1+cell": {
     "cellMetadata": {
      "byteLimit": 2048000,
      "rowLimit": 10000
     },
     "inputWidgets": {},
     "nuid": "14ae799b-dab4-4acb-bce0-aed49172cf14",
     "showTitle": false,
     "tableResultSettingsMap": {},
     "title": ""
    }
   },
   "outputs": [],
   "source": [
    "qdf_delays = qdf_otpw.groupBy('FL_DATE').agg(\n",
    "    F.avg('DEP_DELAY').alias('Avg_DEP_DELAY')\n",
    ").orderBy('FL_DATE').toPandas()\n",
    "\n",
    "qdf_delays['FL_DATE'] = pd.to_datetime(qdf_delays['FL_DATE'])\n",
    "\n",
    "plt.figure(figsize=(12, 6))\n",
    "plt.plot(qdf_delays['FL_DATE'], qdf_delays['Avg_DEP_DELAY'], marker='o', linestyle='-')\n",
    "plt.xlabel('Date')\n",
    "plt.ylabel('Average Departure Delay (minutes)')\n",
    "plt.title('Time Series of Average Departure Delays')\n",
    "plt.xticks(rotation=45)  # Rotate x-axis labels for readability\n",
    "plt.grid(True)\n",
    "\n",
    "\n",
    "plt.show()\n",
    "\n",
    "# birds eye view"
   ]
  },
  {
   "cell_type": "code",
   "execution_count": 0,
   "metadata": {
    "application/vnd.databricks.v1+cell": {
     "cellMetadata": {
      "byteLimit": 2048000,
      "rowLimit": 10000
     },
     "inputWidgets": {},
     "nuid": "1462ebe3-360a-4584-85a4-dbf0cfa6d006",
     "showTitle": false,
     "tableResultSettingsMap": {},
     "title": ""
    }
   },
   "outputs": [],
   "source": [
    "from pyspark.sql.functions import col\n",
    "\n",
    "#template to look at box plots and see what might be predictive of delay\n",
    "\n",
    "wind_df = qdf_otpw.filter(F.col('HourlyWindSpeed').isNotNull()) \\\n",
    "    .withColumn(\"DEP_DEL15\", col(\"DEP_DEL15\").cast(\"string\")) \\\n",
    "    .select(\"HourlyWindSpeed\", \"DEP_DEL15\") \\\n",
    "    .toPandas()\n",
    "\n",
    "plt.figure(figsize=(12, 6))\n",
    "wind_df.boxplot(column=\"HourlyWindSpeed\", by=\"DEP_DEL15\")\n",
    "\n",
    "plt.xticks(rotation=90) \n",
    "plt.xlabel(\"Departure Delay (Binary: 0 = No Delay, 1 = Delayed)\")\n",
    "plt.ylabel(\"Hourly Wind Speed\")\n",
    "plt.title(\"Boxplot of Hourly Wind Speed by Departure Delay\")\n",
    "plt.suptitle(\"\")\n",
    "plt.show()\n",
    "\n",
    "#maybe need to take into account direction wrt route?? why 50 mph but not delayed (or canceled since cancelled DEP_DEL15 will be null)"
   ]
  },
  {
   "cell_type": "markdown",
   "metadata": {
    "application/vnd.databricks.v1+cell": {
     "cellMetadata": {},
     "inputWidgets": {},
     "nuid": "435ce6c0-3f1b-4e74-8e94-c785b540976b",
     "showTitle": false,
     "tableResultSettingsMap": {},
     "title": ""
    }
   },
   "source": [
    "- lagged delay times/expected arrival times for each record based on aircraft tracking; lagged weather @ origin lags, etc"
   ]
  },
  {
   "cell_type": "markdown",
   "metadata": {
    "application/vnd.databricks.v1+cell": {
     "cellMetadata": {
      "byteLimit": 2048000,
      "rowLimit": 10000
     },
     "inputWidgets": {},
     "nuid": "d5b359b7-79d6-4625-b09e-abd5f8cce58e",
     "showTitle": false,
     "tableResultSettingsMap": {},
     "title": ""
    }
   },
   "source": [
    "## Nulls exploration"
   ]
  },
  {
   "cell_type": "code",
   "execution_count": 0,
   "metadata": {
    "application/vnd.databricks.v1+cell": {
     "cellMetadata": {
      "byteLimit": 2048000,
      "rowLimit": 10000
     },
     "inputWidgets": {},
     "nuid": "894e737f-d0ce-4f65-977d-bc1c7aa931d8",
     "showTitle": false,
     "tableResultSettingsMap": {},
     "title": ""
    }
   },
   "outputs": [],
   "source": [
    "qdf_nulls = qdf_otpw.select([count(when(isnan(c) | col(c).isNull(), c)).alias(c) for c in qdf_otpw.columns]).toPandas().T.sort_values(by=0, ascending=False)"
   ]
  },
  {
   "cell_type": "code",
   "execution_count": 0,
   "metadata": {
    "application/vnd.databricks.v1+cell": {
     "cellMetadata": {
      "byteLimit": 2048000,
      "rowLimit": 10000
     },
     "inputWidgets": {},
     "nuid": "fd35fbd3-ad31-4f17-8fe9-04e034b97480",
     "showTitle": false,
     "tableResultSettingsMap": {},
     "title": ""
    }
   },
   "outputs": [],
   "source": [
    "qdf_nulls[qdf_nulls[0]>0].head(50)"
   ]
  },
  {
   "cell_type": "code",
   "execution_count": 0,
   "metadata": {
    "application/vnd.databricks.v1+cell": {
     "cellMetadata": {
      "byteLimit": 2048000,
      "rowLimit": 10000
     },
     "inputWidgets": {},
     "nuid": "bd386963-778c-4f8c-ad4a-592c628fa4de",
     "showTitle": false,
     "tableResultSettingsMap": {},
     "title": ""
    }
   },
   "outputs": [],
   "source": [
    "qdf_nulls[qdf_nulls[0]>0].tail(50)"
   ]
  },
  {
   "cell_type": "markdown",
   "metadata": {
    "application/vnd.databricks.v1+cell": {
     "cellMetadata": {},
     "inputWidgets": {},
     "nuid": "8a044fcd-34eb-4867-be29-f81b1d51945c",
     "showTitle": false,
     "tableResultSettingsMap": {},
     "title": ""
    }
   },
   "source": [
    "### Hourly Cols"
   ]
  },
  {
   "cell_type": "code",
   "execution_count": 0,
   "metadata": {
    "application/vnd.databricks.v1+cell": {
     "cellMetadata": {
      "byteLimit": 2048000,
      "rowLimit": 10000
     },
     "inputWidgets": {},
     "nuid": "d11b837d-58aa-4004-a132-c07dbcee3462",
     "showTitle": false,
     "tableResultSettingsMap": {},
     "title": ""
    }
   },
   "outputs": [],
   "source": [
    "#For rows with null values for columns of interest like Hourly dew point temp, are there other non null rows corresponding to the same airport and time that we can use/ match to fill in?\n",
    "\n",
    "display( qdf_otpw.withColumn(\"DEP_HOUR\", (F.col(\"DEP_TIME\") / 100).cast(\"int\")) \\\n",
    "    .groupBy('FL_DATE', 'DEP_HOUR', 'origin_station_name').agg(\n",
    "        F.count(F.when(F.col('HourlyDewPointTemperature').isNull(), 1)).alias('Null_Count'),\n",
    "        F.count(F.when(F.col('HourlyDewPointTemperature').isNotNull(), 1)).alias('Non_Null_Count')\n",
    ").orderBy('FL_DATE', 'origin_station_name','DEP_HOUR').filter(F.col('Null_Count')>0))\n",
    "\n",
    "#most of the time it seems like yes\n",
    "#but why are just 1 null and others non null for these, is it because of flight characteristics?\n",
    "#or row 620 - Detroit - 10 null, 27 non null at 8 am on jan 20\n",
    "#are these the same rows where other hourly cols are null? ie if dewp is null are other hourly weather vals null \n"
   ]
  },
  {
   "cell_type": "code",
   "execution_count": 0,
   "metadata": {
    "application/vnd.databricks.v1+cell": {
     "cellMetadata": {
      "byteLimit": 2048000,
      "rowLimit": 10000
     },
     "inputWidgets": {},
     "nuid": "53025ae7-c6c4-4e97-b76c-8fb168c2520b",
     "showTitle": false,
     "tableResultSettingsMap": {},
     "title": ""
    }
   },
   "outputs": [],
   "source": [
    "\n",
    "#try to find patterns for when some cols are null\n",
    "agg_expressions = [count(when(col(c).isNull(), 1)).alias(c) for c in qdf_otpw.columns if c != \"HourlyPrecipitation\"]\n",
    "\n",
    "null_counts = qdf_otpw.filter(col(\"HourlyPrecipitation\").isNull()).agg(*agg_expressions)\n",
    "\n",
    "display(null_counts)\n",
    "\n",
    "#note monthly total liquid precipitation only has 159028 missing records when hourly preciptation is null, only a small portion of the 1401363 overall missing monthly total liquid precipitation records\n"
   ]
  },
  {
   "cell_type": "code",
   "execution_count": 0,
   "metadata": {
    "application/vnd.databricks.v1+cell": {
     "cellMetadata": {
      "byteLimit": 2048000,
      "rowLimit": 10000
     },
     "inputWidgets": {},
     "nuid": "fb07d136-951d-4697-b929-4a752fa82abb",
     "showTitle": false,
     "tableResultSettingsMap": {},
     "title": ""
    }
   },
   "outputs": [],
   "source": [
    "#confirm the cols are all null on the same records\n",
    "agg_expressions = [count(when(col(c).isNull(), 1)).alias(c) for c in qdf_otpw.columns if c != \"MonthlyTotalLiquidPrecipitation\"]\n",
    "\n",
    "display(qdf_otpw.filter(col(\"MonthlyTotalLiquidPrecipitation\").isNull()).agg(*agg_expressions))\n"
   ]
  },
  {
   "cell_type": "code",
   "execution_count": 0,
   "metadata": {
    "application/vnd.databricks.v1+cell": {
     "cellMetadata": {
      "byteLimit": 2048000,
      "rowLimit": 10000
     },
     "inputWidgets": {},
     "nuid": "cf0b3204-5e09-425a-bb21-72cbe6b82cd5",
     "showTitle": false,
     "tableResultSettingsMap": {},
     "title": ""
    }
   },
   "outputs": [],
   "source": [
    "display(\n",
    "    qdf_otpw.filter(F.col(\"HourlyPrecipitation\").isNull())\n",
    "    .groupBy('REPORT_TYPE')\n",
    "    .agg(F.count('*').alias('count'))\n",
    "    .orderBy(F.desc('count'))\n",
    ")\n",
    "\n",
    "#   FM-16 = SPECI Aviation selected special weather report \n",
    "#   FM-12 = SYNOP Report of surface observation form a fixed land station "
   ]
  },
  {
   "cell_type": "code",
   "execution_count": 0,
   "metadata": {
    "application/vnd.databricks.v1+cell": {
     "cellMetadata": {
      "byteLimit": 2048000,
      "rowLimit": 10000
     },
     "inputWidgets": {},
     "nuid": "3f35a154-93bf-43d7-a0c6-7b143a93ef87",
     "showTitle": false,
     "tableResultSettingsMap": {},
     "title": ""
    }
   },
   "outputs": [],
   "source": [
    "total_counts = qdf_otpw.groupBy('origin_station_name').agg(F.count('*').alias('total_count'))\n",
    "\n",
    "\n",
    "null_counts = qdf_otpw.filter(F.col(\"HourlyPrecipitation\").isNull()) \\\n",
    "    .groupBy('origin_station_name') \\\n",
    "    .agg(F.count('*').alias('null_count'))\n",
    "\n",
    "\n",
    "percent_nulls = null_counts.join(total_counts, on=\"origin_station_name\") \\\n",
    "    .withColumn(\"percentage_null\", (F.col(\"null_count\") / F.col(\"total_count\")) * 100) \\\n",
    "    .orderBy(F.desc(\"percentage_null\")) \\\n",
    "    .join(qdf_otpw.select('origin_station_name','origin_station_dis', 'origin_type').distinct(), on=\"origin_station_name\")\n",
    "\n",
    "display(percent_nulls)\n",
    "\n",
    "#some stations are entirely null hourly records :( suggests that some stations are not reporting hourly weather data? \n",
    "#but not due to distance to station\n"
   ]
  },
  {
   "cell_type": "code",
   "execution_count": 0,
   "metadata": {
    "application/vnd.databricks.v1+cell": {
     "cellMetadata": {
      "byteLimit": 2048000,
      "rowLimit": 10000
     },
     "inputWidgets": {},
     "nuid": "c5c6dc22-be7d-43e4-963b-e09a105549d6",
     "showTitle": false,
     "tableResultSettingsMap": {},
     "title": ""
    }
   },
   "outputs": [],
   "source": [
    "\n",
    "display(qdf_otpw.filter(col('HourlyPrecipitation').isNull()) \\\n",
    "                 .select(count(when(col('BackupName').isNull(), 1)).alias('Null Count'), count(when(col('BackupName').isNotNull(), 1)).alias('Valid Count')))\n",
    "\n"
   ]
  },
  {
   "cell_type": "code",
   "execution_count": 0,
   "metadata": {
    "application/vnd.databricks.v1+cell": {
     "cellMetadata": {},
     "inputWidgets": {},
     "nuid": "bdb35e31-b7d7-4de8-ac01-cb8d03d7eda1",
     "showTitle": false,
     "tableResultSettingsMap": {},
     "title": ""
    }
   },
   "outputs": [],
   "source": [
    "#how many missing records per day per airport, is there at least 1 per hour? maybe some null to avoid duplicates?"
   ]
  }
 ],
 "metadata": {
  "application/vnd.databricks.v1+notebook": {
   "computePreferences": null,
   "dashboards": [],
   "environmentMetadata": {
    "base_environment": "",
    "environment_version": "2"
   },
   "inputWidgetPreferences": null,
   "language": "python",
   "notebookMetadata": {
    "pythonIndentUnit": 4
   },
   "notebookName": "0.02-team-OTPW-EDA",
   "widgets": {}
  },
  "language_info": {
   "name": "python"
  }
 },
 "nbformat": 4,
 "nbformat_minor": 0
}
