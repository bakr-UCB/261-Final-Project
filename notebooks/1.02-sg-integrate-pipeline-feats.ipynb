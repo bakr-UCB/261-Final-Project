{
 "cells": [
  {
   "cell_type": "markdown",
   "metadata": {
    "application/vnd.databricks.v1+cell": {
     "cellMetadata": {},
     "inputWidgets": {},
     "nuid": "2837fa0c-fec7-47ab-9644-1e69c923ef7e",
     "showTitle": false,
     "tableResultSettingsMap": {},
     "title": ""
    }
   },
   "source": [
    "# Feature Engineering Pipeline (Experimental)"
   ]
  },
  {
   "cell_type": "code",
   "execution_count": 0,
   "metadata": {
    "application/vnd.databricks.v1+cell": {
     "cellMetadata": {
      "byteLimit": 2048000,
      "rowLimit": 10000
     },
     "inputWidgets": {},
     "nuid": "b3f79e1a-4ce9-423e-9763-2e0ee9475a03",
     "showTitle": false,
     "tableResultSettingsMap": {},
     "title": ""
    }
   },
   "outputs": [],
   "source": [
    "from pyspark.sql import functions as F"
   ]
  },
  {
   "cell_type": "code",
   "execution_count": 0,
   "metadata": {
    "application/vnd.databricks.v1+cell": {
     "cellMetadata": {
      "byteLimit": 2048000,
      "rowLimit": 10000
     },
     "inputWidgets": {},
     "nuid": "73d7ee59-4741-411b-8c75-757049c9a914",
     "showTitle": false,
     "tableResultSettingsMap": {},
     "title": ""
    }
   },
   "outputs": [],
   "source": [
    "# Load your pipeline\n",
    "%run /Workspace/Users/m.bakr@berkeley.edu/261-Final-Project/flightdelays/features.py"
   ]
  },
  {
   "cell_type": "code",
   "execution_count": 0,
   "metadata": {
    "application/vnd.databricks.v1+cell": {
     "cellMetadata": {
      "byteLimit": 2048000,
      "rowLimit": 10000
     },
     "inputWidgets": {},
     "nuid": "028e11d6-c990-453b-a0d9-daa942db2cb7",
     "showTitle": false,
     "tableResultSettingsMap": {},
     "title": ""
    }
   },
   "outputs": [],
   "source": [
    "team_BASE_DIR = f\"dbfs:/student-groups/Group_4_1\"\n",
    "\n",
    "df = spark.read.parquet(f\"{team_BASE_DIR}/interim/join_checkpoints/joined__timefeat_seasfeat_cleaned_pr_v2.parquet\")\n"
   ]
  },
  {
   "cell_type": "code",
   "execution_count": 0,
   "metadata": {
    "application/vnd.databricks.v1+cell": {
     "cellMetadata": {
      "byteLimit": 2048000,
      "rowLimit": 10000
     },
     "inputWidgets": {},
     "nuid": "b10573f8-8ab0-4b12-872e-1c68cc94b98c",
     "showTitle": false,
     "tableResultSettingsMap": {},
     "title": ""
    }
   },
   "outputs": [],
   "source": [
    "BASE_FEATURE_PATH = f\"{team_BASE_DIR}/features\"\n"
   ]
  },
  {
   "cell_type": "code",
   "execution_count": 0,
   "metadata": {
    "application/vnd.databricks.v1+cell": {
     "cellMetadata": {
      "byteLimit": 2048000,
      "rowLimit": 10000
     },
     "inputWidgets": {},
     "nuid": "8611b208-936b-4891-a41a-02f39687441f",
     "showTitle": false,
     "tableResultSettingsMap": {},
     "title": ""
    }
   },
   "outputs": [],
   "source": [
    "from flightdelays.features import *"
   ]
  },
  {
   "cell_type": "code",
   "execution_count": 0,
   "metadata": {
    "application/vnd.databricks.v1+cell": {
     "cellMetadata": {
      "byteLimit": 2048000,
      "rowLimit": 10000
     },
     "inputWidgets": {},
     "nuid": "19693cc3-f7ed-4b7d-bb7f-8b547d039c0c",
     "showTitle": false,
     "tableResultSettingsMap": {},
     "title": ""
    }
   },
   "outputs": [],
   "source": [
    "df = df.withColumn(\"outcome\", (F.when((F.col(\"DEP_DELAY\") >= 15) | (F.col(\"CANCELLED\") == 1), 1).otherwise(0)).cast(\"double\"))\n",
    "\n",
    "df.cache()"
   ]
  },
  {
   "cell_type": "code",
   "execution_count": 0,
   "metadata": {
    "application/vnd.databricks.v1+cell": {
     "cellMetadata": {
      "byteLimit": 2048000,
      "rowLimit": 10000
     },
     "inputWidgets": {},
     "nuid": "138fa39b-396e-481a-9112-d3581a564d0f",
     "showTitle": false,
     "tableResultSettingsMap": {},
     "title": ""
    }
   },
   "outputs": [],
   "source": [
    "cols_to_exclude = ['daily', 'weekly', 'yearly', 'holidays', 'train', 'test', 'mean_dep_delay', 'prop_delayed']\n",
    "selected_cols = [col for col in df.columns if not any(col.startswith(prefix) for prefix in cols_to_exclude)]\n",
    "\n",
    "df_selected = df.select(selected_cols)\n",
    "display(df_selected)"
   ]
  },
  {
   "cell_type": "code",
   "execution_count": 0,
   "metadata": {
    "application/vnd.databricks.v1+cell": {
     "cellMetadata": {
      "byteLimit": 2048000,
      "rowLimit": 10000
     },
     "inputWidgets": {},
     "nuid": "8641ba31-4641-4790-8229-5594d597d981",
     "showTitle": false,
     "tableResultSettingsMap": {},
     "title": ""
    }
   },
   "outputs": [],
   "source": [
    "df_eng = compute_and_join_pagerank_metrics(df, base_path=BASE_FEATURE_PATH, test_mode=False)\n"
   ]
  },
  {
   "cell_type": "code",
   "execution_count": 0,
   "metadata": {
    "application/vnd.databricks.v1+cell": {
     "cellMetadata": {
      "byteLimit": 2048000,
      "rowLimit": 10000
     },
     "inputWidgets": {},
     "nuid": "ee777d0d-9bd8-4379-a485-9e8353507182",
     "showTitle": false,
     "tableResultSettingsMap": {
      "0": {
       "dataGridStateBlob": null,
       "filterBlob": "{\"filterGroups\":[{\"enabled\":true,\"filterGroupId\":\"fg_3452ff28\",\"op\":\"OR\",\"filters\":[{\"filterId\":\"f_92a848c1\",\"enabled\":true,\"columnId\":\"ORIGIN\",\"dataType\":\"string\",\"filterType\":\"oneof\",\"filterValues\":[\"PSE\",\"INL\",\"MSY\",\"PPG\"],\"filterConfig\":{\"caseSensitive\":true}}],\"local\":false,\"updatedAt\":1745012126775}],\"syncTimestamp\":1745012126775}",
       "queryPlanFiltersBlob": null,
       "tableResultIndex": 0
      }
     },
     "title": ""
    }
   },
   "outputs": [],
   "source": [
    "display(flights.select('YEAR','QUARTER','ORIGIN','pagerank','in_degree','out_degree'))"
   ]
  },
  {
   "cell_type": "code",
   "execution_count": 0,
   "metadata": {
    "application/vnd.databricks.v1+cell": {
     "cellMetadata": {
      "byteLimit": 2048000,
      "rowLimit": 10000
     },
     "inputWidgets": {},
     "nuid": "b8ee7db0-eb3d-47c8-9742-d4ad31cb1960",
     "showTitle": false,
     "tableResultSettingsMap": {},
     "title": ""
    }
   },
   "outputs": [],
   "source": [
    "test = spark.read.parquet(\"dbfs:/student-groups/Group_4_1/features/airport_pagerank/year=2015/\")"
   ]
  },
  {
   "cell_type": "code",
   "execution_count": 0,
   "metadata": {
    "application/vnd.databricks.v1+cell": {
     "cellMetadata": {
      "byteLimit": 2048000,
      "rowLimit": 10000
     },
     "inputWidgets": {},
     "nuid": "edcaf70b-b428-4c73-9e0f-351336a9e4f1",
     "showTitle": false,
     "tableResultSettingsMap": {},
     "title": ""
    }
   },
   "outputs": [],
   "source": [
    "display(test.select('id','pagerank','in_degree','out_degree'))"
   ]
  },
  {
   "cell_type": "code",
   "execution_count": 0,
   "metadata": {
    "application/vnd.databricks.v1+cell": {
     "cellMetadata": {
      "byteLimit": 2048000,
      "rowLimit": 10000
     },
     "inputWidgets": {},
     "nuid": "656c4828-6e1f-4500-9481-1d10cbc29b29",
     "showTitle": false,
     "tableResultSettingsMap": {},
     "title": ""
    }
   },
   "outputs": [],
   "source": [
    "# Apply feature steps\n",
    "flights = add_local_time_features(flights, time_col=\"sched_depart_date_time\", test_mode=True)\n",
    "flights = compute_and_join_pagerank_metrics(flights, base_path=BASE_FEATURE_PATH, test_mode=True)\n",
    "flights = generate_lagged_delay_aggregates(flights, base_path=BASE_FEATURE_PATH, test_mode=True)\n",
    "flights = add_prophet_features_per_airport(flights, base_path=BASE_FEATURE_PATH, test_mode=True)\n",
    "\n",
    "# Save final feature set for model training\n",
    "save_features(flights, f\"{BASE_FEATURE_PATH}/full_features_test\")"
   ]
  },
  {
   "cell_type": "code",
   "execution_count": 0,
   "metadata": {
    "application/vnd.databricks.v1+cell": {
     "cellMetadata": {
      "byteLimit": 2048000,
      "rowLimit": 10000
     },
     "inputWidgets": {},
     "nuid": "275fbe5f-500e-40e3-a4d7-15ba36c91a3c",
     "showTitle": false,
     "tableResultSettingsMap": {},
     "title": ""
    }
   },
   "outputs": [],
   "source": [
    "# Directory Inspection\n",
    "display(dbutils.fs.ls(f\"{BASE_FEATURE_PATH}/\"))"
   ]
  },
  {
   "cell_type": "code",
   "execution_count": 0,
   "metadata": {
    "application/vnd.databricks.v1+cell": {
     "cellMetadata": {
      "byteLimit": 2048000,
      "rowLimit": 10000
     },
     "inputWidgets": {},
     "nuid": "b432bb14-6b07-42f1-af3c-222684241567",
     "showTitle": false,
     "tableResultSettingsMap": {},
     "title": ""
    }
   },
   "outputs": [],
   "source": [
    "import holidays\n",
    "import datetime\n",
    "us_holidays = holidays.US()\n",
    "datetime.date(2025, 1, 1) in us_holidays\n"
   ]
  },
  {
   "cell_type": "code",
   "execution_count": 0,
   "metadata": {
    "application/vnd.databricks.v1+cell": {
     "cellMetadata": {
      "byteLimit": 2048000,
      "rowLimit": 10000
     },
     "inputWidgets": {},
     "nuid": "6c3a4ff9-e1ef-4cce-bc89-9a2193b3c18a",
     "showTitle": false,
     "tableResultSettingsMap": {},
     "title": ""
    }
   },
   "outputs": [],
   "source": [
    "display(flights)"
   ]
  },
  {
   "cell_type": "code",
   "execution_count": 0,
   "metadata": {
    "application/vnd.databricks.v1+cell": {
     "cellMetadata": {
      "byteLimit": 2048000,
      "rowLimit": 10000
     },
     "inputWidgets": {},
     "nuid": "b06918c9-710d-4b77-8968-e6bcce87b7ff",
     "showTitle": false,
     "tableResultSettingsMap": {},
     "title": ""
    }
   },
   "outputs": [],
   "source": [
    "sdf = flights.filter(col(\"ORIGIN\") == 'BOS').withColumn(\"ds\", to_date(\"FL_DATE\"))\n",
    "df_pd = sdf.groupBy(\"ds\").agg(avg(\"outcome\").alias(\"y\")).orderBy(\"ds\").toPandas()"
   ]
  },
  {
   "cell_type": "code",
   "execution_count": 0,
   "metadata": {
    "application/vnd.databricks.v1+cell": {
     "cellMetadata": {
      "byteLimit": 2048000,
      "rowLimit": 10000
     },
     "inputWidgets": {},
     "nuid": "2b6603ba-11da-44d4-b791-8e79fcc8d20f",
     "showTitle": false,
     "tableResultSettingsMap": {},
     "title": ""
    }
   },
   "outputs": [],
   "source": [
    "isinstance(df_pd, pd.DataFrame)"
   ]
  },
  {
   "cell_type": "code",
   "execution_count": 0,
   "metadata": {
    "application/vnd.databricks.v1+cell": {
     "cellMetadata": {
      "byteLimit": 2048000,
      "rowLimit": 10000
     },
     "inputWidgets": {},
     "nuid": "d3b856ae-9198-4352-a95f-eae235b14560",
     "showTitle": false,
     "tableResultSettingsMap": {},
     "title": ""
    }
   },
   "outputs": [],
   "source": [
    "df_pd[\"ds\"] = pd.to_datetime(df_pd[\"ds\"])"
   ]
  },
  {
   "cell_type": "code",
   "execution_count": 0,
   "metadata": {
    "application/vnd.databricks.v1+cell": {
     "cellMetadata": {
      "byteLimit": 2048000,
      "rowLimit": 10000
     },
     "inputWidgets": {},
     "nuid": "c3c0de2e-1c58-4e9f-b29a-b06c2c721e4a",
     "showTitle": false,
     "tableResultSettingsMap": {},
     "title": ""
    }
   },
   "outputs": [],
   "source": [
    "us_holidays = holidays.US(years=range(2014, 2020))\n",
    "holiday_dates = list(us_holidays.keys())"
   ]
  },
  {
   "cell_type": "code",
   "execution_count": 0,
   "metadata": {
    "application/vnd.databricks.v1+cell": {
     "cellMetadata": {
      "byteLimit": 2048000,
      "rowLimit": 10000
     },
     "inputWidgets": {},
     "nuid": "1ba5299b-b7f9-4306-86bb-2e00bc6a3ea8",
     "showTitle": false,
     "tableResultSettingsMap": {},
     "title": ""
    }
   },
   "outputs": [],
   "source": [
    "us_holidays_ts = [pd.Timestamp(h) for h in us_holidays]\n"
   ]
  },
  {
   "cell_type": "code",
   "execution_count": 0,
   "metadata": {
    "application/vnd.databricks.v1+cell": {
     "cellMetadata": {
      "byteLimit": 2048000,
      "rowLimit": 10000
     },
     "inputWidgets": {},
     "nuid": "1f75c795-21b2-410c-ba41-8789bfe3693c",
     "showTitle": false,
     "tableResultSettingsMap": {},
     "title": ""
    }
   },
   "outputs": [],
   "source": [
    "df_pd[\"holidays\"] = df_pd[\"ds\"].apply(\n",
    "    lambda d: [__builtins__.abs((d - h).days) for h in us_holidays_ts]\n",
    ")\n"
   ]
  },
  {
   "cell_type": "markdown",
   "metadata": {
    "application/vnd.databricks.v1+cell": {
     "cellMetadata": {},
     "inputWidgets": {},
     "nuid": "26f251c5-dbf9-42b6-ab22-847cefdf94d3",
     "showTitle": false,
     "tableResultSettingsMap": {},
     "title": ""
    }
   },
   "source": []
  },
  {
   "cell_type": "code",
   "execution_count": 0,
   "metadata": {
    "application/vnd.databricks.v1+cell": {
     "cellMetadata": {
      "byteLimit": 2048000,
      "rowLimit": 10000
     },
     "inputWidgets": {},
     "nuid": "fa12d518-0365-4052-ba17-2a0fe38118ef",
     "showTitle": false,
     "tableResultSettingsMap": {},
     "title": ""
    }
   },
   "outputs": [],
   "source": [
    "df_pd[\"is_holiday_week\"] = df_pd[\"ds\"].apply(\n",
    "    lambda d: any(__builtins__.abs((d - pd.Timestamp(h)).days) <= 3 for h in us_holidays_ts)\n",
    ")"
   ]
  },
  {
   "cell_type": "code",
   "execution_count": 0,
   "metadata": {
    "application/vnd.databricks.v1+cell": {
     "cellMetadata": {
      "byteLimit": 2048000,
      "rowLimit": 10000
     },
     "inputWidgets": {},
     "nuid": "5b0f5f57-babe-4a4f-b157-012a82298e6e",
     "showTitle": false,
     "tableResultSettingsMap": {},
     "title": ""
    }
   },
   "outputs": [],
   "source": [
    "df_pd['is_holiday_week'].value_counts()"
   ]
  },
  {
   "cell_type": "code",
   "execution_count": 0,
   "metadata": {
    "application/vnd.databricks.v1+cell": {
     "cellMetadata": {
      "byteLimit": 2048000,
      "rowLimit": 10000
     },
     "inputWidgets": {},
     "nuid": "3bd2fe79-5687-4cbb-827a-a0baf6a6dcfb",
     "showTitle": false,
     "tableResultSettingsMap": {},
     "title": ""
    }
   },
   "outputs": [],
   "source": [
    "model = Prophet(\n",
    "                weekly_seasonality=True,\n",
    "                yearly_seasonality=True,\n",
    "                daily_seasonality=True,\n",
    "                holidays_prior_scale=10\n",
    "            )\n",
    "model.add_country_holidays(country_name='US')\n",
    "model.fit(df_pd)\n"
   ]
  },
  {
   "cell_type": "code",
   "execution_count": 0,
   "metadata": {
    "application/vnd.databricks.v1+cell": {
     "cellMetadata": {
      "byteLimit": 2048000,
      "rowLimit": 10000
     },
     "inputWidgets": {},
     "nuid": "14666d35-dcdd-4904-a56b-41b2a6c5c5a1",
     "showTitle": false,
     "tableResultSettingsMap": {},
     "title": ""
    }
   },
   "outputs": [],
   "source": [
    "future = model.make_future_dataframe(periods=0)\n",
    "forecast = model.predict(future)\n",
    "merged = pd.merge(forecast, df_pd, how=\"left\", on=\"ds\")"
   ]
  },
  {
   "cell_type": "code",
   "execution_count": 0,
   "metadata": {
    "application/vnd.databricks.v1+cell": {
     "cellMetadata": {
      "byteLimit": 2048000,
      "rowLimit": 10000
     },
     "inputWidgets": {},
     "nuid": "03361ed5-195b-4382-8df4-531f51127c4c",
     "showTitle": false,
     "tableResultSettingsMap": {},
     "title": ""
    }
   },
   "outputs": [],
   "source": [
    "merged"
   ]
  },
  {
   "cell_type": "code",
   "execution_count": 0,
   "metadata": {
    "application/vnd.databricks.v1+cell": {
     "cellMetadata": {},
     "inputWidgets": {},
     "nuid": "53e37c0c-e4ec-4d25-a72e-3e2ea5bbf4f9",
     "showTitle": false,
     "tableResultSettingsMap": {},
     "title": ""
    }
   },
   "outputs": [],
   "source": [
    "airport_list = [\"JFK\", \"ORD\"] \n",
    "result_frames = []\n",
    "\n",
    "for airport in airport_list:\n",
    "        print(f\"🔮 Prophet for airport: {airport}\")\n",
    "        save_path = f\"{base_path}/prophet_outputs/airport={airport}/\"\n",
    "\n",
    "        if Path(save_path).exists():\n",
    "            prophet_df = spark.read.parquet(save_path)\n",
    "            print(f\"✅ Loaded cached Prophet features for {airport}\")\n",
    "        else:\n",
    "            sdf = spark_df.filter(col(\"ORIGIN\") == airport).withColumn(\"ds\", to_date(\"FL_DATE\"))\n",
    "            df_pd = sdf.groupBy(\"ds\").agg(avg(\"outcome\").alias(\"y\")).orderBy(\"ds\").toPandas()\n",
    "\n",
    "            if df_pd.shape[0] < 90:\n",
    "                print(f\"⚠️ Not enough data for Prophet at {airport} — skipping.\")\n",
    "                continue\n",
    "            df_pd[\"ds\"] = pd.to_datetime(df_pd[\"ds\"])\n",
    "            print(holidays.US())\n",
    "            df_pd[\"holidays\"] = df_pd[\"ds\"].apply(lambda d: abs((d - pd.Timestamp(h)).days) for h in holidays.US())\n",
    "            df_pd[\"is_holiday_week\"] = df_pd[\"ds\"].apply(\n",
    "                lambda d: any(abs((d - pd.Timestamp(h)).days) <= 3 for h in holidays.US())\n",
    "            )\n",
    "\n",
    "            model = Prophet(\n",
    "                weekly_seasonality=True,\n",
    "                yearly_seasonality=True,\n",
    "                daily_seasonality=True,\n",
    "                holidays_prior_scale=10\n",
    "            )\n",
    "            model.add_country_holidays(country_name='US')\n",
    "            model.fit(df_pd)\n",
    "\n",
    "            future = model.make_future_dataframe(periods=0)\n",
    "            forecast = model.predict(future)\n",
    "            merged = pd.merge(forecast, df_pd, how=\"left\", on=\"ds\")\n",
    "            merged[\"residual\"] = merged[\"y\"] - merged[\"yhat\"]\n",
    "            merged[\"FL_DATE\"] = merged[\"ds\"] + pd.Timedelta(days=7)\n",
    "            # Extract only past dates & components\n",
    "            prophet_features = merged[[\"trend\", \"FL_DATE\", \"weekly\", \"daily\", \"yearly\", \"residual\", \"additive_terms\", \"multiplicative_terms\", \"is_holiday_week\"]].copy()\n",
    "            prophet_features[\"ORIGIN\"] = airport\n",
    "            prophet_features[\"is_holiday_week\"] = df_pd.set_index(\"ds\")[\"is_holiday_week\"].reindex(forecast[\"ds\"]).fillna(False).values\n",
    "\n",
    "            final = spark.createDataFrame(prophet_features.rename(columns={\"ds\": \"FL_DATE\"}))\n",
    "            final.write.mode(\"overwrite\").parquet(save_path)\n",
    "            print(f\"💾 Saved Prophet output for {airport}\")\n",
    "            prophet_df = final\n"
   ]
  }
 ],
 "metadata": {
  "application/vnd.databricks.v1+notebook": {
   "computePreferences": null,
   "dashboards": [],
   "environmentMetadata": {
    "base_environment": "",
    "environment_version": "2"
   },
   "inputWidgetPreferences": null,
   "language": "python",
   "notebookMetadata": {
    "pythonIndentUnit": 4
   },
   "notebookName": "1.02-sg-integrate-pipeline-feats",
   "widgets": {}
  },
  "language_info": {
   "name": "python"
  }
 },
 "nbformat": 4,
 "nbformat_minor": 0
}
