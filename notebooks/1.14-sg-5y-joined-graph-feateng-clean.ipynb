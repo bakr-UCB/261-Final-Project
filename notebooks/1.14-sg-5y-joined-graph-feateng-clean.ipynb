{
 "cells": [
  {
   "cell_type": "code",
   "execution_count": 0,
   "metadata": {
    "application/vnd.databricks.v1+cell": {
     "cellMetadata": {
      "byteLimit": 2048000,
      "rowLimit": 10000
     },
     "inputWidgets": {},
     "nuid": "3f276bbf-63b3-4024-8900-58901e5ed521",
     "showTitle": false,
     "tableResultSettingsMap": {},
     "title": ""
    }
   },
   "outputs": [],
   "source": [
    "\n",
    "import pyspark.sql.functions as F\n",
    "from pyspark.sql.functions import col,isnan, when, count, concat_ws, countDistinct, collect_set, rank, window, avg, hour, udf, isnan, pandas_udf, to_timestamp, lit, PandasUDFType\n",
    "import matplotlib.pyplot as plt\n",
    "import pandas as pd\n",
    "import re\n",
    "import pytz\n",
    "from datetime import datetime, timedelta, time\n",
    "import numpy as np\n",
    "from pyspark.sql import types\n",
    "\n",
    "from pyspark.sql.types import StructType, StructField, StringType, IntegerType, StructType, DoubleType, LongType\n",
    "\n",
    "from pyspark.sql import Window\n",
    "import seaborn as sns"
   ]
  },
  {
   "cell_type": "code",
   "execution_count": 0,
   "metadata": {
    "application/vnd.databricks.v1+cell": {
     "cellMetadata": {
      "byteLimit": 2048000,
      "rowLimit": 10000
     },
     "inputWidgets": {},
     "nuid": "3f166b4a-d400-411b-b1f8-8f890188f865",
     "showTitle": false,
     "tableResultSettingsMap": {},
     "title": ""
    }
   },
   "outputs": [],
   "source": [
    "!pip install python-geohash\n",
    "import geohash\n",
    "from geohash import bbox"
   ]
  },
  {
   "cell_type": "code",
   "execution_count": 0,
   "metadata": {
    "application/vnd.databricks.v1+cell": {
     "cellMetadata": {
      "byteLimit": 2048000,
      "rowLimit": 10000
     },
     "inputWidgets": {},
     "nuid": "696cb845-b95b-46d3-aed8-c389f351d6d9",
     "showTitle": false,
     "tableResultSettingsMap": {},
     "title": ""
    }
   },
   "outputs": [],
   "source": [
    "df=spark.read.parquet(\"dbfs:/student-groups/Group_4_1/interim/join_checkpoints/joined__timefeat_seasfeat.parquet/\")"
   ]
  },
  {
   "cell_type": "code",
   "execution_count": 0,
   "metadata": {
    "application/vnd.databricks.v1+cell": {
     "cellMetadata": {
      "byteLimit": 2048000,
      "rowLimit": 10000
     },
     "inputWidgets": {},
     "nuid": "6624c7e4-283e-49b5-810b-f98463e4e576",
     "showTitle": false,
     "tableResultSettingsMap": {},
     "title": ""
    }
   },
   "outputs": [],
   "source": [
    "team_BASE_DIR = f\"dbfs:/student-groups/Group_4_1\"\n",
    "spark.sparkContext.setCheckpointDir(f\"{team_BASE_DIR}/interim\")"
   ]
  },
  {
   "cell_type": "markdown",
   "metadata": {
    "application/vnd.databricks.v1+cell": {
     "cellMetadata": {
      "byteLimit": 2048000,
      "rowLimit": 10000
     },
     "inputWidgets": {},
     "nuid": "1b6551cf-94c7-423b-b4dd-0cb2046ec479",
     "showTitle": false,
     "tableResultSettingsMap": {},
     "title": ""
    }
   },
   "source": [
    "#Weather Cleaning\n"
   ]
  },
  {
   "cell_type": "code",
   "execution_count": 0,
   "metadata": {
    "application/vnd.databricks.v1+cell": {
     "cellMetadata": {
      "byteLimit": 2048000,
      "rowLimit": 10000
     },
     "inputWidgets": {},
     "nuid": "e135163f-0b6d-4598-a58f-39c68cdc83e5",
     "showTitle": false,
     "tableResultSettingsMap": {},
     "title": ""
    }
   },
   "outputs": [],
   "source": [
    "\n",
    "\n",
    "df_interpolate = (\n",
    "    df\n",
    "    .withColumn(\n",
    "        \"origin_HourlyWindSpeed\",\n",
    "        F.when(\n",
    "            F.col(\"origin_HourlyWindSpeed\").isNull(),\n",
    "            # Extract sustained wind speed from METAR groups\n",
    "            F.regexp_extract(\n",
    "                F.col(\"origin_REM\"),\n",
    "                r'\\b(\\d{3})(\\d{2,3})(?:G(\\d{2,3}))?KT\\b',  # Regex pattern\n",
    "                2  # Capture group for sustained wind speed\n",
    "            ).cast(\"int\")\n",
    "        ).otherwise(F.col(\"origin_HourlyWindSpeed\"))\n",
    "    )\n",
    "    .withColumn(\n",
    "        \"origin_HourlyWindGustSpeed\",\n",
    "        F.when(\n",
    "            F.col(\"origin_HourlyWindGustSpeed\").isNull(),\n",
    "            F.greatest(\n",
    "                # Regular wind gust (G group)\n",
    "                F.regexp_extract(\n",
    "                    F.col(\"origin_REM\"),\n",
    "                    r'\\b(\\d{3})(\\d{2,3})(?:G(\\d{2,3}))?KT\\b',\n",
    "                    3\n",
    "                ).cast(\"int\"),\n",
    "                # Peak wind gust (PK WND group)\n",
    "                F.regexp_extract(\n",
    "                    F.col(\"origin_REM\"),\n",
    "                    r'PK WND (\\d{3})(\\d{2,3})/(\\d{4})',  # PK WND pattern\n",
    "                    2  # Capture group for peak wind speed\n",
    "                ).cast(\"int\")\n",
    "            )\n",
    "        ).otherwise(F.col(\"origin_HourlyWindGustSpeed\"))\n",
    "    )\n",
    ")\n",
    "\n",
    "\n",
    "df_interpolate = (df_interpolate \\\n",
    "    .withColumn(\n",
    "        'origin_HourlyPrecipitation',\n",
    "        F.when(\n",
    "            (F.col(\"origin_HourlyPrecipitation\").isNull()) | (F.col(\"origin_HourlyPrecipitation\") == '*'),\n",
    "            (F.regexp_extract(F.col(\"origin_REM\"), r\" P(\\d+)\", 1).cast(\"int\") * 0.01) # hundredths of inch kept in \"remarks\" section\n",
    "        ).otherwise(F.col(\"origin_HourlyPrecipitation\"))\n",
    "    ) \\\n",
    "    .withColumn('origin_HourlyPrecipitation', F.regexp_replace('origin_HourlyPrecipitation', 'T', '0.01')) \\\n",
    "    .withColumn(\n",
    "        'origin_HourlyPrecipitation',\n",
    "        F.regexp_extract('origin_HourlyPrecipitation', r\"[0-9]+(\\.[0-9]+)?\", 0) # Match digits\n",
    "    ) \\\n",
    "    .withColumn('origin_HourlyPrecipitation', F.col('origin_HourlyPrecipitation').cast(DoubleType())))"
   ]
  },
  {
   "cell_type": "code",
   "execution_count": 0,
   "metadata": {
    "application/vnd.databricks.v1+cell": {
     "cellMetadata": {
      "byteLimit": 2048000,
      "rowLimit": 10000
     },
     "inputWidgets": {},
     "nuid": "25eb5bed-21f4-4631-aa1d-ea6103d52908",
     "showTitle": false,
     "tableResultSettingsMap": {},
     "title": ""
    }
   },
   "outputs": [],
   "source": [
    "\n",
    "\n",
    "def encode_geohash(precision: int):\n",
    "    @pandas_udf(\"string\")\n",
    "    def encode(latitudes: pd.Series, longitudes: pd.Series) -> pd.Series:\n",
    "        def safe_encode(lat, lon):\n",
    "            try:\n",
    "                return geohash.encode(lat, lon, precision)\n",
    "            except Exception:\n",
    "                return None\n",
    "        return latitudes.combine(longitudes, safe_encode)\n",
    "    return encode\n",
    "\n",
    "geohash_udf = encode_geohash(precision=2)\n",
    "df_interpolate = df_interpolate.withColumn('geohash', geohash_udf(F.col('origin_LATITUDE'), F.col('origin_LONGITUDE')))\n",
    "display(df_interpolate)"
   ]
  },
  {
   "cell_type": "code",
   "execution_count": 0,
   "metadata": {
    "application/vnd.databricks.v1+cell": {
     "cellMetadata": {
      "byteLimit": 2048000,
      "rowLimit": 10000
     },
     "inputWidgets": {},
     "nuid": "420e520c-ffe9-46bd-a43e-8b0c48789a42",
     "showTitle": false,
     "tableResultSettingsMap": {},
     "title": ""
    }
   },
   "outputs": [],
   "source": [
    "def coalesce_within_geohash(\n",
    "    df, \n",
    "    target_col, \n",
    "    geohash_col=\"geohash\", \n",
    "    dt_col=\"sched_depart_utc\", \n",
    "    window_size=6\n",
    "):\n",
    "    \"\"\"Fill nulls in `target_col` using the latest non-null value from the same geohash.\"\"\"\n",
    "    \n",
    "    window_spec = (\n",
    "        Window.partitionBy(geohash_col)\n",
    "              .orderBy(F.col(dt_col).cast(\"long\"))\n",
    "              .rowsBetween(-window_size, 0)\n",
    "    )\n",
    "    \n",
    "    return df.withColumn(\n",
    "        target_col,\n",
    "        F.last(target_col, ignorenulls=True).over(window_spec)\n",
    "    )"
   ]
  },
  {
   "cell_type": "code",
   "execution_count": 0,
   "metadata": {
    "application/vnd.databricks.v1+cell": {
     "cellMetadata": {
      "byteLimit": 2048000,
      "rowLimit": 10000
     },
     "inputWidgets": {},
     "nuid": "1971f931-6b90-411b-a199-dac2c52f4d04",
     "showTitle": false,
     "tableResultSettingsMap": {},
     "title": ""
    }
   },
   "outputs": [],
   "source": [
    "df_interpolated = df_interpolate.withColumns(\n",
    "    {\"origin_HourlyPrecipitation\": df_interpolate[\"origin_HourlyPrecipitation\"].cast(\"float\"),\n",
    "     \"origin_HourlyWindGustSpeed\": df_interpolate[\"origin_HourlyWindGustSpeed\"].cast(\"float\"),\n",
    "     \"origin_HourlyWindSpeed\": df_interpolate[\"origin_HourlyWindSpeed\"].cast(\"float\"),\n",
    "     \"origin_HourlyDewPointTemperature\": df_interpolate[\"origin_HourlyDewPointTemperature\"].cast(\"float\"),\n",
    "     \"origin_HourlyDryBulbTemperature\": df_interpolate[\"origin_HourlyDryBulbTemperature\"].cast(\"float\"),\n",
    "     \"origin_HourlyPressureChange\": df_interpolate[\"origin_HourlyPressureChange\"].cast(\"float\"),\n",
    "     \"origin_HourlyRelativeHumidity\": df_interpolate[\"origin_HourlyRelativeHumidity\"].cast(\"float\"),\n",
    "     \"origin_HourlyWetBulbTemperature\": df_interpolate[\"origin_HourlyWetBulbTemperature\"].cast(\"float\"),\n",
    "     \"origin_HourlyVisibility\": df_interpolate[\"origin_HourlyVisibility\"].cast(\"float\")\n",
    "     \n",
    "     \n",
    "     })"
   ]
  },
  {
   "cell_type": "code",
   "execution_count": 0,
   "metadata": {
    "application/vnd.databricks.v1+cell": {
     "cellMetadata": {
      "byteLimit": 2048000,
      "rowLimit": 10000
     },
     "inputWidgets": {},
     "nuid": "6743852d-845e-402d-aeb6-1231d0f16007",
     "showTitle": false,
     "tableResultSettingsMap": {},
     "title": ""
    }
   },
   "outputs": [],
   "source": [
    "columns_to_fill = ['origin_HourlyVisibility','origin_HourlyWindSpeed','origin_HourlyDewPointTemperature','origin_HourlyDryBulbTemperature','origin_HourlyPressureChange','origin_HourlyRelativeHumidity','origin_HourlyWetBulbTemperature','origin_HourlyPrecipitation','origin_HourlyWindGustSpeed']\n",
    "\n",
    "for col in columns_to_fill:\n",
    "    df_interpolated = coalesce_within_geohash(df_interpolated, col)\n",
    "\n"
   ]
  },
  {
   "cell_type": "code",
   "execution_count": 0,
   "metadata": {
    "application/vnd.databricks.v1+cell": {
     "cellMetadata": {
      "byteLimit": 2048000,
      "rowLimit": 10000
     },
     "inputWidgets": {},
     "nuid": "e4714cd8-df63-46ae-abc1-109a5aa0a86d",
     "showTitle": false,
     "tableResultSettingsMap": {},
     "title": ""
    }
   },
   "outputs": [],
   "source": [
    "\n",
    "null_counts = df_interpolated.filter(F.col('origin_LATITUDE').isNotNull()).select(\n",
    "    [F.count(F.when(F.col(c).isNull() | F.isnan(c), c)).alias(c) for c in columns_to_fill]\n",
    ")\n",
    "\n",
    "null_counts_orig = df_interpolate.filter(F.col('origin_LATITUDE').isNotNull()).select(\n",
    "    [F.count(F.when(F.col(c).isNull() | F.isnan(c), c)).alias(c) for c in columns_to_fill]\n",
    ")\n",
    "display(null_counts_orig.unionByName(null_counts)) #null counts where we have non null loc (obviously, null loc is impossible to fill in by geohash)"
   ]
  },
  {
   "cell_type": "code",
   "execution_count": 0,
   "metadata": {
    "application/vnd.databricks.v1+cell": {
     "cellMetadata": {
      "byteLimit": 2048000,
      "rowLimit": 10000
     },
     "inputWidgets": {},
     "nuid": "3f05c78b-b27e-4317-b76a-12e8f75339f9",
     "showTitle": false,
     "tableResultSettingsMap": {},
     "title": ""
    }
   },
   "outputs": [],
   "source": [
    "\n",
    "\n",
    "@pandas_udf(DoubleType())\n",
    "def exponential_smoothing_pandas(values: pd.Series) -> pd.Series:\n",
    "    \"\"\"Vectorized UDF for exponential smoothing.\"\"\"\n",
    "    if values.empty or not pd.api.types.is_numeric_dtype(values):\n",
    "        return pd.Series([0.0] * len(values))  # Handle edge cases\n",
    "    return values.ewm(alpha=0.5, ignore_na=True).mean()\n",
    "\n",
    "def smooth_column_optimized(\n",
    "    df, \n",
    "    col_name, \n",
    "    station_col=\"origin_STATION\", \n",
    "    dt_col=\"sched_depart_date_time\", \n",
    "    window_size=6\n",
    "):\n",
    "    \"\"\"Applies exponential smoothing to remaining nulls\"\"\"\n",
    "    \n",
    "    # 1. Cast to numeric type and filter nulls\n",
    "    df = (\n",
    "        df.withColumn(col_name, F.col(col_name).cast(DoubleType()))\n",
    "    )\n",
    "    \n",
    "    # 2. Define window to collect non-null values\n",
    "    window_spec = (\n",
    "        Window.partitionBy(station_col)\n",
    "              .orderBy(F.col(dt_col).cast(\"long\"))\n",
    "              .rowsBetween(-window_size, 0)\n",
    "    )\n",
    "    \n",
    "    # 3. Collect ONLY non-null values within the window\n",
    "    df = df.withColumn(\n",
    "        \"non_null_values\",\n",
    "        F.collect_list(col_name).over(window_spec)\n",
    "    )\n",
    "    \n",
    "    # 4. Apply vectorized UDF and fill nulls\n",
    "    return (\n",
    "        df.withColumn(\"smoothed\", exponential_smoothing_pandas(\"non_null_values\"))\n",
    "          .withColumn(\n",
    "              col_name, \n",
    "              F.coalesce(F.col(col_name), F.col(\"smoothed\"))\n",
    "          )\n",
    "          .drop(\"non_null_values\", \"smoothed\")\n",
    "    )\n"
   ]
  },
  {
   "cell_type": "code",
   "execution_count": 0,
   "metadata": {
    "application/vnd.databricks.v1+cell": {
     "cellMetadata": {
      "byteLimit": 2048000,
      "rowLimit": 10000
     },
     "inputWidgets": {},
     "nuid": "9a2a6cfe-502c-428e-a60f-3c04e12b3274",
     "showTitle": false,
     "tableResultSettingsMap": {},
     "title": ""
    }
   },
   "outputs": [],
   "source": [
    "columns_to_fill = ['origin_HourlyWindSpeed','origin_HourlyDewPointTemperature','origin_HourlyDryBulbTemperature','origin_HourlyPressureChange','origin_HourlyRelativeHumidity','origin_HourlyWetBulbTemperature','origin_HourlyPrecipitation','origin_HourlyWindGustSpeed','origin_HourlyVisibility']\n",
    "\n",
    "for col in columns_to_fill:\n",
    "    df_interpolated = smooth_column_optimized(df_interpolated, col)\n",
    "\n"
   ]
  },
  {
   "cell_type": "code",
   "execution_count": 0,
   "metadata": {
    "application/vnd.databricks.v1+cell": {
     "cellMetadata": {
      "byteLimit": 2048000,
      "rowLimit": 10000
     },
     "inputWidgets": {},
     "nuid": "5ca0e726-9bde-42ad-b61e-d4fed9561927",
     "showTitle": false,
     "tableResultSettingsMap": {},
     "title": ""
    }
   },
   "outputs": [],
   "source": [
    "filled_cols = ['origin_HourlyVisibility','origin_HourlyWindSpeed','origin_HourlyDewPointTemperature','origin_HourlyDryBulbTemperature','origin_HourlyPressureChange','origin_HourlyRelativeHumidity','origin_HourlyWetBulbTemperature','origin_HourlyPrecipitation','origin_HourlyWindGustSpeed']\n",
    "\n",
    "null_counts_ema = df_interpolated.filter(F.col('origin_LATITUDE').isNotNull()).select(\n",
    "    [F.count(F.when(F.col(c).isNull() | F.isnan(c), c)).alias(c) for c in filled_cols]\n",
    ")\n"
   ]
  },
  {
   "cell_type": "code",
   "execution_count": 0,
   "metadata": {
    "application/vnd.databricks.v1+cell": {
     "cellMetadata": {
      "byteLimit": 2048000,
      "rowLimit": 10000
     },
     "inputWidgets": {},
     "nuid": "57fca9e5-8dad-4ba4-a63f-5854d6eda385",
     "showTitle": false,
     "tableResultSettingsMap": {},
     "title": ""
    }
   },
   "outputs": [],
   "source": [
    "display(null_counts_orig.unionByName(null_counts).unionByName(null_counts_ema))"
   ]
  },
  {
   "cell_type": "code",
   "execution_count": 0,
   "metadata": {
    "application/vnd.databricks.v1+cell": {
     "cellMetadata": {
      "byteLimit": 2048000,
      "rowLimit": 10000
     },
     "inputWidgets": {},
     "nuid": "b8827c78-f067-45f2-b2fe-63f17a3f7402",
     "showTitle": false,
     "tableResultSettingsMap": {},
     "title": ""
    }
   },
   "outputs": [],
   "source": [
    "df_interpolated.write.mode(\"overwrite\").parquet(\"dbfs:/student-groups/Group_4_1/interim/join_checkpoints/joined__timefeat_seasfeat_cleaned.parquet/\")"
   ]
  },
  {
   "cell_type": "code",
   "execution_count": 0,
   "metadata": {
    "application/vnd.databricks.v1+cell": {
     "cellMetadata": {},
     "inputWidgets": {},
     "nuid": "2391d1b4-f4f2-40ad-a13d-5b9f086c4072",
     "showTitle": false,
     "tableResultSettingsMap": {},
     "title": ""
    }
   },
   "outputs": [],
   "source": []
  },
  {
   "cell_type": "markdown",
   "metadata": {
    "application/vnd.databricks.v1+cell": {
     "cellMetadata": {},
     "inputWidgets": {},
     "nuid": "73356b16-3d16-4969-ad62-c9797ff3175c",
     "showTitle": false,
     "tableResultSettingsMap": {},
     "title": ""
    }
   },
   "source": [
    "#Lags "
   ]
  },
  {
   "cell_type": "code",
   "execution_count": 0,
   "metadata": {
    "application/vnd.databricks.v1+cell": {
     "cellMetadata": {
      "byteLimit": 2048000,
      "rowLimit": 10000
     },
     "inputWidgets": {},
     "nuid": "b2c152b3-1d80-4949-8304-996bd8f5c163",
     "showTitle": false,
     "tableResultSettingsMap": {},
     "title": ""
    }
   },
   "outputs": [],
   "source": [
    "df = spark.read.parquet(\"dbfs:/student-groups/Group_4_1/interim/join_checkpoints/joined__timefeat_seasfeat_cleaned.parquet/\")"
   ]
  },
  {
   "cell_type": "code",
   "execution_count": 0,
   "metadata": {
    "application/vnd.databricks.v1+cell": {
     "cellMetadata": {
      "byteLimit": 2048000,
      "rowLimit": 10000
     },
     "inputWidgets": {},
     "nuid": "c2887cea-17ff-4f99-99e1-ed6a38ad9b34",
     "showTitle": false,
     "tableResultSettingsMap": {},
     "title": ""
    }
   },
   "outputs": [],
   "source": [
    "df_small = df.filter(F.col('TAIL_NUM').isNotNull()).filter(F.col('sched_depart_utc')>'2019-04-01').orderBy('TAIL_NUM','sched_depart_utc')"
   ]
  },
  {
   "cell_type": "code",
   "execution_count": 0,
   "metadata": {
    "application/vnd.databricks.v1+cell": {
     "cellMetadata": {
      "byteLimit": 2048000,
      "rowLimit": 10000
     },
     "inputWidgets": {},
     "nuid": "e6007540-17f4-46c1-bd47-da163e5039dd",
     "showTitle": false,
     "tableResultSettingsMap": {},
     "title": ""
    }
   },
   "outputs": [],
   "source": [
    "display(df_small.select('TAIL_NUM','ORIGIN','DEST','sched_depart_utc','CANCELLED','two_hours_prior_depart_UTC','priorflight_origin','priorflight_dest', 'priorflight_deptime_calc','priorflight_deptime_calc','priorflight_cancelled_true'))"
   ]
  },
  {
   "cell_type": "code",
   "execution_count": 0,
   "metadata": {
    "application/vnd.databricks.v1+cell": {
     "cellMetadata": {
      "byteLimit": 2048000,
      "rowLimit": 10000
     },
     "inputWidgets": {},
     "nuid": "8bb9f0e1-ecd7-4e77-9c61-a1b39571c745",
     "showTitle": false,
     "tableResultSettingsMap": {
      "0": {
       "dataGridStateBlob": null,
       "filterBlob": "{\"filterGroups\":[{\"enabled\":true,\"filterGroupId\":\"fg_5a04ea56\",\"op\":\"OR\",\"filters\":[{\"filterId\":\"f_65ea48cf\",\"enabled\":true,\"columnId\":\"ORIGIN\",\"dataType\":\"string\",\"filterType\":\"oneof\"}],\"local\":false,\"updatedAt\":1744383186521}],\"syncTimestamp\":1744383186522}",
       "queryPlanFiltersBlob": null,
       "tableResultIndex": 0
      }
     },
     "title": ""
    }
   },
   "outputs": [],
   "source": [
    "display(df.filter(F.col('TAIL_NUM').isNotNull()).select('TAIL_NUM','ORIGIN','DEST','sched_depart_utc','CANCELLED','two_hours_prior_depart_UTC','priorflight_origin','priorflight_dest', 'priorflight_deptime_calc','priorflight_deptime_calc','priorflight_cancelled_true').orderBy('TAIL_NUM','sched_depart_utc'))"
   ]
  },
  {
   "cell_type": "code",
   "execution_count": 0,
   "metadata": {
    "application/vnd.databricks.v1+cell": {
     "cellMetadata": {
      "byteLimit": 2048000,
      "rowLimit": 10000
     },
     "inputWidgets": {},
     "nuid": "c9d16df5-59f1-4893-936b-a609f69d0e32",
     "showTitle": false,
     "tableResultSettingsMap": {},
     "title": ""
    }
   },
   "outputs": [],
   "source": [
    "display(df.filter(F.col('TAIL_NUM')=='N102UW').select('ORIGIN','DEST','sched_depart_utc','CANCELLED','two_hours_prior_depart_UTC','priorflight_origin','priorflight_dest', 'priorflight_deptime_calc','priorflight_deptime_calc','priorflight_cancelled_true').orderBy('sched_depart_utc'))"
   ]
  },
  {
   "cell_type": "code",
   "execution_count": 0,
   "metadata": {
    "application/vnd.databricks.v1+cell": {
     "cellMetadata": {
      "byteLimit": 2048000,
      "rowLimit": 10000
     },
     "inputWidgets": {},
     "nuid": "49615498-ab7e-416b-b2a3-ba027b3d13d3",
     "showTitle": false,
     "tableResultSettingsMap": {
      "0": {
       "dataGridStateBlob": null,
       "filterBlob": "{\"filterGroups\":[],\"syncTimestamp\":1744383449480}",
       "queryPlanFiltersBlob": null,
       "tableResultIndex": 0
      }
     },
     "title": ""
    }
   },
   "outputs": [],
   "source": [
    "display(df.filter((F.col('CANCELLED') == 1) & (F.col('priorflight_cancelled_true') == 1)).filter(F.col('TAIL_NUM').isNotNull()).select('TAIL_NUM','ORIGIN','DEST','sched_depart_utc','CANCELLED','two_hours_prior_depart_UTC','priorflight_origin','priorflight_dest', 'priorflight_deptime_calc','priorflight_deptime_calc','priorflight_cancelled_true').orderBy('TAIL_NUM','sched_depart_utc'))"
   ]
  },
  {
   "cell_type": "code",
   "execution_count": 0,
   "metadata": {
    "application/vnd.databricks.v1+cell": {
     "cellMetadata": {
      "byteLimit": 2048000,
      "rowLimit": 10000
     },
     "inputWidgets": {},
     "nuid": "9e4a4b2e-79af-42e1-8d5f-949daeb539b6",
     "showTitle": false,
     "tableResultSettingsMap": {},
     "title": ""
    }
   },
   "outputs": [],
   "source": [
    "\"2019-10-27T19:46:00.000+00:00\".tzinfo"
   ]
  },
  {
   "cell_type": "code",
   "execution_count": 0,
   "metadata": {
    "application/vnd.databricks.v1+cell": {
     "cellMetadata": {
      "byteLimit": 2048000,
      "rowLimit": 10000
     },
     "inputWidgets": {},
     "nuid": "68465338-63ed-43d8-a997-29d5a9c4f1a9",
     "showTitle": false,
     "tableResultSettingsMap": {},
     "title": ""
    }
   },
   "outputs": [],
   "source": [
    "def to_utc(yyyymmdd, dep_hhmm, arr_hhmm, dep_tz, arr_tz, flight_dur):\n",
    "    \"\"\"\n",
    "    Create UTC timestamp from flights table columns\n",
    "    yyyymmdd = FL_DATE\n",
    "    dep_hhmm = CRS_DEP_TIME\n",
    "    arr_hhmm = CRS_ARR_TIME\n",
    "    dep_tz = origin_timezone\n",
    "    arr_tz = dest_timezone\n",
    "    flight_dur = CRS_ELAPSED_TIME (for sanity check of arrival time)\n",
    "\n",
    "    Returns UTC time stamp, (cast to string)\n",
    "    \"\"\"\n",
    "\n",
    "    dep_hhmm = int(dep_hhmm)\n",
    "    arr_hhmm = int(arr_hhmm)\n",
    "\n",
    "    yyyy,MM,dd = yyyymmdd.split('-')\n",
    "    yyyy = int(yyyy) # get year\n",
    "    MM = int(MM) # get month\n",
    "    dd = int(dd) # get day\n",
    "\n",
    "    dep_hh = dep_hhmm//100 # get hour\n",
    "    dep_mm = dep_hhmm%100 # get minute\n",
    "    if dep_hh == 24:\n",
    "        dep_hh = 0\n",
    "        dep_shift = True\n",
    "    else:\n",
    "        dep_shift = False\n",
    "\n",
    "    arr_hh = arr_hhmm//100 # get hour\n",
    "    arr_mm = arr_hhmm%100\n",
    "    if arr_hh == 24:\n",
    "        arr_hh = 0\n",
    "        arr_shift = True\n",
    "    else:\n",
    "        arr_shift = False\n",
    "\n",
    "    # create datetime variable for departure\n",
    "    dt_dep = datetime(yyyy,MM,dd,dep_hh,dep_mm)\n",
    "    if dep_shift:\n",
    "        dt_dep += timedelta(days=1)\n",
    "    # apply local time zone\n",
    "    dep_local = pytz.timezone(dep_tz).localize(dt_dep)\n",
    "    # convert to UTC\n",
    "    dep_utc = dep_local.astimezone(pytz.utc)\n",
    "\n",
    "    # create datetime variable for arrival\n",
    "    dt_arr = datetime(yyyy,MM,dd,arr_hh,arr_mm)\n",
    "    if arr_shift:\n",
    "        dt_arr += timedelta(days=1)\n",
    "    # apply local time zone\n",
    "    arr_local = pytz.timezone(arr_tz).localize(dt_arr)\n",
    "    # convert to UTC\n",
    "    arr_utc = arr_local.astimezone(pytz.utc)\n",
    "\n",
    "    if dep_utc > arr_utc:\n",
    "        arr_utc += timedelta(days=1)\n",
    "\n",
    "    # # sanity check\n",
    "    # arr_utc_SC = dep_utc + timedelta(minutes=flight_dur)\n",
    "\n",
    "    dt_format = \"%Y-%m-%dT%H:%M:%S\"\n",
    "\n",
    "    # return UTC datetime, cast to string\n",
    "    # return (dep_utc.strftime(dt_format), arr_utc.strftime(dt_format), arr_utc_SC.strftime(dt_format))\n",
    "    return (dep_utc.strftime(dt_format), arr_utc.strftime(dt_format))\n",
    "\n",
    "schema = StructType([\n",
    "    StructField(\"dep_datetime\", StringType(), False),\n",
    "    StructField(\"arr_datetime\", StringType(), False),\n",
    "])\n",
    "\n",
    "dt_udf = udf(to_utc, schema)\n",
    "\n",
    "out = df.withColumn('processed', \n",
    "                                 dt_udf(F.col(\"FL_DATE\"), \n",
    "                                        F.col(\"CRS_DEP_TIME\"), \n",
    "                                        F.col(\"CRS_ARR_TIME\"), \n",
    "                                        F.col(\"origin_timezone\"), \n",
    "                                        F.col(\"dest_timezone\"), \n",
    "                                        F.col(\"CRS_ELAPSED_TIME\"))\n",
    "                                 ).cache()\n",
    "\n",
    "cols = [c for c in out.columns if c != \"processed\"]\n",
    "cols += [\"processed.dep_datetime\",\"processed.arr_datetime\"]\n",
    "out = out.select(cols)\n",
    "\n",
    "display(out)"
   ]
  },
  {
   "cell_type": "code",
   "execution_count": 0,
   "metadata": {
    "application/vnd.databricks.v1+cell": {
     "cellMetadata": {
      "byteLimit": 2048000,
      "rowLimit": 10000
     },
     "inputWidgets": {},
     "nuid": "c5b76b63-8fad-4607-8f3c-affd61a16c78",
     "showTitle": false,
     "tableResultSettingsMap": {},
     "title": ""
    }
   },
   "outputs": [],
   "source": [
    "\n",
    "df_dated = (df\n",
    ".withColumn(\"FL_YMD\", F.col(\"FL_DATE\").substr(0,10))\n",
    ".withColumn(\n",
    "    \"base_date\", F.to_date(F.col(\"FL_YMD\"), \"yyyy-MM-dd\")\n",
    ").withColumn(\n",
    "    \"arr_time_adj\",\n",
    "    F.when(F.col(\"CRS_ARR_TIME\") == 2400, F.lit(\"0000\")).otherwise(F.col(\"CRS_ARR_TIME\"))\n",
    ").withColumn(\n",
    "    \"arr_time_str\",\n",
    "    F.lpad(\"arr_time_adj\", 4, \"0\")\n",
    ").withColumn(\n",
    "    \"arr_timestamp\",\n",
    "    F.concat(\n",
    "        F.col(\"FL_YMD\"),\n",
    "        F.lit(\"T\"),\n",
    "        F.substring(\"arr_time_str\", 1, 2),\n",
    "        F.lit(\":\"),\n",
    "        F.substring(\"arr_time_str\", 3, 2),\n",
    "        F.lit(\":00\")\n",
    "    )\n",
    ").withColumn(\n",
    "    \"local_datetime\",\n",
    "    F.to_timestamp(\"arr_timestamp\", \"yyyy-MM-dd'T'HH:mm:ss\")\n",
    ").withColumn(\n",
    "    \"arr_utc\",\n",
    "    F.when(\n",
    "        F.col(\"CRS_ARR_TIME\") == 2400,\n",
    "        F.to_utc_timestamp(F.date_add(\"local_datetime\", 1), F.col(\"dest_timezone\"))\n",
    "    ).otherwise(\n",
    "        F.to_utc_timestamp(\"local_datetime\", F.col(\"dest_timezone\"))\n",
    "    )\n",
    ").withColumn(\n",
    "    \"sched_arr_utc\",\n",
    "    F.when(\n",
    "        F.col(\"sched_depart_utc\") > F.col(\"arr_utc\"),\n",
    "        F.date_add(\"arr_utc\", 1)\n",
    "    ).otherwise(F.col(\"arr_utc\"))\n",
    ").withColumn(\n",
    "    \"actual_depart_utc\",\n",
    "    F.to_utc_timestamp(F.col(\"sched_depart_utc\"), F.col(\"origin_timezone\"))\n",
    "\n",
    ").select(\n",
    "    *[c for c in df.columns],\n",
    "    \"sched_arr_utc\"\n",
    "))"
   ]
  },
  {
   "cell_type": "code",
   "execution_count": 0,
   "metadata": {
    "application/vnd.databricks.v1+cell": {
     "cellMetadata": {
      "byteLimit": 2048000,
      "rowLimit": 10000
     },
     "inputWidgets": {},
     "nuid": "41e27562-be20-430b-bcce-d286d2578875",
     "showTitle": false,
     "tableResultSettingsMap": {},
     "title": ""
    }
   },
   "outputs": [],
   "source": [
    "df_dated = (df_dated\n",
    ".withColumn(\"FL_YMD\", F.col(\"FL_DATE\").substr(0,10))\n",
    ".withColumn(\n",
    "    \"base_date\", F.to_date(F.col(\"FL_YMD\"), \"yyyy-MM-dd\")\n",
    ").withColumn(\n",
    "    \"arr_time_adj\",\n",
    "    F.when(F.col(\"ARR_TIME\") == 2400, F.lit(\"0000\")).otherwise(F.col(\"ARR_TIME\"))\n",
    ").withColumn(\n",
    "    \"arr_time_str\",\n",
    "    F.lpad(\"arr_time_adj\", 4, \"0\")\n",
    ").withColumn(\n",
    "    \"arr_timestamp\",\n",
    "    F.concat(\n",
    "        F.col(\"FL_YMD\"),\n",
    "        F.lit(\"T\"),\n",
    "        F.substring(\"arr_time_str\", 1, 2),\n",
    "        F.lit(\":\"),\n",
    "        F.substring(\"arr_time_str\", 3, 2),\n",
    "        F.lit(\":00\")\n",
    "    )\n",
    ").withColumn(\n",
    "    \"local_datetime\",\n",
    "    F.to_timestamp(\"arr_timestamp\", \"yyyy-MM-dd'T'HH:mm:ss\")\n",
    ").withColumn(\n",
    "    \"arr_utc\",\n",
    "    F.when(\n",
    "        F.col(\"ARR_TIME\") == 2400,\n",
    "        F.to_utc_timestamp(F.date_add(\"local_datetime\", 1), F.col(\"dest_timezone\"))\n",
    "    ).otherwise(\n",
    "        F.to_utc_timestamp(\"local_datetime\", F.col(\"dest_timezone\"))\n",
    "    )\n",
    ").withColumn(\n",
    "    \"actual_arr_utc\",\n",
    "    F.when(\n",
    "        F.col(\"actual_depart_utc\") > F.col(\"arr_utc\"),\n",
    "        F.date_add(\"arr_utc\", 1)\n",
    "    ).otherwise(F.col(\"arr_utc\"))\n",
    "    )\n",
    ")"
   ]
  },
  {
   "cell_type": "code",
   "execution_count": 0,
   "metadata": {
    "application/vnd.databricks.v1+cell": {
     "cellMetadata": {
      "byteLimit": 2048000,
      "rowLimit": 10000
     },
     "inputWidgets": {},
     "nuid": "65cff5d9-c818-4731-9401-8076bbb3fc6b",
     "showTitle": false,
     "tableResultSettingsMap": {},
     "title": ""
    }
   },
   "outputs": [],
   "source": [
    "df_dated = df_dated.drop('arr_time_adj').drop('arr_time_str').drop('arr_timestamp').drop('arr_utc').drop('local_datetime')"
   ]
  },
  {
   "cell_type": "code",
   "execution_count": 0,
   "metadata": {
    "application/vnd.databricks.v1+cell": {
     "cellMetadata": {
      "byteLimit": 2048000,
      "rowLimit": 10000
     },
     "inputWidgets": {},
     "nuid": "a79d2f1d-ccf6-4995-ac89-3110286f5236",
     "showTitle": false,
     "tableResultSettingsMap": {},
     "title": ""
    }
   },
   "outputs": [],
   "source": [
    "df.filter(F.col('origin_LATITUDE').isNull()).count()"
   ]
  },
  {
   "cell_type": "code",
   "execution_count": 0,
   "metadata": {
    "application/vnd.databricks.v1+cell": {
     "cellMetadata": {
      "byteLimit": 2048000,
      "rowLimit": 10000
     },
     "inputWidgets": {},
     "nuid": "7085b87e-d7e6-455f-ae0b-9026c3f31a43",
     "showTitle": false,
     "tableResultSettingsMap": {},
     "title": ""
    }
   },
   "outputs": [],
   "source": [
    "\n",
    "\n",
    "def add_lags_optimized(df):\n",
    "    # Define windows once\n",
    "    aircraft_window = Window.partitionBy(\"TAIL_NUM\").orderBy('sched_depart_utc')\n",
    "\n",
    "    # route_window = Window.partitionBy(\"ORIGIN\", \"DEST\").orderBy(\"sched_depart_utc\").rowsBetween(-10, -1)\n",
    "\n",
    "    WhenConditions = (\n",
    "        (F.col(\"ORIGIN\") == F.col(\"priorflight_dest\")) & \n",
    "        (F.col(\"priorflight_sched_deptime\") >= F.col(\"twentysix_hours_prior_depart_UTC\"))\n",
    "    )\n",
    "\n",
    "    # Precompute all lagged columns in single pass\n",
    "    lagged_cols = [\n",
    "        F.lag(\"CANCELLED\").over(aircraft_window).alias(\"priorflight_cancelled_true\"),\n",
    "        F.lag(\"ORIGIN\").over(aircraft_window).alias(\"priorflight_origin\"),\n",
    "        F.lag(\"DEST\").over(aircraft_window).alias(\"priorflight_dest\"),\n",
    "        F.lag(\"sched_depart_utc\").over(aircraft_window).alias(\"priorflight_sched_deptime\"),\n",
    "        F.lag(\"actual_depart_utc\").over(aircraft_window).alias(\"priorflight_true_deptime\"),\n",
    "        F.lag(\"CRS_ELAPSED_TIME\").over(aircraft_window).alias(\"priorflight_sched_elapsed\"),\n",
    "        F.lag(\"ACTUAL_ELAPSED_TIME\").over(aircraft_window).alias(\"priorflight_true_elapsed\"),\n",
    "        F.lag(\"DEP_DELAY\").over(aircraft_window).alias(\"priorflight_true_depdelay\"),\n",
    "        F.lag(\"sched_arr_utc\").over(aircraft_window).alias(\"priorflight_sched_arrtime\"),\n",
    "        F.lag(\"actual_arr_UTC\").over(aircraft_window).alias(\"priorflight_true_arrtime\")\n",
    "    ]\n",
    "\n",
    "    valid_prior = WhenConditions & (F.col(\"priorflight_cancelled_true\") == 0)\n",
    "\n",
    "\n",
    "    # Base transformations\n",
    "    base_df = (df\n",
    "        .withColumn(\"twentysix_hours_prior_depart_UTC\", \n",
    "                   (F.col(\"two_hours_prior_depart_UTC\") - F.expr(\"INTERVAL 24 HOURS\")).cast(\"timestamp\"))\n",
    "        .select(\"*\", *lagged_cols)\n",
    "    )    \n",
    "\n",
    "    # Core calculations\n",
    "    result_df = (base_df\n",
    "        .withColumn(\"priorflight_sched_elapsed\",\n",
    "            F.when(valid_prior,\n",
    "                F.expr(\"INTERVAL 1 MINUTE\") * F.col(\"priorflight_sched_elapsed\")\n",
    "            )\n",
    "        )\n",
    "\n",
    "        .withColumn(\"priorflight_true_elapsed\",\n",
    "                F.when(valid_prior,\n",
    "                    F.expr(\"INTERVAL 1 MINUTE\")* F.col(\"priorflight_true_elapsed\")\n",
    "                    ) \n",
    "                    \n",
    "                )\n",
    "\n",
    "        \n",
    "        .withColumn(\"priorflight_depdelay_calc\",\n",
    "            F.when(valid_prior, F.col(\"priorflight_true_depdelay\")).otherwise(F.lit(None))\n",
    "        )\n",
    "\n",
    "        .withColumn(\"priorflight_isdeparted\",\n",
    "            F.when(\n",
    "                (F.col(\"priorflight_true_deptime\") <= F.col(\"two_hours_prior_depart_UTC\")) &\n",
    "                valid_prior, 1\n",
    "            ).otherwise(0)\n",
    "        )\n",
    "\n",
    "        .withColumn(\"priorflight_depdelay_calc\",\n",
    "            F.when(\n",
    "                (F.col(\"priorflight_true_deptime\") <= F.col(\"two_hours_prior_depart_UTC\")) & valid_prior,\n",
    "                F.col(\"priorflight_true_depdelay\")\n",
    "            ).when(\n",
    "                (F.col(\"priorflight_sched_deptime\") <= F.col(\"two_hours_prior_depart_UTC\")) &\n",
    "                (F.col(\"priorflight_true_deptime\") > F.col(\"two_hours_prior_depart_UTC\")) &\n",
    "                valid_prior,\n",
    "                (F.col(\"two_hours_prior_depart_UTC\").cast('long') - \n",
    "                 F.col(\"priorflight_sched_deptime\").cast('long')) / 60\n",
    "            ).otherwise(F.lit(0.0)) #if not enough info, assume all is well - in line with other logic; edge cases handled later\n",
    "        )\n",
    "        .withColumn(\"priorflight_deptime_calc\",  \n",
    "            F.col(\"priorflight_sched_deptime\") + \n",
    "            (F.expr(\"INTERVAL 1 MINUTE\") * F.col(\"priorflight_depdelay_calc\"))\n",
    "        ) #non-valid prior depdelay calcs will get rewritten over in edge case handling\n",
    "        \n",
    "        .withColumn(\"priorflight_isdelayed_calc\",\n",
    "            F.when(\n",
    "                (F.col(\"priorflight_depdelay_calc\") >= 15) | \n",
    "                (F.col('priorflight_cancelled_true') == 1), 1\n",
    "            ).otherwise(0)\n",
    "        )\n",
    "\n",
    "        .withColumn(\"priorflight_isarrived_calc\",\n",
    "            F.when(\n",
    "                (F.col(\"priorflight_true_arrtime\") <= F.col(\"two_hours_prior_depart_UTC\")) &\n",
    "                valid_prior, 1\n",
    "            ).otherwise(0)\n",
    "        )\n",
    "        .withColumn(\"priorflight_arr_time_calc\",\n",
    "            F.when(\n",
    "                F.col(\"priorflight_isarrived_calc\") == 1,\n",
    "                F.col(\"priorflight_true_arrtime\")\n",
    "            ).when(\n",
    "                (F.col(\"priorflight_isarrived_calc\") == 0) &\n",
    "                (F.col(\"priorflight_true_deptime\") <= F.col(\"two_hours_prior_depart_UTC\")), \n",
    "                F.col(\"priorflight_true_deptime\") + F.col(\"priorflight_sched_elapsed\")\n",
    "            ).otherwise(\n",
    "                F.col(\"priorflight_deptime_calc\") + F.col(\"priorflight_sched_elapsed\")\n",
    "            )\n",
    "        )\n",
    "        .withColumn(\"turnaround_time_calc\",\n",
    "            F.when(valid_prior,\n",
    "                ((F.col(\"sched_depart_utc\").cast(\"long\") - \n",
    "                  F.col(\"priorflight_arr_time_calc\").cast(\"long\")) / 60).cast(\"double\")\n",
    "            ).otherwise(F.lit(None))\n",
    "        )\n",
    "        \n",
    "    ).cache()\n",
    "\n",
    "    return result_df\n",
    "\n",
    "# # Execute pipeline\n",
    "# result = add_lags_optimized(out)\n",
    "# display(result)\n"
   ]
  },
  {
   "cell_type": "code",
   "execution_count": 0,
   "metadata": {
    "application/vnd.databricks.v1+cell": {
     "cellMetadata": {
      "byteLimit": 2048000,
      "rowLimit": 10000
     },
     "inputWidgets": {},
     "nuid": "f9505525-a0c3-4c8f-b99b-fe6be095ff70",
     "showTitle": false,
     "tableResultSettingsMap": {},
     "title": ""
    }
   },
   "outputs": [],
   "source": [
    "df_lags = add_lags_optimized(df_dated)"
   ]
  },
  {
   "cell_type": "code",
   "execution_count": 0,
   "metadata": {
    "application/vnd.databricks.v1+cell": {
     "cellMetadata": {
      "byteLimit": 2048000,
      "rowLimit": 10000
     },
     "inputWidgets": {},
     "nuid": "dffc4858-2c77-434a-9cbd-0d652bbb7442",
     "showTitle": false,
     "tableResultSettingsMap": {},
     "title": ""
    }
   },
   "outputs": [],
   "source": [
    "display(df_lags)"
   ]
  },
  {
   "cell_type": "code",
   "execution_count": 0,
   "metadata": {
    "application/vnd.databricks.v1+cell": {
     "cellMetadata": {
      "byteLimit": 2048000,
      "rowLimit": 10000
     },
     "inputWidgets": {},
     "nuid": "d42ba0f4-8bde-48b1-be29-d50fcb7510bd",
     "showTitle": false,
     "tableResultSettingsMap": {},
     "title": ""
    }
   },
   "outputs": [],
   "source": [
    "df_lags.write.mode(\"overwrite\").parquet(\"dbfs:/student-groups/Group_4_1/interim/join_checkpoints/joined__timefeat_seasfeat_cleaned.parquet/\")"
   ]
  },
  {
   "cell_type": "markdown",
   "metadata": {
    "application/vnd.databricks.v1+cell": {
     "cellMetadata": {},
     "inputWidgets": {},
     "nuid": "34f1a637-6e44-4b4b-9e3c-92a7ee3cf870",
     "showTitle": false,
     "tableResultSettingsMap": {},
     "title": ""
    }
   },
   "source": [
    "## Don't run: imputation"
   ]
  },
  {
   "cell_type": "code",
   "execution_count": 0,
   "metadata": {
    "application/vnd.databricks.v1+cell": {
     "cellMetadata": {},
     "inputWidgets": {},
     "nuid": "3bbcb4da-5268-4cb2-88c4-354139038115",
     "showTitle": false,
     "tableResultSettingsMap": {},
     "title": ""
    }
   },
   "outputs": [],
   "source": []
  },
  {
   "cell_type": "code",
   "execution_count": 0,
   "metadata": {
    "application/vnd.databricks.v1+cell": {
     "cellMetadata": {
      "byteLimit": 2048000,
      "rowLimit": 10000
     },
     "collapsed": true,
     "inputWidgets": {},
     "nuid": "040e0992-b4da-48a3-850a-fd7217e93798",
     "showTitle": false,
     "tableResultSettingsMap": {},
     "title": ""
    }
   },
   "outputs": [],
   "source": [
    "\n",
    "WhenConditions = (\n",
    "        (F.col(\"ORIGIN\") == F.col(\"priorflight_dest\")) & \n",
    "        (F.col(\"priorflight_sched_deptime\") >= F.col(\"twentysix_hours_prior_depart_UTC\"))\n",
    "    )\n",
    "valid_prior = WhenConditions & (F.col(\"priorflight_cancelled_true\") == 0)\n",
    "\n",
    "# partition by route (ORIGIN->DEST)\n",
    "hours = lambda i: i * 3600\n",
    "window_spec = Window.partitionBy(F.col(\"ORIGIN\"),F.col(\"DEST\"), F.col(\"FL_DATE\")) \\\n",
    "    .orderBy(F.col(\"sched_depart_utc\").cast(\"long\")\n",
    "             ) \\\n",
    "        .rangeBetween(-hours(48),0)\n",
    "# we will eventually get just -4 to -2 hours, but using 0 in the window allows us to\n",
    "# grab the utc-2 for the 0 hour offset case\n",
    "\n",
    "df_routes = df_lags.repartition(\"ORIGIN\", \"DEST\", \"FL_DATE\")\n",
    "\n",
    "\n",
    "@pandas_udf(\"double\", PandasUDFType.GROUPED_AGG)\n",
    "def mean_turnarounds_udf(turnarounds: pd.Series, \n",
    "                       act_dep_times: pd.Series, \n",
    "                       sched_dep_utc2: pd.Series) -> float:\n",
    "    d = turnarounds[(act_dep_times < np.max(sched_dep_utc2))].astype(np.float)\n",
    "    return np.nanmean(d)\n",
    "\n",
    "# Apply the UDF over the window\n",
    "df_lags_imputed = df_routes \\\n",
    "    .withColumn(\"mean_turnaround_calc\", \n",
    "        F.when(~valid_prior,\n",
    "        mean_turnarounds_udf(\n",
    "                F.col(\"turnaround_time_calc\"),\n",
    "                F.col(\"actual_depart_utc\"),\n",
    "                F.col(\"two_hours_prior_depart_UTC\")\n",
    "            ).over(window_spec)).otherwise(F.col(\"turnaround_time_calc\"))\n",
    "        \n",
    "        )\n",
    "\n",
    "df_lags_imputed.cache()\n",
    "display(df_lags_imputed)"
   ]
  },
  {
   "cell_type": "code",
   "execution_count": 0,
   "metadata": {
    "application/vnd.databricks.v1+cell": {
     "cellMetadata": {
      "byteLimit": 2048000,
      "rowLimit": 10000
     },
     "inputWidgets": {},
     "nuid": "f08e4237-e641-4ab2-b756-0df16d3580dc",
     "showTitle": false,
     "tableResultSettingsMap": {},
     "title": ""
    }
   },
   "outputs": [],
   "source": [
    "display(df_lags_imputed.filter(F.col('turnaround_time_calc').isNull()).filter(F.col('mean_turnaround_calc').isNotNull()))"
   ]
  },
  {
   "cell_type": "code",
   "execution_count": 0,
   "metadata": {
    "application/vnd.databricks.v1+cell": {
     "cellMetadata": {
      "byteLimit": 2048000,
      "rowLimit": 10000
     },
     "inputWidgets": {},
     "nuid": "2f4da84e-c9fa-4818-af38-0b14043d6314",
     "showTitle": false,
     "tableResultSettingsMap": {},
     "title": ""
    }
   },
   "outputs": [],
   "source": [
    "df_lags.write.mode(\"overwrite\").parquet(\"dbfs:/student-groups/Group_4_1/interim/join_checkpoints/joined__timefeat_seasfeat_cleaned.parquet/\")"
   ]
  },
  {
   "cell_type": "code",
   "execution_count": 0,
   "metadata": {
    "application/vnd.databricks.v1+cell": {
     "cellMetadata": {},
     "inputWidgets": {},
     "nuid": "31a159b2-e4b9-4c58-812a-3e8992dcfeec",
     "showTitle": false,
     "tableResultSettingsMap": {},
     "title": ""
    }
   },
   "outputs": [],
   "source": [
    "df_lags_imputed"
   ]
  },
  {
   "cell_type": "code",
   "execution_count": 0,
   "metadata": {
    "application/vnd.databricks.v1+cell": {
     "cellMetadata": {},
     "inputWidgets": {},
     "nuid": "500f86ea-442a-4121-a854-d80e509222a1",
     "showTitle": false,
     "tableResultSettingsMap": {},
     "title": ""
    }
   },
   "outputs": [],
   "source": [
    "current = df_routes.alias(\"current\")\n",
    "prior = df_routes.alias(\"prior\")\n",
    "\n",
    "join_cond = (\n",
    "    (F.col(\"current.ORIGIN\") == F.col(\"prior.ORIGIN\")) &\n",
    "    (F.col(\"current.DEST\") == F.col(\"prior.DEST\")) &\n",
    "    (F.col(\"current.FL_DATE\") == F.col(\"prior.FL_DATE\")) &\n",
    "    (F.col(\"prior.actual_depart_utc\") <= F.col(\"current.two_hours_prior_depart_UTC\"))\n",
    ")\n",
    "\n",
    "result = (\n",
    "    current.join(prior, join_cond, \"left\")\n",
    "    .groupBy(\"current.*\")\n",
    "    .agg(F.avg(\"prior.turnaround_time_calc\").alias(\"mean_turnaround_calc\"))\n",
    "    .withColumn(\n",
    "        \"turnaround_time_calc\",\n",
    "        F.when(\n",
    "            ~valid_prior,  # Use your existing valid_prior condition\n",
    "            F.col(\"mean_turnaround_calc\")\n",
    "        ).otherwise(F.col(\"turnaround_time_calc\"))\n",
    "    )\n",
    ")"
   ]
  },
  {
   "cell_type": "code",
   "execution_count": 0,
   "metadata": {
    "application/vnd.databricks.v1+cell": {
     "cellMetadata": {
      "byteLimit": 2048000,
      "rowLimit": 10000
     },
     "collapsed": true,
     "inputWidgets": {},
     "nuid": "cbbeaa5e-ba85-4ed7-be48-b8a19883e43f",
     "showTitle": false,
     "tableResultSettingsMap": {},
     "title": ""
    }
   },
   "outputs": [],
   "source": [
    "valid_prior = (\n",
    "    (F.col(\"ORIGIN\") == F.col(\"priorflight_dest\")) &\n",
    "    (F.col(\"priorflight_sched_deptime\") >= F.col(\"twentysix_hours_prior_depart_UTC\")) &\n",
    "    (F.col(\"priorflight_cancelled_true\") == 0)\n",
    ")\n",
    "\n",
    "hours = lambda i: i * 3600\n",
    "\n",
    "# window to include prior 72 of flights on same route\n",
    "window_spec = Window.partitionBy(\"ORIGIN\", \"DEST\") \\\n",
    "                   .orderBy(F.col(\"sched_depart_utc\").cast(\"long\")) \\\n",
    "                   .rangeBetween(-hours(72),0)\n",
    "\n",
    "# calculate conditional average\n",
    "df_optimized = df_lags \\\n",
    "    .withColumn(\"valid_turnaround\",\n",
    "        F.when(\n",
    "            valid_prior,\n",
    "            F.col(\"turnaround_time_calc\")\n",
    "        ).otherwise(F.lit(None)) #only consider valid prior flights' turnaround times\n",
    "    ) \\\n",
    "    .withColumn(\"mean_turnaround\",\n",
    "        F.avg(\"valid_turnaround\").over(window_spec) #take mean over valid turnaround times\n",
    "    ) \\\n",
    "    .withColumn(\"turnaround_time_calc\",\n",
    "        F.when(\n",
    "            (~valid_prior | F.col('turnaround_time_calc').isNull()), \n",
    "               F.col(\"mean_turnaround\")\n",
    "               ) #replace flight turnarounds that have invalid priors to mean over past 72 hours of that route being flown\n",
    "          .otherwise(F.col(\"turnaround_time_calc\"))\n",
    "    ).cache()\n",
    "\n",
    "display(df_optimized)"
   ]
  },
  {
   "cell_type": "code",
   "execution_count": 0,
   "metadata": {
    "application/vnd.databricks.v1+cell": {
     "cellMetadata": {},
     "collapsed": true,
     "inputWidgets": {},
     "nuid": "ce62398b-3ed3-4671-beda-6b2cf826291c",
     "showTitle": false,
     "tableResultSettingsMap": {},
     "title": ""
    }
   },
   "outputs": [],
   "source": [
    "valid_prior = (\n",
    "    (F.col(\"ORIGIN\") == F.col(\"priorflight_dest\")) &\n",
    "    (F.col(\"priorflight_sched_deptime\") >= F.col(\"twentysix_hours_prior_depart_UTC\")) &\n",
    "    (F.col(\"priorflight_cancelled_true\") == 0)\n",
    ")\n",
    "\n",
    "hours = lambda i: i * 3600\n",
    "\n",
    "# window to include prior 72 of flights on same route\n",
    "window_spec = Window.partitionBy(\"ORIGIN\", \"DEST\") \\\n",
    "                   .orderBy(F.col(\"sched_depart_utc\").cast(\"long\")) \\\n",
    "                   .rangeBetween(-hours(72),0)\n",
    "\n",
    "# calculate conditional average\n",
    "df_optimized = df_lags \\\n",
    "    .withColumn(\"valid_turnaround\",\n",
    "        F.when(\n",
    "            valid_prior,\n",
    "            F.col(\"turnaround_time_calc\")\n",
    "        ).otherwise(F.lit(None)) #only consider valid prior flights' turnaround times\n",
    "    ) \\\n",
    "    .withColumn(\"mean_turnaround\",\n",
    "        F.avg(\"valid_turnaround\").over(window_spec) #take mean over valid turnaround times\n",
    "    ) \\\n",
    "    .withColumn(\"turnaround_time_calc\",\n",
    "        F.when(\n",
    "            (~valid_prior | F.col('turnaround_time_calc').isNull()), \n",
    "               F.col(\"mean_turnaround\")\n",
    "               ) #replace flight turnarounds that have invalid priors to mean over past 72 hours of that route being flown\n",
    "          .otherwise(F.col(\"turnaround_time_calc\"))\n",
    "    ).cache()\n",
    "\n",
    "display(df_optimized)"
   ]
  },
  {
   "cell_type": "code",
   "execution_count": 0,
   "metadata": {
    "application/vnd.databricks.v1+cell": {
     "cellMetadata": {},
     "inputWidgets": {},
     "nuid": "79a76fcf-3716-4d8c-80f9-36a6069910f2",
     "showTitle": false,
     "tableResultSettingsMap": {},
     "title": ""
    }
   },
   "outputs": [],
   "source": [
    "        # # Edge case handling - use Erica's code for: \n",
    "        # #1) revise a bit for turnaround time calc - avg over route prior flights\n",
    "        # #2) use original for priorflight depdelay calc - lag mean delay (@prev origin)\n",
    "        # #3) then update priorflight_isdelayed_calc\n",
    "        # .withColumn(\"turnaround_time_calc\",\n",
    "        #     F.when(\n",
    "        #         (~valid_prior),\n",
    "        #         F.last(\"turnaround_time_calc\", ignorenulls=True).over(route_window)\n",
    "        #     ).otherwise(F.col(\"turnaround_time_calc\"))\n",
    "        # )\n",
    "        # .withColumn(\"priorflight_depdelay_calc\",\n",
    "        #     F.when(\n",
    "        #         (~valid_prior),\n",
    "        #         F.last(\"priorflight_depdelay_calc\", ignorenulls=True).over(route_window)\n",
    "        #     ).otherwise(F.col(\"priorflight_depdelay_calc\"))\n",
    "        # )\n",
    "\n",
    "        # .withColumn(\"priorflight_isdelayed_calc\",\n",
    "        #     F.when(\n",
    "        #         (F.col(\"priorflight_depdelay_calc\") >= 15) | \n",
    "        #         (F.col('priorflight_cancelled_true') == 1), 1\n",
    "        #     ).otherwise(0)\n",
    "        # )"
   ]
  },
  {
   "cell_type": "markdown",
   "metadata": {
    "application/vnd.databricks.v1+cell": {
     "cellMetadata": {},
     "inputWidgets": {},
     "nuid": "80f0f068-f261-476d-9e7c-d8fdf308341d",
     "showTitle": false,
     "tableResultSettingsMap": {},
     "title": ""
    }
   },
   "source": []
  },
  {
   "cell_type": "markdown",
   "metadata": {
    "application/vnd.databricks.v1+cell": {
     "cellMetadata": {},
     "inputWidgets": {},
     "nuid": "080f1908-f526-47e3-97be-0ea60061480c",
     "showTitle": false,
     "tableResultSettingsMap": {},
     "title": ""
    }
   },
   "source": [
    "# Graph"
   ]
  },
  {
   "cell_type": "markdown",
   "metadata": {
    "application/vnd.databricks.v1+cell": {
     "cellMetadata": {},
     "inputWidgets": {},
     "nuid": "e081e1a5-b517-414b-9317-d2c85e815dcf",
     "showTitle": false,
     "tableResultSettingsMap": {},
     "title": ""
    }
   },
   "source": [
    "Brainstorming:\n",
    "\n",
    "Pagerank\n",
    "-  makes sense to do it within windows; airports most popular in the winter won't be the most popular in the summer, plus reasonable assumption for scheduling vs leakage \n",
    "- personalized pr - should be teleportation factor preference for possible dest wrt origin\n",
    "  - convert to graphx first"
   ]
  },
  {
   "cell_type": "code",
   "execution_count": 0,
   "metadata": {
    "application/vnd.databricks.v1+cell": {
     "cellMetadata": {
      "byteLimit": 2048000,
      "rowLimit": 10000
     },
     "inputWidgets": {},
     "nuid": "4275adcd-207f-4824-a5e5-811d1d8910c4",
     "showTitle": false,
     "tableResultSettingsMap": {},
     "title": ""
    }
   },
   "outputs": [],
   "source": [
    "from graphframes import GraphFrame\n"
   ]
  },
  {
   "cell_type": "code",
   "execution_count": 0,
   "metadata": {
    "application/vnd.databricks.v1+cell": {
     "cellMetadata": {
      "byteLimit": 2048000,
      "rowLimit": 10000
     },
     "inputWidgets": {},
     "nuid": "f2e77ac7-7550-4a19-abab-b06d632575d6",
     "showTitle": false,
     "tableResultSettingsMap": {},
     "title": ""
    }
   },
   "outputs": [],
   "source": [
    "v = df_lags.select(\n",
    "    F.col(\"ORIGIN\").alias(\"id\")\n",
    ").union(\n",
    "    df_lags.select(F.col(\"DEST\").alias(\"id\"))\n",
    ").distinct()\n",
    "\n",
    "\n",
    "e = df_lags.select(\n",
    "    F.col(\"ORIGIN\").alias(\"src\"),\n",
    "    F.col(\"DEST\").alias(\"dst\")\n",
    ")\n",
    "\n",
    "g = GraphFrame(v, e)\n"
   ]
  },
  {
   "cell_type": "code",
   "execution_count": 0,
   "metadata": {
    "application/vnd.databricks.v1+cell": {
     "cellMetadata": {
      "byteLimit": 2048000,
      "rowLimit": 10000
     },
     "inputWidgets": {},
     "nuid": "3fc6c230-48c3-40d0-b3fb-b5fa057a71ff",
     "showTitle": false,
     "tableResultSettingsMap": {},
     "title": ""
    }
   },
   "outputs": [],
   "source": [
    "# Define fold date ranges based on erica's cv\n",
    "folds = [\n",
    "    {\"fold\": 'train_0', \"date_min\": \"2014-12-31\", \"date_max\": \"2015-10-09\"},\n",
    "    {\"fold\": 'test_0', \"date_min\": \"2015-10-09\", \"date_max\": \"2016-07-17\"},\n",
    "    {\"fold\": 'train_1', \"date_min\": \"2015-08-14\", \"date_max\": \"2016-05-21\"},\n",
    "    {\"fold\": 'test_1', \"date_min\": \"2016-05-21\", \"date_max\": \"2017-02-27\"},\n",
    "    {\"fold\": 'train_2', \"date_min\": \"2016-03-27\", \"date_max\": \"2017-01-01\"},\n",
    "    {\"fold\": 'test_2', \"date_min\": \"2017-01-01\", \"date_max\": \"2017-10-10\"},\n",
    "    {\"fold\": 'train_3', \"date_min\": \"2016-11-08\", \"date_max\": \"2017-08-14\"},\n",
    "    {\"fold\": 'test_3', \"date_min\": \"2017-08-14\", \"date_max\": \"2018-05-23\"},\n",
    "    {\"fold\": 'train_4', \"date_min\": \"2017-06-22\", \"date_max\": \"2018-03-27\"},\n",
    "    {\"fold\": 'test_4', \"date_min\": \"2018-03-27\", \"date_max\": \"2018-01-01\"}\n",
    "    ]"
   ]
  },
  {
   "cell_type": "code",
   "execution_count": 0,
   "metadata": {
    "application/vnd.databricks.v1+cell": {
     "cellMetadata": {
      "byteLimit": 2048000,
      "rowLimit": 10000
     },
     "inputWidgets": {},
     "nuid": "ba02f795-8ca7-4ef1-a31b-025828b284ac",
     "showTitle": false,
     "tableResultSettingsMap": {},
     "title": ""
    }
   },
   "outputs": [],
   "source": [
    "def run_pagerank_on_folds(df, date_column='sched_depart_utc', folds=folds):\n",
    "    results = []\n",
    "    \n",
    "    for fold in folds:\n",
    "        print(f\"Processing fold {fold['fold']}\")\n",
    "        \n",
    "        # Filter vertices for training period\n",
    "        fold_df = df.filter(\n",
    "            (F.col(date_column) >= fold['date_min']) & \n",
    "            (F.col(date_column) < fold['date_max'])\n",
    "        )\n",
    "        \n",
    "        vertices_df = fold_df.select(F.col(\"ORIGIN\").alias(\"id\")\n",
    "                 ).union(\n",
    "                     df_lags.select(F.col(\"DEST\").alias(\"id\"))\n",
    "                     ).distinct()\n",
    "        \n",
    "        edges_df = fold_df.select(\n",
    "                F.col(\"ORIGIN\").alias(\"src\"),\n",
    "                F.col(\"DEST\").alias(\"dst\")\n",
    "            )\n",
    "        \n",
    "        # Create GraphFrame for this fold\n",
    "        g = GraphFrame(vertices_df, edges_df)\n",
    "        \n",
    "        # Run PageRank\n",
    "        pagerank_results = g.pageRank(resetProbability=.15,\n",
    "                                      maxIter= 10)\n",
    "        \n",
    "        # Add fold information\n",
    "        pagerank_results_with_fold = pagerank_results.vertices.withColumn(\"fold\", F.lit(fold['fold']))\n",
    "        \n",
    "        results.append(pagerank_results_with_fold)\n",
    "\n",
    "    # Combine all results\n",
    "    all_results = results[0]\n",
    "    for i in range(1, len(results)):\n",
    "        all_results = all_results.union(results[i])\n",
    "        \n",
    "    return all_results\n",
    "\n"
   ]
  },
  {
   "cell_type": "code",
   "execution_count": 0,
   "metadata": {
    "application/vnd.databricks.v1+cell": {
     "cellMetadata": {},
     "inputWidgets": {},
     "nuid": "c88bcce2-e7ad-4b1d-aa50-7392220574b3",
     "showTitle": false,
     "tableResultSettingsMap": {},
     "title": ""
    }
   },
   "outputs": [],
   "source": [
    "pr_df= run_pagerank_on_folds(df_lags)"
   ]
  },
  {
   "cell_type": "code",
   "execution_count": 0,
   "metadata": {
    "application/vnd.databricks.v1+cell": {
     "cellMetadata": {
      "byteLimit": 2048000,
      "rowLimit": 10000
     },
     "collapsed": true,
     "inputWidgets": {},
     "nuid": "88511076-94ba-4d91-89e0-70121521b992",
     "showTitle": false,
     "tableResultSettingsMap": {},
     "title": ""
    }
   },
   "outputs": [],
   "source": [
    "display(pr_df)"
   ]
  },
  {
   "cell_type": "code",
   "execution_count": 0,
   "metadata": {
    "application/vnd.databricks.v1+cell": {
     "cellMetadata": {
      "byteLimit": 2048000,
      "rowLimit": 10000
     },
     "inputWidgets": {},
     "nuid": "268e18c6-0be1-4cac-97eb-bc0b325fbb8f",
     "showTitle": false,
     "tableResultSettingsMap": {},
     "title": ""
    }
   },
   "outputs": [],
   "source": [
    "results = g.pageRank(resetProbability=0.15, maxIter = 10)\n",
    "\n",
    "\n",
    "results.vertices.select(\"id\", \"pagerank\").show()\n",
    "results.edges.select(\"src\", \"dst\", \"weight\").show()\n"
   ]
  },
  {
   "cell_type": "code",
   "execution_count": 0,
   "metadata": {
    "application/vnd.databricks.v1+cell": {
     "cellMetadata": {
      "byteLimit": 2048000,
      "rowLimit": 10000
     },
     "inputWidgets": {},
     "nuid": "8932c795-57c9-46bb-91fe-3d406bdee109",
     "showTitle": false,
     "tableResultSettingsMap": {},
     "title": ""
    }
   },
   "outputs": [],
   "source": [
    "display(results.edges.select('src','dst','weight').distinct().orderBy(F.col('weight').desc()))"
   ]
  },
  {
   "cell_type": "code",
   "execution_count": 0,
   "metadata": {
    "application/vnd.databricks.v1+cell": {
     "cellMetadata": {
      "byteLimit": 2048000,
      "rowLimit": 10000
     },
     "inputWidgets": {},
     "nuid": "f1b464e3-8733-418a-b398-7d224dd730cc",
     "showTitle": false,
     "tableResultSettingsMap": {},
     "title": ""
    }
   },
   "outputs": [],
   "source": [
    "display(results.vertices.select(\"id\", \"pagerank\").orderBy(F.col('pagerank').desc()))\n"
   ]
  },
  {
   "cell_type": "code",
   "execution_count": 0,
   "metadata": {
    "application/vnd.databricks.v1+cell": {
     "cellMetadata": {
      "byteLimit": 2048000,
      "rowLimit": 10000
     },
     "inputWidgets": {},
     "nuid": "50a86dfb-44c9-43d1-92f7-0bfec1d12aed",
     "showTitle": false,
     "tableResultSettingsMap": {},
     "title": ""
    }
   },
   "outputs": [],
   "source": [
    "# paths = g.find(\"(a)-[e1]->(b); (b)-[e2]->(c); (c)-[e3]->(a)\")#need this to acocunt for time/immediate t+1 step though"
   ]
  },
  {
   "cell_type": "code",
   "execution_count": 0,
   "metadata": {
    "application/vnd.databricks.v1+cell": {
     "cellMetadata": {
      "byteLimit": 2048000,
      "rowLimit": 10000
     },
     "inputWidgets": {},
     "nuid": "d17d17c6-2a4d-4822-a3ed-baa5a9bdd574",
     "showTitle": false,
     "tableResultSettingsMap": {},
     "title": ""
    }
   },
   "outputs": [],
   "source": [
    "pr_df.write.mode(\"overwrite\").parquet(\"dbfs:/student-groups/Group_4_1/interim/join_checkpoints/pagerank.parquet/\")"
   ]
  },
  {
   "cell_type": "markdown",
   "metadata": {
    "application/vnd.databricks.v1+cell": {
     "cellMetadata": {},
     "inputWidgets": {},
     "nuid": "0dd63199-85ea-4e5f-ad08-e6d691240c4e",
     "showTitle": false,
     "tableResultSettingsMap": {},
     "title": ""
    }
   },
   "source": [
    "## Combine"
   ]
  },
  {
   "cell_type": "code",
   "execution_count": 0,
   "metadata": {
    "application/vnd.databricks.v1+cell": {
     "cellMetadata": {
      "byteLimit": 2048000,
      "rowLimit": 10000
     },
     "collapsed": true,
     "inputWidgets": {},
     "nuid": "b319a880-94ab-477b-94c9-3b05f8e7552d",
     "showTitle": false,
     "tableResultSettingsMap": {},
     "title": ""
    }
   },
   "outputs": [],
   "source": [
    "df = spark.read.parquet(\"dbfs:/student-groups/Group_4_1/interim/join_checkpoints/joined__timefeat_seasfeat_cleaned.parquet/\")"
   ]
  },
  {
   "cell_type": "code",
   "execution_count": 0,
   "metadata": {
    "application/vnd.databricks.v1+cell": {
     "cellMetadata": {
      "byteLimit": 2048000,
      "rowLimit": 10000
     },
     "inputWidgets": {},
     "nuid": "d327628a-6d65-453c-bfa5-0ab8e0a36b84",
     "showTitle": false,
     "tableResultSettingsMap": {},
     "title": ""
    }
   },
   "outputs": [],
   "source": [
    "pr = spark.read.parquet(\"dbfs:/student-groups/Group_4_1/interim/join_checkpoints/pagerank.parquet/\")"
   ]
  },
  {
   "cell_type": "code",
   "execution_count": 0,
   "metadata": {
    "application/vnd.databricks.v1+cell": {
     "cellMetadata": {
      "byteLimit": 2048000,
      "rowLimit": 10000
     },
     "inputWidgets": {},
     "nuid": "4ca61568-524e-4c91-bdbd-279a22afcd42",
     "showTitle": false,
     "tableResultSettingsMap": {},
     "title": ""
    }
   },
   "outputs": [],
   "source": [
    "# Define fold date ranges based on erica's cv\n",
    "folds = [\n",
    "    {\"fold\": 'train_0', \"date_min\": \"2014-12-31\", \"date_max\": \"2015-10-09\"},\n",
    "    {\"fold\": 'test_0', \"date_min\": \"2015-10-09\", \"date_max\": \"2016-07-17\"},\n",
    "    {\"fold\": 'train_1', \"date_min\": \"2015-08-14\", \"date_max\": \"2016-05-21\"},\n",
    "    {\"fold\": 'test_1', \"date_min\": \"2016-05-21\", \"date_max\": \"2017-02-27\"},\n",
    "    {\"fold\": 'train_2', \"date_min\": \"2016-03-27\", \"date_max\": \"2017-01-01\"},\n",
    "    {\"fold\": 'test_2', \"date_min\": \"2017-01-01\", \"date_max\": \"2017-10-10\"},\n",
    "    {\"fold\": 'train_3', \"date_min\": \"2016-11-08\", \"date_max\": \"2017-08-14\"},\n",
    "    {\"fold\": 'test_3', \"date_min\": \"2017-08-14\", \"date_max\": \"2018-05-23\"},\n",
    "    {\"fold\": 'train_4', \"date_min\": \"2017-06-22\", \"date_max\": \"2018-03-27\"},\n",
    "    {\"fold\": 'test_4', \"date_min\": \"2018-03-27\", \"date_max\": \"2019-01-01\"}\n",
    "    ]"
   ]
  },
  {
   "cell_type": "code",
   "execution_count": 0,
   "metadata": {
    "application/vnd.databricks.v1+cell": {
     "cellMetadata": {
      "byteLimit": 2048000,
      "rowLimit": 10000
     },
     "inputWidgets": {},
     "nuid": "da6ebe05-1f78-4492-9dee-25ddad906e3e",
     "showTitle": false,
     "tableResultSettingsMap": {},
     "title": ""
    }
   },
   "outputs": [],
   "source": [
    "pr.filter(F.col('id')=='ATW').filter(F.col('fold')==0).show()"
   ]
  },
  {
   "cell_type": "code",
   "execution_count": 0,
   "metadata": {
    "application/vnd.databricks.v1+cell": {
     "cellMetadata": {
      "byteLimit": 2048000,
      "rowLimit": 10000
     },
     "inputWidgets": {},
     "nuid": "586361c4-ff0a-4463-9e85-881bf960fff5",
     "showTitle": false,
     "tableResultSettingsMap": {},
     "title": ""
    }
   },
   "outputs": [],
   "source": [
    "window_spec = Window.partitionBy('fold').orderBy('id')\n",
    "\n",
    "pr_folds = pr.withColumn('row_num', F.row_number().over(window_spec))"
   ]
  },
  {
   "cell_type": "code",
   "execution_count": 0,
   "metadata": {
    "application/vnd.databricks.v1+cell": {
     "cellMetadata": {
      "byteLimit": 2048000,
      "rowLimit": 10000
     },
     "inputWidgets": {},
     "nuid": "ba7d2d4c-2cdd-4c74-b451-69f9e3b6767b",
     "showTitle": false,
     "tableResultSettingsMap": {},
     "title": ""
    }
   },
   "outputs": [],
   "source": [
    "window_spec = Window.partitionBy('fold', 'id').orderBy('id')\n",
    "\n",
    "pr_folds = pr.withColumn('row_num', F.row_number().over(window_spec))\n",
    "\n",
    "pr_folds = pr_folds.withColumn('row_num', F.when(F.col('row_num') > 1, 2).otherwise(F.col('row_num')))"
   ]
  },
  {
   "cell_type": "code",
   "execution_count": 0,
   "metadata": {
    "application/vnd.databricks.v1+cell": {
     "cellMetadata": {
      "byteLimit": 2048000,
      "rowLimit": 10000
     },
     "inputWidgets": {},
     "nuid": "1d76d403-8620-4267-90af-0cddecabf24e",
     "showTitle": false,
     "tableResultSettingsMap": {},
     "title": ""
    }
   },
   "outputs": [],
   "source": [
    "df.filter(F.col('sched_depart_utc') > folds[0]['date_min']) \\\n",
    "  .filter(F.col('sched_depart_utc') <= folds[0]['date_max']) \\\n",
    "  .select('ORIGIN', 'DEST') \\\n",
    "  .select(F.explode(F.array('ORIGIN', 'DEST')).alias('airport')) \\\n",
    "  .distinct() \\\n",
    "  .count()"
   ]
  },
  {
   "cell_type": "code",
   "execution_count": 0,
   "metadata": {
    "application/vnd.databricks.v1+cell": {
     "cellMetadata": {
      "byteLimit": 2048000,
      "rowLimit": 10000
     },
     "inputWidgets": {},
     "nuid": "02cde4ff-46cc-48f6-93b9-5fdcb736420f",
     "showTitle": false,
     "tableResultSettingsMap": {},
     "title": ""
    }
   },
   "outputs": [],
   "source": [
    "df.filter(F.col('sched_depart_utc') > folds[1]['date_min']) \\\n",
    "  .filter(F.col('sched_depart_utc') <= folds[1]['date_max']) \\\n",
    "  .select('ORIGIN', 'DEST') \\\n",
    "  .select(F.explode(F.array('ORIGIN', 'DEST')).alias('airport')) \\\n",
    "  .distinct() \\\n",
    "  .count()"
   ]
  },
  {
   "cell_type": "code",
   "execution_count": 0,
   "metadata": {
    "application/vnd.databricks.v1+cell": {
     "cellMetadata": {
      "byteLimit": 2048000,
      "rowLimit": 10000
     },
     "inputWidgets": {},
     "nuid": "952a4837-de59-415a-a733-55eb0f597cf5",
     "showTitle": false,
     "tableResultSettingsMap": {},
     "title": ""
    }
   },
   "outputs": [],
   "source": [
    "folds_df = spark.createDataFrame(folds)\n",
    "\n",
    "df_with_folds = df.join(\n",
    "    folds_df,\n",
    "    (df['sched_depart_utc'] > folds_df['date_min']) & (df['sched_depart_utc'] <= folds_df['date_max']),\n",
    "    'inner'\n",
    ").select(df['*'], folds_df['fold'])\n",
    "\n",
    "display(df_with_folds)"
   ]
  },
  {
   "cell_type": "code",
   "execution_count": 0,
   "metadata": {
    "application/vnd.databricks.v1+cell": {
     "cellMetadata": {
      "byteLimit": 2048000,
      "rowLimit": 10000
     },
     "inputWidgets": {},
     "nuid": "21d217a0-4ad0-4e58-bd5d-6e9e494f3ddd",
     "showTitle": false,
     "tableResultSettingsMap": {},
     "title": ""
    }
   },
   "outputs": [],
   "source": [
    "df_with_folds.filter(F.col('fold').isNull()).count()"
   ]
  },
  {
   "cell_type": "code",
   "execution_count": 0,
   "metadata": {
    "application/vnd.databricks.v1+cell": {
     "cellMetadata": {
      "byteLimit": 2048000,
      "rowLimit": 10000
     },
     "inputWidgets": {},
     "nuid": "32aef63e-5bbe-4b16-85ff-cb6abc9e5942",
     "showTitle": false,
     "tableResultSettingsMap": {},
     "title": ""
    }
   },
   "outputs": [],
   "source": [
    "pr_folds = pr_folds.withColumn(\n",
    "    'fold_label',\n",
    "    when((F.col('fold') == 0) & (F.col('row_num') == 1), 'train_0')\n",
    "    .when((F.col('fold') == 0) & (F.col('row_num') == 2), 'test_0')\n",
    "    .when((F.col('fold') == 1) & (F.col('row_num') == 1), 'train_1')\n",
    "    .when((F.col('fold') == 1) & (F.col('row_num') == 2), 'test_1')\n",
    "    .when((F.col('fold') == 2) & (F.col('row_num') == 1), 'train_2')\n",
    "    .when((F.col('fold') == 2) & (F.col('row_num') == 2), 'test_2')\n",
    "    .when((F.col('fold') == 3) & (F.col('row_num') == 1), 'train_3')\n",
    "    .when((F.col('fold') == 3) & (F.col('row_num') == 2), 'test_3')\n",
    "    .when((F.col('fold') == 4) & (F.col('row_num') == 1), 'train_4')\n",
    "    .when((F.col('fold') == 4) & (F.col('row_num') == 2), 'test_4')\n",
    ")\n",
    "\n",
    "display(pr_folds)"
   ]
  },
  {
   "cell_type": "code",
   "execution_count": 0,
   "metadata": {
    "application/vnd.databricks.v1+cell": {
     "cellMetadata": {
      "byteLimit": 2048000,
      "rowLimit": 10000
     },
     "inputWidgets": {},
     "nuid": "a84faa3e-9b41-4620-81f9-6a856c1bbc5c",
     "showTitle": false,
     "tableResultSettingsMap": {},
     "title": ""
    }
   },
   "outputs": [],
   "source": [
    "df_with_pr = df_with_folds.join(pr_folds.select('id','pagerank','fold_label'), \n",
    "                                (df_with_folds['fold'] == pr_folds['fold_label']) & \n",
    "                                (df_with_folds['ORIGIN'] == pr_folds['id']), \n",
    "                                'left')\n",
    "df_with_pr.filter(F.col('fold').isNull()).count()"
   ]
  },
  {
   "cell_type": "code",
   "execution_count": 0,
   "metadata": {
    "application/vnd.databricks.v1+cell": {
     "cellMetadata": {
      "byteLimit": 2048000,
      "rowLimit": 10000
     },
     "inputWidgets": {},
     "nuid": "e37e16e4-01e9-408b-a0de-e141aa91db41",
     "showTitle": false,
     "tableResultSettingsMap": {},
     "title": ""
    }
   },
   "outputs": [],
   "source": [
    "df_with_pr.groupBy('YEAR').count().show()"
   ]
  },
  {
   "cell_type": "code",
   "execution_count": 0,
   "metadata": {
    "application/vnd.databricks.v1+cell": {
     "cellMetadata": {
      "byteLimit": 2048000,
      "rowLimit": 10000
     },
     "inputWidgets": {},
     "nuid": "4ad9c8da-06fc-4a54-8d1e-906c847c5847",
     "showTitle": false,
     "tableResultSettingsMap": {},
     "title": ""
    }
   },
   "outputs": [],
   "source": [
    "df_with_pr.filter(F.col('TAIL_NUM').isNotNull()).filter(F.col('pagerank').isNull()).count()"
   ]
  },
  {
   "cell_type": "code",
   "execution_count": 0,
   "metadata": {
    "application/vnd.databricks.v1+cell": {
     "cellMetadata": {
      "byteLimit": 2048000,
      "rowLimit": 10000
     },
     "inputWidgets": {},
     "nuid": "8cbae4e6-bc6f-4928-8862-21e03e09ad5b",
     "showTitle": false,
     "tableResultSettingsMap": {},
     "title": ""
    }
   },
   "outputs": [],
   "source": [
    "df_with_pr.write.mode('overwrite').parquet(\"dbfs:/student-groups/Group_4_1/interim/join_checkpoints/joined__timefeat_seasfeat_cleaned_pr.parquet/\")"
   ]
  },
  {
   "cell_type": "code",
   "execution_count": 0,
   "metadata": {
    "application/vnd.databricks.v1+cell": {
     "cellMetadata": {
      "byteLimit": 2048000,
      "rowLimit": 10000
     },
     "inputWidgets": {},
     "nuid": "37bc14aa-be82-4480-b7b9-c43d109e897c",
     "showTitle": false,
     "tableResultSettingsMap": {},
     "title": ""
    }
   },
   "outputs": [],
   "source": [
    "display(df_with_pr.filter(F.col('TAIL_NUM').isNotNull()).filter(F.col('pagerank').isNull()))"
   ]
  },
  {
   "cell_type": "code",
   "execution_count": 0,
   "metadata": {
    "application/vnd.databricks.v1+cell": {
     "cellMetadata": {
      "byteLimit": 2048000,
      "rowLimit": 10000
     },
     "inputWidgets": {},
     "nuid": "13683992-dd33-4476-a502-5701d8122afe",
     "showTitle": false,
     "tableResultSettingsMap": {},
     "title": ""
    }
   },
   "outputs": [],
   "source": [
    "display(df_with_pr.filter(F.col('TAIL_NUM').isNotNull()).filter(F.col('pagerank').isNull()))"
   ]
  },
  {
   "cell_type": "markdown",
   "metadata": {
    "application/vnd.databricks.v1+cell": {
     "cellMetadata": {},
     "inputWidgets": {},
     "nuid": "f31bb7a8-933b-41ec-b7f4-9941496aa040",
     "showTitle": false,
     "tableResultSettingsMap": {},
     "title": ""
    }
   },
   "source": [
    "## last folds"
   ]
  },
  {
   "cell_type": "code",
   "execution_count": 0,
   "metadata": {
    "application/vnd.databricks.v1+cell": {
     "cellMetadata": {
      "byteLimit": 2048000,
      "rowLimit": 10000
     },
     "inputWidgets": {},
     "nuid": "07182adf-0238-489a-9974-b3747b25a5fa",
     "showTitle": false,
     "tableResultSettingsMap": {},
     "title": ""
    }
   },
   "outputs": [],
   "source": [
    "df_with_pr = spark.read.parquet(\"dbfs:/student-groups/Group_4_1/interim/join_checkpoints/joined__timefeat_seasfeat_cleaned_pr.parquet/\")"
   ]
  },
  {
   "cell_type": "code",
   "execution_count": 0,
   "metadata": {
    "application/vnd.databricks.v1+cell": {
     "cellMetadata": {
      "byteLimit": 2048000,
      "rowLimit": 10000
     },
     "inputWidgets": {},
     "nuid": "3c3de03b-c2b1-4da6-9c38-e88380ad0700",
     "showTitle": false,
     "tableResultSettingsMap": {},
     "title": ""
    }
   },
   "outputs": [],
   "source": [
    "df = spark.read.parquet(\"dbfs:/student-groups/Group_4_1/interim/join_checkpoints/joined__timefeat_seasfeat_cleaned.parquet/\")"
   ]
  },
  {
   "cell_type": "code",
   "execution_count": 0,
   "metadata": {
    "application/vnd.databricks.v1+cell": {
     "cellMetadata": {
      "byteLimit": 2048000,
      "rowLimit": 10000
     },
     "inputWidgets": {},
     "nuid": "09cced24-0e75-40ea-bc51-d42d31693185",
     "showTitle": false,
     "tableResultSettingsMap": {},
     "title": ""
    }
   },
   "outputs": [],
   "source": []
  },
  {
   "cell_type": "code",
   "execution_count": 0,
   "metadata": {
    "application/vnd.databricks.v1+cell": {
     "cellMetadata": {
      "byteLimit": 2048000,
      "rowLimit": 10000
     },
     "inputWidgets": {},
     "nuid": "47975f57-8317-41d9-b489-11c084282b94",
     "showTitle": false,
     "tableResultSettingsMap": {},
     "title": ""
    }
   },
   "outputs": [],
   "source": [
    "window_spec = Window.partitionBy('fold', 'id').orderBy('id')\n",
    "\n",
    "pr_folds = pr.withColumn('row_num', F.row_number().over(window_spec))\n",
    "\n",
    "pr_folds = pr_folds.withColumn('row_num', F.when(F.col('row_num') > 1, 2).otherwise(F.col('row_num')))\n",
    "\n",
    "pr_folds = pr_folds.withColumn(\n",
    "    'fold_label',\n",
    "    when((F.col('fold') == 0) & (F.col('row_num') == 1), 'train_0')\n",
    "    .when((F.col('fold') == 0) & (F.col('row_num') == 2), 'test_0')\n",
    "    .when((F.col('fold') == 1) & (F.col('row_num') == 1), 'train_1')\n",
    "    .when((F.col('fold') == 1) & (F.col('row_num') == 2), 'test_1')\n",
    "    .when((F.col('fold') == 2) & (F.col('row_num') == 1), 'train_2')\n",
    "    .when((F.col('fold') == 2) & (F.col('row_num') == 2), 'test_2')\n",
    "    .when((F.col('fold') == 3) & (F.col('row_num') == 1), 'train_3')\n",
    "    .when((F.col('fold') == 3) & (F.col('row_num') == 2), 'test_3')\n",
    "    .when((F.col('fold') == 4) & (F.col('row_num') == 1), 'train_4')\n",
    "    .when((F.col('fold') == 4) & (F.col('row_num') == 2), 'test_4')\n",
    ")\n",
    "\n",
    "display(pr_folds)"
   ]
  },
  {
   "cell_type": "code",
   "execution_count": 0,
   "metadata": {
    "application/vnd.databricks.v1+cell": {
     "cellMetadata": {
      "byteLimit": 2048000,
      "rowLimit": 10000
     },
     "inputWidgets": {},
     "nuid": "f792dace-9296-4299-93b8-f41f8b6e8157",
     "showTitle": false,
     "tableResultSettingsMap": {},
     "title": ""
    }
   },
   "outputs": [],
   "source": [
    "pr_folds = pr_folds.filter(F.col('fold_label') != 'test_4')"
   ]
  },
  {
   "cell_type": "code",
   "execution_count": 0,
   "metadata": {
    "application/vnd.databricks.v1+cell": {
     "cellMetadata": {
      "byteLimit": 2048000,
      "rowLimit": 10000
     },
     "inputWidgets": {},
     "nuid": "43d4beeb-8d9c-4e1a-85ea-1bf5879d66ae",
     "showTitle": false,
     "tableResultSettingsMap": {},
     "title": ""
    }
   },
   "outputs": [],
   "source": [
    "display(pr_folds.filter(F.col('fold_label')=='train_4'))"
   ]
  },
  {
   "cell_type": "code",
   "execution_count": 0,
   "metadata": {
    "application/vnd.databricks.v1+cell": {
     "cellMetadata": {
      "byteLimit": 2048000,
      "rowLimit": 10000
     },
     "inputWidgets": {},
     "nuid": "9e4f4862-ec78-457f-8a59-d831b1c7bdd1",
     "showTitle": false,
     "tableResultSettingsMap": {},
     "title": ""
    }
   },
   "outputs": [],
   "source": [
    "pr = spark.read.parquet(\"dbfs:/student-groups/Group_4_1/interim/join_checkpoints/pagerank.parquet/\")"
   ]
  },
  {
   "cell_type": "code",
   "execution_count": 0,
   "metadata": {
    "application/vnd.databricks.v1+cell": {
     "cellMetadata": {
      "byteLimit": 2048000,
      "rowLimit": 10000
     },
     "inputWidgets": {},
     "nuid": "d6231c8c-8642-4fe4-81ee-3b58198d5bce",
     "showTitle": false,
     "tableResultSettingsMap": {},
     "title": ""
    }
   },
   "outputs": [],
   "source": [
    "def run_pagerank_on_folds(df, date_column='sched_depart_utc', folds=folds):\n",
    "    results = []\n",
    "    \n",
    "    for fold in folds:\n",
    "        print(f\"Processing fold {fold['fold']}\")\n",
    "        \n",
    "        # Filter vertices for training period\n",
    "        fold_df = df.filter(\n",
    "            (F.col(date_column) >= fold['date_min']) & \n",
    "            (F.col(date_column) < fold['date_max'])\n",
    "        )\n",
    "        \n",
    "        vertices_df = fold_df.select(F.col(\"ORIGIN\").alias(\"id\")\n",
    "                 ).union(\n",
    "                     fold_df.select(F.col(\"DEST\").alias(\"id\"))\n",
    "                     ).distinct()\n",
    "        \n",
    "        edges_df = fold_df.select(\n",
    "                F.col(\"ORIGIN\").alias(\"src\"),\n",
    "                F.col(\"DEST\").alias(\"dst\")\n",
    "            )\n",
    "        \n",
    "        # Create GraphFrame for this fold\n",
    "        g = GraphFrame(vertices_df, edges_df)\n",
    "        \n",
    "        # Run PageRank\n",
    "        pagerank_results = g.pageRank(resetProbability=.15,\n",
    "                                      maxIter= 10)\n",
    "        \n",
    "        # Add fold information\n",
    "        pagerank_results_with_fold = pagerank_results.vertices.withColumn(\"fold\", F.lit(fold['fold']))\n",
    "        \n",
    "        results.append(pagerank_results_with_fold)\n",
    "\n",
    "    # Combine all results\n",
    "    all_results = results[0]\n",
    "    for i in range(1, len(results)):\n",
    "        all_results = all_results.union(results[i])\n",
    "        \n",
    "    return all_results\n",
    "\n"
   ]
  },
  {
   "cell_type": "code",
   "execution_count": 0,
   "metadata": {
    "application/vnd.databricks.v1+cell": {
     "cellMetadata": {
      "byteLimit": 2048000,
      "rowLimit": 10000
     },
     "inputWidgets": {},
     "nuid": "0cdbc550-fcb1-47a6-952c-7f032758f6e5",
     "showTitle": false,
     "tableResultSettingsMap": {},
     "title": ""
    }
   },
   "outputs": [],
   "source": [
    "pr_final = run_pagerank_on_folds(df, folds=blocks)"
   ]
  },
  {
   "cell_type": "code",
   "execution_count": 0,
   "metadata": {
    "application/vnd.databricks.v1+cell": {
     "cellMetadata": {
      "byteLimit": 2048000,
      "rowLimit": 10000
     },
     "inputWidgets": {},
     "nuid": "fa44bbab-fbf7-40af-88b3-2148fc5416f1",
     "showTitle": false,
     "tableResultSettingsMap": {},
     "title": ""
    }
   },
   "outputs": [],
   "source": [
    "display(pr_folds)"
   ]
  },
  {
   "cell_type": "code",
   "execution_count": 0,
   "metadata": {
    "application/vnd.databricks.v1+cell": {
     "cellMetadata": {
      "byteLimit": 2048000,
      "rowLimit": 10000
     },
     "inputWidgets": {},
     "nuid": "2e813def-4c3c-4498-adaf-ca7fa1c8cbc8",
     "showTitle": false,
     "tableResultSettingsMap": {},
     "title": ""
    }
   },
   "outputs": [],
   "source": [
    "all_pr_folds = pr_folds.drop('row_num').drop('fold').withColumnRenamed('fold_label','fold').unionByName(pr_final)"
   ]
  },
  {
   "cell_type": "code",
   "execution_count": 0,
   "metadata": {
    "application/vnd.databricks.v1+cell": {
     "cellMetadata": {
      "byteLimit": 2048000,
      "rowLimit": 10000
     },
     "inputWidgets": {},
     "nuid": "2d46aeaa-ea68-4a26-8993-19cf80a67ad8",
     "showTitle": false,
     "tableResultSettingsMap": {},
     "title": ""
    }
   },
   "outputs": [],
   "source": [
    "display(all_pr_folds)"
   ]
  },
  {
   "cell_type": "code",
   "execution_count": 0,
   "metadata": {
    "application/vnd.databricks.v1+cell": {
     "cellMetadata": {
      "byteLimit": 2048000,
      "rowLimit": 10000
     },
     "inputWidgets": {},
     "nuid": "8ad247e8-2e29-447e-862c-6f642c7d56ff",
     "showTitle": false,
     "tableResultSettingsMap": {},
     "title": ""
    }
   },
   "outputs": [],
   "source": [
    "display(pr_df_full)"
   ]
  },
  {
   "cell_type": "code",
   "execution_count": 0,
   "metadata": {
    "application/vnd.databricks.v1+cell": {
     "cellMetadata": {
      "byteLimit": 2048000,
      "rowLimit": 10000
     },
     "collapsed": true,
     "inputWidgets": {},
     "nuid": "954eaed4-23af-4678-8535-a5028390cfd8",
     "showTitle": false,
     "tableResultSettingsMap": {},
     "title": ""
    }
   },
   "outputs": [],
   "source": [
    "folds_df = spark.createDataFrame(blocks)\n",
    "\n",
    "df_with_folds = df.join(\n",
    "    folds_df,\n",
    "    (df['sched_depart_utc'] > folds_df['date_min']) & (df['sched_depart_utc'] <= folds_df['date_max']),\n",
    "    'inner'\n",
    ").select(df['*'], folds_df['fold'])\n",
    "\n",
    "display(df_with_folds)"
   ]
  },
  {
   "cell_type": "code",
   "execution_count": 0,
   "metadata": {
    "application/vnd.databricks.v1+cell": {
     "cellMetadata": {
      "byteLimit": 2048000,
      "rowLimit": 10000
     },
     "collapsed": true,
     "inputWidgets": {},
     "nuid": "80710509-cbda-4d40-bd5e-fece4743618f",
     "showTitle": false,
     "tableResultSettingsMap": {},
     "title": ""
    }
   },
   "outputs": [],
   "source": [
    "df_with_folds"
   ]
  },
  {
   "cell_type": "code",
   "execution_count": 0,
   "metadata": {
    "application/vnd.databricks.v1+cell": {
     "cellMetadata": {
      "byteLimit": 2048000,
      "rowLimit": 10000
     },
     "collapsed": true,
     "inputWidgets": {},
     "nuid": "245234b8-e7f4-4d89-af6c-f4e3af123f35",
     "showTitle": false,
     "tableResultSettingsMap": {},
     "title": ""
    }
   },
   "outputs": [],
   "source": [
    "df_with_folds_final = df_with_folds.filter(F.col('fold').contains('test'))"
   ]
  },
  {
   "cell_type": "code",
   "execution_count": 0,
   "metadata": {
    "application/vnd.databricks.v1+cell": {
     "cellMetadata": {
      "byteLimit": 2048000,
      "rowLimit": 10000
     },
     "inputWidgets": {},
     "nuid": "da1ab2ba-2ce6-42ee-ad0d-b9f424236717",
     "showTitle": false,
     "tableResultSettingsMap": {},
     "title": ""
    }
   },
   "outputs": [],
   "source": [
    "pr_final"
   ]
  },
  {
   "cell_type": "code",
   "execution_count": 0,
   "metadata": {
    "application/vnd.databricks.v1+cell": {
     "cellMetadata": {
      "byteLimit": 2048000,
      "rowLimit": 10000
     },
     "inputWidgets": {},
     "nuid": "edf7464d-b7f9-4807-a8a8-0bc3f692d4b9",
     "showTitle": false,
     "tableResultSettingsMap": {},
     "title": ""
    }
   },
   "outputs": [],
   "source": [
    "\n",
    "\n",
    "df_with_pr_final = df_with_folds_final.join(\n",
    "    pr_final.select('id', 'pagerank', 'fold'),\n",
    "    (df_with_folds_final['fold'] == pr_final['fold']) & \n",
    "    (df_with_folds_final['ORIGIN'] == pr_final['id']),\n",
    "    'left'\n",
    ")\n"
   ]
  },
  {
   "cell_type": "code",
   "execution_count": 0,
   "metadata": {
    "application/vnd.databricks.v1+cell": {
     "cellMetadata": {
      "byteLimit": 2048000,
      "rowLimit": 10000
     },
     "inputWidgets": {},
     "nuid": "6906e592-cba3-47c0-a1ba-2274da9aa69f",
     "showTitle": false,
     "tableResultSettingsMap": {},
     "title": ""
    }
   },
   "outputs": [],
   "source": [
    "pr_df_full  = (df.join(all_pr_folds.filter(F.col('fold')=='train_0').withColumnRenamed('pagerank','train_0').drop('fold'), df['ORIGIN']==all_pr_folds['id']).drop('id')\n",
    "        .join(all_pr_folds.filter(F.col('fold')=='test_0').withColumnRenamed('pagerank','test_0').drop('fold'), df['ORIGIN']==all_pr_folds['id']).drop('id')\n",
    "        .join(all_pr_folds.filter(F.col('fold')=='train_1').withColumnRenamed('pagerank','train_1').drop('fold'), df['ORIGIN']==all_pr_folds['id']).drop('id')\n",
    "        .join(all_pr_folds.filter(F.col('fold')=='test_1').withColumnRenamed('pagerank','test_1').drop('fold'), df['ORIGIN']==all_pr_folds['id']).drop('id')\n",
    "        .join(all_pr_folds.filter(F.col('fold')=='train_2').withColumnRenamed('pagerank','train_2').drop('fold'), df['ORIGIN']==all_pr_folds['id']).drop('id')\n",
    "        .join(all_pr_folds.filter(F.col('fold')=='test_2').withColumnRenamed('pagerank','test_2').drop('fold'), df['ORIGIN']==all_pr_folds['id']).drop('id')\n",
    "        .join(all_pr_folds.filter(F.col('fold')=='train_3').withColumnRenamed('pagerank','train_3').drop('fold'), df['ORIGIN']==all_pr_folds['id']).drop('id')\n",
    "        .join(dftest3.filter(F.col('fold') == 'test_3').withColumnRenamed('pagerank','test_3').drop('fold'), df['ORIGIN']==dftest3['id']).drop('id')\n",
    "        .join(dftrain4.filter(F.col('fold')=='train_4').withColumnRenamed('pagerank','train_4').drop('fold'), df['ORIGIN']==dftrain4['id']).drop('id')\n",
    "        .join(all_pr_folds.filter(F.col('fold')=='test_4').withColumnRenamed('pagerank','test_4').drop('fold'), df['ORIGIN']==all_pr_folds['id']).drop('id')\n",
    "        .join(all_pr_folds.filter(F.col('fold')=='test').withColumnRenamed('pagerank','test').drop('fold'), df['ORIGIN']==all_pr_folds['id']).drop('id')\n",
    "\n",
    "        \n",
    "        )"
   ]
  },
  {
   "cell_type": "code",
   "execution_count": 0,
   "metadata": {
    "application/vnd.databricks.v1+cell": {
     "cellMetadata": {
      "byteLimit": 2048000,
      "rowLimit": 10000
     },
     "inputWidgets": {},
     "nuid": "e27c3c72-f832-420f-9c8f-1afcf200c5c9",
     "showTitle": false,
     "tableResultSettingsMap": {},
     "title": ""
    }
   },
   "outputs": [],
   "source": [
    "df_with_pr_final.filter(F.col('pagerank').isNull()).count()"
   ]
  },
  {
   "cell_type": "code",
   "execution_count": 0,
   "metadata": {
    "application/vnd.databricks.v1+cell": {
     "cellMetadata": {
      "byteLimit": 2048000,
      "rowLimit": 10000
     },
     "inputWidgets": {},
     "nuid": "041393d3-fc33-4e88-94db-180b02b6741c",
     "showTitle": false,
     "tableResultSettingsMap": {},
     "title": ""
    }
   },
   "outputs": [],
   "source": [
    "df_with_pr=df_with_pr.filter(F.col('fold')!='test_4')"
   ]
  },
  {
   "cell_type": "code",
   "execution_count": 0,
   "metadata": {
    "application/vnd.databricks.v1+cell": {
     "cellMetadata": {
      "byteLimit": 2048000,
      "rowLimit": 10000
     },
     "inputWidgets": {},
     "nuid": "b1e530f8-b369-44ea-ab60-9b51f46ad3c4",
     "showTitle": false,
     "tableResultSettingsMap": {},
     "title": ""
    }
   },
   "outputs": [],
   "source": [
    "df_with_pr_final.count()"
   ]
  },
  {
   "cell_type": "code",
   "execution_count": 0,
   "metadata": {
    "application/vnd.databricks.v1+cell": {
     "cellMetadata": {
      "byteLimit": 2048000,
      "rowLimit": 10000
     },
     "inputWidgets": {},
     "nuid": "8ad15c72-0355-477a-bd5b-47df9e18e43e",
     "showTitle": false,
     "tableResultSettingsMap": {},
     "title": ""
    }
   },
   "outputs": [],
   "source": [
    "df_with_pr = df_with_pr.dropDuplicates()"
   ]
  },
  {
   "cell_type": "code",
   "execution_count": 0,
   "metadata": {
    "application/vnd.databricks.v1+cell": {
     "cellMetadata": {
      "byteLimit": 2048000,
      "rowLimit": 10000
     },
     "inputWidgets": {},
     "nuid": "f8f2b26c-8dd4-4ebe-ae0e-b3e6f3dda74e",
     "showTitle": false,
     "tableResultSettingsMap": {},
     "title": ""
    }
   },
   "outputs": [],
   "source": [
    "original_cols = df_with_pr_final.columns\n",
    "new_columns = original_cols.copy()\n",
    "new_columns[-1] = 'fold_label'  # Changes the last element from 'fold' to 'fold_label'\n",
    "df_with_pr_final = df_with_pr_final.toDF(*new_columns)\n"
   ]
  },
  {
   "cell_type": "code",
   "execution_count": 0,
   "metadata": {
    "application/vnd.databricks.v1+cell": {
     "cellMetadata": {
      "byteLimit": 2048000,
      "rowLimit": 10000
     },
     "inputWidgets": {},
     "nuid": "85c480a5-f3a2-4d27-b8e2-1c9e32501190",
     "showTitle": false,
     "tableResultSettingsMap": {},
     "title": ""
    }
   },
   "outputs": [],
   "source": [
    "df_pr = df_with_pr.unionByName(df_with_pr_final)"
   ]
  },
  {
   "cell_type": "code",
   "execution_count": 0,
   "metadata": {
    "application/vnd.databricks.v1+cell": {
     "cellMetadata": {
      "byteLimit": 2048000,
      "rowLimit": 10000
     },
     "inputWidgets": {},
     "nuid": "49de8976-89d5-457a-b72d-0bff3771ce50",
     "showTitle": false,
     "tableResultSettingsMap": {},
     "title": ""
    }
   },
   "outputs": [],
   "source": [
    "df_pr.groupBy('YEAR').count().show()"
   ]
  },
  {
   "cell_type": "code",
   "execution_count": 0,
   "metadata": {
    "application/vnd.databricks.v1+cell": {
     "cellMetadata": {
      "byteLimit": 2048000,
      "rowLimit": 10000
     },
     "inputWidgets": {},
     "nuid": "1572c414-b48b-4624-88cc-ed510c7b6cb0",
     "showTitle": false,
     "tableResultSettingsMap": {},
     "title": ""
    }
   },
   "outputs": [],
   "source": [
    "from pyspark.sql.functions import min, max\n",
    "\n",
    "min_date = df_pr.select(min(\"FL_DATE\")).first()[0]\n",
    "max_date = df_pr.select(max(\"FL_DATE\")).first()[0]\n",
    "\n",
    "min_date, max_date"
   ]
  },
  {
   "cell_type": "code",
   "execution_count": 0,
   "metadata": {
    "application/vnd.databricks.v1+cell": {
     "cellMetadata": {
      "byteLimit": 2048000,
      "rowLimit": 10000
     },
     "inputWidgets": {},
     "nuid": "944836a2-87f0-460a-aec8-ed7305176ca4",
     "showTitle": false,
     "tableResultSettingsMap": {},
     "title": ""
    }
   },
   "outputs": [],
   "source": [
    "pr_df_full.write.mode(\"overwrite\").parquet(\"dbfs:/student-groups/Group_4_1/interim/join_checkpoints/joined__timefeat_seasfeat_cleaned_pr.parquet/\")"
   ]
  },
  {
   "cell_type": "code",
   "execution_count": 0,
   "metadata": {
    "application/vnd.databricks.v1+cell": {
     "cellMetadata": {
      "byteLimit": 2048000,
      "rowLimit": 10000
     },
     "inputWidgets": {},
     "nuid": "05fa0ff7-84bd-48c7-9f3b-78d1ac87fa1e",
     "showTitle": false,
     "tableResultSettingsMap": {},
     "title": ""
    }
   },
   "outputs": [],
   "source": [
    "pr_df_full"
   ]
  },
  {
   "cell_type": "markdown",
   "metadata": {
    "application/vnd.databricks.v1+cell": {
     "cellMetadata": {},
     "inputWidgets": {},
     "nuid": "a7909476-93ff-4296-a2f8-2e4eea17512a",
     "showTitle": false,
     "tableResultSettingsMap": {},
     "title": ""
    }
   },
   "source": [
    "# Graph Features Exploration"
   ]
  },
  {
   "cell_type": "markdown",
   "metadata": {
    "application/vnd.databricks.v1+cell": {
     "cellMetadata": {},
     "inputWidgets": {},
     "nuid": "cfa784ed-dcd0-4524-826f-34bcaa191f52",
     "showTitle": false,
     "tableResultSettingsMap": {},
     "title": ""
    }
   },
   "source": [
    "## Community Detection"
   ]
  },
  {
   "cell_type": "markdown",
   "metadata": {
    "application/vnd.databricks.v1+cell": {
     "cellMetadata": {},
     "inputWidgets": {},
     "nuid": "17e33563-9851-4b76-8178-d6768f3c200d",
     "showTitle": false,
     "tableResultSettingsMap": {},
     "title": ""
    }
   },
   "source": []
  },
  {
   "cell_type": "markdown",
   "metadata": {
    "application/vnd.databricks.v1+cell": {
     "cellMetadata": {},
     "inputWidgets": {},
     "nuid": "bec3d0a3-efba-4ce5-9db6-ac8d39c5faba",
     "showTitle": false,
     "tableResultSettingsMap": {},
     "title": ""
    }
   },
   "source": [
    "Idea: community detection. All airports are not concerned about all of each other, but would be concerned about the delays propagating within their communities. "
   ]
  },
  {
   "cell_type": "code",
   "execution_count": 0,
   "metadata": {
    "application/vnd.databricks.v1+cell": {
     "cellMetadata": {
      "byteLimit": 2048000,
      "rowLimit": 10000
     },
     "inputWidgets": {},
     "nuid": "67d0ee28-9337-4e37-b6d5-5147b04945d3",
     "showTitle": false,
     "tableResultSettingsMap": {},
     "title": ""
    }
   },
   "outputs": [],
   "source": [
    "from graphframes import GraphFrame\n"
   ]
  },
  {
   "cell_type": "code",
   "execution_count": 0,
   "metadata": {
    "application/vnd.databricks.v1+cell": {
     "cellMetadata": {
      "byteLimit": 2048000,
      "rowLimit": 10000
     },
     "inputWidgets": {},
     "nuid": "aecbf944-0758-48f1-9672-10054e04a50b",
     "showTitle": false,
     "tableResultSettingsMap": {},
     "title": ""
    }
   },
   "outputs": [],
   "source": [
    "df = spark.read.parquet(\"dbfs:/student-groups/Group_4_1/interim/join_checkpoints/joined__timefeat_seasfeat_cleaned.parquet/\")"
   ]
  },
  {
   "cell_type": "code",
   "execution_count": 0,
   "metadata": {
    "application/vnd.databricks.v1+cell": {
     "cellMetadata": {
      "byteLimit": 2048000,
      "rowLimit": 10000
     },
     "inputWidgets": {},
     "nuid": "9bba0bbe-467e-4981-ba83-eb71386a08bb",
     "showTitle": false,
     "tableResultSettingsMap": {},
     "title": ""
    }
   },
   "outputs": [],
   "source": [
    "ydf=df.filter(F.col('YEAR')==2015)"
   ]
  },
  {
   "cell_type": "code",
   "execution_count": 0,
   "metadata": {
    "application/vnd.databricks.v1+cell": {
     "cellMetadata": {
      "byteLimit": 2048000,
      "rowLimit": 10000
     },
     "inputWidgets": {},
     "nuid": "9705a8ea-d03e-4550-a463-a7cf9649a770",
     "showTitle": false,
     "tableResultSettingsMap": {},
     "title": ""
    }
   },
   "outputs": [],
   "source": [
    "v = ydf.select(\n",
    "    F.col(\"ORIGIN\").alias(\"id\")\n",
    ").union(\n",
    "    ydf.select(F.col(\"DEST\").alias(\"id\"))\n",
    ").distinct()\n",
    "\n",
    "\n",
    "e = ydf.select(\n",
    "    F.col(\"ORIGIN\").alias(\"src\"),\n",
    "    F.col(\"DEST\").alias(\"dst\")\n",
    ")\n",
    "\n",
    "g = GraphFrame(v, e)\n"
   ]
  },
  {
   "cell_type": "markdown",
   "metadata": {
    "application/vnd.databricks.v1+cell": {
     "cellMetadata": {},
     "inputWidgets": {},
     "nuid": "3e641ff7-33a6-40c6-aefa-d9a7782169fe",
     "showTitle": false,
     "tableResultSettingsMap": {},
     "title": ""
    }
   },
   "source": [
    "### Label Propagation"
   ]
  },
  {
   "cell_type": "markdown",
   "metadata": {
    "application/vnd.databricks.v1+cell": {
     "cellMetadata": {},
     "inputWidgets": {},
     "nuid": "3a82ec6a-7978-428e-905c-3c47da0cc6e1",
     "showTitle": false,
     "tableResultSettingsMap": {},
     "title": ""
    }
   },
   "source": [
    "Tl;dr as the spark docs says, literally just groups stuff into 1 label for the most part"
   ]
  },
  {
   "cell_type": "code",
   "execution_count": 0,
   "metadata": {
    "application/vnd.databricks.v1+cell": {
     "cellMetadata": {
      "byteLimit": 2048000,
      "rowLimit": 10000
     },
     "inputWidgets": {},
     "nuid": "07018cec-5cf9-4658-a54a-8bba29abf1d5",
     "showTitle": false,
     "tableResultSettingsMap": {},
     "title": ""
    }
   },
   "outputs": [],
   "source": [
    "result = g.labelPropagation(maxIter=15)\n",
    "result.groupBy('label').count().show()"
   ]
  },
  {
   "cell_type": "code",
   "execution_count": 0,
   "metadata": {
    "application/vnd.databricks.v1+cell": {
     "cellMetadata": {
      "byteLimit": 2048000,
      "rowLimit": 10000
     },
     "inputWidgets": {},
     "nuid": "37ae2ed3-c815-4969-9baa-6ae1e1268471",
     "showTitle": false,
     "tableResultSettingsMap": {},
     "title": ""
    }
   },
   "outputs": [],
   "source": [
    "e.count()"
   ]
  },
  {
   "cell_type": "code",
   "execution_count": 0,
   "metadata": {
    "application/vnd.databricks.v1+cell": {
     "cellMetadata": {
      "byteLimit": 2048000,
      "rowLimit": 10000
     },
     "inputWidgets": {},
     "nuid": "68f4a271-5939-4e6f-83a9-d9d3b94dd2c2",
     "showTitle": false,
     "tableResultSettingsMap": {},
     "title": ""
    }
   },
   "outputs": [],
   "source": [
    "result.filter(F.col('label')=='1219770712064').show()"
   ]
  },
  {
   "cell_type": "code",
   "execution_count": 0,
   "metadata": {
    "application/vnd.databricks.v1+cell": {
     "cellMetadata": {},
     "inputWidgets": {},
     "nuid": "17f54316-340a-49a7-bb3e-1d2cd8ea6555",
     "showTitle": false,
     "tableResultSettingsMap": {},
     "title": ""
    }
   },
   "outputs": [],
   "source": []
  },
  {
   "cell_type": "markdown",
   "metadata": {
    "application/vnd.databricks.v1+cell": {
     "cellMetadata": {},
     "inputWidgets": {},
     "nuid": "ac2601fd-59b7-4b3f-a120-5363fcbe333f",
     "showTitle": false,
     "tableResultSettingsMap": {},
     "title": ""
    }
   },
   "source": [
    "### Personalized PR\n",
    "\n"
   ]
  },
  {
   "cell_type": "code",
   "execution_count": 0,
   "metadata": {
    "application/vnd.databricks.v1+cell": {
     "cellMetadata": {
      "byteLimit": 2048000,
      "rowLimit": 10000
     },
     "inputWidgets": {},
     "nuid": "8cdf06fd-1e69-4757-a7a9-237048517698",
     "showTitle": false,
     "tableResultSettingsMap": {},
     "title": ""
    }
   },
   "outputs": [],
   "source": [
    "from pyspark.sql.functions import udf\n",
    "from pyspark.sql.types import MapType, IntegerType, DoubleType\n"
   ]
  },
  {
   "cell_type": "markdown",
   "metadata": {
    "application/vnd.databricks.v1+cell": {
     "cellMetadata": {},
     "inputWidgets": {},
     "nuid": "d4351282-4aac-46f3-a964-9bf9d7e8e38a",
     "showTitle": false,
     "tableResultSettingsMap": {},
     "title": ""
    }
   },
   "source": [
    "Main idea: compute the importance of nodes relative to a specific source node or set of nodes. Then, can find metrics for relevant nodes. Here, conceptualizing a node = an airport.\n",
    "\n"
   ]
  },
  {
   "cell_type": "code",
   "execution_count": 0,
   "metadata": {
    "application/vnd.databricks.v1+cell": {
     "cellMetadata": {
      "byteLimit": 2048000,
      "rowLimit": 10000
     },
     "collapsed": true,
     "inputWidgets": {},
     "nuid": "a3bc2bcf-5152-417d-ad1a-279b93246153",
     "showTitle": false,
     "tableResultSettingsMap": {},
     "title": ""
    }
   },
   "outputs": [],
   "source": [
    "ydf.groupBy(\"ORIGIN\").agg(F.countDistinct(\"DEST\").alias(\"dest_count\")).orderBy(F.desc(\"dest_count\")).show()"
   ]
  },
  {
   "cell_type": "code",
   "execution_count": 0,
   "metadata": {
    "application/vnd.databricks.v1+cell": {
     "cellMetadata": {
      "byteLimit": 2048000,
      "rowLimit": 10000
     },
     "inputWidgets": {},
     "nuid": "9b0746c8-2176-4bde-b3d0-d8786925571f",
     "showTitle": false,
     "tableResultSettingsMap": {},
     "title": ""
    }
   },
   "outputs": [],
   "source": [
    "from pyspark.sql.window import Window\n",
    "\n",
    "# Vertices (ordered alphabetically)\n",
    "v = ydf.select(F.col(\"ORIGIN\").alias(\"id\")) \\\n",
    "    .union(ydf.select(F.col(\"DEST\").alias(\"id\"))) \\\n",
    "    .distinct() \\\n",
    "    .orderBy(\"id\")\n",
    "\n",
    "# Edges (directed)\n",
    "e = ydf.select(F.col(\"ORIGIN\").alias(\"src\"), F.col(\"DEST\").alias(\"dst\"))\n",
    "\n",
    "# Build graph\n",
    "g = GraphFrame(v, e)\n"
   ]
  },
  {
   "cell_type": "code",
   "execution_count": 0,
   "metadata": {
    "application/vnd.databricks.v1+cell": {
     "cellMetadata": {
      "byteLimit": 2048000,
      "rowLimit": 10000
     },
     "inputWidgets": {},
     "nuid": "ebf071c4-9006-4785-a30f-2e3dec6832e8",
     "showTitle": false,
     "tableResultSettingsMap": {},
     "title": ""
    }
   },
   "outputs": [],
   "source": [
    "\n",
    "# Sources (ordered alphabetically to match vertices)\n",
    "sources_df = v.select(\"id\").distinct() \\\n",
    "    .orderBy(\"id\") \\\n",
    "    .withColumn(\"index\", F.row_number().over(Window.orderBy(\"id\")) - 1)\n",
    "\n",
    "sources_flat = sources_df.select(\"id\").rdd.flatMap(lambda x: x).collect()\n"
   ]
  },
  {
   "cell_type": "code",
   "execution_count": 0,
   "metadata": {
    "application/vnd.databricks.v1+cell": {
     "cellMetadata": {
      "byteLimit": 2048000,
      "rowLimit": 10000
     },
     "inputWidgets": {},
     "nuid": "478e1019-82b5-456d-b0e5-401ae028802e",
     "showTitle": false,
     "tableResultSettingsMap": {},
     "title": ""
    }
   },
   "outputs": [],
   "source": [
    "\n",
    "# Run PPR with aligned sources\n",
    "pageranked = g.parallelPersonalizedPageRank(\n",
    "    resetProbability=0.15, \n",
    "    sourceIds=sources_flat, \n",
    "    maxIter=10\n",
    ")\n"
   ]
  },
  {
   "cell_type": "code",
   "execution_count": 0,
   "metadata": {
    "application/vnd.databricks.v1+cell": {
     "cellMetadata": {
      "byteLimit": 2048000,
      "rowLimit": 10000
     },
     "inputWidgets": {},
     "nuid": "1739822f-6bb6-4c9e-bac6-7fc189c6589d",
     "showTitle": false,
     "tableResultSettingsMap": {},
     "title": ""
    }
   },
   "outputs": [],
   "source": [
    "display(pageranked.vertices.filter(F.col('id')=='JFK'))"
   ]
  },
  {
   "cell_type": "code",
   "execution_count": 0,
   "metadata": {
    "application/vnd.databricks.v1+cell": {
     "cellMetadata": {
      "byteLimit": 2048000,
      "rowLimit": 10000
     },
     "inputWidgets": {},
     "nuid": "7e0b6197-be81-4ee6-9a5e-50400321fb5c",
     "showTitle": false,
     "tableResultSettingsMap": {},
     "title": ""
    }
   },
   "outputs": [],
   "source": [
    "# Example: Check JFK's PPR scores\n",
    "jfk_index = sources_flat.index(\"JFK\")\n",
    "jfk_scores = pageranked.vertices.select(\"pageranks\").collect()[jfk_index]\n",
    "\n",
    "# Map scores to airport names\n",
    "sorted_scores = sorted(\n",
    "    zip(sources_flat, jfk_scores), \n",
    "    key=lambda x: x[1], \n",
    "    reverse=True\n",
    ")\n",
    "\n",
    "# Exclude self-score (JFK)\n",
    "top_external = sorted_scores[1:11]  # Skip index 0 (JFK itself)\n",
    "print(top_external)\n"
   ]
  },
  {
   "cell_type": "code",
   "execution_count": 0,
   "metadata": {
    "application/vnd.databricks.v1+cell": {
     "cellMetadata": {
      "byteLimit": 2048000,
      "rowLimit": 10000
     },
     "inputWidgets": {},
     "nuid": "bca3e533-7763-4897-853f-15890e6f9e51",
     "showTitle": false,
     "tableResultSettingsMap": {},
     "title": ""
    }
   },
   "outputs": [],
   "source": [
    "sources_flat[51]"
   ]
  },
  {
   "cell_type": "code",
   "execution_count": 0,
   "metadata": {
    "application/vnd.databricks.v1+cell": {
     "cellMetadata": {
      "byteLimit": 2048000,
      "rowLimit": 10000
     },
     "inputWidgets": {},
     "nuid": "b7e153c0-df32-4792-8b2c-b10162abc7c7",
     "showTitle": false,
     "tableResultSettingsMap": {},
     "title": ""
    }
   },
   "outputs": [],
   "source": [
    "\n",
    "\n",
    "broadcast_sources = sc.broadcast(sources_flat)\n",
    "\n",
    "result_schema = ArrayType(\n",
    "    StructType([\n",
    "        StructField(\"origin\", StringType()),\n",
    "        StructField(\"score\", DoubleType())\n",
    "    ])\n",
    ")\n",
    "def vector_to_dict(vector):\n",
    "    # Retrieve the broadcasted list\n",
    "    sources = broadcast_sources.value\n",
    "    \n",
    "    # Sort the vector entries and take top 10\n",
    "    sorted_entries = sorted(\n",
    "        [(i, float(v)) for i, v in enumerate(vector)], \n",
    "        key=lambda x: x[1], \n",
    "        reverse=True\n",
    "    )[:10]\n",
    "    \n",
    "    # Map indices to actual source IDs\n",
    "    return [(sources_flat[i], float(v)) for i, v in sorted_entries]\n",
    "\n",
    "# Define UDF\n",
    "vector_to_dict_udf = udf(vector_to_dict, result_schema)\n",
    "\n",
    "\n",
    "\n",
    "\n",
    "results = pageranked.vertices.withColumn(\"pagerank_dict\", vector_to_dict_udf(\"pageranks\"))\n"
   ]
  },
  {
   "cell_type": "code",
   "execution_count": 0,
   "metadata": {
    "application/vnd.databricks.v1+cell": {
     "cellMetadata": {
      "byteLimit": 2048000,
      "rowLimit": 10000
     },
     "inputWidgets": {},
     "nuid": "118e558e-0726-4814-9f6c-41cdd5efdc0f",
     "showTitle": false,
     "tableResultSettingsMap": {},
     "title": ""
    }
   },
   "outputs": [],
   "source": [
    "[u for u in enumerate(sources_flat) if u[1]=='HYA']"
   ]
  },
  {
   "cell_type": "code",
   "execution_count": 0,
   "metadata": {
    "application/vnd.databricks.v1+cell": {
     "cellMetadata": {
      "byteLimit": 2048000,
      "rowLimit": 10000
     },
     "inputWidgets": {},
     "nuid": "49ce7064-60b5-4348-bed5-31b0fa65fcca",
     "showTitle": false,
     "tableResultSettingsMap": {},
     "title": ""
    }
   },
   "outputs": [],
   "source": [
    "results.printSchema()"
   ]
  },
  {
   "cell_type": "code",
   "execution_count": 0,
   "metadata": {
    "application/vnd.databricks.v1+cell": {
     "cellMetadata": {
      "byteLimit": 2048000,
      "rowLimit": 10000
     },
     "inputWidgets": {},
     "nuid": "c040c863-0c68-47f2-84aa-843a848b78d1",
     "showTitle": false,
     "tableResultSettingsMap": {},
     "title": ""
    }
   },
   "outputs": [],
   "source": [
    "def vector_to_map(vector):\n",
    "    sources = broadcast_sources.value\n",
    "    indices = vector.indices.tolist()\n",
    "    values = vector.values.tolist()\n",
    "\n",
    "    return {sources[i]: float(v) for i, v in zip(indices, values)}\n",
    "\n",
    "vector_to_map_udf = udf(vector_to_map, MapType(StringType(), DoubleType()))\n",
    "results = results.withColumn(\"pagerank_map\", vector_to_map_udf(col(\"pageranks\")))\n"
   ]
  },
  {
   "cell_type": "markdown",
   "metadata": {
    "application/vnd.databricks.v1+cell": {
     "cellMetadata": {},
     "inputWidgets": {},
     "nuid": "ef6dad00-e1fc-49d5-90bb-5bbce96db804",
     "showTitle": false,
     "tableResultSettingsMap": {},
     "title": ""
    }
   },
   "source": [
    "pageranks (VectorType): the pageranks of this vertex from all input source vertices\n"
   ]
  },
  {
   "cell_type": "code",
   "execution_count": 0,
   "metadata": {
    "application/vnd.databricks.v1+cell": {
     "cellMetadata": {},
     "inputWidgets": {},
     "nuid": "78f3d7b8-d93d-4915-b38c-85388ad33633",
     "showTitle": false,
     "tableResultSettingsMap": {},
     "title": ""
    }
   },
   "outputs": [],
   "source": [
    "r"
   ]
  },
  {
   "cell_type": "code",
   "execution_count": 0,
   "metadata": {
    "application/vnd.databricks.v1+cell": {
     "cellMetadata": {
      "byteLimit": 2048000,
      "rowLimit": 10000
     },
     "inputWidgets": {},
     "nuid": "59cec8d9-2834-4e86-9e02-fef5d5a321bb",
     "showTitle": false,
     "tableResultSettingsMap": {},
     "title": ""
    }
   },
   "outputs": [],
   "source": [
    "display(pageranked.edges.limit(10))"
   ]
  },
  {
   "cell_type": "code",
   "execution_count": 0,
   "metadata": {
    "application/vnd.databricks.v1+cell": {
     "cellMetadata": {},
     "inputWidgets": {},
     "nuid": "3b648a89-bda4-431d-9529-03b3abdc0dde",
     "showTitle": false,
     "tableResultSettingsMap": {},
     "title": ""
    }
   },
   "outputs": [],
   "source": []
  },
  {
   "cell_type": "code",
   "execution_count": 0,
   "metadata": {
    "application/vnd.databricks.v1+cell": {
     "cellMetadata": {
      "byteLimit": 2048000,
      "rowLimit": 10000
     },
     "inputWidgets": {},
     "nuid": "7245d998-f798-49a3-a32d-730830fd2b07",
     "showTitle": false,
     "tableResultSettingsMap": {},
     "title": ""
    }
   },
   "outputs": [],
   "source": [
    "display(results)"
   ]
  },
  {
   "cell_type": "code",
   "execution_count": 0,
   "metadata": {
    "application/vnd.databricks.v1+cell": {
     "cellMetadata": {
      "byteLimit": 2048000,
      "rowLimit": 10000
     },
     "inputWidgets": {},
     "nuid": "6950e138-c330-4312-babf-87501af1d7e2",
     "showTitle": false,
     "tableResultSettingsMap": {},
     "title": ""
    }
   },
   "outputs": [],
   "source": [
    "display(results.withColumn('pagerank', F.col('pageranks').cast('string')).limit(5))"
   ]
  },
  {
   "cell_type": "code",
   "execution_count": 0,
   "metadata": {
    "application/vnd.databricks.v1+cell": {
     "cellMetadata": {
      "byteLimit": 2048000,
      "rowLimit": 10000
     },
     "inputWidgets": {},
     "nuid": "31dbdf8d-b4ce-4417-8e76-d95e55173e74",
     "showTitle": false,
     "tableResultSettingsMap": {},
     "title": ""
    }
   },
   "outputs": [],
   "source": [
    "\n",
    "broadcast_sources = sc.broadcast(sources_list)\n",
    "\n",
    "result_schema = ArrayType(\n",
    "    StructType([\n",
    "        StructField(\"origin\", StringType()),\n",
    "        StructField(\"score\", DoubleType())\n",
    "    ])\n",
    ")\n",
    "def vector_to_dict(vector):\n",
    "    # Retrieve the broadcasted list\n",
    "    sources = broadcast_sources.value\n",
    "    \n",
    "    # Sort the vector entries and take top 10\n",
    "    sorted_entries = sorted(\n",
    "        [(i, float(v)) for i, v in enumerate(vector)], \n",
    "        key=lambda x: x[1], \n",
    "        reverse=True\n",
    "    )[:10]\n",
    "    \n",
    "    # Map indices to actual source IDs\n",
    "    return [(sources[i], float(v)) for i, v in sorted_entries]\n",
    "\n",
    "# Define UDF\n",
    "vector_to_dict_udf = udf(vector_to_dict, result_schema)\n",
    "\n",
    "# Apply UDF\n",
    "results = results.withColumn(\"pagerank_dict\", vector_to_dict_udf(\"pageranks\"))\n",
    "display(results.limit(5)) #sanity check"
   ]
  },
  {
   "cell_type": "code",
   "execution_count": 0,
   "metadata": {
    "application/vnd.databricks.v1+cell": {
     "cellMetadata": {
      "byteLimit": 2048000,
      "rowLimit": 10000
     },
     "inputWidgets": {},
     "nuid": "761da4e4-59e1-49ff-8f33-8987ecac4639",
     "showTitle": false,
     "tableResultSettingsMap": {},
     "title": ""
    }
   },
   "outputs": [],
   "source": [
    "display(results.filter(F.col('id')=='JFK'))"
   ]
  },
  {
   "cell_type": "code",
   "execution_count": 0,
   "metadata": {
    "application/vnd.databricks.v1+cell": {
     "cellMetadata": {
      "byteLimit": 2048000,
      "rowLimit": 10000
     },
     "inputWidgets": {},
     "nuid": "0fd799bf-a8b4-48f2-ab47-1c1a1f765290",
     "showTitle": false,
     "tableResultSettingsMap": {},
     "title": ""
    }
   },
   "outputs": [],
   "source": [
    "ydf.filter(F.col(\"ORIGIN\")==\"JFK\").filter(F.col(\"DEST\")==\"HYA\").count()"
   ]
  },
  {
   "cell_type": "code",
   "execution_count": 0,
   "metadata": {
    "application/vnd.databricks.v1+cell": {
     "cellMetadata": {
      "byteLimit": 2048000,
      "rowLimit": 10000
     },
     "inputWidgets": {},
     "nuid": "864f3fbf-93b4-4ff9-9684-f32b7a4ecef0",
     "showTitle": false,
     "tableResultSettingsMap": {},
     "title": ""
    }
   },
   "outputs": [],
   "source": [
    "df.filter(F.col(\"ORIGIN\")==\"JFK\").groupBy(\"DEST\").count().orderBy(F.desc(F.col('count'))).show()"
   ]
  },
  {
   "cell_type": "code",
   "execution_count": 0,
   "metadata": {
    "application/vnd.databricks.v1+cell": {
     "cellMetadata": {
      "byteLimit": 2048000,
      "rowLimit": 10000
     },
     "inputWidgets": {},
     "nuid": "c7c7ffc8-28f8-45c8-a864-e568e79e125c",
     "showTitle": false,
     "tableResultSettingsMap": {},
     "title": ""
    }
   },
   "outputs": [],
   "source": [
    "df.filter(F.col(\"ORIGIN\")==\"HYA\").groupBy(\"DEST\").count().orderBy(F.desc(F.col('count'))).show()"
   ]
  },
  {
   "cell_type": "code",
   "execution_count": 0,
   "metadata": {
    "application/vnd.databricks.v1+cell": {
     "cellMetadata": {
      "byteLimit": 2048000,
      "rowLimit": 10000
     },
     "inputWidgets": {},
     "nuid": "62fae674-d631-48b1-baa6-b86a4344333e",
     "showTitle": false,
     "tableResultSettingsMap": {},
     "title": ""
    }
   },
   "outputs": [],
   "source": [
    "df.filter(F.col(\"ORIGIN\")==\"HYA\").filter(F.col(\"DEST\")==\"JFK\").count()"
   ]
  },
  {
   "cell_type": "code",
   "execution_count": 0,
   "metadata": {
    "application/vnd.databricks.v1+cell": {
     "cellMetadata": {
      "byteLimit": 2048000,
      "rowLimit": 10000
     },
     "inputWidgets": {},
     "nuid": "1652068e-a7eb-4b57-8d1a-2abb2862281c",
     "showTitle": false,
     "tableResultSettingsMap": {},
     "title": ""
    }
   },
   "outputs": [],
   "source": [
    "df.filter(F.col(\"ORIGIN\")==\"JFK\").filter(F.col(\"DEST\")==\"HYA\").count()"
   ]
  },
  {
   "cell_type": "code",
   "execution_count": 0,
   "metadata": {
    "application/vnd.databricks.v1+cell": {
     "cellMetadata": {
      "byteLimit": 2048000,
      "rowLimit": 10000
     },
     "inputWidgets": {},
     "nuid": "41c85b65-0b77-4176-886c-4e74891c6f09",
     "showTitle": false,
     "tableResultSettingsMap": {},
     "title": ""
    }
   },
   "outputs": [],
   "source": [
    "[i for i in enumerate(sources_list) if i[1]=='HYA']"
   ]
  },
  {
   "cell_type": "code",
   "execution_count": 0,
   "metadata": {
    "application/vnd.databricks.v1+cell": {
     "cellMetadata": {},
     "inputWidgets": {},
     "nuid": "cab0a44d-e411-42f4-a5b5-138a64085f9c",
     "showTitle": false,
     "tableResultSettingsMap": {},
     "title": ""
    }
   },
   "outputs": [],
   "source": []
  },
  {
   "cell_type": "code",
   "execution_count": 0,
   "metadata": {
    "application/vnd.databricks.v1+cell": {
     "cellMetadata": {
      "byteLimit": 2048000,
      "rowLimit": 10000
     },
     "inputWidgets": {},
     "nuid": "d0256013-3a42-434b-a043-f3c37510b38e",
     "showTitle": false,
     "tableResultSettingsMap": {},
     "title": ""
    }
   },
   "outputs": [],
   "source": [
    "display(results.filter(F.col('id')=='BGM').select(F.map_keys('pagerank_dict').cast(\"string\")))"
   ]
  },
  {
   "cell_type": "code",
   "execution_count": 0,
   "metadata": {
    "application/vnd.databricks.v1+cell": {
     "cellMetadata": {
      "byteLimit": 2048000,
      "rowLimit": 10000
     },
     "inputWidgets": {},
     "nuid": "99344690-ef56-4cef-8c2d-57b8c37490f2",
     "showTitle": false,
     "tableResultSettingsMap": {},
     "title": ""
    }
   },
   "outputs": [],
   "source": [
    "display(results.limit(5))"
   ]
  },
  {
   "cell_type": "code",
   "execution_count": 0,
   "metadata": {
    "application/vnd.databricks.v1+cell": {
     "cellMetadata": {
      "byteLimit": 2048000,
      "rowLimit": 10000
     },
     "inputWidgets": {},
     "nuid": "c07aa861-8619-4a36-962d-6238df50bd73",
     "showTitle": false,
     "tableResultSettingsMap": {},
     "title": ""
    }
   },
   "outputs": [],
   "source": [
    "results.select('id', 'pagerank_dict')"
   ]
  },
  {
   "cell_type": "code",
   "execution_count": 0,
   "metadata": {
    "application/vnd.databricks.v1+cell": {
     "cellMetadata": {
      "byteLimit": 2048000,
      "rowLimit": 10000
     },
     "inputWidgets": {},
     "nuid": "bc862057-1e67-4eba-9c23-120ece0da007",
     "showTitle": false,
     "tableResultSettingsMap": {},
     "title": ""
    }
   },
   "outputs": [],
   "source": [
    "sources_list[200]"
   ]
  },
  {
   "cell_type": "code",
   "execution_count": 0,
   "metadata": {
    "application/vnd.databricks.v1+cell": {
     "cellMetadata": {
      "byteLimit": 2048000,
      "rowLimit": 10000
     },
     "inputWidgets": {},
     "nuid": "12087b81-2acd-49e1-ac8d-2488c1d018e6",
     "showTitle": false,
     "tableResultSettingsMap": {},
     "title": ""
    }
   },
   "outputs": [],
   "source": [
    "display(results.vertices.withColumn(\"pagerank_dict\", vector_to_dict_udf(\"pageranks\")).limit(5))"
   ]
  },
  {
   "cell_type": "markdown",
   "metadata": {
    "application/vnd.databricks.v1+cell": {
     "cellMetadata": {},
     "inputWidgets": {},
     "nuid": "1c53cfce-c09b-4668-9b7d-0af02d0ad6cf",
     "showTitle": false,
     "tableResultSettingsMap": {},
     "title": ""
    }
   },
   "source": [
    "# PPR: Folds"
   ]
  },
  {
   "cell_type": "code",
   "execution_count": 0,
   "metadata": {
    "application/vnd.databricks.v1+cell": {
     "cellMetadata": {
      "byteLimit": 2048000,
      "rowLimit": 10000
     },
     "inputWidgets": {},
     "nuid": "5047de67-a682-4db6-90b9-30d90bcbbed8",
     "showTitle": false,
     "tableResultSettingsMap": {},
     "title": ""
    }
   },
   "outputs": [],
   "source": [
    "df = spark.read.parquet(\"dbfs:/student-groups/Group_4_1/interim/join_checkpoints/joined__timefeat_seasfeat_cleaned.parquet/\")"
   ]
  },
  {
   "cell_type": "code",
   "execution_count": 0,
   "metadata": {
    "application/vnd.databricks.v1+cell": {
     "cellMetadata": {
      "byteLimit": 2048000,
      "rowLimit": 10000
     },
     "inputWidgets": {},
     "nuid": "5ec73642-6f6d-402c-95fb-f71396911178",
     "showTitle": false,
     "tableResultSettingsMap": {},
     "title": ""
    }
   },
   "outputs": [],
   "source": [
    "# Define fold date ranges based on erica's cv\n",
    "folds = [\n",
    "    {\"fold\": 'train_0', \"date_min\": \"2014-12-31\", \"date_max\": \"2015-10-09\"},\n",
    "    {\"fold\": 'test_0', \"date_min\": \"2015-10-09\", \"date_max\": \"2016-07-17\"},\n",
    "    {\"fold\": 'train_1', \"date_min\": \"2015-08-14\", \"date_max\": \"2016-05-21\"},\n",
    "    {\"fold\": 'test_1', \"date_min\": \"2016-05-21\", \"date_max\": \"2017-02-27\"},\n",
    "    {\"fold\": 'train_2', \"date_min\": \"2016-03-27\", \"date_max\": \"2017-01-01\"},\n",
    "    {\"fold\": 'test_2', \"date_min\": \"2017-01-01\", \"date_max\": \"2017-10-10\"},\n",
    "    {\"fold\": 'train_3', \"date_min\": \"2016-11-08\", \"date_max\": \"2017-08-14\"},\n",
    "    {\"fold\": 'test_3', \"date_min\": \"2017-08-14\", \"date_max\": \"2018-05-23\"},\n",
    "    {\"fold\": 'train_4', \"date_min\": \"2017-06-22\", \"date_max\": \"2018-03-27\"},\n",
    "    {\"fold\": 'test_4', \"date_min\": \"2018-03-27\", \"date_max\": \"2018-12-31\"},\n",
    "    {\"fold\":\"test\", \"date_min\": \"2019-01-01\", \"date_max\": \"2019-12-31\"}\n",
    "    ]"
   ]
  },
  {
   "cell_type": "code",
   "execution_count": 0,
   "metadata": {
    "application/vnd.databricks.v1+cell": {
     "cellMetadata": {
      "byteLimit": 2048000,
      "rowLimit": 10000
     },
     "inputWidgets": {},
     "nuid": "49af986a-041a-45c7-8590-580bbb5da61c",
     "showTitle": false,
     "tableResultSettingsMap": {},
     "title": ""
    }
   },
   "outputs": [],
   "source": [
    "train0= df.filter(F.col(\"sched_depart_utc\")>=\"2014-12-31\").filter(F.col(\"sched_depart_utc\")<=\"2015-10-09\")"
   ]
  },
  {
   "cell_type": "markdown",
   "metadata": {
    "application/vnd.databricks.v1+cell": {
     "cellMetadata": {},
     "inputWidgets": {},
     "nuid": "e6d7af05-fb56-4760-9cc7-f2f0d2803869",
     "showTitle": false,
     "tableResultSettingsMap": {},
     "title": ""
    }
   },
   "source": [
    "## Pregel\n"
   ]
  },
  {
   "cell_type": "code",
   "execution_count": 0,
   "metadata": {
    "application/vnd.databricks.v1+cell": {
     "cellMetadata": {
      "byteLimit": 2048000,
      "rowLimit": 10000
     },
     "inputWidgets": {},
     "nuid": "8046fe5a-c08a-4b99-ae4b-9a49479572c5",
     "showTitle": false,
     "tableResultSettingsMap": {},
     "title": ""
    }
   },
   "outputs": [],
   "source": [
    "from graphframes.lib import Pregel\n",
    "from graphframes import GraphFrame\n"
   ]
  },
  {
   "cell_type": "code",
   "execution_count": 0,
   "metadata": {
    "application/vnd.databricks.v1+cell": {
     "cellMetadata": {
      "byteLimit": 2048000,
      "rowLimit": 10000
     },
     "inputWidgets": {},
     "nuid": "278f0cbc-1f0d-4dec-b8a5-8f9b4f880e61",
     "showTitle": false,
     "tableResultSettingsMap": {},
     "title": ""
    }
   },
   "outputs": [],
   "source": [
    "edges = train0.select(\n",
    "    F.col(\"priorflight_origin\").alias(\"src\"),\n",
    "    F.col(\"ORIGIN\").alias(\"dst\"),\n",
    "    F.col(\"priorflight_sched_deptime\").alias(\"timestamp\"),\n",
    "    F.col('priorflight_depdelay_calc')\n",
    ").orderBy(\"timestamp\")"
   ]
  },
  {
   "cell_type": "code",
   "execution_count": 0,
   "metadata": {
    "application/vnd.databricks.v1+cell": {
     "cellMetadata": {
      "byteLimit": 2048000,
      "rowLimit": 10000
     },
     "inputWidgets": {},
     "nuid": "6f631874-c662-408f-9f94-b9695c73cd0d",
     "showTitle": false,
     "tableResultSettingsMap": {},
     "title": ""
    }
   },
   "outputs": [],
   "source": [
    "vertices = train0.select(F.col(\"ORIGIN\").alias(\"id\")) \\\n",
    "    .union(train0.select(F.col(\"DEST\").alias(\"id\"))) \\\n",
    "    .distinct() \\\n",
    "    .orderBy(\"id\")\n"
   ]
  },
  {
   "cell_type": "code",
   "execution_count": 0,
   "metadata": {
    "application/vnd.databricks.v1+cell": {
     "cellMetadata": {
      "byteLimit": 2048000,
      "rowLimit": 10000
     },
     "inputWidgets": {},
     "nuid": "3ff39dc2-f922-430b-addc-3b8a27fe002f",
     "showTitle": false,
     "tableResultSettingsMap": {},
     "title": ""
    }
   },
   "outputs": [],
   "source": [
    "# Define windows (e.g., hourly)\n",
    "window_duration = \"1 hour\"\n",
    "lookback_duration = \"2 hours\"\n",
    "\n",
    "# Add window start/end timestamps to edges\n",
    "edges_with_windows = edges.withColumn(\n",
    "    \"window\", \n",
    "    F.window(F.col(\"timestamp\"), window_duration)\n",
    ").select(\n",
    "    \"src\", \"dst\", \"timestamp\", \"priorflight_depdelay_calc\",\n",
    "    F.col(\"window.start\").alias(\"window_start\"),\n",
    "    F.col(\"window.end\").alias(\"window_end\")\n",
    ")\n",
    "\n",
    "# Generate all possible windows (sorted)\n",
    "windows = edges_with_windows.select(\"window_start\", \"window_end\").distinct() \\\n",
    "    .orderBy(\"window_start\") \\\n",
    "    .collect()"
   ]
  },
  {
   "cell_type": "code",
   "execution_count": 0,
   "metadata": {
    "application/vnd.databricks.v1+cell": {
     "cellMetadata": {
      "byteLimit": 2048000,
      "rowLimit": 10000
     },
     "inputWidgets": {},
     "nuid": "170452cf-b282-43fb-a541-bc324515075d",
     "showTitle": false,
     "tableResultSettingsMap": {},
     "title": ""
    }
   },
   "outputs": [],
   "source": [
    "display(edges_with_windows)"
   ]
  },
  {
   "cell_type": "code",
   "execution_count": 0,
   "metadata": {
    "application/vnd.databricks.v1+cell": {
     "cellMetadata": {
      "byteLimit": 2048000,
      "rowLimit": 10000
     },
     "inputWidgets": {},
     "nuid": "54de0100-4ef6-4450-88b2-fdeedf441d65",
     "showTitle": false,
     "tableResultSettingsMap": {},
     "title": ""
    }
   },
   "outputs": [],
   "source": [
    "g = GraphFrame(vertices, edges)\n"
   ]
  },
  {
   "cell_type": "code",
   "execution_count": 0,
   "metadata": {
    "application/vnd.databricks.v1+cell": {
     "cellMetadata": {
      "byteLimit": 2048000,
      "rowLimit": 10000
     },
     "inputWidgets": {},
     "nuid": "6ef29a6d-bcc4-4237-b521-967fc0def3e6",
     "showTitle": false,
     "tableResultSettingsMap": {},
     "title": ""
    }
   },
   "outputs": [],
   "source": [
    "numVertices = vertices.count()\n",
    "alpha=.15\n",
    "result = g.pregel \\\n",
    "    .withVertexColumn(\"rank\", lit(\"priorflight_depdelay_calc\"), \\\n",
    "              F.coalesce(Pregel.msg(), lit(0.0)) * lit(1.0 - alpha) + lit(alpha / numVertices)) \\\n",
    "    .sendMsgToDst(Pregel.src(\"rank\")*.5) \\\n",
    "    .aggMsgs(F.sum(Pregel.msg())) \\\n",
    "    .run()"
   ]
  },
  {
   "cell_type": "code",
   "execution_count": 0,
   "metadata": {
    "application/vnd.databricks.v1+cell": {
     "cellMetadata": {
      "byteLimit": 2048000,
      "rowLimit": 10000
     },
     "inputWidgets": {},
     "nuid": "b6b78f0f-d762-47d0-b15d-71d8f28a7ce6",
     "showTitle": false,
     "tableResultSettingsMap": {},
     "title": ""
    }
   },
   "outputs": [],
   "source": [
    "lookback_duration"
   ]
  },
  {
   "cell_type": "code",
   "execution_count": 0,
   "metadata": {
    "application/vnd.databricks.v1+cell": {
     "cellMetadata": {
      "byteLimit": 2048000,
      "rowLimit": 10000
     },
     "inputWidgets": {},
     "nuid": "9153834f-f456-4469-aceb-0278ca09fc5f",
     "showTitle": false,
     "tableResultSettingsMap": {},
     "title": ""
    }
   },
   "outputs": [],
   "source": [
    "vertices = edges.selectExpr(\"src as id\").union(edges.selectExpr(\"dst as id\")).distinct() \\\n",
    "    .withColumn(\"state\", F.lit(0.0)) #initialize state=0"
   ]
  },
  {
   "cell_type": "code",
   "execution_count": 0,
   "metadata": {
    "application/vnd.databricks.v1+cell": {
     "cellMetadata": {
      "byteLimit": 2048000,
      "rowLimit": 10000
     },
     "inputWidgets": {},
     "nuid": "cd5e7f23-56d8-48dd-b3b6-5850539c6667",
     "showTitle": false,
     "tableResultSettingsMap": {},
     "title": ""
    }
   },
   "outputs": [],
   "source": [
    "vertices = edges.selectExpr(\"src as id\").union(edges.selectExpr(\"dst as id\")).distinct() \\\n",
    "    .withColumn(\"state\", F.lit(0.0)) #initialize state=0\n",
    "for window in windows[:3]:\n",
    "    current_window_end = window.window_end\n",
    "    lookback_start = window.window_start - F.expr(f\"INTERVAL {lookback_duration}\")\n",
    "    \n",
    "    # Filter edges from [lookback_start, current_window_end]\n",
    "    current_edges = edges_with_windows.filter(\n",
    "        (F.col(\"timestamp\") >= lookback_start) & \n",
    "        (F.col(\"timestamp\") < current_window_end)\n",
    "    )\n",
    "    \n",
    "    # Build graph for this window\n",
    "    g = GraphFrame(vertices, current_edges)\n",
    "    \n",
    "    # Run Pregel with \"new_state\" column\n",
    "    result = g.pregel \\\n",
    "        .withVertexColumn(\n",
    "            \"new_state\",\n",
    "            F.col(\"state\"),  # Now safe to reference \"state\"\n",
    "            F.least(\n",
    "                F.lit(1.0), \n",
    "                F.coalesce(F.sum(Pregel.msg()).over(Window.partitionBy('id')), F.lit(0.0)) * 0.85 + F.lit(0.15 / numVertices)\n",
    "            )\n",
    "        ) \\\n",
    "        .sendMsgToDst(Pregel.src(\"new_state\") * Pregel.edge(\"priorflight_depdelay_calc\")) \\\n",
    "        .aggMsgs(F.sum(Pregel.msg())) \\\n",
    "        .run()\n",
    "    \n",
    "    # Rename \"new_state\" to \"state\" for next iteration\n",
    "    vertices = result.drop(\"state\").withColumnRenamed(\"new_state\", \"state\")"
   ]
  },
  {
   "cell_type": "code",
   "execution_count": 0,
   "metadata": {
    "application/vnd.databricks.v1+cell": {
     "cellMetadata": {
      "byteLimit": 2048000,
      "rowLimit": 10000
     },
     "inputWidgets": {},
     "nuid": "d5ec19f4-b3bc-490d-9f43-2cdf1b897a6a",
     "showTitle": false,
     "tableResultSettingsMap": {},
     "title": ""
    }
   },
   "outputs": [],
   "source": [
    "display(current_edges)"
   ]
  },
  {
   "cell_type": "code",
   "execution_count": 0,
   "metadata": {
    "application/vnd.databricks.v1+cell": {
     "cellMetadata": {
      "byteLimit": 2048000,
      "rowLimit": 10000
     },
     "inputWidgets": {},
     "nuid": "26b958f2-54ba-495f-bc3e-858a222bade2",
     "showTitle": false,
     "tableResultSettingsMap": {},
     "title": ""
    }
   },
   "outputs": [],
   "source": [
    "# Initialize airports with delay state = 0.0\n",
    "vertices = (\n",
    "    train0.select(F.col(\"ORIGIN\").alias(\"id\"))\n",
    "    .union(train0.select(F.col(\"DEST\").alias(\"id\")))\n",
    "    .union(train0.select(F.col(\"priorflight_origin\").alias(\"id\")))\n",
    "    .distinct()\n",
    "    .withColumn(\"delay_state\", F.lit(0.0))\n",
    ")\n",
    "\n",
    "\n",
    "edges = train0.select(\n",
    "    F.col(\"ORIGIN\").alias(\"src\"),  # Delay source\n",
    "    F.col(\"DEST\").alias(\"dst\"),              # Current origin receiving delay\n",
    "    F.col(\"sched_depart_utc\").alias(\"timestamp\"), \n",
    "    F.col(\"mean_dep_delay\").alias(\"mean_delay\")\n",
    ").withColumn(F.greatest(F.col(\"mean_delay\"), F.lit(0.0))).orderBy(\"timestamp\")\n",
    "\n",
    "\n",
    "edges_with_windows = edges.withColumn(\n",
    "    \"window\", \n",
    "    F.window(\"timestamp\", \"1 hour\")\n",
    ").withColumn(\n",
    "    \"lookback_start\", \n",
    "    F.col(\"window.start\") - F.expr(\"INTERVAL 2 HOURS\")\n",
    ")\n",
    "windows = edges_with_windows.select(\"window.start\", \"window.end\").distinct().orderBy(\"window.start\").collect()\n"
   ]
  },
  {
   "cell_type": "code",
   "execution_count": 0,
   "metadata": {
    "application/vnd.databricks.v1+cell": {
     "cellMetadata": {
      "byteLimit": 2048000,
      "rowLimit": 10000
     },
     "inputWidgets": {},
     "nuid": "9c990c23-1917-4db4-af09-f5dbb570f388",
     "showTitle": false,
     "tableResultSettingsMap": {},
     "title": ""
    }
   },
   "outputs": [],
   "source": [
    "edges_with_windows = edges.withColumn(\n",
    "    \"window\", \n",
    "    F.window(\"timestamp\", \"1 hour\")\n",
    ").withColumn(\n",
    "    \"lookback_start\", \n",
    "    F.col(\"window.start\") - F.expr(\"INTERVAL 2 HOURS\")\n",
    ")\n",
    "\n",
    "# Get sorted list of time windows\n",
    "windows = edges_with_windows.select(\"window.start\", \"window.end\").distinct().orderBy(\"window.start\").collect()"
   ]
  },
  {
   "cell_type": "code",
   "execution_count": 0,
   "metadata": {
    "application/vnd.databricks.v1+cell": {
     "cellMetadata": {
      "byteLimit": 2048000,
      "rowLimit": 10000
     },
     "inputWidgets": {},
     "nuid": "ac796740-f2de-432f-a8da-9d193cd7d0a4",
     "showTitle": false,
     "tableResultSettingsMap": {},
     "title": ""
    }
   },
   "outputs": [],
   "source": []
  },
  {
   "cell_type": "code",
   "execution_count": 0,
   "metadata": {
    "application/vnd.databricks.v1+cell": {
     "cellMetadata": {
      "byteLimit": 2048000,
      "rowLimit": 10000
     },
     "inputWidgets": {},
     "nuid": "d1588b1f-6312-455f-9714-77f9c61acad5",
     "showTitle": false,
     "tableResultSettingsMap": {},
     "title": ""
    }
   },
   "outputs": [],
   "source": [
    "train0.select(\"prop_delayed\").summary().show()"
   ]
  },
  {
   "cell_type": "code",
   "execution_count": 0,
   "metadata": {
    "application/vnd.databricks.v1+cell": {
     "cellMetadata": {
      "byteLimit": 2048000,
      "rowLimit": 10000
     },
     "inputWidgets": {},
     "nuid": "a7efbea3-6a01-4e00-b646-fe90afc63d86",
     "showTitle": false,
     "tableResultSettingsMap": {},
     "title": ""
    }
   },
   "outputs": [],
   "source": [
    "aircraft_window = Window.partitionBy(\"TAIL_NUM\").orderBy('sched_depart_utc')\n",
    "train0 = train0.withColumn(\"priorflight_prop_delay\",\n",
    "                  F.lag(F.col(\"prop_delayed\")).over(aircraft_window))"
   ]
  },
  {
   "cell_type": "code",
   "execution_count": 0,
   "metadata": {
    "application/vnd.databricks.v1+cell": {
     "cellMetadata": {
      "byteLimit": 2048000,
      "rowLimit": 10000
     },
     "inputWidgets": {},
     "nuid": "45548622-8703-4e55-b97a-18f749b2f8ec",
     "showTitle": false,
     "tableResultSettingsMap": {},
     "title": ""
    }
   },
   "outputs": [],
   "source": [
    "train0.filter(F.col(\"priorflight_prop_delay\").isNull()).count()"
   ]
  },
  {
   "cell_type": "code",
   "execution_count": 0,
   "metadata": {
    "application/vnd.databricks.v1+cell": {
     "cellMetadata": {
      "byteLimit": 2048000,
      "rowLimit": 10000
     },
     "inputWidgets": {},
     "nuid": "981c348b-7961-47b3-a512-a0c4f9f1093a",
     "showTitle": false,
     "tableResultSettingsMap": {},
     "title": ""
    }
   },
   "outputs": [],
   "source": [
    "train0.filter(F.col(\"priorflight_prop_delay\").isNotNull()).count()"
   ]
  },
  {
   "cell_type": "code",
   "execution_count": 0,
   "metadata": {
    "application/vnd.databricks.v1+cell": {
     "cellMetadata": {
      "byteLimit": 2048000,
      "rowLimit": 10000
     },
     "inputWidgets": {},
     "nuid": "dd5fb450-4431-484a-9885-09e9d4948875",
     "showTitle": false,
     "tableResultSettingsMap": {},
     "title": ""
    }
   },
   "outputs": [],
   "source": [
    "train0.select(\"priorflight_depdelay_calc\").summary().show()"
   ]
  },
  {
   "cell_type": "code",
   "execution_count": 0,
   "metadata": {
    "application/vnd.databricks.v1+cell": {
     "cellMetadata": {
      "byteLimit": 2048000,
      "rowLimit": 10000
     },
     "inputWidgets": {},
     "nuid": "c5f5a169-07f7-4050-8f49-317c794f8203",
     "showTitle": false,
     "tableResultSettingsMap": {},
     "title": ""
    }
   },
   "outputs": [],
   "source": [
    "display(train0.filter(F.col('prop_delayed')==1))"
   ]
  },
  {
   "cell_type": "code",
   "execution_count": 0,
   "metadata": {
    "application/vnd.databricks.v1+cell": {
     "cellMetadata": {
      "byteLimit": 2048000,
      "rowLimit": 10000
     },
     "inputWidgets": {},
     "nuid": "7ad5f7fa-2561-49ac-b0d9-e19d30ddfd84",
     "showTitle": false,
     "tableResultSettingsMap": {},
     "title": ""
    }
   },
   "outputs": [],
   "source": []
  },
  {
   "cell_type": "code",
   "execution_count": 0,
   "metadata": {
    "application/vnd.databricks.v1+cell": {
     "cellMetadata": {
      "byteLimit": 2048000,
      "rowLimit": 10000
     },
     "inputWidgets": {},
     "nuid": "f0795b99-9e40-4e1e-bf21-db28e374d93f",
     "showTitle": false,
     "tableResultSettingsMap": {},
     "title": ""
    }
   },
   "outputs": [],
   "source": [
    "# Initialize airports with delay state = 0.0\n",
    "vertices = (\n",
    "    train0.select(F.col(\"ORIGIN\").alias(\"id\"))\n",
    "    .union(train0.select(F.col(\"DEST\").alias(\"id\")))\n",
    "    .union(train0.select(F.col(\"priorflight_origin\").alias(\"id\")))\n",
    "    .distinct()\n",
    "    .withColumn(\"delay_state\", F.lit(0.0))\n",
    ")\n",
    "\n",
    "\n",
    "edges = train0.select(\n",
    "    F.col(\"priorflight_origin\").alias(\"src\"),  # Delay source\n",
    "    F.col(\"ORIGIN\").alias(\"dst\"),              # Current origin receiving delay\n",
    "    F.col(\"prop_delayed\"),                     # Proportion of flights being \"currently\" delayed at origin\n",
    "    F.col(\"sched_depart_utc\").alias(\"timestamp\"), \n",
    "    F.col(\"priorflight_depdelay_calc\").alias(\"prior_delay_calc\") # amount of delay being passed on\n",
    ").withColumn(\"priorflight_depdelay_calc\", #trim at 0\n",
    "             F.greatest(F.col(\"prior_delay_calc\"), F.lit(0.0))\n",
    ").orderBy(\"timestamp\")\n",
    "\n",
    "\n",
    "edges_with_windows = edges.withColumn(\n",
    "    \"window\", \n",
    "    F.window(\"timestamp\", \"1 hour\")\n",
    ").withColumn(\n",
    "    \"lookback_start\", \n",
    "    F.col(\"window.start\") - F.expr(\"INTERVAL 2 HOURS\")\n",
    ")\n",
    "windows = edges_with_windows.select(\"window.start\", \"window.end\").distinct().orderBy(\"window.start\").collect()\n"
   ]
  },
  {
   "cell_type": "code",
   "execution_count": 0,
   "metadata": {
    "application/vnd.databricks.v1+cell": {
     "cellMetadata": {
      "byteLimit": 2048000,
      "rowLimit": 10000
     },
     "inputWidgets": {},
     "nuid": "0807b74c-d1d2-4f72-8b79-1e481e66e06c",
     "showTitle": false,
     "tableResultSettingsMap": {},
     "title": ""
    }
   },
   "outputs": [],
   "source": [
    "# Initialize airports with delay state = 0.0\n",
    "vertices = (\n",
    "    train0.select(F.col(\"ORIGIN\").alias(\"id\"))\n",
    "    .union(train0.select(F.col(\"DEST\").alias(\"id\")))\n",
    "    .union(train0.select(F.col(\"priorflight_origin\").alias(\"id\")))\n",
    "    .distinct()\n",
    "    .withColumn(\"delay_state\", F.lit(0.0))\n",
    ")\n",
    "\n",
    "\n",
    "edges = train0.select(\n",
    "    F.col(\"priorflight_origin\").alias(\"src\"),  # Delay source\n",
    "    F.col(\"ORIGIN\").alias(\"dst\"),              # Current origin receiving delay\n",
    "    F.col(\"prop_delayed\"),                     # Proportion of flights being \"currently\" delayed at origin\n",
    "    F.col(\"sched_depart_utc\").alias(\"timestamp\"), \n",
    "    F.col(\"priorflight_depdelay_calc\").alias(\"prior_delay_calc\") # amount of delay being passed on\n",
    ").withColumn(\"priorflight_depdelay_calc\", #trim at 0\n",
    "             F.greatest(F.col(\"prior_delay_calc\"), F.lit(0.0))\n",
    ").orderBy(\"timestamp\")\n",
    "\n",
    "\n",
    "edges_with_windows = edges.withColumn(\n",
    "    \"window\", \n",
    "    F.window(\"timestamp\", \"1 hour\")\n",
    ").withColumn(\n",
    "    \"lookback_start\", \n",
    "    F.col(\"window.start\") - F.expr(\"INTERVAL 2 HOURS\")\n",
    ")\n",
    "windows = edges_with_windows.select(\"window.start\", \"window.end\").distinct().orderBy(\"window.start\").collect()\n",
    "\n",
    "for window in windows[10:13]:\n",
    "    print(f'processing window {window}')\n",
    "    # Filter edges in [current_window - 2 hours, current_window]\n",
    "    current_edges = edges_with_windows.filter(\n",
    "        (F.col(\"timestamp\") >= F.col(\"lookback_start\")) & \n",
    "        (F.col(\"timestamp\") < F.col(\"window.end\"))\n",
    "    )\n",
    "\n",
    "    # Group by (src, dst) to retain edge structure\n",
    "    current_edges = current_edges.groupBy(\"src\", \"dst\").agg(\n",
    "        F.avg(\"priorflight_depdelay_calc\").alias(\"avg_delay_edge\"),\n",
    "        F.first(\"prop_delayed\").alias(\"prop_delayed\")  # Keep prop_delayed\n",
    "    )\n",
    "\n",
    "    \n",
    "    # Compute max delay and normalize\n",
    "    max_delay = current_edges.agg(F.max(\"avg_delay_edge\")).first()[0]\n",
    "    current_edges = current_edges.withColumn(\n",
    "        \"delay_risk_edge\", \n",
    "        F.col(\"prop_delayed\") * (F.col(\"avg_delay_edge\") / max_delay)\n",
    "    )\n",
    "    \n",
    "    current_edges.select('delay_risk_edge').summary().show()\n",
    "\n",
    "    # Build graph and run Pregel (remaining code unchanged)\n",
    "    g = GraphFrame(vertices, current_edges)\n",
    "    result = g.pregel \\\n",
    "        .withVertexColumn(\n",
    "            \"new_delay_state\",\n",
    "            F.col(\"delay_state\"),\n",
    "            F.coalesce(Pregel.msg(), F.lit(0.0)) * 0.8 + 0.2 / vertices.count()\n",
    "        ) \\\n",
    "        .sendMsgToDst(Pregel.src(\"new_delay_state\") * Pregel.edge(\"delay_risk_edge\")) \\\n",
    "        .aggMsgs(F.sum(Pregel.msg())) \\\n",
    "        .setMaxIter(5) \\\n",
    "        .run()\n",
    "    \n",
    "    vertices = result.drop(\"delay_state\").withColumnRenamed(\"new_delay_state\", \"delay_state\")\n",
    "    vertices.select(\"delay_state\").summary().show()\n"
   ]
  },
  {
   "cell_type": "code",
   "execution_count": 0,
   "metadata": {
    "application/vnd.databricks.v1+cell": {
     "cellMetadata": {
      "byteLimit": 2048000,
      "rowLimit": 10000
     },
     "inputWidgets": {},
     "nuid": "01dc8036-33f7-41eb-833c-11b26231de11",
     "showTitle": false,
     "tableResultSettingsMap": {},
     "title": ""
    }
   },
   "outputs": [],
   "source": [
    "result.cache()"
   ]
  },
  {
   "cell_type": "code",
   "execution_count": 0,
   "metadata": {
    "application/vnd.databricks.v1+cell": {
     "cellMetadata": {
      "byteLimit": 2048000,
      "rowLimit": 10000
     },
     "inputWidgets": {},
     "nuid": "cfab36dd-5222-4d39-93d4-ee77f8befae5",
     "showTitle": false,
     "tableResultSettingsMap": {},
     "title": ""
    }
   },
   "outputs": [],
   "source": [
    "display(result)"
   ]
  },
  {
   "cell_type": "code",
   "execution_count": 0,
   "metadata": {
    "application/vnd.databricks.v1+cell": {
     "cellMetadata": {
      "byteLimit": 2048000,
      "rowLimit": 10000
     },
     "inputWidgets": {},
     "nuid": "78ff69a6-394f-41fa-afc9-163624bafc62",
     "showTitle": false,
     "tableResultSettingsMap": {},
     "title": ""
    }
   },
   "outputs": [],
   "source": [
    "current_edges.cache()"
   ]
  },
  {
   "cell_type": "code",
   "execution_count": 0,
   "metadata": {
    "application/vnd.databricks.v1+cell": {
     "cellMetadata": {
      "byteLimit": 2048000,
      "rowLimit": 10000
     },
     "inputWidgets": {},
     "nuid": "af3d6861-dace-410e-ac65-aeab7a7783f3",
     "showTitle": false,
     "tableResultSettingsMap": {},
     "title": ""
    }
   },
   "outputs": [],
   "source": [
    "current_edges.select('delay_risk_edge').summary().show()"
   ]
  },
  {
   "cell_type": "code",
   "execution_count": 0,
   "metadata": {
    "application/vnd.databricks.v1+cell": {
     "cellMetadata": {
      "byteLimit": 2048000,
      "rowLimit": 10000
     },
     "inputWidgets": {},
     "nuid": "7ea6b387-d859-4cbd-8e9f-60cd2c1cc651",
     "showTitle": false,
     "tableResultSettingsMap": {},
     "title": ""
    }
   },
   "outputs": [],
   "source": [
    "\n",
    "\n",
    "for window in windows[3]:\n",
    "    print(f'processing window {window}')\n",
    "    # Filter edges in [current_window - 2 hours, current_window]\n",
    "    current_edges = edges_with_windows.filter(\n",
    "        (F.col(\"timestamp\") >= F.col(\"lookback_start\")) & \n",
    "        (F.col(\"timestamp\") < F.col(\"window.end\"))\n",
    "    )\n",
    "\n",
    "    current_edges = current_edges.select(F.avg(\"priorflight_depdelay_calc\").alias(\"avg_delay_edge\"))\n",
    "    max_delay = current_edges.select(F.max(\"avg_delay_edge\")).first()[0]\n",
    "    current_edges = current_edges.withColumn(\n",
    "        \"delay_risk_edge\", \n",
    "        F.col(\"prop_delayed\") * (F.col(\"avg_delay_edge\") / max_delay)\n",
    "        )\n",
    "\n",
    "    \n",
    "    # Build temporal graph\n",
    "    g = GraphFrame(vertices, current_edges)\n",
    "    \n",
    "    # Pregel parameters\n",
    "    alpha = 0.15  #by how much to decay propagated delays\n",
    "    result = g.pregel \\\n",
    "        .withVertexColumn(\n",
    "            \"new_delay_state\",\n",
    "            F.col(\"delay_state\"),  # Carry previous state\n",
    "            F.coalesce(Pregel.msg(), F.lit(0.0)) * (1 - alpha) + alpha / vertices.count()) \\\n",
    "        .sendMsgToDst(\n",
    "            Pregel.src(\"new_delay_state\") * Pregel.edge(\"prop_delayed\")) \\\n",
    "        .aggMsgs(F.avg(Pregel.msg())) \\\n",
    "        .setMaxIter(1) \\\n",
    "        .run()\n",
    "    \n",
    "    # Update vertex states for next window\n",
    "    vertices = result.drop(\"delay_state\").withColumnRenamed(\"new_delay_state\", \"delay_state\")\n",
    "    vertices.select(\"delay_state\").summary().show()\n",
    "\n",
    "\n",
    "\n",
    "result.cache()\n",
    "# flight_features = train0.join(\n",
    "#     vertices.select(\n",
    "#         F.col(\"id\").alias(\"ORIGIN\"),\n",
    "#         F.col(\"delay_state\").alias(\"current_delay_risk\")\n",
    "#     ),\n",
    "#     on=\"ORIGIN\"\n",
    "# ).withColumn(\n",
    "#     \"dest_delay_risk\",\n",
    "#     F.when(\n",
    "#         F.col(\"current_delay_risk\") > 0.3,  # Threshold for significant delay\n",
    "#         F.col(\"current_delay_risk\") * 0.8   # Reduce risk for destinations\n",
    "#     ).otherwise(0.0)\n",
    "# )"
   ]
  },
  {
   "cell_type": "code",
   "execution_count": 0,
   "metadata": {
    "application/vnd.databricks.v1+cell": {
     "cellMetadata": {
      "byteLimit": 2048000,
      "rowLimit": 10000
     },
     "inputWidgets": {},
     "nuid": "01d2c768-123c-43ce-8140-26d3a042a6a4",
     "showTitle": false,
     "tableResultSettingsMap": {},
     "title": ""
    }
   },
   "outputs": [],
   "source": [
    "display(result)"
   ]
  },
  {
   "cell_type": "code",
   "execution_count": 0,
   "metadata": {
    "application/vnd.databricks.v1+cell": {
     "cellMetadata": {
      "byteLimit": 2048000,
      "rowLimit": 10000
     },
     "inputWidgets": {},
     "nuid": "5036c7c1-5248-4def-812d-f26df9b0e7a2",
     "showTitle": false,
     "tableResultSettingsMap": {},
     "title": ""
    }
   },
   "outputs": [],
   "source": [
    "display(result)"
   ]
  },
  {
   "cell_type": "markdown",
   "metadata": {
    "application/vnd.databricks.v1+cell": {
     "cellMetadata": {},
     "inputWidgets": {},
     "nuid": "85cc7c36-da59-48a7-aa0c-dd752bafd38a",
     "showTitle": false,
     "tableResultSettingsMap": {},
     "title": ""
    }
   },
   "source": [
    "## Personalized PR - scrap"
   ]
  },
  {
   "cell_type": "code",
   "execution_count": 0,
   "metadata": {
    "application/vnd.databricks.v1+cell": {
     "cellMetadata": {
      "byteLimit": 2048000,
      "rowLimit": 10000
     },
     "inputWidgets": {},
     "nuid": "75de5649-e30a-4cf1-a10c-e1d9add1a36c",
     "showTitle": false,
     "tableResultSettingsMap": {},
     "title": ""
    }
   },
   "outputs": [],
   "source": [
    "\n",
    "from pyspark.sql.window import Window\n",
    "from pyspark.sql.types import *\n",
    "\n",
    "# Vertices (ordered alphabetically)\n",
    "v = train0.select(F.col(\"ORIGIN\").alias(\"id\")) \\\n",
    "    .union(train0.select(F.col(\"DEST\").alias(\"id\"))) \\\n",
    "    .distinct() \\\n",
    "    .orderBy(\"id\")\n",
    "\n",
    "# Edges (directed)\n",
    "e = train0.select(F.col(\"ORIGIN\").alias(\"src\"), F.col(\"DEST\").alias(\"dst\"))\n",
    "\n",
    "# Build graph\n",
    "g = GraphFrame(v, e)\n",
    "\n",
    "# Sources (ordered alphabetically to match vertices)\n",
    "sources_df = v.select(\"id\").distinct() \\\n",
    "    .orderBy(\"id\") \\\n",
    "    .withColumn(\"index\", F.row_number().over(Window.orderBy(\"id\")) - 1)\n",
    "\n",
    "sources_flat = sources_df.select(\"id\").rdd.flatMap(lambda x: x).collect()\n",
    "\n",
    "# Run PPR with aligned sources\n",
    "pageranked = g.parallelPersonalizedPageRank(\n",
    "    resetProbability=0.15, \n",
    "    sourceIds=sources_flat, \n",
    "    maxIter=10\n",
    ")\n",
    "\n",
    "broadcast_sources = sc.broadcast(sources_flat)\n",
    "\n",
    "result_schema = ArrayType(\n",
    "    StructType([\n",
    "        StructField(\"origin\", StringType()),\n",
    "        StructField(\"score\", DoubleType())\n",
    "    ])\n",
    ")\n",
    "def vector_to_dict(vector):\n",
    "    # Retrieve the broadcasted list\n",
    "    sources = broadcast_sources.value\n",
    "    \n",
    "    # Sort the vector entries and take top 10\n",
    "    sorted_entries = sorted(\n",
    "        [(i, float(v)) for i, v in enumerate(vector)], \n",
    "        key=lambda x: x[1], \n",
    "        reverse=True\n",
    "    )[:10]\n",
    "    \n",
    "    # Map indices to actual source IDs\n",
    "    return [(sources_flat[i], float(v)) for i, v in sorted_entries]\n",
    "\n",
    "# Define UDF\n",
    "vector_to_dict_udf = udf(vector_to_dict, result_schema)\n",
    "\n",
    "\n",
    "\n",
    "\n",
    "results = pageranked.vertices.withColumn(\"pagerank_dict\", vector_to_dict_udf(\"pageranks\"))\n"
   ]
  },
  {
   "cell_type": "code",
   "execution_count": 0,
   "metadata": {
    "application/vnd.databricks.v1+cell": {
     "cellMetadata": {
      "byteLimit": 2048000,
      "rowLimit": 10000
     },
     "inputWidgets": {},
     "nuid": "d98a5930-f86a-4b17-83f2-9f32172ca115",
     "showTitle": false,
     "tableResultSettingsMap": {},
     "title": ""
    }
   },
   "outputs": [],
   "source": [
    "train0_edges = pageranked.edges.groupBy('src','dst').agg(F.sum('weight'))"
   ]
  },
  {
   "cell_type": "code",
   "execution_count": 0,
   "metadata": {
    "application/vnd.databricks.v1+cell": {
     "cellMetadata": {
      "byteLimit": 2048000,
      "rowLimit": 10000
     },
     "inputWidgets": {},
     "nuid": "4dcdde22-c8c0-46ce-b645-218ed56c3048",
     "showTitle": false,
     "tableResultSettingsMap": {},
     "title": ""
    }
   },
   "outputs": [],
   "source": [
    "display(results.filter(F.col('id')=='JFK'))"
   ]
  },
  {
   "cell_type": "code",
   "execution_count": 0,
   "metadata": {
    "application/vnd.databricks.v1+cell": {
     "cellMetadata": {
      "byteLimit": 2048000,
      "rowLimit": 10000
     },
     "inputWidgets": {},
     "nuid": "cd070817-b69e-4f76-bcc4-4bef5d3858f3",
     "showTitle": false,
     "tableResultSettingsMap": {},
     "title": ""
    }
   },
   "outputs": [],
   "source": [
    "display(results.filter(F.col('id')=='HYA'))"
   ]
  },
  {
   "cell_type": "code",
   "execution_count": 0,
   "metadata": {
    "application/vnd.databricks.v1+cell": {
     "cellMetadata": {
      "byteLimit": 2048000,
      "rowLimit": 10000
     },
     "inputWidgets": {},
     "nuid": "0c34e3ec-0be4-4b32-8252-f96a7cd8f042",
     "showTitle": false,
     "tableResultSettingsMap": {},
     "title": ""
    }
   },
   "outputs": [],
   "source": [
    "display(results.filter(F.col('id')=='LAX'))"
   ]
  },
  {
   "cell_type": "code",
   "execution_count": 0,
   "metadata": {
    "application/vnd.databricks.v1+cell": {
     "cellMetadata": {},
     "inputWidgets": {},
     "nuid": "c87a7b26-80fb-4352-bb37-c1ed32271369",
     "showTitle": false,
     "tableResultSettingsMap": {},
     "title": ""
    }
   },
   "outputs": [],
   "source": []
  },
  {
   "cell_type": "code",
   "execution_count": 0,
   "metadata": {
    "application/vnd.databricks.v1+cell": {
     "cellMetadata": {
      "byteLimit": 2048000,
      "rowLimit": 10000
     },
     "collapsed": true,
     "inputWidgets": {},
     "nuid": "398bf554-7f82-45db-bbc6-74da8716a76f",
     "showTitle": false,
     "tableResultSettingsMap": {},
     "title": ""
    }
   },
   "outputs": [],
   "source": [
    "display(train0_edges)"
   ]
  },
  {
   "cell_type": "code",
   "execution_count": 0,
   "metadata": {
    "application/vnd.databricks.v1+cell": {
     "cellMetadata": {
      "byteLimit": 2048000,
      "rowLimit": 10000
     },
     "inputWidgets": {},
     "nuid": "7967a4e7-02e6-49f2-986b-419341bab23f",
     "showTitle": false,
     "tableResultSettingsMap": {},
     "title": ""
    }
   },
   "outputs": [],
   "source": [
    "display(pageranked.edges.filter(F.col('dst')=='JFK').orderBy(F.desc('weight')))"
   ]
  },
  {
   "cell_type": "code",
   "execution_count": 0,
   "metadata": {
    "application/vnd.databricks.v1+cell": {
     "cellMetadata": {
      "byteLimit": 2048000,
      "rowLimit": 10000
     },
     "inputWidgets": {},
     "nuid": "8501505b-0912-4288-9776-85684f2c8dd1",
     "showTitle": false,
     "tableResultSettingsMap": {},
     "title": ""
    }
   },
   "outputs": [],
   "source": [
    "display(pageranked.edges.filter(F.col('src')=='JFK').orderBy(F.desc('weight')))"
   ]
  },
  {
   "cell_type": "code",
   "execution_count": 0,
   "metadata": {
    "application/vnd.databricks.v1+cell": {
     "cellMetadata": {
      "byteLimit": 2048000,
      "rowLimit": 10000
     },
     "inputWidgets": {},
     "nuid": "2c8b1dfb-404b-4f81-b497-06e0e655d335",
     "showTitle": false,
     "tableResultSettingsMap": {},
     "title": ""
    }
   },
   "outputs": [],
   "source": [
    "display(train0_edges.filter(F.col('src')=='JFK').orderBy(F.desc('sum(weight)')))"
   ]
  },
  {
   "cell_type": "code",
   "execution_count": 0,
   "metadata": {
    "application/vnd.databricks.v1+cell": {
     "cellMetadata": {
      "byteLimit": 2048000,
      "rowLimit": 10000
     },
     "inputWidgets": {},
     "nuid": "f5041d65-2043-4889-87f2-dc324b6b9ec3",
     "showTitle": false,
     "tableResultSettingsMap": {},
     "title": ""
    }
   },
   "outputs": [],
   "source": [
    "display(train0.filter(F.col('ORIGIN')=='JFK').groupBy('DEST').count().orderBy(F.col('count').desc()))"
   ]
  },
  {
   "cell_type": "code",
   "execution_count": 0,
   "metadata": {
    "application/vnd.databricks.v1+cell": {
     "cellMetadata": {
      "byteLimit": 2048000,
      "rowLimit": 10000
     },
     "inputWidgets": {},
     "nuid": "0cc19f66-7905-4888-a66e-ea85f273ef4f",
     "showTitle": false,
     "tableResultSettingsMap": {},
     "title": ""
    }
   },
   "outputs": [],
   "source": [
    "display(train0_edges.filter(F.col('dst')=='JFK').orderBy(F.desc('sum(weight)')))"
   ]
  },
  {
   "cell_type": "code",
   "execution_count": 0,
   "metadata": {
    "application/vnd.databricks.v1+cell": {
     "cellMetadata": {
      "byteLimit": 2048000,
      "rowLimit": 10000
     },
     "inputWidgets": {},
     "nuid": "940d30d2-8410-4c8c-94f0-768201297bae",
     "showTitle": false,
     "tableResultSettingsMap": {},
     "title": ""
    }
   },
   "outputs": [],
   "source": [
    "edge_delay_weights = train0.groupBy(\"ORIGIN\", \"DEST\").agg(\n",
    "    (F.sum(F.when(F.col(\"outcome\") == 1, 1).otherwise(0)) / F.count(\"*\")).alias(\"delay_ratio\")\n",
    ")\n",
    "\n",
    "reversed_edges = edge_delay_weights.select(\n",
    "    F.col(\"DEST\").alias(\"src\"),  # Incoming airport\n",
    "    F.col(\"ORIGIN\").alias(\"dst\"),  # Source of delays\n",
    "    F.col(\"delay_ratio\").alias(\"delay_weight\")  # Probability of delay propagation\n",
    ")\n",
    "\n",
    "# Build reversed graph\n",
    "g_reversed = GraphFrame(v, reversed_edges)\n",
    "target_airport = \"JFK\"  # Airport to predict delays for\n",
    "\n",
    "# Run PPR with target as the teleportation source\n",
    "pageranked1 = g_reversed.parallelPersonalizedPageRank(\n",
    "    resetProbability=0.15,\n",
    "    sourceIds=sources_flat,  # Focus on delays impacting this airport\n",
    "    maxIter=20\n",
    ")\n",
    "\n",
    "# Extract top influencers for the target\n",
    "def get_top_influencers(pagerank_vector, sources):\n",
    "    sorted_scores = sorted(\n",
    "        [(sources[i], float(score)) for i, score in enumerate(pagerank_vector)],\n",
    "        key=lambda x: -x[1]\n",
    "    )\n",
    "    return [x[0] for x in sorted_scores[1:11]]  # Exclude self-score\n",
    "\n",
    "get_top_influencers_udf = F.udf(\n",
    "    lambda v: get_top_influencers(v, sources_flat), \n",
    "    ArrayType(StringType())\n",
    ")\n",
    "\n",
    "results2 = pageranked1.vertices.filter(F.col(\"id\") == target_airport) \\\n",
    "    .withColumn(\"top_influencers\", get_top_influencers_udf(\"pageranks\")) \\\n",
    "    .select(\"id\", \"top_influencers\")"
   ]
  },
  {
   "cell_type": "code",
   "execution_count": 0,
   "metadata": {
    "application/vnd.databricks.v1+cell": {
     "cellMetadata": {
      "byteLimit": 2048000,
      "rowLimit": 10000
     },
     "inputWidgets": {},
     "nuid": "0b71d612-9f86-49f7-8eab-c6552517a1ed",
     "showTitle": false,
     "tableResultSettingsMap": {},
     "title": ""
    }
   },
   "outputs": [],
   "source": [
    "display(results2.filter(F.col('id')=='JFK'))"
   ]
  },
  {
   "cell_type": "code",
   "execution_count": 0,
   "metadata": {
    "application/vnd.databricks.v1+cell": {
     "cellMetadata": {
      "byteLimit": 2048000,
      "rowLimit": 10000
     },
     "inputWidgets": {},
     "nuid": "d857c4ee-3800-4a44-9e1c-c840c747a91c",
     "showTitle": false,
     "tableResultSettingsMap": {},
     "title": ""
    }
   },
   "outputs": [],
   "source": [
    "display(pageranked.edges.filter(F.col('dst')=='JFK').distinct().orderBy(F.desc('weight')))"
   ]
  },
  {
   "cell_type": "code",
   "execution_count": 0,
   "metadata": {
    "application/vnd.databricks.v1+cell": {
     "cellMetadata": {
      "byteLimit": 2048000,
      "rowLimit": 10000
     },
     "inputWidgets": {},
     "nuid": "dbd9173c-4f06-4391-a97b-4b8c564bad21",
     "showTitle": false,
     "tableResultSettingsMap": {},
     "title": ""
    }
   },
   "outputs": [],
   "source": [
    "display(pageranked.edges.filter(F.col('src')=='JFK').distinct().orderBy(F.desc('weight')))"
   ]
  },
  {
   "cell_type": "code",
   "execution_count": 0,
   "metadata": {
    "application/vnd.databricks.v1+cell": {
     "cellMetadata": {
      "byteLimit": 2048000,
      "rowLimit": 10000
     },
     "inputWidgets": {},
     "nuid": "11f495bc-c357-4c33-88de-fdfb435ab5a3",
     "showTitle": false,
     "tableResultSettingsMap": {},
     "title": ""
    }
   },
   "outputs": [],
   "source": [
    "display(pageranked1.edges.filter(F.col('dst')=='JFK').groupBy('src').agg(F.sum('weight')))"
   ]
  },
  {
   "cell_type": "code",
   "execution_count": 0,
   "metadata": {
    "application/vnd.databricks.v1+cell": {
     "cellMetadata": {
      "byteLimit": 2048000,
      "rowLimit": 10000
     },
     "inputWidgets": {},
     "nuid": "315df104-42bc-4950-9b57-e25a0a5fac21",
     "showTitle": false,
     "tableResultSettingsMap": {},
     "title": ""
    }
   },
   "outputs": [],
   "source": [
    "display(pageranked.edges.filter(F.col('dst')=='JFK').groupBy('src').agg(F.sum('weight')))"
   ]
  },
  {
   "cell_type": "code",
   "execution_count": 0,
   "metadata": {
    "application/vnd.databricks.v1+cell": {
     "cellMetadata": {
      "byteLimit": 2048000,
      "rowLimit": 10000
     },
     "inputWidgets": {},
     "nuid": "4e56c55b-091e-4db2-80b8-91cff0f163a6",
     "showTitle": false,
     "tableResultSettingsMap": {},
     "title": ""
    }
   },
   "outputs": [],
   "source": [
    "display(pageranked1.edges.filter(F.col('dst')=='JFK').distinct().orderBy(F.desc('weight')))"
   ]
  },
  {
   "cell_type": "code",
   "execution_count": 0,
   "metadata": {
    "application/vnd.databricks.v1+cell": {
     "cellMetadata": {
      "byteLimit": 2048000,
      "rowLimit": 10000
     },
     "inputWidgets": {},
     "nuid": "5f2e878e-ff65-4e57-8d25-221b2ffd4a1c",
     "showTitle": false,
     "tableResultSettingsMap": {},
     "title": ""
    }
   },
   "outputs": [],
   "source": [
    "display(pageranked1.edges.filter(F.col('src')=='JFK'))"
   ]
  },
  {
   "cell_type": "code",
   "execution_count": 0,
   "metadata": {
    "application/vnd.databricks.v1+cell": {
     "cellMetadata": {
      "byteLimit": 2048000,
      "rowLimit": 10000
     },
     "inputWidgets": {},
     "nuid": "3e3696ab-04eb-4b4a-92cc-789690a251fa",
     "showTitle": false,
     "tableResultSettingsMap": {},
     "title": ""
    }
   },
   "outputs": [],
   "source": [
    "display(pageranked1.vertices.filter(F.col('id')=='JFK'))"
   ]
  },
  {
   "cell_type": "code",
   "execution_count": 0,
   "metadata": {
    "application/vnd.databricks.v1+cell": {
     "cellMetadata": {},
     "inputWidgets": {},
     "nuid": "d43be293-a481-4c20-b7eb-83dea846f8ed",
     "showTitle": false,
     "tableResultSettingsMap": {},
     "title": ""
    }
   },
   "outputs": [],
   "source": []
  }
 ],
 "metadata": {
  "application/vnd.databricks.v1+notebook": {
   "computePreferences": null,
   "dashboards": [],
   "environmentMetadata": {
    "base_environment": "",
    "environment_version": "2"
   },
   "inputWidgetPreferences": null,
   "language": "python",
   "notebookMetadata": {
    "pythonIndentUnit": 4
   },
   "notebookName": "1.14-sg-5y-joined-graph-feateng-clean",
   "widgets": {}
  },
  "language_info": {
   "name": "python"
  }
 },
 "nbformat": 4,
 "nbformat_minor": 0
}
