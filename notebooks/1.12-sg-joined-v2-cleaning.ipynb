{
 "cells": [
  {
   "cell_type": "markdown",
   "metadata": {
    "application/vnd.databricks.v1+cell": {
     "cellMetadata": {
      "byteLimit": 2048000,
      "rowLimit": 10000
     },
     "inputWidgets": {},
     "nuid": "ddb7dbc5-3e50-47b6-8ded-a4348c989e23",
     "showTitle": false,
     "tableResultSettingsMap": {},
     "title": ""
    }
   },
   "source": [
    "# Imports"
   ]
  },
  {
   "cell_type": "code",
   "execution_count": 0,
   "metadata": {
    "application/vnd.databricks.v1+cell": {
     "cellMetadata": {
      "byteLimit": 2048000,
      "rowLimit": 10000
     },
     "collapsed": true,
     "inputWidgets": {},
     "nuid": "dd7e7f0d-f39c-467b-bd5e-9658ae3cc2f7",
     "showTitle": false,
     "tableResultSettingsMap": {},
     "title": ""
    }
   },
   "outputs": [],
   "source": [
    "!pip install python-geohash"
   ]
  },
  {
   "cell_type": "code",
   "execution_count": 0,
   "metadata": {
    "application/vnd.databricks.v1+cell": {
     "cellMetadata": {
      "byteLimit": 2048000,
      "rowLimit": 10000
     },
     "inputWidgets": {},
     "nuid": "546f2de8-1758-4401-82b9-a8b565037aaa",
     "showTitle": false,
     "tableResultSettingsMap": {},
     "title": ""
    }
   },
   "outputs": [],
   "source": [
    "import geohash\n",
    "from geohash import bbox\n",
    "import pyspark.sql.functions as F\n",
    "from pyspark.sql.functions import col,isnan, when, count, concat_ws, countDistinct, collect_set, rank, window, avg, hour, udf, isnan, pandas_udf, to_timestamp, lit, udf\n",
    "import matplotlib.pyplot as plt\n",
    "import pandas as pd\n",
    "import re\n",
    "import pytz\n",
    "from datetime import datetime, timedelta, time\n",
    "import numpy as np\n",
    "from pyspark.sql import types\n",
    "from pyspark.sql.types import StructType, StructField, StringType, IntegerType, StructType, DoubleType, LongType\n",
    "\n",
    "from pyspark.sql import Window\n",
    "import seaborn as sns"
   ]
  },
  {
   "cell_type": "code",
   "execution_count": 0,
   "metadata": {
    "application/vnd.databricks.v1+cell": {
     "cellMetadata": {
      "byteLimit": 2048000,
      "rowLimit": 10000
     },
     "inputWidgets": {},
     "nuid": "055efb15-fd50-4a1d-bc91-db054d55a152",
     "showTitle": false,
     "tableResultSettingsMap": {},
     "title": ""
    }
   },
   "outputs": [],
   "source": [
    "stations = spark.read.parquet(f\"dbfs:/mnt/mids-w261/datasets_final_project_2022/stations_data/*\")\n"
   ]
  },
  {
   "cell_type": "code",
   "execution_count": 0,
   "metadata": {
    "application/vnd.databricks.v1+cell": {
     "cellMetadata": {
      "byteLimit": 2048000,
      "rowLimit": 10000
     },
     "inputWidgets": {},
     "nuid": "dc0815a6-9b3d-4201-b52e-e65da4999a7a",
     "showTitle": false,
     "tableResultSettingsMap": {},
     "title": ""
    }
   },
   "outputs": [],
   "source": [
    "team_BASE_DIR = f\"dbfs:/student-groups/Group_4_1\"\n",
    "spark.sparkContext.setCheckpointDir(f\"{team_BASE_DIR}/interim\")\n",
    "period = \"1y\" # on of the following values (\"\", \"3m\", \"6m\", \"1y\")\n",
    "df_ = spark.read.parquet(f\"{team_BASE_DIR}/interim/join_checkpoints/joined_flights_weather_{period}_v1.parquet\")"
   ]
  },
  {
   "cell_type": "code",
   "execution_count": 0,
   "metadata": {
    "application/vnd.databricks.v1+cell": {
     "cellMetadata": {
      "byteLimit": 2048000,
      "rowLimit": 10000
     },
     "inputWidgets": {},
     "nuid": "231971a3-b1dd-4c79-8ebe-b0f41d09fecf",
     "showTitle": false,
     "tableResultSettingsMap": {},
     "title": ""
    }
   },
   "outputs": [],
   "source": [
    "#for modeling checkpointing\n",
    "team_BASE_DIR = f\"dbfs:/student-groups/Group_4_1\"\n",
    "\n",
    "spark.sparkContext.setCheckpointDir(f\"{team_BASE_DIR}/interim\")\n"
   ]
  },
  {
   "cell_type": "markdown",
   "metadata": {
    "application/vnd.databricks.v1+cell": {
     "cellMetadata": {},
     "inputWidgets": {},
     "nuid": "236a4922-dfdd-4c19-a464-f9c3262b213b",
     "showTitle": false,
     "tableResultSettingsMap": {},
     "title": ""
    }
   },
   "source": [
    "# Engineering"
   ]
  },
  {
   "cell_type": "code",
   "execution_count": 0,
   "metadata": {
    "application/vnd.databricks.v1+cell": {
     "cellMetadata": {
      "byteLimit": 2048000,
      "rowLimit": 10000
     },
     "inputWidgets": {},
     "nuid": "b5b73d49-8895-4ff0-90b0-7c558ec8072d",
     "showTitle": false,
     "tableResultSettingsMap": {},
     "title": ""
    }
   },
   "outputs": [],
   "source": [
    "def to_utc(yyyymmdd, dep_hhmm, arr_hhmm, dep_tz, arr_tz, flight_dur):\n",
    "    \"\"\"\n",
    "    Create UTC timestamp from flights table columns\n",
    "    yyyymmdd = FL_DATE\n",
    "    dep_hhmm = CRS_DEP_TIME\n",
    "    arr_hhmm = CRS_ARR_TIME\n",
    "    dep_tz = origin_timezone\n",
    "    arr_tz = dest_timezone\n",
    "    flight_dur = CRS_ELAPSED_TIME (for sanity check of arrival time)\n",
    "\n",
    "    Returns UTC time stamp, (cast to string)\n",
    "    \"\"\"\n",
    "\n",
    "    dep_hhmm = int(dep_hhmm)\n",
    "    arr_hhmm = int(arr_hhmm)\n",
    "\n",
    "    yyyy,MM,dd = yyyymmdd.split('-')\n",
    "    yyyy = int(yyyy) # get year\n",
    "    MM = int(MM) # get month\n",
    "    dd = int(dd) # get day\n",
    "\n",
    "    dep_hh = dep_hhmm//100 # get hour\n",
    "    dep_mm = dep_hhmm%100 # get minute\n",
    "    if dep_hh == 24:\n",
    "        dep_hh = 0\n",
    "        dep_shift = True\n",
    "    else:\n",
    "        dep_shift = False\n",
    "\n",
    "    arr_hh = arr_hhmm//100 # get hour\n",
    "    arr_mm = arr_hhmm%100\n",
    "    if arr_hh == 24:\n",
    "        arr_hh = 0\n",
    "        arr_shift = True\n",
    "    else:\n",
    "        arr_shift = False\n",
    "\n",
    "    # create datetime variable for departure\n",
    "    dt_dep = datetime(yyyy,MM,dd,dep_hh,dep_mm)\n",
    "    if dep_shift:\n",
    "        dt_dep += timedelta(days=1)\n",
    "    # apply local time zone\n",
    "    dep_local = pytz.timezone(dep_tz).localize(dt_dep)\n",
    "    # convert to UTC\n",
    "    dep_utc = dep_local.astimezone(pytz.utc)\n",
    "\n",
    "    # create datetime variable for arrival\n",
    "    dt_arr = datetime(yyyy,MM,dd,arr_hh,arr_mm)\n",
    "    if arr_shift:\n",
    "        dt_arr += timedelta(days=1)\n",
    "    # apply local time zone\n",
    "    arr_local = pytz.timezone(arr_tz).localize(dt_arr)\n",
    "    # convert to UTC\n",
    "    arr_utc = arr_local.astimezone(pytz.utc)\n",
    "\n",
    "    if dep_utc > arr_utc:\n",
    "        arr_utc += timedelta(days=1)\n",
    "\n",
    "    # # sanity check\n",
    "    # arr_utc_SC = dep_utc + timedelta(minutes=flight_dur)\n",
    "\n",
    "    dt_format = \"%Y-%m-%dT%H:%M:%S\"\n",
    "\n",
    "    # return UTC datetime, cast to string\n",
    "    # return (dep_utc.strftime(dt_format), arr_utc.strftime(dt_format), arr_utc_SC.strftime(dt_format))\n",
    "    return (dep_utc.strftime(dt_format), arr_utc.strftime(dt_format))\n",
    "\n",
    "schema = StructType([\n",
    "    StructField(\"dep_datetime\", StringType(), False),\n",
    "    StructField(\"arr_datetime\", StringType(), False),\n",
    "])\n",
    "\n",
    "dt_udf = udf(to_utc, schema)\n",
    "\n",
    "out = df.withColumn('processed', dt_udf(col(\"FL_DATE\"), col(\"CRS_DEP_TIME\"), col(\"CRS_ARR_TIME\"), col(\"origin_timezone\"), col(\"dest_timezone\"), col(\"CRS_ELAPSED_TIME\"))).cache()\n",
    "\n",
    "cols = [c for c in out.columns if c != \"processed\"]\n",
    "cols += [\"processed.dep_datetime\",\"processed.arr_datetime\"]\n",
    "out = out.select(cols)\n",
    "\n",
    "display(out)"
   ]
  },
  {
   "cell_type": "markdown",
   "metadata": {
    "application/vnd.databricks.v1+cell": {
     "cellMetadata": {},
     "inputWidgets": {},
     "nuid": "ed85e9bd-bc10-43b3-a8c1-74c3dea69404",
     "showTitle": false,
     "tableResultSettingsMap": {},
     "title": ""
    }
   },
   "source": []
  },
  {
   "cell_type": "markdown",
   "metadata": {
    "application/vnd.databricks.v1+cell": {
     "cellMetadata": {
      "byteLimit": 2048000,
      "rowLimit": 10000
     },
     "inputWidgets": {},
     "nuid": "98652e25-5368-4e2e-8373-4d7c4858eb9a",
     "showTitle": false,
     "tableResultSettingsMap": {},
     "title": ""
    }
   },
   "source": [
    "# Weather"
   ]
  },
  {
   "cell_type": "markdown",
   "metadata": {
    "application/vnd.databricks.v1+cell": {
     "cellMetadata": {},
     "inputWidgets": {},
     "nuid": "956bbb44-7676-4978-8a73-127cf7d5cefe",
     "showTitle": false,
     "tableResultSettingsMap": {},
     "title": ""
    }
   },
   "source": [
    "## Nulls"
   ]
  },
  {
   "cell_type": "markdown",
   "metadata": {
    "application/vnd.databricks.v1+cell": {
     "cellMetadata": {
      "byteLimit": 2048000,
      "rowLimit": 10000
     },
     "inputWidgets": {},
     "nuid": "737fb032-2ee5-4244-afeb-edcd4651fd68",
     "showTitle": false,
     "tableResultSettingsMap": {},
     "title": ""
    }
   },
   "source": [
    "### Step 1: Parse METAR reports"
   ]
  },
  {
   "cell_type": "code",
   "execution_count": 0,
   "metadata": {
    "application/vnd.databricks.v1+cell": {
     "cellMetadata": {
      "byteLimit": 2048000,
      "rowLimit": 10000
     },
     "inputWidgets": {},
     "nuid": "3cd518f6-d029-4bff-a630-a5edd944a8dd",
     "showTitle": false,
     "tableResultSettingsMap": {},
     "title": ""
    }
   },
   "outputs": [],
   "source": [
    "\n",
    "\n",
    "df_interpolate = (\n",
    "    df_\n",
    "    .withColumn(\n",
    "        \"origin_HourlyWindSpeed\",\n",
    "        F.when(\n",
    "            F.col(\"origin_HourlyWindSpeed\").isNull(),\n",
    "            # Extract sustained wind speed from METAR groups\n",
    "            F.regexp_extract(\n",
    "                F.col(\"origin_REM\"),\n",
    "                r'\\b(\\d{3})(\\d{2,3})(?:G(\\d{2,3}))?KT\\b',  # Regex pattern\n",
    "                2  # Capture group for sustained wind speed\n",
    "            ).cast(\"int\")\n",
    "        ).otherwise(F.col(\"origin_HourlyWindSpeed\"))\n",
    "    )\n",
    "    .withColumn(\n",
    "        \"origin_HourlyWindGustSpeed\",\n",
    "        F.when(\n",
    "            F.col(\"origin_HourlyWindGustSpeed\").isNull(),\n",
    "            F.greatest(\n",
    "                # Regular wind gust (G group)\n",
    "                F.regexp_extract(\n",
    "                    F.col(\"origin_REM\"),\n",
    "                    r'\\b(\\d{3})(\\d{2,3})(?:G(\\d{2,3}))?KT\\b',\n",
    "                    3\n",
    "                ).cast(\"int\"),\n",
    "                # Peak wind gust (PK WND group)\n",
    "                F.regexp_extract(\n",
    "                    F.col(\"origin_REM\"),\n",
    "                    r'PK WND (\\d{3})(\\d{2,3})/(\\d{4})',  # PK WND pattern\n",
    "                    2  # Capture group for peak wind speed\n",
    "                ).cast(\"int\")\n",
    "            )\n",
    "        ).otherwise(F.col(\"origin_HourlyWindGustSpeed\"))\n",
    "    )\n",
    ")\n",
    "\n",
    "\n",
    "df_interpolate = (df_interpolate \\\n",
    "    .withColumn(\n",
    "        'origin_HourlyPrecipitation',\n",
    "        F.when(\n",
    "            (F.col(\"origin_HourlyPrecipitation\").isNull()) | (F.col(\"origin_HourlyPrecipitation\") == '*'),\n",
    "            (F.regexp_extract(F.col(\"origin_REM\"), r\" P(\\d+)\", 1).cast(\"int\") * 0.01) # hundredths of inch kept in \"remarks\" section\n",
    "        ).otherwise(F.col(\"origin_HourlyPrecipitation\"))\n",
    "    ) \\\n",
    "    .withColumn('origin_HourlyPrecipitation', F.regexp_replace('origin_HourlyPrecipitation', 'T', '0.01')) \\\n",
    "    .withColumn(\n",
    "        'origin_HourlyPrecipitation',\n",
    "        F.regexp_extract('origin_HourlyPrecipitation', r\"[0-9]+(\\.[0-9]+)?\", 0) # Match digits\n",
    "    ) \\\n",
    "    .withColumn('origin_HourlyPrecipitation', F.col('origin_HourlyPrecipitation').cast(DoubleType())))"
   ]
  },
  {
   "cell_type": "code",
   "execution_count": 0,
   "metadata": {
    "application/vnd.databricks.v1+cell": {
     "cellMetadata": {
      "byteLimit": 2048000,
      "rowLimit": 10000
     },
     "inputWidgets": {},
     "nuid": "b4b3dc4a-c89e-4eb3-aa49-fc19a858670f",
     "showTitle": false,
     "tableResultSettingsMap": {},
     "title": ""
    }
   },
   "outputs": [],
   "source": [
    "display(df_interpolate)"
   ]
  },
  {
   "cell_type": "code",
   "execution_count": 0,
   "metadata": {
    "application/vnd.databricks.v1+cell": {
     "cellMetadata": {
      "byteLimit": 2048000,
      "rowLimit": 10000
     },
     "inputWidgets": {},
     "nuid": "9b3db03f-4414-4f23-9381-0f0cd0d32cb0",
     "showTitle": false,
     "tableResultSettingsMap": {},
     "title": ""
    }
   },
   "outputs": [],
   "source": [
    "df_interpolate=df_interpolate.withColumn(\"origin_HourlyWindSpeed\", df_interpolate[\"origin_HourlyWindSpeed\"].cast(\"int\"))"
   ]
  },
  {
   "cell_type": "code",
   "execution_count": 0,
   "metadata": {
    "application/vnd.databricks.v1+cell": {
     "cellMetadata": {
      "byteLimit": 2048000,
      "rowLimit": 10000
     },
     "inputWidgets": {},
     "nuid": "1245638f-1e95-4ef6-aa76-3b2643bc9315",
     "showTitle": false,
     "tableResultSettingsMap": {},
     "title": ""
    }
   },
   "outputs": [],
   "source": [
    "df_interpolate.checkpoint()"
   ]
  },
  {
   "cell_type": "markdown",
   "metadata": {
    "application/vnd.databricks.v1+cell": {
     "cellMetadata": {
      "byteLimit": 2048000,
      "rowLimit": 10000
     },
     "inputWidgets": {},
     "nuid": "cf54446d-ce3c-431f-9b6a-12a1dbb1b7a2",
     "showTitle": false,
     "tableResultSettingsMap": {},
     "title": ""
    }
   },
   "source": [
    "### Step 2: Geohashing"
   ]
  },
  {
   "cell_type": "markdown",
   "metadata": {
    "application/vnd.databricks.v1+cell": {
     "cellMetadata": {
      "byteLimit": 2048000,
      "rowLimit": 10000
     },
     "inputWidgets": {},
     "nuid": "c9a2231d-34d7-47af-bb7a-0661c46923e7",
     "showTitle": false,
     "tableResultSettingsMap": {},
     "title": ""
    }
   },
   "source": [
    "In some cases, the REM reports are null or do not contain information to fill in null values. Instead, find the nearest station's weather observation that is closest in time to the current station."
   ]
  },
  {
   "cell_type": "markdown",
   "metadata": {
    "application/vnd.databricks.v1+cell": {
     "cellMetadata": {
      "byteLimit": 2048000,
      "rowLimit": 10000
     },
     "inputWidgets": {},
     "nuid": "7f1ec429-1f26-46a1-9dcb-b39fbf280d68",
     "showTitle": false,
     "tableResultSettingsMap": {},
     "title": ""
    }
   },
   "source": [
    "TODO: \n",
    "- make sure only pulling obs before or at record's time\n",
    "- avg reports across different stations in same geohash at same time index if there is a time tie"
   ]
  },
  {
   "cell_type": "markdown",
   "metadata": {
    "application/vnd.databricks.v1+cell": {
     "cellMetadata": {},
     "inputWidgets": {},
     "nuid": "a88acf33-4ca2-498e-9584-2cd6016a513c",
     "showTitle": false,
     "tableResultSettingsMap": {},
     "title": ""
    }
   },
   "source": [
    "#### Encoding"
   ]
  },
  {
   "cell_type": "code",
   "execution_count": 0,
   "metadata": {
    "application/vnd.databricks.v1+cell": {
     "cellMetadata": {
      "byteLimit": 2048000,
      "rowLimit": 10000
     },
     "inputWidgets": {},
     "nuid": "54012b04-a292-4d2b-a869-32802ba96a7a",
     "showTitle": false,
     "tableResultSettingsMap": {},
     "title": ""
    }
   },
   "outputs": [],
   "source": [
    "display(df_.select('origin_LATITUDE','origin_LONGITUDE','origin_NAME'))"
   ]
  },
  {
   "cell_type": "markdown",
   "metadata": {
    "application/vnd.databricks.v1+cell": {
     "cellMetadata": {},
     "inputWidgets": {},
     "nuid": "ca4586e2-4620-4857-a429-75f7882eff99",
     "showTitle": false,
     "tableResultSettingsMap": {},
     "title": ""
    }
   },
   "source": [
    "Hash airports to grid cells so we can pull values from nearby airports at the same time"
   ]
  },
  {
   "cell_type": "code",
   "execution_count": 0,
   "metadata": {
    "application/vnd.databricks.v1+cell": {
     "cellMetadata": {
      "byteLimit": 2048000,
      "rowLimit": 10000
     },
     "inputWidgets": {},
     "nuid": "fc4910b8-c83c-4457-9de6-68cc736c4e54",
     "showTitle": false,
     "tableResultSettingsMap": {},
     "title": ""
    }
   },
   "outputs": [],
   "source": [
    "def encode_geohash(precision: int):\n",
    "    @pandas_udf(\"string\")\n",
    "    def encode(latitudes: pd.Series, longitudes: pd.Series) -> pd.Series:\n",
    "        def safe_encode(lat, lon):\n",
    "            try:\n",
    "                return geohash.encode(lat, lon, precision)\n",
    "            except Exception:\n",
    "                return None\n",
    "        return latitudes.combine(longitudes, safe_encode)\n",
    "    return encode\n",
    "\n",
    "geohash_udf = encode_geohash(precision=2)\n",
    "df_interpolate = df_interpolate.withColumn('geohash', geohash_udf(F.col('origin_LATITUDE'), F.col('origin_LONGITUDE')))\n",
    "display(df_interpolate)"
   ]
  },
  {
   "cell_type": "code",
   "execution_count": 0,
   "metadata": {
    "application/vnd.databricks.v1+cell": {
     "cellMetadata": {
      "byteLimit": 2048000,
      "rowLimit": 10000
     },
     "collapsed": true,
     "inputWidgets": {},
     "nuid": "e3da66f1-ae39-43d9-9abd-a86ef1b6c3ab",
     "showTitle": false,
     "tableResultSettingsMap": {},
     "title": ""
    }
   },
   "outputs": [],
   "source": [
    "df_interpolate.groupBy(F.col('geohash')).count().show()"
   ]
  },
  {
   "cell_type": "code",
   "execution_count": 0,
   "metadata": {
    "application/vnd.databricks.v1+cell": {
     "cellMetadata": {
      "byteLimit": 2048000,
      "rowLimit": 10000
     },
     "collapsed": true,
     "inputWidgets": {},
     "nuid": "c53767a0-6c4a-4527-a103-41b19a9843d1",
     "showTitle": false,
     "tableResultSettingsMap": {},
     "title": ""
    }
   },
   "outputs": [],
   "source": [
    "display(df_interpolate.filter(F.col('origin_REGION').contains('US-IL')).select('origin_airport_name','geohash').distinct())"
   ]
  },
  {
   "cell_type": "markdown",
   "metadata": {
    "application/vnd.databricks.v1+cell": {
     "cellMetadata": {},
     "inputWidgets": {},
     "nuid": "ac636b0d-84c5-4280-9106-e36c2027cb8d",
     "showTitle": false,
     "tableResultSettingsMap": {},
     "title": ""
    }
   },
   "source": [
    "#### Imputation"
   ]
  },
  {
   "cell_type": "code",
   "execution_count": 0,
   "metadata": {
    "application/vnd.databricks.v1+cell": {
     "cellMetadata": {
      "byteLimit": 2048000,
      "rowLimit": 10000
     },
     "inputWidgets": {},
     "nuid": "32f590b0-c1d4-4b06-b91c-37c3f5049ffb",
     "showTitle": false,
     "tableResultSettingsMap": {},
     "title": ""
    }
   },
   "outputs": [],
   "source": [
    "def coalesce_within_geohash(\n",
    "    df, \n",
    "    target_col, \n",
    "    geohash_col=\"geohash\", \n",
    "    dt_col=\"two_hours_prior_depart_UTC\", \n",
    "    window_hours=2 \n",
    "):\n",
    "    \"\"\"Fill nulls using latest non-null value from same geohash within x hours prior to threshold\"\"\"\n",
    "    \n",
    "    # Convert hours to seconds to add to unix timestamp\n",
    "    window_seconds = window_hours * 3600  \n",
    "    \n",
    "    window_spec = (\n",
    "        Window.partitionBy(geohash_col)\n",
    "              .orderBy(F.col(dt_col).cast(\"long\"))  \n",
    "              .rangeBetween(-window_seconds, 0)  #time based window\n",
    "    )\n",
    "    \n",
    "    return df.withColumn(\n",
    "        target_col,\n",
    "        F.coalesce(  # Keep original value if not null\n",
    "            F.col(target_col), \n",
    "            F.last(target_col, ignorenulls=True).over(window_spec)\n",
    "        )\n",
    "    )\n"
   ]
  },
  {
   "cell_type": "code",
   "execution_count": 0,
   "metadata": {
    "application/vnd.databricks.v1+cell": {
     "cellMetadata": {
      "byteLimit": 2048000,
      "rowLimit": 10000
     },
     "inputWidgets": {},
     "nuid": "0a9c9102-890e-42ec-a19b-f541da1be7f1",
     "showTitle": false,
     "tableResultSettingsMap": {},
     "title": ""
    }
   },
   "outputs": [],
   "source": [
    "\n",
    "\n",
    "@pandas_udf(DoubleType())\n",
    "def exponential_smoothing_pandas(values: pd.Series) -> pd.Series:\n",
    "    \"\"\"Vectorized UDF for exponential smoothing.\"\"\"\n",
    "    if values.empty or not pd.api.types.is_numeric_dtype(values):\n",
    "        return pd.Series([0.0] * len(values))  # Handle edge cases\n",
    "    return values.ewm(alpha=0.5, ignore_na=True).mean()\n",
    "\n",
    "def smooth_column_optimized(\n",
    "    df, \n",
    "    col_name, \n",
    "    airport_col=\"ORIGIN\", \n",
    "    dt_col=\"two_hours_prior_depart_UTC\", \n",
    "    window_size=8\n",
    "):\n",
    "    \"\"\"Applies forward-filling exponential smoothing MA to interpolate missing values \"\"\"\n",
    "    \n",
    "    # 1. Cast to numeric type and filter nulls\n",
    "    df = (\n",
    "        df.withColumn(col_name, F.col(col_name).cast(DoubleType()))\n",
    "    )\n",
    "    \n",
    "    # 2. Define window to collect non-null values\n",
    "    window_spec = (\n",
    "        Window.partitionBy(airport_col)\n",
    "              .orderBy(F.col(dt_col).cast(\"long\"))\n",
    "              .rowsBetween(-window_size, -1)\n",
    "    )\n",
    "    \n",
    "    # 3. Collect ONLY non-null values within the window\n",
    "    df = df.withColumn(\n",
    "        \"non_null_values\",\n",
    "        F.collect_list(col_name).over(window_spec)\n",
    "    )\n",
    "    \n",
    "    # 4. Apply vectorized UDF and fill nulls\n",
    "    return (\n",
    "        df.withColumn(\"smoothed\", exponential_smoothing_pandas(\"non_null_values\"))\n",
    "          .withColumn(\n",
    "              col_name, \n",
    "              F.coalesce(F.col(col_name), \n",
    "                         F.col(\"smoothed\"))\n",
    "          )\n",
    "          .drop(\"non_null_values\", \"smoothed\")\n",
    "    )\n"
   ]
  },
  {
   "cell_type": "code",
   "execution_count": 0,
   "metadata": {
    "application/vnd.databricks.v1+cell": {
     "cellMetadata": {
      "byteLimit": 2048000,
      "rowLimit": 10000
     },
     "inputWidgets": {},
     "nuid": "818ad8c0-0795-4d77-a2e8-07f1dca056c6",
     "showTitle": false,
     "tableResultSettingsMap": {},
     "title": ""
    }
   },
   "outputs": [],
   "source": [
    "def impute_nulls(\n",
    "    df, \n",
    "    target_col, \n",
    "    geohash_col=\"geohash\", \n",
    "    airport_col=\"ORIGIN\", \n",
    "    dt_col=\"two_hours_prior_depart_UTC\", #everything hash to be before this threshold\n",
    "):\n",
    "    \"\"\"Two-step null imputation:\n",
    "    1. Fill with latest value from same geohash (spatial)\n",
    "    2. Fill remaining nulls with EMA of same airport (temporal)\n",
    "    \"\"\"\n",
    "    \n",
    "    # Step 1: Geohash-based imputation\n",
    "    df = coalesce_within_geohash(\n",
    "        df, \n",
    "        target_col=target_col,\n",
    "        geohash_col=geohash_col,\n",
    "        dt_col=dt_col\n",
    "    )\n",
    "    \n",
    "    # Step 2: EMA-based imputation for remaining nulls\n",
    "    df = smooth_column_optimized(\n",
    "        df,\n",
    "        col_name=target_col,\n",
    "        airport_col=airport_col,\n",
    "        dt_col=dt_col\n",
    "    )\n",
    "    \n",
    "    return df\n"
   ]
  },
  {
   "cell_type": "code",
   "execution_count": 0,
   "metadata": {
    "application/vnd.databricks.v1+cell": {
     "cellMetadata": {
      "byteLimit": 2048000,
      "rowLimit": 10000
     },
     "inputWidgets": {},
     "nuid": "b5893f44-f8c7-4cb5-b504-3268b23d03b6",
     "showTitle": false,
     "tableResultSettingsMap": {},
     "title": ""
    }
   },
   "outputs": [],
   "source": [
    "df_interpolated = df_interpolate.withColumns(\n",
    "    {\"origin_HourlyPrecipitation\": df_interpolate[\"origin_HourlyPrecipitation\"].cast(\"float\"),\n",
    "     \"origin_HourlyWindGustSpeed\": df_interpolate[\"origin_HourlyWindGustSpeed\"].cast(\"float\"),\n",
    "     \"origin_HourlyWindSpeed\": df_interpolate[\"origin_HourlyWindSpeed\"].cast(\"float\"),\n",
    "     \"origin_HourlyDewPointTemperature\": df_interpolate[\"origin_HourlyDewPointTemperature\"].cast(\"float\"),\n",
    "     \"origin_HourlyDryBulbTemperature\": df_interpolate[\"origin_HourlyDryBulbTemperature\"].cast(\"float\"),\n",
    "     \"origin_HourlyPressureChange\": df_interpolate[\"origin_HourlyPressureChange\"].cast(\"float\"),\n",
    "     \"origin_HourlyRelativeHumidity\": df_interpolate[\"origin_HourlyRelativeHumidity\"].cast(\"float\"),\n",
    "     \"origin_HourlyWetBulbTemperature\": df_interpolate[\"origin_HourlyWetBulbTemperature\"].cast(\"float\"),\n",
    "     \"origin_HourlyVisibility\": df_interpolate[\"origin_HourlyVisibility\"].cast(\"float\")\n",
    "     \n",
    "     \n",
    "     })\n",
    "     \n",
    "columns_to_fill = ['origin_HourlyVisibility','origin_HourlyWindSpeed','origin_HourlyDewPointTemperature','origin_HourlyDryBulbTemperature','origin_HourlyPressureChange','origin_HourlyRelativeHumidity','origin_HourlyWetBulbTemperature','origin_HourlyPrecipitation','origin_HourlyWindGustSpeed']\n",
    "\n",
    "\n"
   ]
  },
  {
   "cell_type": "code",
   "execution_count": 0,
   "metadata": {
    "application/vnd.databricks.v1+cell": {
     "cellMetadata": {
      "byteLimit": 2048000,
      "rowLimit": 10000
     },
     "inputWidgets": {},
     "nuid": "d5f3d9b7-1814-4626-b2f4-a0857c7c06d2",
     "showTitle": false,
     "tableResultSettingsMap": {},
     "title": ""
    }
   },
   "outputs": [],
   "source": [
    "\n",
    "for col in columns_to_fill:\n",
    "    df_interpolated = impute_nulls(df_interpolated, col)\n",
    "\n"
   ]
  },
  {
   "cell_type": "code",
   "execution_count": 0,
   "metadata": {
    "application/vnd.databricks.v1+cell": {
     "cellMetadata": {
      "byteLimit": 2048000,
      "rowLimit": 10000
     },
     "inputWidgets": {},
     "nuid": "7152b547-83d1-4eaf-9709-e10cd82223a6",
     "showTitle": false,
     "tableResultSettingsMap": {},
     "title": ""
    }
   },
   "outputs": [],
   "source": [
    "\n",
    "null_counts = df_interpolated.filter(F.col('origin_LATITUDE').isNotNull()).select(\n",
    "    [F.count(F.when(F.col(c).isNull() | F.isnan(c), c)).alias(c) for c in columns_to_fill]\n",
    ")\n",
    "\n",
    "null_counts_orig = df_interpolate.filter(F.col('origin_LATITUDE').isNotNull()).select(\n",
    "    [F.count(F.when(F.col(c).isNull() | F.isnan(c), c)).alias(c) for c in columns_to_fill]\n",
    ")\n",
    "\n",
    "display(null_counts_orig.unionByName(null_counts)) #null counts where we have non null loc (obviously, null loc is impossible to fill in by geohash)"
   ]
  },
  {
   "cell_type": "code",
   "execution_count": 0,
   "metadata": {
    "application/vnd.databricks.v1+cell": {
     "cellMetadata": {
      "byteLimit": 2048000,
      "rowLimit": 10000
     },
     "inputWidgets": {},
     "nuid": "e9cd7acb-059c-4183-a29f-a519aee14d72",
     "showTitle": false,
     "tableResultSettingsMap": {},
     "title": ""
    }
   },
   "outputs": [],
   "source": [
    "\n",
    "\n",
    "output_path = \"dbfs:/student-groups/Group_4_1/interim/join_checkpoints/joined_1y_weather_cleaned_v2.parquet\"\n",
    "(\n",
    "    df_interpolated.write\n",
    "    .mode(\"overwrite\")\n",
    "    .parquet(output_path)\n",
    ")\n",
    "\n",
    "\n"
   ]
  },
  {
   "cell_type": "code",
   "execution_count": 0,
   "metadata": {
    "application/vnd.databricks.v1+cell": {
     "cellMetadata": {
      "byteLimit": 2048000,
      "rowLimit": 10000
     },
     "inputWidgets": {},
     "nuid": "4a9bbb7d-829f-4502-8037-8c0edc5577cd",
     "showTitle": false,
     "tableResultSettingsMap": {},
     "title": ""
    }
   },
   "outputs": [],
   "source": [
    "df_interpolated.count()"
   ]
  },
  {
   "cell_type": "markdown",
   "metadata": {
    "application/vnd.databricks.v1+cell": {
     "cellMetadata": {},
     "inputWidgets": {},
     "nuid": "f4e183a1-cdbb-4124-9a2b-b39da00c1fea",
     "showTitle": false,
     "tableResultSettingsMap": {},
     "title": ""
    }
   },
   "source": [
    "# Flights"
   ]
  },
  {
   "cell_type": "markdown",
   "metadata": {
    "application/vnd.databricks.v1+cell": {
     "cellMetadata": {},
     "inputWidgets": {},
     "nuid": "f2b83c57-f664-447b-a071-78eaefdce027",
     "showTitle": false,
     "tableResultSettingsMap": {},
     "title": ""
    }
   },
   "source": [
    "## Lag features engineering"
   ]
  },
  {
   "cell_type": "markdown",
   "metadata": {
    "application/vnd.databricks.v1+cell": {
     "cellMetadata": {},
     "inputWidgets": {},
     "nuid": "269d16de-be70-4521-8c46-681d7628b8c0",
     "showTitle": false,
     "tableResultSettingsMap": {},
     "title": ""
    }
   },
   "source": [
    "### Encoding"
   ]
  },
  {
   "cell_type": "markdown",
   "metadata": {
    "application/vnd.databricks.v1+cell": {
     "cellMetadata": {},
     "inputWidgets": {},
     "nuid": "eeb290d0-9368-4f97-9395-cea5bbd551ed",
     "showTitle": false,
     "tableResultSettingsMap": {},
     "title": ""
    }
   },
   "source": [
    "Create UTC-ed arrival time for lag columns"
   ]
  },
  {
   "cell_type": "code",
   "execution_count": 0,
   "metadata": {
    "application/vnd.databricks.v1+cell": {
     "cellMetadata": {
      "byteLimit": 2048000,
      "rowLimit": 10000
     },
     "inputWidgets": {},
     "nuid": "9de366a8-5f89-4145-911d-ea70ed0cc2d8",
     "showTitle": false,
     "tableResultSettingsMap": {},
     "title": ""
    }
   },
   "outputs": [],
   "source": [
    "def to_utc(yyyymmdd, dep_hhmm, arr_hhmm, dep_tz, arr_tz, flight_dur):\n",
    "    \"\"\"\n",
    "    Create UTC timestamp from flights table columns\n",
    "    yyyymmdd = FL_DATE\n",
    "    dep_hhmm = CRS_DEP_TIME\n",
    "    arr_hhmm = CRS_ARR_TIME\n",
    "    dep_tz = origin_timezone\n",
    "    arr_tz = dest_timezone\n",
    "    flight_dur = CRS_ELAPSED_TIME (for sanity check of arrival time)\n",
    "\n",
    "    Returns UTC time stamp, (cast to string)\n",
    "    \"\"\"\n",
    "\n",
    "    dep_hhmm = int(dep_hhmm)\n",
    "    arr_hhmm = int(arr_hhmm)\n",
    "\n",
    "    yyyy,MM,dd = yyyymmdd.split('-')\n",
    "    yyyy = int(yyyy) # get year\n",
    "    MM = int(MM) # get month\n",
    "    dd = int(dd) # get day\n",
    "\n",
    "    dep_hh = dep_hhmm//100 # get hour\n",
    "    dep_mm = dep_hhmm%100 # get minute\n",
    "    if dep_hh == 24:\n",
    "        dep_hh = 0\n",
    "        dep_shift = True\n",
    "    else:\n",
    "        dep_shift = False\n",
    "\n",
    "    arr_hh = arr_hhmm//100 # get hour\n",
    "    arr_mm = arr_hhmm%100\n",
    "    if arr_hh == 24:\n",
    "        arr_hh = 0\n",
    "        arr_shift = True\n",
    "    else:\n",
    "        arr_shift = False\n",
    "\n",
    "    # create datetime variable for departure\n",
    "    dt_dep = datetime(yyyy,MM,dd,dep_hh,dep_mm)\n",
    "    if dep_shift:\n",
    "        dt_dep += timedelta(days=1)\n",
    "    # apply local time zone\n",
    "    dep_local = pytz.timezone(dep_tz).localize(dt_dep)\n",
    "    # convert to UTC\n",
    "    dep_utc = dep_local.astimezone(pytz.utc)\n",
    "\n",
    "    # create datetime variable for arrival\n",
    "    dt_arr = datetime(yyyy,MM,dd,arr_hh,arr_mm)\n",
    "    if arr_shift:\n",
    "        dt_arr += timedelta(days=1)\n",
    "    # apply local time zone\n",
    "    arr_local = pytz.timezone(arr_tz).localize(dt_arr)\n",
    "    # convert to UTC\n",
    "    arr_utc = arr_local.astimezone(pytz.utc)\n",
    "\n",
    "    if dep_utc > arr_utc:\n",
    "        arr_utc += timedelta(days=1)\n",
    "\n",
    "    # # sanity check\n",
    "    # arr_utc_SC = dep_utc + timedelta(minutes=flight_dur)\n",
    "\n",
    "    dt_format = \"%Y-%m-%dT%H:%M:%S\"\n",
    "\n",
    "    # return UTC datetime, cast to string\n",
    "    # return (dep_utc.strftime(dt_format), arr_utc.strftime(dt_format), arr_utc_SC.strftime(dt_format))\n",
    "    return (dep_utc.strftime(dt_format), arr_utc.strftime(dt_format))\n",
    "\n",
    "schema = StructType([\n",
    "    StructField(\"dep_datetime\", StringType(), False),\n",
    "    StructField(\"arr_datetime\", StringType(), False),\n",
    "])\n",
    "\n",
    "dt_udf = udf(to_utc, schema)\n",
    "\n",
    "out = df_interpolated.withColumn('processed', \n",
    "                                 dt_udf(F.col(\"FL_DATE\"), \n",
    "                                        F.col(\"CRS_DEP_TIME\"), \n",
    "                                        F.col(\"CRS_ARR_TIME\"), \n",
    "                                        F.col(\"origin_timezone\"), \n",
    "                                        F.col(\"dest_timezone\"), \n",
    "                                        F.col(\"CRS_ELAPSED_TIME\"))\n",
    "                                 ).cache()\n",
    "\n",
    "cols = [c for c in out.columns if c != \"processed\"]\n",
    "cols += [\"processed.dep_datetime\",\"processed.arr_datetime\"]\n",
    "out = out.select(cols)\n",
    "\n",
    "display(out)"
   ]
  },
  {
   "cell_type": "markdown",
   "metadata": {
    "application/vnd.databricks.v1+cell": {
     "cellMetadata": {},
     "inputWidgets": {},
     "nuid": "45bc0664-f418-498b-bfeb-855c1fbd7540",
     "showTitle": false,
     "tableResultSettingsMap": {},
     "title": ""
    }
   },
   "source": [
    "Fill in CRS (i.e., estimated) flight time:"
   ]
  },
  {
   "cell_type": "code",
   "execution_count": 0,
   "metadata": {
    "application/vnd.databricks.v1+cell": {
     "cellMetadata": {
      "byteLimit": 2048000,
      "rowLimit": 10000
     },
     "inputWidgets": {},
     "nuid": "1d39a3e0-884c-4ea0-bf1e-22f6edfa7bcb",
     "showTitle": false,
     "tableResultSettingsMap": {},
     "title": ""
    }
   },
   "outputs": [],
   "source": [
    "\n",
    "\n",
    "out = out.withColumn(\"arr_datetime\", F.col(\"arr_datetime\").cast(\"timestamp\"))\n",
    "out = out.withColumn(\n",
    "    \"CRS_ELAPSED_TIME\",\n",
    "    F.when(\n",
    "        F.col(\"CRS_ELAPSED_TIME\").isNull(),\n",
    "        (F.col(\"arr_datetime\") - F.col(\"sched_depart_utc\")).cast('int')\n",
    "    ).otherwise(F.col(\"CRS_ELAPSED_TIME\"))\n",
    ")\n",
    "display(out)"
   ]
  },
  {
   "cell_type": "code",
   "execution_count": 0,
   "metadata": {
    "application/vnd.databricks.v1+cell": {
     "cellMetadata": {
      "byteLimit": 2048000,
      "rowLimit": 10000
     },
     "inputWidgets": {},
     "nuid": "a259f3ec-c722-41e2-bd87-8e1e7943ad95",
     "showTitle": false,
     "tableResultSettingsMap": {},
     "title": ""
    }
   },
   "outputs": [],
   "source": [
    "out.filter(F.col('CRS_ELAPSED_TIME').isNull()).count() #sanity check"
   ]
  },
  {
   "cell_type": "markdown",
   "metadata": {
    "application/vnd.databricks.v1+cell": {
     "cellMetadata": {},
     "inputWidgets": {},
     "nuid": "997832fa-1521-4afe-8c8b-b5799b9a8a47",
     "showTitle": false,
     "tableResultSettingsMap": {},
     "title": ""
    }
   },
   "source": [
    "### Create features"
   ]
  },
  {
   "cell_type": "code",
   "execution_count": 0,
   "metadata": {
    "application/vnd.databricks.v1+cell": {
     "cellMetadata": {
      "byteLimit": 2048000,
      "rowLimit": 10000
     },
     "inputWidgets": {},
     "nuid": "1b3bcf2a-065a-4d62-b5a7-b7db069ecfc4",
     "showTitle": false,
     "tableResultSettingsMap": {},
     "title": ""
    }
   },
   "outputs": [],
   "source": [
    "\n",
    "\n",
    "WhenConditions = (F.col(\"ORIGIN\") == F.col(\"priorflight_dest\")) & (F.col(\"priorflight_sched_deptime\") >= F.col(\"twentysix_hours_prior_depart_UTC\"))\n",
    "\n",
    "def add_lags_optimized(df):\n",
    "    # Define windows once\n",
    "    aircraft_window = Window.partitionBy(\"TAIL_NUM\").orderBy(\"sched_depart_utc\")\n",
    "    route_window = Window.partitionBy(\"ORIGIN\", \"DEST\").orderBy(\"sched_depart_utc\").rowsBetween(-100, -1)\n",
    "\n",
    "    # Precompute all lagged columns in single qpass\n",
    "    lagged_cols = [\n",
    "        F.lag(\"ORIGIN\").over(aircraft_window).alias(\"priorflight_origin\"),\n",
    "        F.lag(\"DEST\").over(aircraft_window).alias(\"priorflight_dest\"),\n",
    "        F.lag(\"CANCELLED\").over(aircraft_window).alias(\"priorflight_cancelled_true\"),\n",
    "        F.lag(\"sched_depart_utc\").over(aircraft_window).alias(\"priorflight_sched_deptime\"),\n",
    "        F.lag(\"CRS_ELAPSED_TIME\").over(aircraft_window).alias(\"priorflight_elapsed_time_calc_raw\"),\n",
    "        F.lag(\"DEP_DELAY\").over(aircraft_window).alias(\"priorflight_depdelay_true_raw\"),\n",
    "        F.lag(\"arr_datetime\").over(aircraft_window).alias(\"priorflight_arr_time_true\")\n",
    "    ]\n",
    "\n",
    "    # Base transformations\n",
    "    base_df = (df\n",
    "        .withColumn(\"twentysix_hours_prior_depart_UTC\", \n",
    "                   (F.col(\"two_hours_prior_depart_UTC\") - F.expr(\"INTERVAL 24 HOURS\")).cast(\"timestamp\"))\n",
    "        .select(\"*\", *lagged_cols)\n",
    "    )\n",
    "\n",
    "    # Precompute common conditions\n",
    "    WhenConditions = (\n",
    "        (F.col(\"ORIGIN\") == F.col(\"priorflight_dest\")) & \n",
    "        (F.col(\"priorflight_sched_deptime\") >= F.col(\"twentysix_hours_prior_depart_UTC\"))\n",
    "    )\n",
    "    valid_prior = WhenConditions & (F.col(\"priorflight_cancelled_true\") != 1)\n",
    "\n",
    "    # Core calculations\n",
    "    result_df = (base_df\n",
    "        .withColumn(\"priorflight_elapsed_time_calc\",\n",
    "            F.when(valid_prior,\n",
    "                F.expr(\"INTERVAL 1 MINUTE\") * F.col(\"priorflight_elapsed_time_calc_raw\")\n",
    "            )\n",
    "        )\n",
    "        .withColumn(\"priorflight_depdelay_true\",\n",
    "            F.when(valid_prior, F.col(\"priorflight_depdelay_true_raw\"))\n",
    "        )\n",
    "        .withColumn(\"priorflight_deptime_true\",\n",
    "            F.when(valid_prior,\n",
    "                F.col(\"priorflight_sched_deptime\") + \n",
    "                (F.expr(\"INTERVAL 1 MINUTE\") * F.col(\"priorflight_depdelay_true\"))\n",
    "            )\n",
    "        )\n",
    "        .withColumn(\"priorflight_isdeparted\",\n",
    "            F.when(\n",
    "                (F.col(\"priorflight_deptime_true\") <= F.col(\"two_hours_prior_depart_UTC\")) &\n",
    "                valid_prior, 1\n",
    "            ).otherwise(0)\n",
    "        )\n",
    "        .withColumn(\"priorflight_depdelay_calc\",\n",
    "            F.when(\n",
    "                (F.col(\"priorflight_deptime_true\") <= F.col(\"two_hours_prior_depart_UTC\")) & valid_prior,\n",
    "                F.col(\"priorflight_depdelay_true\")\n",
    "            ).when(\n",
    "                (F.col(\"priorflight_sched_deptime\") <= F.col(\"two_hours_prior_depart_UTC\")) &\n",
    "                (F.col(\"priorflight_deptime_true\") > F.col(\"two_hours_prior_depart_UTC\")) &\n",
    "                valid_prior,\n",
    "                (F.col(\"two_hours_prior_depart_UTC\").cast('long') - \n",
    "                 F.col(\"priorflight_sched_deptime\").cast('long')) / 60\n",
    "            ).otherwise(F.lit(0.0)) #if not enough info, assume all is well - in line with other logic\n",
    "        )\n",
    "        .withColumn(\"priorflight_deptime_calc\",\n",
    "            F.col(\"priorflight_sched_deptime\") + \n",
    "            (F.expr(\"INTERVAL 1 MINUTE\") * F.col(\"priorflight_depdelay_calc\"))\n",
    "        )\n",
    "        .withColumn(\"priorflight_isdelayed_calc\",\n",
    "            F.when(\n",
    "                (F.col(\"priorflight_depdelay_calc\") >= 15) | \n",
    "                (F.col('priorflight_cancelled_true') == 1), 1\n",
    "            ).otherwise(0)\n",
    "        )\n",
    "        .withColumn(\"elapsed_time_true\",\n",
    "            F.when(valid_prior,\n",
    "                (F.col(\"AIR_TIME\") + F.col(\"TAXI_IN\") + F.col(\"TAXI_OUT\")).cast(\"int\")\n",
    "            )\n",
    "        )\n",
    "        .withColumn(\"arr_time_true\",\n",
    "            F.col(\"arr_datetime\").cast(\"timestamp\") +\n",
    "            (F.expr(\"INTERVAL 1 MINUTE\") * F.col(\"ARR_DELAY\"))\n",
    "        )\n",
    "        .withColumn(\"priorflight_isarrived_calc\",\n",
    "            F.when(\n",
    "                (F.col(\"priorflight_arr_time_true\") <= F.col(\"two_hours_prior_depart_UTC\")) &\n",
    "                valid_prior, 1\n",
    "            ).otherwise(0)\n",
    "        )\n",
    "        .withColumn(\"priorflight_arr_time_calc\",\n",
    "            F.when(\n",
    "                F.col(\"priorflight_isarrived_calc\") == 1,\n",
    "                F.col(\"priorflight_arr_time_true\")\n",
    "            ).when(\n",
    "                (F.col(\"priorflight_isarrived_calc\") == 0) &\n",
    "                (F.col(\"priorflight_deptime_true\") <= F.col(\"two_hours_prior_depart_UTC\")), \n",
    "                F.col(\"priorflight_deptime_true\") + F.col(\"priorflight_elapsed_time_calc\")\n",
    "            ).otherwise(\n",
    "                F.col(\"priorflight_deptime_calc\") + F.col(\"priorflight_elapsed_time_calc\")\n",
    "            )\n",
    "        )\n",
    "        .withColumn(\"turnaround_time_calc\",\n",
    "            F.when(valid_prior,\n",
    "                ((F.col(\"sched_depart_utc\").cast(\"long\") - \n",
    "                  F.col(\"priorflight_arr_time_calc\").cast(\"long\")) / 60).cast(\"double\")\n",
    "            )\n",
    "        )\n",
    "        # Edge case handling\n",
    "        .withColumn(\"turnaround_time_calc\",\n",
    "            F.when(\n",
    "                (~valid_prior) | (F.col(\"priorflight_cancelled_true\") == 1),\n",
    "                F.last(\"turnaround_time_calc\", ignorenulls=True).over(route_window)\n",
    "            ).otherwise(F.col(\"turnaround_time_calc\"))\n",
    "        )\n",
    "        .withColumn(\"priorflight_depdelay_calc\",\n",
    "            F.when(\n",
    "                (~valid_prior) | (F.col(\"priorflight_cancelled_true\") == 1),\n",
    "                F.last(\"priorflight_depdelay_calc\", ignorenulls=True).over(route_window)\n",
    "            ).otherwise(F.col(\"priorflight_depdelay_calc\"))\n",
    "        )\n",
    "    ).cache()\n",
    "\n",
    "    return result_df\n",
    "\n",
    "# Execute pipeline\n",
    "result = add_lags_optimized(out)\n",
    "display(result)\n"
   ]
  },
  {
   "cell_type": "code",
   "execution_count": 0,
   "metadata": {
    "application/vnd.databricks.v1+cell": {
     "cellMetadata": {
      "byteLimit": 2048000,
      "rowLimit": 10000
     },
     "inputWidgets": {},
     "nuid": "4408f38a-eec7-4b16-9496-e87f142f63bd",
     "showTitle": false,
     "tableResultSettingsMap": {},
     "title": ""
    }
   },
   "outputs": [],
   "source": [
    "result.count() #sanity check"
   ]
  },
  {
   "cell_type": "code",
   "execution_count": 0,
   "metadata": {
    "application/vnd.databricks.v1+cell": {
     "cellMetadata": {
      "byteLimit": 2048000,
      "rowLimit": 10000
     },
     "collapsed": true,
     "inputWidgets": {},
     "nuid": "3d1b6582-2fcc-4060-8f6c-466177ba5a54",
     "showTitle": false,
     "tableResultSettingsMap": {},
     "title": ""
    }
   },
   "outputs": [],
   "source": [
    "result.checkpoint()"
   ]
  },
  {
   "cell_type": "code",
   "execution_count": 0,
   "metadata": {
    "application/vnd.databricks.v1+cell": {
     "cellMetadata": {
      "byteLimit": 2048000,
      "rowLimit": 10000
     },
     "inputWidgets": {},
     "nuid": "abeeab3d-bfd4-4cac-a979-e930a7b71ba8",
     "showTitle": false,
     "tableResultSettingsMap": {},
     "title": ""
    }
   },
   "outputs": [],
   "source": [
    "print(f\"Delay indicator null count: {result.filter(F.col('priorflight_isdelayed_calc').isNull()).count()}\")\n",
    "\n",
    "print(f\"Departed indicator null count: {result.filter(F.col('priorflight_isdeparted').isNull()).count()}\")\n",
    "\n",
    "print(f\"Arrival indicator null count: {result.filter(F.col('priorflight_isarrived_calc').isNull()).count()}\")\n",
    "\n",
    "print(f\"Est. Turnaround Time Null Count: {result.filter(F.col('turnaround_time_calc').isNull()).count()}\")\n",
    "\n",
    "print(f\"Delay estimate null count: {result.filter(F.col('priorflight_isdelayed_calc').isNull()).count()}\")\n"
   ]
  },
  {
   "cell_type": "markdown",
   "metadata": {
    "application/vnd.databricks.v1+cell": {
     "cellMetadata": {},
     "inputWidgets": {},
     "nuid": "a2de7878-58fd-49fb-af4e-deddc1518746",
     "showTitle": false,
     "tableResultSettingsMap": {},
     "title": ""
    }
   },
   "source": [
    "If turnaround time is unable to be calculated based on the record features, try to estimate based on prior records"
   ]
  },
  {
   "cell_type": "code",
   "execution_count": 0,
   "metadata": {
    "application/vnd.databricks.v1+cell": {
     "cellMetadata": {
      "byteLimit": 2048000,
      "rowLimit": 10000
     },
     "inputWidgets": {},
     "nuid": "661b9682-4dcf-4db2-9f02-e4858ebefb07",
     "showTitle": false,
     "tableResultSettingsMap": {},
     "title": ""
    }
   },
   "outputs": [],
   "source": [
    "result_imputed = smooth_column_optimized(\n",
    "    df=result, \n",
    "    col_name= \"turnaround_time_calc\", \n",
    "    airport_col=\"ORIGIN\", \n",
    "    dt_col=\"two_hours_prior_depart_UTC\", \n",
    "    window_size=4)\n"
   ]
  },
  {
   "cell_type": "code",
   "execution_count": 0,
   "metadata": {
    "application/vnd.databricks.v1+cell": {
     "cellMetadata": {
      "byteLimit": 2048000,
      "rowLimit": 10000
     },
     "inputWidgets": {},
     "nuid": "47f36138-4e03-43a7-9a9f-8da1e818a220",
     "showTitle": false,
     "tableResultSettingsMap": {},
     "title": ""
    }
   },
   "outputs": [],
   "source": [
    "print(f\"Est. Turnaround Time Null Count: {result_imputed.filter(F.col('turnaround_time_calc').isNull()).count()}\")\n"
   ]
  },
  {
   "cell_type": "code",
   "execution_count": 0,
   "metadata": {
    "application/vnd.databricks.v1+cell": {
     "cellMetadata": {
      "byteLimit": 2048000,
      "rowLimit": 10000
     },
     "inputWidgets": {},
     "nuid": "52620178-5c8e-40f7-b84b-1573f403c00d",
     "showTitle": false,
     "tableResultSettingsMap": {},
     "title": ""
    }
   },
   "outputs": [],
   "source": [
    "df = result_imputed.withColumn(\"origin_HourlyWindSpeed\", F.when(F.col(\"origin_HourlyWindSpeed\") == 2237, 0).otherwise(F.col(\"origin_HourlyWindSpeed\")))"
   ]
  },
  {
   "cell_type": "code",
   "execution_count": 0,
   "metadata": {
    "application/vnd.databricks.v1+cell": {
     "cellMetadata": {
      "byteLimit": 2048000,
      "rowLimit": 10000
     },
     "inputWidgets": {},
     "nuid": "7cfb03fa-28cd-4ad9-95cd-e23137dbd967",
     "showTitle": false,
     "tableResultSettingsMap": {},
     "title": ""
    }
   },
   "outputs": [],
   "source": [
    "\n",
    "\n",
    "output_path = \"dbfs:/student-groups/Group_4_1/interim/join_checkpoints/joined_1y_cleaned_engineered.parquet\"\n",
    "(\n",
    "    df.write\n",
    "    .mode(\"overwrite\")\n",
    "    .parquet(output_path)\n",
    ")"
   ]
  },
  {
   "cell_type": "code",
   "execution_count": 0,
   "metadata": {
    "application/vnd.databricks.v1+cell": {
     "cellMetadata": {
      "byteLimit": 2048000,
      "rowLimit": 10000
     },
     "inputWidgets": {},
     "nuid": "17e20d38-8cdd-4da5-ab46-a05bbfececcd",
     "showTitle": false,
     "tableResultSettingsMap": {},
     "title": ""
    }
   },
   "outputs": [],
   "source": [
    "df.checkpoint()"
   ]
  },
  {
   "cell_type": "markdown",
   "metadata": {
    "application/vnd.databricks.v1+cell": {
     "cellMetadata": {},
     "inputWidgets": {},
     "nuid": "ee54372c-8e69-4623-b578-db37a0d9ff3f",
     "showTitle": false,
     "tableResultSettingsMap": {},
     "title": ""
    }
   },
   "source": [
    "# EDA"
   ]
  },
  {
   "cell_type": "markdown",
   "metadata": {
    "application/vnd.databricks.v1+cell": {
     "cellMetadata": {},
     "inputWidgets": {},
     "nuid": "33de0aaa-8cfa-48d2-8305-256c99b541e2",
     "showTitle": false,
     "tableResultSettingsMap": {},
     "title": ""
    }
   },
   "source": [
    "### Setup"
   ]
  },
  {
   "cell_type": "code",
   "execution_count": 0,
   "metadata": {
    "application/vnd.databricks.v1+cell": {
     "cellMetadata": {
      "byteLimit": 2048000,
      "rowLimit": 10000
     },
     "inputWidgets": {},
     "nuid": "decda3ab-2dba-4f42-a087-3cace8330894",
     "showTitle": false,
     "tableResultSettingsMap": {},
     "title": ""
    }
   },
   "outputs": [],
   "source": [
    "output_path = \"dbfs:/student-groups/Group_4_1/interim/join_checkpoints/joined_1y_cleaned_engineered.parquet\"\n",
    "\n",
    "df=spark.read.parquet(output_path)"
   ]
  },
  {
   "cell_type": "code",
   "execution_count": 0,
   "metadata": {
    "application/vnd.databricks.v1+cell": {
     "cellMetadata": {
      "byteLimit": 2048000,
      "rowLimit": 10000
     },
     "inputWidgets": {},
     "nuid": "f1eeb1dc-fecb-485b-a5da-cafcbee2d7db",
     "showTitle": false,
     "tableResultSettingsMap": {},
     "title": ""
    }
   },
   "outputs": [],
   "source": [
    "import pyspark.sql.functions as F\n",
    "from pyspark.sql.functions import col,isnan, when, count, concat_ws, countDistinct, collect_set, rank, window, avg, hour, udf, isnan, pandas_udf\n",
    "import matplotlib.pyplot as plt\n",
    "import pandas as pd\n",
    "import re\n",
    "import numpy as np\n",
    "from pyspark.sql import types\n",
    "from pyspark.sql.types import *\n",
    "from pyspark.sql import Window\n",
    "import seaborn as sns"
   ]
  },
  {
   "cell_type": "code",
   "execution_count": 0,
   "metadata": {
    "application/vnd.databricks.v1+cell": {
     "cellMetadata": {
      "byteLimit": 2048000,
      "rowLimit": 10000
     },
     "inputWidgets": {},
     "nuid": "ad6c702a-13f2-4916-8c92-e447b68837cd",
     "showTitle": false,
     "tableResultSettingsMap": {},
     "title": ""
    }
   },
   "outputs": [],
   "source": [
    "df=df.withColumn('outcome', F.when((F.col('DEP_DELAY')>=15) | (F.col('CANCELLED')==1), 1).otherwise(0))\n",
    "              "
   ]
  },
  {
   "cell_type": "markdown",
   "metadata": {
    "application/vnd.databricks.v1+cell": {
     "cellMetadata": {},
     "inputWidgets": {},
     "nuid": "ac25f8cd-4acf-484f-9fc5-23b1efb95c43",
     "showTitle": false,
     "tableResultSettingsMap": {},
     "title": ""
    }
   },
   "source": [
    "## spot check - old"
   ]
  },
  {
   "cell_type": "code",
   "execution_count": 0,
   "metadata": {
    "application/vnd.databricks.v1+cell": {
     "cellMetadata": {
      "byteLimit": 2048000,
      "rowLimit": 10000
     },
     "collapsed": true,
     "inputWidgets": {},
     "nuid": "26e0ba51-c2b4-4918-8be8-296e3c0d15fb",
     "showTitle": false,
     "tableResultSettingsMap": {},
     "title": ""
    }
   },
   "outputs": [],
   "source": [
    "display(df.filter(F.col('origin_HourlyWindSpeed') > 2000)) #was also present in the original dataset"
   ]
  },
  {
   "cell_type": "code",
   "execution_count": 0,
   "metadata": {
    "application/vnd.databricks.v1+cell": {
     "cellMetadata": {
      "byteLimit": 2048000,
      "rowLimit": 10000
     },
     "collapsed": true,
     "inputWidgets": {},
     "nuid": "eb2f9065-54ec-4355-b6b2-6b8d09379334",
     "showTitle": false,
     "tableResultSettingsMap": {},
     "title": ""
    }
   },
   "outputs": [],
   "source": [
    "display(df.filter(F.col('origin_HourlyWindSpeed') > 2000)) #does not look accurate and many of these say 0KT so  must be incorrect"
   ]
  },
  {
   "cell_type": "code",
   "execution_count": 0,
   "metadata": {
    "application/vnd.databricks.v1+cell": {
     "cellMetadata": {
      "byteLimit": 2048000,
      "rowLimit": 10000
     },
     "inputWidgets": {},
     "nuid": "a9bd1785-766d-41d4-ba54-e0689d676f4f",
     "showTitle": false,
     "tableResultSettingsMap": {},
     "title": ""
    }
   },
   "outputs": [],
   "source": [
    "df = df.withColumn(\"origin_HourlyWindSpeed\", F.when(F.col(\"origin_HourlyWindSpeed\") == 2237, 0).otherwise(F.col(\"origin_HourlyWindSpeed\")))"
   ]
  },
  {
   "cell_type": "code",
   "execution_count": 0,
   "metadata": {
    "application/vnd.databricks.v1+cell": {
     "cellMetadata": {
      "byteLimit": 2048000,
      "rowLimit": 10000
     },
     "inputWidgets": {},
     "nuid": "4edf414b-5694-455c-802b-9a9c24b50af6",
     "showTitle": false,
     "tableResultSettingsMap": {},
     "title": ""
    }
   },
   "outputs": [],
   "source": [
    "df=df.withColumn('DEP_DEL15', F.when(col('DEP_DELAY') >= 15, 1).otherwise(0))"
   ]
  },
  {
   "cell_type": "markdown",
   "metadata": {
    "application/vnd.databricks.v1+cell": {
     "cellMetadata": {},
     "inputWidgets": {},
     "nuid": "aa9e77a8-bf75-4c0b-ab3a-fe15ff3b01ab",
     "showTitle": false,
     "tableResultSettingsMap": {},
     "title": ""
    }
   },
   "source": [
    "## Basic plots with Outcome"
   ]
  },
  {
   "cell_type": "code",
   "execution_count": 0,
   "metadata": {
    "application/vnd.databricks.v1+cell": {
     "cellMetadata": {
      "byteLimit": 2048000,
      "rowLimit": 10000
     },
     "inputWidgets": {},
     "nuid": "61bfccfc-c38e-4565-b620-6cdea89b3467",
     "showTitle": false,
     "tableResultSettingsMap": {},
     "title": ""
    }
   },
   "outputs": [],
   "source": [
    "\n",
    "\n",
    "# Convert wind speed data to pandas\n",
    "wind_df = df.filter(F.col('origin_HourlyWindSpeed').isNotNull()) \\\n",
    "    .withColumn(\"outcome\", F.col(\"outcome\").cast(\"string\")) \\\n",
    "    .select(\"origin_HourlyWindSpeed\", \"outcome\") \\\n",
    "    .toPandas()\n",
    "\n",
    "wind_gust_df = df.filter(F.col('origin_HourlyWindGustSpeed').isNotNull()) \\\n",
    "    .withColumn(\"outcome\", F.col(\"outcome\").cast(\"string\")) \\\n",
    "    .select(\"origin_HourlyWindGustSpeed\", \"outcome\") \\\n",
    "    .toPandas()\n",
    "\n",
    "# Create subplots\n",
    "fig, axes = plt.subplots(1, 2, figsize=(15, 6))\n",
    "\n",
    "# Boxplot for Hourly Wind Speed\n",
    "wind_df.boxplot(column=\"origin_HourlyWindSpeed\", by=\"outcome\", ax=axes[0])\n",
    "axes[0].set_xlabel(\"Departure Delay (0 = No Delay, 1 = Delayed)\")\n",
    "axes[0].set_ylabel(\"Hourly Wind Speed\")\n",
    "axes[0].set_title(\"Hourly Wind Speed by Departure Delay\")\n",
    "\n",
    "# Boxplot for Hourly Wind Gust Speed\n",
    "wind_gust_df.boxplot(column=\"origin_HourlyWindGustSpeed\", by=\"outcome\", ax=axes[1])\n",
    "axes[1].set_xlabel(\"Departure Delay (0 = No Delay, 1 = Delayed)\")\n",
    "axes[1].set_ylabel(\"Hourly Wind Gust Speed\")\n",
    "axes[1].set_title(\"Hourly Wind Gust Speed by Departure Delay\")\n",
    "\n",
    "# Adjust layout\n",
    "plt.suptitle(\"\")\n",
    "plt.tight_layout()\n",
    "plt.show()\n"
   ]
  },
  {
   "cell_type": "code",
   "execution_count": 0,
   "metadata": {
    "application/vnd.databricks.v1+cell": {
     "cellMetadata": {
      "byteLimit": 2048000,
      "rowLimit": 10000
     },
     "inputWidgets": {},
     "nuid": "7085ce34-c132-4d3e-926c-35daf9e34b50",
     "showTitle": false,
     "tableResultSettingsMap": {},
     "title": ""
    }
   },
   "outputs": [],
   "source": [
    "#look at nonzero wind speeds\n",
    "\n",
    "# Convert wind speed data to pandas\n",
    "wind_df = df.filter(F.col('origin_HourlyWindSpeed').isNotNull()) \\\n",
    "    .withColumn(\"outcome\", col(\"outcome\").cast(\"string\")) \\\n",
    "    .select(\"origin_HourlyWindSpeed\", \"outcome\") \\\n",
    "    .toPandas()\n",
    "\n",
    "wind_gust_df = df.filter(F.col('origin_HourlyWindGustSpeed').isNotNull()).filter(F.col('origin_HourlyWindGustSpeed') > 0) \\\n",
    "    .withColumn(\"outcome\", col(\"outcome\").cast(\"string\")) \\\n",
    "    .select(\"origin_HourlyWindGustSpeed\", \"outcome\") \\\n",
    "    .toPandas()\n",
    "\n",
    "# Create subplots\n",
    "fig, axes = plt.subplots(1, 2, figsize=(15, 6))\n",
    "\n",
    "# Boxplot for Hourly Wind Speed\n",
    "wind_df.boxplot(column=\"origin_HourlyWindSpeed\", by=\"outcome\", ax=axes[0])\n",
    "axes[0].set_xlabel(\"Departure Delay (0 = No Delay, 1 = Delayed)\")\n",
    "axes[0].set_ylabel(\"Nonzero Hourly Wind Speed\")\n",
    "axes[0].set_title(\"Nonzero Hourly Wind Speed by Departure Delay\")\n",
    "\n",
    "# Boxplot for Hourly Wind Gust Speed\n",
    "wind_gust_df.boxplot(column=\"origin_HourlyWindGustSpeed\", by=\"outcome\", ax=axes[1])\n",
    "axes[1].set_xlabel(\"Departure Delay (0 = No Delay, 1 = Delayed)\")\n",
    "axes[1].set_ylabel(\"Nonzero Hourly Wind Gust Speed\")\n",
    "axes[1].set_title(\"Nonzero Hourly Wind Gust Speed by Departure Delay\")\n",
    "\n",
    "# Adjust layout\n",
    "plt.suptitle(\"\")\n",
    "plt.tight_layout()\n",
    "plt.show()\n"
   ]
  },
  {
   "cell_type": "code",
   "execution_count": 0,
   "metadata": {
    "application/vnd.databricks.v1+cell": {
     "cellMetadata": {
      "byteLimit": 2048000,
      "rowLimit": 10000
     },
     "inputWidgets": {},
     "nuid": "8335a9c0-1ab7-479d-8c34-7e703607c6dd",
     "showTitle": false,
     "tableResultSettingsMap": {},
     "title": ""
    }
   },
   "outputs": [],
   "source": [
    "\n",
    "\n",
    "\n",
    "\n",
    "drybulb_df = df.filter(F.col('origin_HourlyDryBulbTemperature').isNotNull()) \\\n",
    "    .withColumn(\"outcome\", col(\"outcome\").cast(\"string\")) \\\n",
    "    .select(\"origin_HourlyDryBulbTemperature\", \"outcome\") \\\n",
    "    .toPandas()\n",
    "\n",
    "wetbulb_df = df.filter(F.col('origin_HourlyWetBulbTemperature').isNotNull()) \\\n",
    "    .withColumn(\"outcome\", col(\"outcome\").cast(\"string\")) \\\n",
    "    .select(\"origin_HourlyWetBulbTemperature\", \"outcome\") \\\n",
    "    .toPandas()\n",
    "\n",
    "# Create subplots\n",
    "fig, axes = plt.subplots(1, 2, figsize=(15, 6))\n",
    "\n",
    "\n",
    "drybulb_df.boxplot(column=\"origin_HourlyDryBulbTemperature\", by=\"outcome\", ax=axes[0])\n",
    "axes[0].set_xlabel(\"Departure Delay (0 = No Delay, 1 = Delayed)\")\n",
    "axes[0].set_ylabel(\"Hourly Dry Bulb Temp\")\n",
    "axes[0].set_title(\"Hourly Dry Bulb by Departure Delay\")\n",
    "\n",
    "\n",
    "wetbulb_df.boxplot(column=\"origin_HourlyWetBulbTemperature\", by=\"outcome\", ax=axes[1])\n",
    "axes[1].set_xlabel(\"Departure Delay (0 = No Delay, 1 = Delayed)\")\n",
    "axes[1].set_ylabel(\"Hourly Wet Bulb\")\n",
    "axes[1].set_title(\"Hourly Wet Bulb Temp by Departure Delay\")\n",
    "\n",
    "# Adjust layout\n",
    "plt.suptitle(\"\")\n",
    "plt.tight_layout()\n",
    "plt.show()\n",
    "\n",
    "#online it says that wet bulb is more important for flights maybe but distributions look pretty similar for both groups for both temp types\n"
   ]
  },
  {
   "cell_type": "code",
   "execution_count": 0,
   "metadata": {
    "application/vnd.databricks.v1+cell": {
     "cellMetadata": {
      "byteLimit": 2048000,
      "rowLimit": 10000
     },
     "inputWidgets": {},
     "nuid": "f9984f7f-285f-4b38-9508-9630e8589cf6",
     "showTitle": false,
     "tableResultSettingsMap": {},
     "title": ""
    }
   },
   "outputs": [],
   "source": [
    "\n",
    "\n",
    "\n",
    "\n",
    "vis_df = df.filter(F.col('origin_HourlyVisibility').isNotNull()) \\\n",
    "    .withColumn(\"outcome\", col(\"outcome\").cast(\"string\")) \\\n",
    "    .select(\"origin_HourlyVisibility\", \"outcome\") \\\n",
    "    .toPandas()\n",
    "\n",
    "pressure_df = df.filter(F.col('origin_HourlyPressureChange').isNotNull()) \\\n",
    "    .withColumn(\"outcome\", col(\"outcome\").cast(\"string\")) \\\n",
    "    .select(\"origin_HourlyPressureChange\", \"outcome\") \\\n",
    "    .toPandas()\n",
    "\n",
    "# Create subplots\n",
    "fig, axes = plt.subplots(1, 2, figsize=(15, 6))\n",
    "\n",
    "\n",
    "vis_df.boxplot(column=\"origin_HourlyVisibility\", by=\"outcome\", ax=axes[0])\n",
    "axes[0].set_xlabel(\"Departure Delay (0 = No Delay, 1 = Delayed)\")\n",
    "axes[0].set_ylabel(\"Hourly Visibility\")\n",
    "axes[0].set_title(\"Hourly Visibility by Departure Delay\")\n",
    "\n",
    "\n",
    "pressure_df.boxplot(column=\"origin_HourlyPressureChange\", by=\"outcome\", ax=axes[1])\n",
    "axes[1].set_xlabel(\"Departure Delay (0 = No Delay, 1 = Delayed)\")\n",
    "axes[1].set_ylabel(\"Hourly Pressure Tendency\")\n",
    "axes[1].set_title(\"Hourly Pressure Tendency by Departure Delay\")\n",
    "\n",
    "# Adjust layout\n",
    "plt.suptitle(\"\")\n",
    "plt.tight_layout()\n",
    "plt.show()\n",
    "\n"
   ]
  },
  {
   "cell_type": "code",
   "execution_count": 0,
   "metadata": {
    "application/vnd.databricks.v1+cell": {
     "cellMetadata": {
      "byteLimit": 2048000,
      "rowLimit": 10000
     },
     "inputWidgets": {},
     "nuid": "663e5a17-18e7-466b-ae91-c62c6cb269cf",
     "showTitle": false,
     "tableResultSettingsMap": {},
     "title": ""
    }
   },
   "outputs": [],
   "source": [
    "#nice version:\n",
    "\n",
    "new_col_names = {\n",
    "    \"origin_HourlyDryBulbTemperature\": \"Dry Bulb Temp\",\n",
    "    \"origin_HourlyWetBulbTemperature\": \"Wet Bulb Temp\",\n",
    "    \"origin_HourlyWindSpeed\": \"Wind Speed\",\n",
    "    \"origin_HourlyPrecipitation\": \"Precipitation\",\n",
    "    \"origin_HourlyVisibility\": \"Visibility\",\n",
    "    \"origin_HourlyWindGustSpeed\": \"Wind Gust\",\n",
    "    \"origin_HourlyPressureChange\": \"Pressure Δ\",\n",
    "    \"origin_HourlyRelativeHumidity\": \"Humidity\",\n",
    "    \"outcome\": \"Departure Delay\"\n",
    "}\n",
    "\n",
    "# Prepare data with renamed columns\n",
    "heatmap_df = df.select(list(new_col_names.keys())).toPandas().rename(columns=new_col_names)\n",
    "corr_matrix = heatmap_df.corr('spearman')\n",
    "mask = np.triu(np.ones_like(corr_matrix, dtype=bool))\n",
    "\n",
    "# Create customized heatmap\n",
    "plt.figure(figsize=(10, 8))\n",
    "ax = sns.heatmap(\n",
    "    corr_matrix,\n",
    "    mask=mask,\n",
    "    annot=True,\n",
    "    cmap=\"coolwarm\",\n",
    "    vmin=-1,\n",
    "    vmax=1,\n",
    "    fmt=\".2f\",  # Format annotations to 2 decimals\n",
    "    linewidths=.5,\n",
    "    cbar_kws={\"shrink\": 0.8}\n",
    ")\n",
    "\n",
    "# Rotate and align ticks\n",
    "ax.tick_params(axis='x', labelrotation=45, labelsize=10)\n",
    "ax.tick_params(axis='y', labelrotation=0, labelsize=10)\n",
    "ax.set_xticklabels(ax.get_xticklabels(), ha='right', rotation=45)\n",
    "ax.set_yticklabels(ax.get_yticklabels(), va='center')\n",
    "\n",
    "# Add title and adjust layout\n",
    "plt.title(\"Weather Features Spearman Correlation Heatmap\", pad=20, fontsize=14)\n",
    "plt.tight_layout()\n",
    "plt.show()\n"
   ]
  },
  {
   "cell_type": "code",
   "execution_count": 0,
   "metadata": {
    "application/vnd.databricks.v1+cell": {
     "cellMetadata": {
      "byteLimit": 2048000,
      "rowLimit": 10000
     },
     "inputWidgets": {},
     "nuid": "3dc229b3-ea7e-4aec-9880-96de002c7cda",
     "showTitle": false,
     "tableResultSettingsMap": {},
     "title": ""
    }
   },
   "outputs": [],
   "source": [
    "df.columns"
   ]
  },
  {
   "cell_type": "code",
   "execution_count": 0,
   "metadata": {
    "application/vnd.databricks.v1+cell": {
     "cellMetadata": {
      "byteLimit": 2048000,
      "rowLimit": 10000
     },
     "inputWidgets": {},
     "nuid": "2382e985-75bb-440d-9869-9e389d291a28",
     "showTitle": false,
     "tableResultSettingsMap": {},
     "title": ""
    }
   },
   "outputs": [],
   "source": [
    "#nice version:\n",
    "\n",
    "cols = [\"priorflight_elapsed_time_calc\",\"priorflight_depdelay_calc\", \"turnaround_time_calc\",\n",
    "        \"priorflight_isarrived_calc\", \"priorflight_isdeparted\", \"priorflight_isdelayed_calc\", \"priorflight_cancelled_true\"]\n",
    "\n",
    "new_col_names = {\n",
    "    \"priorflight_elapsed_time_calc\": \"Prior Flight Air Time\",\n",
    "    \"priorflight_depdelay_calc\": \"Prior Flight Delay Time\",\n",
    "    \"turnaround_time_calc\": \"Turnaround Time\",\n",
    "    \"priorflight_isarrived_calc\": \"Prior Flight Arrived\",\n",
    "    \"priorflight_isdeparted\": \"Prior Flight Departed\",\n",
    "    \"priorflight_isdelayed_calc\": \"Prior Flight Delayed\",\n",
    "    \"priorflight_cancelled_true\": \"Prior Flight Cancelled\",\n",
    "    \"outcome\": \"Current Flight Delayed\"\n",
    "}\n",
    "\n",
    "# Prepare data with renamed columns\n",
    "heatmap_df = df.select(list(new_col_names.keys())).toPandas().rename(columns=new_col_names)\n",
    "corr_matrix = heatmap_df.corr('spearman')\n",
    "mask = np.triu(np.ones_like(corr_matrix, dtype=bool))\n",
    "\n",
    "# Create customized heatmap\n",
    "plt.figure(figsize=(10, 8))\n",
    "ax = sns.heatmap(\n",
    "    corr_matrix,\n",
    "    mask=mask,\n",
    "    annot=True,\n",
    "    cmap=\"coolwarm\",\n",
    "    vmin=-1,\n",
    "    vmax=1,\n",
    "    fmt=\".2f\",  # Format annotations to 2 decimals\n",
    "    linewidths=.5,\n",
    "    cbar_kws={\"shrink\": 0.8}\n",
    ")\n",
    "\n",
    "# Rotate and align ticks\n",
    "ax.tick_params(axis='x', labelrotation=45, labelsize=10)\n",
    "ax.tick_params(axis='y', labelrotation=0, labelsize=10)\n",
    "ax.set_xticklabels(ax.get_xticklabels(), ha='right', rotation=45)\n",
    "ax.set_yticklabels(ax.get_yticklabels(), va='center')\n",
    "\n",
    "# Add title and adjust layout\n",
    "plt.title(\"Prior Flight Features: Spearman Correlation Heatmap\", pad=20, fontsize=14)\n",
    "plt.tight_layout()\n",
    "plt.show()\n"
   ]
  },
  {
   "cell_type": "code",
   "execution_count": 0,
   "metadata": {
    "application/vnd.databricks.v1+cell": {
     "cellMetadata": {
      "byteLimit": 2048000,
      "rowLimit": 10000
     },
     "inputWidgets": {},
     "nuid": "1ab72dc1-d09a-4546-9707-a8d7181bc2ad",
     "showTitle": false,
     "tableResultSettingsMap": {},
     "title": ""
    }
   },
   "outputs": [],
   "source": [
    "\n",
    "\n",
    "\n",
    "\n",
    "depdel_calc_df = df.filter(F.col('priorflight_depdelay_calc').isNotNull()) \\\n",
    "    .withColumn(\"outcome\", col(\"outcome\").cast(\"string\")) \\\n",
    "    .select(\"priorflight_depdelay_calc\", \"outcome\") \\\n",
    "    .toPandas()\n",
    "\n",
    "turnaround_calc_df = df.filter(F.col('turnaround_time_calc').isNotNull()) \\\n",
    "    .withColumn(\"outcome\", col(\"outcome\").cast(\"string\")) \\\n",
    "    .select(\"turnaround_time_calc\", \"outcome\") \\\n",
    "    .toPandas()\n",
    "\n",
    "# Create subplots\n",
    "fig, axes = plt.subplots(1, 2, figsize=(15, 6))\n",
    "\n",
    "\n",
    "depdel_calc_df.boxplot(column=\"priorflight_depdelay_calc\", by=\"outcome\", ax=axes[0])\n",
    "axes[0].set_xlabel(\"Departure Delay (0 = No Delay, 1 = Delayed)\")\n",
    "axes[0].set_ylabel(\"Estimated Prior Flight Dep. Delay\")\n",
    "axes[0].set_title(\"Current Flight Departure Delay by Prior Departure Delay\")\n",
    "\n",
    "\n",
    "turnaround_calc_df.boxplot(column=\"turnaround_time_calc\", by=\"outcome\", ax=axes[1])\n",
    "axes[1].set_xlabel(\"Departure Delay (0 = No Delay, 1 = Delayed)\")\n",
    "axes[1].set_ylabel(\"Estimated Turnaround Time\")\n",
    "axes[1].set_title(\"Current Flight Departure Delay by Turnaround Time\")\n",
    "\n",
    "\n",
    "# Adjust layout\n",
    "plt.suptitle(\"\")\n",
    "plt.tight_layout()\n",
    "plt.show()\n",
    "\n"
   ]
  },
  {
   "cell_type": "code",
   "execution_count": 0,
   "metadata": {
    "application/vnd.databricks.v1+cell": {
     "cellMetadata": {},
     "inputWidgets": {},
     "nuid": "d6e8541a-58f4-4ecd-b40b-a8fad95c42c9",
     "showTitle": false,
     "tableResultSettingsMap": {},
     "title": ""
    }
   },
   "outputs": [],
   "source": []
  },
  {
   "cell_type": "markdown",
   "metadata": {
    "application/vnd.databricks.v1+cell": {
     "cellMetadata": {},
     "inputWidgets": {},
     "nuid": "d07538d0-2f0a-43fc-83c4-a35001a98021",
     "showTitle": false,
     "tableResultSettingsMap": {},
     "title": ""
    }
   },
   "source": [
    "## Geohash exploration for Mapping"
   ]
  },
  {
   "cell_type": "code",
   "execution_count": 0,
   "metadata": {
    "application/vnd.databricks.v1+cell": {
     "cellMetadata": {
      "byteLimit": 2048000,
      "rowLimit": 10000
     },
     "inputWidgets": {},
     "nuid": "cec7d672-7a63-47bf-941a-2808fd89f5c7",
     "showTitle": false,
     "tableResultSettingsMap": {},
     "title": ""
    }
   },
   "outputs": [],
   "source": [
    "display(df.groupBy('geohash').agg(\n",
    "   F.avg(\"DEP_DELAY\").alias(\"AVG_DEP_DELAY\")\n",
    ").orderBy(\"AVG_DEP_DELAY\", ascending=False))"
   ]
  },
  {
   "cell_type": "code",
   "execution_count": 0,
   "metadata": {
    "application/vnd.databricks.v1+cell": {
     "cellMetadata": {
      "byteLimit": 2048000,
      "rowLimit": 10000
     },
     "inputWidgets": {},
     "nuid": "a2be395e-5b62-4a1b-8941-6b42fec818d1",
     "showTitle": false,
     "tableResultSettingsMap": {},
     "title": ""
    }
   },
   "outputs": [],
   "source": [
    "df.filter(F.col('geohash')=='9p').select('origin_airport_name').distinct().show()\n",
    "#longest avg delay times"
   ]
  },
  {
   "cell_type": "code",
   "execution_count": 0,
   "metadata": {
    "application/vnd.databricks.v1+cell": {
     "cellMetadata": {
      "byteLimit": 2048000,
      "rowLimit": 10000
     },
     "inputWidgets": {},
     "nuid": "e3b832b7-69c7-4ce6-9608-f39734ead978",
     "showTitle": false,
     "tableResultSettingsMap": {},
     "title": ""
    }
   },
   "outputs": [],
   "source": [
    "df.filter(F.col('geohash')=='bs').select('origin_airport_name').distinct().show()\n",
    "#shortest avg delay times "
   ]
  },
  {
   "cell_type": "code",
   "execution_count": 0,
   "metadata": {
    "application/vnd.databricks.v1+cell": {
     "cellMetadata": {
      "byteLimit": 2048000,
      "rowLimit": 10000
     },
     "inputWidgets": {},
     "nuid": "2528cb31-7ce2-4562-af33-75e7e529cb02",
     "showTitle": false,
     "tableResultSettingsMap": {},
     "title": ""
    }
   },
   "outputs": [],
   "source": [
    "paths_df = df.withColumn(\n",
    "    \"FLIGHT_PATH\", \n",
    "    concat_ws(\" -> \", \"origin_airport_name\", \"dest_airport_name\")\n",
    ").groupBy(\"FLIGHT_PATH\").agg(\n",
    "   F.avg(\"DEP_DELAY\").alias(\"AVG_DEP_DELAY\")\n",
    ").orderBy(\"AVG_DEP_DELAY\", ascending=False)"
   ]
  },
  {
   "cell_type": "code",
   "execution_count": 0,
   "metadata": {
    "application/vnd.databricks.v1+cell": {
     "cellMetadata": {
      "byteLimit": 2048000,
      "rowLimit": 10000
     },
     "inputWidgets": {},
     "nuid": "a97996e2-da55-4973-8fc4-e5c5b6ef0733",
     "showTitle": false,
     "tableResultSettingsMap": {},
     "title": ""
    }
   },
   "outputs": [],
   "source": [
    "display(paths_df)"
   ]
  },
  {
   "cell_type": "code",
   "execution_count": 0,
   "metadata": {
    "application/vnd.databricks.v1+cell": {
     "cellMetadata": {
      "byteLimit": 2048000,
      "rowLimit": 10000
     },
     "inputWidgets": {},
     "nuid": "0a5c0eb0-3b90-4059-9163-e7484d4762c2",
     "showTitle": false,
     "tableResultSettingsMap": {},
     "title": ""
    }
   },
   "outputs": [],
   "source": [
    "display(df.filter(F.col('DEP_DELAY')>720))"
   ]
  },
  {
   "cell_type": "code",
   "execution_count": 0,
   "metadata": {
    "application/vnd.databricks.v1+cell": {
     "cellMetadata": {
      "byteLimit": 2048000,
      "rowLimit": 10000
     },
     "inputWidgets": {},
     "nuid": "eb0276be-5b81-4f4d-ab0e-3685b693614c",
     "showTitle": false,
     "tableResultSettingsMap": {},
     "title": ""
    }
   },
   "outputs": [],
   "source": [
    "display(df_.filter(F.col('origin_airport_name')=='EGLIN AFB AIRPORT').filter(F.col('dest_airport_name')=='SARASOTA/BRADENTON INTL AP'))"
   ]
  },
  {
   "cell_type": "code",
   "execution_count": 0,
   "metadata": {
    "application/vnd.databricks.v1+cell": {
     "cellMetadata": {
      "byteLimit": 2048000,
      "rowLimit": 10000
     },
     "inputWidgets": {},
     "nuid": "e58da08d-7ad2-4ac9-9df1-d058fd46c2ca",
     "showTitle": false,
     "tableResultSettingsMap": {},
     "title": ""
    }
   },
   "outputs": [],
   "source": [
    "display(df.groupBy('origin_airport_name').agg(\n",
    "   F.avg(\"DEP_DELAY\").alias(\"AVG_DEP_DELAY\")\n",
    ").orderBy(\"AVG_DEP_DELAY\", ascending=False))"
   ]
  },
  {
   "cell_type": "code",
   "execution_count": 0,
   "metadata": {
    "application/vnd.databricks.v1+cell": {
     "cellMetadata": {
      "byteLimit": 2048000,
      "rowLimit": 10000
     },
     "inputWidgets": {},
     "nuid": "1252d557-73f5-498d-8938-cce1cc1fe359",
     "showTitle": false,
     "tableResultSettingsMap": {},
     "title": ""
    }
   },
   "outputs": [],
   "source": [
    "display(df.groupBy('dest_airport_name').agg(\n",
    "   F.avg(\"DEP_DELAY\").alias(\"AVG_DEP_DELAY\")\n",
    ").orderBy(\"AVG_DEP_DELAY\", ascending=False))"
   ]
  },
  {
   "cell_type": "code",
   "execution_count": 0,
   "metadata": {
    "application/vnd.databricks.v1+cell": {
     "cellMetadata": {
      "byteLimit": 2048000,
      "rowLimit": 10000
     },
     "inputWidgets": {},
     "nuid": "0eb5be4c-c2ac-42eb-b541-79f99ca6d3ac",
     "showTitle": false,
     "tableResultSettingsMap": {},
     "title": ""
    }
   },
   "outputs": [],
   "source": [
    "df.filter(F.col('TAIL_NUM').isNull()).count()"
   ]
  },
  {
   "cell_type": "code",
   "execution_count": 0,
   "metadata": {
    "application/vnd.databricks.v1+cell": {
     "cellMetadata": {
      "byteLimit": 2048000,
      "rowLimit": 10000
     },
     "inputWidgets": {},
     "nuid": "5a2b8b65-24e8-453c-9711-6cedd55012ec",
     "showTitle": false,
     "tableResultSettingsMap": {},
     "title": ""
    }
   },
   "outputs": [],
   "source": [
    "display(df_.filter(F.col('origin_station_lat').isNull()))"
   ]
  },
  {
   "cell_type": "code",
   "execution_count": 0,
   "metadata": {
    "application/vnd.databricks.v1+cell": {
     "cellMetadata": {
      "byteLimit": 2048000,
      "rowLimit": 10000
     },
     "inputWidgets": {},
     "nuid": "a9375110-b551-424e-a29a-87257dfc21b2",
     "showTitle": false,
     "tableResultSettingsMap": {},
     "title": ""
    }
   },
   "outputs": [],
   "source": [
    "display(df.filter(F.col('origin_airport_name')=='EGLIN AFB AIRPORT').agg(F.avg(\"DEP_DELAY\")))"
   ]
  },
  {
   "cell_type": "code",
   "execution_count": 0,
   "metadata": {
    "application/vnd.databricks.v1+cell": {
     "cellMetadata": {
      "byteLimit": 2048000,
      "rowLimit": 10000
     },
     "inputWidgets": {},
     "nuid": "332ad784-b9ec-4e1d-bbbe-4dda72f9bea5",
     "showTitle": false,
     "tableResultSettingsMap": {},
     "title": ""
    }
   },
   "outputs": [],
   "source": [
    "df"
   ]
  },
  {
   "cell_type": "code",
   "execution_count": 0,
   "metadata": {
    "application/vnd.databricks.v1+cell": {
     "cellMetadata": {
      "byteLimit": 2048000,
      "rowLimit": 10000
     },
     "inputWidgets": {},
     "nuid": "7d4b5062-defe-4bcb-a497-f002b082aa54",
     "showTitle": false,
     "tableResultSettingsMap": {},
     "title": ""
    }
   },
   "outputs": [],
   "source": [
    "display(df_.filter(F.col('origin_airport_name')=='EGLIN AFB AIRPORT').orderBy(F.col('DEP_DELAY').desc()))"
   ]
  },
  {
   "cell_type": "code",
   "execution_count": 0,
   "metadata": {
    "application/vnd.databricks.v1+cell": {
     "cellMetadata": {},
     "inputWidgets": {},
     "nuid": "7766c317-e20f-4234-addc-ea0a28d76d19",
     "showTitle": false,
     "tableResultSettingsMap": {},
     "title": ""
    }
   },
   "outputs": [],
   "source": []
  },
  {
   "cell_type": "code",
   "execution_count": 0,
   "metadata": {
    "application/vnd.databricks.v1+cell": {
     "cellMetadata": {
      "byteLimit": 2048000,
      "rowLimit": 10000
     },
     "inputWidgets": {},
     "nuid": "b6ec48fe-5cb9-4dcc-a991-92fe1388f878",
     "showTitle": false,
     "tableResultSettingsMap": {},
     "title": ""
    }
   },
   "outputs": [],
   "source": [
    "display(df.groupBy('origin_type').agg(\n",
    "   F.avg(\"DEP_DELAY\").alias(\"AVG_DEP_DELAY\")\n",
    ").orderBy(\"AVG_DEP_DELAY\", ascending=False))"
   ]
  },
  {
   "cell_type": "code",
   "execution_count": 0,
   "metadata": {
    "application/vnd.databricks.v1+cell": {
     "cellMetadata": {
      "byteLimit": 2048000,
      "rowLimit": 10000
     },
     "inputWidgets": {},
     "nuid": "05000551-1d2c-4ede-9a04-b816ff9f55cc",
     "showTitle": false,
     "tableResultSettingsMap": {},
     "title": ""
    }
   },
   "outputs": [],
   "source": [
    "# add visibility at previous airport\n",
    "\n",
    "df=df.withColumn(\n",
    "    \"prior_origin_visibility\",\n",
    "    F.lag(\"origin_HourlyVisibility\").over(\n",
    "        Window.partitionBy(\"TAIL_NUM\")\n",
    "              .orderBy(\"sched_depart_utc\")\n",
    "    )\n",
    ")\n",
    "\n",
    "df=df.withColumn(\n",
    "    \"prior_origin_precipitation\",\n",
    "    F.lag(\"origin_HourlyPrecipitation\").over(\n",
    "        Window.partitionBy(\"TAIL_NUM\")\n",
    "              .orderBy(\"sched_depart_utc\")\n",
    "    )\n",
    ")"
   ]
  },
  {
   "cell_type": "code",
   "execution_count": 0,
   "metadata": {
    "application/vnd.databricks.v1+cell": {
     "cellMetadata": {
      "byteLimit": 2048000,
      "rowLimit": 10000
     },
     "inputWidgets": {},
     "nuid": "8124e72d-7fa0-4af6-8a79-de1621455ad3",
     "showTitle": false,
     "tableResultSettingsMap": {},
     "title": ""
    }
   },
   "outputs": [],
   "source": [
    "display(df) #sanity check"
   ]
  },
  {
   "cell_type": "code",
   "execution_count": 0,
   "metadata": {
    "application/vnd.databricks.v1+cell": {
     "cellMetadata": {
      "byteLimit": 2048000,
      "rowLimit": 10000
     },
     "inputWidgets": {},
     "nuid": "4f9ef17f-2ccf-4cca-b685-a5d9daef39ab",
     "showTitle": false,
     "tableResultSettingsMap": {},
     "title": ""
    }
   },
   "outputs": [],
   "source": [
    "\n",
    "\n",
    "# Select relevant columns and convert to pandas\n",
    "cols = [\"origin_HourlyDryBulbTemperature\", \"origin_HourlyWetBulbTemperature\", \"origin_HourlyWindSpeed\", \"origin_HourlyPrecipitation\", \"origin_HourlyVisibility\", \"origin_HourlyWindGustSpeed\",\"prior_origin_visibility\",\"prior_origin_precipitation\"]\n",
    "heatmap_df = df.select(cols + [\"outcome\"]).toPandas()\n",
    "\n",
    "# Compute correlation matrix\n",
    "corr_matrix = heatmap_df.corr('spearman')\n",
    "mask = np.triu(np.ones_like(corr_matrix, dtype=bool)) #lower triangle only\n",
    "\n",
    "# Plot heatmap\n",
    "plt.figure(figsize=(8, 6))\n",
    "sns.heatmap(corr_matrix, mask=mask, annot=True, cmap=\"coolwarm\", vmin=-1, vmax=1)\n",
    "plt.title(\"Correlation Heatmap\")\n",
    "plt.show()"
   ]
  },
  {
   "cell_type": "code",
   "execution_count": 0,
   "metadata": {
    "application/vnd.databricks.v1+cell": {
     "cellMetadata": {
      "byteLimit": 2048000,
      "rowLimit": 10000
     },
     "inputWidgets": {},
     "nuid": "ba5cd1d1-ebc8-4133-83c9-4d2ad4dce63b",
     "showTitle": false,
     "tableResultSettingsMap": {},
     "title": ""
    }
   },
   "outputs": [],
   "source": []
  },
  {
   "cell_type": "code",
   "execution_count": 0,
   "metadata": {
    "application/vnd.databricks.v1+cell": {
     "cellMetadata": {
      "byteLimit": 2048000,
      "rowLimit": 10000
     },
     "inputWidgets": {},
     "nuid": "46e4c1a1-38af-4ebc-8935-fdc66872766a",
     "showTitle": false,
     "tableResultSettingsMap": {},
     "title": ""
    }
   },
   "outputs": [],
   "source": [
    "df.columns"
   ]
  },
  {
   "cell_type": "code",
   "execution_count": 0,
   "metadata": {
    "application/vnd.databricks.v1+cell": {
     "cellMetadata": {
      "byteLimit": 2048000,
      "rowLimit": 10000
     },
     "inputWidgets": {},
     "nuid": "77645ad6-8abd-4398-aa55-00bede28f298",
     "showTitle": false,
     "tableResultSettingsMap": {},
     "title": ""
    }
   },
   "outputs": [],
   "source": [
    "# Select relevant columns and convert to pandas\n",
    "cols = [\"priorflight_depdelay_final\",\"priorflight_crs_elapsed_time\", \"priorflight_distance\", \"priorflight_isdelayed\", \"priorflight_arrived\"]\n",
    "flights_heatmap = df.select(cols + [\"outcome\"]).toPandas()\n",
    "\n",
    "# Compute correlation matrix\n",
    "corr_matrix = flights_heatmap.corr('spearman')\n",
    "mask = np.triu(np.ones_like(corr_matrix, dtype=bool)) #lower triangle only\n",
    "\n",
    "\n",
    "# Plot heatmap\n",
    "plt.figure(figsize=(8, 6))\n",
    "sns.heatmap(corr_matrix, mask=mask, annot=True, cmap=\"coolwarm\", vmin=-1, vmax=1, \n",
    "            xticklabels=[\"Prior Flight Dep Delay\", \"Prior Flight CRS Elapsed Time\", \"Prior Flight Distance\", \"Prior Flight Is Delayed\", \"Prior Flight Arrived\", \"Dep Delay\"],\n",
    "            yticklabels=[\"Prior Flight Dep Delay\", \"Prior Flight CRS Elapsed Time\", \"Prior Flight Distance\", \"Prior Flight Is Delayed\", \"Prior Flight Arrived\", \"Dep Delay\"])\n",
    "plt.title(\"Correlation Heatmap\")\n",
    "plt.xticks(rotation=75)\n",
    "plt.show()"
   ]
  },
  {
   "cell_type": "markdown",
   "metadata": {
    "application/vnd.databricks.v1+cell": {
     "cellMetadata": {},
     "inputWidgets": {},
     "nuid": "b129e05b-962a-4d36-87e6-410be2350bd7",
     "showTitle": false,
     "tableResultSettingsMap": {},
     "title": ""
    }
   },
   "source": [
    "## Maps"
   ]
  },
  {
   "cell_type": "code",
   "execution_count": 0,
   "metadata": {
    "application/vnd.databricks.v1+cell": {
     "cellMetadata": {
      "byteLimit": 2048000,
      "rowLimit": 10000
     },
     "collapsed": true,
     "inputWidgets": {},
     "nuid": "6bc12c4e-dccc-4405-836b-823afda34405",
     "showTitle": false,
     "tableResultSettingsMap": {},
     "title": ""
    }
   },
   "outputs": [],
   "source": [
    "!pip install python-geohash\n",
    "!pip install geopandas"
   ]
  },
  {
   "cell_type": "code",
   "execution_count": 0,
   "metadata": {
    "application/vnd.databricks.v1+cell": {
     "cellMetadata": {
      "byteLimit": 2048000,
      "rowLimit": 10000
     },
     "inputWidgets": {},
     "nuid": "3becc3e1-0951-4bc0-a91a-e0d8a358b3ff",
     "showTitle": false,
     "tableResultSettingsMap": {},
     "title": ""
    }
   },
   "outputs": [],
   "source": [
    "import plotly.express as px\n",
    "import plotly.graph_objects as go\n",
    "import geohash\n",
    "import geopandas as gpd\n",
    "from shapely.geometry import Polygon\n",
    "import json"
   ]
  },
  {
   "cell_type": "markdown",
   "metadata": {
    "application/vnd.databricks.v1+cell": {
     "cellMetadata": {},
     "inputWidgets": {},
     "nuid": "12ccbd8e-6073-4e95-befb-1e7147521310",
     "showTitle": false,
     "tableResultSettingsMap": {},
     "title": ""
    }
   },
   "source": [
    "### by geohash"
   ]
  },
  {
   "cell_type": "code",
   "execution_count": 0,
   "metadata": {
    "application/vnd.databricks.v1+cell": {
     "cellMetadata": {
      "byteLimit": 2048000,
      "rowLimit": 10000
     },
     "inputWidgets": {},
     "nuid": "44e1a6c5-0f27-4271-b7bd-8e493ffc6bd0",
     "showTitle": false,
     "tableResultSettingsMap": {},
     "title": ""
    }
   },
   "outputs": [],
   "source": [
    "ghdf=df.groupBy('geohash').agg(F.avg('DEP_DELAY').alias('AVG_DELAY')).toPandas()\n",
    "ghdf.dropna(subset=['geohash'],inplace=True)"
   ]
  },
  {
   "cell_type": "code",
   "execution_count": 0,
   "metadata": {
    "application/vnd.databricks.v1+cell": {
     "cellMetadata": {
      "byteLimit": 2048000,
      "rowLimit": 10000
     },
     "inputWidgets": {},
     "nuid": "de9484b2-5c2a-4a17-8290-aca645adecda",
     "showTitle": false,
     "tableResultSettingsMap": {},
     "title": ""
    }
   },
   "outputs": [],
   "source": [
    "def geohash_to_polygon(gh):\n",
    "    bbox = geohash.bbox(gh)  # Get bounding box for the geohash\n",
    "    return Polygon([\n",
    "        (bbox['w'], bbox['s']),  # Southwest corner\n",
    "        (bbox['e'], bbox['s']),  # Southeast corner\n",
    "        (bbox['e'], bbox['n']),  # Northeast corner\n",
    "        (bbox['w'], bbox['n']),  # Northwest corner\n",
    "        (bbox['w'], bbox['s'])   # Close the polygon\n",
    "    ])\n",
    "\n",
    "# Convert your DataFrame into a GeoDataFrame with polygons\n",
    "ghdf[\"geometry\"] = ghdf[\"geohash\"].apply(geohash_to_polygon)\n",
    "gdf = gpd.GeoDataFrame(ghdf, geometry=\"geometry\")\n",
    "gdf.set_crs(epsg=4326, inplace=True)"
   ]
  },
  {
   "cell_type": "code",
   "execution_count": 0,
   "metadata": {
    "application/vnd.databricks.v1+cell": {
     "cellMetadata": {
      "byteLimit": 2048000,
      "rowLimit": 10000
     },
     "inputWidgets": {},
     "nuid": "d631a9d1-f500-4a39-8239-c61e573227aa",
     "showTitle": false,
     "tableResultSettingsMap": {},
     "title": ""
    }
   },
   "outputs": [],
   "source": [
    "geojson = json.loads(gdf.set_index('geohash').to_json())  # Set geohash as index first"
   ]
  },
  {
   "cell_type": "code",
   "execution_count": 0,
   "metadata": {
    "application/vnd.databricks.v1+cell": {
     "cellMetadata": {
      "byteLimit": 2048000,
      "rowLimit": 10000
     },
     "collapsed": true,
     "inputWidgets": {},
     "nuid": "b6a4e5d9-1095-4f04-b719-a79eaad20533",
     "showTitle": false,
     "tableResultSettingsMap": {},
     "title": ""
    }
   },
   "outputs": [],
   "source": [
    "fig = px.choropleth_mapbox(\n",
    "    ghdf,\n",
    "    geojson=geojson,\n",
    "    locations='geohash',  # Matches GeoJSON feature IDs\n",
    "    color='AVG_DELAY',\n",
    "    color_continuous_scale=\"YlOrRd\",\n",
    "    range_color=(gdf['AVG_DELAY'].min(), gdf['AVG_DELAY'].max()),\n",
    "    mapbox_style=\"open-street-map\",\n",
    "    zoom=3,\n",
    "    center={\"lat\": 37.6, \"lon\": -95.6},  # Center on US\n",
    "    opacity=0.3,\n",
    "    labels={'AVG_DELAY': 'Avg Delay (minutes)'}\n",
    ")\n",
    "\n",
    "fig.update_traces(marker_line_width=0)\n",
    "\n",
    "# Customize layout\n",
    "fig.update_layout(\n",
    "    margin={\"r\":20,\"t\":40,\"l\":20,\"b\":20},\n",
    "    coloraxis_colorbar={\n",
    "        'title': 'Delay',\n",
    "        'thickness': 20,\n",
    "        'len': 0.5\n",
    "    }\n",
    ")\n",
    "\n",
    "fig.show()"
   ]
  },
  {
   "cell_type": "markdown",
   "metadata": {
    "application/vnd.databricks.v1+cell": {
     "cellMetadata": {},
     "inputWidgets": {},
     "nuid": "eecdac28-17ef-4a10-841a-517b28b5085e",
     "showTitle": false,
     "tableResultSettingsMap": {},
     "title": ""
    }
   },
   "source": [
    "### by origin airport"
   ]
  },
  {
   "cell_type": "code",
   "execution_count": 0,
   "metadata": {
    "application/vnd.databricks.v1+cell": {
     "cellMetadata": {
      "byteLimit": 2048000,
      "rowLimit": 10000
     },
     "inputWidgets": {},
     "nuid": "0bc67ab2-650a-4930-8e77-c4d3d2768cf5",
     "showTitle": false,
     "tableResultSettingsMap": {},
     "title": ""
    }
   },
   "outputs": [],
   "source": [
    "adf=df.groupBy('origin_airport_name').agg(F.avg('DEP_DELAY').alias('AVG_DELAY')).filter(F.col('AVG_DELAY')>=0).join(df.select('origin_airport_name','origin_airport_lat','origin_airport_lon'),on='origin_airport_name',how='left_outer').toPandas()"
   ]
  },
  {
   "cell_type": "code",
   "execution_count": 0,
   "metadata": {
    "application/vnd.databricks.v1+cell": {
     "cellMetadata": {
      "byteLimit": 2048000,
      "rowLimit": 10000
     },
     "inputWidgets": {},
     "nuid": "0e06c307-f386-4b56-beda-f0c5e55a4f58",
     "showTitle": false,
     "tableResultSettingsMap": {},
     "title": ""
    }
   },
   "outputs": [],
   "source": [
    "adf=adf[adf['AVG_DELAY']>=0].drop_duplicates(subset=['origin_airport_name'])\n",
    "adf_=df.groupBy('origin_airport_name').count().select('origin_airport_name','count').distinct().toPandas()\n",
    "adf=pd.merge(adf,adf_,on='origin_airport_name',how='left')"
   ]
  },
  {
   "cell_type": "code",
   "execution_count": 0,
   "metadata": {
    "application/vnd.databricks.v1+cell": {
     "cellMetadata": {
      "byteLimit": 2048000,
      "rowLimit": 10000
     },
     "inputWidgets": {},
     "nuid": "63d6edac-ea6c-47b5-a7e4-46ef44abf48d",
     "showTitle": false,
     "tableResultSettingsMap": {},
     "title": ""
    }
   },
   "outputs": [],
   "source": [
    "fig = go.Figure()\n",
    "\n",
    "fig.add_trace(go.Scattergeo(\n",
    "    locationmode='USA-states',       # Use USA state locations\n",
    "    lon=adf['origin_airport_lon'],          # Longitude of airports\n",
    "    lat=adf['origin_airport_lat'],          # Latitude of airports\n",
    "    text=adf['origin_airport_name'] + '<br>Avg Delay: ' + adf['AVG_DELAY'].astype(str) + ' mins',\n",
    "    marker=dict(\n",
    "        size=adf['count'].apply(lambda x: x/adf['count'].sum())*500,  # Marker size based on relative # flights at that airport\n",
    "        sizemin=2, #otherwise we can't see the alaska ones\n",
    "        color=adf['AVG_DELAY'], # Marker color based on avg delay\n",
    "        colorscale='YlOrRd', \n",
    "        cmin=adf['AVG_DELAY'].min(),\n",
    "        cmax=adf['AVG_DELAY'].max(),\n",
    "        colorbar=dict(\n",
    "            title=\"Avg Delay (mins)\"\n",
    "        ),\n",
    "        opacity=0.8,\n",
    "        line=dict(width=.3)  # border to help visibility as well\n",
    "    )\n",
    "))\n",
    "\n",
    "# Update layout for better visualization\n",
    "fig.update_layout(\n",
    "    title='Average Flight Delays by Airport',\n",
    "    geo=dict(\n",
    "        showland=True,\n",
    "        landcolor=\"teal\",\n",
    "        subunitwidth=1,\n",
    "        countrywidth=1,\n",
    "        countrycolor=\"white\",\n",
    "        showlakes=False,\n",
    "        bgcolor=\"lightblue\",  # Set map background color to blue\n",
    "        subunitcolor=\"white\"  # Draw state borders\n",
    "    ),\n",
    "    margin={\"r\":0,\"t\":50,\"l\":0,\"b\":0}\n",
    ")\n",
    "\n",
    "fig.show()"
   ]
  },
  {
   "cell_type": "markdown",
   "metadata": {
    "application/vnd.databricks.v1+cell": {
     "cellMetadata": {},
     "inputWidgets": {},
     "nuid": "5a2d46e2-6ad0-4e28-b849-b27a7b4038fa",
     "showTitle": false,
     "tableResultSettingsMap": {},
     "title": ""
    }
   },
   "source": [
    "### by previous airport"
   ]
  },
  {
   "cell_type": "code",
   "execution_count": 0,
   "metadata": {
    "application/vnd.databricks.v1+cell": {
     "cellMetadata": {
      "byteLimit": 2048000,
      "rowLimit": 10000
     },
     "inputWidgets": {},
     "nuid": "8dd1c1ac-005f-4342-8592-ced384d941e4",
     "showTitle": false,
     "tableResultSettingsMap": {},
     "title": ""
    }
   },
   "outputs": [],
   "source": [
    "pdf=df.groupBy('priorflight_origin').agg(F.avg('DEP_DELAY').alias('AVG_DEP_DELAY')).filter(F.col('AVG_DEP_DELAY')>=0)\n",
    "pdf=pdf.toPandas().drop_duplicates(subset=['priorflight_origin'])\n"
   ]
  },
  {
   "cell_type": "code",
   "execution_count": 0,
   "metadata": {
    "application/vnd.databricks.v1+cell": {
     "cellMetadata": {
      "byteLimit": 2048000,
      "rowLimit": 10000
     },
     "inputWidgets": {},
     "nuid": "fccd427d-7c72-4f93-8a97-04697833ddd9",
     "showTitle": false,
     "tableResultSettingsMap": {},
     "title": ""
    }
   },
   "outputs": [],
   "source": [
    "priors=df.select('priorflight_origin').distinct().withColumnRenamed('priorflight_origin', 'origin').join(df.select('origin', 'origin_airport_lat', 'origin_airport_lon'),on='origin',how='left')\n"
   ]
  },
  {
   "cell_type": "code",
   "execution_count": 0,
   "metadata": {
    "application/vnd.databricks.v1+cell": {
     "cellMetadata": {
      "byteLimit": 2048000,
      "rowLimit": 10000
     },
     "inputWidgets": {},
     "nuid": "aa9a230b-a400-4236-a231-a2e400514270",
     "showTitle": false,
     "tableResultSettingsMap": {},
     "title": ""
    }
   },
   "outputs": [],
   "source": [
    "priors=priors.drop_duplicates(subset=['origin']).toPandas()"
   ]
  },
  {
   "cell_type": "code",
   "execution_count": 0,
   "metadata": {
    "application/vnd.databricks.v1+cell": {
     "cellMetadata": {
      "byteLimit": 2048000,
      "rowLimit": 10000
     },
     "inputWidgets": {},
     "nuid": "f3d0c604-543e-4c48-a504-9652b15d10f2",
     "showTitle": false,
     "tableResultSettingsMap": {},
     "title": ""
    }
   },
   "outputs": [],
   "source": [
    "pdf=pd.merge(pdf, priors, left_on='priorflight_origin', right_on='origin', how='left')"
   ]
  },
  {
   "cell_type": "code",
   "execution_count": 0,
   "metadata": {
    "application/vnd.databricks.v1+cell": {
     "cellMetadata": {
      "byteLimit": 2048000,
      "rowLimit": 10000
     },
     "inputWidgets": {},
     "nuid": "9aff079f-1d10-45ac-a055-e15afa88f902",
     "showTitle": false,
     "tableResultSettingsMap": {},
     "title": ""
    }
   },
   "outputs": [],
   "source": [
    "pdf_=df.groupBy('priorflight_origin').count().select('priorflight_origin','count').distinct().toPandas()\n",
    "pdf=pd.merge(pdf,pdf_,on='priorflight_origin',how='left')"
   ]
  },
  {
   "cell_type": "code",
   "execution_count": 0,
   "metadata": {
    "application/vnd.databricks.v1+cell": {
     "cellMetadata": {
      "byteLimit": 2048000,
      "rowLimit": 10000
     },
     "inputWidgets": {},
     "nuid": "87a74287-1048-4eae-b848-3069241478a7",
     "showTitle": false,
     "tableResultSettingsMap": {},
     "title": ""
    }
   },
   "outputs": [],
   "source": [
    "fig = go.Figure()\n",
    "\n",
    "fig.add_trace(go.Scattergeo(\n",
    "    locationmode='USA-states',       # Use USA state locations\n",
    "    lon=pdf['origin_airport_lon'],          # Longitude of airports\n",
    "    lat=pdf['origin_airport_lat'],          # Latitude of airports\n",
    "    text=pdf['priorflight_origin'] + '<br>Avg Delay: ' + pdf['AVG_DEP_DELAY'].astype(str) + ' mins',\n",
    "    marker=dict(\n",
    "        size=pdf['count'].apply(lambda x: x/pdf['count'].sum())*500,  # Marker size based on relative # flights at that airport\n",
    "        sizemin=2, #otherwise we can't see the alaska ones\n",
    "        color=pdf['AVG_DEP_DELAY'], # Marker color based on avg delay\n",
    "        colorscale='YlOrRd', \n",
    "        cmin=pdf['AVG_DEP_DELAY'].min(),\n",
    "        cmax=pdf['AVG_DEP_DELAY'].max(),\n",
    "        colorbar=dict(\n",
    "            title=\"Avg Delay (mins)\"\n",
    "        ),\n",
    "        opacity=0.8,\n",
    "        line=dict(width=.3)  # border to help visibility as well\n",
    "    )\n",
    "))\n",
    "\n",
    "# Update layout for better visualization\n",
    "fig.update_layout(\n",
    "    title='Average Flight Delays by Airport',\n",
    "    geo=dict(\n",
    "        showland=True,\n",
    "        landcolor=\"teal\",\n",
    "        subunitwidth=1,\n",
    "        countrywidth=1,\n",
    "        countrycolor=\"white\",\n",
    "        showlakes=False,\n",
    "        bgcolor=\"lightblue\",  # Set map background color to blue\n",
    "        subunitcolor=\"white\"  # Draw state borders\n",
    "    ),\n",
    "    margin={\"r\":0,\"t\":50,\"l\":0,\"b\":0}\n",
    ")\n",
    "\n",
    "fig.show()"
   ]
  },
  {
   "cell_type": "code",
   "execution_count": 0,
   "metadata": {
    "application/vnd.databricks.v1+cell": {
     "cellMetadata": {
      "byteLimit": 2048000,
      "rowLimit": 10000
     },
     "inputWidgets": {},
     "nuid": "68908a6e-799b-4c64-bec5-e72acc585af4",
     "showTitle": false,
     "tableResultSettingsMap": {},
     "title": ""
    }
   },
   "outputs": [],
   "source": [
    "import plotly.graph_objects as go\n",
    "\n",
    "# Create the figure\n",
    "fig = go.Figure()\n",
    "\n",
    "# Trace 1: Arriving From\n",
    "fig.add_trace(go.Scattergeo(\n",
    "    locationmode='USA-states',\n",
    "    lon=pdf['origin_airport_lon'],\n",
    "    lat=pdf['origin_airport_lat'],\n",
    "    text=pdf['priorflight_origin'] + '<br>Avg Delay: ' + pdf['AVG_DEP_DELAY'].astype(str) + ' mins',\n",
    "    marker=dict(\n",
    "        size=pdf['count'].apply(lambda x: x / pdf['count'].sum()) * 500,\n",
    "        sizemin=2,\n",
    "        color=pdf['AVG_DEP_DELAY'],\n",
    "        colorscale='YlOrRd',\n",
    "        cmin=pdf['AVG_DEP_DELAY'].min(),\n",
    "        cmax=pdf['AVG_DEP_DELAY'].max(),\n",
    "        colorbar=dict(\n",
    "            title=\"Arrival Delay (mins)\",\n",
    "            x=0.85,  # Positioned to the left of Departure colorbar\n",
    "            y=0.5,\n",
    "            len=0.4\n",
    "        ),\n",
    "        opacity=0.3,\n",
    "        line=dict(width=0.3)\n",
    "    ),\n",
    "    name=\"Arriving From\"\n",
    "))\n",
    "\n",
    "# Trace 2: Departing Delayed From\n",
    "fig.add_trace(go.Scattergeo(\n",
    "    locationmode='USA-states',\n",
    "    lon=adf['origin_airport_lon'],\n",
    "    lat=adf['origin_airport_lat'],\n",
    "    text=adf['origin_airport_name'] + '<br>Avg Delay: ' + adf['AVG_DELAY'].astype(str) + ' mins',\n",
    "    marker=dict(\n",
    "        size=adf['count'].apply(lambda x: x / adf['count'].sum()) * 500,\n",
    "        sizemin=2,\n",
    "        color=adf['AVG_DELAY'],\n",
    "        colorscale='Viridis',\n",
    "        cmin=adf['AVG_DELAY'].min(),\n",
    "        cmax=adf['AVG_DELAY'].max(),\n",
    "        colorbar=dict(\n",
    "            title=\"Departure Delay (mins)\",\n",
    "            x=1.0,  # Positioned to the right of Arrival colorbar\n",
    "            y=0.5,\n",
    "            len=0.4\n",
    "        ),\n",
    "        opacity=0.3,\n",
    "        line=dict(width=0.3)\n",
    "    ),\n",
    "    name=\"Departing Delayed From\"\n",
    "))\n",
    "\n",
    "# Update layout with margin adjustments\n",
    "fig.update_layout(\n",
    "    title='Average Flight Delays by Airport (Arriving vs Departing)',\n",
    "    geo=dict(\n",
    "        showland=True,\n",
    "        landcolor=\"teal\",\n",
    "        subunitcolor=\"white\",\n",
    "        bgcolor=\"lightblue\"\n",
    "    ),\n",
    "    margin={\"r\":150,\"t\":50,\"l\":0,\"b\":0}  # Increased right margin for colorbars\n",
    ")\n"
   ]
  },
  {
   "cell_type": "markdown",
   "metadata": {
    "application/vnd.databricks.v1+cell": {
     "cellMetadata": {},
     "inputWidgets": {},
     "nuid": "c6cfed06-5f06-44a6-89c3-a54903aa12fa",
     "showTitle": false,
     "tableResultSettingsMap": {},
     "title": ""
    }
   },
   "source": []
  },
  {
   "cell_type": "markdown",
   "metadata": {
    "application/vnd.databricks.v1+cell": {
     "cellMetadata": {},
     "inputWidgets": {},
     "nuid": "638e1f95-e882-47d4-89bc-047adacd4cd5",
     "showTitle": false,
     "tableResultSettingsMap": {},
     "title": ""
    }
   },
   "source": [
    "# Duplicates"
   ]
  },
  {
   "cell_type": "code",
   "execution_count": 0,
   "metadata": {
    "application/vnd.databricks.v1+cell": {
     "cellMetadata": {
      "byteLimit": 2048000,
      "rowLimit": 10000
     },
     "inputWidgets": {},
     "nuid": "c949355b-2b8c-49f8-8244-7d3d76dc86ac",
     "showTitle": false,
     "tableResultSettingsMap": {},
     "title": ""
    }
   },
   "outputs": [],
   "source": [
    "df=spark.read.parquet(\"dbfs:/student-groups/Group_4_1/interim/join_checkpoints/joined_1y_weather_cleaned_combo_pfd.parquet\")"
   ]
  },
  {
   "cell_type": "code",
   "execution_count": 0,
   "metadata": {
    "application/vnd.databricks.v1+cell": {
     "cellMetadata": {
      "byteLimit": 2048000,
      "rowLimit": 10000
     },
     "inputWidgets": {},
     "nuid": "704e439e-542b-4ab4-9300-236a34788b99",
     "showTitle": false,
     "tableResultSettingsMap": {},
     "title": ""
    }
   },
   "outputs": [],
   "source": [
    "dups=df.groupBy('sched_depart_utc','TAIL_NUM').count().filter(F.col('count')>1)"
   ]
  },
  {
   "cell_type": "code",
   "execution_count": 0,
   "metadata": {
    "application/vnd.databricks.v1+cell": {
     "cellMetadata": {
      "byteLimit": 2048000,
      "rowLimit": 10000
     },
     "inputWidgets": {},
     "nuid": "90530804-db5f-4815-b004-eface38f5ea7",
     "showTitle": false,
     "tableResultSettingsMap": {},
     "title": ""
    }
   },
   "outputs": [],
   "source": [
    "display(dups.filter(F.col('TAIL_NUM').isNotNull()))"
   ]
  },
  {
   "cell_type": "code",
   "execution_count": 0,
   "metadata": {
    "application/vnd.databricks.v1+cell": {
     "cellMetadata": {
      "byteLimit": 2048000,
      "rowLimit": 10000
     },
     "inputWidgets": {},
     "nuid": "4a65ea6e-1ca8-4891-a917-24ec23135b80",
     "showTitle": false,
     "tableResultSettingsMap": {},
     "title": ""
    }
   },
   "outputs": [],
   "source": [
    "dups_info=dups.join(df,on=['sched_depart_utc','TAIL_NUM'], how='left')"
   ]
  },
  {
   "cell_type": "code",
   "execution_count": 0,
   "metadata": {
    "application/vnd.databricks.v1+cell": {
     "cellMetadata": {
      "byteLimit": 2048000,
      "rowLimit": 10000
     },
     "inputWidgets": {},
     "nuid": "b2549b86-57ba-432b-a564-09d6e4fb2882",
     "showTitle": false,
     "tableResultSettingsMap": {},
     "title": ""
    }
   },
   "outputs": [],
   "source": [
    "dups_info.checkpoint()"
   ]
  },
  {
   "cell_type": "code",
   "execution_count": 0,
   "metadata": {
    "application/vnd.databricks.v1+cell": {
     "cellMetadata": {
      "byteLimit": 2048000,
      "rowLimit": 10000
     },
     "inputWidgets": {},
     "nuid": "166b0fda-ac27-48aa-9f0b-0df4d5f43af7",
     "showTitle": false,
     "tableResultSettingsMap": {
      "0": {
       "filterBlob": "{\"filterGroups\":[{\"enabled\":true,\"filterGroupId\":\"fg_ba2486e8\",\"op\":\"OR\",\"filters\":[{\"filterId\":\"f_620d0099\",\"enabled\":true,\"columnId\":\"TAIL_NUM\",\"dataType\":\"string\",\"filterType\":\"nulln\"}],\"local\":false,\"updatedAt\":1743623438796}],\"syncTimestamp\":1743623438796}",
       "tableResultIndex": 0
      }
     },
     "title": ""
    }
   },
   "outputs": [],
   "source": [
    "display(dups_info.filter(F.col('TAIL_NUM').isNotNull()).orderBy('TAIL_NUM','sched_depart_utc'))"
   ]
  },
  {
   "cell_type": "code",
   "execution_count": 0,
   "metadata": {
    "application/vnd.databricks.v1+cell": {
     "cellMetadata": {
      "byteLimit": 2048000,
      "rowLimit": 10000
     },
     "inputWidgets": {},
     "nuid": "966befd6-f786-48a5-886a-c5521f998882",
     "showTitle": false,
     "tableResultSettingsMap": {},
     "title": ""
    }
   },
   "outputs": [],
   "source": [
    "display(dups_info.orderBy('sched_depart_utc','TAIL_NUM'))"
   ]
  },
  {
   "cell_type": "code",
   "execution_count": 0,
   "metadata": {
    "application/vnd.databricks.v1+cell": {
     "cellMetadata": {
      "byteLimit": 2048000,
      "rowLimit": 10000
     },
     "inputWidgets": {},
     "nuid": "1e041c44-7862-4952-b0cc-cdc90c00aca4",
     "showTitle": false,
     "tableResultSettingsMap": {},
     "title": ""
    }
   },
   "outputs": [],
   "source": [
    "dups_info.count()"
   ]
  },
  {
   "cell_type": "code",
   "execution_count": 0,
   "metadata": {
    "application/vnd.databricks.v1+cell": {
     "cellMetadata": {
      "byteLimit": 2048000,
      "rowLimit": 10000
     },
     "inputWidgets": {},
     "nuid": "8774e9e9-29d6-4c26-b802-6843254e6874",
     "showTitle": false,
     "tableResultSettingsMap": {},
     "title": ""
    }
   },
   "outputs": [],
   "source": [
    "dups_info.filter(F.col('CANCELLED')==0).filter(F.col('DEP_DELAY').isNull()).count() #they're all either delayed or cancelled flights"
   ]
  },
  {
   "cell_type": "markdown",
   "metadata": {
    "application/vnd.databricks.v1+cell": {
     "cellMetadata": {},
     "inputWidgets": {},
     "nuid": "808f77a8-0cea-493d-8bd1-9eb875c69cad",
     "showTitle": false,
     "tableResultSettingsMap": {},
     "title": ""
    }
   },
   "source": [
    "# Sandbox"
   ]
  },
  {
   "cell_type": "markdown",
   "metadata": {
    "application/vnd.databricks.v1+cell": {
     "cellMetadata": {
      "byteLimit": 2048000,
      "rowLimit": 10000
     },
     "inputWidgets": {},
     "nuid": "f2463f81-3266-40e4-be52-af99016e003a",
     "showTitle": false,
     "tableResultSettingsMap": {},
     "title": ""
    }
   },
   "source": [
    "## Optim - exp smoothing udf"
   ]
  },
  {
   "cell_type": "code",
   "execution_count": 0,
   "metadata": {
    "application/vnd.databricks.v1+cell": {
     "cellMetadata": {
      "byteLimit": 2048000,
      "rowLimit": 10000
     },
     "inputWidgets": {},
     "nuid": "2e3e73f6-67a1-4233-860e-221a795413f8",
     "showTitle": false,
     "tableResultSettingsMap": {},
     "title": ""
    }
   },
   "outputs": [],
   "source": [
    "df_interpolate = df_interpolate.withColumns(\n",
    "    {\"origin_HourlyPrecipitation\": df_interpolate[\"origin_HourlyPrecipitation\"].cast(\"float\"),\n",
    "     \"origin_HourlyWindGustSpeed\": df_interpolate[\"origin_HourlyWindGustSpeed\"].cast(\"float\"),\n",
    "     \"origin_HourlyWindSpeed\": df_interpolate[\"origin_HourlyWindSpeed\"].cast(\"float\"),\n",
    "     \"origin_HourlyDewPointTemperature\": df_interpolate[\"origin_HourlyDewPointTemperature\"].cast(\"float\"),\n",
    "     \"origin_HourlyDryBulbTemperature\": df_interpolate[\"origin_HourlyDryBulbTemperature\"].cast(\"float\"),\n",
    "     \"origin_HourlyPressureChange\": df_interpolate[\"origin_HourlyPressureChange\"].cast(\"float\"),\n",
    "     \"origin_HourlyRelativeHumidity\": df_interpolate[\"origin_HourlyRelativeHumidity\"].cast(\"float\"),\n",
    "     \"origin_HourlyWetBulbTemperature\": df_interpolate[\"origin_HourlyWetBulbTemperature\"].cast(\"float\"),\n",
    "     \"origin_HourlyVisibility\": df_interpolate[\"origin_HourlyVisibility\"].cast(\"float\")\n",
    "     \n",
    "     \n",
    "     })"
   ]
  },
  {
   "cell_type": "code",
   "execution_count": 0,
   "metadata": {
    "application/vnd.databricks.v1+cell": {
     "cellMetadata": {
      "byteLimit": 2048000,
      "rowLimit": 10000
     },
     "inputWidgets": {},
     "nuid": "e2a3875e-0316-434a-862e-d01f715948cd",
     "showTitle": false,
     "tableResultSettingsMap": {},
     "title": ""
    }
   },
   "outputs": [],
   "source": [
    "\n",
    "\n",
    "def smooth_column_optimized(\n",
    "    df, \n",
    "    col_name, \n",
    "    station_col=\"origin_STATION\", \n",
    "    dt_col=\"sched_depart_date_time\", \n",
    "    alpha=0.5, \n",
    "    window_size=6\n",
    "):\n",
    "    \"\"\"Applies exponential smoothing using vectorized Pandas UDF\"\"\"\n",
    "    \n",
    "    # 1. Define window to collect past non-null values (per station)\n",
    "    window_spec = Window.partitionBy(station_col) \\\n",
    "                       .orderBy(F.col(dt_col).cast(\"long\")) \\\n",
    "                       .rowsBetween(-window_size, 0)\n",
    "\n",
    "    # 2. Collect non-null values within the window\n",
    "    df = df.withColumn(\n",
    "        f\"non_null_{col_name}\",\n",
    "        F.collect_list(F.col(col_name)).over(window_spec)\n",
    "    )\n",
    "\n",
    "    # 3. Vectorized Pandas UDF for exponential smoothing\n",
    "    \n",
    "    @pandas_udf(DoubleType())\n",
    "    def exponential_smoothing_pandas(values: pd.Series) -> pd.Series:\n",
    "        #if all values are empty,\n",
    "        if values.empty or not pd.api.types.is_numeric_dtype(values):\n",
    "            return pd.Series([0.0] * len(values))\n",
    "        #compute exponential moving average\n",
    "        return values.ewm(alpha=0.5, ignore_na=True).mean()\n",
    "\n",
    "    # 4. Apply smoothing and fill nulls\n",
    "    return (\n",
    "        df.withColumn(f\"smoothed_{col_name}\", exponential_smoothing_pandas(F.col(f\"non_null_{col_name}\")))\n",
    "          .withColumn(col_name, F.coalesce(F.col(col_name), F.col(f\"smoothed_{col_name}\"), F.lit(0.0)))\n",
    "          .drop(f\"non_null_{col_name}\", f\"smoothed_{col_name}\")\n",
    "    )\n"
   ]
  },
  {
   "cell_type": "code",
   "execution_count": 0,
   "metadata": {
    "application/vnd.databricks.v1+cell": {
     "cellMetadata": {
      "byteLimit": 2048000,
      "rowLimit": 10000
     },
     "inputWidgets": {},
     "nuid": "c8eff320-046e-408e-bcd5-9577c478f542",
     "showTitle": false,
     "tableResultSettingsMap": {},
     "title": ""
    }
   },
   "outputs": [],
   "source": [
    "\n",
    "\n",
    "@pandas_udf(DoubleType())\n",
    "def exponential_smoothing_pandas(values: pd.Series) -> pd.Series:\n",
    "    \"\"\"Vectorized UDF for exponential smoothing.\"\"\"\n",
    "    if values.empty or not pd.api.types.is_numeric_dtype(values):\n",
    "        return pd.Series([0.0] * len(values))  # Handle edge cases\n",
    "    return values.ewm(alpha=0.5, ignore_na=True).mean()\n",
    "\n",
    "def smooth_column_optimized(\n",
    "    df, \n",
    "    col_name, \n",
    "    station_col=\"origin_STATION\", \n",
    "    dt_col=\"sched_depart_date_time\", \n",
    "    window_size=6\n",
    "):\n",
    "    \"\"\"Applies exponential smoothing with proper null handling.\"\"\"\n",
    "    \n",
    "    # 1. Cast to numeric type and filter nulls\n",
    "    df = (\n",
    "        df.withColumn(col_name, F.col(col_name).cast(DoubleType()))\n",
    "    )\n",
    "    \n",
    "    # 2. Define window to collect non-null values\n",
    "    window_spec = (\n",
    "        Window.partitionBy(station_col)\n",
    "              .orderBy(F.col(dt_col).cast(\"long\"))\n",
    "              .rowsBetween(-window_size, 0)\n",
    "    )\n",
    "    \n",
    "    # 3. Collect ONLY non-null values within the window\n",
    "    df = df.withColumn(\n",
    "        \"non_null_values\",\n",
    "        F.collect_list(col_name).over(window_spec)\n",
    "    )\n",
    "    \n",
    "    # 4. Apply vectorized UDF and fill nulls\n",
    "    return (\n",
    "        df.withColumn(\"smoothed\", exponential_smoothing_pandas(\"non_null_values\"))\n",
    "          .withColumn(\n",
    "              col_name, \n",
    "              F.coalesce(F.col(col_name), F.col(\"smoothed\"), F.lit(0.0))\n",
    "          )\n",
    "          .drop(\"non_null_values\", \"smoothed\")\n",
    "    )\n"
   ]
  },
  {
   "cell_type": "code",
   "execution_count": 0,
   "metadata": {
    "application/vnd.databricks.v1+cell": {
     "cellMetadata": {
      "byteLimit": 2048000,
      "rowLimit": 10000
     },
     "inputWidgets": {},
     "nuid": "881f167b-016a-4e22-bb4b-cfeeb93f3e3d",
     "showTitle": false,
     "tableResultSettingsMap": {},
     "title": ""
    }
   },
   "outputs": [],
   "source": [
    "df_interpolated=smooth_column_optimized(df_interpolate, 'origin_HourlyWindSpeed')"
   ]
  },
  {
   "cell_type": "code",
   "execution_count": 0,
   "metadata": {
    "application/vnd.databricks.v1+cell": {
     "cellMetadata": {
      "byteLimit": 2048000,
      "rowLimit": 10000
     },
     "inputWidgets": {},
     "nuid": "665ba384-7c44-42dd-81a9-8b77f314c9d2",
     "showTitle": false,
     "tableResultSettingsMap": {},
     "title": ""
    }
   },
   "outputs": [],
   "source": [
    "df.count()"
   ]
  },
  {
   "cell_type": "code",
   "execution_count": 0,
   "metadata": {
    "application/vnd.databricks.v1+cell": {
     "cellMetadata": {
      "byteLimit": 2048000,
      "rowLimit": 10000
     },
     "inputWidgets": {},
     "nuid": "7afeb2f4-de0f-4d19-8dbf-6512ef21a6f8",
     "showTitle": false,
     "tableResultSettingsMap": {},
     "title": ""
    }
   },
   "outputs": [],
   "source": [
    "df_interpolated.filter(F.col('origin_HourlyWindSpeed').isNull()).count()"
   ]
  },
  {
   "cell_type": "code",
   "execution_count": 0,
   "metadata": {
    "application/vnd.databricks.v1+cell": {
     "cellMetadata": {
      "byteLimit": 2048000,
      "rowLimit": 10000
     },
     "inputWidgets": {},
     "nuid": "a009fc87-34d3-41b1-a8c7-62f934b20c8a",
     "showTitle": false,
     "tableResultSettingsMap": {},
     "title": ""
    }
   },
   "outputs": [],
   "source": [
    "df_interpolated.count()"
   ]
  },
  {
   "cell_type": "code",
   "execution_count": 0,
   "metadata": {
    "application/vnd.databricks.v1+cell": {
     "cellMetadata": {
      "byteLimit": 2048000,
      "rowLimit": 10000
     },
     "inputWidgets": {},
     "nuid": "51bf9f07-8632-4e88-9dcd-a1be033517df",
     "showTitle": false,
     "tableResultSettingsMap": {},
     "title": ""
    }
   },
   "outputs": [],
   "source": [
    "columns_to_smooth = ['origin_HourlyDewPointTemperature','origin_HourlyDryBulbTemperature','origin_HourlyPressureChange','origin_HourlyRelativeHumidity','origin_HourlyWetBulbTemperature','origin_HourlyPrecipitation','origin_HourlyWindGustSpeed']\n",
    "\n",
    "for col in columns_to_smooth:\n",
    "    df_interpolated = smooth_column_optimized(df_interpolated, col)\n",
    "\n"
   ]
  },
  {
   "cell_type": "code",
   "execution_count": 0,
   "metadata": {
    "application/vnd.databricks.v1+cell": {
     "cellMetadata": {
      "byteLimit": 2048000,
      "rowLimit": 10000
     },
     "inputWidgets": {},
     "nuid": "d30ec774-303e-44dd-aea7-4d8b44af0dc3",
     "showTitle": false,
     "tableResultSettingsMap": {},
     "title": ""
    }
   },
   "outputs": [],
   "source": [
    "df_interpolated.count()"
   ]
  },
  {
   "cell_type": "code",
   "execution_count": 0,
   "metadata": {
    "application/vnd.databricks.v1+cell": {
     "cellMetadata": {
      "byteLimit": 2048000,
      "rowLimit": 10000
     },
     "inputWidgets": {},
     "nuid": "6b8bb90f-b9f4-4e36-b6d6-a82b30eef913",
     "showTitle": false,
     "tableResultSettingsMap": {},
     "title": ""
    }
   },
   "outputs": [],
   "source": [
    "\n",
    "null_counts = df_interpolated.select(\n",
    "    [count(when(col(c).isNull() | isnan(c), c)).alias(c) for c in columns_to_smooth]\n",
    ")\n",
    "\n",
    "display(null_counts)"
   ]
  },
  {
   "cell_type": "code",
   "execution_count": 0,
   "metadata": {
    "application/vnd.databricks.v1+cell": {
     "cellMetadata": {
      "byteLimit": 2048000,
      "rowLimit": 10000
     },
     "inputWidgets": {},
     "nuid": "aecaa65d-ccbd-4859-bd57-4ad82285bed1",
     "showTitle": false,
     "tableResultSettingsMap": {},
     "title": ""
    }
   },
   "outputs": [],
   "source": [
    "df_interpolated.count()"
   ]
  },
  {
   "cell_type": "code",
   "execution_count": 0,
   "metadata": {
    "application/vnd.databricks.v1+cell": {
     "cellMetadata": {
      "byteLimit": 2048000,
      "rowLimit": 10000
     },
     "inputWidgets": {},
     "nuid": "35ff46ad-fdb7-461d-89af-548fdb76ff05",
     "showTitle": false,
     "tableResultSettingsMap": {},
     "title": ""
    }
   },
   "outputs": [],
   "source": [
    "\n",
    "\n",
    "output_path = \"dbfs:/student-groups/Group_4_1/interim/join_checkpoints/joined_1y_weather_cleaned_test.parquet\"\n",
    "(\n",
    "    df_interpolated.write\n",
    "    .mode(\"overwrite\")\n",
    "    .parquet(output_path)\n",
    ")\n",
    "\n",
    "\n"
   ]
  },
  {
   "cell_type": "code",
   "execution_count": 0,
   "metadata": {
    "application/vnd.databricks.v1+cell": {
     "cellMetadata": {
      "byteLimit": 2048000,
      "rowLimit": 10000
     },
     "inputWidgets": {},
     "nuid": "15bceeeb-a6a0-47a3-9b8a-948bda13e688",
     "showTitle": false,
     "tableResultSettingsMap": {},
     "title": ""
    }
   },
   "outputs": [],
   "source": [
    "test = spark.read.parquet(f\"{team_BASE_DIR}/interim/join_checkpoints/joined_1y_weather_cleaned_test.parquet\")"
   ]
  },
  {
   "cell_type": "code",
   "execution_count": 0,
   "metadata": {
    "application/vnd.databricks.v1+cell": {
     "cellMetadata": {
      "byteLimit": 2048000,
      "rowLimit": 10000
     },
     "inputWidgets": {},
     "nuid": "a527d7cb-bbe8-46bf-8212-b9fc9ef8a156",
     "showTitle": false,
     "tableResultSettingsMap": {},
     "title": ""
    }
   },
   "outputs": [],
   "source": [
    "test.count()"
   ]
  }
 ],
 "metadata": {
  "application/vnd.databricks.v1+notebook": {
   "computePreferences": null,
   "dashboards": [],
   "environmentMetadata": {
    "base_environment": "",
    "environment_version": "2"
   },
   "inputWidgetPreferences": null,
   "language": "python",
   "notebookMetadata": {
    "pythonIndentUnit": 4
   },
   "notebookName": "1.12-sg-joined-v2-cleaning",
   "widgets": {}
  },
  "language_info": {
   "name": "python"
  }
 },
 "nbformat": 4,
 "nbformat_minor": 0
}
