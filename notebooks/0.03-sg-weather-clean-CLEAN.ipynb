{
 "cells": [
  {
   "cell_type": "markdown",
   "metadata": {
    "application/vnd.databricks.v1+cell": {
     "cellMetadata": {},
     "inputWidgets": {},
     "nuid": "cf9ce0b3-0b99-4afa-90fe-c254d24f1cad",
     "showTitle": false,
     "tableResultSettingsMap": {},
     "title": ""
    }
   },
   "source": [
    "# Setup"
   ]
  },
  {
   "cell_type": "code",
   "execution_count": 0,
   "metadata": {
    "application/vnd.databricks.v1+cell": {
     "cellMetadata": {
      "byteLimit": 2048000,
      "rowLimit": 10000
     },
     "inputWidgets": {},
     "nuid": "793e6fb6-9710-4a9d-a4e3-d87254a5252f",
     "showTitle": false,
     "tableResultSettingsMap": {},
     "title": ""
    }
   },
   "outputs": [],
   "source": [
    "!pip install timezonefinder"
   ]
  },
  {
   "cell_type": "code",
   "execution_count": 0,
   "metadata": {
    "application/vnd.databricks.v1+cell": {
     "cellMetadata": {
      "byteLimit": 2048000,
      "rowLimit": 10000
     },
     "inputWidgets": {},
     "nuid": "a5385ee4-3fa9-401b-b6b3-bb507a99129e",
     "showTitle": false,
     "tableResultSettingsMap": {},
     "title": ""
    }
   },
   "outputs": [],
   "source": [
    "import pyspark.sql.functions as F\n",
    "from pyspark.sql.functions import col,isnan, when, count, concat_ws, countDistinct, collect_set, rank, window, avg, hour, udf\n",
    "import matplotlib.pyplot as plt\n",
    "import pandas as pd\n",
    "import re\n",
    "import numpy as np\n",
    "from pyspark.sql import types\n",
    "from pyspark.sql.types import *\n",
    "from pyspark.sql import Window\n",
    "from itertools import combinations\n",
    "from timezonefinder import TimezoneFinder\n",
    "import pytz\n",
    "from datetime import datetime\n",
    "\n",
    "\n",
    "data_BASE_DIR = \"dbfs:/mnt/mids-w261/\"\n",
    "display(dbutils.fs.ls(f\"{data_BASE_DIR}\")) #note the other possible samples we can use like 1 day"
   ]
  },
  {
   "cell_type": "code",
   "execution_count": 0,
   "metadata": {
    "application/vnd.databricks.v1+cell": {
     "cellMetadata": {
      "byteLimit": 2048000,
      "rowLimit": 10000
     },
     "inputWidgets": {},
     "nuid": "8b9251a5-1f6c-4ba9-93a4-c2ddf0b66730",
     "showTitle": false,
     "tableResultSettingsMap": {},
     "title": ""
    }
   },
   "outputs": [],
   "source": [
    "\n",
    "ydf = spark.read.parquet(f\"dbfs:/mnt/mids-w261/datasets_final_project_2022/parquet_weather_data_1y/\")\n",
    "\n",
    "#stations = spark.read.parquet(f\"dbfs:/mnt/mids-w261/datasets_final_project_2022/stations_data/*\")\n"
   ]
  },
  {
   "cell_type": "markdown",
   "metadata": {
    "application/vnd.databricks.v1+cell": {
     "cellMetadata": {},
     "inputWidgets": {},
     "nuid": "70217b5c-cd8c-48c7-9b88-da1ecce78759",
     "showTitle": false,
     "tableResultSettingsMap": {},
     "title": ""
    }
   },
   "source": [
    "# Location Nulls"
   ]
  },
  {
   "cell_type": "code",
   "execution_count": 0,
   "metadata": {
    "application/vnd.databricks.v1+cell": {
     "cellMetadata": {
      "byteLimit": 2048000,
      "rowLimit": 10000
     },
     "inputWidgets": {},
     "nuid": "a45a2512-5668-4d9f-89fe-bd8a17511d69",
     "showTitle": false,
     "tableResultSettingsMap": {},
     "title": ""
    }
   },
   "outputs": [],
   "source": [
    "ydf=ydf.withColumn(\"WBAN\",F.col('STATION').substr(-5, 5))\n",
    "ydf=ydf.withColumn(\"COUNTRY\",F.col('NAME').substr(-2, 2))"
   ]
  },
  {
   "cell_type": "code",
   "execution_count": 0,
   "metadata": {
    "application/vnd.databricks.v1+cell": {
     "cellMetadata": {
      "byteLimit": 2048000,
      "rowLimit": 10000
     },
     "inputWidgets": {},
     "nuid": "f258f115-6a3f-4755-a0c1-3d05c2e8ca79",
     "showTitle": false,
     "tableResultSettingsMap": {},
     "title": ""
    }
   },
   "outputs": [],
   "source": [
    "ydf = ydf.filter(F.col('COUNTRY')=='US')"
   ]
  },
  {
   "cell_type": "code",
   "execution_count": 0,
   "metadata": {
    "application/vnd.databricks.v1+cell": {
     "cellMetadata": {
      "byteLimit": 2048000,
      "rowLimit": 10000
     },
     "inputWidgets": {},
     "nuid": "cc2277b9-8d2f-4b7b-829c-c31adec5dac9",
     "showTitle": false,
     "tableResultSettingsMap": {},
     "title": ""
    }
   },
   "outputs": [],
   "source": [
    "\n",
    "#icao lookup table for extra IDs \n",
    "ICAO_lookup = ydf.filter(F.col('REM').isNotNull()) \\\n",
    "                        .filter(\n",
    "                            (F.col('REM').contains('METAR')) |\n",
    "                            (F.col('REM').contains('SPECI'))\n",
    "                         ) \\\n",
    "                        .withColumn(\"ICAO\", \n",
    "                                    F.regexp_extract(F.col(\"REM\"), \n",
    "                                                     r\"(?:METAR|SPECI)\\s(\\S+)\", 1)) \\\n",
    "                        .filter(F.col('ICAO').isNotNull()) \\\n",
    "                        .withColumn(\"row_num\", \n",
    "                                    F.row_number().over(\n",
    "                                        Window.partitionBy('STATION')\n",
    "                                        .orderBy(F.col(\"STATION\").desc())\n",
    "                                    )) \\\n",
    "                        .filter(F.col('row_num') == 1) \\\n",
    "                        .drop(F.col('row_num'))                               \n",
    "\n",
    "\n",
    "display(ICAO_lookup)"
   ]
  },
  {
   "cell_type": "code",
   "execution_count": 0,
   "metadata": {
    "application/vnd.databricks.v1+cell": {
     "cellMetadata": {
      "byteLimit": 2048000,
      "rowLimit": 10000
     },
     "inputWidgets": {},
     "nuid": "7aca9c62-f8a8-4fc6-be88-bb3d8027d2df",
     "showTitle": false,
     "tableResultSettingsMap": {},
     "title": ""
    }
   },
   "outputs": [],
   "source": [
    "ydf = ydf.join(ICAO_lookup.select('STATION','ICAO'), on='STATION', how='left_outer')\n",
    "display(ydf)"
   ]
  },
  {
   "cell_type": "code",
   "execution_count": 0,
   "metadata": {
    "application/vnd.databricks.v1+cell": {
     "cellMetadata": {
      "byteLimit": 2048000,
      "rowLimit": 10000
     },
     "inputWidgets": {},
     "nuid": "f3ec518c-d236-441c-b334-eaba488b6086",
     "showTitle": false,
     "tableResultSettingsMap": {},
     "title": ""
    }
   },
   "outputs": [],
   "source": [
    "ydf.filter(F.col('LONGITUDE').isNull()).count()"
   ]
  },
  {
   "cell_type": "code",
   "execution_count": 0,
   "metadata": {
    "application/vnd.databricks.v1+cell": {
     "cellMetadata": {
      "byteLimit": 2048000,
      "rowLimit": 10000
     },
     "inputWidgets": {},
     "nuid": "dd77f699-83de-4483-bfe7-974eb6007be0",
     "showTitle": false,
     "tableResultSettingsMap": {},
     "title": ""
    }
   },
   "outputs": [],
   "source": [
    "ydf.count()"
   ]
  },
  {
   "cell_type": "code",
   "execution_count": 0,
   "metadata": {
    "application/vnd.databricks.v1+cell": {
     "cellMetadata": {
      "byteLimit": 2048000,
      "rowLimit": 10000
     },
     "inputWidgets": {},
     "nuid": "6369faae-0b6b-43cc-96ea-84666d11acb9",
     "showTitle": false,
     "tableResultSettingsMap": {},
     "title": ""
    }
   },
   "outputs": [],
   "source": [
    "ydf.filter(F.col('ICAO').isNull()).count() #only was able to match about 2/3 of ICAO IDs but should be ok"
   ]
  },
  {
   "cell_type": "code",
   "execution_count": 0,
   "metadata": {
    "application/vnd.databricks.v1+cell": {
     "cellMetadata": {
      "byteLimit": 2048000,
      "rowLimit": 10000
     },
     "inputWidgets": {},
     "nuid": "39a2434d-4871-4c66-8eac-9237aee3b102",
     "showTitle": false,
     "tableResultSettingsMap": {},
     "title": ""
    }
   },
   "outputs": [],
   "source": [
    "features = ['HourlyDewPointTemperature',\n",
    " 'HourlyDryBulbTemperature',\n",
    " 'HourlyPrecipitation',\n",
    " 'HourlyPresentWeatherType',\n",
    " 'HourlyPressureChange',\n",
    " 'HourlyPressureTendency',\n",
    " 'HourlyRelativeHumidity',\n",
    " 'HourlySkyConditions',\n",
    " 'HourlySeaLevelPressure',\n",
    " 'HourlyStationPressure',\n",
    " 'HourlyVisibility',\n",
    " 'HourlyWetBulbTemperature',\n",
    " 'HourlyWindDirection',\n",
    " 'HourlyWindGustSpeed',\n",
    " 'HourlyWindSpeed',\n",
    " 'REM']"
   ]
  },
  {
   "cell_type": "code",
   "execution_count": 0,
   "metadata": {
    "application/vnd.databricks.v1+cell": {
     "cellMetadata": {
      "byteLimit": 2048000,
      "rowLimit": 10000
     },
     "inputWidgets": {},
     "nuid": "5f9914c9-3d93-4638-9ebe-8d1aca539cad",
     "showTitle": false,
     "tableResultSettingsMap": {},
     "title": ""
    }
   },
   "outputs": [],
   "source": [
    "from functools import reduce\n",
    "from operator import add\n",
    "\n",
    "\n",
    "\n",
    "sum_expression = reduce(add, [F.when(F.col(c).isNull(), 1).otherwise(0) for c in features])\n",
    "\n",
    "ydf_dedup = ydf \\\n",
    "    .filter(F.col(\"LATITUDE\").isNotNull()) \\\n",
    "    .filter(F.col('COUNTRY') == 'US') \\\n",
    "    .withColumn(\n",
    "        \"null_count\", \n",
    "        sum_expression\n",
    "    )\n",
    "\n",
    "ydf_dedup = ydf_dedup \\\n",
    "    .withColumn(\"row_num\", \n",
    "                F.row_number().over(\n",
    "                    Window \\\n",
    "                        .partitionBy(\"STATION\", \"DATE\") \\\n",
    "                        .orderBy(F.col(\"null_count\").asc())\n",
    "                    )\n",
    "                ) \\\n",
    "    .filter(F.col(\"row_num\") == 1) \\\n",
    "    .drop(F.col('row_num')) \\\n",
    "    .drop(F.col('null_count'))\n",
    "\n",
    "display(ydf_dedup)"
   ]
  },
  {
   "cell_type": "markdown",
   "metadata": {
    "application/vnd.databricks.v1+cell": {
     "cellMetadata": {},
     "inputWidgets": {},
     "nuid": "a86b04b5-f2e6-4f33-aaf4-9181428dd611",
     "showTitle": false,
     "tableResultSettingsMap": {},
     "title": ""
    }
   },
   "source": [
    "## checks"
   ]
  },
  {
   "cell_type": "code",
   "execution_count": 0,
   "metadata": {
    "application/vnd.databricks.v1+cell": {
     "cellMetadata": {
      "byteLimit": 2048000,
      "rowLimit": 10000
     },
     "inputWidgets": {},
     "nuid": "fbf2de4b-b5ff-442a-81de-8338871e1f9e",
     "showTitle": false,
     "tableResultSettingsMap": {},
     "title": ""
    }
   },
   "outputs": [],
   "source": [
    "ydf.count()"
   ]
  },
  {
   "cell_type": "code",
   "execution_count": 0,
   "metadata": {
    "application/vnd.databricks.v1+cell": {
     "cellMetadata": {
      "byteLimit": 2048000,
      "rowLimit": 10000
     },
     "inputWidgets": {},
     "nuid": "633aab77-93e2-429b-90a6-6c04faf267fa",
     "showTitle": false,
     "tableResultSettingsMap": {},
     "title": ""
    }
   },
   "outputs": [],
   "source": [
    "display(ydf.withColumn(\"DATE\", F.col(\"DATE\").cast('timestamp')).groupBy('STATION','DATE').count().filter(F.col('count')>1).orderBy(F.col('count').desc()))"
   ]
  },
  {
   "cell_type": "code",
   "execution_count": 0,
   "metadata": {
    "application/vnd.databricks.v1+cell": {
     "cellMetadata": {
      "byteLimit": 2048000,
      "rowLimit": 10000
     },
     "inputWidgets": {},
     "nuid": "320c384f-3d97-4122-a336-b0ec7eb0adeb",
     "showTitle": false,
     "tableResultSettingsMap": {},
     "title": ""
    }
   },
   "outputs": [],
   "source": [
    "ydf_dedup.count()"
   ]
  },
  {
   "cell_type": "code",
   "execution_count": 0,
   "metadata": {
    "application/vnd.databricks.v1+cell": {
     "cellMetadata": {
      "byteLimit": 2048000,
      "rowLimit": 10000
     },
     "inputWidgets": {},
     "nuid": "3915d4c5-7919-44f8-b248-98747b057429",
     "showTitle": false,
     "tableResultSettingsMap": {},
     "title": ""
    }
   },
   "outputs": [],
   "source": [
    "display(ydf_dedup.withColumn(\"DATE\", F.col(\"DATE\").cast('timestamp')).groupBy('STATION','DATE').count().filter(F.col('count')>1).orderBy(F.col('count').desc()))"
   ]
  }
 ],
 "metadata": {
  "application/vnd.databricks.v1+notebook": {
   "computePreferences": null,
   "dashboards": [],
   "environmentMetadata": {
    "base_environment": "",
    "environment_version": "2"
   },
   "inputWidgetPreferences": null,
   "language": "python",
   "notebookMetadata": {
    "pythonIndentUnit": 4
   },
   "notebookName": "0.03-sg-weather-clean-CLEAN",
   "widgets": {}
  },
  "language_info": {
   "name": "python"
  }
 },
 "nbformat": 4,
 "nbformat_minor": 0
}
