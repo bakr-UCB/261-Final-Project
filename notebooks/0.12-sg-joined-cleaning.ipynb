{
 "cells": [
  {
   "cell_type": "markdown",
   "metadata": {
    "application/vnd.databricks.v1+cell": {
     "cellMetadata": {},
     "inputWidgets": {},
     "nuid": "ddb7dbc5-3e50-47b6-8ded-a4348c989e23",
     "showTitle": false,
     "tableResultSettingsMap": {},
     "title": ""
    }
   },
   "source": [
    "# Imports"
   ]
  },
  {
   "cell_type": "code",
   "execution_count": 0,
   "metadata": {
    "application/vnd.databricks.v1+cell": {
     "cellMetadata": {
      "byteLimit": 2048000,
      "rowLimit": 10000
     },
     "inputWidgets": {},
     "nuid": "dd7e7f0d-f39c-467b-bd5e-9658ae3cc2f7",
     "showTitle": false,
     "tableResultSettingsMap": {},
     "title": ""
    }
   },
   "outputs": [],
   "source": [
    "!pip install python-geohash"
   ]
  },
  {
   "cell_type": "code",
   "execution_count": 0,
   "metadata": {
    "application/vnd.databricks.v1+cell": {
     "cellMetadata": {
      "byteLimit": 2048000,
      "rowLimit": 10000
     },
     "inputWidgets": {},
     "nuid": "546f2de8-1758-4401-82b9-a8b565037aaa",
     "showTitle": false,
     "tableResultSettingsMap": {},
     "title": ""
    }
   },
   "outputs": [],
   "source": [
    "import geohash\n",
    "from geohash import bbox\n"
   ]
  },
  {
   "cell_type": "code",
   "execution_count": 0,
   "metadata": {
    "application/vnd.databricks.v1+cell": {
     "cellMetadata": {
      "byteLimit": 2048000,
      "rowLimit": 10000
     },
     "inputWidgets": {},
     "nuid": "055efb15-fd50-4a1d-bc91-db054d55a152",
     "showTitle": false,
     "tableResultSettingsMap": {},
     "title": ""
    }
   },
   "outputs": [],
   "source": [
    "stations = spark.read.parquet(f\"dbfs:/mnt/mids-w261/datasets_final_project_2022/stations_data/*\")\n"
   ]
  },
  {
   "cell_type": "code",
   "execution_count": 0,
   "metadata": {
    "application/vnd.databricks.v1+cell": {
     "cellMetadata": {},
     "inputWidgets": {},
     "nuid": "a6cc9444-f2b2-4ae3-9c8f-da2cb5ef4e77",
     "showTitle": false,
     "tableResultSettingsMap": {},
     "title": ""
    }
   },
   "outputs": [],
   "source": []
  },
  {
   "cell_type": "code",
   "execution_count": 0,
   "metadata": {
    "application/vnd.databricks.v1+cell": {
     "cellMetadata": {
      "byteLimit": 2048000,
      "rowLimit": 10000
     },
     "inputWidgets": {},
     "nuid": "b7c106ee-6ef9-4c18-b4e1-4b21368eb176",
     "showTitle": false,
     "tableResultSettingsMap": {},
     "title": ""
    }
   },
   "outputs": [],
   "source": [
    "import pyspark.sql.functions as F\n",
    "from pyspark.sql.functions import col,isnan, when, count, concat_ws, countDistinct, collect_set, rank, window, avg, hour, udf, isnan, pandas_udf\n",
    "import matplotlib.pyplot as plt\n",
    "import pandas as pd\n",
    "import re\n",
    "import numpy as np\n",
    "from pyspark.sql import types\n",
    "from pyspark.sql.types import *\n",
    "from pyspark.sql import Window\n",
    "import seaborn as sns"
   ]
  },
  {
   "cell_type": "code",
   "execution_count": 0,
   "metadata": {
    "application/vnd.databricks.v1+cell": {
     "cellMetadata": {
      "byteLimit": 2048000,
      "rowLimit": 10000
     },
     "inputWidgets": {},
     "nuid": "dc0815a6-9b3d-4201-b52e-e65da4999a7a",
     "showTitle": false,
     "tableResultSettingsMap": {},
     "title": ""
    }
   },
   "outputs": [],
   "source": [
    "team_BASE_DIR = f\"dbfs:/student-groups/Group_4_1\"\n",
    "spark.sparkContext.setCheckpointDir(f\"{team_BASE_DIR}/interim\")\n",
    "period = \"1y\" # on of the following values (\"\", \"3m\", \"6m\", \"1y\")\n",
    "df_ = spark.read.parquet(f\"{team_BASE_DIR}/interim/join_checkpoints/joined_flights_weather_{period}_v1.parquet\")"
   ]
  },
  {
   "cell_type": "code",
   "execution_count": 0,
   "metadata": {
    "application/vnd.databricks.v1+cell": {
     "cellMetadata": {
      "byteLimit": 2048000,
      "rowLimit": 10000
     },
     "inputWidgets": {},
     "nuid": "231971a3-b1dd-4c79-8ebe-b0f41d09fecf",
     "showTitle": false,
     "tableResultSettingsMap": {},
     "title": ""
    }
   },
   "outputs": [],
   "source": [
    "#for modeling checkpointing\n",
    "team_BASE_DIR = f\"dbfs:/student-groups/Group_4_1\"\n",
    "\n",
    "spark.sparkContext.setCheckpointDir(f\"{team_BASE_DIR}/interim\")\n"
   ]
  },
  {
   "cell_type": "markdown",
   "metadata": {
    "application/vnd.databricks.v1+cell": {
     "cellMetadata": {},
     "inputWidgets": {},
     "nuid": "98652e25-5368-4e2e-8373-4d7c4858eb9a",
     "showTitle": false,
     "tableResultSettingsMap": {},
     "title": ""
    }
   },
   "source": [
    "# Nulls "
   ]
  },
  {
   "cell_type": "code",
   "execution_count": 0,
   "metadata": {
    "application/vnd.databricks.v1+cell": {
     "cellMetadata": {
      "byteLimit": 2048000,
      "rowLimit": 10000
     },
     "inputWidgets": {},
     "nuid": "af2065c5-7592-4e10-bd97-e6586b8a3cb9",
     "showTitle": false,
     "tableResultSettingsMap": {},
     "title": ""
    }
   },
   "outputs": [],
   "source": [
    "df_.columns"
   ]
  },
  {
   "cell_type": "code",
   "execution_count": 0,
   "metadata": {
    "application/vnd.databricks.v1+cell": {
     "cellMetadata": {
      "byteLimit": 2048000,
      "rowLimit": 10000
     },
     "inputWidgets": {},
     "nuid": "cf63987d-7494-46f9-84c9-9a61747661b0",
     "showTitle": false,
     "tableResultSettingsMap": {},
     "title": ""
    }
   },
   "outputs": [],
   "source": [
    "import matplotlib.pyplot as plt\n",
    "import pyspark.sql.functions as F\n",
    "\n",
    "weather_cols = ['origin_HourlyDewPointTemperature',\n",
    " 'origin_HourlyDryBulbTemperature',\n",
    " 'origin_HourlyPrecipitation',\n",
    " 'origin_HourlyPressureChange',\n",
    " 'origin_HourlyRelativeHumidity',\n",
    " 'origin_HourlySkyConditions',\n",
    " 'origin_HourlyVisibility',\n",
    " 'origin_HourlyWetBulbTemperature',\n",
    " 'origin_HourlyWindGustSpeed',\n",
    " 'origin_HourlyWindSpeed']\n",
    "\n",
    "\n",
    "\n",
    "renamed_weather_cols = [col.replace('origin_', '') for col in weather_cols]\n",
    "\n",
    "null_counts = df_.select([F.count(F.when(F.col(c).isNull(), c)).alias(c) for c in weather_cols]).collect()[0].asDict()\n",
    "non_null_counts = df_.select([F.count(F.when(F.col(c).isNotNull(), c)).alias(c) for c in weather_cols]).collect()[0].asDict()\n",
    "\n",
    "fig, ax = plt.subplots()\n",
    "bar_width = 0.35\n",
    "index = range(len(weather_cols))\n",
    "\n",
    "bar1 = ax.bar(index, list(null_counts.values()), bar_width, label='Null', color='lightcoral')\n",
    "bar2 = ax.bar(index, list(non_null_counts.values()), bar_width, bottom=list(null_counts.values()), label='Non Null', color='teal')\n",
    "\n",
    "ax.set_xlabel('Weather Columns')\n",
    "ax.set_ylabel('Count (Millions)')\n",
    "ax.set_title('Null vs Non Null Count in Weather Columns')\n",
    "ax.set_xticks(index)\n",
    "ax.set_xticklabels(renamed_weather_cols, ha='right', rotation=70)\n",
    "ax.legend(loc='upper left', bbox_to_anchor=(1, 1))\n",
    "\n",
    "plt.show()"
   ]
  },
  {
   "cell_type": "markdown",
   "metadata": {
    "application/vnd.databricks.v1+cell": {
     "cellMetadata": {},
     "inputWidgets": {},
     "nuid": "737fb032-2ee5-4244-afeb-edcd4651fd68",
     "showTitle": false,
     "tableResultSettingsMap": {},
     "title": ""
    }
   },
   "source": [
    "## Step 1: Parse METAR reports"
   ]
  },
  {
   "cell_type": "code",
   "execution_count": 0,
   "metadata": {
    "application/vnd.databricks.v1+cell": {
     "cellMetadata": {
      "byteLimit": 2048000,
      "rowLimit": 10000
     },
     "inputWidgets": {},
     "nuid": "3cd518f6-d029-4bff-a630-a5edd944a8dd",
     "showTitle": false,
     "tableResultSettingsMap": {},
     "title": ""
    }
   },
   "outputs": [],
   "source": [
    "\n",
    "\n",
    "df_interpolate = (\n",
    "    df_\n",
    "    .withColumn(\n",
    "        \"origin_HourlyWindSpeed\",\n",
    "        F.when(\n",
    "            F.col(\"origin_HourlyWindSpeed\").isNull(),\n",
    "            # Extract sustained wind speed from METAR groups\n",
    "            F.regexp_extract(\n",
    "                F.col(\"origin_REM\"),\n",
    "                r'\\b(\\d{3})(\\d{2,3})(?:G(\\d{2,3}))?KT\\b',  # Regex pattern\n",
    "                2  # Capture group for sustained wind speed\n",
    "            ).cast(\"int\")\n",
    "        ).otherwise(F.col(\"origin_HourlyWindSpeed\"))\n",
    "    )\n",
    "    .withColumn(\n",
    "        \"origin_HourlyWindGustSpeed\",\n",
    "        F.when(\n",
    "            F.col(\"origin_HourlyWindGustSpeed\").isNull(),\n",
    "            F.greatest(\n",
    "                # Regular wind gust (G group)\n",
    "                F.regexp_extract(\n",
    "                    F.col(\"origin_REM\"),\n",
    "                    r'\\b(\\d{3})(\\d{2,3})(?:G(\\d{2,3}))?KT\\b',\n",
    "                    3\n",
    "                ).cast(\"int\"),\n",
    "                # Peak wind gust (PK WND group)\n",
    "                F.regexp_extract(\n",
    "                    F.col(\"origin_REM\"),\n",
    "                    r'PK WND (\\d{3})(\\d{2,3})/(\\d{4})',  # PK WND pattern\n",
    "                    2  # Capture group for peak wind speed\n",
    "                ).cast(\"int\")\n",
    "            )\n",
    "        ).otherwise(F.col(\"origin_HourlyWindGustSpeed\"))\n",
    "    )\n",
    ")\n",
    "\n",
    "\n",
    "df_interpolate = (df_interpolate \\\n",
    "    .withColumn(\n",
    "        'origin_HourlyPrecipitation',\n",
    "        F.when(\n",
    "            (F.col(\"origin_HourlyPrecipitation\").isNull()) | (F.col(\"origin_HourlyPrecipitation\") == '*'),\n",
    "            (F.regexp_extract(F.col(\"origin_REM\"), r\" P(\\d+)\", 1).cast(\"int\") * 0.01) # hundredths of inch kept in \"remarks\" section\n",
    "        ).otherwise(F.col(\"origin_HourlyPrecipitation\"))\n",
    "    ) \\\n",
    "    .withColumn('origin_HourlyPrecipitation', F.regexp_replace('origin_HourlyPrecipitation', 'T', '0.01')) \\\n",
    "    .withColumn(\n",
    "        'origin_HourlyPrecipitation',\n",
    "        F.regexp_extract('origin_HourlyPrecipitation', r\"[0-9]+(\\.[0-9]+)?\", 0) # Match digits\n",
    "    ) \\\n",
    "    .withColumn('origin_HourlyPrecipitation', F.col('origin_HourlyPrecipitation').cast(DoubleType())))"
   ]
  },
  {
   "cell_type": "code",
   "execution_count": 0,
   "metadata": {
    "application/vnd.databricks.v1+cell": {
     "cellMetadata": {
      "byteLimit": 2048000,
      "rowLimit": 10000
     },
     "inputWidgets": {},
     "nuid": "b4b3dc4a-c89e-4eb3-aa49-fc19a858670f",
     "showTitle": false,
     "tableResultSettingsMap": {},
     "title": ""
    }
   },
   "outputs": [],
   "source": [
    "display(df_interpolate)"
   ]
  },
  {
   "cell_type": "code",
   "execution_count": 0,
   "metadata": {
    "application/vnd.databricks.v1+cell": {
     "cellMetadata": {
      "byteLimit": 2048000,
      "rowLimit": 10000
     },
     "inputWidgets": {},
     "nuid": "35b31c9f-aea6-441e-ba48-3e20ed43d9e8",
     "showTitle": false,
     "tableResultSettingsMap": {},
     "title": ""
    }
   },
   "outputs": [],
   "source": [
    "import matplotlib.pyplot as plt\n",
    "import pyspark.sql.functions as F\n",
    "\n",
    "weather_cols = ['origin_HourlyDewPointTemperature',\n",
    " 'origin_HourlyDryBulbTemperature',\n",
    " 'origin_HourlyPrecipitation',\n",
    " 'origin_HourlyPressureChange',\n",
    " 'origin_HourlyRelativeHumidity',\n",
    " 'origin_HourlySkyConditions',\n",
    " 'origin_HourlyVisibility',\n",
    " 'origin_HourlyWetBulbTemperature',\n",
    " 'origin_HourlyWindGustSpeed',\n",
    " 'origin_HourlyWindSpeed']\n",
    "\n",
    "\n",
    "\n",
    "renamed_weather_cols = [col.replace('origin_', '') for col in weather_cols]\n",
    "\n",
    "null_counts = df_interpolate.select([F.count(F.when(F.col(c).isNull(), c)).alias(c) for c in weather_cols]).collect()[0].asDict()\n",
    "non_null_counts = df_interpolate.select([F.count(F.when(F.col(c).isNotNull(), c)).alias(c) for c in weather_cols]).collect()[0].asDict()\n",
    "\n",
    "fig, ax = plt.subplots()\n",
    "bar_width = 0.35\n",
    "index = range(len(weather_cols))\n",
    "\n",
    "bar1 = ax.bar(index, list(null_counts.values()), bar_width, label='Null', color='lightcoral')\n",
    "bar2 = ax.bar(index, list(non_null_counts.values()), bar_width, bottom=list(null_counts.values()), label='Non Null', color='teal')\n",
    "\n",
    "ax.set_xlabel('Weather Columns')\n",
    "ax.set_ylabel('Count (Millions)')\n",
    "ax.set_title('Null vs Non Null Count in Weather Columns')\n",
    "ax.set_xticks(index)\n",
    "ax.set_xticklabels(renamed_weather_cols, ha='right', rotation=70)\n",
    "ax.legend(loc='upper left', bbox_to_anchor=(1, 1))\n",
    "\n",
    "plt.show()"
   ]
  },
  {
   "cell_type": "markdown",
   "metadata": {
    "application/vnd.databricks.v1+cell": {
     "cellMetadata": {},
     "inputWidgets": {},
     "nuid": "b50bb6f2-7cec-44f7-9b4f-3184d0d56d8b",
     "showTitle": false,
     "tableResultSettingsMap": {},
     "title": ""
    }
   },
   "source": [
    "For size concerns, drop destination attributes. We are not concerned about whether a flight is diverted, just whether it leaves the origin airport."
   ]
  },
  {
   "cell_type": "code",
   "execution_count": 0,
   "metadata": {
    "application/vnd.databricks.v1+cell": {
     "cellMetadata": {
      "byteLimit": 2048000,
      "rowLimit": 10000
     },
     "inputWidgets": {},
     "nuid": "5b70e794-d9e1-44d4-b44a-d4eb9aa4945b",
     "showTitle": false,
     "tableResultSettingsMap": {},
     "title": ""
    }
   },
   "outputs": [],
   "source": [
    "cols_to_drop= ['dest_LATITUDE',\n",
    " 'dest_LONGITUDE',\n",
    " 'dest_ELEVATION'\n",
    " 'dest_HourlyDewPointTemperature',\n",
    " 'dest_HourlyDryBulbTemperature',\n",
    " 'dest_HourlyPrecipitation',\n",
    " 'dest_HourlyPresentWeatherType',\n",
    " 'dest_HourlyPressureChange',\n",
    " 'dest_HourlyRelativeHumidity',\n",
    " 'dest_HourlySkyConditions',\n",
    " 'dest_HourlyVisibility',\n",
    " 'dest_HourlyWetBulbTemperature',\n",
    " 'dest_HourlyWindDirection',\n",
    " 'dest_HourlyWindGustSpeed',\n",
    " 'dest_HourlyWindSpeed',\n",
    " 'dest_Sunrise',\n",
    " 'dest_Sunset',\n",
    " 'dest_DailySnowDepth',\n",
    " 'dest_DailySnowfall',\n",
    " 'dest_REM',\n",
    " 'dest_region',\n",
    " 'dest_type',\n",
    " 'dest_HourlyDewPointTemperature',\n",
    " 'dest_weather_date',\n",
    " 'dest_DATE']\n",
    "\n",
    "df_interpolate = df_interpolate.select([col for col in df_interpolate.columns if col not in cols_to_drop])"
   ]
  },
  {
   "cell_type": "code",
   "execution_count": 0,
   "metadata": {
    "application/vnd.databricks.v1+cell": {
     "cellMetadata": {
      "byteLimit": 2048000,
      "rowLimit": 10000
     },
     "inputWidgets": {},
     "nuid": "9b3db03f-4414-4f23-9381-0f0cd0d32cb0",
     "showTitle": false,
     "tableResultSettingsMap": {},
     "title": ""
    }
   },
   "outputs": [],
   "source": [
    "df_interpolate=df_interpolate.withColumn(\"origin_HourlyWindSpeed\", df_interpolate[\"origin_HourlyWindSpeed\"].cast(\"int\"))"
   ]
  },
  {
   "cell_type": "code",
   "execution_count": 0,
   "metadata": {
    "application/vnd.databricks.v1+cell": {
     "cellMetadata": {
      "byteLimit": 2048000,
      "rowLimit": 10000
     },
     "inputWidgets": {},
     "nuid": "5424879b-0d7b-40dc-919d-97b9620397e6",
     "showTitle": false,
     "tableResultSettingsMap": {},
     "title": ""
    }
   },
   "outputs": [],
   "source": [
    "display(df_interpolate)"
   ]
  },
  {
   "cell_type": "code",
   "execution_count": 0,
   "metadata": {
    "application/vnd.databricks.v1+cell": {
     "cellMetadata": {
      "byteLimit": 2048000,
      "rowLimit": 10000
     },
     "inputWidgets": {},
     "nuid": "1245638f-1e95-4ef6-aa76-3b2643bc9315",
     "showTitle": false,
     "tableResultSettingsMap": {},
     "title": ""
    }
   },
   "outputs": [],
   "source": [
    "df_interpolate.checkpoint()"
   ]
  },
  {
   "cell_type": "markdown",
   "metadata": {
    "application/vnd.databricks.v1+cell": {
     "cellMetadata": {},
     "inputWidgets": {},
     "nuid": "2ad0cf5c-20fe-4dff-90ac-fe455b57ca14",
     "showTitle": false,
     "tableResultSettingsMap": {},
     "title": ""
    }
   },
   "source": []
  },
  {
   "cell_type": "markdown",
   "metadata": {
    "application/vnd.databricks.v1+cell": {
     "cellMetadata": {},
     "inputWidgets": {},
     "nuid": "cf54446d-ce3c-431f-9b6a-12a1dbb1b7a2",
     "showTitle": false,
     "tableResultSettingsMap": {},
     "title": ""
    }
   },
   "source": [
    "## Step 2: Geohashing"
   ]
  },
  {
   "cell_type": "markdown",
   "metadata": {
    "application/vnd.databricks.v1+cell": {
     "cellMetadata": {},
     "inputWidgets": {},
     "nuid": "c9a2231d-34d7-47af-bb7a-0661c46923e7",
     "showTitle": false,
     "tableResultSettingsMap": {},
     "title": ""
    }
   },
   "source": [
    "In some cases, the REM reports are null or do not contain information to fill in null values. Instead, find the nearest station's weather observation that is closest in time to the current station."
   ]
  },
  {
   "cell_type": "markdown",
   "metadata": {
    "application/vnd.databricks.v1+cell": {
     "cellMetadata": {},
     "inputWidgets": {},
     "nuid": "7f1ec429-1f26-46a1-9dcb-b39fbf280d68",
     "showTitle": false,
     "tableResultSettingsMap": {},
     "title": ""
    }
   },
   "source": [
    "TODO: \n",
    "- make sure only pulling obs before or at record's time\n",
    "- avg reports across different stations in same geohash at same time index if there is a time tie"
   ]
  },
  {
   "cell_type": "code",
   "execution_count": 0,
   "metadata": {
    "application/vnd.databricks.v1+cell": {
     "cellMetadata": {
      "byteLimit": 2048000,
      "rowLimit": 10000
     },
     "inputWidgets": {},
     "nuid": "4910548a-1a6c-4eb0-bd21-3408373288ee",
     "showTitle": false,
     "tableResultSettingsMap": {},
     "title": ""
    }
   },
   "outputs": [],
   "source": [
    "import geohash\n"
   ]
  },
  {
   "cell_type": "code",
   "execution_count": 0,
   "metadata": {
    "application/vnd.databricks.v1+cell": {
     "cellMetadata": {
      "byteLimit": 2048000,
      "rowLimit": 10000
     },
     "inputWidgets": {},
     "nuid": "54012b04-a292-4d2b-a869-32802ba96a7a",
     "showTitle": false,
     "tableResultSettingsMap": {},
     "title": ""
    }
   },
   "outputs": [],
   "source": [
    "display(df_.select('origin_LATITUDE','origin_LONGITUDE','origin_NAME'))"
   ]
  },
  {
   "cell_type": "code",
   "execution_count": 0,
   "metadata": {
    "application/vnd.databricks.v1+cell": {
     "cellMetadata": {
      "byteLimit": 2048000,
      "rowLimit": 10000
     },
     "inputWidgets": {},
     "nuid": "68afb45c-a5dd-461c-9b32-a297695b6aba",
     "showTitle": false,
     "tableResultSettingsMap": {},
     "title": ""
    }
   },
   "outputs": [],
   "source": [
    "geohash.encode(38.8472,-77.03454)"
   ]
  },
  {
   "cell_type": "code",
   "execution_count": 0,
   "metadata": {
    "application/vnd.databricks.v1+cell": {
     "cellMetadata": {
      "byteLimit": 2048000,
      "rowLimit": 10000
     },
     "inputWidgets": {},
     "nuid": "afc47b9d-3404-4c22-8bb6-36f2307a5c76",
     "showTitle": false,
     "tableResultSettingsMap": {},
     "title": ""
    }
   },
   "outputs": [],
   "source": [
    "df_.filter(F.col('origin_LATITUDE').isNull()).count()"
   ]
  },
  {
   "cell_type": "code",
   "execution_count": 0,
   "metadata": {
    "application/vnd.databricks.v1+cell": {
     "cellMetadata": {
      "byteLimit": 2048000,
      "rowLimit": 10000
     },
     "inputWidgets": {},
     "nuid": "ec59a929-a2ff-4d51-a8f3-935f8b1b79ee",
     "showTitle": false,
     "tableResultSettingsMap": {},
     "title": ""
    }
   },
   "outputs": [],
   "source": [
    "df_.filter(F.col('geohash').isNull()).count()"
   ]
  },
  {
   "cell_type": "code",
   "execution_count": 0,
   "metadata": {
    "application/vnd.databricks.v1+cell": {
     "cellMetadata": {
      "byteLimit": 2048000,
      "rowLimit": 10000
     },
     "inputWidgets": {},
     "nuid": "60e5ec86-d60b-4b69-9dac-ffec064adc7d",
     "showTitle": false,
     "tableResultSettingsMap": {},
     "title": ""
    }
   },
   "outputs": [],
   "source": [
    "cols_to_drop= ['dest_LATITUDE',\n",
    " 'dest_LONGITUDE',\n",
    " 'dest_ELEVATION'\n",
    " 'dest_HourlyDewPointTemperature',\n",
    " 'dest_HourlyDryBulbTemperature',\n",
    " 'dest_HourlyPrecipitation',\n",
    " 'dest_HourlyPresentWeatherType',\n",
    " 'dest_HourlyPressureChange',\n",
    " 'dest_HourlyRelativeHumidity',\n",
    " 'dest_HourlySkyConditions',\n",
    " 'dest_HourlyVisibility',\n",
    " 'dest_HourlyWetBulbTemperature',\n",
    " 'dest_HourlyWindDirection',\n",
    " 'dest_HourlyWindGustSpeed',\n",
    " 'dest_HourlyWindSpeed',\n",
    " 'dest_Sunrise',\n",
    " 'dest_Sunset',\n",
    " 'dest_DailySnowDepth',\n",
    " 'dest_DailySnowfall',\n",
    " 'dest_REM',\n",
    " 'dest_region',\n",
    " 'dest_type',\n",
    " 'dest_HourlyDewPointTemperature',\n",
    " 'dest_weather_date',\n",
    " 'dest_DATE']\n",
    "\n",
    "df_interpolate = df_.select([col for col in df_.columns if col not in cols_to_drop])"
   ]
  },
  {
   "cell_type": "code",
   "execution_count": 0,
   "metadata": {
    "application/vnd.databricks.v1+cell": {
     "cellMetadata": {
      "byteLimit": 2048000,
      "rowLimit": 10000
     },
     "inputWidgets": {},
     "nuid": "ba81c0c8-d01f-45b2-9966-c28b5858160e",
     "showTitle": false,
     "tableResultSettingsMap": {},
     "title": ""
    }
   },
   "outputs": [],
   "source": [
    "\n",
    "\n",
    "df_interpolate = (\n",
    "    df_\n",
    "    .withColumn(\n",
    "        \"origin_HourlyWindSpeed\",\n",
    "        F.when(\n",
    "            F.col(\"origin_HourlyWindSpeed\").isNull(),\n",
    "            # Extract sustained wind speed from METAR groups\n",
    "            F.regexp_extract(\n",
    "                F.col(\"origin_REM\"),\n",
    "                r'\\b(\\d{3})(\\d{2,3})(?:G(\\d{2,3}))?KT\\b',  # Regex pattern\n",
    "                2  # Capture group for sustained wind speed\n",
    "            ).cast(\"int\")\n",
    "        ).otherwise(F.col(\"origin_HourlyWindSpeed\"))\n",
    "    )\n",
    "    .withColumn(\n",
    "        \"origin_HourlyWindGustSpeed\",\n",
    "        F.when(\n",
    "            F.col(\"origin_HourlyWindGustSpeed\").isNull(),\n",
    "            F.greatest(\n",
    "                # Regular wind gust (G group)\n",
    "                F.regexp_extract(\n",
    "                    F.col(\"origin_REM\"),\n",
    "                    r'\\b(\\d{3})(\\d{2,3})(?:G(\\d{2,3}))?KT\\b',\n",
    "                    3\n",
    "                ).cast(\"int\"),\n",
    "                # Peak wind gust (PK WND group)\n",
    "                F.regexp_extract(\n",
    "                    F.col(\"origin_REM\"),\n",
    "                    r'PK WND (\\d{3})(\\d{2,3})/(\\d{4})',  # PK WND pattern\n",
    "                    2  # Capture group for peak wind speed\n",
    "                ).cast(\"int\")\n",
    "            )\n",
    "        ).otherwise(F.col(\"origin_HourlyWindGustSpeed\"))\n",
    "    )\n",
    ")\n",
    "\n",
    "\n",
    "df_interpolate = (df_interpolate \\\n",
    "    .withColumn(\n",
    "        'origin_HourlyPrecipitation',\n",
    "        F.when(\n",
    "            (F.col(\"origin_HourlyPrecipitation\").isNull()) | (F.col(\"origin_HourlyPrecipitation\") == '*'),\n",
    "            (F.regexp_extract(F.col(\"origin_REM\"), r\" P(\\d+)\", 1).cast(\"int\") * 0.01) # hundredths of inch kept in \"remarks\" section\n",
    "        ).otherwise(F.col(\"origin_HourlyPrecipitation\"))\n",
    "    ) \\\n",
    "    .withColumn('origin_HourlyPrecipitation', F.regexp_replace('origin_HourlyPrecipitation', 'T', '0.01')) \\\n",
    "    .withColumn(\n",
    "        'origin_HourlyPrecipitation',\n",
    "        F.regexp_extract('origin_HourlyPrecipitation', r\"[0-9]+(\\.[0-9]+)?\", 0) # Match digits\n",
    "    ) \\\n",
    "    .withColumn('origin_HourlyPrecipitation', F.col('origin_HourlyPrecipitation').cast(DoubleType())))"
   ]
  },
  {
   "cell_type": "code",
   "execution_count": 0,
   "metadata": {
    "application/vnd.databricks.v1+cell": {
     "cellMetadata": {
      "byteLimit": 2048000,
      "rowLimit": 10000
     },
     "inputWidgets": {},
     "nuid": "fc4910b8-c83c-4457-9de6-68cc736c4e54",
     "showTitle": false,
     "tableResultSettingsMap": {},
     "title": ""
    }
   },
   "outputs": [],
   "source": [
    "\n",
    "\n",
    "def encode_geohash(precision: int):\n",
    "    @pandas_udf(\"string\")\n",
    "    def encode(latitudes: pd.Series, longitudes: pd.Series) -> pd.Series:\n",
    "        def safe_encode(lat, lon):\n",
    "            try:\n",
    "                return geohash.encode(lat, lon, precision)\n",
    "            except Exception:\n",
    "                return None\n",
    "        return latitudes.combine(longitudes, safe_encode)\n",
    "    return encode\n",
    "\n",
    "geohash_udf = encode_geohash(precision=2)\n",
    "df_interpolate = df_interpolate.withColumn('geohash', geohash_udf(F.col('origin_LATITUDE'), F.col('origin_LONGITUDE')))\n",
    "display(df_interpolate)"
   ]
  },
  {
   "cell_type": "code",
   "execution_count": 0,
   "metadata": {
    "application/vnd.databricks.v1+cell": {
     "cellMetadata": {
      "byteLimit": 2048000,
      "rowLimit": 10000
     },
     "inputWidgets": {},
     "nuid": "e3da66f1-ae39-43d9-9abd-a86ef1b6c3ab",
     "showTitle": false,
     "tableResultSettingsMap": {},
     "title": ""
    }
   },
   "outputs": [],
   "source": [
    "df_interpolate.groupBy(F.col('geohash')).count().show()"
   ]
  },
  {
   "cell_type": "code",
   "execution_count": 0,
   "metadata": {
    "application/vnd.databricks.v1+cell": {
     "cellMetadata": {
      "byteLimit": 2048000,
      "rowLimit": 10000
     },
     "inputWidgets": {},
     "nuid": "c53767a0-6c4a-4527-a103-41b19a9843d1",
     "showTitle": false,
     "tableResultSettingsMap": {},
     "title": ""
    }
   },
   "outputs": [],
   "source": [
    "display(df_interpolate.filter(F.col('origin_REGION').contains('US-IL')).select('origin_airport_name','geohash').distinct())"
   ]
  },
  {
   "cell_type": "code",
   "execution_count": 0,
   "metadata": {
    "application/vnd.databricks.v1+cell": {
     "cellMetadata": {
      "byteLimit": 2048000,
      "rowLimit": 10000
     },
     "inputWidgets": {},
     "nuid": "a4be7d01-b008-49ef-b5f4-81a4780a6e09",
     "showTitle": false,
     "tableResultSettingsMap": {},
     "title": ""
    }
   },
   "outputs": [],
   "source": [
    "df_interpolated = df_interpolate.withColumns(\n",
    "    {\"origin_HourlyPrecipitation\": df_interpolate[\"origin_HourlyPrecipitation\"].cast(\"float\"),\n",
    "     \"origin_HourlyWindGustSpeed\": df_interpolate[\"origin_HourlyWindGustSpeed\"].cast(\"float\"),\n",
    "     \"origin_HourlyWindSpeed\": df_interpolate[\"origin_HourlyWindSpeed\"].cast(\"float\"),\n",
    "     \"origin_HourlyDewPointTemperature\": df_interpolate[\"origin_HourlyDewPointTemperature\"].cast(\"float\"),\n",
    "     \"origin_HourlyDryBulbTemperature\": df_interpolate[\"origin_HourlyDryBulbTemperature\"].cast(\"float\"),\n",
    "     \"origin_HourlyPressureChange\": df_interpolate[\"origin_HourlyPressureChange\"].cast(\"float\"),\n",
    "     \"origin_HourlyRelativeHumidity\": df_interpolate[\"origin_HourlyRelativeHumidity\"].cast(\"float\"),\n",
    "     \"origin_HourlyWetBulbTemperature\": df_interpolate[\"origin_HourlyWetBulbTemperature\"].cast(\"float\"),\n",
    "     \"origin_HourlyVisibility\": df_interpolate[\"origin_HourlyVisibility\"].cast(\"float\")\n",
    "     \n",
    "     \n",
    "     })"
   ]
  },
  {
   "cell_type": "markdown",
   "metadata": {
    "application/vnd.databricks.v1+cell": {
     "cellMetadata": {},
     "inputWidgets": {},
     "nuid": "4498b06f-ec40-488a-8c74-7b44d2f4da9b",
     "showTitle": false,
     "tableResultSettingsMap": {},
     "title": ""
    }
   },
   "source": [
    "TBD - tie breaking mechanism"
   ]
  },
  {
   "cell_type": "code",
   "execution_count": 0,
   "metadata": {
    "application/vnd.databricks.v1+cell": {
     "cellMetadata": {
      "byteLimit": 2048000,
      "rowLimit": 10000
     },
     "inputWidgets": {},
     "nuid": "32f590b0-c1d4-4b06-b91c-37c3f5049ffb",
     "showTitle": false,
     "tableResultSettingsMap": {},
     "title": ""
    }
   },
   "outputs": [],
   "source": [
    "def coalesce_within_geohash(\n",
    "    df, \n",
    "    target_col, \n",
    "    geohash_col=\"geohash\", \n",
    "    dt_col=\"sched_depart_utc\", \n",
    "    window_size=6\n",
    "):\n",
    "    \"\"\"Fill nulls in `target_col` using the latest non-null value from the same geohash.\"\"\"\n",
    "    \n",
    "    window_spec = (\n",
    "        Window.partitionBy(geohash_col)\n",
    "              .orderBy(F.col(dt_col).cast(\"long\"))\n",
    "              .rowsBetween(-window_size, 0)\n",
    "    )\n",
    "    \n",
    "    return df.withColumn(\n",
    "        target_col,\n",
    "        F.last(target_col, ignorenulls=True).over(window_spec)\n",
    "    )"
   ]
  },
  {
   "cell_type": "code",
   "execution_count": 0,
   "metadata": {
    "application/vnd.databricks.v1+cell": {
     "cellMetadata": {
      "byteLimit": 2048000,
      "rowLimit": 10000
     },
     "inputWidgets": {},
     "nuid": "433e1de5-03a5-4e9c-a6f6-e7acf06aacfa",
     "showTitle": false,
     "tableResultSettingsMap": {},
     "title": ""
    }
   },
   "outputs": [],
   "source": [
    "columns_to_fill = ['origin_HourlyVisibility','origin_HourlyWindSpeed','origin_HourlyDewPointTemperature','origin_HourlyDryBulbTemperature','origin_HourlyPressureChange','origin_HourlyRelativeHumidity','origin_HourlyWetBulbTemperature','origin_HourlyPrecipitation','origin_HourlyWindGustSpeed']\n",
    "\n",
    "for col in columns_to_fill:\n",
    "    df_interpolated = coalesce_within_geohash(df_interpolated, col)\n",
    "\n"
   ]
  },
  {
   "cell_type": "code",
   "execution_count": 0,
   "metadata": {
    "application/vnd.databricks.v1+cell": {
     "cellMetadata": {
      "byteLimit": 2048000,
      "rowLimit": 10000
     },
     "inputWidgets": {},
     "nuid": "452ae618-b138-4048-9815-19acfc557d0b",
     "showTitle": false,
     "tableResultSettingsMap": {},
     "title": ""
    }
   },
   "outputs": [],
   "source": [
    "import matplotlib.pyplot as plt\n",
    "import pyspark.sql.functions as F\n",
    "\n",
    "weather_cols = ['origin_HourlyDewPointTemperature',\n",
    " 'origin_HourlyDryBulbTemperature',\n",
    " 'origin_HourlyPrecipitation',\n",
    " 'origin_HourlyPressureChange',\n",
    " 'origin_HourlyRelativeHumidity',\n",
    " 'origin_HourlySkyConditions',\n",
    " 'origin_HourlyVisibility',\n",
    " 'origin_HourlyWetBulbTemperature',\n",
    " 'origin_HourlyWindGustSpeed',\n",
    " 'origin_HourlyWindSpeed']\n",
    "\n",
    "\n",
    "\n",
    "renamed_weather_cols = [col.replace('origin_', '') for col in weather_cols]\n",
    "\n",
    "null_counts = df_interpolated.select([F.count(F.when(F.col(c).isNull(), c)).alias(c) for c in weather_cols]).collect()[0].asDict()\n",
    "non_null_counts = df_interpolated.select([F.count(F.when(F.col(c).isNotNull(), c)).alias(c) for c in weather_cols]).collect()[0].asDict()\n",
    "\n",
    "fig, ax = plt.subplots()\n",
    "bar_width = 0.35\n",
    "index = range(len(weather_cols))\n",
    "\n",
    "bar1 = ax.bar(index, list(null_counts.values()), bar_width, label='Null', color='lightcoral')\n",
    "bar2 = ax.bar(index, list(non_null_counts.values()), bar_width, bottom=list(null_counts.values()), label='Non Null', color='teal')\n",
    "\n",
    "ax.set_xlabel('Weather Columns')\n",
    "ax.set_ylabel('Count (Millions)')\n",
    "ax.set_title('Null vs Non Null Count in Weather Columns')\n",
    "ax.set_xticks(index)\n",
    "ax.set_xticklabels(renamed_weather_cols, ha='right', rotation=70)\n",
    "ax.legend(loc='upper left', bbox_to_anchor=(1, 1))\n",
    "\n",
    "plt.show()"
   ]
  },
  {
   "cell_type": "code",
   "execution_count": 0,
   "metadata": {
    "application/vnd.databricks.v1+cell": {
     "cellMetadata": {
      "byteLimit": 2048000,
      "rowLimit": 10000
     },
     "inputWidgets": {},
     "nuid": "75dc5812-5376-403b-9bb9-23fd803b1b42",
     "showTitle": false,
     "tableResultSettingsMap": {},
     "title": ""
    }
   },
   "outputs": [],
   "source": [
    "\n",
    "null_counts = df_interpolated.filter(F.col('origin_LATITUDE').isNotNull()).select(\n",
    "    [F.count(F.when(F.col(c).isNull() | F.isnan(c), c)).alias(c) for c in columns_to_fill]\n",
    ")\n",
    "\n",
    "null_counts_orig = df_interpolate.filter(F.col('origin_LATITUDE').isNotNull()).select(\n",
    "    [F.count(F.when(F.col(c).isNull() | F.isnan(c), c)).alias(c) for c in columns_to_fill]\n",
    ")\n"
   ]
  },
  {
   "cell_type": "code",
   "execution_count": 0,
   "metadata": {
    "application/vnd.databricks.v1+cell": {
     "cellMetadata": {
      "byteLimit": 2048000,
      "rowLimit": 10000
     },
     "inputWidgets": {},
     "nuid": "cb13eed6-38a0-4500-8d52-0ab4dc5e939c",
     "showTitle": false,
     "tableResultSettingsMap": {},
     "title": ""
    }
   },
   "outputs": [],
   "source": [
    "display(null_counts_orig.unionByName(null_counts)) #null counts where we have non null loc (obviously, null loc is impossible to fill in by geohash)"
   ]
  },
  {
   "cell_type": "code",
   "execution_count": 0,
   "metadata": {
    "application/vnd.databricks.v1+cell": {
     "cellMetadata": {
      "byteLimit": 2048000,
      "rowLimit": 10000
     },
     "inputWidgets": {},
     "nuid": "21d34fca-18b8-465f-899e-67ef5af2715b",
     "showTitle": false,
     "tableResultSettingsMap": {},
     "title": ""
    }
   },
   "outputs": [],
   "source": [
    "df_interpolated.checkpoint()"
   ]
  },
  {
   "cell_type": "markdown",
   "metadata": {
    "application/vnd.databricks.v1+cell": {
     "cellMetadata": {},
     "inputWidgets": {},
     "nuid": "0ce5e5e7-7cb6-40e1-9aff-1cda1faf60c7",
     "showTitle": false,
     "tableResultSettingsMap": {},
     "title": ""
    }
   },
   "source": [
    "## Step 3: EMA\n",
    "\n",
    "any remaining nulls can be captured by EMA"
   ]
  },
  {
   "cell_type": "code",
   "execution_count": 0,
   "metadata": {
    "application/vnd.databricks.v1+cell": {
     "cellMetadata": {
      "byteLimit": 2048000,
      "rowLimit": 10000
     },
     "inputWidgets": {},
     "nuid": "0a9c9102-890e-42ec-a19b-f541da1be7f1",
     "showTitle": false,
     "tableResultSettingsMap": {},
     "title": ""
    }
   },
   "outputs": [],
   "source": [
    "\n",
    "\n",
    "@pandas_udf(DoubleType())\n",
    "def exponential_smoothing_pandas(values: pd.Series) -> pd.Series:\n",
    "    \"\"\"Vectorized UDF for exponential smoothing.\"\"\"\n",
    "    if values.empty or not pd.api.types.is_numeric_dtype(values):\n",
    "        return pd.Series([0.0] * len(values))  # Handle edge cases\n",
    "    return values.ewm(alpha=0.5, ignore_na=True).mean()\n",
    "\n",
    "def smooth_column_optimized(\n",
    "    df, \n",
    "    col_name, \n",
    "    station_col=\"origin_STATION\", \n",
    "    dt_col=\"sched_depart_date_time\", \n",
    "    window_size=6\n",
    "):\n",
    "    \"\"\"Applies exponential smoothing with proper null handling.\"\"\"\n",
    "    \n",
    "    # 1. Cast to numeric type and filter nulls\n",
    "    df = (\n",
    "        df.withColumn(col_name, F.col(col_name).cast(DoubleType()))\n",
    "    )\n",
    "    \n",
    "    # 2. Define window to collect non-null values\n",
    "    window_spec = (\n",
    "        Window.partitionBy(station_col)\n",
    "              .orderBy(F.col(dt_col).cast(\"long\"))\n",
    "              .rowsBetween(-window_size, 0)\n",
    "    )\n",
    "    \n",
    "    # 3. Collect ONLY non-null values within the window\n",
    "    df = df.withColumn(\n",
    "        \"non_null_values\",\n",
    "        F.collect_list(col_name).over(window_spec)\n",
    "    )\n",
    "    \n",
    "    # 4. Apply vectorized UDF and fill nulls\n",
    "    return (\n",
    "        df.withColumn(\"smoothed\", exponential_smoothing_pandas(\"non_null_values\"))\n",
    "          .withColumn(\n",
    "              col_name, \n",
    "              F.coalesce(F.col(col_name), F.col(\"smoothed\"), F.lit(0.0))\n",
    "          )\n",
    "          .drop(\"non_null_values\", \"smoothed\")\n",
    "    )\n"
   ]
  },
  {
   "cell_type": "code",
   "execution_count": 0,
   "metadata": {
    "application/vnd.databricks.v1+cell": {
     "cellMetadata": {
      "byteLimit": 2048000,
      "rowLimit": 10000
     },
     "inputWidgets": {},
     "nuid": "834449f8-5e2f-4a63-a8a5-cfb4459b8dc4",
     "showTitle": false,
     "tableResultSettingsMap": {},
     "title": ""
    }
   },
   "outputs": [],
   "source": [
    "df_interpolated_ema=smooth_column_optimized(df_interpolated, 'origin_HourlyVisibility')"
   ]
  },
  {
   "cell_type": "code",
   "execution_count": 0,
   "metadata": {
    "application/vnd.databricks.v1+cell": {
     "cellMetadata": {
      "byteLimit": 2048000,
      "rowLimit": 10000
     },
     "inputWidgets": {},
     "nuid": "d5f3d9b7-1814-4626-b2f4-a0857c7c06d2",
     "showTitle": false,
     "tableResultSettingsMap": {},
     "title": ""
    }
   },
   "outputs": [],
   "source": [
    "columns_to_fill = ['origin_HourlyWindSpeed','origin_HourlyDewPointTemperature','origin_HourlyDryBulbTemperature','origin_HourlyPressureChange','origin_HourlyRelativeHumidity','origin_HourlyWetBulbTemperature','origin_HourlyPrecipitation','origin_HourlyWindGustSpeed']\n",
    "\n",
    "for col in columns_to_fill:\n",
    "    df_interpolated_ema = smooth_column_optimized(df_interpolated_ema, col)\n",
    "\n"
   ]
  },
  {
   "cell_type": "code",
   "execution_count": 0,
   "metadata": {
    "application/vnd.databricks.v1+cell": {
     "cellMetadata": {
      "byteLimit": 2048000,
      "rowLimit": 10000
     },
     "inputWidgets": {},
     "nuid": "395551f3-f97a-4276-8bd3-7adfa02aac64",
     "showTitle": false,
     "tableResultSettingsMap": {},
     "title": ""
    }
   },
   "outputs": [],
   "source": [
    "filled_cols = ['origin_HourlyVisibility','origin_HourlyWindSpeed','origin_HourlyDewPointTemperature','origin_HourlyDryBulbTemperature','origin_HourlyPressureChange','origin_HourlyRelativeHumidity','origin_HourlyWetBulbTemperature','origin_HourlyPrecipitation','origin_HourlyWindGustSpeed']\n"
   ]
  },
  {
   "cell_type": "code",
   "execution_count": 0,
   "metadata": {
    "application/vnd.databricks.v1+cell": {
     "cellMetadata": {
      "byteLimit": 2048000,
      "rowLimit": 10000
     },
     "inputWidgets": {},
     "nuid": "7152b547-83d1-4eaf-9709-e10cd82223a6",
     "showTitle": false,
     "tableResultSettingsMap": {},
     "title": ""
    }
   },
   "outputs": [],
   "source": [
    "null_counts_ema = df_interpolated_ema.filter(F.col('origin_LATITUDE').isNotNull()).select(\n",
    "    [F.count(F.when(F.col(c).isNull() | F.isnan(c), c)).alias(c) for c in filled_cols]\n",
    ")\n"
   ]
  },
  {
   "cell_type": "code",
   "execution_count": 0,
   "metadata": {
    "application/vnd.databricks.v1+cell": {
     "cellMetadata": {
      "byteLimit": 2048000,
      "rowLimit": 10000
     },
     "inputWidgets": {},
     "nuid": "e9cd7acb-059c-4183-a29f-a519aee14d72",
     "showTitle": false,
     "tableResultSettingsMap": {},
     "title": ""
    }
   },
   "outputs": [],
   "source": [
    "\n",
    "\n",
    "output_path = \"dbfs:/student-groups/Group_4_1/interim/join_checkpoints/joined_1y_weather_cleaned_combo.parquet\"\n",
    "(\n",
    "    df_interpolated_ema.write\n",
    "    .mode(\"overwrite\")\n",
    "    .parquet(output_path)\n",
    ")\n",
    "\n",
    "\n"
   ]
  },
  {
   "cell_type": "code",
   "execution_count": 0,
   "metadata": {
    "application/vnd.databricks.v1+cell": {
     "cellMetadata": {
      "byteLimit": 2048000,
      "rowLimit": 10000
     },
     "inputWidgets": {},
     "nuid": "4a9bbb7d-829f-4502-8037-8c0edc5577cd",
     "showTitle": false,
     "tableResultSettingsMap": {},
     "title": ""
    }
   },
   "outputs": [],
   "source": [
    "df_interpolated.count()"
   ]
  },
  {
   "cell_type": "code",
   "execution_count": 0,
   "metadata": {
    "application/vnd.databricks.v1+cell": {
     "cellMetadata": {
      "byteLimit": 2048000,
      "rowLimit": 10000
     },
     "inputWidgets": {},
     "nuid": "875b04d3-5b5c-4d5c-9b10-602be8c9c1f0",
     "showTitle": false,
     "tableResultSettingsMap": {},
     "title": ""
    }
   },
   "outputs": [],
   "source": [
    "df_interpolated_ema.count()"
   ]
  },
  {
   "cell_type": "code",
   "execution_count": 0,
   "metadata": {
    "application/vnd.databricks.v1+cell": {
     "cellMetadata": {
      "byteLimit": 2048000,
      "rowLimit": 10000
     },
     "inputWidgets": {},
     "nuid": "50b08c6b-5b6b-438b-9ca4-6a3a2700b2cd",
     "showTitle": false,
     "tableResultSettingsMap": {},
     "title": ""
    }
   },
   "outputs": [],
   "source": [
    "display(null_counts_orig.unionByName(null_counts).unionByName(null_counts_ema))"
   ]
  },
  {
   "cell_type": "markdown",
   "metadata": {
    "application/vnd.databricks.v1+cell": {
     "cellMetadata": {},
     "inputWidgets": {},
     "nuid": "ee54372c-8e69-4623-b578-db37a0d9ff3f",
     "showTitle": false,
     "tableResultSettingsMap": {},
     "title": ""
    }
   },
   "source": [
    "# EDA"
   ]
  },
  {
   "cell_type": "markdown",
   "metadata": {
    "application/vnd.databricks.v1+cell": {
     "cellMetadata": {},
     "inputWidgets": {},
     "nuid": "ac25f8cd-4acf-484f-9fc5-23b1efb95c43",
     "showTitle": false,
     "tableResultSettingsMap": {},
     "title": ""
    }
   },
   "source": [
    "## basic plots"
   ]
  },
  {
   "cell_type": "code",
   "execution_count": 0,
   "metadata": {
    "application/vnd.databricks.v1+cell": {
     "cellMetadata": {
      "byteLimit": 2048000,
      "rowLimit": 10000
     },
     "inputWidgets": {},
     "nuid": "decda3ab-2dba-4f42-a087-3cace8330894",
     "showTitle": false,
     "tableResultSettingsMap": {},
     "title": ""
    }
   },
   "outputs": [],
   "source": [
    "df=spark.read.parquet(\"dbfs:/student-groups/Group_4_1/interim/join_checkpoints/joined_1y_weather_cleaned_combo_pfd.parquet\")"
   ]
  },
  {
   "cell_type": "code",
   "execution_count": 0,
   "metadata": {
    "application/vnd.databricks.v1+cell": {
     "cellMetadata": {
      "byteLimit": 2048000,
      "rowLimit": 10000
     },
     "inputWidgets": {},
     "nuid": "f1eeb1dc-fecb-485b-a5da-cafcbee2d7db",
     "showTitle": false,
     "tableResultSettingsMap": {},
     "title": ""
    }
   },
   "outputs": [],
   "source": [
    "import pyspark.sql.functions as F\n",
    "from pyspark.sql.functions import col,isnan, when, count, concat_ws, countDistinct, collect_set, rank, window, avg, hour, udf, isnan, pandas_udf\n",
    "import matplotlib.pyplot as plt\n",
    "import pandas as pd\n",
    "import re\n",
    "import numpy as np\n",
    "from pyspark.sql import types\n",
    "from pyspark.sql.types import *\n",
    "from pyspark.sql import Window\n",
    "import seaborn as sns"
   ]
  },
  {
   "cell_type": "code",
   "execution_count": 0,
   "metadata": {
    "application/vnd.databricks.v1+cell": {
     "cellMetadata": {
      "byteLimit": 2048000,
      "rowLimit": 10000
     },
     "inputWidgets": {},
     "nuid": "ad6c702a-13f2-4916-8c92-e447b68837cd",
     "showTitle": false,
     "tableResultSettingsMap": {},
     "title": ""
    }
   },
   "outputs": [],
   "source": [
    "df=df.withColumn('outcome', F.when((F.col('DEP_DELAY')>=15) | (F.col('CANCELLED')==1), 1).otherwise(0))\n",
    "              "
   ]
  },
  {
   "cell_type": "code",
   "execution_count": 0,
   "metadata": {
    "application/vnd.databricks.v1+cell": {
     "cellMetadata": {
      "byteLimit": 2048000,
      "rowLimit": 10000
     },
     "inputWidgets": {},
     "nuid": "26e0ba51-c2b4-4918-8be8-296e3c0d15fb",
     "showTitle": false,
     "tableResultSettingsMap": {},
     "title": ""
    }
   },
   "outputs": [],
   "source": [
    "display(df.filter(F.col('origin_HourlyWindSpeed') > 2000)) #was also present in the original dataset"
   ]
  },
  {
   "cell_type": "code",
   "execution_count": 0,
   "metadata": {
    "application/vnd.databricks.v1+cell": {
     "cellMetadata": {
      "byteLimit": 2048000,
      "rowLimit": 10000
     },
     "inputWidgets": {},
     "nuid": "8bb5de28-b348-472e-b23a-e9108d8d736a",
     "showTitle": false,
     "tableResultSettingsMap": {},
     "title": ""
    }
   },
   "outputs": [],
   "source": [
    "filled_cols = ['origin_HourlyVisibility','origin_HourlyWindSpeed','origin_HourlyDewPointTemperature','origin_HourlyDryBulbTemperature','origin_HourlyPressureChange','origin_HourlyRelativeHumidity','origin_HourlyWetBulbTemperature','origin_HourlyPrecipitation','origin_HourlyWindGustSpeed']\n",
    "\n",
    "null_counts = df.filter(F.col('origin_LATITUDE').isNotNull()).select(\n",
    "    [F.count(F.when(F.col(c).isNull() | F.isnan(c), c)).alias(c) for c in filled_cols]\n",
    ")\n",
    "\n",
    "\n",
    "display(null_counts)"
   ]
  },
  {
   "cell_type": "code",
   "execution_count": 0,
   "metadata": {
    "application/vnd.databricks.v1+cell": {
     "cellMetadata": {
      "byteLimit": 2048000,
      "rowLimit": 10000
     },
     "inputWidgets": {},
     "nuid": "e38067ac-5f96-47d7-8667-e100a89e2862",
     "showTitle": false,
     "tableResultSettingsMap": {},
     "title": ""
    }
   },
   "outputs": [],
   "source": [
    "df.columns"
   ]
  },
  {
   "cell_type": "code",
   "execution_count": 0,
   "metadata": {
    "application/vnd.databricks.v1+cell": {
     "cellMetadata": {
      "byteLimit": 2048000,
      "rowLimit": 10000
     },
     "inputWidgets": {},
     "nuid": "eb2f9065-54ec-4355-b6b2-6b8d09379334",
     "showTitle": false,
     "tableResultSettingsMap": {},
     "title": ""
    }
   },
   "outputs": [],
   "source": [
    "display(df.filter(F.col('origin_HourlyWindSpeed') > 2000)) #does not look accurate and many of these say 0KT so  must be incorrect"
   ]
  },
  {
   "cell_type": "code",
   "execution_count": 0,
   "metadata": {
    "application/vnd.databricks.v1+cell": {
     "cellMetadata": {
      "byteLimit": 2048000,
      "rowLimit": 10000
     },
     "inputWidgets": {},
     "nuid": "a9bd1785-766d-41d4-ba54-e0689d676f4f",
     "showTitle": false,
     "tableResultSettingsMap": {},
     "title": ""
    }
   },
   "outputs": [],
   "source": [
    "df = df.withColumn(\"origin_HourlyWindSpeed\", F.when(F.col(\"origin_HourlyWindSpeed\") == 2237, 0).otherwise(F.col(\"origin_HourlyWindSpeed\")))"
   ]
  },
  {
   "cell_type": "code",
   "execution_count": 0,
   "metadata": {
    "application/vnd.databricks.v1+cell": {
     "cellMetadata": {
      "byteLimit": 2048000,
      "rowLimit": 10000
     },
     "inputWidgets": {},
     "nuid": "4edf414b-5694-455c-802b-9a9c24b50af6",
     "showTitle": false,
     "tableResultSettingsMap": {},
     "title": ""
    }
   },
   "outputs": [],
   "source": [
    "df=df.withColumn('DEP_DEL15', F.when(col('DEP_DELAY') >= 15, 1).otherwise(0))"
   ]
  },
  {
   "cell_type": "code",
   "execution_count": 0,
   "metadata": {
    "application/vnd.databricks.v1+cell": {
     "cellMetadata": {
      "byteLimit": 2048000,
      "rowLimit": 10000
     },
     "inputWidgets": {},
     "nuid": "61bfccfc-c38e-4565-b620-6cdea89b3467",
     "showTitle": false,
     "tableResultSettingsMap": {},
     "title": ""
    }
   },
   "outputs": [],
   "source": [
    "\n",
    "\n",
    "# Convert wind speed data to pandas\n",
    "wind_df = df.filter(F.col('origin_HourlyWindSpeed').isNotNull()) \\\n",
    "    .withColumn(\"outcome\", F.col(\"outcome\").cast(\"string\")) \\\n",
    "    .withColumn(\"origin_HourlyWindSpeed\", F.when(F.col(\"origin_HourlyWindSpeed\") == 2237, 0).otherwise(F.col(\"origin_HourlyWindSpeed\"))) \\\n",
    "    .select(\"origin_HourlyWindSpeed\", \"outcome\") \\\n",
    "    .toPandas()\n",
    "\n",
    "wind_gust_df = df.filter(F.col('origin_HourlyWindGustSpeed').isNotNull()) \\\n",
    "    .withColumn(\"outcome\", F.col(\"outcome\").cast(\"string\")) \\\n",
    "    .select(\"origin_HourlyWindGustSpeed\", \"outcome\") \\\n",
    "    .toPandas()\n",
    "\n",
    "# Create subplots\n",
    "fig, axes = plt.subplots(1, 2, figsize=(15, 6))\n",
    "\n",
    "# Boxplot for Hourly Wind Speed\n",
    "wind_df.boxplot(column=\"origin_HourlyWindSpeed\", by=\"outcome\", ax=axes[0])\n",
    "axes[0].set_xlabel(\"Departure Delay (0 = No Delay, 1 = Delayed)\")\n",
    "axes[0].set_ylabel(\"Hourly Wind Speed\")\n",
    "axes[0].set_title(\"Hourly Wind Speed by Departure Delay\")\n",
    "\n",
    "# Boxplot for Hourly Wind Gust Speed\n",
    "wind_gust_df.boxplot(column=\"origin_HourlyWindGustSpeed\", by=\"outcome\", ax=axes[1])\n",
    "axes[1].set_xlabel(\"Departure Delay (0 = No Delay, 1 = Delayed)\")\n",
    "axes[1].set_ylabel(\"Hourly Wind Gust Speed\")\n",
    "axes[1].set_title(\"Hourly Wind Gust Speed by Departure Delay\")\n",
    "\n",
    "# Adjust layout\n",
    "plt.suptitle(\"\")\n",
    "plt.tight_layout()\n",
    "plt.show()\n"
   ]
  },
  {
   "cell_type": "code",
   "execution_count": 0,
   "metadata": {
    "application/vnd.databricks.v1+cell": {
     "cellMetadata": {
      "byteLimit": 2048000,
      "rowLimit": 10000
     },
     "inputWidgets": {},
     "nuid": "7085ce34-c132-4d3e-926c-35daf9e34b50",
     "showTitle": false,
     "tableResultSettingsMap": {},
     "title": ""
    }
   },
   "outputs": [],
   "source": [
    "#look at nonzero wind speeds\n",
    "\n",
    "# Convert wind speed data to pandas\n",
    "wind_df = df.filter(F.col('origin_HourlyWindSpeed').isNotNull()).filter(F.col('origin_HourlyWindSpeed').between(0,1000)) \\\n",
    "    .withColumn(\"outcome\", col(\"outcome\").cast(\"string\")) \\\n",
    "    .select(\"origin_HourlyWindSpeed\", \"outcome\") \\\n",
    "    .toPandas()\n",
    "\n",
    "wind_gust_df = df.filter(F.col('origin_HourlyWindGustSpeed').isNotNull()).filter(F.col('origin_HourlyWindGustSpeed') > 0) \\\n",
    "    .withColumn(\"outcome\", col(\"outcome\").cast(\"string\")) \\\n",
    "    .select(\"origin_HourlyWindGustSpeed\", \"outcome\") \\\n",
    "    .toPandas()\n",
    "\n",
    "# Create subplots\n",
    "fig, axes = plt.subplots(1, 2, figsize=(15, 6))\n",
    "\n",
    "# Boxplot for Hourly Wind Speed\n",
    "wind_df.boxplot(column=\"origin_HourlyWindSpeed\", by=\"outcome\", ax=axes[0])\n",
    "axes[0].set_xlabel(\"Departure Delay (0 = No Delay, 1 = Delayed)\")\n",
    "axes[0].set_ylabel(\"Nonzero Hourly Wind Speed\")\n",
    "axes[0].set_title(\"Nonzero Hourly Wind Speed by Departure Delay\")\n",
    "\n",
    "# Boxplot for Hourly Wind Gust Speed\n",
    "wind_gust_df.boxplot(column=\"origin_HourlyWindGustSpeed\", by=\"outcome\", ax=axes[1])\n",
    "axes[1].set_xlabel(\"Departure Delay (0 = No Delay, 1 = Delayed)\")\n",
    "axes[1].set_ylabel(\"Nonzero Hourly Wind Gust Speed\")\n",
    "axes[1].set_title(\"Nonzero Hourly Wind Gust Speed by Departure Delay\")\n",
    "\n",
    "# Adjust layout\n",
    "plt.suptitle(\"\")\n",
    "plt.tight_layout()\n",
    "plt.show()\n"
   ]
  },
  {
   "cell_type": "code",
   "execution_count": 0,
   "metadata": {
    "application/vnd.databricks.v1+cell": {
     "cellMetadata": {
      "byteLimit": 2048000,
      "rowLimit": 10000
     },
     "inputWidgets": {},
     "nuid": "8335a9c0-1ab7-479d-8c34-7e703607c6dd",
     "showTitle": false,
     "tableResultSettingsMap": {},
     "title": ""
    }
   },
   "outputs": [],
   "source": [
    "\n",
    "\n",
    "\n",
    "# Convert wind speed data to pandas\n",
    "drybulb_df = df.filter(F.col('origin_HourlyDryBulbTemperature').isNotNull()) \\\n",
    "    .withColumn(\"outcome\", col(\"outcome\").cast(\"string\")) \\\n",
    "    .select(\"origin_HourlyDryBulbTemperature\", \"outcome\") \\\n",
    "    .toPandas()\n",
    "\n",
    "wetbulb_df = df.filter(F.col('origin_HourlyWetBulbTemperature').isNotNull()) \\\n",
    "    .withColumn(\"outcome\", col(\"outcome\").cast(\"string\")) \\\n",
    "    .select(\"origin_HourlyWetBulbTemperature\", \"outcome\") \\\n",
    "    .toPandas()\n",
    "\n",
    "# Create subplots\n",
    "fig, axes = plt.subplots(1, 2, figsize=(15, 6))\n",
    "\n",
    "\n",
    "drybulb_df.boxplot(column=\"origin_HourlyDryBulbTemperature\", by=\"outcome\", ax=axes[0])\n",
    "axes[0].set_xlabel(\"Departure Delay (0 = No Delay, 1 = Delayed)\")\n",
    "axes[0].set_ylabel(\"Hourly Dry Bulb Temp\")\n",
    "axes[0].set_title(\"Hourly Dry Bulb by Departure Delay\")\n",
    "\n",
    "\n",
    "wetbulb_df.boxplot(column=\"origin_HourlyWetBulbTemperature\", by=\"outcome\", ax=axes[1])\n",
    "axes[1].set_xlabel(\"Departure Delay (0 = No Delay, 1 = Delayed)\")\n",
    "axes[1].set_ylabel(\"Hourly Wet Bulb\")\n",
    "axes[1].set_title(\"Hourly Wet Bulb Temp by Departure Delay\")\n",
    "\n",
    "# Adjust layout\n",
    "plt.suptitle(\"\")\n",
    "plt.tight_layout()\n",
    "plt.show()\n",
    "\n",
    "#online it says that wet bulb is more important for flights maybe but distributions look pretty similar for both groups for both temp types\n"
   ]
  },
  {
   "cell_type": "code",
   "execution_count": 0,
   "metadata": {
    "application/vnd.databricks.v1+cell": {
     "cellMetadata": {
      "byteLimit": 2048000,
      "rowLimit": 10000
     },
     "inputWidgets": {},
     "nuid": "6bb54354-1dcb-43e8-8caf-5ff0b038c2d2",
     "showTitle": false,
     "tableResultSettingsMap": {},
     "title": ""
    }
   },
   "outputs": [],
   "source": [
    "df.columns"
   ]
  },
  {
   "cell_type": "code",
   "execution_count": 0,
   "metadata": {
    "application/vnd.databricks.v1+cell": {
     "cellMetadata": {
      "byteLimit": 2048000,
      "rowLimit": 10000
     },
     "inputWidgets": {},
     "nuid": "f9984f7f-285f-4b38-9508-9630e8589cf6",
     "showTitle": false,
     "tableResultSettingsMap": {},
     "title": ""
    }
   },
   "outputs": [],
   "source": [
    "\n",
    "\n",
    "\n",
    "# Convert wind speed data to pandas\n",
    "vis_df = df.filter(F.col('origin_HourlyVisibility').isNotNull()) \\\n",
    "    .withColumn(\"outcome\", col(\"outcome\").cast(\"string\")) \\\n",
    "    .select(\"origin_HourlyVisibility\", \"outcome\") \\\n",
    "    .toPandas()\n",
    "\n",
    "pressure_df = df.filter(F.col('origin_HourlyPressureChange').isNotNull()) \\\n",
    "    .withColumn(\"outcome\", col(\"outcome\").cast(\"string\")) \\\n",
    "    .select(\"origin_HourlyPressureChange\", \"outcome\") \\\n",
    "    .toPandas()\n",
    "\n",
    "# Create subplots\n",
    "fig, axes = plt.subplots(1, 2, figsize=(15, 6))\n",
    "\n",
    "\n",
    "vis_df.boxplot(column=\"origin_HourlyVisibility\", by=\"outcome\", ax=axes[0])\n",
    "axes[0].set_xlabel(\"Departure Delay (0 = No Delay, 1 = Delayed)\")\n",
    "axes[0].set_ylabel(\"Hourly Visibility\")\n",
    "axes[0].set_title(\"Hourly Visibility by Departure Delay\")\n",
    "\n",
    "\n",
    "pressure_df.boxplot(column=\"origin_HourlyPressureChange\", by=\"outcome\", ax=axes[1])\n",
    "axes[1].set_xlabel(\"Departure Delay (0 = No Delay, 1 = Delayed)\")\n",
    "axes[1].set_ylabel(\"Hourly Pressure Tendency\")\n",
    "axes[1].set_title(\"Hourly Pressure Tendency by Departure Delay\")\n",
    "\n",
    "# Adjust layout\n",
    "plt.suptitle(\"\")\n",
    "plt.tight_layout()\n",
    "plt.show()\n",
    "\n"
   ]
  },
  {
   "cell_type": "code",
   "execution_count": 0,
   "metadata": {
    "application/vnd.databricks.v1+cell": {
     "cellMetadata": {
      "byteLimit": 2048000,
      "rowLimit": 10000
     },
     "inputWidgets": {},
     "nuid": "eaed1305-6036-47a6-82a1-725aa4597aa4",
     "showTitle": false,
     "tableResultSettingsMap": {},
     "title": ""
    }
   },
   "outputs": [],
   "source": [
    "df.filter(F.col('origin_HourlyVisibility')==0).count() #need to figure out a better strategy for these probably"
   ]
  },
  {
   "cell_type": "code",
   "execution_count": 0,
   "metadata": {
    "application/vnd.databricks.v1+cell": {
     "cellMetadata": {
      "byteLimit": 2048000,
      "rowLimit": 10000
     },
     "inputWidgets": {},
     "nuid": "d6b6ba2e-4f22-4e46-8256-52f0c75a2db4",
     "showTitle": false,
     "tableResultSettingsMap": {},
     "title": ""
    }
   },
   "outputs": [],
   "source": []
  },
  {
   "cell_type": "code",
   "execution_count": 0,
   "metadata": {
    "application/vnd.databricks.v1+cell": {
     "cellMetadata": {
      "byteLimit": 2048000,
      "rowLimit": 10000
     },
     "inputWidgets": {},
     "nuid": "57794e65-d131-467e-8b9c-1a64a78c46ef",
     "showTitle": false,
     "tableResultSettingsMap": {},
     "title": ""
    }
   },
   "outputs": [],
   "source": [
    "\n",
    "cols = [\"origin_HourlyDryBulbTemperature\", \"origin_HourlyWetBulbTemperature\", \"origin_HourlyWindSpeed\", \"origin_HourlyPrecipitation\", \"origin_HourlyVisibility\", \"origin_HourlyWindGustSpeed\", \"origin_HourlyPressureChange\", \"origin_HourlyRelativeHumidity\"]\n",
    "heatmap_df = df.select(cols + [\"outcome\"]).toPandas()\n",
    "\n",
    "# Compute correlation matrix\n",
    "corr_matrix = heatmap_df.corr('spearman')\n",
    "mask = np.triu(np.ones_like(corr_matrix, dtype=bool))\n",
    "\n",
    "# Plot heatmap\n",
    "plt.figure(figsize=(8, 6))\n",
    "sns.heatmap(corr_matrix, mask=mask, annot=True, cmap=\"coolwarm\", vmin=-1, vmax=1)\n",
    "plt.title(\"Correlation Heatmap\")\n",
    "plt.show()"
   ]
  },
  {
   "cell_type": "code",
   "execution_count": 0,
   "metadata": {
    "application/vnd.databricks.v1+cell": {
     "cellMetadata": {
      "byteLimit": 2048000,
      "rowLimit": 10000
     },
     "inputWidgets": {},
     "nuid": "663e5a17-18e7-466b-ae91-c62c6cb269cf",
     "showTitle": false,
     "tableResultSettingsMap": {},
     "title": ""
    }
   },
   "outputs": [],
   "source": [
    "#nice version:\n",
    "\n",
    "new_col_names = {\n",
    "    \"origin_HourlyDryBulbTemperature\": \"Dry Bulb Temp\",\n",
    "    \"origin_HourlyWetBulbTemperature\": \"Wet Bulb Temp\",\n",
    "    \"origin_HourlyWindSpeed\": \"Wind Speed\",\n",
    "    \"origin_HourlyPrecipitation\": \"Precipitation\",\n",
    "    \"origin_HourlyVisibility\": \"Visibility\",\n",
    "    \"origin_HourlyWindGustSpeed\": \"Wind Gust\",\n",
    "    \"origin_HourlyPressureChange\": \"Pressure Δ\",\n",
    "    \"origin_HourlyRelativeHumidity\": \"Humidity\",\n",
    "    \"outcome\": \"Departure Delay\"\n",
    "}\n",
    "\n",
    "# Prepare data with renamed columns\n",
    "heatmap_df = df.select(list(new_col_names.keys())).toPandas().rename(columns=new_col_names)\n",
    "corr_matrix = heatmap_df.corr('spearman')\n",
    "mask = np.triu(np.ones_like(corr_matrix, dtype=bool))\n",
    "\n",
    "# Create customized heatmap\n",
    "plt.figure(figsize=(10, 8))\n",
    "ax = sns.heatmap(\n",
    "    corr_matrix,\n",
    "    mask=mask,\n",
    "    annot=True,\n",
    "    cmap=\"coolwarm\",\n",
    "    vmin=-1,\n",
    "    vmax=1,\n",
    "    fmt=\".2f\",  # Format annotations to 2 decimals\n",
    "    linewidths=.5,\n",
    "    cbar_kws={\"shrink\": 0.8}\n",
    ")\n",
    "\n",
    "# Rotate and align ticks\n",
    "ax.tick_params(axis='x', labelrotation=45, labelsize=10)\n",
    "ax.tick_params(axis='y', labelrotation=0, labelsize=10)\n",
    "ax.set_xticklabels(ax.get_xticklabels(), ha='right', rotation=45)\n",
    "ax.set_yticklabels(ax.get_yticklabels(), va='center')\n",
    "\n",
    "# Add title and adjust layout\n",
    "plt.title(\"Weather Features Correlation with Departure Delays\", pad=20, fontsize=14)\n",
    "plt.tight_layout()\n",
    "plt.show()\n"
   ]
  },
  {
   "cell_type": "code",
   "execution_count": 0,
   "metadata": {
    "application/vnd.databricks.v1+cell": {
     "cellMetadata": {
      "byteLimit": 2048000,
      "rowLimit": 10000
     },
     "inputWidgets": {},
     "nuid": "cec7d672-7a63-47bf-941a-2808fd89f5c7",
     "showTitle": false,
     "tableResultSettingsMap": {},
     "title": ""
    }
   },
   "outputs": [],
   "source": [
    "display(df.groupBy('geohash').agg(\n",
    "   F.avg(\"DEP_DELAY\").alias(\"AVG_DEP_DELAY\")\n",
    ").orderBy(\"AVG_DEP_DELAY\", ascending=False))"
   ]
  },
  {
   "cell_type": "code",
   "execution_count": 0,
   "metadata": {
    "application/vnd.databricks.v1+cell": {
     "cellMetadata": {
      "byteLimit": 2048000,
      "rowLimit": 10000
     },
     "inputWidgets": {},
     "nuid": "a2be395e-5b62-4a1b-8941-6b42fec818d1",
     "showTitle": false,
     "tableResultSettingsMap": {},
     "title": ""
    }
   },
   "outputs": [],
   "source": [
    "df.filter(F.col('geohash')=='9p').select('origin_airport_name').distinct().show()\n",
    "#longest avg delay times"
   ]
  },
  {
   "cell_type": "code",
   "execution_count": 0,
   "metadata": {
    "application/vnd.databricks.v1+cell": {
     "cellMetadata": {
      "byteLimit": 2048000,
      "rowLimit": 10000
     },
     "inputWidgets": {},
     "nuid": "e3b832b7-69c7-4ce6-9608-f39734ead978",
     "showTitle": false,
     "tableResultSettingsMap": {},
     "title": ""
    }
   },
   "outputs": [],
   "source": [
    "df.filter(F.col('geohash')=='bs').select('origin_airport_name').distinct().show()\n",
    "#shortest avg delay times "
   ]
  },
  {
   "cell_type": "code",
   "execution_count": 0,
   "metadata": {
    "application/vnd.databricks.v1+cell": {
     "cellMetadata": {
      "byteLimit": 2048000,
      "rowLimit": 10000
     },
     "inputWidgets": {},
     "nuid": "2528cb31-7ce2-4562-af33-75e7e529cb02",
     "showTitle": false,
     "tableResultSettingsMap": {},
     "title": ""
    }
   },
   "outputs": [],
   "source": [
    "paths_df = df.withColumn(\n",
    "    \"FLIGHT_PATH\", \n",
    "    concat_ws(\" -> \", \"origin_airport_name\", \"dest_airport_name\")\n",
    ").groupBy(\"FLIGHT_PATH\").agg(\n",
    "   F.avg(\"DEP_DELAY\").alias(\"AVG_DEP_DELAY\")\n",
    ").orderBy(\"AVG_DEP_DELAY\", ascending=False)"
   ]
  },
  {
   "cell_type": "code",
   "execution_count": 0,
   "metadata": {
    "application/vnd.databricks.v1+cell": {
     "cellMetadata": {
      "byteLimit": 2048000,
      "rowLimit": 10000
     },
     "inputWidgets": {},
     "nuid": "a97996e2-da55-4973-8fc4-e5c5b6ef0733",
     "showTitle": false,
     "tableResultSettingsMap": {},
     "title": ""
    }
   },
   "outputs": [],
   "source": [
    "display(paths_df)"
   ]
  },
  {
   "cell_type": "code",
   "execution_count": 0,
   "metadata": {
    "application/vnd.databricks.v1+cell": {
     "cellMetadata": {
      "byteLimit": 2048000,
      "rowLimit": 10000
     },
     "inputWidgets": {},
     "nuid": "0a5c0eb0-3b90-4059-9163-e7484d4762c2",
     "showTitle": false,
     "tableResultSettingsMap": {},
     "title": ""
    }
   },
   "outputs": [],
   "source": [
    "display(df.filter(F.col('DEP_DELAY')>720))"
   ]
  },
  {
   "cell_type": "code",
   "execution_count": 0,
   "metadata": {
    "application/vnd.databricks.v1+cell": {
     "cellMetadata": {
      "byteLimit": 2048000,
      "rowLimit": 10000
     },
     "inputWidgets": {},
     "nuid": "eb0276be-5b81-4f4d-ab0e-3685b693614c",
     "showTitle": false,
     "tableResultSettingsMap": {},
     "title": ""
    }
   },
   "outputs": [],
   "source": [
    "display(df_.filter(F.col('origin_airport_name')=='EGLIN AFB AIRPORT').filter(F.col('dest_airport_name')=='SARASOTA/BRADENTON INTL AP'))"
   ]
  },
  {
   "cell_type": "code",
   "execution_count": 0,
   "metadata": {
    "application/vnd.databricks.v1+cell": {
     "cellMetadata": {
      "byteLimit": 2048000,
      "rowLimit": 10000
     },
     "inputWidgets": {},
     "nuid": "e58da08d-7ad2-4ac9-9df1-d058fd46c2ca",
     "showTitle": false,
     "tableResultSettingsMap": {},
     "title": ""
    }
   },
   "outputs": [],
   "source": [
    "display(df.groupBy('origin_airport_name').agg(\n",
    "   F.avg(\"DEP_DELAY\").alias(\"AVG_DEP_DELAY\")\n",
    ").orderBy(\"AVG_DEP_DELAY\", ascending=False))"
   ]
  },
  {
   "cell_type": "code",
   "execution_count": 0,
   "metadata": {
    "application/vnd.databricks.v1+cell": {
     "cellMetadata": {
      "byteLimit": 2048000,
      "rowLimit": 10000
     },
     "inputWidgets": {},
     "nuid": "1252d557-73f5-498d-8938-cce1cc1fe359",
     "showTitle": false,
     "tableResultSettingsMap": {},
     "title": ""
    }
   },
   "outputs": [],
   "source": [
    "display(df.groupBy('dest_airport_name').agg(\n",
    "   F.avg(\"DEP_DELAY\").alias(\"AVG_DEP_DELAY\")\n",
    ").orderBy(\"AVG_DEP_DELAY\", ascending=False))"
   ]
  },
  {
   "cell_type": "code",
   "execution_count": 0,
   "metadata": {
    "application/vnd.databricks.v1+cell": {
     "cellMetadata": {
      "byteLimit": 2048000,
      "rowLimit": 10000
     },
     "inputWidgets": {},
     "nuid": "0eb5be4c-c2ac-42eb-b541-79f99ca6d3ac",
     "showTitle": false,
     "tableResultSettingsMap": {},
     "title": ""
    }
   },
   "outputs": [],
   "source": [
    "df.filter(F.col('TAIL_NUM').isNull()).count()"
   ]
  },
  {
   "cell_type": "code",
   "execution_count": 0,
   "metadata": {
    "application/vnd.databricks.v1+cell": {
     "cellMetadata": {
      "byteLimit": 2048000,
      "rowLimit": 10000
     },
     "inputWidgets": {},
     "nuid": "5a2b8b65-24e8-453c-9711-6cedd55012ec",
     "showTitle": false,
     "tableResultSettingsMap": {},
     "title": ""
    }
   },
   "outputs": [],
   "source": [
    "display(df_.filter(F.col('origin_station_lat').isNull()))"
   ]
  },
  {
   "cell_type": "code",
   "execution_count": 0,
   "metadata": {
    "application/vnd.databricks.v1+cell": {
     "cellMetadata": {
      "byteLimit": 2048000,
      "rowLimit": 10000
     },
     "inputWidgets": {},
     "nuid": "a9375110-b551-424e-a29a-87257dfc21b2",
     "showTitle": false,
     "tableResultSettingsMap": {},
     "title": ""
    }
   },
   "outputs": [],
   "source": [
    "display(df.filter(F.col('origin_airport_name')=='EGLIN AFB AIRPORT').agg(F.avg(\"DEP_DELAY\")))"
   ]
  },
  {
   "cell_type": "code",
   "execution_count": 0,
   "metadata": {
    "application/vnd.databricks.v1+cell": {
     "cellMetadata": {
      "byteLimit": 2048000,
      "rowLimit": 10000
     },
     "inputWidgets": {},
     "nuid": "332ad784-b9ec-4e1d-bbbe-4dda72f9bea5",
     "showTitle": false,
     "tableResultSettingsMap": {},
     "title": ""
    }
   },
   "outputs": [],
   "source": [
    "df"
   ]
  },
  {
   "cell_type": "code",
   "execution_count": 0,
   "metadata": {
    "application/vnd.databricks.v1+cell": {
     "cellMetadata": {
      "byteLimit": 2048000,
      "rowLimit": 10000
     },
     "inputWidgets": {},
     "nuid": "7d4b5062-defe-4bcb-a497-f002b082aa54",
     "showTitle": false,
     "tableResultSettingsMap": {},
     "title": ""
    }
   },
   "outputs": [],
   "source": [
    "display(df_.filter(F.col('origin_airport_name')=='EGLIN AFB AIRPORT').orderBy(F.col('DEP_DELAY').desc()))"
   ]
  },
  {
   "cell_type": "code",
   "execution_count": 0,
   "metadata": {
    "application/vnd.databricks.v1+cell": {
     "cellMetadata": {},
     "inputWidgets": {},
     "nuid": "7766c317-e20f-4234-addc-ea0a28d76d19",
     "showTitle": false,
     "tableResultSettingsMap": {},
     "title": ""
    }
   },
   "outputs": [],
   "source": []
  },
  {
   "cell_type": "code",
   "execution_count": 0,
   "metadata": {
    "application/vnd.databricks.v1+cell": {
     "cellMetadata": {
      "byteLimit": 2048000,
      "rowLimit": 10000
     },
     "inputWidgets": {},
     "nuid": "b6ec48fe-5cb9-4dcc-a991-92fe1388f878",
     "showTitle": false,
     "tableResultSettingsMap": {},
     "title": ""
    }
   },
   "outputs": [],
   "source": [
    "display(df.groupBy('origin_type').agg(\n",
    "   F.avg(\"DEP_DELAY\").alias(\"AVG_DEP_DELAY\")\n",
    ").orderBy(\"AVG_DEP_DELAY\", ascending=False))"
   ]
  },
  {
   "cell_type": "code",
   "execution_count": 0,
   "metadata": {
    "application/vnd.databricks.v1+cell": {
     "cellMetadata": {
      "byteLimit": 2048000,
      "rowLimit": 10000
     },
     "inputWidgets": {},
     "nuid": "05000551-1d2c-4ede-9a04-b816ff9f55cc",
     "showTitle": false,
     "tableResultSettingsMap": {},
     "title": ""
    }
   },
   "outputs": [],
   "source": [
    "# add visibility at previous airport\n",
    "\n",
    "df=df.withColumn(\n",
    "    \"prior_origin_visibility\",\n",
    "    F.lag(\"origin_HourlyVisibility\").over(\n",
    "        Window.partitionBy(\"TAIL_NUM\")\n",
    "              .orderBy(\"sched_depart_utc\")\n",
    "    )\n",
    ")\n",
    "\n",
    "df=df.withColumn(\n",
    "    \"prior_origin_precipitation\",\n",
    "    F.lag(\"origin_HourlyPrecipitation\").over(\n",
    "        Window.partitionBy(\"TAIL_NUM\")\n",
    "              .orderBy(\"sched_depart_utc\")\n",
    "    )\n",
    ")"
   ]
  },
  {
   "cell_type": "code",
   "execution_count": 0,
   "metadata": {
    "application/vnd.databricks.v1+cell": {
     "cellMetadata": {
      "byteLimit": 2048000,
      "rowLimit": 10000
     },
     "inputWidgets": {},
     "nuid": "8124e72d-7fa0-4af6-8a79-de1621455ad3",
     "showTitle": false,
     "tableResultSettingsMap": {},
     "title": ""
    }
   },
   "outputs": [],
   "source": [
    "display(df) #sanity check"
   ]
  },
  {
   "cell_type": "code",
   "execution_count": 0,
   "metadata": {
    "application/vnd.databricks.v1+cell": {
     "cellMetadata": {
      "byteLimit": 2048000,
      "rowLimit": 10000
     },
     "inputWidgets": {},
     "nuid": "4f9ef17f-2ccf-4cca-b685-a5d9daef39ab",
     "showTitle": false,
     "tableResultSettingsMap": {},
     "title": ""
    }
   },
   "outputs": [],
   "source": [
    "\n",
    "\n",
    "# Select relevant columns and convert to pandas\n",
    "cols = [\"origin_HourlyDryBulbTemperature\", \"origin_HourlyWetBulbTemperature\", \"origin_HourlyWindSpeed\", \"origin_HourlyPrecipitation\", \"origin_HourlyVisibility\", \"origin_HourlyWindGustSpeed\",\"prior_origin_visibility\",\"prior_origin_precipitation\"]\n",
    "heatmap_df = df.select(cols + [\"outcome\"]).toPandas()\n",
    "\n",
    "# Compute correlation matrix\n",
    "corr_matrix = heatmap_df.corr('spearman')\n",
    "mask = np.triu(np.ones_like(corr_matrix, dtype=bool)) #lower triangle only\n",
    "\n",
    "# Plot heatmap\n",
    "plt.figure(figsize=(8, 6))\n",
    "sns.heatmap(corr_matrix, mask=mask, annot=True, cmap=\"coolwarm\", vmin=-1, vmax=1)\n",
    "plt.title(\"Correlation Heatmap\")\n",
    "plt.show()"
   ]
  },
  {
   "cell_type": "code",
   "execution_count": 0,
   "metadata": {
    "application/vnd.databricks.v1+cell": {
     "cellMetadata": {
      "byteLimit": 2048000,
      "rowLimit": 10000
     },
     "inputWidgets": {},
     "nuid": "ba5cd1d1-ebc8-4133-83c9-4d2ad4dce63b",
     "showTitle": false,
     "tableResultSettingsMap": {},
     "title": ""
    }
   },
   "outputs": [],
   "source": [
    "\n",
    "\n",
    "# Select relevant columns and convert to pandas\n",
    "cols = [\"QUARTER\",\"MONTH\", \"DAY_OF_MONTH\", \"AIR_TIME\", \"DISTANCE\"]\n",
    "flights_heatmap = df.select(cols + [\"outcome\"]).toPandas()\n",
    "\n",
    "# Compute correlation matrix\n",
    "corr_matrix = flights_heatmap.corr('spearman')\n",
    "mask = np.triu(np.ones_like(corr_matrix, dtype=bool)) #lower triangle only\n",
    "\n",
    "# Plot heatmap\n",
    "plt.figure(figsize=(8, 6))\n",
    "sns.heatmap(corr_matrix, mask=mask, annot=True, cmap=\"coolwarm\", vmin=-1, vmax=1)\n",
    "plt.title(\"Correlation Heatmap\")\n",
    "plt.show()"
   ]
  },
  {
   "cell_type": "code",
   "execution_count": 0,
   "metadata": {
    "application/vnd.databricks.v1+cell": {
     "cellMetadata": {
      "byteLimit": 2048000,
      "rowLimit": 10000
     },
     "inputWidgets": {},
     "nuid": "46e4c1a1-38af-4ebc-8935-fdc66872766a",
     "showTitle": false,
     "tableResultSettingsMap": {},
     "title": ""
    }
   },
   "outputs": [],
   "source": [
    "df.columns"
   ]
  },
  {
   "cell_type": "code",
   "execution_count": 0,
   "metadata": {
    "application/vnd.databricks.v1+cell": {
     "cellMetadata": {
      "byteLimit": 2048000,
      "rowLimit": 10000
     },
     "inputWidgets": {},
     "nuid": "77645ad6-8abd-4398-aa55-00bede28f298",
     "showTitle": false,
     "tableResultSettingsMap": {},
     "title": ""
    }
   },
   "outputs": [],
   "source": [
    "# Select relevant columns and convert to pandas\n",
    "cols = [\"priorflight_depdelay_final\",\"priorflight_crs_elapsed_time\", \"priorflight_distance\", \"priorflight_isdelayed\", \"priorflight_arrived\"]\n",
    "flights_heatmap = df.select(cols + [\"outcome\"]).toPandas()\n",
    "\n",
    "# Compute correlation matrix\n",
    "corr_matrix = flights_heatmap.corr('spearman')\n",
    "mask = np.triu(np.ones_like(corr_matrix, dtype=bool)) #lower triangle only\n",
    "\n",
    "\n",
    "# Plot heatmap\n",
    "plt.figure(figsize=(8, 6))\n",
    "sns.heatmap(corr_matrix, mask=mask, annot=True, cmap=\"coolwarm\", vmin=-1, vmax=1, \n",
    "            xticklabels=[\"Prior Flight Dep Delay\", \"Prior Flight CRS Elapsed Time\", \"Prior Flight Distance\", \"Prior Flight Is Delayed\", \"Prior Flight Arrived\", \"Dep Delay\"],\n",
    "            yticklabels=[\"Prior Flight Dep Delay\", \"Prior Flight CRS Elapsed Time\", \"Prior Flight Distance\", \"Prior Flight Is Delayed\", \"Prior Flight Arrived\", \"Dep Delay\"])\n",
    "plt.title(\"Correlation Heatmap\")\n",
    "plt.xticks(rotation=75)\n",
    "plt.show()"
   ]
  },
  {
   "cell_type": "markdown",
   "metadata": {
    "application/vnd.databricks.v1+cell": {
     "cellMetadata": {},
     "inputWidgets": {},
     "nuid": "b129e05b-962a-4d36-87e6-410be2350bd7",
     "showTitle": false,
     "tableResultSettingsMap": {},
     "title": ""
    }
   },
   "source": [
    "## Maps"
   ]
  },
  {
   "cell_type": "code",
   "execution_count": 0,
   "metadata": {
    "application/vnd.databricks.v1+cell": {
     "cellMetadata": {
      "byteLimit": 2048000,
      "rowLimit": 10000
     },
     "collapsed": true,
     "inputWidgets": {},
     "nuid": "6bc12c4e-dccc-4405-836b-823afda34405",
     "showTitle": false,
     "tableResultSettingsMap": {},
     "title": ""
    }
   },
   "outputs": [],
   "source": [
    "!pip install python-geohash\n",
    "!pip install geopandas"
   ]
  },
  {
   "cell_type": "code",
   "execution_count": 0,
   "metadata": {
    "application/vnd.databricks.v1+cell": {
     "cellMetadata": {
      "byteLimit": 2048000,
      "rowLimit": 10000
     },
     "inputWidgets": {},
     "nuid": "3becc3e1-0951-4bc0-a91a-e0d8a358b3ff",
     "showTitle": false,
     "tableResultSettingsMap": {},
     "title": ""
    }
   },
   "outputs": [],
   "source": [
    "import plotly.express as px\n",
    "import plotly.graph_objects as go\n",
    "import geohash\n",
    "import geopandas as gpd\n",
    "from shapely.geometry import Polygon\n",
    "import json"
   ]
  },
  {
   "cell_type": "markdown",
   "metadata": {
    "application/vnd.databricks.v1+cell": {
     "cellMetadata": {},
     "inputWidgets": {},
     "nuid": "12ccbd8e-6073-4e95-befb-1e7147521310",
     "showTitle": false,
     "tableResultSettingsMap": {},
     "title": ""
    }
   },
   "source": [
    "### by geohash"
   ]
  },
  {
   "cell_type": "code",
   "execution_count": 0,
   "metadata": {
    "application/vnd.databricks.v1+cell": {
     "cellMetadata": {
      "byteLimit": 2048000,
      "rowLimit": 10000
     },
     "inputWidgets": {},
     "nuid": "44e1a6c5-0f27-4271-b7bd-8e493ffc6bd0",
     "showTitle": false,
     "tableResultSettingsMap": {},
     "title": ""
    }
   },
   "outputs": [],
   "source": [
    "ghdf=df.groupBy('geohash').agg(F.avg('DEP_DELAY').alias('AVG_DELAY')).toPandas()\n",
    "ghdf.dropna(subset=['geohash'],inplace=True)"
   ]
  },
  {
   "cell_type": "code",
   "execution_count": 0,
   "metadata": {
    "application/vnd.databricks.v1+cell": {
     "cellMetadata": {
      "byteLimit": 2048000,
      "rowLimit": 10000
     },
     "inputWidgets": {},
     "nuid": "de9484b2-5c2a-4a17-8290-aca645adecda",
     "showTitle": false,
     "tableResultSettingsMap": {},
     "title": ""
    }
   },
   "outputs": [],
   "source": [
    "def geohash_to_polygon(gh):\n",
    "    bbox = geohash.bbox(gh)  # Get bounding box for the geohash\n",
    "    return Polygon([\n",
    "        (bbox['w'], bbox['s']),  # Southwest corner\n",
    "        (bbox['e'], bbox['s']),  # Southeast corner\n",
    "        (bbox['e'], bbox['n']),  # Northeast corner\n",
    "        (bbox['w'], bbox['n']),  # Northwest corner\n",
    "        (bbox['w'], bbox['s'])   # Close the polygon\n",
    "    ])\n",
    "\n",
    "# Convert your DataFrame into a GeoDataFrame with polygons\n",
    "ghdf[\"geometry\"] = ghdf[\"geohash\"].apply(geohash_to_polygon)\n",
    "gdf = gpd.GeoDataFrame(ghdf, geometry=\"geometry\")\n",
    "gdf.set_crs(epsg=4326, inplace=True)"
   ]
  },
  {
   "cell_type": "code",
   "execution_count": 0,
   "metadata": {
    "application/vnd.databricks.v1+cell": {
     "cellMetadata": {
      "byteLimit": 2048000,
      "rowLimit": 10000
     },
     "inputWidgets": {},
     "nuid": "d631a9d1-f500-4a39-8239-c61e573227aa",
     "showTitle": false,
     "tableResultSettingsMap": {},
     "title": ""
    }
   },
   "outputs": [],
   "source": [
    "geojson = json.loads(gdf.set_index('geohash').to_json())  # Set geohash as index first"
   ]
  },
  {
   "cell_type": "code",
   "execution_count": 0,
   "metadata": {
    "application/vnd.databricks.v1+cell": {
     "cellMetadata": {
      "byteLimit": 2048000,
      "rowLimit": 10000
     },
     "inputWidgets": {},
     "nuid": "b6a4e5d9-1095-4f04-b719-a79eaad20533",
     "showTitle": false,
     "tableResultSettingsMap": {},
     "title": ""
    }
   },
   "outputs": [],
   "source": [
    "fig = px.choropleth_mapbox(\n",
    "    ghdf,\n",
    "    geojson=geojson,\n",
    "    locations='geohash',  # Matches GeoJSON feature IDs\n",
    "    color='AVG_DELAY',\n",
    "    color_continuous_scale=\"YlOrRd\",\n",
    "    range_color=(gdf['AVG_DELAY'].min(), gdf['AVG_DELAY'].max()),\n",
    "    mapbox_style=\"open-street-map\",\n",
    "    zoom=3,\n",
    "    center={\"lat\": 37.6, \"lon\": -95.6},  # Center on US\n",
    "    opacity=0.3,\n",
    "    labels={'AVG_DELAY': 'Avg Delay (minutes)'}\n",
    ")\n",
    "\n",
    "fig.update_traces(marker_line_width=0)\n",
    "\n",
    "# Customize layout\n",
    "fig.update_layout(\n",
    "    margin={\"r\":20,\"t\":40,\"l\":20,\"b\":20},\n",
    "    coloraxis_colorbar={\n",
    "        'title': 'Delay',\n",
    "        'thickness': 20,\n",
    "        'len': 0.5\n",
    "    }\n",
    ")\n",
    "\n",
    "fig.show()"
   ]
  },
  {
   "cell_type": "markdown",
   "metadata": {
    "application/vnd.databricks.v1+cell": {
     "cellMetadata": {},
     "inputWidgets": {},
     "nuid": "eecdac28-17ef-4a10-841a-517b28b5085e",
     "showTitle": false,
     "tableResultSettingsMap": {},
     "title": ""
    }
   },
   "source": [
    "### by origin airport"
   ]
  },
  {
   "cell_type": "code",
   "execution_count": 0,
   "metadata": {
    "application/vnd.databricks.v1+cell": {
     "cellMetadata": {
      "byteLimit": 2048000,
      "rowLimit": 10000
     },
     "inputWidgets": {},
     "nuid": "0bc67ab2-650a-4930-8e77-c4d3d2768cf5",
     "showTitle": false,
     "tableResultSettingsMap": {},
     "title": ""
    }
   },
   "outputs": [],
   "source": [
    "adf=df.groupBy('origin_airport_name').agg(F.avg('DEP_DELAY').alias('AVG_DELAY')).filter(F.col('AVG_DELAY')>=0).join(df.select('origin_airport_name','origin_airport_lat','origin_airport_lon'),on='origin_airport_name',how='left_outer').toPandas()"
   ]
  },
  {
   "cell_type": "code",
   "execution_count": 0,
   "metadata": {
    "application/vnd.databricks.v1+cell": {
     "cellMetadata": {
      "byteLimit": 2048000,
      "rowLimit": 10000
     },
     "inputWidgets": {},
     "nuid": "0e06c307-f386-4b56-beda-f0c5e55a4f58",
     "showTitle": false,
     "tableResultSettingsMap": {},
     "title": ""
    }
   },
   "outputs": [],
   "source": [
    "adf=adf[adf['AVG_DELAY']>=0].drop_duplicates(subset=['origin_airport_name'])\n",
    "adf_=df.groupBy('origin_airport_name').count().select('origin_airport_name','count').distinct().toPandas()\n",
    "adf=pd.merge(adf,adf_,on='origin_airport_name',how='left')"
   ]
  },
  {
   "cell_type": "code",
   "execution_count": 0,
   "metadata": {
    "application/vnd.databricks.v1+cell": {
     "cellMetadata": {
      "byteLimit": 2048000,
      "rowLimit": 10000
     },
     "inputWidgets": {},
     "nuid": "63d6edac-ea6c-47b5-a7e4-46ef44abf48d",
     "showTitle": false,
     "tableResultSettingsMap": {},
     "title": ""
    }
   },
   "outputs": [],
   "source": [
    "fig = go.Figure()\n",
    "\n",
    "fig.add_trace(go.Scattergeo(\n",
    "    locationmode='USA-states',       # Use USA state locations\n",
    "    lon=adf['origin_airport_lon'],          # Longitude of airports\n",
    "    lat=adf['origin_airport_lat'],          # Latitude of airports\n",
    "    text=adf['origin_airport_name'] + '<br>Avg Delay: ' + adf['AVG_DELAY'].astype(str) + ' mins',\n",
    "    marker=dict(\n",
    "        size=adf['count'].apply(lambda x: x/adf['count'].sum())*500,  # Marker size based on relative # flights at that airport\n",
    "        sizemin=2, #otherwise we can't see the alaska ones\n",
    "        color=adf['AVG_DELAY'], # Marker color based on avg delay\n",
    "        colorscale='YlOrRd', \n",
    "        cmin=adf['AVG_DELAY'].min(),\n",
    "        cmax=adf['AVG_DELAY'].max(),\n",
    "        colorbar=dict(\n",
    "            title=\"Avg Delay (mins)\"\n",
    "        ),\n",
    "        opacity=0.8,\n",
    "        line=dict(width=.3)  # border to help visibility as well\n",
    "    )\n",
    "))\n",
    "\n",
    "# Update layout for better visualization\n",
    "fig.update_layout(\n",
    "    title='Average Flight Delays by Airport',\n",
    "    geo=dict(\n",
    "        showland=True,\n",
    "        landcolor=\"teal\",\n",
    "        subunitwidth=1,\n",
    "        countrywidth=1,\n",
    "        countrycolor=\"white\",\n",
    "        showlakes=False,\n",
    "        bgcolor=\"lightblue\",  # Set map background color to blue\n",
    "        subunitcolor=\"white\"  # Draw state borders\n",
    "    ),\n",
    "    margin={\"r\":0,\"t\":50,\"l\":0,\"b\":0}\n",
    ")\n",
    "\n",
    "fig.show()"
   ]
  },
  {
   "cell_type": "markdown",
   "metadata": {
    "application/vnd.databricks.v1+cell": {
     "cellMetadata": {},
     "inputWidgets": {},
     "nuid": "5a2d46e2-6ad0-4e28-b849-b27a7b4038fa",
     "showTitle": false,
     "tableResultSettingsMap": {},
     "title": ""
    }
   },
   "source": [
    "### by previous airport"
   ]
  },
  {
   "cell_type": "code",
   "execution_count": 0,
   "metadata": {
    "application/vnd.databricks.v1+cell": {
     "cellMetadata": {
      "byteLimit": 2048000,
      "rowLimit": 10000
     },
     "inputWidgets": {},
     "nuid": "8dd1c1ac-005f-4342-8592-ced384d941e4",
     "showTitle": false,
     "tableResultSettingsMap": {},
     "title": ""
    }
   },
   "outputs": [],
   "source": [
    "pdf=df.groupBy('priorflight_origin').agg(F.avg('DEP_DELAY').alias('AVG_DEP_DELAY')).filter(F.col('AVG_DEP_DELAY')>=0)\n",
    "pdf=pdf.toPandas().drop_duplicates(subset=['priorflight_origin'])\n"
   ]
  },
  {
   "cell_type": "code",
   "execution_count": 0,
   "metadata": {
    "application/vnd.databricks.v1+cell": {
     "cellMetadata": {
      "byteLimit": 2048000,
      "rowLimit": 10000
     },
     "inputWidgets": {},
     "nuid": "fccd427d-7c72-4f93-8a97-04697833ddd9",
     "showTitle": false,
     "tableResultSettingsMap": {},
     "title": ""
    }
   },
   "outputs": [],
   "source": [
    "priors=df.select('priorflight_origin').distinct().withColumnRenamed('priorflight_origin', 'origin').join(df.select('origin', 'origin_airport_lat', 'origin_airport_lon'),on='origin',how='left')\n"
   ]
  },
  {
   "cell_type": "code",
   "execution_count": 0,
   "metadata": {
    "application/vnd.databricks.v1+cell": {
     "cellMetadata": {
      "byteLimit": 2048000,
      "rowLimit": 10000
     },
     "inputWidgets": {},
     "nuid": "aa9a230b-a400-4236-a231-a2e400514270",
     "showTitle": false,
     "tableResultSettingsMap": {},
     "title": ""
    }
   },
   "outputs": [],
   "source": [
    "priors=priors.drop_duplicates(subset=['origin']).toPandas()"
   ]
  },
  {
   "cell_type": "code",
   "execution_count": 0,
   "metadata": {
    "application/vnd.databricks.v1+cell": {
     "cellMetadata": {
      "byteLimit": 2048000,
      "rowLimit": 10000
     },
     "inputWidgets": {},
     "nuid": "f3d0c604-543e-4c48-a504-9652b15d10f2",
     "showTitle": false,
     "tableResultSettingsMap": {},
     "title": ""
    }
   },
   "outputs": [],
   "source": [
    "pdf=pd.merge(pdf, priors, left_on='priorflight_origin', right_on='origin', how='left')"
   ]
  },
  {
   "cell_type": "code",
   "execution_count": 0,
   "metadata": {
    "application/vnd.databricks.v1+cell": {
     "cellMetadata": {
      "byteLimit": 2048000,
      "rowLimit": 10000
     },
     "inputWidgets": {},
     "nuid": "9aff079f-1d10-45ac-a055-e15afa88f902",
     "showTitle": false,
     "tableResultSettingsMap": {},
     "title": ""
    }
   },
   "outputs": [],
   "source": [
    "pdf_=df.groupBy('priorflight_origin').count().select('priorflight_origin','count').distinct().toPandas()\n",
    "pdf=pd.merge(pdf,pdf_,on='priorflight_origin',how='left')"
   ]
  },
  {
   "cell_type": "code",
   "execution_count": 0,
   "metadata": {
    "application/vnd.databricks.v1+cell": {
     "cellMetadata": {
      "byteLimit": 2048000,
      "rowLimit": 10000
     },
     "inputWidgets": {},
     "nuid": "87a74287-1048-4eae-b848-3069241478a7",
     "showTitle": false,
     "tableResultSettingsMap": {},
     "title": ""
    }
   },
   "outputs": [],
   "source": [
    "fig = go.Figure()\n",
    "\n",
    "fig.add_trace(go.Scattergeo(\n",
    "    locationmode='USA-states',       # Use USA state locations\n",
    "    lon=pdf['origin_airport_lon'],          # Longitude of airports\n",
    "    lat=pdf['origin_airport_lat'],          # Latitude of airports\n",
    "    text=pdf['priorflight_origin'] + '<br>Avg Delay: ' + pdf['AVG_DEP_DELAY'].astype(str) + ' mins',\n",
    "    marker=dict(\n",
    "        size=pdf['count'].apply(lambda x: x/pdf['count'].sum())*500,  # Marker size based on relative # flights at that airport\n",
    "        sizemin=2, #otherwise we can't see the alaska ones\n",
    "        color=pdf['AVG_DEP_DELAY'], # Marker color based on avg delay\n",
    "        colorscale='YlOrRd', \n",
    "        cmin=pdf['AVG_DEP_DELAY'].min(),\n",
    "        cmax=pdf['AVG_DEP_DELAY'].max(),\n",
    "        colorbar=dict(\n",
    "            title=\"Avg Delay (mins)\"\n",
    "        ),\n",
    "        opacity=0.8,\n",
    "        line=dict(width=.3)  # border to help visibility as well\n",
    "    )\n",
    "))\n",
    "\n",
    "# Update layout for better visualization\n",
    "fig.update_layout(\n",
    "    title='Average Flight Delays by Airport',\n",
    "    geo=dict(\n",
    "        showland=True,\n",
    "        landcolor=\"teal\",\n",
    "        subunitwidth=1,\n",
    "        countrywidth=1,\n",
    "        countrycolor=\"white\",\n",
    "        showlakes=False,\n",
    "        bgcolor=\"lightblue\",  # Set map background color to blue\n",
    "        subunitcolor=\"white\"  # Draw state borders\n",
    "    ),\n",
    "    margin={\"r\":0,\"t\":50,\"l\":0,\"b\":0}\n",
    ")\n",
    "\n",
    "fig.show()"
   ]
  },
  {
   "cell_type": "code",
   "execution_count": 0,
   "metadata": {
    "application/vnd.databricks.v1+cell": {
     "cellMetadata": {
      "byteLimit": 2048000,
      "rowLimit": 10000
     },
     "inputWidgets": {},
     "nuid": "68908a6e-799b-4c64-bec5-e72acc585af4",
     "showTitle": false,
     "tableResultSettingsMap": {},
     "title": ""
    }
   },
   "outputs": [],
   "source": [
    "import plotly.graph_objects as go\n",
    "\n",
    "# Create the figure\n",
    "fig = go.Figure()\n",
    "\n",
    "# Trace 1: Arriving From\n",
    "fig.add_trace(go.Scattergeo(\n",
    "    locationmode='USA-states',\n",
    "    lon=pdf['origin_airport_lon'],\n",
    "    lat=pdf['origin_airport_lat'],\n",
    "    text=pdf['priorflight_origin'] + '<br>Avg Delay: ' + pdf['AVG_DEP_DELAY'].astype(str) + ' mins',\n",
    "    marker=dict(\n",
    "        size=pdf['count'].apply(lambda x: x / pdf['count'].sum()) * 500,\n",
    "        sizemin=2,\n",
    "        color=pdf['AVG_DEP_DELAY'],\n",
    "        colorscale='YlOrRd',\n",
    "        cmin=pdf['AVG_DEP_DELAY'].min(),\n",
    "        cmax=pdf['AVG_DEP_DELAY'].max(),\n",
    "        colorbar=dict(\n",
    "            title=\"Arrival Delay (mins)\",\n",
    "            x=0.85,  # Positioned to the left of Departure colorbar\n",
    "            y=0.5,\n",
    "            len=0.4\n",
    "        ),\n",
    "        opacity=0.3,\n",
    "        line=dict(width=0.3)\n",
    "    ),\n",
    "    name=\"Arriving From\"\n",
    "))\n",
    "\n",
    "# Trace 2: Departing Delayed From\n",
    "fig.add_trace(go.Scattergeo(\n",
    "    locationmode='USA-states',\n",
    "    lon=adf['origin_airport_lon'],\n",
    "    lat=adf['origin_airport_lat'],\n",
    "    text=adf['origin_airport_name'] + '<br>Avg Delay: ' + adf['AVG_DELAY'].astype(str) + ' mins',\n",
    "    marker=dict(\n",
    "        size=adf['count'].apply(lambda x: x / adf['count'].sum()) * 500,\n",
    "        sizemin=2,\n",
    "        color=adf['AVG_DELAY'],\n",
    "        colorscale='Viridis',\n",
    "        cmin=adf['AVG_DELAY'].min(),\n",
    "        cmax=adf['AVG_DELAY'].max(),\n",
    "        colorbar=dict(\n",
    "            title=\"Departure Delay (mins)\",\n",
    "            x=1.0,  # Positioned to the right of Arrival colorbar\n",
    "            y=0.5,\n",
    "            len=0.4\n",
    "        ),\n",
    "        opacity=0.3,\n",
    "        line=dict(width=0.3)\n",
    "    ),\n",
    "    name=\"Departing Delayed From\"\n",
    "))\n",
    "\n",
    "# Update layout with margin adjustments\n",
    "fig.update_layout(\n",
    "    title='Average Flight Delays by Airport (Arriving vs Departing)',\n",
    "    geo=dict(\n",
    "        showland=True,\n",
    "        landcolor=\"teal\",\n",
    "        subunitcolor=\"white\",\n",
    "        bgcolor=\"lightblue\"\n",
    "    ),\n",
    "    margin={\"r\":150,\"t\":50,\"l\":0,\"b\":0}  # Increased right margin for colorbars\n",
    ")\n"
   ]
  },
  {
   "cell_type": "markdown",
   "metadata": {
    "application/vnd.databricks.v1+cell": {
     "cellMetadata": {},
     "inputWidgets": {},
     "nuid": "c6cfed06-5f06-44a6-89c3-a54903aa12fa",
     "showTitle": false,
     "tableResultSettingsMap": {},
     "title": ""
    }
   },
   "source": []
  },
  {
   "cell_type": "markdown",
   "metadata": {
    "application/vnd.databricks.v1+cell": {
     "cellMetadata": {},
     "inputWidgets": {},
     "nuid": "638e1f95-e882-47d4-89bc-047adacd4cd5",
     "showTitle": false,
     "tableResultSettingsMap": {},
     "title": ""
    }
   },
   "source": [
    "# Duplicates"
   ]
  },
  {
   "cell_type": "code",
   "execution_count": 0,
   "metadata": {
    "application/vnd.databricks.v1+cell": {
     "cellMetadata": {
      "byteLimit": 2048000,
      "rowLimit": 10000
     },
     "inputWidgets": {},
     "nuid": "c949355b-2b8c-49f8-8244-7d3d76dc86ac",
     "showTitle": false,
     "tableResultSettingsMap": {},
     "title": ""
    }
   },
   "outputs": [],
   "source": [
    "df=spark.read.parquet(\"dbfs:/student-groups/Group_4_1/interim/join_checkpoints/joined_1y_weather_cleaned_combo_pfd.parquet\")"
   ]
  },
  {
   "cell_type": "code",
   "execution_count": 0,
   "metadata": {
    "application/vnd.databricks.v1+cell": {
     "cellMetadata": {
      "byteLimit": 2048000,
      "rowLimit": 10000
     },
     "inputWidgets": {},
     "nuid": "704e439e-542b-4ab4-9300-236a34788b99",
     "showTitle": false,
     "tableResultSettingsMap": {},
     "title": ""
    }
   },
   "outputs": [],
   "source": [
    "dups=df.groupBy('sched_depart_utc','TAIL_NUM').count().filter(F.col('count')>1)"
   ]
  },
  {
   "cell_type": "code",
   "execution_count": 0,
   "metadata": {
    "application/vnd.databricks.v1+cell": {
     "cellMetadata": {
      "byteLimit": 2048000,
      "rowLimit": 10000
     },
     "inputWidgets": {},
     "nuid": "90530804-db5f-4815-b004-eface38f5ea7",
     "showTitle": false,
     "tableResultSettingsMap": {},
     "title": ""
    }
   },
   "outputs": [],
   "source": [
    "display(dups.filter(F.col('TAIL_NUM').isNotNull()))"
   ]
  },
  {
   "cell_type": "code",
   "execution_count": 0,
   "metadata": {
    "application/vnd.databricks.v1+cell": {
     "cellMetadata": {
      "byteLimit": 2048000,
      "rowLimit": 10000
     },
     "inputWidgets": {},
     "nuid": "4a65ea6e-1ca8-4891-a917-24ec23135b80",
     "showTitle": false,
     "tableResultSettingsMap": {},
     "title": ""
    }
   },
   "outputs": [],
   "source": [
    "dups_info=dups.join(df,on=['sched_depart_utc','TAIL_NUM'], how='left')"
   ]
  },
  {
   "cell_type": "code",
   "execution_count": 0,
   "metadata": {
    "application/vnd.databricks.v1+cell": {
     "cellMetadata": {
      "byteLimit": 2048000,
      "rowLimit": 10000
     },
     "inputWidgets": {},
     "nuid": "b2549b86-57ba-432b-a564-09d6e4fb2882",
     "showTitle": false,
     "tableResultSettingsMap": {},
     "title": ""
    }
   },
   "outputs": [],
   "source": [
    "dups_info.checkpoint()"
   ]
  },
  {
   "cell_type": "code",
   "execution_count": 0,
   "metadata": {
    "application/vnd.databricks.v1+cell": {
     "cellMetadata": {
      "byteLimit": 2048000,
      "rowLimit": 10000
     },
     "inputWidgets": {},
     "nuid": "166b0fda-ac27-48aa-9f0b-0df4d5f43af7",
     "showTitle": false,
     "tableResultSettingsMap": {
      "0": {
       "filterBlob": "{\"filterGroups\":[{\"enabled\":true,\"filterGroupId\":\"fg_ba2486e8\",\"op\":\"OR\",\"filters\":[{\"filterId\":\"f_620d0099\",\"enabled\":true,\"columnId\":\"TAIL_NUM\",\"dataType\":\"string\",\"filterType\":\"nulln\"}],\"local\":false,\"updatedAt\":1743623438796}],\"syncTimestamp\":1743623438796}",
       "tableResultIndex": 0
      }
     },
     "title": ""
    }
   },
   "outputs": [],
   "source": [
    "display(dups_info.filter(F.col('TAIL_NUM').isNotNull()).orderBy('TAIL_NUM','sched_depart_utc'))"
   ]
  },
  {
   "cell_type": "code",
   "execution_count": 0,
   "metadata": {
    "application/vnd.databricks.v1+cell": {
     "cellMetadata": {
      "byteLimit": 2048000,
      "rowLimit": 10000
     },
     "inputWidgets": {},
     "nuid": "966befd6-f786-48a5-886a-c5521f998882",
     "showTitle": false,
     "tableResultSettingsMap": {},
     "title": ""
    }
   },
   "outputs": [],
   "source": [
    "display(dups_info.orderBy('sched_depart_utc','TAIL_NUM'))"
   ]
  },
  {
   "cell_type": "code",
   "execution_count": 0,
   "metadata": {
    "application/vnd.databricks.v1+cell": {
     "cellMetadata": {
      "byteLimit": 2048000,
      "rowLimit": 10000
     },
     "inputWidgets": {},
     "nuid": "1e041c44-7862-4952-b0cc-cdc90c00aca4",
     "showTitle": false,
     "tableResultSettingsMap": {},
     "title": ""
    }
   },
   "outputs": [],
   "source": [
    "dups_info.count()"
   ]
  },
  {
   "cell_type": "code",
   "execution_count": 0,
   "metadata": {
    "application/vnd.databricks.v1+cell": {
     "cellMetadata": {
      "byteLimit": 2048000,
      "rowLimit": 10000
     },
     "inputWidgets": {},
     "nuid": "8774e9e9-29d6-4c26-b802-6843254e6874",
     "showTitle": false,
     "tableResultSettingsMap": {},
     "title": ""
    }
   },
   "outputs": [],
   "source": [
    "dups_info.filter(F.col('CANCELLED')==0).filter(F.col('DEP_DELAY').isNull()).count() #they're all either delayed or cancelled flights"
   ]
  },
  {
   "cell_type": "markdown",
   "metadata": {
    "application/vnd.databricks.v1+cell": {
     "cellMetadata": {},
     "inputWidgets": {},
     "nuid": "808f77a8-0cea-493d-8bd1-9eb875c69cad",
     "showTitle": false,
     "tableResultSettingsMap": {},
     "title": ""
    }
   },
   "source": [
    "# Sandbox"
   ]
  },
  {
   "cell_type": "markdown",
   "metadata": {
    "application/vnd.databricks.v1+cell": {
     "cellMetadata": {
      "byteLimit": 2048000,
      "rowLimit": 10000
     },
     "inputWidgets": {},
     "nuid": "f2463f81-3266-40e4-be52-af99016e003a",
     "showTitle": false,
     "tableResultSettingsMap": {},
     "title": ""
    }
   },
   "source": [
    "## Optim - exp smoothing udf"
   ]
  },
  {
   "cell_type": "code",
   "execution_count": 0,
   "metadata": {
    "application/vnd.databricks.v1+cell": {
     "cellMetadata": {
      "byteLimit": 2048000,
      "rowLimit": 10000
     },
     "inputWidgets": {},
     "nuid": "2e3e73f6-67a1-4233-860e-221a795413f8",
     "showTitle": false,
     "tableResultSettingsMap": {},
     "title": ""
    }
   },
   "outputs": [],
   "source": [
    "df_interpolate = df_interpolate.withColumns(\n",
    "    {\"origin_HourlyPrecipitation\": df_interpolate[\"origin_HourlyPrecipitation\"].cast(\"float\"),\n",
    "     \"origin_HourlyWindGustSpeed\": df_interpolate[\"origin_HourlyWindGustSpeed\"].cast(\"float\"),\n",
    "     \"origin_HourlyWindSpeed\": df_interpolate[\"origin_HourlyWindSpeed\"].cast(\"float\"),\n",
    "     \"origin_HourlyDewPointTemperature\": df_interpolate[\"origin_HourlyDewPointTemperature\"].cast(\"float\"),\n",
    "     \"origin_HourlyDryBulbTemperature\": df_interpolate[\"origin_HourlyDryBulbTemperature\"].cast(\"float\"),\n",
    "     \"origin_HourlyPressureChange\": df_interpolate[\"origin_HourlyPressureChange\"].cast(\"float\"),\n",
    "     \"origin_HourlyRelativeHumidity\": df_interpolate[\"origin_HourlyRelativeHumidity\"].cast(\"float\"),\n",
    "     \"origin_HourlyWetBulbTemperature\": df_interpolate[\"origin_HourlyWetBulbTemperature\"].cast(\"float\"),\n",
    "     \"origin_HourlyVisibility\": df_interpolate[\"origin_HourlyVisibility\"].cast(\"float\")\n",
    "     \n",
    "     \n",
    "     })"
   ]
  },
  {
   "cell_type": "code",
   "execution_count": 0,
   "metadata": {
    "application/vnd.databricks.v1+cell": {
     "cellMetadata": {
      "byteLimit": 2048000,
      "rowLimit": 10000
     },
     "inputWidgets": {},
     "nuid": "e2a3875e-0316-434a-862e-d01f715948cd",
     "showTitle": false,
     "tableResultSettingsMap": {},
     "title": ""
    }
   },
   "outputs": [],
   "source": [
    "\n",
    "\n",
    "def smooth_column_optimized(\n",
    "    df, \n",
    "    col_name, \n",
    "    station_col=\"origin_STATION\", \n",
    "    dt_col=\"sched_depart_date_time\", \n",
    "    alpha=0.5, \n",
    "    window_size=6\n",
    "):\n",
    "    \"\"\"Applies exponential smoothing using vectorized Pandas UDF\"\"\"\n",
    "    \n",
    "    # 1. Define window to collect past non-null values (per station)\n",
    "    window_spec = Window.partitionBy(station_col) \\\n",
    "                       .orderBy(F.col(dt_col).cast(\"long\")) \\\n",
    "                       .rowsBetween(-window_size, 0)\n",
    "\n",
    "    # 2. Collect non-null values within the window\n",
    "    df = df.withColumn(\n",
    "        f\"non_null_{col_name}\",\n",
    "        F.collect_list(F.col(col_name)).over(window_spec)\n",
    "    )\n",
    "\n",
    "    # 3. Vectorized Pandas UDF for exponential smoothing\n",
    "    \n",
    "    @pandas_udf(DoubleType())\n",
    "    def exponential_smoothing_pandas(values: pd.Series) -> pd.Series:\n",
    "        #if all values are empty,\n",
    "        if values.empty or not pd.api.types.is_numeric_dtype(values):\n",
    "            return pd.Series([0.0] * len(values))\n",
    "        #compute exponential moving average\n",
    "        return values.ewm(alpha=0.5, ignore_na=True).mean()\n",
    "\n",
    "    # 4. Apply smoothing and fill nulls\n",
    "    return (\n",
    "        df.withColumn(f\"smoothed_{col_name}\", exponential_smoothing_pandas(F.col(f\"non_null_{col_name}\")))\n",
    "          .withColumn(col_name, F.coalesce(F.col(col_name), F.col(f\"smoothed_{col_name}\"), F.lit(0.0)))\n",
    "          .drop(f\"non_null_{col_name}\", f\"smoothed_{col_name}\")\n",
    "    )\n"
   ]
  },
  {
   "cell_type": "code",
   "execution_count": 0,
   "metadata": {
    "application/vnd.databricks.v1+cell": {
     "cellMetadata": {
      "byteLimit": 2048000,
      "rowLimit": 10000
     },
     "inputWidgets": {},
     "nuid": "c8eff320-046e-408e-bcd5-9577c478f542",
     "showTitle": false,
     "tableResultSettingsMap": {},
     "title": ""
    }
   },
   "outputs": [],
   "source": [
    "\n",
    "\n",
    "@pandas_udf(DoubleType())\n",
    "def exponential_smoothing_pandas(values: pd.Series) -> pd.Series:\n",
    "    \"\"\"Vectorized UDF for exponential smoothing.\"\"\"\n",
    "    if values.empty or not pd.api.types.is_numeric_dtype(values):\n",
    "        return pd.Series([0.0] * len(values))  # Handle edge cases\n",
    "    return values.ewm(alpha=0.5, ignore_na=True).mean()\n",
    "\n",
    "def smooth_column_optimized(\n",
    "    df, \n",
    "    col_name, \n",
    "    station_col=\"origin_STATION\", \n",
    "    dt_col=\"sched_depart_date_time\", \n",
    "    window_size=6\n",
    "):\n",
    "    \"\"\"Applies exponential smoothing with proper null handling.\"\"\"\n",
    "    \n",
    "    # 1. Cast to numeric type and filter nulls\n",
    "    df = (\n",
    "        df.withColumn(col_name, F.col(col_name).cast(DoubleType()))\n",
    "    )\n",
    "    \n",
    "    # 2. Define window to collect non-null values\n",
    "    window_spec = (\n",
    "        Window.partitionBy(station_col)\n",
    "              .orderBy(F.col(dt_col).cast(\"long\"))\n",
    "              .rowsBetween(-window_size, 0)\n",
    "    )\n",
    "    \n",
    "    # 3. Collect ONLY non-null values within the window\n",
    "    df = df.withColumn(\n",
    "        \"non_null_values\",\n",
    "        F.collect_list(col_name).over(window_spec)\n",
    "    )\n",
    "    \n",
    "    # 4. Apply vectorized UDF and fill nulls\n",
    "    return (\n",
    "        df.withColumn(\"smoothed\", exponential_smoothing_pandas(\"non_null_values\"))\n",
    "          .withColumn(\n",
    "              col_name, \n",
    "              F.coalesce(F.col(col_name), F.col(\"smoothed\"), F.lit(0.0))\n",
    "          )\n",
    "          .drop(\"non_null_values\", \"smoothed\")\n",
    "    )\n"
   ]
  },
  {
   "cell_type": "code",
   "execution_count": 0,
   "metadata": {
    "application/vnd.databricks.v1+cell": {
     "cellMetadata": {
      "byteLimit": 2048000,
      "rowLimit": 10000
     },
     "inputWidgets": {},
     "nuid": "881f167b-016a-4e22-bb4b-cfeeb93f3e3d",
     "showTitle": false,
     "tableResultSettingsMap": {},
     "title": ""
    }
   },
   "outputs": [],
   "source": [
    "df_interpolated=smooth_column_optimized(df_interpolate, 'origin_HourlyWindSpeed')"
   ]
  },
  {
   "cell_type": "code",
   "execution_count": 0,
   "metadata": {
    "application/vnd.databricks.v1+cell": {
     "cellMetadata": {
      "byteLimit": 2048000,
      "rowLimit": 10000
     },
     "inputWidgets": {},
     "nuid": "665ba384-7c44-42dd-81a9-8b77f314c9d2",
     "showTitle": false,
     "tableResultSettingsMap": {},
     "title": ""
    }
   },
   "outputs": [],
   "source": [
    "df.count()"
   ]
  },
  {
   "cell_type": "code",
   "execution_count": 0,
   "metadata": {
    "application/vnd.databricks.v1+cell": {
     "cellMetadata": {
      "byteLimit": 2048000,
      "rowLimit": 10000
     },
     "inputWidgets": {},
     "nuid": "7afeb2f4-de0f-4d19-8dbf-6512ef21a6f8",
     "showTitle": false,
     "tableResultSettingsMap": {},
     "title": ""
    }
   },
   "outputs": [],
   "source": [
    "df_interpolated.filter(F.col('origin_HourlyWindSpeed').isNull()).count()"
   ]
  },
  {
   "cell_type": "code",
   "execution_count": 0,
   "metadata": {
    "application/vnd.databricks.v1+cell": {
     "cellMetadata": {
      "byteLimit": 2048000,
      "rowLimit": 10000
     },
     "inputWidgets": {},
     "nuid": "a009fc87-34d3-41b1-a8c7-62f934b20c8a",
     "showTitle": false,
     "tableResultSettingsMap": {},
     "title": ""
    }
   },
   "outputs": [],
   "source": [
    "df_interpolated.count()"
   ]
  },
  {
   "cell_type": "code",
   "execution_count": 0,
   "metadata": {
    "application/vnd.databricks.v1+cell": {
     "cellMetadata": {
      "byteLimit": 2048000,
      "rowLimit": 10000
     },
     "inputWidgets": {},
     "nuid": "51bf9f07-8632-4e88-9dcd-a1be033517df",
     "showTitle": false,
     "tableResultSettingsMap": {},
     "title": ""
    }
   },
   "outputs": [],
   "source": [
    "columns_to_smooth = ['origin_HourlyDewPointTemperature','origin_HourlyDryBulbTemperature','origin_HourlyPressureChange','origin_HourlyRelativeHumidity','origin_HourlyWetBulbTemperature','origin_HourlyPrecipitation','origin_HourlyWindGustSpeed']\n",
    "\n",
    "for col in columns_to_smooth:\n",
    "    df_interpolated = smooth_column_optimized(df_interpolated, col)\n",
    "\n"
   ]
  },
  {
   "cell_type": "code",
   "execution_count": 0,
   "metadata": {
    "application/vnd.databricks.v1+cell": {
     "cellMetadata": {
      "byteLimit": 2048000,
      "rowLimit": 10000
     },
     "inputWidgets": {},
     "nuid": "d30ec774-303e-44dd-aea7-4d8b44af0dc3",
     "showTitle": false,
     "tableResultSettingsMap": {},
     "title": ""
    }
   },
   "outputs": [],
   "source": [
    "df_interpolated.count()"
   ]
  },
  {
   "cell_type": "code",
   "execution_count": 0,
   "metadata": {
    "application/vnd.databricks.v1+cell": {
     "cellMetadata": {
      "byteLimit": 2048000,
      "rowLimit": 10000
     },
     "inputWidgets": {},
     "nuid": "6b8bb90f-b9f4-4e36-b6d6-a82b30eef913",
     "showTitle": false,
     "tableResultSettingsMap": {},
     "title": ""
    }
   },
   "outputs": [],
   "source": [
    "\n",
    "null_counts = df_interpolated.select(\n",
    "    [count(when(col(c).isNull() | isnan(c), c)).alias(c) for c in columns_to_smooth]\n",
    ")\n",
    "\n",
    "display(null_counts)"
   ]
  },
  {
   "cell_type": "code",
   "execution_count": 0,
   "metadata": {
    "application/vnd.databricks.v1+cell": {
     "cellMetadata": {
      "byteLimit": 2048000,
      "rowLimit": 10000
     },
     "inputWidgets": {},
     "nuid": "aecaa65d-ccbd-4859-bd57-4ad82285bed1",
     "showTitle": false,
     "tableResultSettingsMap": {},
     "title": ""
    }
   },
   "outputs": [],
   "source": [
    "df_interpolated.count()"
   ]
  },
  {
   "cell_type": "code",
   "execution_count": 0,
   "metadata": {
    "application/vnd.databricks.v1+cell": {
     "cellMetadata": {
      "byteLimit": 2048000,
      "rowLimit": 10000
     },
     "inputWidgets": {},
     "nuid": "35ff46ad-fdb7-461d-89af-548fdb76ff05",
     "showTitle": false,
     "tableResultSettingsMap": {},
     "title": ""
    }
   },
   "outputs": [],
   "source": [
    "\n",
    "\n",
    "output_path = \"dbfs:/student-groups/Group_4_1/interim/join_checkpoints/joined_1y_weather_cleaned_test.parquet\"\n",
    "(\n",
    "    df_interpolated.write\n",
    "    .mode(\"overwrite\")\n",
    "    .parquet(output_path)\n",
    ")\n",
    "\n",
    "\n"
   ]
  },
  {
   "cell_type": "code",
   "execution_count": 0,
   "metadata": {
    "application/vnd.databricks.v1+cell": {
     "cellMetadata": {
      "byteLimit": 2048000,
      "rowLimit": 10000
     },
     "inputWidgets": {},
     "nuid": "15bceeeb-a6a0-47a3-9b8a-948bda13e688",
     "showTitle": false,
     "tableResultSettingsMap": {},
     "title": ""
    }
   },
   "outputs": [],
   "source": [
    "test = spark.read.parquet(f\"{team_BASE_DIR}/interim/join_checkpoints/joined_1y_weather_cleaned_test.parquet\")"
   ]
  },
  {
   "cell_type": "code",
   "execution_count": 0,
   "metadata": {
    "application/vnd.databricks.v1+cell": {
     "cellMetadata": {
      "byteLimit": 2048000,
      "rowLimit": 10000
     },
     "inputWidgets": {},
     "nuid": "a527d7cb-bbe8-46bf-8212-b9fc9ef8a156",
     "showTitle": false,
     "tableResultSettingsMap": {},
     "title": ""
    }
   },
   "outputs": [],
   "source": [
    "test.count()"
   ]
  }
 ],
 "metadata": {
  "application/vnd.databricks.v1+notebook": {
   "computePreferences": null,
   "dashboards": [],
   "environmentMetadata": {
    "base_environment": "",
    "environment_version": "2"
   },
   "inputWidgetPreferences": null,
   "language": "python",
   "notebookMetadata": {
    "pythonIndentUnit": 4
   },
   "notebookName": "0.12-sg-joined-cleaning",
   "widgets": {}
  },
  "language_info": {
   "name": "python"
  }
 },
 "nbformat": 4,
 "nbformat_minor": 0
}
