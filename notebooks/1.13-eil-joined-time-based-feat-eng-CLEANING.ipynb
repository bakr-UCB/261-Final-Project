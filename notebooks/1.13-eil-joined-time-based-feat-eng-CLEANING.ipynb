{
 "cells": [
  {
   "cell_type": "markdown",
   "metadata": {
    "application/vnd.databricks.v1+cell": {
     "cellMetadata": {
      "byteLimit": 2048000,
      "rowLimit": 10000
     },
     "inputWidgets": {},
     "nuid": "b64f242b-429c-43c7-b872-f4ebafec26ae",
     "showTitle": false,
     "tableResultSettingsMap": {},
     "title": ""
    }
   },
   "source": [
    "## Recency Features\n",
    "\n",
    "Idea: Get the average proportion of flights that were delayed and/or average delay amount at a flight's origin airport (stats taken over flights that occurred between UTC-4 and UTC-2)"
   ]
  },
  {
   "cell_type": "code",
   "execution_count": 0,
   "metadata": {
    "application/vnd.databricks.v1+cell": {
     "cellMetadata": {
      "byteLimit": 2048000,
      "rowLimit": 10000
     },
     "inputWidgets": {},
     "nuid": "01c03700-dc5a-47a4-bf0a-aaf70f902dda",
     "showTitle": false,
     "tableResultSettingsMap": {},
     "title": ""
    }
   },
   "outputs": [],
   "source": [
    "# imports\n",
    "from pyspark.sql.functions import col, lag\n",
    "from pyspark.sql.window import Window\n",
    "import pyspark.sql.functions as F\n",
    "import time\n",
    "from pyspark.sql.functions import col, when, to_timestamp, lit, udf, lag, pandas_udf, isnan, array, array_contains, explode, lit, countDistinct, first, last, unix_timestamp, to_date, to_timestamp, date_format, date_add\n",
    "from datetime import datetime, timedelta, time\n",
    "from pyspark.sql.types import TimestampType\n",
    "from pyspark.sql.types import FloatType\n",
    "import numpy as np\n",
    "from pyspark.sql.functions import min\n",
    "from pyspark.sql.window import Window\n",
    "from pyspark.sql.functions import col, mean, when, collect_list\n",
    "from pyspark.sql.functions import pandas_udf, PandasUDFType\n",
    "import pandas as pd\n",
    "from pyspark.sql.functions import pandas_udf, PandasUDFType\n",
    "import pandas as pd\n",
    "from pyspark.sql.window import Window\n",
    "from pyspark.sql.functions import col"
   ]
  },
  {
   "cell_type": "code",
   "execution_count": 0,
   "metadata": {
    "application/vnd.databricks.v1+cell": {
     "cellMetadata": {
      "byteLimit": 2048000,
      "rowLimit": 10000
     },
     "inputWidgets": {},
     "nuid": "048f8f60-a946-4ae3-9e19-54d5611ea1b0",
     "showTitle": false,
     "tableResultSettingsMap": {},
     "title": ""
    }
   },
   "outputs": [],
   "source": [
    "# define helper functions and corresponding udf's\n",
    "\n",
    "def get_act_dep_time(sched_dep_time, DEP_DELAY):\n",
    "    \"\"\"get actual departure time from scheduled departure time and dep delay\"\"\"\n",
    "    if DEP_DELAY is None:\n",
    "        sched_dep_time + timedelta(days=9999) # this case should not be triggered\n",
    "    return sched_dep_time + timedelta(minutes=DEP_DELAY)\n",
    "\n",
    "act_dep_udf = F.udf(get_act_dep_time, TimestampType())\n",
    "\n",
    "def get_delay_mean(delays, act_dep, two_hours_prior, four_hours_prior):\n",
    "    \"\"\"Get average delay within window for records at least 2 hours stale\"\"\"\n",
    "    delays = np.array(delays)\n",
    "    act_dep = np.array(act_dep)\n",
    "    d = delays[(act_dep < two_hours_prior) & (act_dep > four_hours_prior) & (delays != -99999)].astype(np.float)\n",
    "    return float(np.mean(d)) if len(d) > 0 else None\n",
    "\n",
    "delay_mean_udf = F.udf(get_delay_mean, FloatType())\n",
    "\n",
    "# def get_delay_proportion(outcome, act_dep, two_hours_prior, four_hours_prior):\n",
    "#     outcome = np.array(outcome)\n",
    "#     act_dep = np.array(act_dep)\n",
    "#     d = outcome[(act_dep < two_hours_prior) & (act_dep > four_hours_prior)].astype(np.float)\n",
    "#     return float(np.mean(d)) if len(d) > 0 else None\n",
    "\n",
    "# delay_prop_udf = F.udf(get_delay_proportion, FloatType())"
   ]
  },
  {
   "cell_type": "code",
   "execution_count": 0,
   "metadata": {
    "application/vnd.databricks.v1+cell": {
     "cellMetadata": {
      "byteLimit": 2048000,
      "rowLimit": 10000
     },
     "inputWidgets": {},
     "nuid": "d3880f64-52e8-47df-9758-b7f51a8f6fb2",
     "showTitle": false,
     "tableResultSettingsMap": {},
     "title": ""
    }
   },
   "outputs": [],
   "source": [
    "# data time period\n",
    "period = \"\" # on of the following values (\"\", \"3m\", \"6m\", \"1y\")\n",
    "\n",
    "# define what departure time variable is called\n",
    "dep_utc_varname = \"sched_depart_utc\""
   ]
  },
  {
   "cell_type": "code",
   "execution_count": 0,
   "metadata": {
    "application/vnd.databricks.v1+cell": {
     "cellMetadata": {
      "byteLimit": 2048000,
      "rowLimit": 10000
     },
     "inputWidgets": {},
     "nuid": "4ab9583f-8eee-4ca9-8f87-f3b0cf456ba9",
     "showTitle": false,
     "tableResultSettingsMap": {},
     "title": ""
    }
   },
   "outputs": [],
   "source": [
    "team_BASE_DIR = f\"dbfs:/student-groups/Group_4_1\"\n",
    "# spark.sparkContext.setCheckpointDir(f\"{team_BASE_DIR}/modeling_checkpoints\")\n",
    "\n",
    "# read in joined, cleaned dataset\n",
    "df = spark.read.parquet(f\"{team_BASE_DIR}/interim/join_checkpoints/joined_flights_weather{period}_v1.parquet\")\n",
    "\n",
    "# add outcome variable\n",
    "df = df.withColumn(\"outcome\", (when((col(\"DEP_DELAY\") >= 15) | (col(\"CANCELLED\") == 1), 1).otherwise(0)).cast(\"double\")) \\\n",
    "    .withColumn(\"outcome0\", (when(col('DEP_DELAY').isNull(), None).otherwise(col(\"outcome\"))).cast(\"double\")) \\\n",
    "    .withColumn(\"DEP_DELAY0\", col(\"DEP_DELAY\")).fillna({'DEP_DELAY0': 0}) \\\n",
    "    .withColumn(\"act_dep_datetime\", act_dep_udf(col(\"sched_depart_utc\"), col(\"DEP_DELAY0\")))\n",
    "df.cache()"
   ]
  },
  {
   "cell_type": "code",
   "execution_count": 0,
   "metadata": {
    "application/vnd.databricks.v1+cell": {
     "cellMetadata": {
      "byteLimit": 2048000,
      "rowLimit": 10000
     },
     "inputWidgets": {},
     "nuid": "b29a2b17-e8a8-4c90-8162-f5c409f5d5c0",
     "showTitle": false,
     "tableResultSettingsMap": {},
     "title": ""
    }
   },
   "outputs": [],
   "source": [
    "hours = lambda i: i * 3600\n",
    "window_spec = Window.partitionBy(col(\"ORIGIN\"),col(\"FL_DATE\")) \\\n",
    "    .orderBy(col(\"sched_depart_utc\").cast(\"timestamp\").cast(\"long\")) \\\n",
    "        .rangeBetween(-hours(4),0)\n",
    "# we will eventually get just -4 to -2 hours, but using 0 in the window allows us to\n",
    "# grab the utc-2 for the 0 hour offset case\n",
    "\n",
    "df = df.repartition(\"ORIGIN\", \"FL_DATE\")\n"
   ]
  },
  {
   "cell_type": "markdown",
   "metadata": {
    "application/vnd.databricks.v1+cell": {
     "cellMetadata": {
      "byteLimit": 2048000,
      "rowLimit": 10000
     },
     "inputWidgets": {},
     "nuid": "5c144afe-a63d-4309-8a29-0cafccf67746",
     "showTitle": false,
     "tableResultSettingsMap": {},
     "title": ""
    }
   },
   "source": [
    "Time windowing strategy informed by: https://stackoverflow.com/questions/33207164/spark-window-functions-rangebetween-dates"
   ]
  },
  {
   "cell_type": "code",
   "execution_count": 0,
   "metadata": {
    "application/vnd.databricks.v1+cell": {
     "cellMetadata": {
      "byteLimit": 2048000,
      "rowLimit": 10000
     },
     "inputWidgets": {},
     "nuid": "998e094c-424c-4955-aa1c-caa8f532692f",
     "showTitle": false,
     "tableResultSettingsMap": {},
     "title": ""
    }
   },
   "outputs": [],
   "source": [
    "# Define a pandas UDF to calculate the mean of DEP_DELAY0 within the window\n",
    "@pandas_udf(\"double\", PandasUDFType.GROUPED_AGG)\n",
    "def mean_dep_delay_udf(dep_delays: pd.Series, act_dep_times: pd.Series, sched_dep_utc2: pd.Series) -> float:\n",
    "    d = dep_delays[(act_dep_times < np.max(sched_dep_utc2))].astype(np.float)\n",
    "    return np.nanmean(d)\n",
    "\n",
    "# Apply the UDF over the window\n",
    "df_with_mean_delay = df \\\n",
    "    .withColumn(\"mean_dep_delay\", \n",
    "        mean_dep_delay_udf(\n",
    "            col(\"DEP_DELAY\"),\n",
    "            col(\"act_dep_datetime\"),\n",
    "            col(\"two_hours_prior_depart_UTC\")).over(window_spec)) \\\n",
    "    .withColumn(\"prop_delayed\", \n",
    "        mean_dep_delay_udf(\n",
    "            col(\"outcome0\"),\n",
    "            col(\"act_dep_datetime\"),\n",
    "            col(\"two_hours_prior_depart_UTC\")).over(window_spec))\n",
    "\n",
    "df_with_mean_delay.cache()\n",
    "display(df_with_mean_delay)"
   ]
  },
  {
   "cell_type": "code",
   "execution_count": 0,
   "metadata": {
    "application/vnd.databricks.v1+cell": {
     "cellMetadata": {
      "byteLimit": 2048000,
      "rowLimit": 10000
     },
     "inputWidgets": {},
     "nuid": "76874e60-f961-4f04-8a02-0c4bb8210e00",
     "showTitle": false,
     "tableResultSettingsMap": {},
     "title": ""
    }
   },
   "outputs": [],
   "source": [
    "fn_out = f\"{team_BASE_DIR}/interim/join_checkpoints/joined_{period}_timefeat.parquet\"\n",
    "df_with_mean_delay.write.parquet(fn_out)\n"
   ]
  },
  {
   "cell_type": "code",
   "execution_count": 0,
   "metadata": {
    "application/vnd.databricks.v1+cell": {
     "cellMetadata": {
      "byteLimit": 2048000,
      "rowLimit": 10000
     },
     "inputWidgets": {},
     "nuid": "b9f13da7-9a4e-4220-8ea3-a61b76cf4903",
     "showTitle": false,
     "tableResultSettingsMap": {},
     "title": ""
    }
   },
   "outputs": [],
   "source": [
    "display(dbutils.fs.ls(f\"{team_BASE_DIR}/interim/join_checkpoints\"))"
   ]
  },
  {
   "cell_type": "markdown",
   "metadata": {
    "application/vnd.databricks.v1+cell": {
     "cellMetadata": {
      "byteLimit": 2048000,
      "rowLimit": 10000
     },
     "inputWidgets": {},
     "nuid": "a49c1bed-f20d-4bd7-b7ad-5b53c8d7874a",
     "showTitle": false,
     "tableResultSettingsMap": {},
     "title": ""
    }
   },
   "source": [
    "## TODO: Rerun Sanity Check on 5y Data"
   ]
  },
  {
   "cell_type": "code",
   "execution_count": 0,
   "metadata": {
    "application/vnd.databricks.v1+cell": {
     "cellMetadata": {
      "byteLimit": 2048000,
      "rowLimit": 10000
     },
     "inputWidgets": {},
     "nuid": "72631419-df36-4c76-9fa6-a4f6b30cc8cc",
     "showTitle": false,
     "tableResultSettingsMap": {},
     "title": ""
    }
   },
   "outputs": [],
   "source": [
    "data = df_with_mean_delay.select(\"ORIGIN\",\"sched_depart_utc\",\"DEP_DELAY\",\"mean_dep_delay\",\"prop_delayed\").orderBy(\"sched_depart_utc\").toPandas()\n",
    "display(data)"
   ]
  },
  {
   "cell_type": "code",
   "execution_count": 0,
   "metadata": {
    "application/vnd.databricks.v1+cell": {
     "cellMetadata": {
      "byteLimit": 2048000,
      "rowLimit": 10000
     },
     "inputWidgets": {},
     "nuid": "515ef1ab-1181-45b8-869c-bd619e633d00",
     "showTitle": false,
     "tableResultSettingsMap": {},
     "title": ""
    }
   },
   "outputs": [],
   "source": [
    "import matplotlib.pyplot as plt\n",
    "\n",
    "origins = [\"BOS\"]\n",
    "for o in origins:\n",
    "    tmp = data.loc[data.ORIGIN == o]\n",
    "    plt.plot(tmp.sched_depart_utc, tmp.DEP_DELAY, label=\"DEP_DELAY\")\n",
    "    plt.plot(tmp.sched_depart_utc, tmp.mean_dep_delay, label=\"mean_dep_delay\")\n",
    "    plt.show()"
   ]
  },
  {
   "cell_type": "code",
   "execution_count": 0,
   "metadata": {
    "application/vnd.databricks.v1+cell": {
     "cellMetadata": {
      "byteLimit": 2048000,
      "rowLimit": 10000
     },
     "inputWidgets": {},
     "nuid": "b7c28e65-0e21-4437-9a99-21b1fcd62fc7",
     "showTitle": false,
     "tableResultSettingsMap": {},
     "title": ""
    }
   },
   "outputs": [],
   "source": [
    "import matplotlib.pyplot as plt\n",
    "\n",
    "origins = [\"BOS\"]\n",
    "for o in origins:\n",
    "    tmp = data.loc[data.ORIGIN == o]\n",
    "    plt.plot(tmp.sched_depart_utc, tmp.prop_delayed, label=\"prop_delayed\")\n",
    "    plt.show()"
   ]
  }
 ],
 "metadata": {
  "application/vnd.databricks.v1+notebook": {
   "computePreferences": null,
   "dashboards": [],
   "environmentMetadata": {
    "base_environment": "",
    "environment_version": "2"
   },
   "inputWidgetPreferences": null,
   "language": "python",
   "notebookMetadata": {
    "pythonIndentUnit": 4
   },
   "notebookName": "1.13-eil-joined-time-based-feat-eng-CLEANING",
   "widgets": {}
  },
  "language_info": {
   "name": "python"
  }
 },
 "nbformat": 4,
 "nbformat_minor": 0
}
