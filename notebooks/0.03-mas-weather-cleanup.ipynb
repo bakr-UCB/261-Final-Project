{
 "cells": [
  {
   "cell_type": "markdown",
   "metadata": {
    "application/vnd.databricks.v1+cell": {
     "cellMetadata": {},
     "inputWidgets": {},
     "nuid": "cf9ce0b3-0b99-4afa-90fe-c254d24f1cad",
     "showTitle": false,
     "tableResultSettingsMap": {},
     "title": ""
    }
   },
   "source": [
    "# Weather Cleanup"
   ]
  },
  {
   "cell_type": "markdown",
   "metadata": {
    "application/vnd.databricks.v1+cell": {
     "cellMetadata": {},
     "inputWidgets": {},
     "nuid": "b16e73e8-27e2-4740-99fa-f78bf7099909",
     "showTitle": false,
     "tableResultSettingsMap": {},
     "title": ""
    }
   },
   "source": [
    "## Imports and setup"
   ]
  },
  {
   "cell_type": "code",
   "execution_count": 0,
   "metadata": {
    "application/vnd.databricks.v1+cell": {
     "cellMetadata": {
      "byteLimit": 2048000,
      "rowLimit": 10000
     },
     "collapsed": true,
     "inputWidgets": {},
     "nuid": "793e6fb6-9710-4a9d-a4e3-d87254a5252f",
     "showTitle": false,
     "tableResultSettingsMap": {},
     "title": ""
    }
   },
   "outputs": [],
   "source": [
    "!pip install timezonefinder"
   ]
  },
  {
   "cell_type": "code",
   "execution_count": 0,
   "metadata": {
    "application/vnd.databricks.v1+cell": {
     "cellMetadata": {
      "byteLimit": 2048000,
      "rowLimit": 10000
     },
     "inputWidgets": {},
     "nuid": "a5385ee4-3fa9-401b-b6b3-bb507a99129e",
     "showTitle": false,
     "tableResultSettingsMap": {},
     "title": ""
    }
   },
   "outputs": [],
   "source": [
    "import pyspark.sql.functions as F\n",
    "from pyspark.sql import Window\n",
    "from timezonefinder import TimezoneFinder\n",
    "import pytz"
   ]
  },
  {
   "cell_type": "markdown",
   "metadata": {
    "application/vnd.databricks.v1+cell": {
     "cellMetadata": {},
     "inputWidgets": {},
     "nuid": "f4c418f5-f1bc-4dd1-92af-42185b4430ca",
     "showTitle": false,
     "tableResultSettingsMap": {},
     "title": ""
    }
   },
   "source": [
    "## Variables and Directories"
   ]
  },
  {
   "cell_type": "code",
   "execution_count": 0,
   "metadata": {
    "application/vnd.databricks.v1+cell": {
     "cellMetadata": {
      "byteLimit": 2048000,
      "rowLimit": 10000
     },
     "inputWidgets": {},
     "nuid": "50d350ac-ea7b-4ad8-bf9f-5c23156f5f81",
     "showTitle": false,
     "tableResultSettingsMap": {},
     "title": ""
    }
   },
   "outputs": [],
   "source": [
    "# Variables and directories\n",
    "data_BASE_DIR = \"dbfs:/mnt/mids-w261/datasets_final_project_2022\"\n",
    "team_BASE_DIR = f\"dbfs:/student-groups/Group_4_1\"\n",
    "spark.sparkContext.setCheckpointDir(f\"{team_BASE_DIR}/checkpoints\")\n",
    "period = \"\" # one of the following values (\"\", \"_3m\", \"_6m\", \"_1y\")\n",
    "\n",
    "# Datasets\n",
    "weather = spark.read.parquet(f\"dbfs:/mnt/mids-w261/datasets_final_project_2022/parquet_weather_data{period}/\")\n",
    "stations_tz = spark.read.parquet(f\"{team_BASE_DIR}/external/station_tz_lookup.parquet\")"
   ]
  },
  {
   "cell_type": "code",
   "execution_count": 0,
   "metadata": {
    "application/vnd.databricks.v1+cell": {
     "cellMetadata": {
      "byteLimit": 2048000,
      "rowLimit": 10000
     },
     "inputWidgets": {},
     "nuid": "91207b2b-1546-45ca-b781-fe73e0ea53d9",
     "showTitle": false,
     "tableResultSettingsMap": {},
     "title": ""
    }
   },
   "outputs": [],
   "source": [
    "print(weather.count())\n",
    "print(len(weather.columns))\n",
    "print(stations_tz.count())"
   ]
  },
  {
   "cell_type": "code",
   "execution_count": 0,
   "metadata": {
    "application/vnd.databricks.v1+cell": {
     "cellMetadata": {
      "byteLimit": 2048000,
      "rowLimit": 10000
     },
     "inputWidgets": {},
     "nuid": "0b211fbd-2457-4107-bbd8-b352e2f6a44e",
     "showTitle": false,
     "tableResultSettingsMap": {},
     "title": ""
    }
   },
   "outputs": [],
   "source": [
    "display(dbutils.fs.ls(f\"{data_BASE_DIR}\"))\n",
    "display(dbutils.fs.ls(f\"{team_BASE_DIR}\"))"
   ]
  },
  {
   "cell_type": "code",
   "execution_count": 0,
   "metadata": {
    "application/vnd.databricks.v1+cell": {
     "cellMetadata": {
      "byteLimit": 2048000,
      "rowLimit": 10000
     },
     "inputWidgets": {},
     "nuid": "8b9251a5-1f6c-4ba9-93a4-c2ddf0b66730",
     "showTitle": false,
     "tableResultSettingsMap": {},
     "title": ""
    }
   },
   "outputs": [],
   "source": [
    "# Weather Dataset quick look\n",
    "display(weather)\n",
    "print(weather.count())\n",
    "print(len(weather.columns))"
   ]
  },
  {
   "cell_type": "markdown",
   "metadata": {
    "application/vnd.databricks.v1+cell": {
     "cellMetadata": {},
     "inputWidgets": {},
     "nuid": "3283449a-1f5b-404e-8e69-d5164cf63602",
     "showTitle": false,
     "tableResultSettingsMap": {},
     "title": ""
    }
   },
   "source": [
    "## Step 1: Clean Weather Data"
   ]
  },
  {
   "cell_type": "markdown",
   "metadata": {
    "application/vnd.databricks.v1+cell": {
     "cellMetadata": {},
     "inputWidgets": {},
     "nuid": "06e89a17-ab4a-4bba-b880-b967d129bbee",
     "showTitle": false,
     "tableResultSettingsMap": {},
     "title": ""
    }
   },
   "source": [
    "### 1. FILTER ONLY USA LOCATIONS"
   ]
  },
  {
   "cell_type": "code",
   "execution_count": 0,
   "metadata": {
    "application/vnd.databricks.v1+cell": {
     "cellMetadata": {
      "byteLimit": 2048000,
      "rowLimit": 10000
     },
     "inputWidgets": {},
     "nuid": "a45a2512-5668-4d9f-89fe-bd8a17511d69",
     "showTitle": false,
     "tableResultSettingsMap": {},
     "title": ""
    }
   },
   "outputs": [],
   "source": [
    "weather_us = (\n",
    "  weather\n",
    "  .withColumn(\"WBAN\",F.col('STATION').substr(-5, 5))\n",
    "  .withColumn(\"COUNTRY\",F.col('NAME').substr(-2, 2))\n",
    "  .filter(F.col('COUNTRY')=='US')\n",
    "  )\n",
    "\n",
    "weather_us.cache()\n",
    "weather_us = weather_us.checkpoint()"
   ]
  },
  {
   "cell_type": "code",
   "execution_count": 0,
   "metadata": {
    "application/vnd.databricks.v1+cell": {
     "cellMetadata": {
      "byteLimit": 2048000,
      "rowLimit": 10000
     },
     "inputWidgets": {},
     "nuid": "f258f115-6a3f-4755-a0c1-3d05c2e8ca79",
     "showTitle": false,
     "tableResultSettingsMap": {},
     "title": ""
    }
   },
   "outputs": [],
   "source": [
    "weather_us.count()"
   ]
  },
  {
   "cell_type": "code",
   "execution_count": 0,
   "metadata": {
    "application/vnd.databricks.v1+cell": {
     "cellMetadata": {
      "byteLimit": 2048000,
      "rowLimit": 10000
     },
     "collapsed": true,
     "inputWidgets": {},
     "nuid": "d98f5718-bc7b-442a-b899-c1177dd35b06",
     "showTitle": false,
     "tableResultSettingsMap": {},
     "title": ""
    }
   },
   "outputs": [],
   "source": [
    "features = ['HourlyDewPointTemperature',\n",
    " 'HourlyDryBulbTemperature',\n",
    " 'HourlyPrecipitation',\n",
    " 'HourlyPresentWeatherType',\n",
    " 'HourlyPressureChange',\n",
    " 'HourlyPressureTendency',\n",
    " 'HourlyRelativeHumidity',\n",
    " 'HourlySkyConditions',\n",
    " 'HourlySeaLevelPressure',\n",
    " 'HourlyStationPressure',\n",
    " 'HourlyVisibility',\n",
    " 'HourlyWetBulbTemperature',\n",
    " 'HourlyWindDirection',\n",
    " 'HourlyWindGustSpeed',\n",
    " 'HourlyWindSpeed',\n",
    " 'REM']"
   ]
  },
  {
   "cell_type": "markdown",
   "metadata": {
    "application/vnd.databricks.v1+cell": {
     "cellMetadata": {},
     "inputWidgets": {},
     "nuid": "0ddabf89-d21c-4c10-a52c-32113dc918ce",
     "showTitle": false,
     "tableResultSettingsMap": {},
     "title": ""
    }
   },
   "source": [
    "### 2. Checking for Duplicates"
   ]
  },
  {
   "cell_type": "code",
   "execution_count": 0,
   "metadata": {
    "application/vnd.databricks.v1+cell": {
     "cellMetadata": {
      "byteLimit": 2048000,
      "rowLimit": 10000
     },
     "inputWidgets": {},
     "nuid": "4a191d43-80b5-4cde-a417-0f4d822271c5",
     "showTitle": false,
     "tableResultSettingsMap": {},
     "title": ""
    }
   },
   "outputs": [],
   "source": [
    "# Duplicate rows based on Station and date\n",
    "duplicate_count = (\n",
    "    weather_us\n",
    "    .groupBy(\"STATION\", \"DATE\")\n",
    "    .agg(F.count(\"*\").alias(\"count\"))\n",
    "    .filter(\"count > 1\")\n",
    "    .agg({\"count\": \"sum\"})\n",
    "    .collect()[0][0]\n",
    ")\n",
    "\n",
    "print(f\"Number of duplicate rows: {duplicate_count}\")"
   ]
  },
  {
   "cell_type": "markdown",
   "metadata": {
    "application/vnd.databricks.v1+cell": {
     "cellMetadata": {},
     "inputWidgets": {},
     "nuid": "24e31b6f-9f83-44b8-9062-39e504cbb6a0",
     "showTitle": false,
     "tableResultSettingsMap": {},
     "title": ""
    }
   },
   "source": [
    "### 3. REMOVE DUPLICATES\n",
    "Deduplicating based on STAION and DATE and only removing the rows with the most nulls."
   ]
  },
  {
   "cell_type": "code",
   "execution_count": 0,
   "metadata": {
    "application/vnd.databricks.v1+cell": {
     "cellMetadata": {
      "byteLimit": 2048000,
      "rowLimit": 10000
     },
     "inputWidgets": {},
     "nuid": "5f9914c9-3d93-4638-9ebe-8d1aca539cad",
     "showTitle": false,
     "tableResultSettingsMap": {},
     "title": ""
    }
   },
   "outputs": [],
   "source": [
    "from functools import reduce\n",
    "from operator import add\n",
    "\n",
    "sum_expression = reduce(add, [F.when(F.col(c).isNull(), 1).otherwise(0) for c in features])\n",
    "\n",
    "weather_dedup = (\n",
    "    weather_us\n",
    "    .withColumn(\n",
    "        \"null_count\", \n",
    "        sum_expression\n",
    "    )\n",
    "    .withColumn(\n",
    "        \"row_num\",\n",
    "        F.row_number().over(\n",
    "            Window\n",
    "            .partitionBy(\"STATION\", \"DATE\") \\\n",
    "            .orderBy(F.col(\"null_count\").asc())\n",
    "        )\n",
    "    )\n",
    "    .filter(F.col(\"row_num\") == 1)\n",
    "    .drop(F.col('row_num'))\n",
    "    .drop(F.col('null_count'))\n",
    ")\n",
    "\n",
    "weather_dedup.cache()\n",
    "weather_dedup = weather_dedup.checkpoint()"
   ]
  },
  {
   "cell_type": "markdown",
   "metadata": {
    "application/vnd.databricks.v1+cell": {
     "cellMetadata": {},
     "inputWidgets": {},
     "nuid": "a86b04b5-f2e6-4f33-aaf4-9181428dd611",
     "showTitle": false,
     "tableResultSettingsMap": {},
     "title": ""
    }
   },
   "source": [
    "### 3. VALIDATING DUPLICATES ARE REMOVED"
   ]
  },
  {
   "cell_type": "code",
   "execution_count": 0,
   "metadata": {
    "application/vnd.databricks.v1+cell": {
     "cellMetadata": {
      "byteLimit": 2048000,
      "rowLimit": 10000
     },
     "inputWidgets": {},
     "nuid": "fbf2de4b-b5ff-442a-81de-8338871e1f9e",
     "showTitle": false,
     "tableResultSettingsMap": {},
     "title": ""
    }
   },
   "outputs": [],
   "source": [
    "# Duplicate rows based on Station and date\n",
    "duplicate_count = (\n",
    "    weather_dedup\n",
    "    .groupBy(\"STATION\", \"DATE\")\n",
    "    .agg(F.count(\"*\").alias(\"count\"))\n",
    "    .filter(\"count > 1\")\n",
    "    .agg({\"count\": \"sum\"})\n",
    "    .collect()[0][0]\n",
    ")\n",
    "\n",
    "print(f\"Number of duplicate rows: {duplicate_count}\")"
   ]
  },
  {
   "cell_type": "markdown",
   "metadata": {
    "application/vnd.databricks.v1+cell": {
     "cellMetadata": {},
     "inputWidgets": {},
     "nuid": "595088bf-d1f5-4b79-b68b-549eafc15f24",
     "showTitle": false,
     "tableResultSettingsMap": {},
     "title": ""
    }
   },
   "source": [
    "## Step 2: Handling Time"
   ]
  },
  {
   "cell_type": "markdown",
   "metadata": {
    "application/vnd.databricks.v1+cell": {
     "cellMetadata": {},
     "inputWidgets": {},
     "nuid": "40563f47-e78f-4342-a3ba-c97e62c19ea8",
     "showTitle": false,
     "tableResultSettingsMap": {},
     "title": ""
    }
   },
   "source": [
    "### 1. Validate Missing Station ID in Stations data before the join"
   ]
  },
  {
   "cell_type": "code",
   "execution_count": 0,
   "metadata": {
    "application/vnd.databricks.v1+cell": {
     "cellMetadata": {
      "byteLimit": 2048000,
      "rowLimit": 10000
     },
     "inputWidgets": {},
     "nuid": "bc15ffc2-1527-4061-aa2e-0a3fb16aa8ee",
     "showTitle": false,
     "tableResultSettingsMap": {},
     "title": ""
    }
   },
   "outputs": [],
   "source": [
    "# Extract unique Stations id with longitude and latitude from weather\n",
    "station_id = weather_dedup.select(\"STATION\", \"LATITUDE\", \"LONGITUDE\").distinct()\n",
    "\n",
    "# Extract unique Stations id from Station time zone data\n",
    "tz_station_id = stations_tz.select(\"STATION\").distinct()\n",
    "\n",
    "# Find missing stations in the time zones table\n",
    "missing_station = (\n",
    "    station_id\n",
    "    .join(tz_station_id, \"STATION\", \"left_anti\")\n",
    "    .withColumn(\"LATITUDE\", F.col('LATITUDE').cast(DoubleType()))\n",
    "    .withColumn(\"LONGITUDE\", F.col('LONGITUDE').cast(DoubleType()))\n",
    "    .select(\"STATION\", \"LATITUDE\", \"LONGITUDE\").distinct()\n",
    ").cache()\n",
    "missing_station_lst = missing_station.select(\"STATION\").rdd.flatMap(lambda x: x).collect()\n",
    "print(f\"Number of missing stations: {len(missing_station_lst)}\")"
   ]
  },
  {
   "cell_type": "markdown",
   "metadata": {
    "application/vnd.databricks.v1+cell": {
     "cellMetadata": {},
     "inputWidgets": {},
     "nuid": "5b37abea-3b51-4711-a3c6-083e14a2bfda",
     "showTitle": false,
     "tableResultSettingsMap": {},
     "title": ""
    }
   },
   "source": [
    "### 2. Finding missing timezones using coordinates"
   ]
  },
  {
   "cell_type": "code",
   "execution_count": 0,
   "metadata": {
    "application/vnd.databricks.v1+cell": {
     "cellMetadata": {
      "byteLimit": 2048000,
      "rowLimit": 10000
     },
     "inputWidgets": {},
     "nuid": "fc40867f-d71c-45e2-9fd0-e23c377c502f",
     "showTitle": false,
     "tableResultSettingsMap": {},
     "title": ""
    }
   },
   "outputs": [],
   "source": [
    "# ============================\n",
    "# UDF: Timezones Lookup\n",
    "# ============================\n",
    "def find_timezone(lat, lng):\n",
    "    tf = TimezoneFinder()\n",
    "    timezone_str = tf.timezone_at(lat=lat, lng=lng)\n",
    "    return timezone_str if timezone_str else \"Unknown\"\n",
    "\n",
    "# define udf for time zone looku\n",
    "find_timezone_udf = udf(find_timezone, StringType())\n",
    "\n",
    "if len(missing_station_lst) > 0:\n",
    "    missing_stations_tz = (\n",
    "        missing_station\n",
    "        .withColumn(\"timezone\", find_timezone_udf(F.col(\"LATITUDE\"), F.col(\"LONGITUDE\")))\n",
    "        )\n",
    "    \n",
    "    # Augmenting Stations Timezones data with the missing stations data\n",
    "    stations_tz = stations_tz.union(missing_stations_tz).cache()\n",
    "    stations_tz = stations_tz.checkpoint()\n",
    "    # re-save timezones data as a parquet file \n",
    "    stations_tz.write.mode(\"overwrite\").parquet(f\"{team_BASE_DIR}/external/station_tz_lookup.parquet\")"
   ]
  },
  {
   "cell_type": "markdown",
   "metadata": {
    "application/vnd.databricks.v1+cell": {
     "cellMetadata": {},
     "inputWidgets": {},
     "nuid": "90e9b637-4726-445a-aa6b-76e7865b1904",
     "showTitle": false,
     "tableResultSettingsMap": {},
     "title": ""
    }
   },
   "source": [
    "### 3. Finding Time zone using stations time zones helper table"
   ]
  },
  {
   "cell_type": "code",
   "execution_count": 0,
   "metadata": {
    "application/vnd.databricks.v1+cell": {
     "cellMetadata": {
      "byteLimit": 2048000,
      "rowLimit": 10000
     },
     "inputWidgets": {},
     "nuid": "4aa886ec-e118-43c3-9880-b3e133a63f70",
     "showTitle": false,
     "tableResultSettingsMap": {},
     "title": ""
    }
   },
   "outputs": [],
   "source": [
    "# Register as temporary views for SQL use\n",
    "weather_dedup.createOrReplaceTempView(\"weather_dedup\")\n",
    "stations_tz.createOrReplaceTempView(\"timezones\")\n",
    "\n",
    "# Apply Broadcast Join for small timezones table\n",
    "tz_broadcast = F.broadcast(stations_tz)\n",
    "\n",
    "weather_tz = weather_dedup \\\n",
    "    .join(tz_broadcast.alias(\"a1\"), weather_dedup.STATION == F.col(\"a1.STATION\"), \"left\") \\\n",
    "    .select(\n",
    "        weather_dedup[\"*\"],\n",
    "        F.col(\"a1.timezone\").alias(\"STATION_timezone\"),\n",
    "    )\n",
    "\n",
    "# Cache the data to avoid recomputing the time zones\n",
    "weather_tz.cache()\n",
    "weather_tz = weather_tz.checkpoint()"
   ]
  },
  {
   "cell_type": "markdown",
   "metadata": {
    "application/vnd.databricks.v1+cell": {
     "cellMetadata": {},
     "inputWidgets": {},
     "nuid": "17db03cb-09e4-49b6-9a05-beda5a613278",
     "showTitle": false,
     "tableResultSettingsMap": {},
     "title": ""
    }
   },
   "source": [
    "### 4. Checking if we have any missing stations after the join"
   ]
  },
  {
   "cell_type": "code",
   "execution_count": 0,
   "metadata": {
    "application/vnd.databricks.v1+cell": {
     "cellMetadata": {
      "byteLimit": 2048000,
      "rowLimit": 10000
     },
     "inputWidgets": {},
     "nuid": "81a1c6f4-e86c-4f57-a324-f08cfe303d24",
     "showTitle": false,
     "tableResultSettingsMap": {},
     "title": ""
    }
   },
   "outputs": [],
   "source": [
    "# Get statistics for validation: check for null stations_timezone after the join (must be null)\n",
    "\n",
    "station_tz_match_count = weather_tz.filter(F.col(\"STATION_timezone\").isNotNull()).count()\n",
    "total_weather_tz = weather_tz.count()\n",
    "\n",
    "print(f\"Stations timeszones match rate: {station_tz_match_count/total_weather_tz:.2%} - {total_weather_tz - station_tz_match_count} timeszones unmatched\")"
   ]
  },
  {
   "cell_type": "markdown",
   "metadata": {
    "application/vnd.databricks.v1+cell": {
     "cellMetadata": {},
     "inputWidgets": {},
     "nuid": "b7009e45-bb53-466f-a7d9-3cbfe99b6f7e",
     "showTitle": false,
     "tableResultSettingsMap": {},
     "title": ""
    }
   },
   "source": [
    "### 5. Converting to UTC"
   ]
  },
  {
   "cell_type": "code",
   "execution_count": 0,
   "metadata": {
    "application/vnd.databricks.v1+cell": {
     "cellMetadata": {
      "byteLimit": 2048000,
      "rowLimit": 10000
     },
     "inputWidgets": {},
     "nuid": "af62bee8-251f-4378-abb3-53b3d739e309",
     "showTitle": false,
     "tableResultSettingsMap": {},
     "title": ""
    }
   },
   "outputs": [],
   "source": [
    "# ============================\n",
    "# UDF: Convert Deprature Time to UTC\n",
    "# ============================\n",
    "\n",
    "def to_utc(dt: str, tz: str) -> str:\n",
    "    if dt is None:\n",
    "        return None\n",
    "    dt_format = \"%Y-%m-%dT%H:%M:%S\"\n",
    "    local_dt = datetime.strptime(dt, dt_format)\n",
    "    if tz:\n",
    "        timezone = pytz.timezone(tz)\n",
    "        local_dt = timezone.localize(local_dt)\n",
    "        \n",
    "        # Convert to UTC\n",
    "        utc_dt = local_dt.astimezone(pytz.utc)\n",
    "        return utc_dt.strftime(dt_format)\n",
    "    return None\n",
    "\n",
    "utc_udf = F.udf(to_utc)\n",
    "\n",
    "weather_utc = (\n",
    "    weather_tz\n",
    "    .withColumn(\"weather_datetime_utc\", utc_udf(F.col(\"DATE\"), F.col(\"STATION_timezone\").cast(F.StringType())))\n",
    ")\n",
    "\n",
    "# Cache the data to avoid recomputing the UTC\n",
    "weather_utc.cache()\n",
    "weather_utc = weather_utc.checkpoint()"
   ]
  },
  {
   "cell_type": "code",
   "execution_count": 0,
   "metadata": {
    "application/vnd.databricks.v1+cell": {
     "cellMetadata": {
      "byteLimit": 2048000,
      "rowLimit": 10000
     },
     "inputWidgets": {},
     "nuid": "878d90cf-8c07-48b5-a46b-eab88ae8e287",
     "showTitle": false,
     "tableResultSettingsMap": {},
     "title": ""
    }
   },
   "outputs": [],
   "source": [
    "display(weather_utc)"
   ]
  },
  {
   "cell_type": "code",
   "execution_count": 0,
   "metadata": {
    "application/vnd.databricks.v1+cell": {
     "cellMetadata": {
      "byteLimit": 2048000,
      "rowLimit": 10000
     },
     "inputWidgets": {},
     "nuid": "609e6254-0803-4fba-b70a-96ffed338b28",
     "showTitle": false,
     "tableResultSettingsMap": {},
     "title": ""
    }
   },
   "outputs": [],
   "source": [
    "weather_utc.count()"
   ]
  },
  {
   "cell_type": "code",
   "execution_count": 0,
   "metadata": {
    "application/vnd.databricks.v1+cell": {
     "cellMetadata": {
      "byteLimit": 2048000,
      "rowLimit": 10000
     },
     "inputWidgets": {},
     "nuid": "c1c0b5cb-122e-4892-ace2-0ad61d000253",
     "showTitle": false,
     "tableResultSettingsMap": {},
     "title": ""
    }
   },
   "outputs": [],
   "source": [
    "# Saving clean weather data with utc\n",
    "weather_utc.write.mode(\"overwrite\").parquet(f\"{team_BASE_DIR}/interim/weather{period}_checkpoint\")"
   ]
  },
  {
   "cell_type": "markdown",
   "metadata": {
    "application/vnd.databricks.v1+cell": {
     "cellMetadata": {},
     "inputWidgets": {},
     "nuid": "43d98cef-31a8-4df7-968f-02535ed4f0fb",
     "showTitle": false,
     "tableResultSettingsMap": {},
     "title": ""
    }
   },
   "source": [
    "## Step 0: Creat the stations time zone helper table for the first time \n",
    "_(don't rerun unless necessary)_"
   ]
  },
  {
   "cell_type": "code",
   "execution_count": 0,
   "metadata": {
    "application/vnd.databricks.v1+cell": {
     "cellMetadata": {},
     "inputWidgets": {},
     "nuid": "1c8e0617-724e-45c9-99af-581c1579b78e",
     "showTitle": false,
     "tableResultSettingsMap": {},
     "title": ""
    }
   },
   "outputs": [],
   "source": [
    "# Extract unique Stations id with longitude and latitude from weather\n",
    "station_tz = (\n",
    "    weather_dedup\n",
    "    .select(\"STATION\", \"LATITUDE\", \"LONGITUDE\").distinct()\n",
    "    .withColumn(\"LATITUDE\", F.col('LATITUDE').cast(DoubleType()))\n",
    "    .withColumn(\"LONGITUDE\", F.col('LONGITUDE').cast(DoubleType()))\n",
    "    )\n",
    "\n",
    "# add time zone column\n",
    "station_tz = station_tz.withColumn(\"timezone\", find_timezone_udf(F.col(\"LATITUDE\"), F.col(\"LONGITUDE\")))\n",
    "\n",
    "# re-save timezones data as a parquet file \n",
    "station_tz.write.mode(\"overwrite\").parquet(f\"{team_BASE_DIR}/external/station_tz_lookup.parquet\")"
   ]
  }
 ],
 "metadata": {
  "application/vnd.databricks.v1+notebook": {
   "computePreferences": null,
   "dashboards": [],
   "environmentMetadata": {
    "base_environment": "",
    "environment_version": "2"
   },
   "inputWidgetPreferences": null,
   "language": "python",
   "notebookMetadata": {
    "pythonIndentUnit": 4
   },
   "notebookName": "0.03-mas-weather-cleanup",
   "widgets": {}
  },
  "language_info": {
   "name": "python"
  }
 },
 "nbformat": 4,
 "nbformat_minor": 0
}
