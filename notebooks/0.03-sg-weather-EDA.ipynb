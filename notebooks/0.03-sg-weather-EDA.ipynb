{
 "cells": [
  {
   "cell_type": "code",
   "execution_count": 0,
   "metadata": {
    "application/vnd.databricks.v1+cell": {
     "cellMetadata": {
      "byteLimit": 2048000,
      "rowLimit": 10000
     },
     "inputWidgets": {},
     "nuid": "fd29848b-e154-4005-a066-2d39f9548097",
     "showTitle": false,
     "tableResultSettingsMap": {},
     "title": ""
    }
   },
   "outputs": [],
   "source": [
    "from pyspark.sql.functions import col\n",
    "import pyspark.sql.functions as F\n",
    "import matplotlib.pyplot as plt\n",
    "import pandas as pd\n",
    "import numpy as np\n",
    "from pyspark.sql.functions import col,isnan, when, count, concat_ws, countDistinct, collect_set\n",
    "data_BASE_DIR = \"dbfs:/mnt/mids-w261/\"\n",
    "display(dbutils.fs.ls(f\"{data_BASE_DIR}\")) #note the other possible samples we can use like 1 day"
   ]
  },
  {
   "cell_type": "code",
   "execution_count": 0,
   "metadata": {
    "application/vnd.databricks.v1+cell": {
     "cellMetadata": {
      "byteLimit": 2048000,
      "rowLimit": 10000
     },
     "inputWidgets": {},
     "nuid": "5a2f1f3c-8180-442b-8026-5cbbc38aedf0",
     "showTitle": false,
     "tableResultSettingsMap": {},
     "title": ""
    }
   },
   "outputs": [],
   "source": [
    "\n",
    "qdf = spark.read.parquet(f\"dbfs:/mnt/mids-w261/datasets_final_project_2022/parquet_weather_data_3m/\")\n",
    "ydf = spark.read.parquet(f\"dbfs:/mnt/mids-w261/datasets_final_project_2022/parquet_weather_data_1y/\")"
   ]
  },
  {
   "cell_type": "code",
   "execution_count": 0,
   "metadata": {
    "application/vnd.databricks.v1+cell": {
     "cellMetadata": {
      "byteLimit": 2048000,
      "rowLimit": 10000
     },
     "inputWidgets": {},
     "nuid": "1e0172ba-53b2-4c43-8c2b-b84167e8e2e7",
     "showTitle": false,
     "tableResultSettingsMap": {},
     "title": ""
    }
   },
   "outputs": [],
   "source": [
    "qdf.columns"
   ]
  },
  {
   "cell_type": "code",
   "execution_count": 0,
   "metadata": {
    "application/vnd.databricks.v1+cell": {
     "cellMetadata": {
      "byteLimit": 2048000,
      "rowLimit": 10000
     },
     "inputWidgets": {},
     "nuid": "02faaf5b-ebdf-422b-9c1d-deba6352f39b",
     "showTitle": false,
     "tableResultSettingsMap": {},
     "title": ""
    }
   },
   "outputs": [],
   "source": [
    "qdf.select('SOURCE').distinct().show()"
   ]
  },
  {
   "cell_type": "code",
   "execution_count": 0,
   "metadata": {
    "application/vnd.databricks.v1+cell": {
     "cellMetadata": {
      "byteLimit": 2048000,
      "rowLimit": 10000
     },
     "inputWidgets": {},
     "nuid": "65caf130-8a60-446b-9944-45dbd5cab152",
     "showTitle": false,
     "tableResultSettingsMap": {},
     "title": ""
    }
   },
   "outputs": [],
   "source": [
    "qdf.select('NAME').distinct().show()"
   ]
  },
  {
   "cell_type": "code",
   "execution_count": 0,
   "metadata": {
    "application/vnd.databricks.v1+cell": {
     "cellMetadata": {
      "byteLimit": 2048000,
      "rowLimit": 10000
     },
     "inputWidgets": {},
     "nuid": "01256a9e-5148-4ff4-aa82-ec61e3cc58a0",
     "showTitle": false,
     "tableResultSettingsMap": {},
     "title": ""
    }
   },
   "outputs": [],
   "source": [
    "qdf.select('STATION').distinct().show()"
   ]
  },
  {
   "cell_type": "markdown",
   "metadata": {
    "application/vnd.databricks.v1+cell": {
     "cellMetadata": {},
     "inputWidgets": {},
     "nuid": "1208f644-b6f4-4d65-89f9-c5fb0d6d5dba",
     "showTitle": false,
     "tableResultSettingsMap": {},
     "title": ""
    }
   },
   "source": [
    "# Nulls"
   ]
  },
  {
   "cell_type": "markdown",
   "metadata": {
    "application/vnd.databricks.v1+cell": {
     "cellMetadata": {},
     "inputWidgets": {},
     "nuid": "655ba902-4986-4a26-9a34-6daa3bf84e05",
     "showTitle": false,
     "tableResultSettingsMap": {},
     "title": ""
    }
   },
   "source": [
    "## MSHR supplement"
   ]
  },
  {
   "cell_type": "code",
   "execution_count": 0,
   "metadata": {
    "application/vnd.databricks.v1+cell": {
     "cellMetadata": {
      "byteLimit": 2048000,
      "rowLimit": 10000
     },
     "inputWidgets": {},
     "nuid": "e19a404b-65b0-401f-943e-6e42a966f158",
     "showTitle": false,
     "tableResultSettingsMap": {},
     "title": ""
    }
   },
   "outputs": [],
   "source": [
    "import pandas as pd\n",
    "import re\n",
    "mshr = pd.read_csv('mshr_standard.txt',sep='\\t') #via https://www.ncei.noaa.gov/access/homr/reports"
   ]
  },
  {
   "cell_type": "code",
   "execution_count": 0,
   "metadata": {
    "application/vnd.databricks.v1+cell": {
     "cellMetadata": {
      "byteLimit": 2048000,
      "rowLimit": 10000
     },
     "inputWidgets": {},
     "nuid": "1e50f8e7-c5d6-43ab-86b0-30b1e33b22f8",
     "showTitle": false,
     "tableResultSettingsMap": {},
     "title": ""
    }
   },
   "outputs": [],
   "source": [
    "' '.join(pd.DataFrame(mshr).iloc[21][0].split())\n"
   ]
  },
  {
   "cell_type": "code",
   "execution_count": 0,
   "metadata": {
    "application/vnd.databricks.v1+cell": {
     "cellMetadata": {
      "byteLimit": 2048000,
      "rowLimit": 10000
     },
     "inputWidgets": {},
     "nuid": "be231234-9511-40c2-83f1-2af7dcc01e97",
     "showTitle": false,
     "tableResultSettingsMap": {},
     "title": ""
    }
   },
   "outputs": [],
   "source": [
    "mshr"
   ]
  },
  {
   "cell_type": "code",
   "execution_count": 0,
   "metadata": {
    "application/vnd.databricks.v1+cell": {
     "cellMetadata": {
      "byteLimit": 2048000,
      "rowLimit": 10000
     },
     "inputWidgets": {},
     "nuid": "0218e8a1-2e09-4e12-8469-d52f29105dc9",
     "showTitle": false,
     "tableResultSettingsMap": {},
     "title": ""
    }
   },
   "outputs": [],
   "source": [
    "\n",
    "\n",
    "\n",
    "\n",
    "def parse_row(row):\n",
    "    fields = re.split(r'\\s{2,}', row.strip())  # Split on 2+ spaces\n",
    "    return fields\n",
    "\n",
    "parsed_rows = [parse_row(mshr.iloc[i, 0]) for i in range(len(mshr))]\n",
    "max_cols = max(len(row) for row in parsed_rows)\n",
    "col_names = [f\"Column_{i+1}\" for i in range(max_cols)]\n",
    "\n",
    "\n",
    "df_parsed = pd.DataFrame(parsed_rows, columns=col_names)\n",
    "\n",
    "\n"
   ]
  },
  {
   "cell_type": "code",
   "execution_count": 0,
   "metadata": {
    "application/vnd.databricks.v1+cell": {
     "cellMetadata": {
      "byteLimit": 2048000,
      "rowLimit": 10000
     },
     "inputWidgets": {},
     "nuid": "4880580b-dc9f-4e19-a9c2-3065caaf3e9a",
     "showTitle": false,
     "tableResultSettingsMap": {},
     "title": ""
    }
   },
   "outputs": [],
   "source": [
    "sample_row = '10000202 01 504590 01 25325 70395 KTN  KTN   PAKT UNITED STATES        AK KETCHIKAN GATEWAY BOROUGH      +9    KETCHIKAN                      KETCHIKAN INTL AP              19890301 19961209  55 21 34 -131 43 15 60     80     95  2 5000 FT NW  AIRWAYS COOP                                      '\n",
    "print(sample_row[:8]) #station ID number; a\n",
    "print(sample_row[9:11]) #record type number\n",
    "print(sample_row[12:18]) #coop station identifier\n",
    "print(sample_row[19:21]) #climate division\n",
    "print(sample_row[22:27]) #wban station identifier\n",
    "print(sample_row[28:33]) #wmo station identifier\n",
    "print(sample_row[34:39]) #FAA location identifier\n",
    "print(sample_row[40:44]) #NWS location identifier\n",
    "print(sample_row[45:49]) #ICAO location identifier\n",
    "print(sample_row[50:70]) #country name\n",
    "print(sample_row[71:73]) #state FIPS abbrev\n",
    "print(sample_row[74:104]) #county\n",
    "print(sample_row[105:110]) #time zone\n",
    "print(sample_row[111:141]) #coop station name\n",
    "print(sample_row[142:172]) #principal station name\n",
    "print(sample_row[173:181]) #beginning date of record\n",
    "print(sample_row[182:191]) #end date of record\n",
    "print(sample_row[192:194]) #latitude degrees\n",
    "print(sample_row[195:197]) #latitude minutes\n",
    "print(sample_row[198:200]) #latitude seconds\n",
    "print(sample_row[201:205]) #longitude degrees\n",
    "print(sample_row[206:208]) #longitude minutes\n",
    "print(sample_row[209:211]) #longitude seconds\n",
    "print(sample_row[212:219]) #lat/lon precision code\n",
    "print(sample_row[219:225]) #ground elevation\n",
    "print(sample_row[226:229]) #elevation - other\n",
    "print(sample_row[230:231]) #elevation- other type code\n",
    "print(sample_row[232:243]) #station relocation\n",
    "print(sample_row[244:]) #station types\n"
   ]
  },
  {
   "cell_type": "code",
   "execution_count": 0,
   "metadata": {
    "application/vnd.databricks.v1+cell": {
     "cellMetadata": {
      "byteLimit": 2048000,
      "rowLimit": 10000
     },
     "inputWidgets": {},
     "nuid": "a6ecf837-13eb-4b3a-b42e-e0293d8d16fa",
     "showTitle": false,
     "tableResultSettingsMap": {},
     "title": ""
    }
   },
   "outputs": [],
   "source": [
    "def parse_fixed_width(row):\n",
    "    return {\n",
    "        \"station_id\": row[:8].strip(),\n",
    "        \"record_type\": row[9:11].strip(),\n",
    "        \"coop_station_id\": row[12:18].strip(),\n",
    "        \"climate_division\": row[19:21].strip(),\n",
    "        \"wban_station_id\": row[22:27].strip(),\n",
    "        \"wmo_station_id\": row[28:33].strip(),\n",
    "        \"FAA_id\": row[34:39].strip(),\n",
    "        \"NWS_id\": row[40:44].strip(),\n",
    "        \"ICAO_id\": row[45:49].strip(),\n",
    "        \"country\": row[50:70].strip(),\n",
    "        \"state_FIPS\": row[71:73].strip(),\n",
    "        \"county\": row[74:104].strip(),\n",
    "        \"time_zone\": row[105:110].strip(),\n",
    "        \"coop_station_name\": row[111:141].strip(),\n",
    "        \"principal_station_name\": row[142:172].strip(),\n",
    "        \"begin_date\": row[173:181].strip(),\n",
    "        \"end_date\": row[182:191].strip(),\n",
    "        \"lat_deg\": row[192:194].strip(),\n",
    "        \"lat_min\": row[195:197].strip(),\n",
    "        \"lat_sec\": row[198:200].strip(),\n",
    "        \"lon_deg\": row[201:205].strip(),\n",
    "        \"lon_min\": row[206:208].strip(),\n",
    "        \"lon_sec\": row[209:211].strip(),\n",
    "        \"latlon_precision\": row[212:219].strip(),\n",
    "        \"ground_elevation\": row[219:225].strip(),\n",
    "        \"elevation_other\": row[226:229].strip(),\n",
    "        \"elevation_other_type\": row[230:231].strip(),\n",
    "        \"station_relocation\": row[232:243].strip(),\n",
    "        \"station_types\": row[244:].strip(),\n",
    "    }\n",
    "\n",
    "\n",
    "parsed_rows = [parse_fixed_width(mshr.iloc[i, 0]) for i in range(len(mshr))]\n",
    "\n",
    "max_cols = max(len(row) for row in parsed_rows)\n",
    "\n",
    "df_parsed = pd.DataFrame(parsed_rows)"
   ]
  },
  {
   "cell_type": "code",
   "execution_count": 0,
   "metadata": {
    "application/vnd.databricks.v1+cell": {
     "cellMetadata": {
      "byteLimit": 2048000,
      "rowLimit": 10000
     },
     "inputWidgets": {},
     "nuid": "c0b85d7f-c0da-44c0-9f3e-e77f707ac42d",
     "showTitle": false,
     "tableResultSettingsMap": {},
     "title": ""
    }
   },
   "outputs": [],
   "source": [
    "df_parsed"
   ]
  },
  {
   "cell_type": "code",
   "execution_count": 0,
   "metadata": {
    "application/vnd.databricks.v1+cell": {
     "cellMetadata": {
      "byteLimit": 2048000,
      "rowLimit": 10000
     },
     "inputWidgets": {},
     "nuid": "959ee2fd-0caf-4b97-87c9-aef5c53b9502",
     "showTitle": false,
     "tableResultSettingsMap": {},
     "title": ""
    }
   },
   "outputs": [],
   "source": [
    "df_parsed[df_parsed['wban_station_id'] == '53182']"
   ]
  },
  {
   "cell_type": "markdown",
   "metadata": {
    "application/vnd.databricks.v1+cell": {
     "cellMetadata": {},
     "inputWidgets": {},
     "nuid": "08d315f4-08c6-4f7e-b2e8-024b07a1f843",
     "showTitle": false,
     "tableResultSettingsMap": {},
     "title": ""
    }
   },
   "source": []
  },
  {
   "cell_type": "code",
   "execution_count": 0,
   "metadata": {
    "application/vnd.databricks.v1+cell": {
     "cellMetadata": {
      "byteLimit": 2048000,
      "rowLimit": 10000
     },
     "inputWidgets": {},
     "nuid": "904068e9-96eb-4247-9dc1-017307dc3da8",
     "showTitle": false,
     "tableResultSettingsMap": {},
     "title": ""
    }
   },
   "outputs": [],
   "source": [
    "display(ydf.filter(F.col('STATION').contains('53182')))"
   ]
  },
  {
   "cell_type": "markdown",
   "metadata": {
    "application/vnd.databricks.v1+cell": {
     "cellMetadata": {},
     "inputWidgets": {},
     "nuid": "7db6afe7-0a47-45ad-9232-d12279520c29",
     "showTitle": false,
     "tableResultSettingsMap": {},
     "title": ""
    }
   },
   "source": [
    "## Weather df"
   ]
  },
  {
   "cell_type": "code",
   "execution_count": 0,
   "metadata": {
    "application/vnd.databricks.v1+cell": {
     "cellMetadata": {
      "byteLimit": 2048000,
      "rowLimit": 10000
     },
     "inputWidgets": {},
     "nuid": "c8355143-284e-422b-8bd0-91ee340750ea",
     "showTitle": false,
     "tableResultSettingsMap": {},
     "title": ""
    }
   },
   "outputs": [],
   "source": [
    "null_counts = qdf.select([count(when(isnan(c) | col(c).isNull(), c)).alias(c) for c in qdf.columns])\n",
    "display(null_counts)\n"
   ]
  },
  {
   "cell_type": "code",
   "execution_count": 0,
   "metadata": {
    "application/vnd.databricks.v1+cell": {
     "cellMetadata": {
      "byteLimit": 2048000,
      "rowLimit": 10000
     },
     "inputWidgets": {},
     "nuid": "bdb7ebe3-cd02-41c4-91be-bb6dc9e18f55",
     "showTitle": false,
     "tableResultSettingsMap": {},
     "title": ""
    }
   },
   "outputs": [],
   "source": [
    "ydf.groupBy('STATION').agg(\n",
    "        F.count(F.when(F.col('LATITUDE').isNull(), 1)).alias('Latitude_Null'),\n",
    "        F.count(F.when(F.col('LONGITUDE').isNotNull(), 1)).alias('Latitude_Non_Null'),\n",
    "        F.count(F.when(F.col('NAME').isNull(), 1)).alias('Name_Null'),\n",
    "        F.count(F.when(F.col('NAME').isNotNull(), 1)).alias('Name_Not_Null'),\n",
    "        F.count(F.when(F.col('REM').isNull(), 1)).alias('REM_Null'),\n",
    "        F.count(F.when(F.col('REM').isNotNull(), 1)).alias('REM_Not_Null')\n",
    "\n",
    "\n",
    "        ) \\\n",
    "        .orderBy('REM_Not_Null','Name_Not_Null').show()\n",
    "\n",
    "\n",
    "\n",
    "#for the first 5 stations don't have a way to extract location; no name and no REM\n"
   ]
  },
  {
   "cell_type": "markdown",
   "metadata": {
    "application/vnd.databricks.v1+cell": {
     "cellMetadata": {},
     "inputWidgets": {},
     "nuid": "1fa85e41-3514-4d36-8555-f08b4e2f0d6f",
     "showTitle": false,
     "tableResultSettingsMap": {},
     "title": ""
    }
   },
   "source": [
    "via https://www1.ncdc.noaa.gov/pub/data/ghcn/daily/readme.txt:  ID is the station identification code (WBAN station ID after cross ref).  Note that the first two\n",
    "           characters denote the FIPS  country code, the third character \n",
    "           is a network code that identifies the station numbering system \n",
    "           used, and the remaining eight characters contain the actual \n",
    "           station ID. \n",
    "\n",
    "\n",
    "but doesn't seem to match example format like \"US1AZMR0156\"\n",
    "\n",
    "\n",
    "https://www.ncei.noaa.gov/pub/data/noaa/isd-history.txt can match some\n",
    "\n",
    "https://www.ncei.noaa.gov/access/homr/reports mshr_standard.txt can match some (ie 94045 is Ft Peck Surfrad) via WBAN station Id \n"
   ]
  },
  {
   "cell_type": "code",
   "execution_count": 0,
   "metadata": {
    "application/vnd.databricks.v1+cell": {
     "cellMetadata": {
      "byteLimit": 2048000,
      "rowLimit": 10000
     },
     "inputWidgets": {},
     "nuid": "936a78d9-8db7-4575-839d-fb0bc90a628e",
     "showTitle": false,
     "tableResultSettingsMap": {},
     "title": ""
    }
   },
   "outputs": [],
   "source": [
    "display(ydf.filter(F.col('STATION')==99999953182).select([count(when(isnan(c) | col(c).isNull(), c)).alias(c) for c in qdf.columns]))"
   ]
  },
  {
   "cell_type": "code",
   "execution_count": 0,
   "metadata": {
    "application/vnd.databricks.v1+cell": {
     "cellMetadata": {
      "byteLimit": 2048000,
      "rowLimit": 10000
     },
     "inputWidgets": {},
     "nuid": "de5790fe-bbbf-4c74-931e-8c54d4097345",
     "showTitle": false,
     "tableResultSettingsMap": {},
     "title": ""
    }
   },
   "outputs": [],
   "source": [
    "display(ydf.filter((F.col('LATITUDE').isNotNull()) & F.col('STATION').startswith(str(999999))))"
   ]
  },
  {
   "cell_type": "code",
   "execution_count": 0,
   "metadata": {
    "application/vnd.databricks.v1+cell": {
     "cellMetadata": {
      "byteLimit": 2048000,
      "rowLimit": 10000
     },
     "inputWidgets": {},
     "nuid": "292d4224-fdf7-4b54-91b4-e3d142d6130e",
     "showTitle": false,
     "tableResultSettingsMap": {},
     "title": ""
    }
   },
   "outputs": [],
   "source": [
    "ydf.filter(F.col('STATION').startswith(str(999999))).count() "
   ]
  },
  {
   "cell_type": "code",
   "execution_count": 0,
   "metadata": {
    "application/vnd.databricks.v1+cell": {
     "cellMetadata": {
      "byteLimit": 2048000,
      "rowLimit": 10000
     },
     "inputWidgets": {},
     "nuid": "f4a00488-3cb0-4456-8a0c-3fd0a1370b13",
     "showTitle": false,
     "tableResultSettingsMap": {},
     "title": ""
    }
   },
   "outputs": [],
   "source": [
    "ydf.filter(~F.col('STATION').startswith('999999')).count()"
   ]
  },
  {
   "cell_type": "code",
   "execution_count": 0,
   "metadata": {
    "application/vnd.databricks.v1+cell": {
     "cellMetadata": {
      "byteLimit": 2048000,
      "rowLimit": 10000
     },
     "inputWidgets": {},
     "nuid": "b7f2c8e5-67e1-4101-8a95-66ae8beaeb52",
     "showTitle": false,
     "tableResultSettingsMap": {},
     "title": ""
    }
   },
   "outputs": [],
   "source": [
    "display(ydf.filter(F.col('LATITUDE').isNull() & (F.col('REM').isNull()) & (F.col('NAME').isNull())) \\\n",
    "            .groupBy('STATION','REPORT_TYPE') \\\n",
    "            .agg(F.count('*').alias('count')) \\\n",
    "            .orderBy(F.desc('count'))\n",
    "    )"
   ]
  },
  {
   "cell_type": "code",
   "execution_count": 0,
   "metadata": {
    "application/vnd.databricks.v1+cell": {
     "cellMetadata": {},
     "inputWidgets": {},
     "nuid": "2833515c-b1a1-4aa6-8578-0c22edf9822e",
     "showTitle": false,
     "tableResultSettingsMap": {},
     "title": ""
    }
   },
   "outputs": [],
   "source": []
  },
  {
   "cell_type": "code",
   "execution_count": 0,
   "metadata": {
    "application/vnd.databricks.v1+cell": {
     "cellMetadata": {
      "byteLimit": 2048000,
      "rowLimit": 10000
     },
     "inputWidgets": {},
     "nuid": "9e92a912-6bd7-494e-ad4f-8f564828a384",
     "showTitle": false,
     "tableResultSettingsMap": {},
     "title": ""
    }
   },
   "outputs": [],
   "source": [
    "\n",
    "\n",
    "display(\n",
    "    ydf.filter(F.col('STATION').contains('94044'))\n",
    "       .select(\"STATION\")\n",
    "       .distinct()\n",
    ")\n",
    "\n",
    "display(\n",
    "    ydf.filter(F.col('STATION').contains('94045'))\n",
    "       .select(\"STATION\")\n",
    "       .distinct()\n",
    ")\n",
    "\n",
    "display(\n",
    "    ydf.filter(F.col('STATION').contains('53182'))\n",
    "       .select(\"STATION\")\n",
    "       .distinct()\n",
    ")\n",
    "\n",
    "display(\n",
    "    ydf.filter(F.col('STATION').contains('54918'))\n",
    "       .select(\"STATION\")\n",
    "       .distinct()\n",
    ")\n",
    "\n",
    "display(\n",
    "    ydf.filter(F.col('STATION').contains('04835'))\n",
    "       .select(\"STATION\")\n",
    "       .distinct()\n",
    ")\n",
    "\n",
    "display(\n",
    "    ydf.filter(F.col('STATION').contains('53830'))\n",
    "       .select(\"STATION\")\n",
    "       .distinct()\n",
    ")\n",
    "\n",
    "#99404599999=appalachicola FL\n"
   ]
  },
  {
   "cell_type": "code",
   "execution_count": 0,
   "metadata": {
    "application/vnd.databricks.v1+cell": {
     "cellMetadata": {
      "byteLimit": 2048000,
      "rowLimit": 10000
     },
     "inputWidgets": {},
     "nuid": "14d361bb-c0b2-4604-b84d-2d8a1d6c19b4",
     "showTitle": false,
     "tableResultSettingsMap": {},
     "title": ""
    }
   },
   "outputs": [],
   "source": [
    "display(\n",
    "    ydf.filter(F.col('STATION').contains('94045'))\n",
    "       .select(\"STATION\")\n",
    "       .distinct()\n",
    ")"
   ]
  },
  {
   "cell_type": "code",
   "execution_count": 0,
   "metadata": {
    "application/vnd.databricks.v1+cell": {
     "cellMetadata": {
      "byteLimit": 2048000,
      "rowLimit": 10000
     },
     "inputWidgets": {},
     "nuid": "aac50fe4-41ef-4fd1-86c7-a33494715994",
     "showTitle": false,
     "tableResultSettingsMap": {},
     "title": ""
    }
   },
   "outputs": [],
   "source": [
    "display(ydf.filter(F.col('STATION') == '99999923583'))"
   ]
  },
  {
   "cell_type": "markdown",
   "metadata": {
    "application/vnd.databricks.v1+cell": {
     "cellMetadata": {},
     "inputWidgets": {},
     "nuid": "fedccf71-e0a6-4a8e-909f-83eb19dc3c34",
     "showTitle": false,
     "tableResultSettingsMap": {},
     "title": ""
    }
   },
   "source": [
    "## cross ref"
   ]
  },
  {
   "cell_type": "code",
   "execution_count": 0,
   "metadata": {
    "application/vnd.databricks.v1+cell": {
     "cellMetadata": {
      "byteLimit": 2048000,
      "rowLimit": 10000
     },
     "inputWidgets": {},
     "nuid": "7630aad0-6af4-400f-a91a-c28b81fb8a47",
     "showTitle": false,
     "tableResultSettingsMap": {},
     "title": ""
    }
   },
   "outputs": [],
   "source": [
    "qdf=qdf.withColumn(\"WBAN\",F.col('STATION').substr(-5, 5))"
   ]
  },
  {
   "cell_type": "code",
   "execution_count": 0,
   "metadata": {
    "application/vnd.databricks.v1+cell": {
     "cellMetadata": {
      "byteLimit": 2048000,
      "rowLimit": 10000
     },
     "inputWidgets": {},
     "nuid": "329f5181-c9e7-46d2-a4cc-b5b2135f968b",
     "showTitle": false,
     "tableResultSettingsMap": {},
     "title": ""
    }
   },
   "outputs": [],
   "source": [
    "ydf=ydf.withColumn(\"WBAN\",F.col('STATION').substr(-5, 5))"
   ]
  },
  {
   "cell_type": "code",
   "execution_count": 0,
   "metadata": {
    "application/vnd.databricks.v1+cell": {
     "cellMetadata": {},
     "inputWidgets": {},
     "nuid": "0eadc576-4cab-4b96-872e-89ec6f7aa419",
     "showTitle": false,
     "tableResultSettingsMap": {},
     "title": ""
    }
   },
   "outputs": [],
   "source": [
    "    "
   ]
  }
 ],
 "metadata": {
  "application/vnd.databricks.v1+notebook": {
   "computePreferences": null,
   "dashboards": [],
   "environmentMetadata": {
    "base_environment": "",
    "environment_version": "2"
   },
   "language": "python",
   "notebookMetadata": {
    "pythonIndentUnit": 4
   },
   "notebookName": "0.03-sg-weather-EDA",
   "widgets": {}
  },
  "language_info": {
   "name": "python"
  }
 },
 "nbformat": 4,
 "nbformat_minor": 0
}
