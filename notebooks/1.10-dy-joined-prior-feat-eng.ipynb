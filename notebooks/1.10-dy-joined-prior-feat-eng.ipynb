{
 "cells": [
  {
   "cell_type": "markdown",
   "metadata": {
    "application/vnd.databricks.v1+cell": {
     "cellMetadata": {},
     "inputWidgets": {},
     "nuid": "b64f242b-429c-43c7-b872-f4ebafec26ae",
     "showTitle": false,
     "tableResultSettingsMap": {},
     "title": ""
    }
   },
   "source": [
    "## Testing"
   ]
  },
  {
   "cell_type": "code",
   "execution_count": 0,
   "metadata": {
    "application/vnd.databricks.v1+cell": {
     "cellMetadata": {
      "byteLimit": 2048000,
      "rowLimit": 10000
     },
     "inputWidgets": {},
     "nuid": "33d06a03-5c3f-4f56-b00f-fef8ea6125f0",
     "showTitle": false,
     "tableResultSettingsMap": {},
     "title": ""
    }
   },
   "outputs": [],
   "source": [
    "from pyspark.sql.functions import col, lag\n",
    "from pyspark.sql.window import Window\n",
    "import pyspark.sql.functions as F\n",
    "import time "
   ]
  },
  {
   "cell_type": "code",
   "execution_count": 0,
   "metadata": {
    "application/vnd.databricks.v1+cell": {
     "cellMetadata": {
      "byteLimit": 2048000,
      "rowLimit": 10000
     },
     "inputWidgets": {},
     "nuid": "42d8148d-574b-4126-bdd4-dec729f20180",
     "showTitle": false,
     "tableResultSettingsMap": {},
     "title": ""
    }
   },
   "outputs": [],
   "source": [
    "folder_path = \"dbfs:/student-groups/Group_4_1\"\n",
    "# dataset = 'parquet_airlines_data_1y' # 1 year\n",
    "dataset = 'parquet_airlines_data_3m' # 3 months\n",
    "df = spark.read.parquet(f\"{folder_path}/interim/{dataset}_clean.parquet\")"
   ]
  },
  {
   "cell_type": "code",
   "execution_count": 0,
   "metadata": {
    "application/vnd.databricks.v1+cell": {
     "cellMetadata": {
      "byteLimit": 2048000,
      "rowLimit": 10000
     },
     "inputWidgets": {},
     "nuid": "dfb25e83-adc1-440f-8c51-602a74781eb7",
     "showTitle": false,
     "tableResultSettingsMap": {},
     "title": ""
    }
   },
   "outputs": [],
   "source": [
    "team_BASE_DIR = f\"dbfs:/student-groups/Group_4_1\"\n",
    "spark.sparkContext.setCheckpointDir(f\"{team_BASE_DIR}/modeling_checkpoints\")\n",
    "period = \"1y\" # on of the following values (\"\", \"3m\", \"6m\", \"1y\")\n",
    "ydf = spark.read.parquet(f\"{team_BASE_DIR}/interim/join_checkpoints/joined_flights_weather_{period}_v1.parquet\")"
   ]
  },
  {
   "cell_type": "code",
   "execution_count": 0,
   "metadata": {
    "application/vnd.databricks.v1+cell": {
     "cellMetadata": {
      "byteLimit": 2048000,
      "rowLimit": 10000
     },
     "inputWidgets": {},
     "nuid": "7fd47a5e-0b45-4d0c-83cf-cefed65765af",
     "showTitle": false,
     "tableResultSettingsMap": {},
     "title": ""
    }
   },
   "outputs": [],
   "source": [
    "display(df)"
   ]
  },
  {
   "cell_type": "code",
   "execution_count": 0,
   "metadata": {
    "application/vnd.databricks.v1+cell": {
     "cellMetadata": {
      "byteLimit": 2048000,
      "rowLimit": 10000
     },
     "inputWidgets": {},
     "nuid": "6e1df4f9-e1c8-49ab-9ae1-2a480ea813ce",
     "showTitle": false,
     "tableResultSettingsMap": {},
     "title": ""
    }
   },
   "outputs": [],
   "source": [
    "tail_freq = df.groupBy(\"TAIL_NUM\").agg(F.count('TAIL_NUM').alias('count'),).orderBy(\"count\")\n",
    "display(tail_freq)"
   ]
  },
  {
   "cell_type": "code",
   "execution_count": 0,
   "metadata": {
    "application/vnd.databricks.v1+cell": {
     "cellMetadata": {
      "byteLimit": 2048000,
      "rowLimit": 10000
     },
     "inputWidgets": {},
     "nuid": "342d8566-0e51-4405-80a8-0e0a97986f8e",
     "showTitle": false,
     "tableResultSettingsMap": {},
     "title": ""
    }
   },
   "outputs": [],
   "source": [
    "dd = df.select(df.origin_iata, df.dest_iata,\n",
    "               df.CRS_ELAPSED_TIME, \n",
    "               df.DEP_DELAY,\n",
    "               df.ORIGIN_CITY_NAME, df.DEST_CITY_NAME,\n",
    "               df.dep_datetime, df.arr_datetime).where(df.OP_UNIQUE_CARRIER==\"DL\").where(df.TAIL_NUM==\"D942DN\").orderBy(df.TAIL_NUM, df.FL_DATE, df.dep_datetime)\n",
    "\n",
    "# EX1 one Delta plane, 2 days, 9 trips\n",
    "# dx = df.where(df.OP_UNIQUE_CARRIER==\"DL\").where(df.TAIL_NUM==\"D942DN\").orderBy(df.TAIL_NUM, df.FL_DATE, df.dep_datetime)\n",
    "# EX2 \n",
    "dx = df.where(df.TAIL_NUM==\"N78008\").orderBy(df.TAIL_NUM, df.FL_DATE, df.dep_datetime)\n",
    "display(dx)\n"
   ]
  },
  {
   "cell_type": "markdown",
   "metadata": {
    "application/vnd.databricks.v1+cell": {
     "cellMetadata": {},
     "inputWidgets": {},
     "nuid": "36c34feb-9806-4b52-a587-9cc9cce04ad9",
     "showTitle": false,
     "tableResultSettingsMap": {},
     "title": ""
    }
   },
   "source": [
    "From prior flight we would want: \n",
    "- prior_origin \"ORIGIN\" / prior_origin_name \"ORIGIN_CITY_NAME\"\n",
    "- prior_departure \"dep_datetime\" \n",
    "- prioir_is_delay\n",
    "\n",
    "Nice to have\n",
    "- has it arrived (arr_datetime >= 2hrs-expected departure time)\n",
    "\n",
    "Assumptions:\n",
    "- Tail number of flight is scheduled before 2hr of expected departure\n",
    "- Prior flight is unique and consistant on tail number and airport location \n",
    "- Prior flight arrived with 24 hours and prior destination must match current departure airport\n",
    "\n",
    "Adressing Data Leakage:\n",
    "- prior flight departure time must be >= 2hrs+expected departure. Using actual departure time instead because I dont have expected\n",
    "\n"
   ]
  },
  {
   "cell_type": "code",
   "execution_count": 0,
   "metadata": {
    "application/vnd.databricks.v1+cell": {
     "cellMetadata": {
      "byteLimit": 2048000,
      "rowLimit": 10000
     },
     "inputWidgets": {},
     "nuid": "ae14e94c-8b62-40b7-8036-a57327640da4",
     "showTitle": false,
     "tableResultSettingsMap": {},
     "title": ""
    }
   },
   "outputs": [],
   "source": [
    "## DO NOT PURSUE JOIN METHOD. \n",
    "# CANNOT PINPOINT JOIN ON \"PRIOR\" FLIGHT WITH VARIABLE TIME BASED COMPONENT. WOULD NEED TO POST FILTER EXTRANEOUS JOIN ROWS \n",
    "\n",
    "# should use current flight estimated departure time \n",
    "\n",
    "# result = dx.alias(\"cf\").join(dx.alias(\"pf\"),[col('cf.tail_num') == col('pf.tail_num'), \n",
    "#                                              col('cf.ORIGIN') == col('pf.DEST'),\n",
    "#                                              col('cf.FL_DATE')==col('pf.FL_DATE')\n",
    "#                                              ],'left')\\\n",
    "#     .select(\"cf.tail_num\",\"cf.ORIGIN_CITY_NAME\", \"cf.DEST_CITY_NAME\", \"cf.dep_datetime\", \"cf.arr_datetime\", col(\"pf.ORIGIN_CITY_NAME\").alias(\"PRIOR_ORIGIN\"))\n",
    "\n",
    "# result = dx.alias(\"cf\").select(\"cf.tail_num\",\"cf.ORIGIN_CITY_NAME\", \"cf.DEST_CITY_NAME\", \"cf.dep_datetime\", \"cf.arr_datetime\")\n",
    "\n",
    "\n",
    "# display(result)"
   ]
  },
  {
   "cell_type": "code",
   "execution_count": 0,
   "metadata": {
    "application/vnd.databricks.v1+cell": {
     "cellMetadata": {
      "byteLimit": 2048000,
      "rowLimit": 10000
     },
     "inputWidgets": {},
     "nuid": "fcc4e2c5-946f-4fc2-8b41-9e6bd0c9ea96",
     "showTitle": false,
     "tableResultSettingsMap": {},
     "title": ""
    }
   },
   "outputs": [],
   "source": [
    "# Example 1: one plane from delta based in Atlanta, 2 days, 9 trips\n",
    "## NEED TO ADD MORE CONDITIONS GIVEN EDGE CASES\n",
    "\n",
    "dxex1 = df.where(df.OP_UNIQUE_CARRIER==\"DL\").where(df.TAIL_NUM==\"D942DN\").orderBy(df.TAIL_NUM, df.FL_DATE, df.dep_datetime)\n",
    "\n",
    "resultex1 = dxex1.withColumn(\"priorflight_origin\",\n",
    "                             lag(\"ORIGIN_CITY_NAME\").over(Window.partitionBy(\"tail_num\").orderBy(\"dep_datetime\")))\\\n",
    "                .withColumn(\"priorflight_deptime\",\n",
    "                            lag(\"dep_datetime\").over(Window.partitionBy(\"tail_num\").orderBy(\"dep_datetime\")))\\\n",
    "                .withColumn(\"priorflight_arrtime\",\n",
    "                            lag(\"arr_datetime\").over(Window.partitionBy(\"tail_num\").orderBy(\"dep_datetime\")))\\\n",
    "                .withColumn(\"presentmoment\", (F.col(\"dep_datetime\") - F.expr(\"INTERVAL 2 HOURS\")).cast(\"timestamp\"))\\\n",
    "                .withColumn(\"priorflight_deptime_final\", F.when(F.col(\"priorflight_deptime\") <= (F.col(\"presentmoment\")) ,F.col(\"priorflight_deptime\")).otherwise(F.lit(None)))\\\n",
    "                .withColumn(\"priorflight_arrtime_final\", F.when(F.col(\"priorflight_arrtime\") <= (F.col(\"presentmoment\")) ,F.col(\"priorflight_arrtime\")).otherwise(F.lit(None)))\\\n",
    "    .select(\"tail_num\",\n",
    "            \"ORIGIN_CITY_NAME\", \"DEST_CITY_NAME\", \n",
    "            \"priorflight_origin\",\n",
    "                \"presentmoment\",\n",
    "            \"dep_datetime\", \"arr_datetime\", \n",
    "            \"priorflight_deptime\", \"priorflight_arrtime\",\n",
    "            \"priorflight_deptime_final\", \"priorflight_arrtime_final\"\n",
    ")\n",
    "\n",
    "display(resultex1)\n"
   ]
  },
  {
   "cell_type": "code",
   "execution_count": 0,
   "metadata": {
    "application/vnd.databricks.v1+cell": {
     "cellMetadata": {
      "byteLimit": 2048000,
      "rowLimit": 10000
     },
     "inputWidgets": {},
     "nuid": "dfc1c8bd-1a08-44a7-81b9-194e7a68c6b4",
     "showTitle": false,
     "tableResultSettingsMap": {},
     "title": ""
    }
   },
   "outputs": [],
   "source": [
    "start_time = time.time()\n",
    "\n",
    "# Example 2: NJ,TX, HI repetative routes. Flights missing because airplane is in locations without record of getting there\n",
    "\n",
    "dx = df.where(df.TAIL_NUM==\"N78008\").orderBy(df.TAIL_NUM, df.FL_DATE, df.dep_datetime)\n",
    "\n",
    "result = dx.withColumn(\"priorflight_origin\",\n",
    "                             lag(\"ORIGIN_CITY_NAME\").over(Window.partitionBy(\"tail_num\").orderBy(\"dep_datetime\")))\\\n",
    "                .withColumn(\"priorflight_dest\",\n",
    "                             lag(\"DEST_CITY_NAME\").over(Window.partitionBy(\"tail_num\").orderBy(\"dep_datetime\")))\\\n",
    "                .withColumn(\"priorflight_deptime\",\n",
    "                            lag(\"dep_datetime\").over(Window.partitionBy(\"tail_num\").orderBy(\"dep_datetime\")))\\\n",
    "                .withColumn(\"priorflight_arrtime\",\n",
    "                            lag(\"arr_datetime\").over(Window.partitionBy(\"tail_num\").orderBy(\"dep_datetime\")))\\\n",
    "                .withColumn(\"presentmoment\", (F.col(\"dep_datetime\") - F.expr(\"INTERVAL 2 HOURS\")).cast(\"timestamp\"))\\\n",
    "                .withColumn(\"dayprior_presentmoment\", (F.col(\"dep_datetime\") - F.expr(\"INTERVAL 26 HOURS\")).cast(\"timestamp\"))\\\n",
    "                .withColumn(\"priorflight_deptime_final\", F.when(((F.col(\"priorflight_deptime\") <= (F.col(\"presentmoment\"))) & \n",
    "                                                                 (F.col(\"ORIGIN_CITY_NAME\") == F.col(\"priorflight_dest\")) &\n",
    "                                                                 (F.col(\"priorflight_arrtime\") >= F.col(\"dayprior_presentmoment\")))\n",
    "                                                                ,F.col(\"priorflight_deptime\")).otherwise(F.lit(None)))\\\n",
    "                .withColumn(\"priorflight_arrtime_final\", F.when(((F.col(\"priorflight_arrtime\") <= (F.col(\"presentmoment\"))) &\n",
    "                                                                 (F.col(\"ORIGIN_CITY_NAME\") == F.col(\"priorflight_dest\")) & \n",
    "                                                                 (F.col(\"priorflight_arrtime\") >= F.col(\"dayprior_presentmoment\"))) \n",
    "                                                                ,F.col(\"priorflight_arrtime\")).otherwise(F.lit(None)))\\\n",
    "    .select(\"tail_num\",\n",
    "            \"ORIGIN_CITY_NAME\", \"DEST_CITY_NAME\", \n",
    "            \"priorflight_origin\",\n",
    "                # \"presentmoment\", \"dayprior_presentmoment\"\n",
    "            \"dep_datetime\", \"arr_datetime\",\n",
    "            # \"priorflight_deptime\", \"priorflight_arrtime\",\n",
    "            \"priorflight_deptime_final\", \n",
    "            \"priorflight_arrtime_final\"\n",
    ")\n",
    "\n",
    "display(result)\n",
    "\n",
    "\n",
    "end_time = time.time()\n",
    "execution_time = end_time - start_time\n",
    "print(f\"Execution Time: {execution_time} seconds\")"
   ]
  },
  {
   "cell_type": "code",
   "execution_count": 0,
   "metadata": {
    "application/vnd.databricks.v1+cell": {
     "cellMetadata": {
      "byteLimit": 2048000,
      "rowLimit": 10000
     },
     "inputWidgets": {},
     "nuid": "26cb1aec-f4cd-4957-bb35-d1f44c5a0aca",
     "showTitle": false,
     "tableResultSettingsMap": {},
     "title": ""
    }
   },
   "outputs": [],
   "source": [
    "## RUN RESULT FOR ENTIRE 3MONTHS\n",
    "\n",
    "start_time = time.time()\n",
    "\n",
    "dx = df\n",
    "\n",
    "result = dx.withColumn(\"priorflight_origin\",\n",
    "                             lag(\"ORIGIN_CITY_NAME\").over(Window.partitionBy(\"tail_num\").orderBy(\"dep_datetime\")))\\\n",
    "                .withColumn(\"priorflight_dest\",\n",
    "                             lag(\"DEST_CITY_NAME\").over(Window.partitionBy(\"tail_num\").orderBy(\"dep_datetime\")))\\\n",
    "                .withColumn(\"priorflight_deptime\",\n",
    "                            lag(\"dep_datetime\").over(Window.partitionBy(\"tail_num\").orderBy(\"dep_datetime\")))\\\n",
    "                .withColumn(\"priorflight_arrtime\",\n",
    "                            lag(\"arr_datetime\").over(Window.partitionBy(\"tail_num\").orderBy(\"dep_datetime\")))\\\n",
    "                .withColumn(\"presentmoment\", (F.col(\"dep_datetime\") - F.expr(\"INTERVAL 2 HOURS\")).cast(\"timestamp\"))\\\n",
    "                .withColumn(\"dayprior_presentmoment\", (F.col(\"dep_datetime\") - F.expr(\"INTERVAL 26 HOURS\")).cast(\"timestamp\"))\\\n",
    "                .withColumn(\"priorflight_deptime_final\", F.when(((F.col(\"priorflight_deptime\") <= (F.col(\"presentmoment\"))) & \n",
    "                                                                 (F.col(\"ORIGIN_CITY_NAME\") == F.col(\"priorflight_dest\")) &\n",
    "                                                                 (F.col(\"priorflight_arrtime\") >= F.col(\"dayprior_presentmoment\")))\n",
    "                                                                ,F.col(\"priorflight_deptime\")).otherwise(F.lit(None)))\\\n",
    "                .withColumn(\"priorflight_arrtime_final\", F.when(((F.col(\"priorflight_arrtime\") <= (F.col(\"presentmoment\"))) &\n",
    "                                                                 (F.col(\"ORIGIN_CITY_NAME\") == F.col(\"priorflight_dest\")) & \n",
    "                                                                 (F.col(\"priorflight_arrtime\") >= F.col(\"dayprior_presentmoment\"))) \n",
    "                                                                ,F.col(\"priorflight_arrtime\")).otherwise(F.lit(None)))\\\n",
    "    .select(\"tail_num\",\n",
    "            \"ORIGIN_CITY_NAME\", \"DEST_CITY_NAME\", \n",
    "            \"priorflight_origin\",\n",
    "                # \"presentmoment\", \"dayprior_presentmoment\"\n",
    "            \"dep_datetime\", \"arr_datetime\",\n",
    "            # \"priorflight_deptime\", \"priorflight_arrtime\",\n",
    "            \"priorflight_deptime_final\", \n",
    "            \"priorflight_arrtime_final\"\n",
    ")\n",
    "\n",
    "# display(result)\n",
    "\n",
    "end_time = time.time()\n",
    "execution_time = end_time - start_time\n",
    "print(f\"Execution Time: {execution_time} seconds\")\n",
    "\n"
   ]
  },
  {
   "cell_type": "code",
   "execution_count": 0,
   "metadata": {
    "application/vnd.databricks.v1+cell": {
     "cellMetadata": {
      "byteLimit": 2048000,
      "rowLimit": 10000
     },
     "inputWidgets": {},
     "nuid": "6070738f-f479-4214-a94b-05eadeb0e4b0",
     "showTitle": false,
     "tableResultSettingsMap": {},
     "title": ""
    }
   },
   "outputs": [],
   "source": [
    "## SPOT CHECK 3 MONTH RESUTLS\n",
    "display(result.head(20))"
   ]
  },
  {
   "cell_type": "markdown",
   "metadata": {
    "application/vnd.databricks.v1+cell": {
     "cellMetadata": {},
     "inputWidgets": {},
     "nuid": "3cce6c72-7ce7-4d68-b9df-ef55e0086bee",
     "showTitle": false,
     "tableResultSettingsMap": {},
     "title": ""
    }
   },
   "source": [
    "## Implementing"
   ]
  },
  {
   "cell_type": "code",
   "execution_count": 0,
   "metadata": {
    "application/vnd.databricks.v1+cell": {
     "cellMetadata": {
      "byteLimit": 2048000,
      "rowLimit": 10000
     },
     "inputWidgets": {},
     "nuid": "6a7c3b6b-3e26-421c-9958-804e2ec2c8cb",
     "showTitle": false,
     "tableResultSettingsMap": {},
     "title": ""
    }
   },
   "outputs": [],
   "source": [
    "# folder_path = \"dbfs:/student-groups/Group_4_1\"\n",
    "# dataset = 'joined_1y_weather_cleaned_test'\n",
    "# data1 = spark.read.parquet(f\"{folder_path}/interim/join_checkpoints/{dataset}.parquet\")\n",
    "\n",
    "data1 = spark.read.parquet(f\"dbfs:/student-groups/Group_4_1/interim/join_checkpoints/joined_1y_weather_cleaned_combo.parquet\")\n",
    "display(data1)"
   ]
  },
  {
   "cell_type": "code",
   "execution_count": 0,
   "metadata": {
    "application/vnd.databricks.v1+cell": {
     "cellMetadata": {
      "byteLimit": 2048000,
      "rowLimit": 10000
     },
     "inputWidgets": {},
     "nuid": "d8047038-b3e8-43be-b6b5-60604c09f032",
     "showTitle": false,
     "tableResultSettingsMap": {},
     "title": ""
    }
   },
   "outputs": [],
   "source": [
    "data1.columns\n"
   ]
  },
  {
   "cell_type": "code",
   "execution_count": 0,
   "metadata": {
    "application/vnd.databricks.v1+cell": {
     "cellMetadata": {
      "byteLimit": 2048000,
      "rowLimit": 10000
     },
     "inputWidgets": {},
     "nuid": "8d11f648-8b5f-4a96-ae32-5308ef17d846",
     "showTitle": false,
     "tableResultSettingsMap": {},
     "title": ""
    }
   },
   "outputs": [],
   "source": [
    "## Notes\n",
    "\n",
    "start_time = time.time()\n",
    "\n",
    "def add_prior_cloumns(df):\n",
    "    \"\"\"input spark df \n",
    "        output spark df plus columns \n",
    "    \"\"\"\n",
    "    WindowConditions = Window.partitionBy(\"TAIL_NUM\").orderBy(\"sched_depart_utc\")\n",
    "    WhenConditions = (F.col(\"ORIGIN\") == F.col(\"priorflight_dest\")) & (F.col(\"priorflight_deptime\") >= F.col(\"twentysix_hours_prior_depart_UTC\"))\n",
    "\n",
    "    result_df = (df.withColumn(\"priorflight_origin\", \n",
    "                              lag(\"ORIGIN\").over(WindowConditions))\\\n",
    "                    .withColumn(\"priorflight_dest\", \n",
    "                                lag(\"DEST\").over(WindowConditions))\\\n",
    "                    .withColumn(\"twentysix_hours_prior_depart_UTC\", \n",
    "                                (F.col(\"two_hours_prior_depart_UTC\") - F.expr(\"INTERVAL 24 HOURS\")).cast(\"timestamp\"))\\\n",
    "                    .withColumn(\"priorflight_deptime\", \n",
    "                                lag(\"sched_depart_utc\").over(WindowConditions))\\\n",
    "                    .withColumn(\"priorflight_depdelay\",\n",
    "                                lag(\"DEP_DELAY\").over(WindowConditions))\\\n",
    "                    .withColumn(\"priorflight_distance\", \n",
    "                                lag(\"DISTANCE\").over(WindowConditions))\\\n",
    "                    .withColumn(\"priorflight_crs_elapsed_time\", \n",
    "                                lag(\"CRS_ELAPSED_TIME\").over(WindowConditions))\\\n",
    "                    .withColumn(\"priorflight_depdelay_final\", \n",
    "                                F.when(WhenConditions,F.col(\"priorflight_depdelay\")).otherwise(F.lit(None)))\\\n",
    "                    .withColumn(\"priorflight_deptime_final\", \n",
    "                                F.when(((F.col(\"priorflight_deptime\") <= (F.col(\"two_hours_prior_depart_UTC\"))) & WhenConditions)\\\n",
    "                                                                    ,F.col(\"priorflight_deptime\")).otherwise(F.lit(None)))\\\n",
    "                    .withColumn(\"priorflight_isdelayed\", \n",
    "                                F.when(F.col(\"priorflight_depdelay_final\")>=15, 1).when(\n",
    "                                    F.col(\"priorflight_depdelay_final\")< 15, 0).otherwise(F.lit(None)))\\\n",
    "                    .withColumn(\"elapsed_time_calculated\", \n",
    "                                (F.col(\"AIR_TIME\")+ F.col(\"TAXI_IN\")+F.col(\"TAXI_OUT\")).cast(\"int\"))\\\n",
    "                    .withColumn(\"flight_arr_time_calc\", \n",
    "                                F.expr(\"from_unixtime(unix_timestamp(`sched_depart_utc`) + (`elapsed_time_calculated` * 60))\"))\\\n",
    "                    .withColumn(\"priorflight_arr_time_calc\", \n",
    "                                lag(\"flight_arr_time_calc\").over(WindowConditions))\\\n",
    "                    .withColumn(\"priorflight_arr_time_calc_final\", \n",
    "                                F.when(((F.col(\"priorflight_arr_time_calc\") <= (F.col(\"two_hours_prior_depart_UTC\"))) & WhenConditions)\\\n",
    "                                                                    ,F.col(\"priorflight_arr_time_calc\")).otherwise(F.lit(None)))\\\n",
    "                    .withColumn(\"priorflight_arrived\", \n",
    "                                F.when( (F.col(\"priorflight_arr_time_calc_final\") <= (F.col(\"two_hours_prior_depart_UTC\"))) & WhenConditions , 1).otherwise(0))\\\n",
    "                    .withColumn(\"priorflght_est_arr_time\", \n",
    "                                F.expr(\"from_unixtime(unix_timestamp(`priorflight_deptime_final`) + (`priorflight_crs_elapsed_time` * 60))\"))\\\n",
    "                    .withColumn(\"priorflght_est_arr_time_final\", \n",
    "                                F.when(F.col(\"priorflight_arr_time_calc_final\").isNotNull(),F.col(\"priorflight_arr_time_calc_final\"))\\\n",
    "                                        .when(F.col(\"priorflight_deptime_final\").isNotNull(), F.col(\"priorflght_est_arr_time\")).otherwise(F.lit(None)))\\\n",
    "                    .withColumn(\"est_tail_turnaround_window_sec\", \n",
    "                                F.col(\"sched_depart_utc\").cast(\"long\") - F.col(\"priorflght_est_arr_time_final\").cast(\"timestamp\").cast(\"long\"))\\\n",
    "                    .withColumn(\"est_tail_turnaround_window_min\", \n",
    "                                F.round(F.col(\"est_tail_turnaround_window_sec\")/60))\n",
    "                    \n",
    "    )\n",
    "\n",
    "    return result_df\n",
    "\n",
    "result = add_prior_cloumns(data1)\n",
    "\n",
    "\n",
    "end_time = time.time()\n",
    "execution_time = end_time - start_time\n",
    "print(f\"Execution Time: {execution_time} seconds\")\n",
    "\n"
   ]
  },
  {
   "cell_type": "code",
   "execution_count": 0,
   "metadata": {
    "application/vnd.databricks.v1+cell": {
     "cellMetadata": {},
     "inputWidgets": {},
     "nuid": "1883bab0-8b3f-4f79-a05b-6d427f6061eb",
     "showTitle": false,
     "tableResultSettingsMap": {},
     "title": ""
    }
   },
   "outputs": [],
   "source": [
    "## FORMAT\n",
    "start_time = time.time()\n",
    "\n",
    "def add_prior_cloumns(df):\n",
    "    \"\"\"input spark df \n",
    "        output spark df plus columns \n",
    "    \"\"\"\n",
    "    WindowConditions = Window.partitionBy(\"TAIL_NUM\").orderBy(\"sched_depart_utc\")\n",
    "    WhenConditions = (F.col(\"ORIGIN\") == F.col(\"priorflight_dest\")) & (F.col(\"priorflight_deptime\") >= F.col(\"twentysix_hours_prior_depart_UTC\"))\n",
    "\n",
    "    result_df = (df.withColumn(\"priorflight_origin\", \n",
    "                              lag(\"ORIGIN\").over(WindowConditions)) #airplane origin at t-1\n",
    "                    .withColumn(\"priorflight_dest\", \n",
    "                                lag(\"DEST\").over(WindowConditions)) #airplane dest transition t-1 to t\n",
    "                    .withColumn(\"twentysix_hours_prior_depart_UTC\", \n",
    "                                (F.col(\"two_hours_prior_depart_UTC\") - F.expr(\"INTERVAL 24 HOURS\"))\n",
    "                                .cast(\"timestamp\")) #constraint for \"not too long ago\"\n",
    "                    .withColumn(\"priorflight_deptime\", \n",
    "                                lag(\"sched_depart_utc\").over(WindowConditions)) #scheduled departure utc of t-1 transition\n",
    "                    .withColumn(\"priorflight_depdelay\",\n",
    "                                lag(\"DEP_DELAY\").over(WindowConditions)) \n",
    "                    .withColumn(\"priorflight_distance\", \n",
    "                                lag(\"DISTANCE\").over(WindowConditions))\n",
    "                    .withColumn(\"priorflight_crs_elapsed_time\", \n",
    "                                lag(\"CRS_ELAPSED_TIME\").over(WindowConditions))\n",
    "                    .withColumn(\"priorflight_depdelay_final\", \n",
    "                                F.when(WhenConditions,F.col(\"priorflight_depdelay\")) #************\n",
    "                                .otherwise(F.lit(None))\n",
    "                                ) #dep delay contingent on origin=dest, deptime within 26 hrs\n",
    "                    .withColumn(\"priorflight_deptime_final\", \n",
    "                                F.when(\n",
    "                                    (\n",
    "                                        (F.col(\"priorflight_deptime\") <= (F.col(\"two_hours_prior_depart_UTC\"))\n",
    "                                         ) & WhenConditions), #when yesterday <= deptime <= window, origin=dest\n",
    "                                    F.col(\"priorflight_deptime\"))\n",
    "                                    .otherwise(F.lit(None))) #else null ****\n",
    "                    .withColumn(\"priorflight_isdelayed\", \n",
    "                                F.when(F.col(\"priorflight_depdelay_final\")>=15, 1).when(\n",
    "                                    F.col(\"priorflight_depdelay_final\")< 15, 0).otherwise(F.lit(None))) #fill based on depdelay_final\n",
    "                    .withColumn(\"elapsed_time_calculated\", \n",
    "                                (F.col(\"AIR_TIME\")+ F.col(\"TAXI_IN\")+F.col(\"TAXI_OUT\")).cast(\"int\")) #contingent on live info\n",
    "                    .withColumn(\"flight_arr_time_calc\", \n",
    "                                F.expr(\"from_unixtime(unix_timestamp(`sched_depart_utc`) + (`elapsed_time_calculated` * 60))\")) #****\n",
    "                    .withColumn(\"priorflight_arr_time_calc\", \n",
    "                                lag(\"flight_arr_time_calc\").over(WindowConditions))\\\n",
    "                    .withColumn(\"priorflight_arr_time_calc_final\", \n",
    "                                F.when(\n",
    "                                    (\n",
    "                                        (F.col(\"priorflight_arr_time_calc\") <= (F.col(\"two_hours_prior_depart_UTC\"))) \n",
    "                                        & WhenConditions), #yesterday <= arr_time_calc <= window, origin=dest\n",
    "                                    F.col(\"priorflight_arr_time_calc\"))\n",
    "                                    .otherwise(F.lit(None))) #else null ****\n",
    "                    .withColumn(\"priorflight_arrived\", \n",
    "                                F.when(\n",
    "                                    (F.col(\"priorflight_arr_time_calc_final\") <= (F.col(\"two_hours_prior_depart_UTC\"))\n",
    "                                     ) & WhenConditions , 1).otherwise(0)) \n",
    "                    .withColumn(\"priorflght_est_arr_time\", \n",
    "                                F.expr(\"from_unixtime(unix_timestamp(`priorflight_deptime_final`) + (`priorflight_crs_elapsed_time` * 60))\"))\\\n",
    "                    .withColumn(\"priorflght_est_arr_time_final\", \n",
    "                                F.when(F.col(\"priorflight_arr_time_calc_final\").isNotNull(),F.col(\"priorflight_arr_time_calc_final\"))\\\n",
    "                                        .when(F.col(\"priorflight_deptime_final\").isNotNull(), F.col(\"priorflght_est_arr_time\")).otherwise(F.lit(None)))\\\n",
    "                    .withColumn(\"est_tail_turnaround_window_sec\", \n",
    "                                F.col(\"sched_depart_utc\").cast(\"long\") - F.col(\"priorflght_est_arr_time_final\").cast(\"timestamp\").cast(\"long\"))\\\n",
    "                    .withColumn(\"est_tail_turnaround_window_min\", \n",
    "                                F.round(F.col(\"est_tail_turnaround_window_sec\")/60))\n",
    "                    \n",
    "    )\n",
    "\n",
    "    return result_df\n",
    "\n",
    "result = add_prior_cloumns(data1)\n",
    "\n",
    "\n",
    "end_time = time.time()\n",
    "execution_time = end_time - start_time\n",
    "print(f\"Execution Time: {execution_time} seconds\")\n",
    "\n"
   ]
  },
  {
   "cell_type": "code",
   "execution_count": 0,
   "metadata": {
    "application/vnd.databricks.v1+cell": {
     "cellMetadata": {
      "byteLimit": 2048000,
      "rowLimit": 10000
     },
     "inputWidgets": {},
     "nuid": "ebfd9a6f-55fa-4d09-8b8b-dd0b5be78a6c",
     "showTitle": false,
     "tableResultSettingsMap": {},
     "title": ""
    }
   },
   "outputs": [],
   "source": [
    "display(result.where(result.TAIL_NUM==\"250NV\").orderBy(result.FL_DATE))"
   ]
  },
  {
   "cell_type": "code",
   "execution_count": 0,
   "metadata": {
    "application/vnd.databricks.v1+cell": {
     "cellMetadata": {
      "byteLimit": 2048000,
      "rowLimit": 10000
     },
     "inputWidgets": {},
     "nuid": "7991dd8f-e9f1-49b3-a343-3ad3e76425c2",
     "showTitle": false,
     "tableResultSettingsMap": {},
     "title": ""
    }
   },
   "outputs": [],
   "source": [
    "display(result.where(result.TAIL_NUM==\"N984TW\").orderBy(result.FL_DATE))"
   ]
  },
  {
   "cell_type": "markdown",
   "metadata": {
    "application/vnd.databricks.v1+cell": {
     "cellMetadata": {},
     "inputWidgets": {},
     "nuid": "757a1bcd-8777-44cf-90ef-367cd5231191",
     "showTitle": false,
     "tableResultSettingsMap": {},
     "title": ""
    }
   },
   "source": [
    "### Checkpoint results"
   ]
  },
  {
   "cell_type": "code",
   "execution_count": 0,
   "metadata": {
    "application/vnd.databricks.v1+cell": {
     "cellMetadata": {
      "byteLimit": 2048000,
      "rowLimit": 10000
     },
     "inputWidgets": {},
     "nuid": "355b1013-8d22-4c66-8a70-f743ba9798bd",
     "showTitle": false,
     "tableResultSettingsMap": {},
     "title": ""
    }
   },
   "outputs": [],
   "source": [
    "result.count()"
   ]
  },
  {
   "cell_type": "code",
   "execution_count": 0,
   "metadata": {
    "application/vnd.databricks.v1+cell": {
     "cellMetadata": {
      "byteLimit": 2048000,
      "rowLimit": 10000
     },
     "inputWidgets": {},
     "nuid": "6b91d57c-5ece-428b-8687-4d1e021aeb57",
     "showTitle": false,
     "tableResultSettingsMap": {},
     "title": ""
    }
   },
   "outputs": [],
   "source": [
    "output_path = \"dbfs:/student-groups/Group_4_1/interim/join_checkpoints/joined_1y_weather_cleaned_combo_pfd.parquet\"\n",
    "(\n",
    "    result.write\n",
    "    .mode(\"overwrite\")\n",
    "    .parquet(output_path)\n",
    ")"
   ]
  },
  {
   "cell_type": "code",
   "execution_count": 0,
   "metadata": {
    "application/vnd.databricks.v1+cell": {
     "cellMetadata": {
      "byteLimit": 2048000,
      "rowLimit": 10000
     },
     "inputWidgets": {},
     "nuid": "0bac139d-a539-4d41-9722-4d8de931fcf9",
     "showTitle": false,
     "tableResultSettingsMap": {},
     "title": ""
    }
   },
   "outputs": [],
   "source": [
    "test = spark.read.parquet(f\"dbfs:/student-groups/Group_4_1/interim/join_checkpoints/joined_1y_weather_cleaned_combo_pfd.parquet\")"
   ]
  },
  {
   "cell_type": "code",
   "execution_count": 0,
   "metadata": {
    "application/vnd.databricks.v1+cell": {
     "cellMetadata": {
      "byteLimit": 2048000,
      "rowLimit": 10000
     },
     "inputWidgets": {},
     "nuid": "1aaa53d5-b980-4c8f-9dcd-66ac968e5e1a",
     "showTitle": false,
     "tableResultSettingsMap": {},
     "title": ""
    }
   },
   "outputs": [],
   "source": [
    "test.count()"
   ]
  }
 ],
 "metadata": {
  "application/vnd.databricks.v1+notebook": {
   "computePreferences": null,
   "dashboards": [],
   "environmentMetadata": {
    "base_environment": "",
    "environment_version": "2"
   },
   "inputWidgetPreferences": null,
   "language": "python",
   "notebookMetadata": {
    "pythonIndentUnit": 4
   },
   "notebookName": "1.10-dy-joined-prior-feat-eng",
   "widgets": {}
  },
  "language_info": {
   "name": "python"
  }
 },
 "nbformat": 4,
 "nbformat_minor": 0
}
