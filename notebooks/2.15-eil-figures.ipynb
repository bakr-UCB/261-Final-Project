{
 "cells": [
  {
   "cell_type": "markdown",
   "metadata": {
    "application/vnd.databricks.v1+cell": {
     "cellMetadata": {},
     "inputWidgets": {},
     "nuid": "e24da7ac-e621-478c-8dd6-209e6a99fb81",
     "showTitle": false,
     "tableResultSettingsMap": {},
     "title": ""
    }
   },
   "source": [
    "## Setup and load data"
   ]
  },
  {
   "cell_type": "code",
   "execution_count": 0,
   "metadata": {
    "application/vnd.databricks.v1+cell": {
     "cellMetadata": {
      "byteLimit": 2048000,
      "rowLimit": 10000
     },
     "inputWidgets": {},
     "nuid": "f5611650-e33e-4d1a-bca2-22c216d6d116",
     "showTitle": false,
     "tableResultSettingsMap": {},
     "title": ""
    }
   },
   "outputs": [],
   "source": [
    "# imports\n",
    "import pandas as pd\n",
    "import numpy as np\n",
    "import pytz\n",
    "from datetime import datetime, timedelta, time\n",
    "from prophet import Prophet\n",
    "from prophet.make_holidays import make_holidays_df\n",
    "import matplotlib.pyplot as plt\n",
    "import plotly.express as px\n",
    "import plotly.graph_objects as go\n",
    "from pyspark.sql.functions import to_timestamp\n",
    "from prophet.plot import plot_forecast_component\n",
    "from pyspark.sql.types import StructType, StructField, StringType, IntegerType, StructType, DoubleType, LongType\n",
    "from pyspark.ml.feature import VectorAssembler, StandardScaler, StringIndexer, OneHotEncoder, MinMaxScaler\n",
    "from pyspark.ml.classification import LogisticRegression, RandomForestClassifier, MultilayerPerceptronClassifier\n",
    "from pyspark.mllib.evaluation import MulticlassMetrics,BinaryClassificationMetrics\n",
    "from pyspark.ml.evaluation import RegressionEvaluator\n",
    "from pyspark.sql import functions as f\n",
    "from pyspark.sql.window import Window\n",
    "from pyspark.sql.functions import col, when, to_timestamp, lit, udf\n",
    "from pyspark.ml import Pipeline\n",
    "import seaborn as sns\n",
    "import matplotlib.pyplot as plt\n",
    "from pyspark.sql.functions import col, to_timestamp, to_date, when\n",
    "from prophet.make_holidays import make_holidays_df\n",
    "from xgboost.spark import SparkXGBClassifier"
   ]
  },
  {
   "cell_type": "code",
   "execution_count": 0,
   "metadata": {
    "application/vnd.databricks.v1+cell": {
     "cellMetadata": {
      "byteLimit": 2048000,
      "rowLimit": 10000
     },
     "inputWidgets": {},
     "nuid": "635cbd9a-8613-4e46-8c05-932149510072",
     "showTitle": false,
     "tableResultSettingsMap": {},
     "title": ""
    }
   },
   "outputs": [],
   "source": [
    "# Variables and directories\n",
    "data_BASE_DIR = \"dbfs:/mnt/mids-w261/datasets_final_project_2022\"\n",
    "team_BASE_DIR = f\"dbfs:/student-groups/Group_4_1\"\n",
    "spark.sparkContext.setCheckpointDir(f\"{team_BASE_DIR}/checkpoints\")\n",
    "period = \"\" # one of the following values (\"\", \"_3m\", \"_6m\", \"_1y\")\n",
    "\n",
    "# Datasets\n",
    "flights = spark.read.parquet(f\"{data_BASE_DIR}/parquet_airlines_data{period}\")\n",
    "weather = spark.read.parquet(f\"{team_BASE_DIR}/interim/weather_{period}_checkpoint\")"
   ]
  },
  {
   "cell_type": "markdown",
   "metadata": {
    "application/vnd.databricks.v1+cell": {
     "cellMetadata": {},
     "inputWidgets": {},
     "nuid": "a43e5f5a-badf-4c7e-b741-d1817be88aab",
     "showTitle": false,
     "tableResultSettingsMap": {},
     "title": ""
    }
   },
   "source": [
    "## Get dataset sizes"
   ]
  },
  {
   "cell_type": "code",
   "execution_count": 0,
   "metadata": {
    "application/vnd.databricks.v1+cell": {
     "cellMetadata": {
      "byteLimit": 2048000,
      "rowLimit": 10000
     },
     "inputWidgets": {},
     "nuid": "a8cdca1c-f313-4685-8c2e-f370d34444e4",
     "showTitle": false,
     "tableResultSettingsMap": {},
     "title": ""
    }
   },
   "outputs": [],
   "source": [
    "# Get the number of rows\n",
    "num_rows = flights.count()\n",
    "\n",
    "# Get the number of columns\n",
    "num_columns = len(flights.columns)\n",
    "\n",
    "# Display the size of the DataFrame\n",
    "print(f\"The flights DataFrame has {num_rows} rows and {num_columns} columns.\")"
   ]
  },
  {
   "cell_type": "code",
   "execution_count": 0,
   "metadata": {
    "application/vnd.databricks.v1+cell": {
     "cellMetadata": {
      "byteLimit": 2048000,
      "rowLimit": 10000
     },
     "inputWidgets": {},
     "nuid": "d4021f47-9443-4be8-be8d-b21c2622b109",
     "showTitle": false,
     "tableResultSettingsMap": {},
     "title": ""
    }
   },
   "outputs": [],
   "source": [
    "# Get the number of rows\n",
    "num_rows = flights.filter(flights.YEAR < 2020).count()\n",
    "\n",
    "# Get the number of columns\n",
    "num_columns = len(flights.columns)\n",
    "\n",
    "# Display the size of the DataFrame\n",
    "print(f\"The 5 year flights DataFrame has {num_rows} rows and {num_columns} columns.\")"
   ]
  },
  {
   "cell_type": "code",
   "execution_count": 0,
   "metadata": {
    "application/vnd.databricks.v1+cell": {
     "cellMetadata": {
      "byteLimit": 2048000,
      "rowLimit": 10000
     },
     "inputWidgets": {},
     "nuid": "a92881b9-bae5-47ee-94dd-edad6463933d",
     "showTitle": false,
     "tableResultSettingsMap": {},
     "title": ""
    }
   },
   "outputs": [],
   "source": [
    "# Get the number of rows\n",
    "num_rows = weather.count()\n",
    "\n",
    "# Get the number of columns\n",
    "num_columns = len(weather.columns)\n",
    "\n",
    "# Display the size of the DataFrame\n",
    "print(f\"The weather DataFrame has {num_rows} rows and {num_columns} columns.\")"
   ]
  },
  {
   "cell_type": "code",
   "execution_count": 0,
   "metadata": {
    "application/vnd.databricks.v1+cell": {
     "cellMetadata": {
      "byteLimit": 2048000,
      "rowLimit": 10000
     },
     "inputWidgets": {},
     "nuid": "25ec77b4-f1b5-46a3-96e1-0ab349433c54",
     "showTitle": false,
     "tableResultSettingsMap": {},
     "title": ""
    }
   },
   "outputs": [],
   "source": [
    "# Get the number of rows\n",
    "num_rows = weather.filter(weather.YEAR < 2020).count()\n",
    "\n",
    "# Get the number of columns\n",
    "num_columns = len(weather.columns)\n",
    "\n",
    "# Display the size of the DataFrame\n",
    "print(f\"The 5 year weather DataFrame has {num_rows} rows and {num_columns} columns.\")"
   ]
  },
  {
   "cell_type": "code",
   "execution_count": 0,
   "metadata": {
    "application/vnd.databricks.v1+cell": {
     "cellMetadata": {
      "byteLimit": 2048000,
      "rowLimit": 10000
     },
     "inputWidgets": {},
     "nuid": "017be711-4f43-49b5-8c91-1cbbb4b4c806",
     "showTitle": false,
     "tableResultSettingsMap": {},
     "title": ""
    }
   },
   "outputs": [],
   "source": [
    "flights = flights.dropDuplicates()"
   ]
  },
  {
   "cell_type": "code",
   "execution_count": 0,
   "metadata": {
    "application/vnd.databricks.v1+cell": {
     "cellMetadata": {
      "byteLimit": 2048000,
      "rowLimit": 10000
     },
     "inputWidgets": {},
     "nuid": "8331d270-cbe1-4bd8-b028-e77e7967b533",
     "showTitle": false,
     "tableResultSettingsMap": {},
     "title": ""
    }
   },
   "outputs": [],
   "source": [
    "keep_me = [\n",
    "    'CARRIER_DELAY',\n",
    "    'WEATHER_DELAY',\n",
    "    'NAS_DELAY',\n",
    "    'SECURITY_DELAY',\n",
    "    'LATE_AIRCRAFT_DELAY',\n",
    "    'DEP_DELAY',\n",
    "    'CANCELLED',\n",
    "    'YEAR'\n",
    "]\n",
    "\n",
    "outcome_info = flights.select(keep_me).toPandas()\n",
    "\n",
    "outcome_info['is_delayed'] = (outcome_info['DEP_DELAY'] >= 15)\n",
    "outcome_info['is_cancelled'] = (outcome_info['CANCELLED'] > 0)\n",
    "outcome_info['outcome'] = outcome_info['is_delayed'] | outcome_info['is_cancelled']"
   ]
  },
  {
   "cell_type": "code",
   "execution_count": 0,
   "metadata": {
    "application/vnd.databricks.v1+cell": {
     "cellMetadata": {
      "byteLimit": 2048000,
      "rowLimit": 10000
     },
     "inputWidgets": {},
     "nuid": "7209bb10-0ba0-4470-8d61-1a14c48449b8",
     "showTitle": false,
     "tableResultSettingsMap": {},
     "title": ""
    }
   },
   "outputs": [],
   "source": [
    "data = [np.mean(outcome_info['outcome']), np.mean(np.logical_not(outcome_info['outcome']))]\n",
    "\n",
    "fig,ax = plt.subplots(1,1,figsize=(10,2))\n",
    "ax.barh([''],data[0], color='black',height=0.25,edgecolor='black',label='Delayed')\n",
    "ax.barh([''],data[1], color='gray',height=0.25,edgecolor='black',left=data[0],label='Not Delayed')\n",
    "ax.set_xlabel('Proportion')\n",
    "ax.set_title('Proportion of delayed flights')\n",
    "ax.set_xlim((0,1))\n",
    "ax.legend(loc='upper center',bbox_to_anchor=(0.5,-0.3),ncol=2)\n",
    "plt.show()\n",
    "\n",
    "reason_cols = [c for c in outcome_info.columns if \"_DELAY\" in c and c not in [\"DIV_ARR_DELAY\",\"DEP_DELAY\"]]\n",
    "# delayed = outcome_info[outcome_info['DEP_DELAY'] > 0][reason_cols].fillna(0)\n",
    "delayed = outcome_info[outcome_info['outcome']][reason_cols].fillna(0)\n",
    "for v in delayed.columns:\n",
    "    data = [np.mean(delayed[v] > 0), np.mean(delayed[v] <= 0)]\n",
    "\n",
    "    fig,ax = plt.subplots(1,1,figsize=(10,2))\n",
    "    ax.barh([''],data[0], color='black',height=0.25,edgecolor='black',label='Delayed')\n",
    "    ax.barh([''],data[1], color='gray',height=0.25,edgecolor='black',left=data[0],label='Not Delayed')\n",
    "    ax.set_xlabel('Proportion')\n",
    "    reason = ' '.join(v.split('_')[0:]).lower()\n",
    "    ax.set_title(f'Proportion of delayed flights delayed by {reason}')\n",
    "    ax.set_xlim((0,1))\n",
    "    ax.legend(loc='upper center',bbox_to_anchor=(0.5,-0.3),ncol=2)\n",
    "    plt.show()\n",
    "\n",
    "# average delay amount attributed to each reason\n",
    "data = np.sum(delayed, axis=0)\n",
    "data = data.sort_values(ascending=False) / np.sum(data)\n",
    "data"
   ]
  },
  {
   "cell_type": "code",
   "execution_count": 0,
   "metadata": {
    "application/vnd.databricks.v1+cell": {
     "cellMetadata": {
      "byteLimit": 2048000,
      "rowLimit": 10000
     },
     "inputWidgets": {},
     "nuid": "e69df253-824c-41a5-bdfd-2ad760a63645",
     "showTitle": false,
     "tableResultSettingsMap": {},
     "title": ""
    }
   },
   "outputs": [],
   "source": [
    "fig,ax = plt.subplots(1,1,figsize=(10,2))\n",
    "for idx,v in enumerate(data.index):\n",
    "    if idx == 0:\n",
    "        ax.barh([''],data[v],edgecolor='black',label=v.replace(\"_\",\" \"))\n",
    "    else:\n",
    "        print(data[delayed.columns[idx-1]])\n",
    "        ax.barh([''],data[v],edgecolor='black',label=v.replace(\"_\",\" \"),left=np.sum(data[data.index[:idx]]))\n",
    "ax.set_xlabel('Proportion')\n",
    "ax.set_title(f'Proportion of total delay minutes by DoT delay categories')\n",
    "ax.set_xlim((0,1))\n",
    "ax.legend(loc='upper center',bbox_to_anchor=(0.5,-0.3),ncol=len(data))\n",
    "plt.show()"
   ]
  },
  {
   "cell_type": "markdown",
   "metadata": {
    "application/vnd.databricks.v1+cell": {
     "cellMetadata": {},
     "inputWidgets": {},
     "nuid": "72b62abc-3b23-4619-a08d-bd0772d3afb1",
     "showTitle": false,
     "tableResultSettingsMap": {},
     "title": ""
    }
   },
   "source": [
    "## Working with joined data"
   ]
  },
  {
   "cell_type": "code",
   "execution_count": 0,
   "metadata": {
    "application/vnd.databricks.v1+cell": {
     "cellMetadata": {
      "byteLimit": 2048000,
      "rowLimit": 10000
     },
     "inputWidgets": {},
     "nuid": "603cb66a-9d5d-45b2-b37d-cf9775d4e067",
     "showTitle": false,
     "tableResultSettingsMap": {},
     "title": ""
    }
   },
   "outputs": [],
   "source": [
    "df = spark.read.parquet(f\"{team_BASE_DIR}/interim/join_checkpoints/joined_flights_weather{period}_v1.parquet\")"
   ]
  },
  {
   "cell_type": "code",
   "execution_count": 0,
   "metadata": {
    "application/vnd.databricks.v1+cell": {
     "cellMetadata": {
      "byteLimit": 2048000,
      "rowLimit": 10000
     },
     "inputWidgets": {},
     "nuid": "c64f1ba0-9a86-4234-8c03-0182f7d9084a",
     "showTitle": false,
     "tableResultSettingsMap": {},
     "title": ""
    }
   },
   "outputs": [],
   "source": [
    "# Get the number of rows\n",
    "num_rows = df.count()\n",
    "\n",
    "# Get the number of columns\n",
    "num_columns = len(df.columns)\n",
    "\n",
    "# Display the size of the DataFrame\n",
    "print(f\"The joined DataFrame has {num_rows} rows and {num_columns} columns.\")"
   ]
  },
  {
   "cell_type": "code",
   "execution_count": 0,
   "metadata": {
    "application/vnd.databricks.v1+cell": {
     "cellMetadata": {
      "byteLimit": 2048000,
      "rowLimit": 10000
     },
     "inputWidgets": {},
     "nuid": "59546a27-569e-4a0c-b1f0-34765884ab7a",
     "showTitle": false,
     "tableResultSettingsMap": {},
     "title": ""
    }
   },
   "outputs": [],
   "source": [
    "# Get the number of rows\n",
    "num_rows = df.filter(df.YEAR < 2020).count()\n",
    "\n",
    "# Get the number of columns\n",
    "num_columns = len(df.columns)\n",
    "\n",
    "# Display the size of the DataFrame\n",
    "print(f\"The 5 year joined DataFrame has {num_rows} rows and {num_columns} columns.\")"
   ]
  },
  {
   "cell_type": "code",
   "execution_count": 0,
   "metadata": {
    "application/vnd.databricks.v1+cell": {
     "cellMetadata": {
      "byteLimit": 2048000,
      "rowLimit": 10000
     },
     "inputWidgets": {},
     "nuid": "6aa8cfe8-bbea-4181-8422-e033368f2808",
     "showTitle": false,
     "tableResultSettingsMap": {},
     "title": ""
    }
   },
   "outputs": [],
   "source": [
    "df = df.withColumn(\"dep_date_utc\", to_date(col(\"sched_depart_utc\"))) \\\n",
    "  .withColumn(\"outcome\", (when((col(\"DEP_DELAY\") >= 15) | (col(\"CANCELLED\") == 1), 1).otherwise(0)).cast(\"double\"))"
   ]
  },
  {
   "cell_type": "code",
   "execution_count": 0,
   "metadata": {
    "application/vnd.databricks.v1+cell": {
     "cellMetadata": {
      "byteLimit": 2048000,
      "rowLimit": 10000
     },
     "inputWidgets": {},
     "nuid": "6e7dbdfc-c203-4575-a30d-ac62d32f8d66",
     "showTitle": false,
     "tableResultSettingsMap": {},
     "title": ""
    }
   },
   "outputs": [],
   "source": [
    "from pyspark.sql.functions import col, avg, count, to_date, when\n",
    "\n",
    "# Group by dep_date_utc and calculate the average of DEP_DELAY and outcome\n",
    "avg_delays_df = df.groupBy(\"dep_date_utc\").agg(\n",
    "    avg(col(\"DEP_DELAY\")).alias(\"avg_dep_delay\"),\n",
    "    avg(col(\"outcome\")).alias(\"avg_outcome\"),\n",
    "    count(\"*\").alias(\"count\")\n",
    ")\n",
    "\n",
    "# Convert to Pandas DataFrame\n",
    "avg_delays_pd = avg_delays_df.toPandas()"
   ]
  },
  {
   "cell_type": "code",
   "execution_count": 0,
   "metadata": {
    "application/vnd.databricks.v1+cell": {
     "cellMetadata": {
      "byteLimit": 2048000,
      "rowLimit": 10000
     },
     "inputWidgets": {},
     "nuid": "f79227ae-6875-45c2-a3c8-f9acd9e97776",
     "showTitle": false,
     "tableResultSettingsMap": {},
     "title": ""
    }
   },
   "outputs": [],
   "source": [
    "# Sort avg_delays_pd by avg_dep_delay\n",
    "avg_delays_pd_sorted = avg_delays_pd.sort_values(by='dep_date_utc')"
   ]
  },
  {
   "cell_type": "code",
   "execution_count": 0,
   "metadata": {
    "application/vnd.databricks.v1+cell": {
     "cellMetadata": {
      "byteLimit": 2048000,
      "rowLimit": 10000
     },
     "inputWidgets": {},
     "nuid": "1f6a6fdd-eb00-4da8-bccd-11c4905efacb",
     "showTitle": false,
     "tableResultSettingsMap": {},
     "title": ""
    }
   },
   "outputs": [],
   "source": [
    "import matplotlib.pyplot as plt\n",
    "\n",
    "# Plot avg_dep_delay vs dep_date_utc\n",
    "plt.figure(figsize=(10, 6))\n",
    "plt.plot(avg_delays_pd_sorted['dep_date_utc'], avg_delays_pd_sorted['avg_dep_delay'], linestyle='-')\n",
    "plt.xlabel('Departure Date (UTC)')\n",
    "plt.ylabel('Average Departure Delay')\n",
    "plt.title('Average Departure Delay vs Departure Date (UTC)')\n",
    "plt.grid(True)\n",
    "plt.xticks(rotation=45)\n",
    "plt.tight_layout()\n",
    "plt.show()"
   ]
  },
  {
   "cell_type": "code",
   "execution_count": 0,
   "metadata": {
    "application/vnd.databricks.v1+cell": {
     "cellMetadata": {
      "byteLimit": 2048000,
      "rowLimit": 10000
     },
     "inputWidgets": {},
     "nuid": "83629989-f075-46d6-856e-26a2907ba41f",
     "showTitle": false,
     "tableResultSettingsMap": {},
     "title": ""
    }
   },
   "outputs": [],
   "source": [
    "import matplotlib.pyplot as plt\n",
    "\n",
    "# Plot avg_dep_delay vs dep_date_utc\n",
    "plt.figure(figsize=(10, 6))\n",
    "plt.plot(avg_delays_pd_sorted['dep_date_utc'], avg_delays_pd_sorted['avg_outcome'], linestyle='-')\n",
    "plt.xlabel('Departure Date (UTC)')\n",
    "plt.ylabel('Average Proportion of Flights Delayed or Cancelled')\n",
    "plt.title('Proportion of Flights Disrupted vs Departure Date (UTC)')\n",
    "plt.grid(True)\n",
    "plt.xticks(rotation=45)\n",
    "plt.tight_layout()\n",
    "plt.show()"
   ]
  },
  {
   "cell_type": "code",
   "execution_count": 0,
   "metadata": {
    "application/vnd.databricks.v1+cell": {
     "cellMetadata": {
      "byteLimit": 2048000,
      "rowLimit": 10000
     },
     "inputWidgets": {},
     "nuid": "2b93a808-372e-459e-8f74-24c2fe4606ff",
     "showTitle": false,
     "tableResultSettingsMap": {},
     "title": ""
    }
   },
   "outputs": [],
   "source": [
    "import matplotlib.pyplot as plt\n",
    "\n",
    "# Plot avg_dep_delay vs dep_date_utc\n",
    "plt.figure(figsize=(10, 6))\n",
    "plt.plot(avg_delays_pd_sorted['dep_date_utc'], avg_delays_pd_sorted['count'], linestyle='-')\n",
    "plt.xlabel('Departure Date (UTC)')\n",
    "plt.ylabel('Number of Flights')\n",
    "plt.title('Daily Flight Count vs Departure Date (UTC)')\n",
    "plt.grid(True)\n",
    "plt.xticks(rotation=45)\n",
    "plt.tight_layout()\n",
    "plt.show()"
   ]
  },
  {
   "cell_type": "code",
   "execution_count": 0,
   "metadata": {
    "application/vnd.databricks.v1+cell": {
     "cellMetadata": {
      "byteLimit": 2048000,
      "rowLimit": 10000
     },
     "inputWidgets": {},
     "nuid": "02c236de-a371-4f54-9e61-5d0f07f90731",
     "showTitle": false,
     "tableResultSettingsMap": {},
     "title": ""
    }
   },
   "outputs": [],
   "source": [
    "lw = 0.8\n",
    "font_size = 12\n",
    "\n",
    "fig, ax = plt.subplots(3, 1, figsize=(10, 6))\n",
    "\n",
    "ax[0].plot(avg_delays_pd_sorted['dep_date_utc'], avg_delays_pd_sorted['count'], linestyle='-', linewidth=lw)\n",
    "ax[0].set_xlabel('Departure Date (UTC)', fontsize=font_size)\n",
    "ax[0].set_ylabel('# Flights', fontsize=font_size)\n",
    "ax[0].set_title('Quantifying Flight Disruption')\n",
    "ax[0].grid(True)\n",
    "ax[0].set_xlabel('')\n",
    "ax[0].set_xticklabels([])\n",
    "ax[0].tick_params(axis='both', which='major', labelsize=font_size)\n",
    "\n",
    "ax[1].plot(avg_delays_pd_sorted['dep_date_utc'], avg_delays_pd_sorted['avg_outcome'], linestyle='-', linewidth=lw)\n",
    "ax[1].set_ylabel('Daily Average\\nProportion of\\nFlights Disrupted', fontsize=font_size)\n",
    "ax[1].grid(True)\n",
    "ax[1].set_xlabel('')\n",
    "ax[1].set_xticklabels([])\n",
    "ax[1].tick_params(axis='both', which='major', labelsize=font_size)\n",
    "\n",
    "ax[2].plot(avg_delays_pd_sorted['dep_date_utc'], avg_delays_pd_sorted['avg_dep_delay'], linestyle='-', linewidth=lw)\n",
    "ax[2].set_ylabel('Daily Average\\nFlight Delay\\n(minutes)', fontsize=font_size)\n",
    "ax[2].grid(True)\n",
    "ax[2].set_xlabel('Departure Date (UTC)', fontsize=font_size)\n",
    "ax[2].tick_params(axis='both', which='major', labelsize=font_size)\n",
    "\n",
    "plt.xticks(rotation=45, fontsize=font_size)\n",
    "plt.tight_layout()\n",
    "plt.show()"
   ]
  },
  {
   "cell_type": "code",
   "execution_count": 0,
   "metadata": {
    "application/vnd.databricks.v1+cell": {
     "cellMetadata": {
      "byteLimit": 2048000,
      "rowLimit": 10000
     },
     "inputWidgets": {},
     "nuid": "45390e63-bb35-4fa1-9888-d6cc4b07527c",
     "showTitle": false,
     "tableResultSettingsMap": {},
     "title": ""
    }
   },
   "outputs": [],
   "source": [
    "from pyspark.sql.functions import col\n",
    "\n",
    "# Filter the DataFrame for rows where YEAR is less than 2020\n",
    "filtered_df = df.filter(col(\"YEAR\") < 2020)\n",
    "\n",
    "# Group by outcome and count the values\n",
    "outcome_counts = filtered_df.groupBy(\"outcome\").count()\n",
    "\n",
    "# Display the result\n",
    "display(outcome_counts)"
   ]
  },
  {
   "cell_type": "markdown",
   "metadata": {
    "application/vnd.databricks.v1+cell": {
     "cellMetadata": {},
     "inputWidgets": {},
     "nuid": "1c0f1834-cf82-4ae6-9473-49937caa3edc",
     "showTitle": false,
     "tableResultSettingsMap": {},
     "title": ""
    }
   },
   "source": [
    "## Seasonality Figures"
   ]
  },
  {
   "cell_type": "code",
   "execution_count": 0,
   "metadata": {
    "application/vnd.databricks.v1+cell": {
     "cellMetadata": {
      "byteLimit": 2048000,
      "rowLimit": 10000
     },
     "inputWidgets": {},
     "nuid": "2a596a60-d110-483b-bd42-69d84fc4afa0",
     "showTitle": false,
     "tableResultSettingsMap": {},
     "title": ""
    }
   },
   "outputs": [],
   "source": [
    "fn_wd = f\"wd_seasonality_model_{period}_train.parquet\"\n",
    "fn_yh = f\"yh_seasonality_model_{period}_train.parquet\"\n",
    "\n",
    "model_wd = spark.read.parquet(f\"{team_BASE_DIR}/interim/{fn_wd}\")\n",
    "model_yh = spark.read.parquet(f\"{team_BASE_DIR}/interim/{fn_yh}\")"
   ]
  },
  {
   "cell_type": "code",
   "execution_count": 0,
   "metadata": {
    "application/vnd.databricks.v1+cell": {
     "cellMetadata": {
      "byteLimit": 2048000,
      "rowLimit": 10000
     },
     "inputWidgets": {},
     "nuid": "c1500a2f-fb8d-4dca-8100-cfd9c7058f9b",
     "showTitle": false,
     "tableResultSettingsMap": {},
     "title": ""
    }
   },
   "outputs": [],
   "source": [
    "airport = 'BOS'\n",
    "seas1 = model_wd.filter(col('ORIGIN') == airport).toPandas()\n",
    "seas2 = model_yh.filter(col('ORIGIN') == airport).toPandas()"
   ]
  },
  {
   "cell_type": "code",
   "execution_count": 0,
   "metadata": {
    "application/vnd.databricks.v1+cell": {
     "cellMetadata": {
      "byteLimit": 2048000,
      "rowLimit": 10000
     },
     "inputWidgets": {},
     "nuid": "b6c7c33e-111e-4b6c-8b76-f22734fd3e04",
     "showTitle": false,
     "tableResultSettingsMap": {},
     "title": ""
    }
   },
   "outputs": [],
   "source": [
    "fig, ax = plt.subplots(4, 1, figsize=(8, 6), gridspec_kw={'hspace': 0.6})\n",
    "font_size = 10\n",
    "\n",
    "seas1['x'] = seas1['dow'] + seas1['hour'] / 24\n",
    "seas1.sort_values('x', inplace=True)\n",
    "seas1.plot(x='x', y='daily', ax=ax[0], legend=False)\n",
    "seas1.plot(x='x', y='weekly', ax=ax[1], legend=False)\n",
    "\n",
    "seas2.sort_values(['month', 'dom'], inplace=True)\n",
    "seas2['x'] = range(1, seas2.shape[0] + 1)\n",
    "seas2.sort_values('x', inplace=True)\n",
    "seas2.plot(x='x', y='yearly', ax=ax[2], legend=False)\n",
    "seas2.plot(x='x', y='holidays', ax=ax[3], legend=False)\n",
    "\n",
    "ax[0].set_title(f'{airport} Seasonality Components (minutes)\\nTrained on 2015-2018 Data')\n",
    "ax[0].set_xlabel('Day of week', fontsize=font_size)\n",
    "ax[1].set_xlabel('Day of week', fontsize=font_size)\n",
    "ax[0].set_ylabel('Daily', fontsize=font_size)\n",
    "ax[1].set_ylabel('Weekly', fontsize=font_size)\n",
    "ax[2].set_xlabel('Day of year', fontsize=font_size)\n",
    "ax[3].set_xlabel('Day of year', fontsize=font_size)\n",
    "ax[2].set_ylabel('Yearly', fontsize=font_size)\n",
    "ax[3].set_ylabel('Holiday', fontsize=font_size)\n",
    "\n",
    "for axis in ax:\n",
    "    axis.tick_params(axis='both', which='major', labelsize=font_size)\n",
    "\n",
    "plt.show()"
   ]
  },
  {
   "cell_type": "code",
   "execution_count": 0,
   "metadata": {
    "application/vnd.databricks.v1+cell": {
     "cellMetadata": {},
     "inputWidgets": {},
     "nuid": "4a72687a-6aff-484b-a4d7-a1833a8c1d18",
     "showTitle": false,
     "tableResultSettingsMap": {},
     "title": ""
    }
   },
   "outputs": [],
   "source": []
  }
 ],
 "metadata": {
  "application/vnd.databricks.v1+notebook": {
   "computePreferences": null,
   "dashboards": [],
   "environmentMetadata": {
    "base_environment": "",
    "environment_version": "2"
   },
   "inputWidgetPreferences": null,
   "language": "python",
   "notebookMetadata": {
    "pythonIndentUnit": 4
   },
   "notebookName": "2.15-eil-figures",
   "widgets": {}
  },
  "language_info": {
   "name": "python"
  }
 },
 "nbformat": 4,
 "nbformat_minor": 0
}
