{
 "cells": [
  {
   "cell_type": "markdown",
   "metadata": {
    "application/vnd.databricks.v1+cell": {
     "cellMetadata": {
      "byteLimit": 2048000,
      "rowLimit": 10000
     },
     "inputWidgets": {},
     "nuid": "e3262be0-848e-4a3e-b8ec-7978de4c3b5b",
     "showTitle": false,
     "tableResultSettingsMap": {},
     "title": ""
    }
   },
   "source": [
    "## Sandbox Decision Tree pipeline\n",
    "Danielle Yoseloff"
   ]
  },
  {
   "cell_type": "code",
   "execution_count": 0,
   "metadata": {
    "application/vnd.databricks.v1+cell": {
     "cellMetadata": {
      "byteLimit": 2048000,
      "rowLimit": 10000
     },
     "inputWidgets": {},
     "nuid": "2f87f8de-5c95-4e2f-9858-bf22ea842d4d",
     "showTitle": false,
     "tableResultSettingsMap": {},
     "title": ""
    }
   },
   "outputs": [],
   "source": [
    "# imports\n",
    "# imports\n",
    "import pandas as pd\n",
    "import numpy as np\n",
    "import pytz\n",
    "from datetime import datetime, timedelta, time\n",
    "from prophet import Prophet\n",
    "from prophet.make_holidays import make_holidays_df\n",
    "import matplotlib.pyplot as plt\n",
    "import plotly.express as px\n",
    "import plotly.graph_objects as go\n",
    "from pyspark.sql.functions import to_timestamp\n",
    "from prophet.plot import plot_forecast_component\n",
    "from pyspark.sql.types import StructType, StructField, StringType, IntegerType, StructType, DoubleType, LongType\n",
    "from pyspark.ml.feature import VectorAssembler, StandardScaler, StringIndexer, OneHotEncoder, MinMaxScaler\n",
    "from pyspark.ml.classification import LogisticRegression\n",
    "from pyspark.mllib.evaluation import MulticlassMetrics,BinaryClassificationMetrics\n",
    "from pyspark.ml.evaluation import RegressionEvaluator\n",
    "from pyspark.sql import functions as F\n",
    "from pyspark.sql.window import Window\n",
    "from pyspark.sql.functions import col, when, to_timestamp, lit, udf\n",
    "from pyspark.ml import Pipeline\n",
    "from pyspark.ml.classification import DecisionTreeClassifier\n",
    "from pyspark.ml.evaluation import MulticlassClassificationEvaluator\n",
    "from pyspark.mllib.evaluation import MulticlassMetrics\n",
    "from pyspark.ml.feature import VectorAssembler\n",
    "from sklearn.metrics import confusion_matrix\n",
    "\n",
    "from sklearn.tree import DecisionTreeRegressor\n",
    "\n",
    "from pyspark.ml.classification import RandomForestClassifier, MultilayerPerceptronClassifier"
   ]
  },
  {
   "cell_type": "code",
   "execution_count": 0,
   "metadata": {
    "application/vnd.databricks.v1+cell": {
     "cellMetadata": {
      "byteLimit": 2048000,
      "rowLimit": 10000
     },
     "inputWidgets": {},
     "nuid": "a2cec762-7c15-4d92-9520-6e2675ea87a9",
     "showTitle": false,
     "tableResultSettingsMap": {},
     "title": ""
    }
   },
   "outputs": [],
   "source": [
    "team_BASE_DIR = f\"dbfs:/student-groups/Group_4_1\"\n",
    "\n",
    "period = \"\" # on of the following values (\"\", \"3m\", \"6m\", \"1y\")\n",
    "\n",
    "df = spark.read.parquet(f\"{team_BASE_DIR}/interim/join_checkpoints/joined_{period}_timefeat_seasfeat_cleaned_pr.parquet\")\n",
    "\n",
    "df = df.withColumn(\"outcome\", (when((col(\"DEP_DELAY\") >= 15) | (col(\"CANCELLED\") == 1), 1).otherwise(0)).cast(\"double\"))\n",
    "\n"
   ]
  },
  {
   "cell_type": "code",
   "execution_count": 0,
   "metadata": {
    "application/vnd.databricks.v1+cell": {
     "cellMetadata": {
      "byteLimit": 2048000,
      "rowLimit": 10000
     },
     "inputWidgets": {},
     "nuid": "a9d234a5-75b2-4974-8ee8-1cdcff9450ca",
     "showTitle": false,
     "tableResultSettingsMap": {},
     "title": ""
    }
   },
   "outputs": [],
   "source": [
    "# display(df)\n",
    "print(\"Number of rows:\", df.count(),\"\\nNumber of columns:\", len(df.columns))"
   ]
  },
  {
   "cell_type": "code",
   "execution_count": 0,
   "metadata": {
    "application/vnd.databricks.v1+cell": {
     "cellMetadata": {
      "byteLimit": 2048000,
      "rowLimit": 10000
     },
     "inputWidgets": {},
     "nuid": "9e7ccd9b-db4a-42b4-a9b0-bf9e45b46caf",
     "showTitle": false,
     "tableResultSettingsMap": {},
     "title": ""
    }
   },
   "outputs": [],
   "source": [
    "# define what departure time variable is called\n",
    "dep_utc_varname = \"sched_depart_utc\"\n",
    "\n",
    "df_handled = df.withColumns(\n",
    "    {\n",
    "        \"dep_hour_utc\": \n",
    "            F.hour(col(dep_utc_varname)),\n",
    "        \"outcome\":  \n",
    "            (F.when((col(\"DEP_DELAY\") >= 15) | (col(\"CANCELLED\") == 1), 1).otherwise(0)).cast(\"double\")\n",
    "            }\n",
    ")"
   ]
  },
  {
   "cell_type": "code",
   "execution_count": 0,
   "metadata": {
    "application/vnd.databricks.v1+cell": {
     "cellMetadata": {
      "byteLimit": 2048000,
      "rowLimit": 10000
     },
     "inputWidgets": {},
     "nuid": "1b6b84f0-819d-49bd-a19f-3fe9606a7b2e",
     "showTitle": false,
     "tableResultSettingsMap": {},
     "title": ""
    }
   },
   "outputs": [],
   "source": [
    "# # define train/test split date\n",
    "# min_test_dt = \"2019-10-01\"\n",
    "\n",
    "# df_train = df_handled.filter(F.col(dep_utc_varname) < min_test_dt)\n",
    "# df_train.cache()\n",
    "# df_test = df_handled.filter(F.col(dep_utc_varname) >= min_test_dt)\n",
    "# df_test.cache()"
   ]
  },
  {
   "cell_type": "code",
   "execution_count": 0,
   "metadata": {
    "application/vnd.databricks.v1+cell": {
     "cellMetadata": {
      "byteLimit": 2048000,
      "rowLimit": 10000
     },
     "inputWidgets": {},
     "nuid": "1ba7d60e-7d14-40b5-b51a-4fd73d347225",
     "showTitle": false,
     "tableResultSettingsMap": {},
     "title": ""
    }
   },
   "outputs": [],
   "source": [
    "# display(df)\n",
    "# print(\"DF Number of rows:\", df.count(),\"   Number of columns:\", len(df.columns))\n",
    "# print(\"TRAIN Number of rows:\", df_train.count(),\"   Number of columns:\", len(df_train.columns))\n",
    "# print(\"TEST Number of rows:\", df_test.count(),\"   Number of columns:\", len(df_test.columns))"
   ]
  },
  {
   "cell_type": "markdown",
   "metadata": {
    "application/vnd.databricks.v1+cell": {
     "cellMetadata": {},
     "inputWidgets": {},
     "nuid": "54e44d4b-b9bb-42c7-ac16-961c852fae94",
     "showTitle": false,
     "tableResultSettingsMap": {},
     "title": ""
    }
   },
   "source": [
    "## Breakdown of MLP"
   ]
  },
  {
   "cell_type": "code",
   "execution_count": 0,
   "metadata": {
    "application/vnd.databricks.v1+cell": {
     "cellMetadata": {
      "byteLimit": 2048000,
      "rowLimit": 10000
     },
     "inputWidgets": {},
     "nuid": "4096238f-0399-48e0-8de5-db22159ff2e8",
     "showTitle": false,
     "tableResultSettingsMap": {},
     "title": ""
    }
   },
   "outputs": [],
   "source": [
    "sampledata = df.sample(fraction=(1000/df.count()) ,seed=42)\n",
    "sampledata = sampledata.fillna(0)\n",
    "(train_data, test_data) = sampledata.randomSplit([0.8,0.2], seed=42)"
   ]
  },
  {
   "cell_type": "code",
   "execution_count": 0,
   "metadata": {
    "application/vnd.databricks.v1+cell": {
     "cellMetadata": {
      "byteLimit": 2048000,
      "rowLimit": 10000
     },
     "inputWidgets": {},
     "nuid": "6399c0a4-e82f-4198-8988-68a819bdf6cf",
     "showTitle": false,
     "tableResultSettingsMap": {},
     "title": ""
    }
   },
   "outputs": [],
   "source": [
    "display(sampledata)"
   ]
  },
  {
   "cell_type": "markdown",
   "metadata": {
    "application/vnd.databricks.v1+cell": {
     "cellMetadata": {},
     "inputWidgets": {},
     "nuid": "c96ee5c1-53ab-4323-8255-2b232f1a15df",
     "showTitle": false,
     "tableResultSettingsMap": {},
     "title": ""
    }
   },
   "source": [
    "https://dev.to/ruizleandro/build-a-multilayer-perceptron-with-pyspark-5bkj"
   ]
  },
  {
   "cell_type": "code",
   "execution_count": 0,
   "metadata": {
    "application/vnd.databricks.v1+cell": {
     "cellMetadata": {
      "byteLimit": 2048000,
      "rowLimit": 10000
     },
     "inputWidgets": {},
     "nuid": "b73eb6f0-bfe4-4ffe-b619-e9ef43095468",
     "showTitle": false,
     "tableResultSettingsMap": {},
     "title": ""
    }
   },
   "outputs": [],
   "source": [
    "categorical_cols = [\"OP_UNIQUE_CARRIER\"]\n",
    "numeric_cols = ['turnaround_time_calc', 'priorflight_isdelayed_calc']\n",
    "\n",
    "indexers = [StringIndexer(inputCol=column, outputCol='{0}_index'.format(\n",
    "    column)) for column in categorical_cols]\n",
    "\n",
    "encoders = [OneHotEncoder(inputCol='{0}_index'.format(\n",
    "    column), outputCol='{0}_ohe'.format(\n",
    "    column)) for column in categorical_cols]\n",
    "\n",
    "featuresCreator = VectorAssembler(\n",
    "    inputCols=[encoder.getOutputCol() for encoder in encoders] + numeric_cols,\n",
    "    outputCol='features')\n",
    "layers = [len(featuresCreator.getInputCols()), 4, 2, 2]\n",
    "\n",
    "classifier = MultilayerPerceptronClassifier(labelCol='outcome',\n",
    "                                            featuresCol='features',\n",
    "                                            maxIter=10,\n",
    "                                            layers=layers,\n",
    "                                            blockSize=128,\n",
    "                                            seed=1234)\n",
    "\n",
    "pipeline = Pipeline(stages=indexers + encoders + [featuresCreator])\n",
    "model = pipeline.fit(train_data)\n",
    "model.transform(train_data.limit(1))"
   ]
  },
  {
   "cell_type": "code",
   "execution_count": 0,
   "metadata": {
    "application/vnd.databricks.v1+cell": {
     "cellMetadata": {
      "byteLimit": 2048000,
      "rowLimit": 10000
     },
     "inputWidgets": {},
     "nuid": "571523d3-a18a-42e8-8a0c-36f66cc08fc0",
     "showTitle": false,
     "tableResultSettingsMap": {},
     "title": ""
    }
   },
   "outputs": [],
   "source": [
    "display(model.transform(train_data.limit(1)))"
   ]
  },
  {
   "cell_type": "code",
   "execution_count": 0,
   "metadata": {
    "application/vnd.databricks.v1+cell": {
     "cellMetadata": {
      "byteLimit": 2048000,
      "rowLimit": 10000
     },
     "inputWidgets": {},
     "nuid": "858b3240-48e6-4de7-b829-49a0bfaa86a7",
     "showTitle": false,
     "tableResultSettingsMap": {},
     "title": ""
    }
   },
   "outputs": [],
   "source": [
    "tmp = model.transform(train_data.limit(1)).select('features').toPandas()"
   ]
  },
  {
   "cell_type": "code",
   "execution_count": 0,
   "metadata": {
    "application/vnd.databricks.v1+cell": {
     "cellMetadata": {
      "byteLimit": 2048000,
      "rowLimit": 10000
     },
     "inputWidgets": {},
     "nuid": "77ac9c2e-4b35-463f-bf71-29d5ed284ba3",
     "showTitle": false,
     "tableResultSettingsMap": {},
     "title": ""
    }
   },
   "outputs": [],
   "source": [
    "display(tmp)"
   ]
  },
  {
   "cell_type": "code",
   "execution_count": 0,
   "metadata": {
    "application/vnd.databricks.v1+cell": {
     "cellMetadata": {
      "byteLimit": 2048000,
      "rowLimit": 10000
     },
     "inputWidgets": {},
     "nuid": "2ddb5504-5380-478c-ae1f-d718c65c53ae",
     "showTitle": false,
     "tableResultSettingsMap": {},
     "title": ""
    }
   },
   "outputs": [],
   "source": [
    "L = tmp.iloc[0,0].size"
   ]
  },
  {
   "cell_type": "code",
   "execution_count": 0,
   "metadata": {
    "application/vnd.databricks.v1+cell": {
     "cellMetadata": {
      "byteLimit": 2048000,
      "rowLimit": 10000
     },
     "inputWidgets": {},
     "nuid": "e613a36a-21f8-4f8f-b5d3-64abbbc0e5db",
     "showTitle": false,
     "tableResultSettingsMap": {},
     "title": ""
    }
   },
   "outputs": [],
   "source": [
    "# SOLUTION 1 \n",
    "\n",
    "### set handle_invalid hyperparam to \"keep\"\n",
    "\n",
    "categorical_cols = [\"OP_UNIQUE_CARRIER\"]\n",
    "numeric_cols = ['turnaround_time_calc', 'priorflight_isdelayed_calc']\n",
    "\n",
    "indexers = [StringIndexer(inputCol=column, outputCol='{0}_index'.format(\n",
    "    column)) for column in categorical_cols]\n",
    "\n",
    "encoders = [OneHotEncoder(inputCol='{0}_index'.format(\n",
    "    column), outputCol='{0}_ohe'.format(\n",
    "    column)) for column in categorical_cols]\n",
    "\n",
    "featuresCreator = VectorAssembler(\n",
    "    inputCols=[encoder.getOutputCol() for encoder in encoders] + numeric_cols,\n",
    "    outputCol='features')\n",
    "\n",
    "scaler = MinMaxScaler(inputCol='features',outputCol='features_scaled')\n"
   ]
  },
  {
   "cell_type": "code",
   "execution_count": 0,
   "metadata": {
    "application/vnd.databricks.v1+cell": {
     "cellMetadata": {
      "byteLimit": 2048000,
      "rowLimit": 10000
     },
     "inputWidgets": {},
     "nuid": "8cc1a7ff-a260-414c-95c8-144ef7466501",
     "showTitle": false,
     "tableResultSettingsMap": {},
     "title": ""
    }
   },
   "outputs": [],
   "source": [
    "# SOLUTION 2\n",
    "\n",
    "pipeline0 = Pipeline(stages=indexers + encoders + [featuresCreator, scaler])\n",
    "model0 = pipeline0.fit(train_data)\n",
    "tmp = model0.transform(train_data.limit(1)).select('features').toPandas()\n",
    "L = tmp.iloc[0,0].size"
   ]
  },
  {
   "cell_type": "code",
   "execution_count": 0,
   "metadata": {
    "application/vnd.databricks.v1+cell": {
     "cellMetadata": {
      "byteLimit": 2048000,
      "rowLimit": 10000
     },
     "inputWidgets": {},
     "nuid": "1f89393b-dab7-459b-8cda-9362492a775c",
     "showTitle": false,
     "tableResultSettingsMap": {},
     "title": ""
    }
   },
   "outputs": [],
   "source": [
    "# SOLUTION 3\n",
    "\n",
    "layers = [L, 4, 2, 2]\n",
    "\n",
    "classifier = MultilayerPerceptronClassifier(labelCol='outcome',\n",
    "                                            featuresCol='features_scaled',\n",
    "                                            maxIter=100,\n",
    "                                            layers=layers,\n",
    "                                            blockSize=128,\n",
    "                                            seed=1234)\n",
    "\n",
    "pipeline = Pipeline(stages=indexers + encoders + [featuresCreator, scaler, classifier])\n",
    "model = pipeline.fit(train_data)\n",
    "\n",
    "train_output_df = model.transform(train_data)\n",
    "test_output_df = model.transform(test_data)\n",
    "\n",
    "train_predictionAndLabels = train_output_df.withColumnRenamed('outcome','label').select('prediction', 'label')\n",
    "test_predictionAndLabels = test_output_df.withColumnRenamed('outcome','label').select('prediction', 'label')\n",
    "\n",
    "metrics = ['accuracy']\n",
    "for metric in metrics:\n",
    "    evaluator = MulticlassClassificationEvaluator(metricName=metric)\n",
    "    print('Train ' + metric + ' = ' + str(evaluator.evaluate(\n",
    "        train_predictionAndLabels)))\n",
    "    print('Test ' + metric + ' = ' + str(evaluator.evaluate(\n",
    "        test_predictionAndLabels)))"
   ]
  },
  {
   "cell_type": "markdown",
   "metadata": {
    "application/vnd.databricks.v1+cell": {
     "cellMetadata": {},
     "inputWidgets": {},
     "nuid": "1497f591-0d3a-4ffc-bade-72e51d1e0c25",
     "showTitle": false,
     "tableResultSettingsMap": {},
     "title": ""
    }
   },
   "source": [
    "# SEE ABOVE"
   ]
  },
  {
   "cell_type": "code",
   "execution_count": 0,
   "metadata": {
    "application/vnd.databricks.v1+cell": {
     "cellMetadata": {
      "byteLimit": 2048000,
      "rowLimit": 10000
     },
     "inputWidgets": {},
     "nuid": "5d096e1c-f755-4a51-aa36-37133c19cb48",
     "showTitle": false,
     "tableResultSettingsMap": {},
     "title": ""
    }
   },
   "outputs": [],
   "source": [
    "categorical_cols = [\"OP_UNIQUE_CARRIER\"]\n",
    "numeric_cols = ['turnaround_time_calc', 'priorflight_isdelayed_calc']\n",
    "\n",
    "## pipeline stages\n",
    "stages = []\n",
    "\n",
    "for column in categorical_cols:\n",
    "    indexer = StringIndexer(inputCol=column, outputCol=column + \"_index\",handleInvalid=\"keep\")\n",
    "    encoder = OneHotEncoder(inputCol=column + \"_index\", outputCol=column + \"_vec\",handleInvalid=\"keep\")\n",
    "    stages += [indexer, encoder]\n",
    "# define encoded categorical feature names\n",
    "categorical_vec_columns = [col + \"_vec\" for col in categorical_cols]\n",
    "\n",
    "# assemble features\n",
    "features = numeric_cols + categorical_vec_columns\n",
    "assembler = VectorAssembler(inputCols=features, outputCol=\"features\", handleInvalid='keep')\n",
    "\n",
    "# scale features\n",
    "scaler = MinMaxScaler(inputCol=\"features\", outputCol=\"features_scaled\")\n",
    "\n",
    "mlp = MultilayerPerceptronClassifier(layers=[len(assembler.getInputCols()), 2, 2], featuresCol=\"features_scaled\" , labelCol=\"outcome\", seed=1234)\n",
    "\n",
    "pipeline = Pipeline(stages=stages+[assembler, scaler, mlp])\n",
    "# pipeline = Pipeline(stages=stages+[assembler, scaler])\n",
    "# pipeline = Pipeline(stages=stages+[mlp])\n",
    "\n",
    "model = pipeline.fit(train_data)\n",
    "train_output_df = model.transform(train_data)\n",
    "\n",
    "test_output_df = model.transform(test_data)\n",
    "\n",
    "# break out [assembler, scaler, on train  and fit to get the layer innput size then a seeperate pipleine to train model using ourput of fitted "
   ]
  },
  {
   "cell_type": "code",
   "execution_count": 0,
   "metadata": {
    "application/vnd.databricks.v1+cell": {
     "cellMetadata": {
      "byteLimit": 2048000,
      "rowLimit": 10000
     },
     "inputWidgets": {},
     "nuid": "e1bffad5-9c1d-4945-90bf-38a37bdd2f56",
     "showTitle": false,
     "tableResultSettingsMap": {},
     "title": ""
    }
   },
   "outputs": [],
   "source": [
    "categorical_cols = [\"OP_UNIQUE_CARRIER\"]\n",
    "numeric_cols = ['turnaround_time_calc', 'priorflight_isdelayed_calc']\n",
    "\n",
    "## pipeline stages\n",
    "stages = []\n",
    "\n",
    "for column in categorical_cols:\n",
    "    indexer = StringIndexer(inputCol=column, outputCol=column + \"_index\",handleInvalid=\"keep\")\n",
    "    encoder = OneHotEncoder(inputCol=column + \"_index\", outputCol=column + \"_vec\",handleInvalid=\"keep\")\n",
    "    stages += [indexer, encoder]\n",
    "# define encoded categorical feature names\n",
    "categorical_vec_columns = [col + \"_vec\" for col in categorical_cols]\n",
    "\n",
    "# assemble features\n",
    "features = numeric_cols + categorical_vec_columns\n",
    "assembler = VectorAssembler(inputCols=features, outputCol=\"features\", handleInvalid='keep')\n",
    "\n",
    "# scale features\n",
    "scaler = MinMaxScaler(inputCol=\"features\", outputCol=\"features_scaled\")\n",
    "\n",
    "mlp = MultilayerPerceptronClassifier(layers=[len(assembler.getInputCols()), 2, 2], featuresCol=\"features_scaled\" , labelCol=\"outcome\", seed=1234)\n",
    "\n",
    "pipeline1 = Pipeline(stages=stages+[assembler, scaler])\n",
    "\n",
    "datas = pipeline1.fit(train_data)\n",
    "\n",
    "# train_output_df = model.transform(train_data)\n",
    "\n",
    "# test_output_df = model.transform(test_data)\n",
    "\n",
    "\n",
    "# partial_pipeline = Pipeline(stages=stages+[assembler])\n",
    "\n",
    "# partial_model = partial_pipeline.fit(data)\n",
    "\n",
    "# transformed_data = partial_model.transform(data)\n",
    "\n",
    "# vector_size = transformed_data.select(\"features\").first()[0].size\n",
    "\n",
    "# break out [assembler, scaler, on train  and fit to get the layer innput size then a seeperate pipleine to train model using ourput of fitted "
   ]
  },
  {
   "cell_type": "code",
   "execution_count": 0,
   "metadata": {
    "application/vnd.databricks.v1+cell": {
     "cellMetadata": {},
     "inputWidgets": {},
     "nuid": "0dbcf50f-34d3-43c3-a5db-88f3ba5ff9dd",
     "showTitle": false,
     "tableResultSettingsMap": {},
     "title": ""
    }
   },
   "outputs": [],
   "source": []
  },
  {
   "cell_type": "code",
   "execution_count": 0,
   "metadata": {
    "application/vnd.databricks.v1+cell": {
     "cellMetadata": {},
     "inputWidgets": {},
     "nuid": "8bdcc2a9-f085-448d-9c63-99bdfc770790",
     "showTitle": false,
     "tableResultSettingsMap": {},
     "title": ""
    }
   },
   "outputs": [],
   "source": []
  },
  {
   "cell_type": "markdown",
   "metadata": {
    "application/vnd.databricks.v1+cell": {
     "cellMetadata": {
      "byteLimit": 2048000,
      "rowLimit": 10000
     },
     "inputWidgets": {},
     "nuid": "47e8bb36-261b-4cb4-8748-1d9363db3e70",
     "showTitle": false,
     "tableResultSettingsMap": {},
     "title": ""
    }
   },
   "source": [
    "## Using spark RF classifier & MLP"
   ]
  },
  {
   "cell_type": "code",
   "execution_count": 0,
   "metadata": {
    "application/vnd.databricks.v1+cell": {
     "cellMetadata": {
      "byteLimit": 2048000,
      "rowLimit": 10000
     },
     "inputWidgets": {},
     "nuid": "1c93893b-8ddd-4898-b00e-85a485cbef12",
     "showTitle": false,
     "tableResultSettingsMap": {},
     "title": ""
    }
   },
   "outputs": [],
   "source": [
    "df_train.columns"
   ]
  },
  {
   "cell_type": "code",
   "execution_count": 0,
   "metadata": {
    "application/vnd.databricks.v1+cell": {
     "cellMetadata": {
      "byteLimit": 2048000,
      "rowLimit": 10000
     },
     "inputWidgets": {},
     "nuid": "0a9f0a9f-3952-48eb-a09b-2c43f4ba8d17",
     "showTitle": false,
     "tableResultSettingsMap": {},
     "title": ""
    }
   },
   "outputs": [],
   "source": [
    "data = df_train.limit(300)\n",
    "\n",
    "## pipeline column definitions\n",
    "# categorical_cols = [\"OP_UNIQUE_CARRIER\",\"ORIGIN_ICAO\",\"DEST_ICAO\"]\n",
    "# weather_cols = [col for col in df_train.columns if \"origin_Hourly\" in col]\n",
    "# remove_me = [\"origin_HourlyPresentWeatherType\",\"origin_HourlySkyConditions\",\"origin_HourlyWindDirection\"]\n",
    "# weather_cols = [c for c in weather_cols if c not in remove_me]\n",
    "# prior_cols = ['turnaround_time_calc', 'priorflight_isdelayed_calc']\n",
    "# numeric_cols = weather_cols + prior_cols\n",
    "\n",
    "\n",
    "# categorical_cols = [\"OP_UNIQUE_CARRIER\",\"ORIGIN_ICAO\",\"DEST_ICAO\"]\n",
    "categorical_cols = []\n",
    "weather_cols = [col for col in df_train.columns if \"origin_Hourly\" in col]\n",
    "remove_me = [\"origin_HourlyPresentWeatherType\",\"origin_HourlySkyConditions\",\"origin_HourlyWindDirection\"]\n",
    "weather_cols = [c for c in weather_cols if c not in remove_me]\n",
    "prior_cols = ['turnaround_time_calc', 'priorflight_isdelayed_calc']\n",
    "numeric_cols = weather_cols + prior_cols\n",
    "\n",
    "## pipeline stages\n",
    "stages = []\n",
    "\n",
    "for column in categorical_cols:\n",
    "    indexer = StringIndexer(inputCol=column, outputCol=column + \"_index\",handleInvalid=\"keep\")\n",
    "    encoder = OneHotEncoder(inputCol=column + \"_index\", outputCol=column + \"_vec\",handleInvalid=\"keep\")\n",
    "    stages += [indexer, encoder]\n",
    "# define encoded categorical feature names\n",
    "categorical_vec_columns = [col + \"_vec\" for col in categorical_cols]\n",
    "\n",
    "# assemble features\n",
    "features = numeric_cols + categorical_vec_columns\n",
    "assembler = VectorAssembler(inputCols=features, outputCol=\"features\", handleInvalid='keep')\n",
    "\n",
    "# scale features\n",
    "scaler = MinMaxScaler(inputCol=\"features\", outputCol=\"features_scaled\")\n",
    "\n",
    "\n",
    "# random forest model\n",
    "# ### numTrees=30, maxDepth=10\n",
    "# rf = RandomForestClassifier(numTrees=3, maxDepth=2, featuresCol=\"features_scaled\" , labelCol=\"outcome\", seed=42)\n",
    "\n",
    "# pipeline = Pipeline(stages=stages+[assembler,scaler,rf])\n",
    "\n",
    "# multilayer perceptron model\n",
    "## TO DO: GET CORRECT LAYER VALUES\n",
    "mlp = MultilayerPerceptronClassifier(layers=[len(assembler.getInputCols()), 2, 2], featuresCol=\"features_scaled\" , labelCol=\"outcome\", seed=1234)\n",
    "\n",
    "pipeline = Pipeline(stages=stages+[assembler,scaler,mlp])\n",
    "\n"
   ]
  },
  {
   "cell_type": "code",
   "execution_count": 0,
   "metadata": {
    "application/vnd.databricks.v1+cell": {
     "cellMetadata": {
      "byteLimit": 2048000,
      "rowLimit": 10000
     },
     "inputWidgets": {},
     "nuid": "ad45f121-88b9-44a0-959b-3af1b518ff15",
     "showTitle": false,
     "tableResultSettingsMap": {},
     "title": ""
    }
   },
   "outputs": [],
   "source": [
    "data = df_train.limit(300)\n",
    "\n",
    "## pipeline column definitions\n",
    "# categorical_cols = [\"OP_UNIQUE_CARRIER\",\"ORIGIN_ICAO\",\"DEST_ICAO\"]\n",
    "# weather_cols = [col for col in df_train.columns if \"origin_Hourly\" in col]\n",
    "# remove_me = [\"origin_HourlyPresentWeatherType\",\"origin_HourlySkyConditions\",\"origin_HourlyWindDirection\"]\n",
    "# weather_cols = [c for c in weather_cols if c not in remove_me]\n",
    "# prior_cols = ['turnaround_time_calc', 'priorflight_isdelayed_calc']\n",
    "# numeric_cols = weather_cols + prior_cols\n",
    "\n",
    "\n",
    "categorical_cols = [\"OP_UNIQUE_CARRIER\",\"ORIGIN_ICAO\",\"DEST_ICAO\"]\n",
    "# categorical_cols = []\n",
    "weather_cols = [col for col in df_train.columns if \"origin_Hourly\" in col]\n",
    "remove_me = [\"origin_HourlyPresentWeatherType\",\"origin_HourlySkyConditions\",\"origin_HourlyWindDirection\"]\n",
    "weather_cols = [c for c in weather_cols if c not in remove_me]\n",
    "prior_cols = ['turnaround_time_calc', 'priorflight_isdelayed_calc']\n",
    "numeric_cols = weather_cols + prior_cols\n",
    "\n",
    "## pipeline stages\n",
    "stages = []\n",
    "\n",
    "for column in categorical_cols:\n",
    "    indexer = StringIndexer(inputCol=column, outputCol=column + \"_index\",handleInvalid=\"keep\")\n",
    "    encoder = OneHotEncoder(inputCol=column + \"_index\", outputCol=column + \"_vec\",handleInvalid=\"keep\",dropLast=False)\n",
    "    stages += [indexer, encoder]\n",
    "# define encoded categorical feature names\n",
    "categorical_vec_columns = [col + \"_vec\" for col in categorical_cols]\n",
    "\n",
    "# assemble features\n",
    "features = numeric_cols + categorical_vec_columns\n",
    "assembler = VectorAssembler(inputCols=features, outputCol=\"features\", handleInvalid='keep')\n",
    "\n",
    "# scale features\n",
    "scaler = MinMaxScaler(inputCol=\"features\", outputCol=\"features_scaled\")\n",
    "\n",
    "\n",
    "# random forest model\n",
    "# ### numTrees=30, maxDepth=10\n",
    "# rf = RandomForestClassifier(numTrees=3, maxDepth=2, featuresCol=\"features_scaled\" , labelCol=\"outcome\", seed=42)\n",
    "\n",
    "# pipeline = Pipeline(stages=stages+[assembler,scaler,rf])\n",
    "\n",
    "# multilayer perceptron model\n",
    "## TO DO: GET CORRECT LAYER VALUES\n",
    "mlp = MultilayerPerceptronClassifier(layers=[60, 2, 2], featuresCol=\"features_scaled\" , labelCol=\"outcome\", seed=1234)\n",
    "data1=data.fillna(0)\n",
    "pipeline = Pipeline(stages=stages+[assembler,scaler,mlp])\n",
    "\n",
    "(train_df, dev_df) = data1.randomSplit([0.8,0.2], seed=42)\n",
    "\n",
    "model = pipeline.fit(train_df)\n",
    "dev_pred = model.transform(dev_df)\n"
   ]
  },
  {
   "cell_type": "code",
   "execution_count": 0,
   "metadata": {
    "application/vnd.databricks.v1+cell": {
     "cellMetadata": {
      "byteLimit": 2048000,
      "rowLimit": 10000
     },
     "inputWidgets": {},
     "nuid": "c18217f3-e9e4-418a-b402-82f384bdb8aa",
     "showTitle": false,
     "tableResultSettingsMap": {},
     "title": ""
    }
   },
   "outputs": [],
   "source": [
    "display(dev_pred.select('features'))"
   ]
  },
  {
   "cell_type": "code",
   "execution_count": 0,
   "metadata": {
    "application/vnd.databricks.v1+cell": {
     "cellMetadata": {
      "byteLimit": 2048000,
      "rowLimit": 10000
     },
     "inputWidgets": {},
     "nuid": "755ce254-da11-4b97-ac9e-6a575ba09a6e",
     "showTitle": false,
     "tableResultSettingsMap": {},
     "title": ""
    }
   },
   "outputs": [],
   "source": [
    "len(assembler.getInputCols())"
   ]
  },
  {
   "cell_type": "code",
   "execution_count": 0,
   "metadata": {
    "application/vnd.databricks.v1+cell": {
     "cellMetadata": {
      "byteLimit": 2048000,
      "rowLimit": 10000
     },
     "inputWidgets": {},
     "nuid": "df04cd88-14d4-40dd-9c10-49bc642c59a5",
     "showTitle": false,
     "tableResultSettingsMap": {},
     "title": ""
    }
   },
   "outputs": [],
   "source": [
    "pipeline.getStages()[-3].getInputCols()"
   ]
  },
  {
   "cell_type": "code",
   "execution_count": 0,
   "metadata": {
    "application/vnd.databricks.v1+cell": {
     "cellMetadata": {
      "byteLimit": 2048000,
      "rowLimit": 10000
     },
     "inputWidgets": {},
     "nuid": "13975601-67f0-4ca2-ba67-3b3470b4aaf8",
     "showTitle": false,
     "tableResultSettingsMap": {},
     "title": ""
    }
   },
   "outputs": [],
   "source": [
    "assembler.extractParamMap()"
   ]
  },
  {
   "cell_type": "code",
   "execution_count": 0,
   "metadata": {
    "application/vnd.databricks.v1+cell": {
     "cellMetadata": {
      "byteLimit": 2048000,
      "rowLimit": 10000
     },
     "inputWidgets": {},
     "nuid": "0e15ff07-35f7-4d47-882d-20aa5f0c2511",
     "showTitle": false,
     "tableResultSettingsMap": {},
     "title": ""
    }
   },
   "outputs": [],
   "source": [
    "traintransformed=model.transform(train_df)"
   ]
  },
  {
   "cell_type": "code",
   "execution_count": 0,
   "metadata": {
    "application/vnd.databricks.v1+cell": {
     "cellMetadata": {
      "byteLimit": 2048000,
      "rowLimit": 10000
     },
     "inputWidgets": {},
     "nuid": "5ca7108a-3425-4e17-b8df-0de1e97f7118",
     "showTitle": false,
     "tableResultSettingsMap": {},
     "title": ""
    }
   },
   "outputs": [],
   "source": [
    "display(traintransformed.select('features'))"
   ]
  },
  {
   "cell_type": "code",
   "execution_count": 0,
   "metadata": {
    "application/vnd.databricks.v1+cell": {
     "cellMetadata": {
      "byteLimit": 2048000,
      "rowLimit": 10000
     },
     "inputWidgets": {},
     "nuid": "273aadb1-91ab-4985-b431-7d3f6c7c8cbf",
     "showTitle": false,
     "tableResultSettingsMap": {},
     "title": ""
    }
   },
   "outputs": [],
   "source": []
  },
  {
   "cell_type": "code",
   "execution_count": 0,
   "metadata": {
    "application/vnd.databricks.v1+cell": {
     "cellMetadata": {
      "byteLimit": 2048000,
      "rowLimit": 10000
     },
     "inputWidgets": {},
     "nuid": "fc932fb4-ab6c-4d78-9ec1-537bea72deb0",
     "showTitle": false,
     "tableResultSettingsMap": {},
     "title": ""
    }
   },
   "outputs": [],
   "source": [
    "mlp.getLayers()"
   ]
  },
  {
   "cell_type": "code",
   "execution_count": 0,
   "metadata": {
    "application/vnd.databricks.v1+cell": {
     "cellMetadata": {
      "byteLimit": 2048000,
      "rowLimit": 10000
     },
     "inputWidgets": {},
     "nuid": "97016e22-4e87-4a16-8568-79991f4b68fe",
     "showTitle": false,
     "tableResultSettingsMap": {},
     "title": ""
    }
   },
   "outputs": [],
   "source": [
    "display(dev_pred.select('features'))"
   ]
  },
  {
   "cell_type": "code",
   "execution_count": 0,
   "metadata": {
    "application/vnd.databricks.v1+cell": {
     "cellMetadata": {
      "byteLimit": 2048000,
      "rowLimit": 10000
     },
     "inputWidgets": {},
     "nuid": "113f7c4d-ec55-47d5-9b0d-e1f8cb98877e",
     "showTitle": false,
     "tableResultSettingsMap": {},
     "title": ""
    }
   },
   "outputs": [],
   "source": [
    "data1=data.fillna(0)"
   ]
  },
  {
   "cell_type": "code",
   "execution_count": 0,
   "metadata": {
    "application/vnd.databricks.v1+cell": {
     "cellMetadata": {
      "byteLimit": 2048000,
      "rowLimit": 10000
     },
     "inputWidgets": {},
     "nuid": "f39ef2e5-a779-4e65-a782-b1448e96d0f6",
     "showTitle": false,
     "tableResultSettingsMap": {},
     "title": ""
    }
   },
   "outputs": [],
   "source": [
    "encoder.getHandleInvalid()"
   ]
  },
  {
   "cell_type": "code",
   "execution_count": 0,
   "metadata": {
    "application/vnd.databricks.v1+cell": {
     "cellMetadata": {},
     "inputWidgets": {},
     "nuid": "53bd1bdb-f9f8-49ec-b807-e758e524e014",
     "showTitle": false,
     "tableResultSettingsMap": {},
     "title": ""
    }
   },
   "outputs": [],
   "source": []
  },
  {
   "cell_type": "code",
   "execution_count": 0,
   "metadata": {
    "application/vnd.databricks.v1+cell": {
     "cellMetadata": {
      "byteLimit": 2048000,
      "rowLimit": 10000
     },
     "inputWidgets": {},
     "nuid": "f62361b8-0ad5-4bbb-a4a1-ff61e7f79ff3",
     "showTitle": false,
     "tableResultSettingsMap": {},
     "title": ""
    }
   },
   "outputs": [],
   "source": [
    "display(dev_pred.select('probability'))"
   ]
  },
  {
   "cell_type": "code",
   "execution_count": 0,
   "metadata": {
    "application/vnd.databricks.v1+cell": {
     "cellMetadata": {
      "byteLimit": 2048000,
      "rowLimit": 10000
     },
     "inputWidgets": {},
     "nuid": "26670155-ba39-40c1-95a5-13942505d04a",
     "showTitle": false,
     "tableResultSettingsMap": {},
     "title": ""
    }
   },
   "outputs": [],
   "source": [
    "from pyspark.ml.feature import VectorSizeHint\n"
   ]
  },
  {
   "cell_type": "code",
   "execution_count": 0,
   "metadata": {
    "application/vnd.databricks.v1+cell": {
     "cellMetadata": {
      "byteLimit": 2048000,
      "rowLimit": 10000
     },
     "inputWidgets": {},
     "nuid": "64bfe580-5926-4baa-861f-87039ec821c0",
     "showTitle": false,
     "tableResultSettingsMap": {},
     "title": ""
    }
   },
   "outputs": [],
   "source": [
    "from pyspark.ml.feature import OneHotEncoder\n",
    "\n",
    "df = spark.createDataFrame([\n",
    "    (0.0, 1.0),\n",
    "    (1.0, 0.0),\n",
    "    (2.0, 1.0),\n",
    "    (0.0, 2.0),\n",
    "    (0.0, 1.0),\n",
    "    (2.0, 0.0)\n",
    "], [\"categoryIndex1\", \"categoryIndex2\"])\n",
    "\n",
    "encoder = OneHotEncoder(inputCols=[\"categoryIndex1\", \"categoryIndex2\"],\n",
    "                        outputCols=[\"categoryVec1\", \"categoryVec2\"])\n",
    "model = encoder.fit(df)\n",
    "encoded = model.transform(df)\n",
    "encoded.show()"
   ]
  },
  {
   "cell_type": "code",
   "execution_count": 0,
   "metadata": {
    "application/vnd.databricks.v1+cell": {
     "cellMetadata": {
      "byteLimit": 2048000,
      "rowLimit": 10000
     },
     "inputWidgets": {},
     "nuid": "44069b65-a25e-447a-893d-0c99b566e125",
     "showTitle": false,
     "tableResultSettingsMap": {},
     "title": ""
    }
   },
   "outputs": [],
   "source": [
    "data = df_train.limit(300)\n",
    "\n",
    "## pipeline column definitions\n",
    "# categorical_cols = [\"OP_UNIQUE_CARRIER\",\"ORIGIN_ICAO\",\"DEST_ICAO\"]\n",
    "# weather_cols = [col for col in df_train.columns if \"origin_Hourly\" in col]\n",
    "# remove_me = [\"origin_HourlyPresentWeatherType\",\"origin_HourlySkyConditions\",\"origin_HourlyWindDirection\"]\n",
    "# weather_cols = [c for c in weather_cols if c not in remove_me]\n",
    "# prior_cols = ['turnaround_time_calc', 'priorflight_isdelayed_calc']\n",
    "# numeric_cols = weather_cols + prior_cols\n",
    "\n",
    "\n",
    "# categorical_cols = [\"OP_UNIQUE_CARRIER\",\"ORIGIN_ICAO\",\"DEST_ICAO\"]\n",
    "categorical_cols = ['OP_UNIQUE_CARRIER','YEAR','QUARTER','MONTH','DAY_OF_MONTH','origin_region','origin_type']\n",
    "weather_cols = [col for col in df_train.columns if \"origin_Hourly\" in col]\n",
    "remove_me = [\"origin_HourlyPresentWeatherType\",\"origin_HourlySkyConditions\",\"origin_HourlyWindDirection\"]\n",
    "weather_cols = [c for c in weather_cols if c not in remove_me]\n",
    "prior_cols = ['turnaround_time_calc', 'priorflight_isdelayed_calc']\n",
    "numeric_cols = weather_cols + prior_cols\n",
    "\n",
    "## pipeline stages\n",
    "stages = []\n",
    "\n",
    "for column in categorical_cols:\n",
    "    indexer = StringIndexer(inputCol=column, \n",
    "                            outputCol=column + \"_index\",\n",
    "                            handleInvalid=\"keep\")\n",
    "    encoder = OneHotEncoder(inputCol=column + \"_index\", \n",
    "                            outputCol=column + \"_vec\",\n",
    "                            handleInvalid=\"keep\")\n",
    "    stages += [indexer, encoder]\n",
    "# define encoded categorical feature names\n",
    "categorical_vec_columns = [col + \"_vec\" for col in categorical_cols]\n",
    "\n",
    "# assemble features\n",
    "features = numeric_cols + categorical_vec_columns\n",
    "assembler = VectorAssembler(inputCols=features, outputCol=\"features\", handleInvalid='keep')\n",
    "\n",
    "# vector size hint\n",
    "\n",
    "# scale features\n",
    "scaler = MinMaxScaler(inputCol=\"features\", outputCol=\"features_scaled\")\n",
    "\n",
    "\n",
    "#actually run\n",
    "\n",
    "\n",
    "\n",
    "\n",
    "partial_pipeline = Pipeline(stages=stages+[assembler])\n",
    "\n",
    "partial_model = partial_pipeline.fit(data)\n",
    "\n",
    "transformed_data = partial_model.transform(data)\n",
    "\n",
    "vector_size = transformed_data.select(\"features\").first()[0].size\n",
    "\n",
    "(train_df, dev_df) = transformed_data.randomSplit([0.8,0.2])\n",
    "\n",
    "mlp1 = MultilayerPerceptronClassifier(layers=[vector_size, 2, 2], featuresCol=\"features_scaled\" , labelCol=\"outcome\", seed=1234)\n",
    "\n",
    "pipeline = Pipeline(stages=[scaler, mlp1])\n",
    "model = pipeline.fit(train_df)\n",
    "dev_pred1 = model.transform(dev_df)\n"
   ]
  },
  {
   "cell_type": "code",
   "execution_count": 0,
   "metadata": {
    "application/vnd.databricks.v1+cell": {
     "cellMetadata": {
      "byteLimit": 2048000,
      "rowLimit": 10000
     },
     "inputWidgets": {},
     "nuid": "b1f2de7e-00ab-43db-bdf7-9c56fc86ae3f",
     "showTitle": false,
     "tableResultSettingsMap": {},
     "title": ""
    }
   },
   "outputs": [],
   "source": [
    "## pipeline stages\n",
    "stages = []\n",
    "\n",
    "for column in categorical_cols:\n",
    "    indexer = StringIndexer(inputCol=column, \n",
    "                            outputCol=column + \"_index\",\n",
    "                            handleInvalid=\"keep\")\n",
    "    encoder = OneHotEncoder(inputCol=column + \"_index\", \n",
    "                            outputCol=column + \"_vec\",\n",
    "                            handleInvalid=\"keep\")\n",
    "    stages += [indexer, encoder]\n",
    "\n",
    "# define encoded categorical feature names\n",
    "categorical_vec_columns = [col + \"_vec\" for col in categorical_cols]\n",
    "\n",
    "# assemble features\n",
    "features = numeric_cols + categorical_vec_columns\n",
    "assembler = VectorAssembler(inputCols=features, outputCol=\"features\", handleInvalid='skip') #no nulls lol\n",
    "\n",
    "# Fit preprocessing on ENTIRE dataset first\n",
    "partial_pipeline = Pipeline(stages=stages+[assembler])\n",
    "partial_model = partial_pipeline.fit(data)  # Use full dataset before splitting\n",
    "\n",
    "# Transform the entire dataset\n",
    "transformed_data = partial_model.transform(data)\n",
    "\n",
    "# Get the feature vector size\n",
    "vector_size = transformed_data.select(\"features\").first()[0].size\n",
    "print(f\"Feature vector size: {vector_size}\")\n",
    "\n",
    "# Now split the transformed data\n",
    "(train_transformed, dev_transformed) = transformed_data.randomSplit([0.8, 0.2])\n",
    "\n",
    "# Define MLPs and remaining pipeline steps\n",
    "scaler = MinMaxScaler(inputCol=\"features\", outputCol=\"features_scaled\")\n",
    "mlp1 = MultilayerPerceptronClassifier(\n",
    "    layers=[vector_size, 2, 2], \n",
    "    featuresCol=\"features_scaled\",\n",
    "    labelCol=\"outcome\", \n",
    "    seed=42\n",
    ")\n",
    "\n",
    "# Create a new pipeline for the remaining steps\n",
    "final_pipeline = Pipeline(stages=[scaler, mlp1])\n",
    "final_model = final_pipeline.fit(train_transformed)\n",
    "\n",
    "# Transform validation data\n",
    "dev_pred1 = final_model.transform(dev_transformed)\n"
   ]
  },
  {
   "cell_type": "code",
   "execution_count": 0,
   "metadata": {
    "application/vnd.databricks.v1+cell": {
     "cellMetadata": {
      "byteLimit": 2048000,
      "rowLimit": 10000
     },
     "inputWidgets": {},
     "nuid": "9bdc34e7-c502-4d57-a34b-5fbed0958327",
     "showTitle": false,
     "tableResultSettingsMap": {},
     "title": ""
    }
   },
   "outputs": [],
   "source": [
    "display(dev_pred1) #sanity check "
   ]
  },
  {
   "cell_type": "code",
   "execution_count": 0,
   "metadata": {
    "application/vnd.databricks.v1+cell": {
     "cellMetadata": {
      "byteLimit": 2048000,
      "rowLimit": 10000
     },
     "inputWidgets": {},
     "nuid": "461b6b01-9831-495f-b26c-517cdfa6ce64",
     "showTitle": false,
     "tableResultSettingsMap": {},
     "title": ""
    }
   },
   "outputs": [],
   "source": [
    "display(transformed_data.select('features'))"
   ]
  },
  {
   "cell_type": "code",
   "execution_count": 0,
   "metadata": {
    "application/vnd.databricks.v1+cell": {
     "cellMetadata": {
      "byteLimit": 2048000,
      "rowLimit": 10000
     },
     "inputWidgets": {},
     "nuid": "e8d78e95-f8fd-4eeb-8ec1-b73a1827ef88",
     "showTitle": false,
     "tableResultSettingsMap": {},
     "title": ""
    }
   },
   "outputs": [],
   "source": [
    "display(dev_pred1.select('features_scaled'))"
   ]
  },
  {
   "cell_type": "code",
   "execution_count": 0,
   "metadata": {
    "application/vnd.databricks.v1+cell": {
     "cellMetadata": {
      "byteLimit": 2048000,
      "rowLimit": 10000
     },
     "inputWidgets": {},
     "nuid": "d2a7bfe9-24fd-45c2-ab27-4f24989155eb",
     "showTitle": false,
     "tableResultSettingsMap": {},
     "title": ""
    }
   },
   "outputs": [],
   "source": [
    "vector_size"
   ]
  },
  {
   "cell_type": "code",
   "execution_count": 0,
   "metadata": {
    "application/vnd.databricks.v1+cell": {
     "cellMetadata": {
      "byteLimit": 2048000,
      "rowLimit": 10000
     },
     "inputWidgets": {},
     "nuid": "19de41b6-7eea-4878-9127-86b1f73abb1f",
     "showTitle": false,
     "tableResultSettingsMap": {},
     "title": ""
    }
   },
   "outputs": [],
   "source": [
    "mlp1 = MultilayerPerceptronClassifier(layers=[vector_size, 2, 2], featuresCol=\"features_scaled\" , labelCol=\"outcome\", seed=1234)\n",
    "\n",
    "pipeline = Pipeline(stages=stages+[assembler, scaler, mlp1])\n",
    "model = pipeline.fit(train_df)\n",
    "dev_pred1 = model.transform(dev_df)\n"
   ]
  },
  {
   "cell_type": "code",
   "execution_count": 0,
   "metadata": {
    "application/vnd.databricks.v1+cell": {
     "cellMetadata": {
      "byteLimit": 2048000,
      "rowLimit": 10000
     },
     "inputWidgets": {},
     "nuid": "8ee3fbe8-8126-4453-a174-2922f5a7b17d",
     "showTitle": false,
     "tableResultSettingsMap": {},
     "title": ""
    }
   },
   "outputs": [],
   "source": [
    "display(transformed_train.select('features_scaled'))"
   ]
  },
  {
   "cell_type": "code",
   "execution_count": 0,
   "metadata": {
    "application/vnd.databricks.v1+cell": {
     "cellMetadata": {
      "byteLimit": 2048000,
      "rowLimit": 10000
     },
     "inputWidgets": {},
     "nuid": "eaaba6d3-7df7-47ef-88e4-1f7de5b7af59",
     "showTitle": false,
     "tableResultSettingsMap": {},
     "title": ""
    }
   },
   "outputs": [],
   "source": [
    "dev_pred"
   ]
  },
  {
   "cell_type": "code",
   "execution_count": 0,
   "metadata": {
    "application/vnd.databricks.v1+cell": {
     "cellMetadata": {
      "byteLimit": 2048000,
      "rowLimit": 10000
     },
     "inputWidgets": {},
     "nuid": "479d9fae-c56d-401f-a9f7-4c579926423b",
     "showTitle": false,
     "tableResultSettingsMap": {},
     "title": ""
    }
   },
   "outputs": [],
   "source": [
    "display(dev_pred1)"
   ]
  },
  {
   "cell_type": "code",
   "execution_count": 0,
   "metadata": {
    "application/vnd.databricks.v1+cell": {
     "cellMetadata": {
      "byteLimit": 2048000,
      "rowLimit": 10000
     },
     "inputWidgets": {},
     "nuid": "5b1c1f50-23be-4847-9cfa-83dd94a2a6d6",
     "showTitle": false,
     "tableResultSettingsMap": {},
     "title": ""
    }
   },
   "outputs": [],
   "source": [
    "display(dev_pred1.select('features'))"
   ]
  },
  {
   "cell_type": "code",
   "execution_count": 0,
   "metadata": {
    "application/vnd.databricks.v1+cell": {
     "cellMetadata": {
      "byteLimit": 2048000,
      "rowLimit": 10000
     },
     "inputWidgets": {},
     "nuid": "fa4f1056-9e01-4a6f-abe3-d0ce291d599d",
     "showTitle": false,
     "tableResultSettingsMap": {},
     "title": ""
    }
   },
   "outputs": [],
   "source": [
    "data.groupBy('outcome').count().show()"
   ]
  },
  {
   "cell_type": "code",
   "execution_count": 0,
   "metadata": {
    "application/vnd.databricks.v1+cell": {
     "cellMetadata": {
      "byteLimit": 2048000,
      "rowLimit": 10000
     },
     "inputWidgets": {},
     "nuid": "d3951a1d-7db5-4dda-8bb3-fad5b20e9cf1",
     "showTitle": false,
     "tableResultSettingsMap": {},
     "title": ""
    }
   },
   "outputs": [],
   "source": [
    "## troubleshooting\n",
    "\n",
    "# train_df.selectExpr(\"size(features_scaled)\").show()\n",
    "# display(train_df)\n",
    "# len(assembler.getInputCols())\n",
    "\n",
    "#  assembler.selectExpr(\"size(features)\").first()[0]"
   ]
  },
  {
   "cell_type": "code",
   "execution_count": 0,
   "metadata": {
    "application/vnd.databricks.v1+cell": {
     "cellMetadata": {
      "byteLimit": 2048000,
      "rowLimit": 10000
     },
     "inputWidgets": {},
     "nuid": "8ff82f07-c914-4004-abb4-3ab8b3387a88",
     "showTitle": false,
     "tableResultSettingsMap": {},
     "title": ""
    }
   },
   "outputs": [],
   "source": [
    "(train_df, dev_df) = data.randomSplit([0.8,0.2])\n",
    "model = pipeline.fit(train_df)\n",
    "dev_pred1 = model.transform(dev_df)\n",
    "display(dev_pred1)"
   ]
  },
  {
   "cell_type": "code",
   "execution_count": 0,
   "metadata": {
    "application/vnd.databricks.v1+cell": {
     "cellMetadata": {
      "byteLimit": 2048000,
      "rowLimit": 10000
     },
     "inputWidgets": {},
     "nuid": "33b2d893-cb45-4d20-a925-e4e8217b917d",
     "showTitle": false,
     "tableResultSettingsMap": {},
     "title": ""
    }
   },
   "outputs": [],
   "source": [
    "# f = [c for c in data.columns if c not in [\"sched_depart_utc\",'two_hours_prior_depart_UTC']]\n",
    "# data.select([F.count(when(F.isnan(c)|col(c).isNull(), c)).alias(c) for c in f]).show()\n",
    "#Replace 0 for null for all integer columns\n",
    "data.na.fill(value=0).show()"
   ]
  },
  {
   "cell_type": "code",
   "execution_count": 0,
   "metadata": {
    "application/vnd.databricks.v1+cell": {
     "cellMetadata": {
      "byteLimit": 2048000,
      "rowLimit": 10000
     },
     "inputWidgets": {},
     "nuid": "0c1810ef-a01c-4546-bef0-01ae4103a347",
     "showTitle": false,
     "tableResultSettingsMap": {},
     "title": ""
    }
   },
   "outputs": [],
   "source": [
    "(train_df, dev_df) = data.randomSplit([0.8,0.2])"
   ]
  },
  {
   "cell_type": "code",
   "execution_count": 0,
   "metadata": {
    "application/vnd.databricks.v1+cell": {
     "cellMetadata": {
      "byteLimit": 2048000,
      "rowLimit": 10000
     },
     "inputWidgets": {},
     "nuid": "f3dfe2fd-261e-40ab-a2a4-7927716a6bbf",
     "showTitle": false,
     "tableResultSettingsMap": {},
     "title": ""
    }
   },
   "outputs": [],
   "source": [
    "model = pipeline.fit(train_df)"
   ]
  },
  {
   "cell_type": "code",
   "execution_count": 0,
   "metadata": {
    "application/vnd.databricks.v1+cell": {
     "cellMetadata": {
      "byteLimit": 2048000,
      "rowLimit": 10000
     },
     "inputWidgets": {},
     "nuid": "a760c39d-962e-487f-a714-425d62be7d85",
     "showTitle": false,
     "tableResultSettingsMap": {},
     "title": ""
    }
   },
   "outputs": [],
   "source": [
    "display(train_df)"
   ]
  },
  {
   "cell_type": "code",
   "execution_count": 0,
   "metadata": {
    "application/vnd.databricks.v1+cell": {
     "cellMetadata": {},
     "inputWidgets": {},
     "nuid": "a6e85682-17ae-4fe6-b33f-b2ef3624b3f7",
     "showTitle": false,
     "tableResultSettingsMap": {},
     "title": ""
    }
   },
   "outputs": [],
   "source": [
    "dev_pred = model.transform(dev_df)"
   ]
  },
  {
   "cell_type": "code",
   "execution_count": 0,
   "metadata": {
    "application/vnd.databricks.v1+cell": {
     "cellMetadata": {
      "byteLimit": 2048000,
      "rowLimit": 10000
     },
     "inputWidgets": {},
     "nuid": "7ad1044f-e436-4323-a5fe-d1c822e38da2",
     "showTitle": false,
     "tableResultSettingsMap": {},
     "title": ""
    }
   },
   "outputs": [],
   "source": [
    "dev_pred = model.transform(dev_df)"
   ]
  },
  {
   "cell_type": "code",
   "execution_count": 0,
   "metadata": {
    "application/vnd.databricks.v1+cell": {
     "cellMetadata": {
      "byteLimit": 2048000,
      "rowLimit": 10000
     },
     "inputWidgets": {},
     "nuid": "4d5eec29-7b9f-460e-9107-d278239f2402",
     "showTitle": false,
     "tableResultSettingsMap": {},
     "title": ""
    }
   },
   "outputs": [],
   "source": [
    "dev_pred.select(\"prediction\",\"outcome\").show()"
   ]
  },
  {
   "cell_type": "code",
   "execution_count": 0,
   "metadata": {
    "application/vnd.databricks.v1+cell": {
     "cellMetadata": {
      "byteLimit": 2048000,
      "rowLimit": 10000
     },
     "inputWidgets": {},
     "nuid": "6ceab851-4b5f-43a6-a5be-e2d43cd1139d",
     "showTitle": false,
     "tableResultSettingsMap": {},
     "title": ""
    }
   },
   "outputs": [],
   "source": [
    "display(dev_pred)\n",
    "# mlp.getMaxIter()\n",
    "# mlp.getBlockSize()"
   ]
  },
  {
   "cell_type": "code",
   "execution_count": 0,
   "metadata": {
    "application/vnd.databricks.v1+cell": {
     "cellMetadata": {
      "byteLimit": 2048000,
      "rowLimit": 10000
     },
     "inputWidgets": {},
     "nuid": "2af31470-5c2f-4045-b406-15cacdf218a5",
     "showTitle": false,
     "tableResultSettingsMap": {},
     "title": ""
    }
   },
   "outputs": [],
   "source": [
    "\n",
    "\n",
    "# (train_df, dev_df) = data.randomSplit([0.8,0.2])\n",
    "# train_df.cache()\n",
    "# dev_df.cache()\n",
    "\n",
    "# model = pipeline.fit(train_df)\n",
    "# dev_pred = model.transform(dev_df)\n",
    "\n"
   ]
  },
  {
   "cell_type": "code",
   "execution_count": 0,
   "metadata": {
    "application/vnd.databricks.v1+cell": {
     "cellMetadata": {
      "byteLimit": 2048000,
      "rowLimit": 10000
     },
     "inputWidgets": {},
     "nuid": "9249e5a0-e54e-4ad1-99b0-29bdfe453cd5",
     "showTitle": false,
     "tableResultSettingsMap": {},
     "title": ""
    }
   },
   "outputs": [],
   "source": [
    "display(dev_pred.where(F.col(\"outcome\")!=F.col(\"prediction\")))"
   ]
  },
  {
   "cell_type": "code",
   "execution_count": 0,
   "metadata": {
    "application/vnd.databricks.v1+cell": {
     "cellMetadata": {
      "byteLimit": 2048000,
      "rowLimit": 10000
     },
     "inputWidgets": {},
     "nuid": "ea9f5e59-e462-4ee6-bfef-c6f971ef414b",
     "showTitle": false,
     "tableResultSettingsMap": {},
     "title": ""
    }
   },
   "outputs": [],
   "source": [
    "display(dev_pred.where(F.col(\"prediction\")==1))\n"
   ]
  },
  {
   "cell_type": "code",
   "execution_count": 0,
   "metadata": {
    "application/vnd.databricks.v1+cell": {
     "cellMetadata": {
      "byteLimit": 2048000,
      "rowLimit": 10000
     },
     "inputWidgets": {},
     "nuid": "10ff78f5-f66f-4b81-bd34-869feef9373b",
     "showTitle": false,
     "tableResultSettingsMap": {},
     "title": ""
    }
   },
   "outputs": [],
   "source": [
    "display(train_df.where(F.col(\"outcome\")==1))"
   ]
  },
  {
   "cell_type": "code",
   "execution_count": 0,
   "metadata": {
    "application/vnd.databricks.v1+cell": {
     "cellMetadata": {},
     "inputWidgets": {},
     "nuid": "87d37d5d-4124-4966-b3c4-51c8b75a4a55",
     "showTitle": false,
     "tableResultSettingsMap": {},
     "title": ""
    }
   },
   "outputs": [],
   "source": []
  },
  {
   "cell_type": "code",
   "execution_count": 0,
   "metadata": {
    "application/vnd.databricks.v1+cell": {
     "cellMetadata": {},
     "inputWidgets": {},
     "nuid": "0777e8ba-c646-4348-95d4-19a19330f5d0",
     "showTitle": false,
     "tableResultSettingsMap": {},
     "title": ""
    }
   },
   "outputs": [],
   "source": []
  },
  {
   "cell_type": "code",
   "execution_count": 0,
   "metadata": {
    "application/vnd.databricks.v1+cell": {
     "cellMetadata": {},
     "inputWidgets": {},
     "nuid": "a22929ff-c04b-4946-b6ef-a115063810ad",
     "showTitle": false,
     "tableResultSettingsMap": {},
     "title": ""
    }
   },
   "outputs": [],
   "source": []
  },
  {
   "cell_type": "code",
   "execution_count": 0,
   "metadata": {
    "application/vnd.databricks.v1+cell": {
     "cellMetadata": {},
     "inputWidgets": {},
     "nuid": "0d008805-228e-4e77-aedf-82a05e3c0a84",
     "showTitle": false,
     "tableResultSettingsMap": {},
     "title": ""
    }
   },
   "outputs": [],
   "source": []
  },
  {
   "cell_type": "code",
   "execution_count": 0,
   "metadata": {
    "application/vnd.databricks.v1+cell": {
     "cellMetadata": {},
     "inputWidgets": {},
     "nuid": "f4d8d9bc-6a3e-4b58-8181-64c9b8fbf0b9",
     "showTitle": false,
     "tableResultSettingsMap": {},
     "title": ""
    }
   },
   "outputs": [],
   "source": []
  },
  {
   "cell_type": "code",
   "execution_count": 0,
   "metadata": {
    "application/vnd.databricks.v1+cell": {
     "cellMetadata": {
      "byteLimit": 2048000,
      "rowLimit": 10000
     },
     "inputWidgets": {},
     "nuid": "2b02276c-5dfd-49b9-8234-3d5ee59f2d8d",
     "showTitle": false,
     "tableResultSettingsMap": {},
     "title": ""
    }
   },
   "outputs": [],
   "source": [
    "categorical_cols = [\"OP_UNIQUE_CARRIER\",\"ORIGIN_ICAO\",\"DEST_ICAO\"]\n",
    "weather_cols = [col for col in df_train.columns if \"origin_Hourly\" in col]\n",
    "remove_me = [\"origin_HourlyPresentWeatherType\",\"origin_HourlySkyConditions\",\"origin_HourlyWindDirection\"]\n",
    "numeric_cols = [c for c in weather_cols if c not in remove_me]"
   ]
  },
  {
   "cell_type": "code",
   "execution_count": 0,
   "metadata": {
    "application/vnd.databricks.v1+cell": {
     "cellMetadata": {
      "byteLimit": 2048000,
      "rowLimit": 10000
     },
     "inputWidgets": {},
     "nuid": "690975c1-07b6-49f1-925a-06b5de6791a8",
     "showTitle": false,
     "tableResultSettingsMap": {},
     "title": ""
    }
   },
   "outputs": [],
   "source": [
    "#  List to hold the stages of the pipeline\n",
    "stages = []\n",
    "\n",
    "# Index and encode each categorical column\n",
    "for column in categorical_cols:\n",
    "    indexer = StringIndexer(inputCol=column, outputCol=column + \"_index\",handleInvalid=\"keep\")\n",
    "    encoder = OneHotEncoder(inputCol=column + \"_index\", outputCol=column + \"_vec\",handleInvalid=\"keep\")\n",
    "    stages += [indexer, encoder]\n",
    "# define encoded categorical feature names\n",
    "categorical_vec_columns = [col + \"_vec\" for col in categorical_cols]\n",
    "\n",
    "# assemble features\n",
    "features = numeric_cols + categorical_vec_columns\n",
    "assembler = VectorAssembler(inputCols=features, outputCol=\"features\", handleInvalid='keep')\n",
    "\n",
    "# scale features\n",
    "scaler = MinMaxScaler(inputCol=\"features\", \\\n",
    "    outputCol=\"features_scaled\")\n",
    "\n",
    "# logistic regression model\n",
    "lr = LogisticRegression(featuresCol='features_scaled', \\\n",
    "    labelCol='outcome',maxIter=50)\n",
    "\n",
    "# random forest model \n",
    "rf = RandomForestClassifier(numTrees=3, maxDepth=2, featuresCol=\"features_scaled\" , labelCol=\"outcome\", seed=42)\n",
    "\n",
    "# construct pipeline object from all components\n",
    "pipeline = Pipeline(stages=stages+[assembler,scaler,rf])"
   ]
  },
  {
   "cell_type": "code",
   "execution_count": 0,
   "metadata": {
    "application/vnd.databricks.v1+cell": {
     "cellMetadata": {
      "byteLimit": 2048000,
      "rowLimit": 10000
     },
     "inputWidgets": {},
     "nuid": "46895106-caaf-4299-a8b2-531538587d44",
     "showTitle": false,
     "tableResultSettingsMap": {},
     "title": ""
    }
   },
   "outputs": [],
   "source": [
    "pipeline"
   ]
  },
  {
   "cell_type": "code",
   "execution_count": 0,
   "metadata": {
    "application/vnd.databricks.v1+cell": {
     "cellMetadata": {},
     "inputWidgets": {},
     "nuid": "f5e77a3b-302d-43da-9735-f53bd4a0d218",
     "showTitle": false,
     "tableResultSettingsMap": {},
     "title": ""
    }
   },
   "outputs": [],
   "source": []
  },
  {
   "cell_type": "code",
   "execution_count": 0,
   "metadata": {
    "application/vnd.databricks.v1+cell": {
     "cellMetadata": {},
     "inputWidgets": {},
     "nuid": "4bbd5d0a-9429-4b6f-9e30-f9bd2c02becd",
     "showTitle": false,
     "tableResultSettingsMap": {},
     "title": ""
    }
   },
   "outputs": [],
   "source": []
  },
  {
   "cell_type": "code",
   "execution_count": 0,
   "metadata": {
    "application/vnd.databricks.v1+cell": {
     "cellMetadata": {},
     "inputWidgets": {},
     "nuid": "89f9248e-8a4e-4547-851d-be2bc35e09b5",
     "showTitle": false,
     "tableResultSettingsMap": {},
     "title": ""
    }
   },
   "outputs": [],
   "source": []
  },
  {
   "cell_type": "markdown",
   "metadata": {
    "application/vnd.databricks.v1+cell": {
     "cellMetadata": {},
     "inputWidgets": {},
     "nuid": "16aa23ad-20f3-4770-b009-f843ad4107eb",
     "showTitle": false,
     "tableResultSettingsMap": {},
     "title": ""
    }
   },
   "source": [
    "## Abandoned attempt to adapt gradient boosting function for an ensemble mllib tree"
   ]
  },
  {
   "cell_type": "code",
   "execution_count": 0,
   "metadata": {
    "application/vnd.databricks.v1+cell": {
     "cellMetadata": {
      "byteLimit": 2048000,
      "rowLimit": 10000
     },
     "inputWidgets": {},
     "nuid": "dcf36819-63e8-4d1f-974b-a0ed1da262c9",
     "showTitle": false,
     "tableResultSettingsMap": {},
     "title": ""
    }
   },
   "outputs": [],
   "source": [
    "#define weighted sum function to accumulate - (function currying)\n",
    "def wt_sum_fcn(f1, f2, wt):\n",
    "    def wsf(x):\n",
    "        return (f1(x) + wt * f2(x))\n",
    "    return wsf"
   ]
  },
  {
   "cell_type": "code",
   "execution_count": 0,
   "metadata": {
    "application/vnd.databricks.v1+cell": {
     "cellMetadata": {
      "byteLimit": 2048000,
      "rowLimit": 10000
     },
     "inputWidgets": {},
     "nuid": "dd757ba3-904c-4c5d-9748-73b58786ddba",
     "showTitle": false,
     "tableResultSettingsMap": {},
     "title": ""
    }
   },
   "outputs": [],
   "source": [
    "# original\n",
    "\n",
    "def GradientBoosting(nTrees, nDepth, gamma, bagFrac, X, Y):\n",
    "    nDataPts = len(X)\n",
    "    nSamp = int(bagFrac * nDataPts)\n",
    "    \n",
    "    # Define function T to accumulate average prediction functions from trained trees.  \n",
    "    # initialize T to fcn mapping all x to zero to start \n",
    "    T = lambda x: 0.0\n",
    "    \n",
    "    # loop to generate individual trees in ensemble\n",
    "    for i in range(nTrees):\n",
    "        \n",
    "        # take a random sample from the data\n",
    "        sampIdx = np.random.choice(nDataPts, nSamp)\n",
    "        \n",
    "        xTrain = X[sampIdx]\n",
    "        \n",
    "        # estimate the regression values with the current trees.  \n",
    "        yEst = T(xTrain)\n",
    "        \n",
    "        # subtract the estimate based on current ensemble from the labels\n",
    "        yTrain = Y[sampIdx] - np.array(yEst).reshape([-1,1])\n",
    "        \n",
    "        # build a tree on the sampled data using residuals for labels\n",
    "        tree = DecisionTreeRegressor(max_depth=nDepth)\n",
    "        tree.fit(xTrain, yTrain)\n",
    "                \n",
    "        # add the new tree with a learning rate parameter (gamma)\n",
    "        T = wt_sum_fcn(T, tree.predict, gamma)\n",
    "    return T"
   ]
  },
  {
   "cell_type": "code",
   "execution_count": 0,
   "metadata": {
    "application/vnd.databricks.v1+cell": {
     "cellMetadata": {
      "byteLimit": 2048000,
      "rowLimit": 10000
     },
     "inputWidgets": {},
     "nuid": "5baac0cd-2e01-4510-9ee2-c13c355d52bb",
     "showTitle": false,
     "tableResultSettingsMap": {},
     "title": ""
    }
   },
   "outputs": [],
   "source": [
    "# with spark mllib\n",
    "\n",
    "def GradientBoosting(nTrees, nDepth, gamma, bagFrac, X, Y):\n",
    "    nDataPts = X.count()\n",
    "    nSamp = int(bagFrac * nDataPts)\n",
    "    \n",
    "    # Define function T to accumulate average prediction functions from trained trees.  \n",
    "    # initialize T to fcn mapping all x to zero to start \n",
    "    T = lambda x: 0.0\n",
    "    \n",
    "    # loop to generate individual trees in ensemble\n",
    "    for i in range(nTrees):\n",
    "        \n",
    "        # take a random sample from the data\n",
    "        # sampIdx = np.random.choice(nDataPts, nSamp)\n",
    "        \n",
    "        # xTrain = X[sampIdx]\n",
    "\n",
    "        xTrain = \n",
    "\n",
    "        \n",
    "        # estimate the regression values with the current trees.  \n",
    "        yEst = T(xTrain)\n",
    "        \n",
    "        # subtract the estimate based on current ensemble from the labels\n",
    "        yTrain = Y[sampIdx] - np.array(yEst).reshape([-1,1])\n",
    "        \n",
    "        # build a tree on the sampled data using residuals for labels\n",
    "        tree = DecisionTreeClassifier(featuresCol='features', labelCol='label', max_depth=nDepth)\n",
    "        tree.fit(xTrain, yTrain)\n",
    "                \n",
    "        # add the new tree with a learning rate parameter (gamma)\n",
    "        T = wt_sum_fcn(T, tree.predict, gamma)\n",
    "    return T"
   ]
  },
  {
   "cell_type": "code",
   "execution_count": 0,
   "metadata": {
    "application/vnd.databricks.v1+cell": {
     "cellMetadata": {
      "byteLimit": 2048000,
      "rowLimit": 10000
     },
     "inputWidgets": {},
     "nuid": "1591b65b-6403-429a-b4cc-6a772b04c079",
     "showTitle": false,
     "tableResultSettingsMap": {},
     "title": ""
    }
   },
   "outputs": [],
   "source": [
    "# X.count()\n",
    "nTrees = 20  # try changing the number of trees being built\n",
    "nDepth = 3   # fairly shallow for 100 data points\n",
    "gamma = 0.1\n",
    "bagFrac = 1  \n",
    "\n",
    "nDataPts = X.count()\n",
    "nSamp = int(bagFrac * nDataPts)\n",
    "\n",
    "\n",
    "X.sample(withReplacement=False, fraction=bagFrac,seed=42)"
   ]
  },
  {
   "cell_type": "code",
   "execution_count": 0,
   "metadata": {
    "application/vnd.databricks.v1+cell": {
     "cellMetadata": {
      "byteLimit": 2048000,
      "rowLimit": 10000
     },
     "inputWidgets": {},
     "nuid": "7d1a7277-de5b-45fb-89ce-986fb7d6789e",
     "showTitle": false,
     "tableResultSettingsMap": {},
     "title": ""
    }
   },
   "outputs": [],
   "source": [
    "data = df_train.limit(1000)\n",
    "data = data.withColumn(\"label\", F.col(\"outcome\"))\n",
    "features = ['turnaround_time_calc', 'priorflight_isdelayed_calc']\n",
    "\n",
    "va = VectorAssembler(inputCols = features, outputCol= 'features')\n",
    "va_df = va.transform(data)\n",
    "va_df = va_df.select(['features', 'label'])\n",
    "\n",
    "\n",
    "X = va_df.select('features')\n",
    "Y = va_df.select(\"label\")"
   ]
  },
  {
   "cell_type": "code",
   "execution_count": 0,
   "metadata": {
    "application/vnd.databricks.v1+cell": {
     "cellMetadata": {
      "byteLimit": 2048000,
      "rowLimit": 10000
     },
     "inputWidgets": {},
     "nuid": "00bd68ce-09c8-470d-9aaa-4ee8ac77d971",
     "showTitle": false,
     "tableResultSettingsMap": {},
     "title": ""
    }
   },
   "outputs": [],
   "source": [
    "def EnsembleDataGen(npts, stdDev):\n",
    "    #Define data set:\n",
    "    #Starter is X sampled regularly in [-10, 10], Y = X + noise\n",
    "    #Try swapping Y = X + noise for Y = np.sin(X) + noise\n",
    "    X = np.linspace(-10.0, 10.0, npts)\n",
    "    # Y = X + np.random.normal(0.0, stdDev, npts)   ### Linear\n",
    "    Y = np.sin(X) + np.random.normal(0.0, stdDev, npts) ### Non-Linear\n",
    "    return X.reshape([-1,1]), Y.reshape([-1,1])\n",
    "\n",
    "u,v = EnsembleDataGen(100, 1.0)"
   ]
  },
  {
   "cell_type": "code",
   "execution_count": 0,
   "metadata": {
    "application/vnd.databricks.v1+cell": {
     "cellMetadata": {
      "byteLimit": 2048000,
      "rowLimit": 10000
     },
     "inputWidgets": {},
     "nuid": "ab54d965-9835-400f-9e2a-d8beb71f2c05",
     "showTitle": false,
     "tableResultSettingsMap": {},
     "title": ""
    }
   },
   "outputs": [],
   "source": [
    "nTrees = 20  # try changing the number of trees being built\n",
    "nDepth = 3   # fairly shallow for 100 data points\n",
    "gamma = 0.1\n",
    "bagFrac = 1   # Bag fraction - how many points in each of the random subsamples.  \n",
    "\n",
    "gbst = GradientBoosting(nTrees, nDepth, gamma, bagFrac, X, Y)\n",
    "\n",
    "result = gbst(X)\n",
    "\n",
    "plt.plot(X, result, 'r')\n",
    "plt.scatter(X,Y)\n",
    "display(plt.show())"
   ]
  },
  {
   "cell_type": "code",
   "execution_count": 0,
   "metadata": {
    "application/vnd.databricks.v1+cell": {
     "cellMetadata": {},
     "inputWidgets": {},
     "nuid": "cd56573a-fe1b-437a-a451-d3d43ed9a1eb",
     "showTitle": false,
     "tableResultSettingsMap": {},
     "title": ""
    }
   },
   "outputs": [],
   "source": []
  },
  {
   "cell_type": "markdown",
   "metadata": {
    "application/vnd.databricks.v1+cell": {
     "cellMetadata": {},
     "inputWidgets": {},
     "nuid": "cd449168-ee1f-4668-b889-c1124f2095e2",
     "showTitle": false,
     "tableResultSettingsMap": {},
     "title": ""
    }
   },
   "source": [
    "## Simple Decision Tree with Spark MLLib Example"
   ]
  },
  {
   "cell_type": "code",
   "execution_count": 0,
   "metadata": {
    "application/vnd.databricks.v1+cell": {
     "cellMetadata": {
      "byteLimit": 2048000,
      "rowLimit": 10000
     },
     "inputWidgets": {},
     "nuid": "577bc4f8-51c8-468e-970e-03b3520efdd2",
     "showTitle": false,
     "tableResultSettingsMap": {},
     "title": ""
    }
   },
   "outputs": [],
   "source": [
    "features = ['MONTH','turnaround_time_calc', 'priorflight_isdelayed_calc']\n",
    "display(df_train[features])"
   ]
  },
  {
   "cell_type": "code",
   "execution_count": 0,
   "metadata": {
    "application/vnd.databricks.v1+cell": {
     "cellMetadata": {
      "byteLimit": 2048000,
      "rowLimit": 10000
     },
     "inputWidgets": {},
     "nuid": "fd00320f-848a-42a0-a57b-8ca7054cdbf3",
     "showTitle": false,
     "tableResultSettingsMap": {},
     "title": ""
    }
   },
   "outputs": [],
   "source": [
    "data = df_train.limit(1000)\n",
    "features = ['turnaround_time_calc', 'priorflight_isdelayed_calc']\n",
    "\n",
    "va = VectorAssembler(inputCols = features, outputCol= 'features')\n",
    "va_df = va.transform(data)\n",
    "va_df = va_df.select(['features', 'outcome'])"
   ]
  },
  {
   "cell_type": "code",
   "execution_count": 0,
   "metadata": {
    "application/vnd.databricks.v1+cell": {
     "cellMetadata": {
      "byteLimit": 2048000,
      "rowLimit": 10000
     },
     "inputWidgets": {},
     "nuid": "215bf537-f040-472f-ada8-5ae69ee566a8",
     "showTitle": false,
     "tableResultSettingsMap": {},
     "title": ""
    }
   },
   "outputs": [],
   "source": [
    "display(va_df)"
   ]
  },
  {
   "cell_type": "code",
   "execution_count": 0,
   "metadata": {
    "application/vnd.databricks.v1+cell": {
     "cellMetadata": {
      "byteLimit": 2048000,
      "rowLimit": 10000
     },
     "inputWidgets": {},
     "nuid": "3f8e7dcc-74a1-48cd-a748-745bd4d1b810",
     "showTitle": false,
     "tableResultSettingsMap": {},
     "title": ""
    }
   },
   "outputs": [],
   "source": [
    "## Train pipeline\n",
    "(train, test) = va_df.randomSplit([0.8, 0.2])\n",
    "dtc = DecisionTreeClassifier(featuresCol='features', labelCol='outcome')\n",
    "dtc = dtc.fit(train)"
   ]
  },
  {
   "cell_type": "code",
   "execution_count": 0,
   "metadata": {
    "application/vnd.databricks.v1+cell": {
     "cellMetadata": {
      "byteLimit": 2048000,
      "rowLimit": 10000
     },
     "inputWidgets": {},
     "nuid": "15b334ab-2afd-4db7-a154-9bd12b92da14",
     "showTitle": false,
     "tableResultSettingsMap": {},
     "title": ""
    }
   },
   "outputs": [],
   "source": [
    "## Predict on Test\n",
    "pred = dtc.transform(test)  # pred dataframe\n",
    "# display(pred)\n",
    "display(pred.where(F.col('outcome')!=F.col('prediction')))"
   ]
  },
  {
   "cell_type": "code",
   "execution_count": 0,
   "metadata": {
    "application/vnd.databricks.v1+cell": {
     "cellMetadata": {},
     "inputWidgets": {},
     "nuid": "40781058-174a-4cd8-a2d3-0d5f5150efb5",
     "showTitle": false,
     "tableResultSettingsMap": {},
     "title": ""
    }
   },
   "outputs": [],
   "source": []
  },
  {
   "cell_type": "code",
   "execution_count": 0,
   "metadata": {
    "application/vnd.databricks.v1+cell": {
     "cellMetadata": {},
     "inputWidgets": {},
     "nuid": "71578ab2-4b9c-4327-a98a-bd129f48b6b6",
     "showTitle": false,
     "tableResultSettingsMap": {},
     "title": ""
    }
   },
   "outputs": [],
   "source": []
  },
  {
   "cell_type": "code",
   "execution_count": 0,
   "metadata": {
    "application/vnd.databricks.v1+cell": {
     "cellMetadata": {},
     "inputWidgets": {},
     "nuid": "100c3863-e93b-4487-a67d-4bfd66f52900",
     "showTitle": false,
     "tableResultSettingsMap": {},
     "title": ""
    }
   },
   "outputs": [],
   "source": []
  },
  {
   "cell_type": "code",
   "execution_count": 0,
   "metadata": {
    "application/vnd.databricks.v1+cell": {
     "cellMetadata": {},
     "inputWidgets": {},
     "nuid": "d34fb644-91f0-47f3-9117-409c03cfdaad",
     "showTitle": false,
     "tableResultSettingsMap": {},
     "title": ""
    }
   },
   "outputs": [],
   "source": []
  },
  {
   "cell_type": "code",
   "execution_count": 0,
   "metadata": {
    "application/vnd.databricks.v1+cell": {
     "cellMetadata": {},
     "inputWidgets": {},
     "nuid": "c9eac4a4-6f1b-4041-bf63-6c4825b70ff5",
     "showTitle": false,
     "tableResultSettingsMap": {},
     "title": ""
    }
   },
   "outputs": [],
   "source": []
  },
  {
   "cell_type": "code",
   "execution_count": 0,
   "metadata": {
    "application/vnd.databricks.v1+cell": {
     "cellMetadata": {},
     "inputWidgets": {},
     "nuid": "e6898d80-f8c1-49f5-9ef3-cc2e977b3c7b",
     "showTitle": false,
     "tableResultSettingsMap": {},
     "title": ""
    }
   },
   "outputs": [],
   "source": []
  }
 ],
 "metadata": {
  "application/vnd.databricks.v1+notebook": {
   "computePreferences": null,
   "dashboards": [],
   "environmentMetadata": {
    "base_environment": "",
    "environment_version": "2"
   },
   "inputWidgetPreferences": null,
   "language": "python",
   "notebookMetadata": {
    "pythonIndentUnit": 4
   },
   "notebookName": "(EIL Clone) 3.xx-dy-rf-mlp-pipeline-sandbox",
   "widgets": {}
  },
  "language_info": {
   "name": "python"
  }
 },
 "nbformat": 4,
 "nbformat_minor": 0
}
