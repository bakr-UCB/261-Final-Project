{
 "cells": [
  {
   "cell_type": "markdown",
   "metadata": {
    "application/vnd.databricks.v1+cell": {
     "cellMetadata": {},
     "inputWidgets": {},
     "nuid": "242b11e6-dc13-4cb9-878a-09819a738b1a",
     "showTitle": false,
     "tableResultSettingsMap": {},
     "title": ""
    }
   },
   "source": [
    "# Flights data cleaning\n",
    "Erica Landreth"
   ]
  },
  {
   "cell_type": "markdown",
   "metadata": {
    "application/vnd.databricks.v1+cell": {
     "cellMetadata": {
      "byteLimit": 2048000,
      "rowLimit": 10000
     },
     "inputWidgets": {},
     "nuid": "183da413-8777-4f63-befa-15782664a382",
     "showTitle": false,
     "tableResultSettingsMap": {},
     "title": ""
    }
   },
   "source": [
    "## Converting flight data to UTC time zones"
   ]
  },
  {
   "cell_type": "markdown",
   "metadata": {
    "application/vnd.databricks.v1+cell": {
     "cellMetadata": {
      "byteLimit": 2048000,
      "rowLimit": 10000
     },
     "inputWidgets": {},
     "nuid": "5c1dd8dd-5afe-40ae-b954-fd1fe335c41b",
     "showTitle": false,
     "tableResultSettingsMap": {},
     "title": ""
    }
   },
   "source": [
    "### Create time zone reference file"
   ]
  },
  {
   "cell_type": "markdown",
   "metadata": {
    "application/vnd.databricks.v1+cell": {
     "cellMetadata": {
      "byteLimit": 2048000,
      "rowLimit": 10000
     },
     "inputWidgets": {},
     "nuid": "f2395a85-0408-4bb5-98b4-a19272e85cb3",
     "showTitle": false,
     "tableResultSettingsMap": {},
     "title": ""
    }
   },
   "source": [
    "The below code was used to look up the time zone for each airport. The resulting time zone info was saved out to parquet, so from this point on, just load the time zone parquet (see below for path)."
   ]
  },
  {
   "cell_type": "code",
   "execution_count": 0,
   "metadata": {
    "application/vnd.databricks.v1+cell": {
     "cellMetadata": {
      "byteLimit": 2048000,
      "rowLimit": 10000
     },
     "inputWidgets": {},
     "nuid": "ba380239-d0bb-42ff-b393-d56461f65dbf",
     "showTitle": false,
     "tableResultSettingsMap": {},
     "title": ""
    }
   },
   "outputs": [],
   "source": [
    "# !pip install timezonefinder"
   ]
  },
  {
   "cell_type": "code",
   "execution_count": 0,
   "metadata": {
    "application/vnd.databricks.v1+cell": {
     "cellMetadata": {
      "byteLimit": 2048000,
      "rowLimit": 10000
     },
     "inputWidgets": {},
     "nuid": "873c32a9-8b38-468f-b472-298ec8e25e30",
     "showTitle": false,
     "tableResultSettingsMap": {},
     "title": ""
    }
   },
   "outputs": [],
   "source": [
    "# # imports\n",
    "# from pyspark.sql.functions import udf\n",
    "# from pyspark.sql.types import StringType\n",
    "# from timezonefinder import TimezoneFinder\n",
    "# import pytz\n",
    "# from datetime import datetime\n",
    "# from pyspark.sql.functions import col\n",
    "\n",
    "# # load stations data\n",
    "# df_stations = spark.read.parquet(f\"dbfs:/mnt/mids-w261/datasets_final_project_2022/stations_data/stations_with_neighbors.parquet/\")\n",
    "\n",
    "# # get unique airport info from stations table\n",
    "# df_locs = df_stations.select('neighbor_call','neighbor_lat','neighbor_lon').distinct()\n",
    "# display(df_locs)\n",
    "\n",
    "# # define function to look up time zones\n",
    "# def find_timezone(lat, lng):\n",
    "#     tf = TimezoneFinder()\n",
    "#     timezone_str = tf.timezone_at(lat=lat, lng=lng)\n",
    "#     return timezone_str if timezone_str else \"Unknown\"\n",
    "\n",
    "# # define udf for time zone lookup\n",
    "# find_timezone_udf = udf(find_timezone, StringType())\n",
    "\n",
    "# # add time zone column\n",
    "# df_locs = df_locs.withColumn(\"timezone\", find_timezone_udf(col(\"neighbor_lat\"), col(\"neighbor_lon\")))\n",
    "\n",
    "# # save df_time zone info as a parquet file\n",
    "# folder_path = \"dbfs:/student-groups/Group_4_1\"\n",
    "# df_locs.write.parquet(f\"{folder_path}/df_time_zones.parquet\")"
   ]
  },
  {
   "cell_type": "markdown",
   "metadata": {
    "application/vnd.databricks.v1+cell": {
     "cellMetadata": {
      "byteLimit": 2048000,
      "rowLimit": 10000
     },
     "inputWidgets": {},
     "nuid": "930030f1-0075-49df-b697-87e108dd6658",
     "showTitle": false,
     "tableResultSettingsMap": {},
     "title": ""
    }
   },
   "source": [
    "### Apply time zones to flight times for a small sample"
   ]
  },
  {
   "cell_type": "code",
   "execution_count": 0,
   "metadata": {
    "application/vnd.databricks.v1+cell": {
     "cellMetadata": {
      "byteLimit": 2048000,
      "rowLimit": 10000
     },
     "inputWidgets": {},
     "nuid": "700af18d-de94-4414-8b60-a12e79a79b7b",
     "showTitle": false,
     "tableResultSettingsMap": {},
     "title": ""
    }
   },
   "outputs": [],
   "source": [
    "# load data\n",
    "df_airports = spark.read.option(\"header\",\"true\").csv(f\"dbfs:/mnt/mids-w261/airport-codes_csv.csv\")\n",
    "df_flights = spark.read.parquet(f\"dbfs:/mnt/mids-w261/datasets_final_project_2022/parquet_airlines_data_3m/\")\n",
    "df_tz = spark.read.parquet(f\"dbfs:/student-groups/Group_4_1/df_time_zones.parquet\")"
   ]
  },
  {
   "cell_type": "code",
   "execution_count": 0,
   "metadata": {
    "application/vnd.databricks.v1+cell": {
     "cellMetadata": {
      "byteLimit": 2048000,
      "rowLimit": 10000
     },
     "inputWidgets": {},
     "nuid": "2c129ec8-6c38-4909-9cb0-d914fbb5aab6",
     "showTitle": false,
     "tableResultSettingsMap": {},
     "title": ""
    }
   },
   "outputs": [],
   "source": [
    "# start with a very, very small flight data sample\n",
    "tmp_flights = df_flights.limit(10)"
   ]
  },
  {
   "cell_type": "markdown",
   "metadata": {
    "application/vnd.databricks.v1+cell": {
     "cellMetadata": {
      "byteLimit": 2048000,
      "rowLimit": 10000
     },
     "inputWidgets": {},
     "nuid": "6fd8da30-602e-43be-bf0b-b9386b28f1cc",
     "showTitle": false,
     "tableResultSettingsMap": {},
     "title": ""
    }
   },
   "source": [
    "First, we start with some joining, to get the relevant airport codes, and to introduce the time zone info, for both origin and destination airports."
   ]
  },
  {
   "cell_type": "code",
   "execution_count": 0,
   "metadata": {
    "application/vnd.databricks.v1+cell": {
     "cellMetadata": {
      "byteLimit": 2048000,
      "rowLimit": 10000
     },
     "inputWidgets": {},
     "nuid": "3e56294b-1ea1-4974-915d-1373b98ff1e0",
     "showTitle": false,
     "tableResultSettingsMap": {},
     "title": ""
    }
   },
   "outputs": [],
   "source": [
    "# create temporary views\n",
    "tmp_flights.createOrReplaceTempView(\"tmp_flights\")\n",
    "df_airports.createOrReplaceTempView(\"df_airports\")\n",
    "df_tz.createOrReplaceTempView(\"df_tz\")"
   ]
  },
  {
   "cell_type": "code",
   "execution_count": 0,
   "metadata": {
    "application/vnd.databricks.v1+cell": {
     "cellMetadata": {
      "byteLimit": 2048000,
      "rowLimit": 10000
     },
     "inputWidgets": {},
     "nuid": "0485e4b9-5c98-4caf-9c85-ca15ca56fcda",
     "showTitle": false,
     "tableResultSettingsMap": {},
     "title": ""
    }
   },
   "outputs": [],
   "source": [
    "query = \"\"\"\n",
    "\n",
    "WITH origin AS(\n",
    "SELECT  tf.FL_DATE as date,\n",
    "        tf.CRS_DEP_TIME as dep_time,\n",
    "        tf.CRS_ARR_TIME as arr_time,\n",
    "        tf.ORIGIN as origin_iata,\n",
    "        tf.DEST as dest_iata,\n",
    "        a.ident as origin_icao\n",
    "FROM tmp_flights as tf\n",
    "LEFT JOIN df_airports as a on tf.ORIGIN = a.iata_code),\n",
    "\n",
    "origin_dest AS(\n",
    "SELECT  origin.date,\n",
    "        origin.dep_time,\n",
    "        origin.arr_time,\n",
    "        origin.origin_iata,\n",
    "        origin.dest_iata,\n",
    "        origin.origin_icao,\n",
    "        a.ident as dest_icao\n",
    "FROM origin\n",
    "LEFT JOIN df_airports as a on origin.dest_iata = a.iata_code),\n",
    "\n",
    "origin_dest_tz1 AS(\n",
    "SELECT  od.date,\n",
    "        od.dep_time,\n",
    "        od.arr_time,\n",
    "        od.origin_iata,\n",
    "        tz.timezone as origin_tz,\n",
    "        od.dest_iata,\n",
    "        od.origin_icao,\n",
    "        od.dest_icao\n",
    "FROM origin_dest as od\n",
    "LEFT JOIN df_tz as tz on od.origin_icao = tz.neighbor_call\n",
    "),\n",
    "\n",
    "origin_dest_tz2 AS(\n",
    "SELECT  od.date,\n",
    "        od.dep_time,\n",
    "        od.arr_time,\n",
    "        od.origin_iata,\n",
    "        od.origin_tz,\n",
    "        od.dest_iata,\n",
    "        tz.timezone as dest_tz,\n",
    "        od.origin_icao,\n",
    "        od.dest_icao\n",
    "FROM origin_dest_tz1 as od\n",
    "LEFT JOIN df_tz as tz on od.dest_icao = tz.neighbor_call\n",
    ")\n",
    "\n",
    "SELECT *\n",
    "FROM origin_dest_tz2\n",
    "\n",
    "\"\"\"\n",
    "\n",
    "out = spark.sql(query)\n",
    "display(out)"
   ]
  },
  {
   "cell_type": "markdown",
   "metadata": {
    "application/vnd.databricks.v1+cell": {
     "cellMetadata": {},
     "inputWidgets": {},
     "nuid": "5b128dec-4aff-40c9-ae14-90ee778befec",
     "showTitle": false,
     "tableResultSettingsMap": {},
     "title": ""
    }
   },
   "source": [
    "Now we apply the time zones to the departure and arrival times, and convert to UTC."
   ]
  },
  {
   "cell_type": "code",
   "execution_count": 0,
   "metadata": {
    "application/vnd.databricks.v1+cell": {
     "cellMetadata": {
      "byteLimit": 2048000,
      "rowLimit": 10000
     },
     "inputWidgets": {},
     "nuid": "b0162f8b-a6a4-4168-bf40-ab760b4c43e5",
     "showTitle": false,
     "tableResultSettingsMap": {},
     "title": ""
    }
   },
   "outputs": [],
   "source": [
    "from pyspark.sql.functions import udf\n",
    "from pyspark.sql.types import StringType\n",
    "import pytz\n",
    "from datetime import datetime\n",
    "from pyspark.sql.functions import col\n",
    "\n",
    "def create_datetime(yyyymmdd, hhmm, tz):\n",
    "    \"\"\"\n",
    "    Create UTC timestamp from flights table columns\n",
    "    yyyymmdd = FL_DATE\n",
    "    hhmm = CRS_DEP_TIME or CRS_ARR_TIME\n",
    "    tz = time zone from time zone table\n",
    "\n",
    "    Returns UTC time stamp, (cast to string)\n",
    "    \"\"\"\n",
    "\n",
    "    yyyy,MM,dd = yyyymmdd.split('-')\n",
    "    yyyy = int(yyyy) # get year\n",
    "    MM = int(MM) # get month\n",
    "    dd = int(dd) # get day\n",
    "    hh = hhmm//100 # get hour\n",
    "    mm = hhmm%100 # get minute\n",
    "\n",
    "    # create datetime variable\n",
    "    dt = datetime(yyyy,MM,dd,hh,mm)\n",
    "    # apply local time zone\n",
    "    dt_local = pytz.timezone(tz).localize(dt)\n",
    "    # convert to UTC\n",
    "    dt_utc = dt_local.astimezone(pytz.utc)\n",
    "\n",
    "    # return UTC datetime, cast to string\n",
    "    return str(dt_utc)\n",
    "\n",
    "# create_datetime('2015-02-27',901,'America/Chicago')\n",
    "\n",
    "dt_udf = udf(create_datetime)\n",
    "out = out.withColumn(\"dep_datetime\", dt_udf(col(\"date\"), col(\"dep_time\"), col(\"origin_tz\"))) \\\n",
    "    .withColumn(\"arr_datetime\", dt_udf(col(\"date\"), col(\"arr_time\"), col(\"dest_tz\")))\n",
    "display(out)\n",
    "\n",
    "# TODO: handle flights crossing midnight !!!"
   ]
  }
 ],
 "metadata": {
  "application/vnd.databricks.v1+notebook": {
   "computePreferences": null,
   "dashboards": [],
   "environmentMetadata": {
    "base_environment": "",
    "environment_version": "2"
   },
   "language": "python",
   "notebookMetadata": {
    "pythonIndentUnit": 4
   },
   "notebookName": "0.01-eil-flights-cleaning",
   "widgets": {}
  },
  "language_info": {
   "name": "python"
  }
 },
 "nbformat": 4,
 "nbformat_minor": 0
}
